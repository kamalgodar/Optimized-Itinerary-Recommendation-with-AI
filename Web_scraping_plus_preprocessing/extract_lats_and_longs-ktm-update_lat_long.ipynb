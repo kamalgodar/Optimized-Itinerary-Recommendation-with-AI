{
 "cells": [
  {
   "cell_type": "code",
   "execution_count": 1,
   "id": "11983728",
   "metadata": {},
   "outputs": [],
   "source": [
    "#import \n",
    "\n",
    "from selenium import webdriver\n",
    "from selenium.webdriver.common.keys import Keys\n",
    "import time\n",
    "import pandas as pd"
   ]
  },
  {
   "cell_type": "code",
   "execution_count": 47,
   "id": "96b7377a",
   "metadata": {},
   "outputs": [
    {
     "name": "stdout",
     "output_type": "stream",
     "text": [
      "(2345, 6)\n",
      "['Boudhanath Stupa', 'Swayambhunath Temple', 'Pashupatinath Temple', 'Chandragiri Hills', 'Kopan Monastery', 'Thamel', 'Garden of Dreams', 'Namo Buddha (Stupa)', 'Kathmandu Durbar Square', 'Asan', 'Shivapuri Nagarjun National Park', 'Kailashnath Mahadev', 'Dakshinkali Temple', 'Budhanilkantha', 'Hanuman Dhoka', 'The Crematoria', 'Kumari Chowk', 'Narayanhiti Palace Museum', 'Babar Mahal Revisted', 'Basantapur Tower', 'Phulchoki', 'Budhanilakantha Temple', 'Pullahari Monastery', 'National Botanical Gardens', 'Jaganath (Krishna) Temple', 'Indra Chowk', 'Kathesimbu Stupa', 'Akash Bhairav Temple', 'Mandala Street', 'Sankhu Village', 'Amideva Buddha Park', 'Kala Bairav', 'Vajrayogini Temple', 'Astrek Climbing Wall', 'Templo de Changu Narayan', 'White Monastery', 'Taudaha Lake', 'Shechen Monastery', 'The National Museum', 'Nagarjun Forest Reserve', 'Degu Taleju Temple', 'Cathedral of the Assumption of the Blessed Virgin Mary', 'Seto Machindranath Temple', 'Nagi Gompa', 'Freak Street (Jhhonchen Tole)', 'Aarya Ghat', 'Basantpur Dabali', 'Taragaon Museum', 'Boudha Farmers Market at Utpala Cafe', 'Chhango Adventure Canyoning In Nepal', 'Boudha Stupa Thanka Center', 'Kaiser Library', 'The Natural History Museum', 'Guhyeshwari Temple', 'Manakamana Mandir Temple', 'Durbar Marg Street', 'Tribhuvan Park', 'Shiva Parvati Temple', 'Bishal Bazaar', 'Annapurna Temple', 'Maru Ganesh Shrine', 'Ratna Park', 'Thahiti Chowk', 'Nara Devi Temple', 'Military Museum', 'Shanti Spa', 'Gokarneshwor Mahadev Temple', 'Makhan Tole', 'Music Museum of Nepal', 'Kathmandu Fun Park', 'Bhimsen Tower', 'Tridevi Temple', 'himalayan arts gallery pltd', 'Guru Lhakhang Monastery', \"Rani Pokhari (Queen's Pond)\", 'Woodcraft Gallery', 'Kashthamandap', 'Namkha Khyung Dzong Rigdin Choling Monastery', 'Casino Mahjong', 'The Tribhuvan, Mahendra, and Birendra Museums', 'Kashmiri Mosque', 'Divine Yoga Studio', 'Aviation Museum', \"Millionaire's Club and Casino\", 'Nepal Art Council Gallery', 'Gaddhi Baithak', 'Casino Rad', 'Sundarijal Water Falls', 'Shiva Mandir Temple', 'Bagwati Mandir Temple', 'Ghanta Ghar Clock Tower', 'Jamchen Lhakhang Monastery', 'Big Bell', 'Mrigasthali Deer Park', 'Universal Crafts', 'Mero Chitra Wears', 'Casino Everest', 'Maju Dega Mandir Temple', 'Gauri Gaht', 'Monasterio Tibetano Boudhanat', 'Kalikasthan Temple', 'Kirateshwar Mahadev', 'Khawalung Monastery', 'Vishnu Mandir Temple', 'Dolma Treks', 'Chyasin Dega Temple', 'Bhadrakali Temple', 'The City Museum Kathmandu', 'Bachhareshwari\\u3000Mandir Temple', 'Blue Moon Curio Shop', 'Chabdi Barahi Temple', 'Gorakhnath Mandir Temple', 'Singha Sattal (Silyan Sattal)', 'Indoor Sports Arena', 'Mahendreswor Mandir Temple', 'Sara Enterprises', 'Pharping HydroPower Dam', 'Ashok Stupa', 'Dirghaman & Ganeshman Chitrakar Art Foundation', 'Stone Vishnu Mandir Temple', 'Maha Vishnu Mandir Temple', 'Rizvi Brothers Paper Mache Gift Shop', 'Itum bahal', 'Pandra Shivalaya', 'Woodcraft Gallery', 'Buddha Nepal Art Gallery', 'Aviation Museum', 'Handy-Mandy Craft House', 'Karmaraja Mahavihara', 'Shree Tanadevi Temple', 'Bhimsen Sthan Temple', 'Chandragiri Hill', 'Tri Chandra Collage', 'Lokta Paper Craft', 'Kotilingeshwor Mahadev Mandir Temple', 'Dharmadhaatu Stupa', 'Lucky Traders & Exporter', 'Manjushree Temple', 'Shree Bhawani Shankar Temple', 'Direction Exhibition & Convention Center', 'The Charumati Vihara Stupa', 'Brass and Bronze Museum', 'Buddha Park', 'Krishna Temple', 'Bisnumati River', 'Bijeshwari Temple', 'Shobabaghwati', 'Drugon Jangchu Monastery', 'Dhansa Dega', 'Department of Immigration', 'Mahadev Mandir Temple', 'Ram Chandra Temple', 'Espace de visite', 'Manhal Healing', 'Nepal Hiking Team', 'Nepal Eco Adventure', 'Ace the Himalaya', 'Adventure-Pulse', 'Mountain Mart Treks & Expedition', 'Himalaya Holiday Service', 'Mountain Delights Treks & Expedition', 'Nepal Horizon Treks & Expedition', 'The Great Adventure Treks & Expedition - Private Day Tours', 'Himalayan Quests - Day Tours', 'Incredible Treks', 'Magical Nepal', 'Visit Himalaya Treks', 'Thai Nepal Travels and Tours', 'Himalayan Friends Trekking - Day Tours', 'Mountain Holiday Treks & Expedition', 'Third Rock Adventures', 'Himalayan Car Rental Nepal', 'Nepal Ayurveda Home', 'Dream Heaven Adventure', 'Exciting Nepal Treks and Expedition', 'A1 Excursion - Private Day Tours', 'Mosaic Adventure', 'Tramping Himalaya', 'Destination Unlimited Treks & Expeditions', 'Pariwar Holidays', 'Vista Trek', 'Odea Services', 'Ambition Himalaya Treks & Expeditions', 'Osho Vision Treks and Expedition', 'Landmark Discovery Treks –  Day Tours', 'Friends Adventure Team', 'Outshine Adventure', 'Osho Divine Zone', 'Discovery World Trekking', 'Nepal Gateway Trekking', 'Access Nepal Tour & Trekking', 'Trekking Team Group', 'Destination Himalaya Treks and Expedition', 'Earthbound Expeditions', 'Unique Path Trekking & Expedition', 'Travel Maker South Asia', 'Nepal Alibaba Treks & Tours Pvt Ltd', 'Alpine Ramble Treks', 'Info Nepal Treks and Expedition', 'Epic Adventures - Day Tours', 'Hiking Adventure Treks', 'Nepal Hiking Adventure Company - Private Day Tours', 'Satori Adventures', 'Happyland Treks', 'Adventure Nepal Eco Treks - Private Kathmandu Day Tour', 'Nepal Cooking School', 'White Hill Adventure', 'Apex Himalaya Trek and Tour – Private Day Tours', 'Mountain Monarch Adventures - Private Day Tours', 'Himalayan Adventure', 'Nepal Trekking Experts Pvt Ltd', 'Nepal Explore Summit Trek Pvt Ltd', 'Third Eye Adventure', 'Base Camp Adventure', 'Backpacker Treks and Expedition', 'AID Journeys & Adventure', 'Gokyo Treks and Expedition', 'Himalayas On Foot - Day Tours', 'Fewa Trail Treks - Kathmandu', 'High Venture Plus', 'Mountain World Treks - Day Tours', 'Nepal Peak Adventure', 'Escape Himalaya Trek and Expedition', 'Good Vibe Adventure', 'Adventure Himalaya Circuit Treks and Tours - Private Day Tours', 'Adventure Treks Nepal', 'City Motorbike', 'Nepal Yoga Home', 'Himalayan Glacier Trekking - Private Day Tours', \"Trek Nepal Int'l - Day Tours\", 'Trekking Planner - Private One Day Activities', 'Index Adventure', 'Himkala Adventure', 'Mission Himalaya Treks - Private Day Tour', 'Mission Eco Trek - Day Tours', 'Adventure Bound', 'Himalayan Partner Treks & Expedition', 'Adventure Mountain Explore Trek & Expedition', 'World Himalayan Destination Pvt Ltd', 'Nepal Ascent Treks', 'Breakfree Adventures - Private Day Tours', 'Mountain Adventure Trekking (Pvt) Ltd', 'Trekking Team Pvt Ltd - Day Tours', 'Actual Adventure Trekking and Expedition', 'Himalaya Hub Adventure', 'Peace Nepal Treks - Day Tours', 'Himalayan Abode Travels and Tours Treks and Expeditions - Private Kathmandu Day Tour', 'Nepal Wilderness Trekking', 'Explore Himalaya Travel & Adventure - Private Day Tours', 'Himalayan Wonders Day Tours', 'Adventure White Himalaya Treks', 'Himalayan Gateway Trek', 'Seeing Hands Clinic', 'Mountain Sun Valley Treks and Expedition', 'Mountain Ram Adventures', 'Nepali Cooking Course - Day Class', 'Saara Tourism Nepal-Kathmandu', 'Amigo Treks & Expedition - Day Tours', 'Nepal Trek Adventure and Expedition', 'Orbit Nepal Adventure', 'Adventure Vision Treks and Travels', 'SK Handicrafts Export', 'Green Valley Nepal Treks & Research Hub - Day Tours', 'Scenic Nepal Treks & Expedition', 'Outfitter Nepal Treks and Expedition', 'Trekking Guide Team Adventure', 'Funny Nepal Treks & Expedition - Private Day Tours', 'Nature Lovers Treks & Tours', 'Backstreet Academy', 'Unique Adventure International P Ltd', 'Mount Mania Treks & Expedition', 'The Nepal Trekking Company', 'Adventure Master Treks', 'The Everest Holiday', 'Ammonite Adventures', 'Adventure Great Himalaya - Private Day Tours', 'Nepal Private Guide Services', 'Thamel Spa', 'Prime Himalayas', 'Top of the World Adventure', 'Himalaya Guide Nepal', 'Mandala Studio Yoga & Spa', 'Blue Mountain Travels - Private Mountain Flight Day Tours', 'Nepal Social Treks and Expedition', 'Glorious Himalaya Trekking', 'Ananda Natural Therapy', 'Himalayan Planet Adventures Day Tours', 'Himalayan Scenery Treks and Expedition', 'Himalayan Social Journey', 'Socialtours', 'Kathmandu Urban Adventures', 'Great Vision Trek & Expedition - Day Tours', 'Tourist Link Treks and Expedition', 'Explore Kathmandu', 'Kinjjala Spa', 'Himalayan Magic Treks', 'Zen Spa', 'Eyes On Nepal', 'India Odyssey Tours - Day Tour of Kathmandu', 'Himalayan Spirit Adventure Treks and Expeditions', 'Royal Mountain Travel', 'Aiming Adventure', 'High Himalayan Trekking and Expedition - Day Tours', 'Nepal Intrepid Treks and Expedition', 'iTour Nepal Private Day Tours', 'Alpine Eco Trek & Expedition', 'My Everest Trip', 'Mountain Treks Nepal', 'Hikers Haven', 'Nepal Hidden Treks and Expedition P Ltd', 'Nepal Planet Treks and Expedition P Ltd', 'GAP Year Nepal', 'Karnali Excursions - Day Tours', 'Alliance Adventure', 'Kailash Journeys Pvt Ltd', 'Annapurna Foothills Treks & Expedition Pvt Ltd', 'Icicles Adventure Treks & Tours Day Tours', 'Trekking and Tour for Fair Tourism', 'Trek and Adventure Nepal', 'Visit Heaven Treks', 'Manakamana Treks & Expedition Day Tours', 'Langtang Ri Trekking & Expedition', 'Beyond The Limits Trek and Expedition P Ltd', 'Himalayan Joy Adventure', 'AGH Trekking', 'Nepal Tour Guide Team Trek & Expedition', 'Nepal Tibet Tours & Treks', 'Flyeast Nepal', 'Touch The Himalaya Treks & Expedition', 'Marvel Adventure Pvt Ltd', 'Unique Waymaker Treks & Expedition', 'Luxury Holidays Nepal Pvt Ltd', 'Budget Adventure Treks & Expeditions Private Day Tours', 'Nepalorama Trekking', 'Remarkable Adventure Trek', 'Nepal Spiritual Trekking Pvt Ltd - Day Tours', 'Himalayan Dream Team', 'Dolma Treks & Adventure', 'Himalayan Holyland Treks and Expedition', 'High Pass Adventure Pvt Ltd', 'Thin Air Adventure - Private Day Tours', 'Himalayan Healers', 'Sublime Trails', 'Nepal Unique Treks & Expedition - Day Tours', 'Adventure White Mountain', 'Royal Tenshi Treks Pvt Ltd', 'Imperial Nepal Private Day Tours', 'Bharal Adventure', 'Kathmandu Adventure Treks - Day Tour', 'Adventure Club Treks and Expedition Mountain Flight', 'Walk Mountain', 'Sherpa Brothers Treks and Expedition', 'Himalaya Trekking Team Pvt Ltd Private Day Tours', 'Swotah Travel and Adventure', 'Life Dream Adventure Pvt Ltd Private Day Tours', 'Nepal Alternative Treks & Expeditions Pvt Ltd', 'Mount Face Nepal Day Tours', 'Luxury Holiday Treks (P) Ltd', 'Sawar Meditation and Yoga Center', 'Zam Zam Trekking', 'Outdoor Himalayan Treks - Private Day Tours', 'Snowy Horizon Treks & Expedition', 'Crystal Mountain Treks', 'Himalayan Trip Nepal Private Day Tours', 'Transport Hub Nepal', 'Holiday Hiking Team', 'Global Adventure Trekking', 'Adventure Himalaya Nepal', 'Nepal Spa and Wellness pvtltd', 'Adventure Leaders Nepal', 'Nepal Hiking Trek', 'Real Therapy & Beauty Point', 'Nepal Mountain Trekkers - Day Tours', 'Nepal Royal Tourism Holiday', 'Life Door Treks & Expedition', 'Spiritual Excursion Private Limited', 'Trek Nepal Himalayas', 'Couch Adventure Nepal (CAN) - Kathmandu Branch', \"GRG's Adventure Kayaking - Day Tours\", 'Three Jewels Adventures', 'Magic Himalaya Treks', 'Adventure Magic Treks & Expedition', 'Nectar Spa', 'Himalaya Heart Treks & Expeditions', 'Adventure Thirdpole Treks', 'Asian Heritage Treks and Expeditions', 'Mount Fuji Adventure Pvt Ltd', 'Himalayan Trekkers', 'Nepal Promote Treks and Expedition', 'Responsible Treks', 'Social Tourism Nepal', 'Himalayan Single Track', 'Amazing Nepal Holidays', 'Frolic Adventure Pvt Ltd', 'Nepal Mother House', 'Alpine Club Of Himalaya - Private Day Trip', 'Serene Himalaya Treks and Expedition Day Tours', 'Nepal Footprint Holiday Treks - Day Tours', 'Happy Nepal Trek', 'Nepal Spirit Adventure - Private Day Tours', 'Good Karma Trekking  - Day Tours', 'Nepal Guide Treks and Expedition', 'Nepal Hiking', 'Mt Everest Base Camp Trekking', 'Kathmandu Car Services', 'JRN Treks and Expeditions Pvt Ltd', 'Nepal Kanko Treks and Expedition', 'Kamzang Journeys', 'Nepal Pioneer Treks and Expedition', 'High Asia Tours - Private Day Tours', 'Sabbatical Explore Nepal', 'Himalayan Sanctuary Adventure', 'Vyas Treks & Expedition', 'Corsa Nepal Adventure -Day Tour', 'Nepal Tourism Adventure Kathmandu', 'Holidays to Nepal', 'Glory Himalayan Club', 'Everest Experience and Assistance', 'Mountain King Adventure', 'Dal Bhat Power Adventures', 'Nepal Vision Treks & Expeditions', 'Halesi Treks PvtLtd', 'Himalayan Windows Tours', 'Archaic Nepal Adventure', 'Traveltimes Treks', 'Swiss Family Treks & Expedition', 'Wilderness Excursion', 'Sunrise Adventure Trek', 'Sunshine Trekking', 'Insight Adventures Nepal', 'Snow Leopard Trek - Day Tours', 'Buddha Air', 'Nepal Yoga Academy', 'Step On Himalaya', 'Mountain Magic Treks', 'Glacier Nepal Treks', 'Getaway Nepal Adventure', 'Souvenir Trek Pvt Ltd', 'Trekking Trail Nepal - Day Activities', 'Adventure Glacier Treks & Expedition', 'Apex Nepal Treks', 'Nepal Myths and Mountain Trails - Day Tours', 'Skyway Nepal Treks', 'Mega Adventures International', 'Nepal Female Guide - Day Tours', 'Exploring Nepal Treks and Adventures - Day Tours', 'Life Himalaya Trekking', 'Save Himalaya Treks & Expedition', 'Oriental Journeys', 'Himalayan Recreation - Day Tours', 'Mount Glory Treks & Expedition', 'Everest Trekking Routes Pvt Ltd', 'ABC and EBC Nepal Trekking Adventures', 'Goodday Nepal Excursion', 'First Environmental Trekking', 'Nature Explore', 'Himalayan NamoBuddha Travel & Treks Pvt Ltd', 'Himalayan Trekking & Tours', 'Mountain Amantes Adventure', 'Sevenstar Adventure Holidays - Day Tours', 'HoneyGuide | To the Mountains', 'Unique Nepal Adventure Treks & Expedition', 'Corporate Adventure Treks', 'Create Himalaya Adventure', 'Himalayan Mentor', 'Nepal Trek Hub', 'Shakti Travels and Tours', 'Nepal Trekking Routes', 'Asahi Treks & Expedition - Mountain Flight and Helicopter Day Tours', 'Mount Trails', 'Nepal Mountain Hub Treks & Expedition', 'Nepal River Runner', 'Responsible Adventures', 'Golden Himalayan Zone Treks', 'Nepal Climbing Adventure', 'Attractive Travels and Tours', 'Summit Treks and Adventure', 'Hike Himalaya Adventure - Private Day Tours', 'Trekking Mart', 'The Trek Nepal', 'Northern Trekking Team', 'Antique Nepal Treks - Day Tours', 'Across Himalaya Tours & Treks Ltd', 'Nepal Sanctuary Treks - Day Trip', 'Mountain Eco Treks & Expedition', 'Apex the Asia Holidays', 'Adventure Pilgrims Trekking', 'Heritage Spa', \"Sam's Bar\", 'Himalayan Nepal Trek  - Private Day Tour', 'Manikang Nepal Treks and Adventure', 'Rediscover Nepal Treks & Tours Pvt Ltd', 'Eagle Eye Treks and Expedition', 'Admiral Adventure Treks', 'Coldfeet Adventure - Kathmandu Valley Private Day Tour', 'Treks Planner Nepal', 'Welcome Nepal Treks - Day Tours', 'Global Holidays Adventure', 'Aim Nepal Adventure', 'Nepal Excursion Treks Pvt Ltd', 'Wongchhu Peak Promotion', 'Rugged Trails Nepal', 'Himalayan Adventure Nepal', 'Iconic Nepal Tours & Treks', 'Shiva Excursion pvtltd', 'Junket Nepal PvtLtd', 'Awesome Nepal Treks Pvt Ltd', 'Plan Himalaya', 'Adventure Altitude Treks & Expedition Pvt Ltd', 'Caravana Himalaya Adventure', 'Himalaya Chyangpa Nepal Treks and Expedition Pvt Ltd', 'Welcome To My Yard', 'Himalayan Cashmere Manufacturing Company', 'Budget Trekking', 'Mountain Kick', 'Charak Yoga, Thamel Kathmandu', 'Museum of Nepali Art', 'Team Ram Adventure Pvt Ltd', 'Nepal Vehicle Hiring', 'Mountain Experience', 'Highland Expeditions', 'Utmost Adventure Trekking', 'Mission Summit Treks And Expedition', 'Pristine Nepal', 'Adventure Team', 'Nepal Boundary Trekking Pvt Ltd', 'Himalayan Magic Adventures', 'Nepal Trip Planner P Ltd', 'KJ Adventure Nepal Private Limited', 'Merit Adventure', 'World Expeditions', 'Authentic Adventures', 'View Nepal Treks & Expedition', 'Eco Holidays Nepal', 'Caravan Outdoors', 'Bohemian Tours', 'Master Himalaya', 'Nepalgram', 'Mountain King Treks And Expedition', 'Nepal Tour & Trekking Service - Day Tours', 'Adventure Feel Nepal Treks and Expeditions Pvt Ltd', 'Gorkha International Travels - Kathmandu Day Tours', 'Loyalty Spa', 'Absolute HJ Sherpa Trekking Pvt Ltd', 'Dream Tibet Travel & Tours', 'Easy Treks & Expedition P Ltd', 'Travhill', 'Ayurveda Health Home', 'Above the Himalaya Trekking - Private Day Tours', 'Nepal Lion Tours & Treks Pvt Ltd', 'Extollo Adventures', 'Ask The Nepal Adventure', 'Walking The Himalaya Treks & Tours', 'Himalayan Advisor', 'Monterosa Treks and Expedition- kailash Tour package', 'Silver Mountain Adventure Pvt Ltd - Private Day Tours', 'Trek Mania Nepal', 'Exciting Himalaya', 'Graceful Adventure Travel pvt ltd', 'Himalayan Trekking Path', 'Himalayan Leisure, Inc', 'Explore Nepal Adventure Holidays', 'The Asia Adventure Nepal - Day Tours', 'Allied Adventure Travels and Tours', 'All Nepal Hiking', 'Asiana Trek & Tours', 'Musical Adventure Trekking - Day Tours', 'Mountain Hawk Trek - Private Day Tours', 'Friendship World Trek - Day Tours', 'Tranquility Spa - Thamel', 'Adventure Exodus Pvt Ltd', 'Ace Vision Nepal', 'Friendly Nepal Treks', 'Black Diamond Expedition - Private Day Tours', 'Austravel & Tours Nepal P Ltd - Private Day Tours', 'Info Nepal Tours & Treks', 'Summitclimb and Summittrek', 'Tara Himalayan Vision', 'Accent Himalaya', 'Vespa Valley', \"Local Women's Handicrafts\", 'Nepal Kameleon Holidays Pvt Ltd', 'Bold Adventures Pvt Ltd - Day Tours', 'Adventure Gandaki Treks and Expedition', \"Sarmila's Cooking Course Training\", 'Eagle Treks and Expedition P Ltd & Heli Tour Private Day Tour', 'Hi Himalaya Nepal - Treks & Tours', \"Asian Hiking Team's Kathmandu Day Hiking\", 'Annapurna Mountain Bike & Adventure', 'Tour Guide in Nepal', 'Kathmandu Adventures Travel and Tours', 'Bisham Koirala', 'Summit International Travels & Tours', 'Jugal Holidays', 'Creative Adventure Nepal', 'Nepal Trekkers', 'Himalaya Journey Treks & Expedition', 'Footprint Adventure', 'Bluesheep Journeys', 'Advanced Adventures', 'Breeze Adventure Pvt Ltd', 'Amazing Nepal Trek & Expedition', '2Sisters Nepal Cooking School', 'Gorkha Adventure', 'Higher Limits Trek & Expedition', 'Hardcore Nepal Extreme Adventures - Day Tours', 'Lonely Nepal Travels', 'Himalayas On Foot Transport Service', 'Motherland Hiking Team - Private Day Tours', 'Himalaya Sky Travel and Adventure pvtltd', 'Zed Travels', 'Nepal Adventure Pilgrimage Treks and Expedition Pvt Ltd', 'Creative Holidays Nepal', 'Himalaya Message Adventure Private Ltd', 'Nepal Environmental Treks & Expedition', 'Female Tour Guide Nepal  - Private Tour', 'Nepal Highpoint Trekking', 'Holyland Adventure Tours and Travels', 'Magic Expedition Trekking and Tours', 'Mountain Hike Nepal', 'Gokyo Ri Trek', 'Adventure Challenge Centre', 'Asia Exploration Treks', 'Aasra Eco Treks - Private Day Tours', 'Scenic Adventure Day Tours', 'Himalayan Pleasure Trekking - Day Tours', 'Top1Trekking', 'Mountain Tiger Nepal', 'Himalayan Trekking Alliance', 'Mountain Vehicle Nepal', 'Himalayan Dreamland Trekking', 'Lumle Holidays - Private Day Tours', 'Himalaya Destiny Treks & Tours', 'Above and Beyond Trekking - Day Adventures', 'Nature Trail Travels & Tours, Trekking & Expeditions: Day Tours', 'Adventure Imagine - Private Day Tours', 'Snowyoda Expeditions Pvt Ltd', 'Nepal Highland Treks Pvt Ltd', 'WhiteWater Nepal Pvt Ltd', 'Peak Endeavor Day Tours', 'Himalayan Sunrise Trekking and Expeditions', 'Trekking Venue Nepal', 'Nepal Kailash Trekking', 'Sports Tours and Travel', 'Journey Nepal Adventure', 'Top of The World Treks & Expeditions', 'Asian Adventure Trips Pvt Ltd', 'Drift Nepal Pvt Ltd', 'Alfresco Adventure Travel', 'Community Trek', 'Peak Promotion', 'White Himalaya Treks And Expedition', 'GK Majestic Trek', 'Heaven Nepal Adventure', 'Sangrila Trail Walk Trek - One Day tour', 'Tranquil View Treks & Expedition', 'Ever Quest - Trekking & Climbing in Himalayan with Jamling Bhote and team', 'Adrenaline Rush Nepal', 'Trekking For Real Pvt Ltd', 'Vehicles Rental Nepal', 'Friendship Nepal Tours and Travels', 'Ashiyana Vehicle Service', 'Alliance Treks and Expedition PvtLtd', 'All Himalayan Treks - Day Tour', 'Nepal Base Camp Treks', 'Sherpashah', 'Pranamaya Yoga Studio Thamel', 'D & D Treks International - Day Tours', 'Transport Hire Nepal', 'Adventure Aves', 'Nepal Paradise Trek', 'CoreTreks', 'World Trail Finder Adventure', 'High Camp Trekking', 'Noble Treks', 'Kathmandu Spa', 'Adventure Gorkhaland Treks & Expedition Pvt Ltd', 'Malung Treks and Expedition', 'Go For Nepal Treks and Expedition', 'Destination Nepal Tours and Travels - Private Day Tours', 'Alpine Exodus Pvt Ltd', 'Well Plan Trekking', 'Mountain Air Guided Adventures - Day Tours', 'Annapurna Encounter', 'Yarsa Treks', 'Happy Himalayan Treks Pvt Ltd', 'Sambodhi Yoga Studio', 'Elite Trekkers', 'Mountain Sherpa Trekking & Expeditions', 'Kailash Himalaya Trek', 'Mountain Layers Treks and Expedition Pvt Ltd', 'Highlander Trekking and Expeditions - Private Day Tours', 'Adventure Himalayan Travels & Treks', 'A One Nepal Trek Pvt Ltd', 'Eco Tourism Adventure', 'Pilgrims Book House', 'Himalayan Smile Treks & Adventures - Chandragiri Day Hiking', 'Ascent Holidays', 'Devo Adventure - Day Tours', 'Alpine Asian Treks and Expeditions - Private Day Tours', 'Explore Nepal Holidays', 'Exguides Treks & Expeditions  - Day Tour', 'Soul Himalaya Treks and Tours', 'Massif Holidays', 'Signature Tours Pvt  Ltd', 'Down To Earth Adventure', 'By Mountain People', 'Adventure Tour Nepal', 'Rainbow Safari Tours & Travels P Ltd', 'Nepal-Tibet\\xa0Trekking - Private Day Tours', 'Himalayan 360 Pvt Ltd', 'Nepal One Adventure Pvt ltd', 'Hoshizora Treks & Tour', 'Global Nepal Treks', 'Pigeon Travels-Nepal', 'Adventure Land Nepal', 'Ecstatic Himalaya', 'Walkers Expedition', 'Institute of Natural Medicine', 'Friendly Pashmina Export', 'Royal Holidays Treks & Expeditions', 'Nepal Pyramids Trekking & Climbing', 'Take Me Trekking', 'Himalaya Arirang Trek Private Limited - Kathmandu Sightseeing', 'Holy Sherpa Visioin Treks & Travel', 'Sawasdee Nepal Treks and Tours', 'Nepal Ecology Treks', 'Big Sky Treks & Expeditions', 'Heaven Himalaya', 'Mountain Ascend Treks', 'Exotic Mt Treks Pvt Ltd', 'Nepal Altitude Treks & Expedition Private Limited', 'Baniya Travel', 'Mystic Himalaya Trekking & Expedition', 'Sole Encounters Nepal', 'Mother Land Nepal Trekking & Expedition', 'Himalaya Land Treks & Expedition', 'Himalaya Travel Adventures', 'Raya Tours and Travels - Private Day Tours', 'Alpine Glacier Treks', 'Waiba Adventure Trek', 'Samsara Trekking', 'Pathfinder Treks & Expedition', 'The Himalayan Odyssey', 'Easy Trip Nepal', 'Himalaya View Treks', 'Sherpa Guide Nepal', 'Euro-Asia Tours and Travels - Day Tours', 'Sherpa Holidays', 'BMS Adventures', 'Mountain Top Travels', 'Adventure Speed - Private Day Tours', 'Boundless Himalayas Trekking and Expedition Pvt Ltd', 'Blossom Expeditions Pvt Ltd', 'Mountain River Rafting - Private Day Rafting', 'Excellent Himalaya Trek and Expedition', 'Ajay Treks & Expedition Pvt Ltd', 'Sunrise Jewelry Making Classes', 'Upscale Adventures', 'Heian Treks & Expeditions', 'Encounters Nepal', 'Ultimate Descents Nepal', 'Smile Adventure and Tours -  Day Tours', 'Trek into Thin Air', 'Team Himalaya Pvt Ltd', 'Ace Holiday Treks', 'Distinctive Nepal', 'Moonlight Nepal Trekking and Adventure', 'Amazing Nepal Adventure', 'Epic Rides Nepal - Mountain Biking Trips', 'Himalayan Suite Spa and Restaurant', 'Global Treks & Expedition', 'Approved Holidays', 'Snow View Trek & Expedition', 'Nepal Adventure Team', 'Mountain Trotters Treks and Expedition - Day Tours', 'Himalayan Leaders', 'Bidur Adhikari', 'Trekadviser', 'Forever Trek Nepal', 'Gorkha Zone Khukuri House', 'Lhasso Adventure', 'Mountain Rock Treks And Expedition', 'Higher Path Treks & Expedition', 'Eco Himalaya Treks & Travels', 'Liberty Holidays', 'Santosh Gauli, Nepal Everest Guide- Day Hike', 'iTREK Everest', 'Himalaya Journey', 'Himalayan Hikers Expedition', 'Hiking Himalayas Trek and Expedition Private Day Tours', 'Himalayan Exodus Treks & Tours', 'Hike Nepal', 'Wind Horse Adventures', 'Travel Pinto', 'Nepal One Tours & Travels', 'Blue Himalaya Tours & Travels', 'Shishir Thapa', 'Everest Irish Bar', 'Open Trail Treks', 'Vehicles Hire Nepal', 'Pioneer Adventure', 'Time in Nepal', 'We Trek Nepal', 'Mount Heaven Spa', 'White Himalayan Adventure Treks', 'Overland Vehicle', 'Rising Adventure', 'Vehicles Nepal', 'Padma Healing Arts', 'Shambhala Holidays', 'Nepal Holiday Trek - Langtang Heli Tour', 'Ace Holidays - Day Tours', 'Alpinetrav Treks & Expeditions', 'Trek Ape', 'Nepal Himalayan Hiker Trek & Expedition', 'Expedition HimalayaCom Pvt Ltd', 'Big Smile Nepal', 'Circuit Nepal Trek & Expedition', 'Cast Holiday Pvt Ltd', 'Shalom Treks', 'Buna Treks & Expedition - Private Day Tour', 'Mark Shrestha - My Tour Guide in Nepal', 'Namaste Spa', 'Sherpa Society Trekking', 'The Explore Nepal', 'Beyul Travel and Treks', 'Glacier Adventure Company - Day Tours', 'Nepal Nomad Trekking', 'Adventure Victory Team', 'Incredible Himalayan Sherpa Adventure Pvt Ltd', 'Mount Fishtail Adventure - Day Tours', 'Love Kathmandu Walking Tours', 'Reasonable Treks And Tour', 'Neo Transports', 'Trek Around Himalayas', 'Himalayan Hermitage', 'Holiday Mountain Treks - Private Day Tours', 'Desire Adventures', 'High Spirit Treks and Expedition Nepal', 'Himalaya Darshan Treks', 'Parikrama Treks & Expedition - Day Tours', 'Tourist Vehicle Service', 'Explore Nepal Mountain - Kathmandu', 'Himalayan Trails', 'Adventure Sports Nepal', 'Trek Excursion', 'Safe Holiday Adventure', 'Nepal Dream Path', 'Expert Asian Tours and Travel - Day Tours', 'Himalayan Holidays', 'Hope Treks', 'Kathmandu Paragliding', 'Himal Eco Treks', 'Adventure Sherpa Tracks', 'Nepal Helicopter Tour', 'Accessible Adventure', 'Snowland Treks & Expedition', 'Success Adventure Treks', 'Orbit Alpine Adventure', 'Jhamka Trekking Team', 'Seeing Hands', 'Vision Adventure Nepal', 'Swissa Rafting & Trekking Expedition', 'Real Himalaya Private Day Tour', 'Yatra Tours and Travels', 'Nepal Hiking Himalaya', 'Sea To Summit Trekking', 'Tashi Delek Nepal Treks and Expeditions', 'Himalayan Adventure Sports', 'Mantra Adventure', 'Himal Mandap Treks & Expedition - Private Day Tours', 'Himalayan Travel Partner', 'Kailash Adventure', 'Adventure Solu Trekking & Tour', 'Nepal Treks and Tour', 'Namaste Nepal Trekking & Research Hub Pvt Ltd', 'Nepal Environmental Treks & Expedition - Flight Day Tour', 'Eve Holidays', 'The Himalayan Journeys Nepal', 'Kedar Craft', 'Asia Experiences', 'Amazing Himalaya Trekking Pvt Ltd', 'Adventure Ascent', 'Ananya Holidays - Private Day Tour', 'Pink Mountain Travels and Excursions - Private Day Tours', 'Sherpa Expedition & Trekking', 'Pyrenees Nepal Treks and Trails', 'Adventure High Mountain', 'Himalaya Sunrise Treks And Expedition PvtLtd', 'Leaf Holidays Treks & Expedition', 'W Adventures Nepal', 'Makalu Adventure', 'Trek in Nepal Peak Adventures', 'Firante Treks and Expeditions', 'Himali Dreams', 'Yatri Car Rental', 'Sacred Summits', 'Himalaya Family Adventure', 'Lion Heart Travel And Tours', 'Himalayan Eco Treks & Travel', 'See Nepal Travel & Adventure - Day Tour', 'Himalaya Dream Adventure', 'Friendship Cooking School', 'KP Treks', 'Din Travel and Tours PvtLtd', 'Au Coeur Du Nepal Treks and Expedition', 'Randonnee Nepal Treks', 'Gaurisankar Himalaya Treks and Expedition', 'Independent Trekking Guide Cooperative', 'Brave Heart Himalaya Treks', 'Adventure All Nepal Treks - Day Tours', 'Lig Lig Travel', 'Seven Women', 'Timeless Spa', 'Vertex Holiday', 'Eco Ventures Treks and Expedition', 'Going Nepal Pvt Ltd, Tailor-made DMC in Nepal', 'Mega Treks & Expedition -Private Day Tours', 'Exciting Nepal Holidays Treks', 'Trekking Plus', 'Everest Glacier Trek Pvt Ltd', 'Home Of Treks & Extreme Expedition pvt ltd', 'Nepal Holiday Makers Tours and Travels', 'Nepal Big Mountain Travel Company', 'Adventure Alpine Gorkha Treks & Expeditions Pvt Ltd', 'Serenity Spa', 'Incredible Adventure Nepal', 'Revival Nepal Adventure', 'Overland Trek Nepal', 'Wild Tracks Nepal - Himalayan Motorcycle Journeys', 'Wild Adventure Nepal', 'Regulus Treks and Expedition', 'Alpine Holidays Pvt Ltd', 'Trek With Ngima', 'Himalayan Hub', 'Three Diamond Adventure', 'Osho World Adventure', 'Travel Away Treks and Expedition', 'Access The Asia', 'Marron Treks - Day Tours', 'Trek Guiders', 'Transportation Link Nepal', 'Kundalini Sound & Herbal Therapy', 'Snow Dragons Nepal Treks', 'Travel Umpire', 'Himalayan High Spirits Adventures', 'Hiking Nepal', 'Himalayan Asia Treks', 'Ecological Treks Private Limited - Day Hiking Tours', 'Classic Escapades', 'Broad Adventure - Day Tours', 'Beyond Borders Ethical Adventures', 'Marvel Treks And Expedition', 'Spa Samsara', 'Alaya Holidays', 'Mountain Path Treks & Expedition', 'Dream Discovery Treks Pvt Ltd', 'Dus Travel', 'Trekking Through Nepal', 'Holiday Hiking', 'Adventure Highpass', 'High Camp Adventure', 'Himalayan Rock Treks & Expedition', 'Pure Adventure Nepal - Day Tours', 'Partages Népal Treks', 'Connections Nepal Treks', 'Global Link Tours & Travel', 'Eye On Himalaya', 'Sherpanomads', 'Yeti Trail Adventure - Day Tours', 'SASANE Sisterhood Trekking and Travel', 'Hairy Yak Adventures', 'Golden Nepal Holidays PvtLtd', 'Adventure Discovery Treks & Expedition', 'Gandaki Village Trekking and Travel', 'Nepal Recreation', 'Om Holidays Tour & Trek', 'Buddha Bar', 'yoga & meditation retreat with monks', 'Wayfarers Himalaya Journeys', 'Mountain Brave Adventures', 'Himalaya Discovery Adventures', 'Himalaya Thunder Treks Day Tours', 'Glacier Family Treks & Expedition', 'Himalayan Exploration Treks', 'Madam Tours', 'Hike On Travel and Trek Pvt Ltd', 'InspireU Adventures', 'High Route Adventure', 'TREKT Himalaya', 'The Himalaya Trekking Company', 'Shin Haru Treks & Expedition - Day Tours', 'Adventure Thamserku', 'Shepherd Holidays', 'HST Adventures', 'Sherpa Guides Nepal Treks & Expeditions PvtLtd', 'Northstar Voyage', 'Laser Travel and Tours PLTD', 'Climb High Himalaya', 'Trek to Nepal', 'World Alpine Treks', 'Reliance Trekking', 'Swan Valley Treks & Expedition', 'Himalayan Friendly Treks', 'Ideal Nepal Tours and Travels', 'Nepal High Trek & Expedition', 'Nepal Everest Adventures', 'Kara Pashmina', 'Asian Adventure Treks and Expedition - Nepal Mountain Flight Day Tours', 'Rajendra Ramtel', 'Odyssee Nepal Trekking', 'Taleju Adventure', 'Highland Eco Trek', 'UNLIMITED HIMALAYA ADVENTURES PVT LTD', 'Pleasant Path Treks And Expedition', 'Api Himal Treks & Expedition', 'Proud Nepal Travel and Expedition', 'Sasane - Momo Cooking Class', 'Himalayan Entrance Treks PvtLtd', 'Evergreen Tours', \"Nomad's Land\", 'My Asia Holidays', 'Elephant Tours', 'Uma Holidays Travels & Tour', 'Nepal Yoga Teacher Training & Retreat Center', 'Trekking Encounters Nepal - Day Tours', 'Spa Prana', 'Walkabout International', 'Kathmandu Sport Climbing Center', 'Ace Heritage Nepal  Private Day Tour', 'Rustic Himalayan Adventure', 'Shiva Treks and Expeditions', 'Kathmandu Center Of Healing', 'Beauty Spa Hub', 'Nepal Mountain Lovers Treks and Expedition (P) Ltd Day Tours', 'Explore Dream Nepal Tours', 'Adventure World Club', 'White Lotus Adventure', 'World Heritage Treks - Private Day Tours', 'Nepal Adventure Point', 'Kingfisher Adventure & Treks', 'Himalayan Adventure Intl Treks & Expedition', 'Book Cab Now', 'Adventure Gaurishankar - Day Tours', 'Friendship Trekking Pvt Ltd', 'Alpine Kailash Trek', 'Alpine Journeys Treks & Expedition - Private Day Tours', 'Himalayan Vacation Treks & Expedition Pvt Ltd', 'Guidea Treks & Expedition - Day Tours', 'Discover Altitude', 'Nepal Holiday Treks and Tours', 'Boss Adventure', 'Keep Walking Nepal Treks and Expeditions', 'Green Hiker Treks Chisapani Private Day Trip', 'Jatra Travels', 'Miteri Nepal International Trekking', 'Dream Himalaya Adventures Pvt Ltd', 'Himalayan Icefall Trekking', 'Explore Vacation Pvt Ltd', 'Nepal Mountain Bike Tours', 'Mega Mount Trekking & Expedition', 'Bike Hub', 'Beside The Himalayan Treks', 'Buddha Treks Group', 'Nepal Female Trek - Day Tours', 'Great Panorama Treks & Expedition', 'Nepalese Trekking', 'Mountain Miracle Treks and Expedition Pvt Ltd', 'Peregrine Treks and Tours', 'Salvation Travel', 'Travel With Me Nepal', 'Nepal Trail Finder Treks & Expedition', 'Adventure Tansen Trek', 'Explore Himalayan', \"All Trekker's Team\", 'Rainbow Adventure Treks & Tours', 'Himalaya Walking Tours and Travels', 'Ktenzing Adventure', 'Off The Beaten Path Trek', 'Footloose in the Himalaya Pvt Ltd', 'Apex Himalaya Treks & Expedition', 'Base Camp Excursion', 'Travel to Himalayas Pvt Ltd Nepal', 'Red Rose Travel, Tours and Treks PLtd', 'Travel Max Guide - TMG Adventure', 'Yala Adventure Pvt Ltd', 'Nepal Wonders Treks', 'Cultural Treks & Expedition', 'Khumbu Adventures', 'Trail Blazer Travels & Tour P Ltd', 'Pranamaya Yoga', 'Namaste Treks', 'Everest Tour Nepal Treks & Expedition Pvt Ltd', 'Nepalese Pashmina & Cashmere Shop', 'Crimson Nepal Adventure', 'Go Trek Nepal Day Tour', 'Himalayan Ski Trek', 'Nepal Mountain Company Pvt Ltd', 'Himalayan Challenge Treks', 'Himal Tourism PvtLtd', 'Trexmount Ventures', 'Mountain Routes', 'Everest Extreme Adventure', 'Friday Travel Nepal', 'Blue Lake Travels And Tours Pvt Ltd', 'Hidden Journeys Private Day Tours', 'Cheap Trip Nepal and Himalaya Adventure Group', 'Best Treks In Nepal -  Nepal Tour Packages : Best Treks Ghorepani Poon Hill Trek', 'Hello Travels', 'Adventure Mountain Treks and Expedition (P) Ltd', \"Neeru's Spa at Shivapuri Heights Cottage\", 'HImalayan Glow Treks & Expedition', 'Adventure Kora', 'Peaches The Wax Bar', 'Mountain Hiking and Trekking - Day Tours', 'San Trekking Nepal', 'Shambhala Trekking', 'Duke Nepal Adventure', 'Plan Holidays Travel and Tours (P) Ltd', 'Advent Himalaya Treks', 'Himalayan Destinations', 'Himalayan Discovery Trek', 'Saribung Adventure - Day Tour', 'International Sherpa Adventure Private Day Tours', 'Baber Mahal Revisited', 'Yeti Travels - Private Day Tours', 'Green Society Adventure', 'Nepal Music Gallery', 'Northcliff Treks & Expedition', 'Roof of the Himalayas', 'Nature Connection Treks & Tours', 'East and West International Tours and Travels - Private Day Tours', 'Mountain Expedition Nepal (MEN) - The Expedition Expert', 'Water By Nature - Nepal', 'Himalayan Trail Finder Adventure Center', 'Base Camp Hike', 'Protrek Adventure', 'Vintage Travels & Tours', 'Far Out Nepal', 'Yoga With Chintamani', 'Eco Holidays Asia', 'Crusade Himalaya', '8000 Expeditions', 'Fishtail Tours & Travels', 'Yatri Spa', 'Annapurna Trekking Agency', 'Adventure Mountain Nest', 'Best Nepal Trekking', 'Himalayan Vision Treks', 'Golden Nepal Trek & Expedition', 'My Nepal Treks and Expedition Pvt Ltd - Private Day Tours', 'Mountain Guide Trek & Expedition', 'Patasi Cashmere', 'Nature Heaven Treks and Expedition', 'Tranquility Spa - Soaltee Crowne Plaza', 'Adventure International Trekking', 'Nomadic Nepal', 'Holy Mountain Treks', 'Himalayan connection', 'Om Singing Bowls & Healing hub', 'High Five Adventures', 'Himalayan Yogi Adventure', 'Tailored Treks and Expeditions', 'Apsana International Treks and Expedition Private Limited', 'Swami Narayan Travels Pvt Ltd', 'Himalayan Snow Treks and Expedition', 'Travelsmith Nepal', 'Adventure Mountain Club', 'Bespoken Himalayan Treks', 'Bikemandu', 'Wanderlust Yoga', 'Nepal Glory Treks', 'Family Adventure Treks and Expedition - Private Day Tours', 'Himalayan Treks', 'Outdoor Compass Trekking Shop', 'Om Holidays Tour and Trek Private Limited', 'New Barber Shop', 'Mission Nepal Holidays - Day Tours', 'Holistic Health Yoga Studio', 'Altimate Himalaya', 'Himalayan Eco-Culture Treks & Research Expeditions', 'Smiling Buddah Trekking & Cultural Tours', 'Nepal Yetiraj Treks', 'Trail Himalaya', 'Asian Mystery Treks - Private Day Tours', 'Z Store', 'Golden Gate Holidays Travels & Treks', 'Happy Holiday Treks and Expedition', 'Mount Adventure Holidays', 'Everest Base Camp Helicopter Tour', 'Wellness Organic Club - Spa', 'Himalaya Kailash Travels & Tours', 'Skyline Treks and Expedition Pvt Ltd Day Tours', 'Shankarapur Paragliding', 'Hole in the Wall', 'Trek Leader Expeditions - Day Tours', 'Adventure Mountain Express', 'Helping Hand Handicrafts', 'First Himalayan', 'Emerging Nepal Trek - Kathmandu Day Tour', 'Great Nepal Travels - Kirtipur City Sightseeing Tour', 'Soulful Nepal Holidays Pvt Ltd', 'Tripdeal365', 'Heavenly spa', 'Namaste Treks And Expeditions Pvt Ltd', 'Himalayan Circuit', 'AY Adventure Treks & Expedition', 'Nepal Inside Out Treks & Tours', 'Nepal Glacier Treks & Expedition', 'Everest View Treks And Expedition', 'Grande Adventures', 'Alpine Explore Nepal - Day Tours', 'Avishek Paudel', 'Mystik Mountains Adventure and Holidays', 'Ritual Thanka', 'Nepal Everest Base Camp Trekking Company PvtLtd', 'Ace Transport', 'Himaland Adventure - Nepal', 'vnepalcom', 'Pilgrims Travel & Tours', 'Passages Nepal Pvt Ltd', 'Great Nepal Treks & Expedition Pvt Ltd', 'GeTS Holidays Nepal', 'Foot and Shadows Private Day Tours', 'Royal Mountain Trekking Nepal Pvt Ltd', 'Nepalaya Spa', 'Real Adventure Nepal - Private Day Tours', 'Well Adventure Tours and Travel', 'Kamana Transport Service', 'Aspiration Adventure', 'DMT Adventure', 'Bodhi Tours and Treks', 'Hidden Paradise Adventure', 'MyTrip2Nepal', 'Treks Himalaya', 'Corporate Travel Private Tours', 'Adventure 14 Peaks', 'Inland Expeditions', 'Kathmandu Holiday Tours & Travels', 'FlashpackerConnect', 'Om Sherpa treks', 'Amrita Craft Pvt Ltd', 'Vista Adventure Nepal', 'City & Guides', 'Asia Buddhist Tours & Treks', 'Miracle SPA', 'Pinnacle Treks and Expedition', 'Nepal Himalayan Sherpa Adventure', 'Amazing Authentic Treks', 'Lets Go Hiking Nepal Treks', 'Mountain Challenger Trek and Expedition', 'Yogi-nomad', 'Adventure Steps Nepal', 'Royal Himalayan Safari', 'Himalayan club Tours and Travel', 'Club OMG', 'Sisa Holidays Tours', 'Medieval Tours & Travels', 'Private Nagarkot Hiking Day Tour', 'Touch Kailash Travels & Tours', 'Lets Trip Nepal', 'Galaxy World Travels', 'Superb Catalyst Trekking and Tour PvtLtd', 'De Himalaya', 'Community Homestay Network', 'Alliance Treks and Expeditions', 'Tibetan Naro Tsalung Yoga & Mindfulness', 'Himalayan Trails Trekking & Climbing Pvt Ltd', 'Summit Nepal Trekking - Day Tours', 'MyNepalonline', 'Everest Vacation', 'Altitude Himalaya', 'Gallery Himalaya Treks & Expedition', 'Zen Adventure Holidays', 'Hiker Himalaya Treks & Expedition Pvt Ltd', 'Namaste Journeys', 'Metro Everest Treks & Expedition', 'Plan Nepal Treks & Expedition', 'Thamel Travels and Tours', 'The Blue Space Nepal', 'Incredible Mountains', 'Anu Treks International - Private Day Tours', 'UpHimalayas', 'Base Camp Everest trek', 'Everest One', 'Star World Tours & Travels P Ltd', 'Karma Holidays', 'Everest Cooking Class and Meal in a Kathmandu Grill Restaurant & Wine Bar', 'Trekking the Himalaya', 'Red Reach Himalaya Trek', 'Nature Knit', 'Grade Five Adventures Nepal', 'Ski Guides Nepal', 'Ace Hiking', '8 Eyes Travel', 'Himalayan Wanderer - Private Day Tours', 'Masseur SPA', 'One Tree Stop', 'Trip Concern Pvt ltd', 'AmaDablam Adventures', 'Tenjin Eco Trek', 'Himalaya Caravan Adventure', 'Traveling Spoon', 'Rum Doodle', 'Alpha and Omega Yoga Center', 'Nepal Dream', 'The Himalayas', 'Tranquility Spa', \"Shona's Alpine\", 'Himalayan Wild Treks', 'Ganesh Himal Trekking & Tours', 'Beat Trekking', 'Navigate Outdoor', 'Paradise Destination', 'Nepatrek', 'Mactrek & Expedition (P) Ltd - Helicopter Day Tours', 'World Highest Trek', 'Trip To Nepal', 'Beyond Base Camp Treks', 'Tiger Encounter', 'Nepal Treks Tours', 'Trek With Ngima', 'Rhododendron Adventure', 'Everest Mountain Bike - Day Tours', 'Carena Trek & Adventure', 'Himalayan Travel Consultant', 'Diana Travels & Tours PVTLTD and Diana Trekking', 'Bootprints', 'Botanical Treks & Excursion', 'Swiss - Nepal Family Trekking & Expedition', 'Nepal Motorbike Tour', 'Nepal Venture Treks & Expedition Pvt Ltd', 'Ajay Dahal', 'New Road Travels', 'Nepal Everest Himalaya Hiking Pvt Ltd', 'Everest Flight (P) Ltd', 'Himalayan Companion Treks and Expedition PvtLtd', 'Sasane Sisterhood Trekking and Travel', 'Adventure Blossom Treks and Expedition PvtLtd', 'Great Everest Trek', 'EliteTreks', 'Himalayan Spa, Thamel', 'One Life Adventure Team', 'Visit Himalaya Treks', 'Goreto Treks', 'Danphe Adventure', 'Oriental Journeys Tours', 'VSN Tour & Treks Nepal', 'Messenger Tours and Travel', 'Wild Yeti', 'Tribeni Trek', 'Rafting Star', 'Mercy Holidays', 'Himalayan Excursion Nepal', 'Together Nepal Travel & Tours', 'Explore Dolpo', 'Tealaya', 'Yatri Nepal Adventures', 'Lovely Nepal Tours & Travels', 'Photo Travel', 'Asia Vision Treks & Tours, Nepal', 'Trek Venture Nepal PvtLtd', 'Himalayan Flights', 'Hi On Life Adventures Pvt Ltd', 'Ganga Jamuna Adventure Treks & Expedition', 'Adventure Mountain Guide Team', 'Temples and Mountain Tours', 'AAA Transport', 'Leisure Time Nepal Travels & Tours', 'Tranquility Spa - Lazimpat', 'Himalayan River Operator Nepal - Private Day Tours', 'Himalayan Local Guide', 'Rousing Adventure', 'Ramdung Trek and Expedition - Private Day Tours', 'Himalayan Yatri Trekking', 'Nature House Treks & Expedition - Day Tour to Shivapuri', 'Himalayan Cooking School', 'Mount Summit Treks', 'Sherpa Himalaya Treks & Expedition Pvt Ltd', 'Himalayan Aster Treks', 'Active Everest Trek & Expeditions', 'Yuai Clinic', 'Clear Line Travel and Tours', 'Manaslu Expert', 'Happy Feet Travel', 'Cartipur', 'ROBINSON CRUSOE HOLIDAYS', 'Himalayan Glory Travels and Tours - Day Tours Kathmandu', 'Trekking Explore Nepal', 'Scenic Mountain Travels & Tours', 'Om Shanti Spa', \"Legend's Khukuri Gallery\", 'Ayatana Spa', 'Alpine Exodus', 'A One Treks', 'Holiday Tours Nepal', 'IN -OUTDOOR Trekking', 'Windhorse Stables', 'Nepal Himalayas Trekking', 'Nepal Authentic Treks & Expeditions', 'Nepal Rudraksha (Himalaya Rudraksha Bhandar)', 'Touching The Void Trekking Nepal', 'Car Hub Nepal', 'Off Road Nepal PvtLtd', 'Nepal Handloom Silk industry', 'Himalaya Treks Nepal', 'Global Axis Travels', 'Chandika Homestay', 'Sonu Tours and Travels pvt ltd', 'HourGlass', 'Farouttrek', 'Rupakot Holidays', 'Boundless Adventure PLtd', 'Simrik Air', 'Climbing Himalaya', 'Best Treks Nepal PLtd', 'Cinema Under The Moon', 'Native Everest Treks Pvt Ltd', 'Mission Nepal Holiday - Day Tour', 'Anil Manandhar', 'Lead Nepal Treks Pvt  Ltd', 'PersijsNET', 'Trek Through Nepal', 'Moonline Tours', 'Manaslu Base Camp Trek', 'Adventure Mila Travels & Trekking', 'Indreni Nepal Trekking', 'Life & Journey Tour & Adventure Pvt Ltd', 'Langtang Treks Nepal', 'Gratitude Travels', 'Nepal International Treks', 'Pure Nepal Home Made Spices & Tea Center', 'Transport in Nepal', 'Yakky Tours', 'Eco Foot Spa', 'Helicopter Tours Nepal', 'Himalayan Range International Treks & Expedition', 'Malka Travel and Tours', 'Apsara Treks', 'Wild Stone Adventure', 'Rossfit Optimising Performance', 'Glance Himalaya Tours', 'iexperiencelocal', 'Solukhumbu Treks and Expedition', 'Holiday Mountain Treks & Expedition', 'Himganga Treks and Expedition', 'Everest Base Camp Helicopter Tour', 'Simrik Real Nepal Treks & Expeditions', 'Tibet Tours Nepal', 'Wanderlust Himalaya Adventures', 'VinyasaNepal', 'Kathmandu Day Tours', 'Majestic Travel and Tours', 'Precious Adventures', 'Escape Nepal Holidays', 'Astha Adventure Treks & Expedition', 'Absolute Himalaya Treks & Expedition Pvt Ltd', 'Leisure Aim Travels & Tours', 'GoNepal', 'Nepal viaje', 'Himalayan Waves Trekking', 'The Tour Trek Travel Nepal', 'Everest Adventures Team', 'Mountain Spirit Adventure', 'Jomsom Trekking', 'Magical Trekkers', 'The Classic Outdoors', 'Gold Mountain Nepal Treks & Expeditions', 'Seven Summit Treks', 'Tea House Trek', 'Nepal Guide Service', 'Nepal Trekking Trails', 'Nepal Alsace Treks & Expedition', 'Tour HQ', 'Sansui Treks & Expedition', 'Himalaya Orthodox Organic Tea Nepal', 'Nepal Trekking in Himalayas Pvt Ltd', 'Peregrine Treks and Expeditions', 'New Era Holidays Treks and Expedition', 'Happy Hari Trek & Expeditions', 'Monalisa Exclusive Textiles', 'Oriental Holidays', 'Himalaya Hikes Pvt Ltd', 'Apex Nepal Adventure Pvt Ltd Day Tours', 'Community Action Treks', 'Sealinks Holidays PvtLtd', 'Spiritual Excursion', 'Ethic Himalaya Treks & Expedition', 'Nepal Holiday', 'Lhasa Gift House', 'Alpine Excursion Treks and Expedition', 'Tour in Kathmandu - Day Tours', 'Serenity Tours and Treks', 'Visit Nepal 2020', 'Gothic Rave', 'Nepal Kumari', 'Sunrise Export', 'Ananda Wellness Center', 'Chito Ramro Laundry', 'Trekking Top Nepal', 'Bochi-Bochi Treks PvtLtd', 'Back Streets of Kathmandu', 'Gorkha Treks', 'Malla Treks', 'Aventura Trek Nepal', 'Skybuzz Travels and Tour Nepal', 'Tours & Treks Mountain Nepal - Day Tours', 'Shilpee Theatre Nepal', 'Apoorva Tours & Travels', 'Gems Paradise', 'MD Adventure Travel & Tours Pvt Ltd', 'Snow Bank Adventure', 'Curio Concern', 'Offroad Nepal', 'Core Adventure Kathmandu Private Day tour', 'Outlandish Adventure Nepal - Day Adventures', 'Sparadise Spa & Salon', 'Adventure Outdoor Excursion', 'Rudraksha Nepal', 'Everest Helicopter  Tour Nepal', 'NATURE TREASURY TREKS & TOURS', 'Pumori Journeys', 'Visit Pashupati', 'Shakti Punj', 'Vivaan Adventure Pvt Ltd', 'Himalayanrandonner', 'Nepal Tourism Package', 'Ghale Treks - Private Day Tours', 'Travel Design', 'Arun Treks & Expedition', 'Khasyor International', 'Travel to Himalayas', 'Sagarmatha Tea House', 'Aim Nepal Adeventure', 'Nepal Travel Door - Day Tours', 'Volant Travel', 'Rental Car In Nepal', 'Hike and Bike Nepal', 'Reggae Bar Thamel', 'Trekkers Paradise in Nepal', 'Last Frontiers Trekking', 'Trekking for Nepal', 'Nepal Vehicle Services Pvt Ltd', 'Churen Himal Treks & Expedition', 'Chetana Yoga and Natural Spa Treatment', 'Lagom', 'Gurkha Encounters', 'Yakky Tours Private Limited', 'Ultra Nepal Travel & Treks', 'Visit View Nepal Treks and Expedition', 'Tara Oriental', 'stepupadventure', 'Luxury DMC Travel', 'Himalayan Concord', 'Lapha Holidays', 'Lead Nepal Treks', 'Simple Nepal Adventure Travel Pvt Ltd', 'Exquisite Himalaya Pvt Ltd', 'Divine International Explore and Treks', 'ekadesma', 'The Xutti Pvt Ltd', 'Green Paw Adventures Nepal', 'Dambar International', 'Koili Tours', 'Himalayan Inn Treks and Expedition Pvt Ltd', 'Craft Cave Centre', 'Alpwander_Adventures', 'Himalayan Footsteps Travel and Tour PvtLtd', 'Everest Pashmina Store', 'Susan Manandhar', 'Mountain Buddha Holidays', 'Nepal Car Rent', 'Hamro Hastakala', 'Shikhar Adventure', 'Zen Adventure Holidays', 'Shangri La Journeys', 'Himalayan Yoga Academy', 'More Than Mountain Treks', 'Gorkha Treks', 'Barefoot Adventures', 'Mayur Adventures', 'Freelancer trekking', 'Adler Adventure Trekking', 'Nepal Travels Expedition Pvt Ltd', 'Everest Holiday Adventure', 'Pashmina In Nepal', 'SAN TREKKING PVTLTD', 'Bhimsen Travels', 'Trips Himalaya', 'Sherpa World Adventure', 'Arma Trek&Tours', 'Waiba Adventure', 'Voyage De Himalayas', 'Nature Treks Himalayas', 'Suman Khatiwada', 'New Boudha Handicraft', 'Bergwandern Nepal', 'Cotton Mill Nepal', 'Karma Trek & Adventure Nepal PvtLtd', 'Hikes Nepal', 'Incredible Mountains', 'HimEX Nepal Pvt Ltd', 'Aryatara Holidays', 'Nepaltrekstourcom', 'Holidays Destination Trekking & Expedition', 'Elite Himalayan Adventure', 'Together Nepal Tours', 'Yeti Mountain Home', 'Majestic Himalaya Treks & Expeditions', 'Himalaya Fair Reisen', 'Himalayan Worldwide Treks & Expedition', 'Nepal Rafting Center', 'Gantu Trip Planner', 'Himalayan Unforgettable Adventure', 'Multiland Tours and Treks', 'Sunniva Travels and Tours', 'Himalayan Quest Travel & Tourism - Day Tours', 'Everest Expeditions Nepal', 'Nepal Malaysia - Private Mountain Flight Tours', 'Unique Leather Collection', 'Nine Nepal', 'Coretreks', 'Multi Land Private Day Tours', 'Hello Travels', 'Hello Travels', 'Nepal Experienced Adventure Treks', 'Nepal Explorer', 'Alternate Nepal Treks & Expeditions', 'Destination Holidays', 'Himalaya Range Adventures', 'Sahara Holidays Nepal Treks & Expedition', 'Green Hearts', 'Drichu', 'Thrill Nepal Adventure trek and expedition Pvt Ltd', 'FCube Cinemas', 'Folk Nepal', 'Heli Sight', 'Lasermaxx Kathmandu', 'Adventure Jaljale Trekking & Expedition', 'Guide in Nepal', 'Mission Mountain - Private Day Tours', 'Intrepid Nepal', 'Beatific Slimming and Spa', 'Summit Reisen Nepal', 'Himalayan Sherpa Journey', \"De Souvenir's\", 'Sansui Treks & Expeditions', 'Shree Ganapati Jewellers', 'Mountain Brothers Treks', 'Khumbu Shangrila', 'Himalayan TrekNclimb', 'Absolute Adventure Treks Pvt Ltd', 'Withlocals', 'Moodways Travel and Tours', 'Namlotrek', 'Himalayan Bike Travel and Adventure', 'Haven Retreat Spa & Salon', 'Wilderness Experience Pvt Ltd', 'Himalayan Top Trekking', 'Nepal Trekking Tourism And Adventure', 'QFX Civil Mall', 'Twin Peaks Trek and Travel', 'Zambala Thanka Treasure', 'Tea House Trek', 'Himalaya Guide Chandra Gurung', 'Mata Laxmi Handicraft and Singing Bowl House', 'Pathfinder Expeditions Private Day Tours', 'Crank House', 'Spring Rain Adventure', 'The Trekking Brothers', 'Well Nepal Treks', 'Dragon Tourist Market Nepal Pvt Ltd', 'Karma Eco Adventure', 'Nepali Food Cooking', 'Waypoint adventures pvt limited - Day Trips', 'Yellow Swissa Treks & Raging River Runner', 'Mayour Tailors', 'Jugal Himalayan Adventures', 'My Asia Adventures', 'Altitude Randonnee Trekking', 'Mountain Trotters Treks & Expedition Pvt Ltd', 'Bisesh Treks and Adventure', 'Kuniko Travel - Day Tours', 'Nep Travels & Expedition', 'Raaika Tours & Treks', 'Whitewater Madness', 'POON HILL TREK', 'Ex Gurkha Khukuri House', 'Gautam Holidays', 'Shishu Tours & Travel', 'Sharma Tours & Travels Pvt  - Private Day Tours', 'FCI Heli Charter Services', 'Frens Himalayan Travels & Treks', 'Great Nepal Treks and Expeditions', 'Info Trekking Nepal', \"Harsha's Shiatsu\", 'Rainbow Mountain Treks Pvt Ltd - Day Tours', 'Incentive Holidays', 'Battlefield- The Ultimate Paintball Game', 'Tengboche Trekking', 'Explore Kailash Treks Pvt Ltd', 'Skylark Treks and Expedition', 'Red Carpet - Day Tours', 'Nepal Aventure', 'Adventure Alternative Nepal', 'Harmony Spa', 'Car Hire Nepal', 'Trekking Experts', 'Clothing Nepal Enterprises', 'Sacred Mount Kailash Pilgrimage', 'Ian Taylor Trekking', 'Alpine Adventure Club Treks & Expedition - Mountain Flight in Nepal', 'Alpine Mountain Trek Advisor', 'Everest Alpine Trekking', 'The Thunderides', 'Goodwill Spa & Beauty Parlour', 'Endless Wave Adventure', '360 Gaming Zone', 'Live Adventure Expeditions', 'Boundless Adventure', 'Mountain Goat Trekking PvtLtd', 'World Favour Travel & Tours', 'Tour and Trek Nepal', 'Travel Bird Nepal', 'Nepal New Generation Trek and Adventure', 'Gandaki Tours and Travels', 'Virgin Nepal Trek and Expedition PvtLtd', 'Eagle Eye Treks', 'Tij York Trek & Expedition P Ltd - Day Tours', 'Top Adventure', 'Asaki Treks & Expedition', 'Senate Club', 'Adventure Mountain Nepal Trekking and Climbing PLtd', 'Best Nepal Trek', 'Berg Reisen Nepal P Ltd', 'Paintball Nepal', 'Cine de Chef', 'Himalayan Eco Adventure Pvt Ltd', 'United River Adventure', 'Himalaya Asuka Treks & Expedition P Ltd', 'Himalayan Unforgettable Adventure', 'Everest Base Camp Heli Tour with Travel Beyond', 'Enjoy Nepal Treks', 'Himalaya Heaven Tours & Treks', 'Greenline Tours', 'Clear Sky Treks & Expedition', 'Muktinath Temple Tour', 'Bajrayogini Pashmina', 'Travel In Nepal Treks Pvt Ltd', 'Abbey International Treks & Expedition', 'Explore Manaslu', 'Namaste Nepal Travels and Tours', 'Success Travels & Treks', 'Bunk Tribe', 'Everest Himalaya Treks', 'Adventure Dream Himalaya Treks', 'Talixo - Kathmandu', 'Himalayan Summit Treks And Expedition', 'World Favour Travel & Tours', 'Harmony Spa', 'Thrillhimalayacom', 'Cashmere heaven', 'Vaishali Travels & Tours', 'Mountain Safari - Day Tours', 'Sixth Sense Travel & Trekking', 'Airlife Adventures', 'Peaceful Nepal', 'Muktinath Yatra', 'EVEREST HELI CHARTER', 'Wildpath Adventure - Kathmandu Day Tour', 'Trek Nepal', 'imaginenepalteam', 'Save Himalayan Travel & Tours Pvt Ltd', 'Everest Tour Nepal', 'Himalayan Steps', 'Nepal Trekking & Expedition', 'Shivam Group Holiday', 'Sun Nepal treks', 'Himalayan Sherpa Holidays', 'Sherpa Khangri Outdoors', 'Trek of Nepal', 'BusSewa', 'Sahas Travels & Tours', 'Across The Himalayas Treks', 'Kharpunath Travels and Tours', 'Mahalaxmi Vehicle Service', 'Star Adventure Asia Treks', 'Nepal Travel Team', 'Sapana Holiday Tours and Travel', 'Bold Himalaya Treks and Travels Pvt Ltd', 'ABC Adventures Pvt Ltd', 'Everest Hardwear', 'Nepal Trekking Trails (P) Ltd', 'VX Tours', 'eNepaltour', 'Ticino Treks and Expedition', 'SevenOn Tours - Day Tours', 'Himalayan Little Buddha Treks And Expedition', 'Lama Treks & Expedition - Day Tours', 'Shree CC Handicraft', 'Himalayan Luxury Holidays', 'Pashmina In Nepal', 'Worldly People', 'Great Escape Tours and Travels', 'Nepal Adventure Trek & Expedition (P) Ltd', 'Serku Sherpa', 'SHERPA GUIDE SERVICES', 'Glorious Wellness Spa', 'Mystique Voyages Pvt Ltd', 'Nepal New Generation Treks and Adventure', 'Wildlife Safari Bardia', 'Paramount Holiday', 'Deepak Aryal', 'Off Road Nepal', 'NTB Adventures', 'S Nepal Tours & Travels', 'Best Trekking in Nepal', 'Nepal Mountain Biking', 'Beyond Himalaya - Day Tours', 'Khumbu Nangpala Trekking and Expedition', 'Woodcarving Studio', 'Isha Center', 'Adventures Himalaya', 'The Target Arena', 'Undercover Kathmandu & Swayambhunath Day Tour', 'Nepal Himalaya Trek - Private Changunarayan Day Hiking', 'El Yak', 'Tiger Trek - Day Tours', 'Mandala Pashmina & Handicrafts', 'Trip and Trek - Private Day Tours', 'National Woodworking Museum', 'Nepal Visitors Private Day Tours', 'Kathmandu Pashmina Collection Center', 'Aura Reiki Yoga Nepal', 'Ultra modern handicrafts', 'Triten Norbutse Monastery', 'Adventure Milestone - Day Hike To Namo Buddha', 'Age Holidays Day Tours', 'Cross Country Tresks and Travel Expedition Pvt Ltd', 'About Nepal Treks', 'Happy Women Handicraft', 'Easy Heli Charter Service', 'Nepal Mandala Travels - Day Tours', 'Take Me Trekking Ltd', 'Buddha Nepal Treks - Nagarkot Day Tours', 'Sunrise Transport and Tours Service', 'Beyond Himalaya', 'White Stone Holiday Nepal', 'Infinite Tours and Travels', 'Zeabrose Leather Boutique', 'Purna Work Shop', 'Marker Stone - Day Tours', 'Encounter Karma Treks', 'Absolute Himalaya Treks', '12d Cinema', 'Trip to Everest', 'Sound Planetarium', 'Land Rovers Overland', 'Lost Paddle Adventure', 'Nagarkot Hiking', 'Chakrapani Ayurveda Nepal', 'Virtue Travels & Tours Pvt Ltd', 'Kathmandu Private Day Tour Package', 'Shin Travels and Tours - Day Tours', 'Car Mandu', 'Alpine Exodus', 'Trek Holiday Nepal', 'Nepal Vehicle Hire', 'Freedom Nepal Treks and Expedition', 'Veggie Nepal', 'Himalayan Independent Guides', 'Karma Eco Adventure', 'Beatific Slimming and Spa', 'Friendship Trekking', 'Nepal GoGo Treks', 'Muktinath Yatra', 'The Matrix Adventure', 'Travel-In Travel-Out', 'Rainbow Thanka Gallery', 'Buddha Eye Treks', 'Nepal Trek Ways Pvt Ltd', 'Snowbird Treks & Adventure Pvt Ltd', 'Go! Running Tours Kathmandu', 'Apex Asia Travel & Trekking', 'YogHimalaya', 'Travel Beyond Pvt Ltd', 'Travel Her Way', 'Picturesque', 'Signature Holidays', 'Xtreme Climbers', 'E Travel Nepal', 'Adventure Mountain Club', 'Sherpa Altitude Adventure Treks and Expedition', 'Amantran Spa & Salon', 'Baba Tour And Travel', 'Sherpa Land Adventure', 'Heavenly Himalaya Treks & Tours', 'Secrets of the Himalaya', 'Castello Cashmere', 'Tourist Adventure International', 'QFX Kumari', 'Red Carpet', 'Api Himal Treks & Expedition', 'Travel Nepal', 'Auronepal Travel and Trek', 'Adventure Advisor Nepal', 'Journey 2 himalaya Treks', 'Joyful Trekking', 'Arnav Travel', 'Alpine Pashmina House', 'Trekker Nepal', 'Ecovoyage Travel and Tours', 'Adventure Ascent', 'Shanti Yoga Ashram', 'Mam Holidays', 'Trek Dream Nepal', 'Sherpa Himalaya', 'Sherpa Mountains and Adventure', 'Black Stork Trek and Expedition', 'Temple Bar - Irish Pub', 'Sherpa Shepherds', 'Ocean To Sky Adventures', 'Experience Earth', 'Sherpa Khumbiyila Adventures', 'Namaste Roving Tours And Travels', 'FunExpedia', 'Adventure Polygon', 'Hike Nepal', 'Nepal Academy Treks and Expedition', 'Nepal Seasonal Adventure Treks', 'Dream Carrier Treks and Expedition', 'Nepal Snowfall Mountains Treks and Expeditions', 'Typical Himalayan Treks & Expedition', 'Ocean to Sky Adventures', 'Adventure Mountain Nest', 'Taiao Nepal Eco Treks', 'Jyotirlingeshwor', 'Heaven Hikers Adventure', 'Shahid Gate', 'Himalaya Safty Treks & Expedition', 'ARTUDIO \"Centre for Visual Arts\"', 'Standard Chartered Vehicle Service Pvt  Ltd', 'Happyharitrek & Expeditions', 'Ganga Jamuna Adventure Treks & Expedition', 'Express Himalaya Travel', 'Body & Mind - A Healing Spa', 'Climbing Expedition', 'Rose Mountain Tours and Travels', 'Himalayan Pilgrimage Journey', 'Fresh Liquorland', 'Chulu Far East Peak', 'Yogadham', 'Himalayan Treks', 'Mystical Nepal Treks', 'Simsime Travels & Tours', 'Lalman Trek and Expedition', 'Meraki Adventure', 'Book Paradise', 'FCube Cinemas', 'Trip Himalaya Treks & Expedition (P) LTD', 'Travel Devisers', 'Destination Everest', 'Krishna International Travels and Tours', 'Ganesh Himal Trekkings & Tours PL', 'Four Himalayan Magic', 'Tourism Society', 'Top Tour Nepal', 'Travelling Fantasy', 'Blue Bird Travel and Tours', 'Sherpa Guides Service', 'Great Himalayan Riders', 'Me Travel and Tours', 'Tashi Delek Nepal Treks', 'Roaming Nepal', 'Nepal Trekking Guide', 'Trekadviser', 'Punya Tours & Travels', 'Aarohi Holiday', 'Himalayan Randonner', 'Joyful Trekking', 'Pancha Kosha Himalayan Spa', 'Car & Tour Nepal', 'Alpine Ascent Nepal', 'Bound Travels & Tours', 'Outdoor Himalayan Treks', 'Ktm Voyage Travel and Tours', 'Fifth Ave Travel and Tours', 'Giggles', 'Mountain Child Adventure Travel & Trekking', 'Nepal Tour & Trekking Service', 'Lion Heart Tour', 'Tranquility Spa - Kupondole', 'Tranquility Spa - Hotel Shangri-La', 'Leisure Holidays Pvt Ltd', 'Multinational Trekking & Expedition', 'Blend Cashmere', 'Adventure Ascent', 'Pavitra Kailash Yatra', 'Outdoor Adventure Center Nepal', 'Gorkhali Adventures Pvt Ltd', 'Khukuri House', 'Holiday Treks And Expedition', 'NH Travels and Tours', 'Holiday Treks & Expeditions', 'Pancha Kosha Himalayan Spa', 'Tranquility Spa', 'Tranquility Beauty Salon, Lazimpat', 'Red Carpet Journey', 'Sole Encounters', 'Beebal Singh Limbu', 'Nepal View Treks and Expedition', 'Sujan Dhakal', 'Api Adventure Eco Tour', 'Sumire Tours and Travel', 'One Nepal Treks and Tours', 'Nepal Power Places', 'Wind Horse Trekking Pvt Ltd', 'Chandragiri Hill', 'Aspiration Adventure', 'Himalayan Enfielders', 'Bimal Dhamala', 'Good Times', 'Jake Basnet', 'Hima Nepal Tours & Treks', 'Snowy Dream World - Tours & Adventure', 'Rudra Khanal', 'Sujan Ratna Shakya', 'Sherpa Mountaineering', 'Happy Karma Travels', 'Happy Karma Travels', 'One Life Adventure Team', 'Himalaya Asuka Treks & Expedition P Ltd', 'Spyders Adventure Pvt Ltd', 'Rabi Adhikari', 'Humanitourismorg', 'Trek To Edge', 'Trooper', 'Lets Go Hiking Nepal', 'Great Gurkha Khukuri', 'Holiday pLanner', 'Great Gurkha Kukri House', 'Veris Adventure Travels and Tours', 'Galz Beauty Parlour', 'fire dance workshop', 'Yoga Shala Nepal', 'Nepal Traveler Helper', 'Narbin Magar', 'Umbrella Trekking', 'Trek Holiday Tour & Trek PvtLtd', 'One World Holidays Nepal', 'Unfold Nepal', 'Tintin and Sherpa Adventure Trekking', 'Samjhana Travels and Tours', 'Golumbini', 'Divine Mountain Tours and Travels', 'Holiday Mountain', 'Trek and Tours to Nepal  P Ltd', 'Adventure Snow Mountain Pvt Ltd', 'Go Beyond', 'Privé Nepal', 'Mission Himalaya Treks', 'Splindid High Adventure', 'Himalayan Travellers', 'Tranquility Spa', 'Image Travel and Tours', 'Puja Traders', \"Peace Land's Travel & Tours\", 'Sparkling Holidays', 'High Mountain Wave Trekking', 'Going Nepal', 'Zambuling Expedition', 'Kriss Simkhada', 'Sushil Lama', 'Sanjay Khanal', 'Nepal Motorbike Tour', 'Rajendra Rajak', 'Dipak Bhandari', 'Abhay Sharma', 'OpenRoads', 'Pradip Karki', 'Sandeep Rijal', 'Thrill Nepal Adventure', 'Green Horizon Tours & Travels - Thamel', 'Luxury Yogi Holistic Health Center', 'Sunrise Jewellers', 'Mahaguthi Craft With Conscience', 'Namrata Subedi', 'Spiritual Expeditions PvtLtd', 'Aarya Tara', 'Gyan Bahadur Rai', 'Alpwander_adventures', 'Naata Trek and Tours', 'Three Sixty Travels', 'Signature Tours', 'Discover Nepal', 'Osho Vision Treks and Expedition Pvt Ltd', 'Trekkingguide Nepal // Kedar', 'susmita luitel', 'Gaze Nepal', 'Bigu Life Festival', 'All Nepal Excursion', 'Nepalese Mountain Dreams and Journeys pvt Ltd', 'Travel Corporation Nepal', 'Sanjit KC Tours and Treks', 'TrekandTours', 'Everest Treks Nepal', 'Holiday World Trekking Nepal', 'Mountain Trotters Treks & Expedition Pvt Ltd', 'Amrita Yoga Foundation', 'To Travel Nepal Tours and Travels Pvt Ltd', 'Vajra Adventure', 'OUTDO-adventures', 'Shanta Nepali Productions', 'Diana Travels and Tours', 'Nomadic Knights', 'Trekting Tours & Expedition', 'Luisa Sánchez', 'Noble Trek', 'EHT Travel Pvt Ltd', 'Luxury Travel and Tours Pvt Ltd', 'Himalayan Journey', 'Door to Himalaya', 'Boudha Retreats', 'Atithi satkar', 'Swornim Tours & Travel Pvt  Ltd', 'Donkeys Adventures Pvt Ltd', 'Nepal TravelBiz', 'EE Treks and Expeditions pvt ltd', 'Everest Sherpa Adventure PvtLtd', 'Chameli Holidays', 'Hiking Package', 'MKS Handicraft', 'Khumbu Alpine Travel', 'One Globe Travels and Tourism Pvt Ltd', 'Zero Degree Travels and Tours', 'Typical Nepal Travel', 'Peace Himalayan Travel and Tours', 'Nefa Treks', 'Enlightenment Nepal', 'Aaha Sister Creation', 'Earthly Quests', 'Athena Expedition', 'Inframe Nepal', 'Buddha Treks & Expedition', 'Nepal Thirsty Travels & Tours', 'Trekking Nepal', 'The Tour Trek Travel Nepal', 'Hima Nepal Tours & Treks', 'Carabiner Holidays', 'Social & Commercial Information Page of Nepal– Everything In Nepal', 'ABC himalayan trekking and tours', 'Kailash Helicopter Services', 'szal maharzan', 'W Adventures', 'Apex Tour And Treks', 'ktmguide', 'Manaslu Adventure Treks', 'Shyam Pandey', 'Nepal Trekking Path', 'August Mountain Travels & Tours', 'Nepal Trekking Guide', 'Kumar Rupakheti', 'Tour guide', 'Daniel Collins', 'Skailash', 'Trekholic', 'Pipal Bot', 'OneSeed Expeditions - Nepal', 'Development Tourism', 'Northsky Holidays Travels and Tours PvtLtd', 'Able Adventure Pvt Ltd', 'Botanical Treks & Excursion', 'trioplus technology', 'Kailash Adventure Kathmandu', 'SK Pashmina Industries', 'Eternal Himalaya Adventure Treks', 'jatra', 'Nepal Handicrafts Collections', 'High Vision Adventure Trek', 'Wild Roots and Pineapple Adventure', 'Om Prakash Bista', 'Travel Life Adventures - Nepal', 'Stunning Nepal - Trekking Agency in Nepal', 'Shangrila Knit', 'KB Adventure Nepal Pvt Ltd', 'Outdoor Expeditions', 'Heaven Nepal', 'Barada Tours and Travels', 'Trekoteli', 'Enlightenment', 'Yatra Sansar Travel and Trek Pvt Ltd', 'Servantrip NPL Airport Transfers', 'Nature Heaven Treks & Expedition', 'Dolphin Tours and Travels P Ltd', 'Imagine Nepal Team', 'Himalayan Alpine Adventure Treks & Expedition', 'Human welfare committee', 'Find Ways Adventure', 'Uma Holidays', 'Himalayan Hawk Adventure Trekking and Expedition', 'Quad Bike Nepal', 'Navigator Nepal', 'Yetautaa Travels And Tours Pvt Ltd', 'Trekting Tours & Expedition PvtLtd', 'Himalayan Pursuit', 'Transit Nepal Travel and Tours', 'Sherpa Yak Land Treks Pvt Ltd', 'Nepal Mandal Travels', 'Firante Travels and Tours Pvt Ltd', 'Grand Nepal Tours And Travels PvtLtd', 'Special Trek & Expedition', 'Exotic Vacations Nepal', 'Himalayan Paradise Trek & Expedition PLtd', 'Nepal Singapore Tours', 'Best Nepal Guide', 'Makalu Holidays', 'White Snow Adventure Treks & Expedition Pvt Ltd', 'Stupa Trekking and Cultural Adventures Pvt Ltd', 'Anjal Limbu', '【Comfortable ride】Private airport transfer in Kathmandu', 'Sunny Kailash', 'Eternal Himalaya Adventure Treks', 'Loyal Travels & Tours', 'Shiv Tattva Yog School', 'Unique Express Tours and Travels', 'Dorje Trek Nepal', 'Best Adventure Travels', 'Paradise Himalayan Journey', 'Adventure Trek in Nepal', 'EHT Travel', 'Batas Holidays', 'Himalayan Getaway', 'Kailash Tirtha Yatra', \"Ocean Int'l Tours And Travel Pvt Ltd\", '3 monkeys transportation', 'Mountain Climbers Treks', 'Pathik Foundation', 'Himalayan Ecological Trekking PVTLTd', 'IMT', 'Touching Void Pvt Ltd', 'Discover Nepal Tours', '5th Lake Adventure', 'Nepal Tours', 'Vinertly', 'Everest Base Camp Trek', 'Pata Travels', 'Lollipop Tour Nepal', 'Friendship Himalayan Treks Pvt Ltd', 'India Holiday Mall', 'Camp-4 Adventures', 'Rainbow Adventure Nepal Pvt Ltd', 'Treks Adviser', 'Nepal', 'The Healing Hands Center', 'Tuladhar Handicrafts', 'Aware Impact', 'Alpine Sherpa Guide Treks & Expedition', 'Globetrotter Tours & Travels', 'Baristas Coffee School', 'Himalayan Nature Treks', 'Best Heritage Tours', 'Himalayan Inbound Treks', 'ghumni ho', 'Hawks Eye Travels', 'Exodus Himalaya Treks & Expeditions', 'ShareTrip Ltd', 'Tournary', 'Gay Travel Nepal', 'Freelancher Trekking Guide in Nepal', 'Narba Treks & Expeditions Pvt Ltd', 'Nepal Challenge Trek', 'Pathil Holidays', 'Luxury Nepal Holidays', 'Nuadthainepal', '\"><U>HelLLo', '\"><U>Hei<svg onload=alert(1)/>', 'Everest Beads', 'Tushar Travels', 'Brown Bear Trails', 'HAMRO TICKET', 'Ride Nepal', 'West Himalaya', 'Kantipur Holidays', 'enjoy-Nepal', 'Vedic Himalayas Treks & Expedition', 'Himalayan Diamond Adventure Pvt Ltd', 'Singing Bowl In Nepal', 'Nepal Himalaya Reisen', 'Royal Himalayan Treks & Expedition', 'Royal Himalayan Treks & Expedition', 'Aakash Bhairab', 'Suraj and sons', 'Armatrek Adventure', 'Three Monks Travel and Tours Pvt Ltd', 'Airwings Tours & Travels Pvt Ltd', 'Accessible Nepal', 'Everest Helicotper Tour Nepal', 'Sunrise Industria', 'Sons Holidays', 'Agate Travel - Nepal Tours', 'Everest Flight - Kathmandu', 'Treklust Adventures', 'Rock Everest Treks & Expeditions Pvt Ltd', 'Eco Holidays Nepal PvtLtd', 'Bus to Everest', 'Adventure A One Treks Pvt Ltd', 'Odynovo Nepal', 'Himalayan Dynasty Adventures', 'Sudip Panta', 'VoiceMap Kathmandu', 'Himalaya Rudraksha Bhandar', 'Tara Linhardt', 'Sherpa Tabuche treks & Expedition', 'Finding Nepal', 'Thangka Painting Nepal', 'Trip To Peak', 'Nepal Sherpa Trust', 'Go Nepal', 'Himal Reisen Pvt Ltd', 'Everest Thrill', 'Epic 16 Day Everest Base Camp Hiking Tour', 'Bergwelt Nepal', 'GOROUTES ADVENTURE NEPAL', 'Himalayan Heights', 'Trekking Experts (P) Ltd', 'MD Adventure Travel & Tours Pvt Ltd', 'Test company', 'Horseback riding Kathmandu', 'Art Of Tibet', 'Hillary Everest Treks', 'Tsum Valley Treks and Expedition', 'Thangka Painting', 'Sange Sherpa Adventure Pvt Ltd', 'Avata', 'wwwhstadventurecom', 'Himalayan Frozen Adventure', 'Flights to Lukla', 'Dharahara Tower, Sundhara, Kathmandu 44600, Nepal', 'Yeti Mountain Treks & Expedition', 'Zeal Nepal Trek & Expedition', 'Mohit Sunuwar', 'SITA (Travel Corporation India Ltd)', 'Himalayan Hike', 'River Fun']\n"
     ]
    }
   ],
   "source": [
    "# read from the dataset containing the destinations of Kathmandu\n",
    "# destinations_dataset=pd.read_csv(\"Datasets/attractions_of_ktm.csv\")\n",
    "# updating the nepal dataset\n",
    "destinations_dataset=pd.read_csv(\"destinations_of_ktm_updated_200_latlong.csv\")\n",
    "print(destinations_dataset.shape)\n",
    "list_of_destinations=destinations_dataset['title'].tolist()\n",
    "print(list_of_destinations)"
   ]
  },
  {
   "cell_type": "code",
   "execution_count": 22,
   "id": "12fb0a0b",
   "metadata": {},
   "outputs": [
    {
     "name": "stdout",
     "output_type": "stream",
     "text": [
      "title                      Universal Crafts\n",
      "avg_rating                                5\n",
      "voted_by                                  3\n",
      "genre         Art Galleries • Antique Shops\n",
      "latitude                         27.7173331\n",
      "longitude                         85.381252\n",
      "Name: 94, dtype: object\n"
     ]
    }
   ],
   "source": [
    "print(destinations_dataset.iloc[94])"
   ]
  },
  {
   "cell_type": "code",
   "execution_count": 37,
   "id": "bb9edbac",
   "metadata": {},
   "outputs": [
    {
     "name": "stderr",
     "output_type": "stream",
     "text": [
      "/tmp/ipykernel_5308/86698290.py:12: DeprecationWarning: find_elements_by_* commands are deprecated. Please use find_elements() instead\n",
      "  inputElems = driver.find_elements_by_css_selector('input[name=q]')\n"
     ]
    },
    {
     "name": "stdout",
     "output_type": "stream",
     "text": [
      "['https://www.google.com/maps/search/Tramping+Himalaya+kathmandu/@27.7211374,85.3033274,13z', 'https://www.google.com/maps/place/%E0%A4%97%E0%A4%A8%E0%A5%8D%E0%A4%A4%E0%A4%B5%E0%A5%8D%E0%A4%AF+%E0%A4%85%E0%A4%B8%E0%A5%80%E0%A4%AE%E0%A4%BF%E0%A4%A4+%E0%A4%9F%E0%A5%8D%E0%A4%B0%E0%A5%87%E0%A4%95%E0%A4%BF%E0%A4%99+%E0%A4%A8%E0%A5%87%E0%A4%AA%E0%A4%BE%E0%A4%B2/@27.7170491,85.3094663,17z/data=!4m5!3m4!1s0x39eb18e2d2866c2f:0x2b52d18b26784a42!8m2!3d27.7170491!4d85.311655', 'https://www.google.com/maps/place/Pariwar+Holidays/@27.7166515,85.3094898,17z/data=!4m5!3m4!1s0x39eb18fd2d95e1d1:0xb8c0a741de55be3a!8m2!3d27.7166515!4d85.3116785', 'https://www.google.com/maps/place/Vista+Trek+Pvt.+Ltd.+Mera+Peak+Climb+Operator/@27.716617,85.3074125,17z/data=!4m5!3m4!1s0x39eb18fdacecc60b:0x240a2f923d54c07d!8m2!3d27.7166089!4d85.3096005', 'https://www.google.com/maps/place/Odea+Services/@27.7158305,85.3105169,17z/data=!4m5!3m4!1s0x39eb18fcfd22c9c1:0x5d6bc12633134104!8m2!3d27.7158318!4d85.3127011', 'https://www.google.com/maps/place/%E0%A4%AE%E0%A4%B9%E0%A4%A4%E0%A5%8D%E0%A4%B5%E0%A4%BE%E0%A4%95%E0%A4%BE%E0%A4%82%E0%A4%95%E0%A5%8D%E0%A4%B7%E0%A4%BE+%E0%A4%B9%E0%A4%BF%E0%A4%AE%E0%A4%BE%E0%A4%B2%E0%A4%AF+%E0%A4%9F%E0%A5%8D%E0%A4%B0%E0%A5%87%E0%A4%95%E0%A4%B9%E0%A4%B0%E0%A5%82+%E0%A4%B0+%E0%A4%AF%E0%A4%BE%E0%A4%A4%E0%A5%8D%E0%A4%B0%E0%A4%BE/@27.715113,85.3099993,17z/data=!3m1!4b1!4m5!3m4!1s0x39eb18fd1ea1ba59:0xa07e57fe501e55c2!8m2!3d27.715113!4d85.312188', 'https://www.google.com/maps/search/Osho+Vision+Treks+and+Expedition+kathmandu/@27.7142979,85.3114168,17z', 'https://www.google.com/maps/place/%E0%A4%B2%E0%A5%8D%E0%A4%AF%E0%A4%BE%E0%A4%A8%E0%A5%8D%E0%A4%A1%E0%A4%AE%E0%A4%BE%E0%A4%B0%E0%A5%8D%E0%A4%95+%E0%A4%86%E0%A4%B5%E0%A4%BF%E0%A4%B7%E0%A5%8D%E0%A4%95%E0%A4%BE%E0%A4%B0+%E0%A4%9F%E0%A5%8D%E0%A4%B0%E0%A5%87%E0%A4%95%E0%A4%B9%E0%A4%B0%E0%A5%82+%E0%A4%AA%E0%A5%8D%E0%A4%B0%E0%A4%BE%E0%A5%A4+%E0%A4%B2%E0%A4%BF%E0%A4%AE%E0%A4%BF%E0%A4%9F%E0%A5%87%E0%A4%A1/@27.7149733,85.3064019,17z/data=!3m1!4b1!4m5!3m4!1s0x39eb18fcb540b0fb:0x2682b00cbdc6754f!8m2!3d27.7149733!4d85.3085906', 'https://www.google.com/maps/place/Friends+Adventure+Team+Pvt.+Ltd./@27.7254082,85.3102514,17z/data=!4m5!3m4!1s0x39eb18e0e426a71f:0x240ccbcd59cc681e!8m2!3d27.7254046!4d85.3124532', 'https://www.google.com/maps/place/Outshine+Adventure+Pvt.+Ltd/@27.715519,85.3065395,17z/data=!4m5!3m4!1s0x39eb18fcd720dc31:0xe8dab4e6175b7dae!8m2!3d27.715519!4d85.3087282', 'https://www.google.com/maps/place/Osho+Divine+Zone/@27.764711,85.2696792,17z/data=!3m1!4b1!4m5!3m4!1s0x39eb21690a17abdb:0xec2d25065ffc0d40!8m2!3d27.764711!4d85.2718679', 'https://www.google.com/maps/place/DISCOVERY+WORLD+TREKKING/@27.7157974,85.306127,17z/data=!3m1!4b1!4m5!3m4!1s0x39eb18fdcd815e65:0xe70b57ef8bb18907!8m2!3d27.7157974!4d85.3083157', 'https://www.google.com/maps/place/Nepal+Gateway+Trekking+Pvt.+Ltd./@27.716027,85.3103583,17z/data=!3m1!4b1!4m5!3m4!1s0x39eb18fd464996b9:0x618c901a76261333!8m2!3d27.716027!4d85.312547', 'https://www.google.com/maps/place/Access+Nepal+Tour+%26+Trekking/@27.7132495,85.3101959,17z/data=!3m1!4b1!4m5!3m4!1s0x39eb18fccb2d6c6b:0xb16cd3da2acc274c!8m2!3d27.7132724!4d85.3123854', 'https://www.google.com/maps/place/Trekking+Team+Group+%7C+Trekking+in+Nepal+%7C+Tour+operator+offering+treks,+tours+and+biking/@27.7131201,85.3081462,17z/data=!3m1!4b1!4m5!3m4!1s0x39eb18fc454dd7d7:0x3b85fd106231a0d4!8m2!3d27.7131201!4d85.3103349', 'https://www.google.com/maps/place/%E0%A4%97%E0%A4%A8%E0%A5%8D%E0%A4%A4%E0%A4%B5%E0%A5%8D%E0%A4%AF+%E0%A4%B9%E0%A4%BF%E0%A4%AE%E0%A4%BE%E0%A4%B2%E0%A4%AF+%E0%A4%9F%E0%A5%8D%E0%A4%B0%E0%A5%87%E0%A4%95%E0%A4%B9%E0%A4%B0%E0%A5%82+%E0%A4%B0+%E0%A4%85%E0%A4%AD%E0%A4%BF%E0%A4%AF%E0%A4%BE%E0%A4%A8+%E0%A4%AA%E0%A5%8D%E0%A4%B0%E0%A4%BE%E0%A5%A4+%E0%A4%B2%E0%A4%BF%E0%A4%AE%E0%A4%BF%E0%A4%9F%E0%A5%87%E0%A4%A1/@27.71527,85.3066013,17z/data=!3m1!4b1!4m5!3m4!1s0x39eb18fd24b8c24f:0x9e069416c62b04a4!8m2!3d27.71527!4d85.30879', 'https://www.google.com/maps/place/Earthbound+Expeditions+Pvt.+Ltd./@27.7116939,85.3070753,17z/data=!3m1!4b1!4m5!3m4!1s0x39eb18fcccc2ccc5:0x53d5be3d19930a04!8m2!3d27.7116939!4d85.309264', 'https://www.google.com/maps/place/Unique+Path+Trekking+and+Expedition+(P.)+Ltd/@27.7165406,85.3075593,17z/data=!3m1!4b1!4m5!3m4!1s0x39eb18e373056809:0x4a1c394ad2cb3d22!8m2!3d27.7165465!4d85.3097484', 'https://www.google.com/maps/place/TRAVEL+MAKER+SOUTH+ASIA+P.LTD/@27.7134196,85.3112457,17z/data=!3m1!4b1!4m5!3m4!1s0x39eb18e2d0d148cb:0x31979f06bcf4ca4b!8m2!3d27.7134196!4d85.3134344', 'https://www.google.com/maps/place/Nepal+Alibaba+Treks+and+Tours+Pvt.+Ltd/@27.7375441,85.3028408,17z/data=!3m1!4b1!4m5!3m4!1s0x39eb19d97d9989d5:0xcfa6a546fc76ece4!8m2!3d27.7375441!4d85.3050295', 'https://www.google.com/maps/place/Alpine+Ramble+Treks+Pvt.+Ltd./@27.7191624,85.306492,17z/data=!3m1!4b1!4m5!3m4!1s0x39eb18ef609a2931:0x8e20c20587eb18d2!8m2!3d27.7191624!4d85.3086807', 'https://www.google.com/maps/search/Info+Nepal+Treks+and+Expedition+kathmandu/@27.7160399,85.3088854,18z/data=!3m1!4b1', 'https://www.google.com/maps/search/Epic+Adventures+-+Day+Tours+kathmandu/@27.7009722,85.2801793,13z/data=!3m1!4b1', 'https://www.google.com/maps/place/Hiking+Adventure+Treks+Pvt.+Ltd./@27.717671,85.3096866,17z/data=!3m1!4b1!4m5!3m4!1s0x39eb18fce461799f:0x7214d58263cb2b86!8m2!3d27.717671!4d85.3118753']\n"
     ]
    }
   ],
   "source": [
    "\n",
    "#Sometimes Google Duplicates That Input Field So we have to iterate...\n",
    "\n",
    "#update the destination lats from 95 to 1010\n",
    "search_items=list_of_destinations[177:201] \n",
    "driver=webdriver.Chrome('chromedriver')\n",
    "\n",
    "urls_of_places=[]\n",
    "\n",
    "for item in search_items:\n",
    "    time.sleep(2)\n",
    "    driver.get('https://maps.google.com')\n",
    "    inputElems = driver.find_elements_by_css_selector('input[name=q]')\n",
    "    for inputElem in inputElems:\n",
    "        inputElem.send_keys(item + ' kathmandu')\n",
    "\n",
    "        # Presses Enter Key Like When You Press Enter Key to Search\n",
    "        inputElem.send_keys(Keys.ENTER) # for nepal dataset\n",
    "        # change to 'kathmandu' for the kathmandu dataset\n",
    "        \n",
    "        time.sleep(7)\n",
    "        # Getting current URL\n",
    "        try:\n",
    "            get_url = driver.current_url\n",
    "        except:\n",
    "            get_url='Nan'\n",
    "            \n",
    "        urls_of_places.append(get_url)\n",
    "\n",
    "        inputElems.clear()\n",
    "\n",
    "\n",
    "driver.close()\n",
    "\n",
    "print(urls_of_places)"
   ]
  },
  {
   "cell_type": "code",
   "execution_count": 38,
   "id": "659d5dc2",
   "metadata": {},
   "outputs": [],
   "source": [
    "#some regular expressions to extract the latitude and longitude \n",
    "import re\n",
    "\n",
    "# link=\"https://www.google.com/maps/place/%E0%A4%AC%E0%A5%8C%E0%A4%A6%E0%A5%8D%E0%A4%A7+%E0%A4%B8%E0%A5%8D%E0%A4%A4%E0%A5%81%E0%A4%AA+%E0%A4%96%E0%A4%B8%E0%A5%8D%E0%A4%A4%E0%A4%BF+%E0%A4%9A%E0%A5%88%E0%A4%A4%E0%A5%8D%E0%A4%AF/@27.6934378,85.3239504,15z/data=!4m5!3m4!1s0x39eb1bda4a951f0f:0x3ddabb234891c3bd!8m2!3d27.7215062!4d85.3619974\"\n",
    "\n",
    "# x = re.findall(\"\\@(-?[\\d\\.]*\\,[\\d\\.]*)\", link)\n",
    "# [lat,long]=x[0].split(',')\n",
    "# print(lat)\n",
    "# print(long)"
   ]
  },
  {
   "cell_type": "code",
   "execution_count": 39,
   "id": "cae95759",
   "metadata": {},
   "outputs": [],
   "source": [
    "#function to extract the latitude and longitude from a google maps link \n",
    "def lat_and_long(url):\n",
    "    x = re.findall(\"\\@(-?[\\d\\.]*\\,[\\d\\.]*)\", url)\n",
    "    [lat,long]=x[0].split(',')\n",
    "    return lat,long"
   ]
  },
  {
   "cell_type": "code",
   "execution_count": 40,
   "id": "e3972b36",
   "metadata": {},
   "outputs": [],
   "source": [
    "#define two lists to hold latitude and longitude values \n",
    "lat_list=[]\n",
    "long_list=[]"
   ]
  },
  {
   "cell_type": "code",
   "execution_count": 41,
   "id": "75feb446",
   "metadata": {},
   "outputs": [],
   "source": [
    "for url in urls_of_places:\n",
    "    lat,long=lat_and_long(url)\n",
    "    lat_list.append(lat)\n",
    "    long_list.append(long)"
   ]
  },
  {
   "cell_type": "code",
   "execution_count": 42,
   "id": "2257418f",
   "metadata": {},
   "outputs": [
    {
     "name": "stdout",
     "output_type": "stream",
     "text": [
      "['27.7211374', '27.7170491', '27.7166515', '27.716617', '27.7158305', '27.715113', '27.7142979', '27.7149733', '27.7254082', '27.715519', '27.764711', '27.7157974', '27.716027', '27.7132495', '27.7131201', '27.71527', '27.7116939', '27.7165406', '27.7134196', '27.7375441', '27.7191624', '27.7160399', '27.7009722', '27.717671']\n"
     ]
    }
   ],
   "source": [
    "print(lat_list)"
   ]
  },
  {
   "cell_type": "code",
   "execution_count": 43,
   "id": "fdd09538",
   "metadata": {},
   "outputs": [
    {
     "name": "stdout",
     "output_type": "stream",
     "text": [
      "['85.3033274', '85.3094663', '85.3094898', '85.3074125', '85.3105169', '85.3099993', '85.3114168', '85.3064019', '85.3102514', '85.3065395', '85.2696792', '85.306127', '85.3103583', '85.3101959', '85.3081462', '85.3066013', '85.3070753', '85.3075593', '85.3112457', '85.3028408', '85.306492', '85.3088854', '85.2801793', '85.3096866']\n"
     ]
    }
   ],
   "source": [
    "print(long_list)"
   ]
  },
  {
   "cell_type": "code",
   "execution_count": 44,
   "id": "7c161559",
   "metadata": {},
   "outputs": [
    {
     "name": "stdout",
     "output_type": "stream",
     "text": [
      "24\n"
     ]
    }
   ],
   "source": [
    "print(len(long_list))"
   ]
  },
  {
   "cell_type": "code",
   "execution_count": 48,
   "id": "74cfe64f",
   "metadata": {},
   "outputs": [],
   "source": [
    "#store in a Pandas dataset \n",
    "import pandas as pd \n",
    "import numpy as np "
   ]
  },
  {
   "cell_type": "code",
   "execution_count": 49,
   "id": "b8b56995",
   "metadata": {},
   "outputs": [],
   "source": [
    "# dataset=pd.read_csv('attractions_of_nepal_updated_columns.csv')\n",
    "dataset=destinations_dataset"
   ]
  },
  {
   "cell_type": "code",
   "execution_count": 50,
   "id": "dff3d40f",
   "metadata": {},
   "outputs": [
    {
     "name": "stdout",
     "output_type": "stream",
     "text": [
      "                  title avg_rating  voted_by            genre    latitude  \\\n",
      "0      Boudhanath Stupa        4.5      8897  Religious Sites  27.7215062   \n",
      "1  Swayambhunath Temple        4.5      6203  Religious Sites  27.7149298   \n",
      "2  Pashupatinath Temple        4.5      4937  Religious Sites  27.7104461   \n",
      "3     Chandragiri Hills        4.5       399        Mountains  27.6710496   \n",
      "4       Kopan Monastery        4.5       787  Religious Sites  27.7425438   \n",
      "\n",
      "   longitude  \n",
      "0  85.359809  \n",
      "1  85.288146  \n",
      "2  85.346503  \n",
      "3  85.262664  \n",
      "4  85.362208  \n"
     ]
    }
   ],
   "source": [
    "print(dataset.head())"
   ]
  },
  {
   "cell_type": "code",
   "execution_count": 51,
   "id": "9b0a6a5d",
   "metadata": {},
   "outputs": [
    {
     "name": "stdout",
     "output_type": "stream",
     "text": [
      "(2345, 6)\n"
     ]
    }
   ],
   "source": [
    "#print the shape of the dataset\n",
    "print(dataset.shape)"
   ]
  },
  {
   "cell_type": "code",
   "execution_count": 52,
   "id": "2a92bd99",
   "metadata": {},
   "outputs": [
    {
     "name": "stdout",
     "output_type": "stream",
     "text": [
      "title                      Universal Crafts\n",
      "avg_rating                                5\n",
      "voted_by                                  3\n",
      "genre         Art Galleries • Antique Shops\n",
      "latitude                         27.7173331\n",
      "longitude                         85.381252\n",
      "Name: 94, dtype: object\n"
     ]
    }
   ],
   "source": [
    "print(dataset.iloc[94])"
   ]
  },
  {
   "cell_type": "code",
   "execution_count": 53,
   "id": "1422bccf",
   "metadata": {},
   "outputs": [
    {
     "name": "stdout",
     "output_type": "stream",
     "text": [
      "95      28.2226156\n",
      "96      27.6900294\n",
      "97      27.6914868\n",
      "98      27.7130359\n",
      "99      27.7399457\n",
      "           ...    \n",
      "2340           NaN\n",
      "2341           NaN\n",
      "2342           NaN\n",
      "2343           NaN\n",
      "2344           NaN\n",
      "Name: latitude, Length: 2250, dtype: object\n"
     ]
    }
   ],
   "source": [
    "print(dataset['latitude'][95:])"
   ]
  },
  {
   "cell_type": "code",
   "execution_count": 54,
   "id": "ee096ce1",
   "metadata": {},
   "outputs": [
    {
     "name": "stderr",
     "output_type": "stream",
     "text": [
      "/tmp/ipykernel_5308/3570614686.py:1: SettingWithCopyWarning: \n",
      "A value is trying to be set on a copy of a slice from a DataFrame\n",
      "\n",
      "See the caveats in the documentation: https://pandas.pydata.org/pandas-docs/stable/user_guide/indexing.html#returning-a-view-versus-a-copy\n",
      "  dataset['latitude'][177:201]=lat_list\n",
      "/tmp/ipykernel_5308/3570614686.py:2: SettingWithCopyWarning: \n",
      "A value is trying to be set on a copy of a slice from a DataFrame\n",
      "\n",
      "See the caveats in the documentation: https://pandas.pydata.org/pandas-docs/stable/user_guide/indexing.html#returning-a-view-versus-a-copy\n",
      "  dataset['longitude'][177:201]=long_list\n"
     ]
    }
   ],
   "source": [
    "dataset['latitude'][177:201]=lat_list\n",
    "dataset['longitude'][177:201]=long_list"
   ]
  },
  {
   "cell_type": "code",
   "execution_count": 55,
   "id": "c0a740e8",
   "metadata": {},
   "outputs": [],
   "source": [
    "#store in an updated csv file \n",
    "dataset.to_csv('destinations_of_ktm_updated_200_latlong_up.csv',index=None)"
   ]
  },
  {
   "cell_type": "code",
   "execution_count": null,
   "id": "1ba71d04",
   "metadata": {},
   "outputs": [],
   "source": []
  }
 ],
 "metadata": {
  "kernelspec": {
   "display_name": "Python 3 (ipykernel)",
   "language": "python",
   "name": "python3"
  },
  "language_info": {
   "codemirror_mode": {
    "name": "ipython",
    "version": 3
   },
   "file_extension": ".py",
   "mimetype": "text/x-python",
   "name": "python",
   "nbconvert_exporter": "python",
   "pygments_lexer": "ipython3",
   "version": "3.9.7"
  }
 },
 "nbformat": 4,
 "nbformat_minor": 5
}
