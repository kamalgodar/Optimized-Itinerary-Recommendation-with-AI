{
 "cells": [
  {
   "cell_type": "code",
   "execution_count": 4,
   "id": "d5258094",
   "metadata": {},
   "outputs": [],
   "source": [
    "#import required libraries \n",
    "\n",
    "from sklearn.impute import SimpleImputer \n",
    "import pandas as pd \n",
    "import numpy as np \n",
    "import matplotlib.pyplot as plt \n",
    "import sys\n"
   ]
  },
  {
   "cell_type": "code",
   "execution_count": 5,
   "id": "6915b90a",
   "metadata": {},
   "outputs": [],
   "source": [
    "#import the dataset\n",
    "dataset=pd.read_csv('attractions_of_ktm.csv')"
   ]
  },
  {
   "cell_type": "code",
   "execution_count": 6,
   "id": "ebe8977e",
   "metadata": {},
   "outputs": [
    {
     "name": "stdout",
     "output_type": "stream",
     "text": [
      "                  title avg_rating  voted_by            genre\n",
      "0      Boudhanath Stupa        4.5      8897  Religious Sites\n",
      "1  Swayambhunath Temple        4.5      6203  Religious Sites\n",
      "2  Pashupatinath Temple        4.5      4937  Religious Sites\n",
      "3     Chandragiri Hills        4.5       399        Mountains\n",
      "4       Kopan Monastery        4.5       787  Religious Sites\n"
     ]
    }
   ],
   "source": [
    "print(dataset.head())"
   ]
  },
  {
   "cell_type": "code",
   "execution_count": 14,
   "id": "9c2bf6a0",
   "metadata": {},
   "outputs": [
    {
     "name": "stdout",
     "output_type": "stream",
     "text": [
      "['Boudhanath Stupa', 'Swayambhunath Temple', 'Pashupatinath Temple', 'Chandragiri Hills', 'Kopan Monastery', 'Thamel', 'Garden of Dreams', 'Namo Buddha (Stupa)', 'Kathmandu Durbar Square', 'Asan', 'Shivapuri Nagarjun National Park', 'Kailashnath Mahadev', 'Dakshinkali Temple', 'Budhanilkantha', 'Hanuman Dhoka', 'The Crematoria', 'Kumari Chowk', 'Narayanhiti Palace Museum', 'Babar Mahal Revisted', 'Basantapur Tower', 'Phulchoki', 'Budhanilakantha Temple', 'Pullahari Monastery', 'National Botanical Gardens', 'Jaganath (Krishna) Temple', 'Indra Chowk', 'Kathesimbu Stupa', 'Akash Bhairav Temple', 'Mandala Street', 'Sankhu Village']\n"
     ]
    }
   ],
   "source": [
    "top_30_dest=dataset['title'].head(30) #get the names of top 30 destinations in ktm\n",
    "print(top_30_dest.values.tolist())"
   ]
  },
  {
   "cell_type": "code",
   "execution_count": 154,
   "id": "13bf23cd",
   "metadata": {},
   "outputs": [],
   "source": [
    "#replace the Nan with np.nan\n",
    "dataset.replace('N',np.nan,inplace=True)"
   ]
  },
  {
   "cell_type": "code",
   "execution_count": 155,
   "id": "dc4beea8",
   "metadata": {},
   "outputs": [
    {
     "name": "stdout",
     "output_type": "stream",
     "text": [
      "551\n"
     ]
    }
   ],
   "source": [
    "#print the number of missing values\n",
    "print(pd.isna(dataset).sum().sum())"
   ]
  },
  {
   "cell_type": "code",
   "execution_count": 156,
   "id": "826fdeb8",
   "metadata": {},
   "outputs": [],
   "source": [
    "#convert the avg_rating column into float \n",
    "dataset['avg_rating']=pd.to_numeric(dataset['avg_rating'])"
   ]
  },
  {
   "cell_type": "code",
   "execution_count": 157,
   "id": "8a4ff939",
   "metadata": {},
   "outputs": [
    {
     "name": "stdout",
     "output_type": "stream",
     "text": [
      "4.834908282379099\n"
     ]
    }
   ],
   "source": [
    "#avg ratings of the locations around Kathmandu\n",
    "print(dataset['avg_rating'].mean())"
   ]
  },
  {
   "cell_type": "code",
   "execution_count": 158,
   "id": "aa11ba45",
   "metadata": {},
   "outputs": [
    {
     "name": "stdout",
     "output_type": "stream",
     "text": [
      "5.0\n",
      "                                                  title  avg_rating  voted_by  \\\n",
      "41    Cathedral of the Assumption of the Blessed Vir...         5.0        12   \n",
      "49                 Boudha Farmers Market at Utpala Cafe         5.0        15   \n",
      "50                 Chhango Adventure Canyoning In Nepal         5.0        20   \n",
      "66                                           Shanti Spa         5.0        15   \n",
      "71                                Music Museum of Nepal         5.0         7   \n",
      "...                                                 ...         ...       ...   \n",
      "1820                                     NTB Adventures         5.0        22   \n",
      "1821                            S Nepal Tours & Travels         5.0         1   \n",
      "1822                             Best Trekking in Nepal         5.0        15   \n",
      "1824                        Beyond Himalaya - Day Tours         5.0         6   \n",
      "1825            Khumbu Nangpala Trekking and Expedition         5.0         3   \n",
      "\n",
      "                                        genre  \n",
      "41    Religious Sites • Churches & Cathedrals  \n",
      "49                            Farmers Markets  \n",
      "50                     Sports Camps & Clinics  \n",
      "66                     Sports Camps & Clinics  \n",
      "71              Art Museums • History Museums  \n",
      "...                                       ...  \n",
      "1820             City Tours • Multi-day Tours  \n",
      "1821   4WD, ATV & Off-Road Tours • Bike Tours  \n",
      "1822          Cultural Tours • Climbing Tours  \n",
      "1824                        Sightseeing Tours  \n",
      "1825             City Tours • Multi-day Tours  \n",
      "\n",
      "[1510 rows x 4 columns]\n"
     ]
    }
   ],
   "source": [
    "#highest avg rating given to a location in Ktm \n",
    "print(dataset['avg_rating'].max())\n",
    "#print locations given the highest ratings \n",
    "print(dataset[dataset['avg_rating']==dataset['avg_rating'].max()])"
   ]
  },
  {
   "cell_type": "code",
   "execution_count": 159,
   "id": "d8b8c5a4",
   "metadata": {},
   "outputs": [
    {
     "name": "stdout",
     "output_type": "stream",
     "text": [
      "1.0\n",
      "                                             title  avg_rating  voted_by  \\\n",
      "138                              Lokta Paper Craft         1.0         1   \n",
      "154                      Department of Immigration         1.0         3   \n",
      "1753                          Bajrayogini Pashmina         1.0         1   \n",
      "1754                 Travel In Nepal Treks Pvt Ltd         1.0         1   \n",
      "1759                                    Bunk Tribe         1.0         1   \n",
      "1762                            Talixo - Kathmandu         1.0         1   \n",
      "1803  Himalayan Little Buddha Treks And Expedition         1.0         1   \n",
      "\n",
      "                                            genre  \n",
      "138                Points of Interest & Landmarks  \n",
      "154                          Government Buildings  \n",
      "1753                      Speciality & Gift Shops  \n",
      "1754  Multi-day Tours • 4WD, ATV & Off-Road Tours  \n",
      "1759           Multi-day Tours • Helicopter Tours  \n",
      "1762                             Taxis & Shuttles  \n",
      "1803   Adrenaline & Extreme Tours • Hiking Trails  \n"
     ]
    }
   ],
   "source": [
    "#lowest avg rating given to a location in Ktm \n",
    "print(dataset['avg_rating'].min())\n",
    "#print locations given the lowest ratings \n",
    "print(dataset[dataset['avg_rating']==dataset['avg_rating'].min()])"
   ]
  },
  {
   "cell_type": "code",
   "execution_count": 160,
   "id": "c010593f",
   "metadata": {
    "scrolled": true
   },
   "outputs": [],
   "source": [
    "#replace the missing values with the mean of the columns \n",
    "imputer=SimpleImputer(missing_values=np.nan,strategy='constant',fill_value=3)\n",
    "imputer.fit((dataset['avg_rating']).values.reshape(-1,1))\n",
    "new_avg_rating=imputer.transform(dataset['avg_rating'].values.reshape(-1,1))"
   ]
  },
  {
   "cell_type": "code",
   "execution_count": 161,
   "id": "3241fc88",
   "metadata": {},
   "outputs": [
    {
     "name": "stdout",
     "output_type": "stream",
     "text": [
      "[[4.5]\n",
      " [4.5]\n",
      " [4.5]\n",
      " ...\n",
      " [3. ]\n",
      " [3. ]\n",
      " [3. ]]\n"
     ]
    }
   ],
   "source": [
    "print(new)"
   ]
  },
  {
   "cell_type": "code",
   "execution_count": 162,
   "id": "ef9a5f00",
   "metadata": {},
   "outputs": [],
   "source": [
    "#replace the avg rating column with the new avg rating array \n",
    "dataset['avg_rating']=new_avg_rating"
   ]
  },
  {
   "cell_type": "code",
   "execution_count": 163,
   "id": "08f30e56",
   "metadata": {},
   "outputs": [
    {
     "name": "stdout",
     "output_type": "stream",
     "text": [
      "                                    title  avg_rating  voted_by  \\\n",
      "0                        Boudhanath Stupa         4.5      8897   \n",
      "1                    Swayambhunath Temple         4.5      6203   \n",
      "2                    Pashupatinath Temple         4.5      4937   \n",
      "3                       Chandragiri Hills         4.5       399   \n",
      "4                         Kopan Monastery         4.5       787   \n",
      "...                                   ...         ...       ...   \n",
      "2345         Zeal Nepal Trek & Expedition         3.0         0   \n",
      "2346                        Mohit Sunuwar         3.0         0   \n",
      "2347  SITA (Travel Corporation India Ltd)         3.0         0   \n",
      "2348                       Himalayan Hike         3.0         0   \n",
      "2349                            River Fun         3.0         0   \n",
      "\n",
      "                                            genre  \n",
      "0                                 Religious Sites  \n",
      "1                                 Religious Sites  \n",
      "2                                 Religious Sites  \n",
      "3                                       Mountains  \n",
      "4                                 Religious Sites  \n",
      "...                                           ...  \n",
      "2345     Multi-day Tours • River Rafting & Tubing  \n",
      "2346  Parasailing & Paragliding • Multi-day Tours  \n",
      "2347              Multi-day Tours • Balloon Rides  \n",
      "2348                 City Tours • Multi-day Tours  \n",
      "2349    River Rafting & Tubing • Taxis & Shuttles  \n",
      "\n",
      "[2350 rows x 4 columns]\n"
     ]
    }
   ],
   "source": [
    "print(dataset)"
   ]
  },
  {
   "cell_type": "code",
   "execution_count": 164,
   "id": "18d93786",
   "metadata": {},
   "outputs": [
    {
     "name": "stdout",
     "output_type": "stream",
     "text": [
      "['Religious Sites' 'Mountains' 'Neighborhoods' 'Gardens'\n",
      " 'Points of Interest & Landmarks • Religious Sites'\n",
      " 'Historic Sites • Points of Interest & Landmarks' 'Flea & Street Markets'\n",
      " 'National Parks' 'Monuments & Statues'\n",
      " 'Points of Interest & Landmarks • Architectural Buildings'\n",
      " 'Speciality Museums' 'Architectural Buildings' 'Lookouts'\n",
      " 'Historic Walking Areas' 'Neighborhoods • Points of Interest & Landmarks'\n",
      " 'Points of Interest & Landmarks • Historic Walking Areas' 'Parks'\n",
      " 'Religious Sites • Monuments & Statues' 'Sports Complexes'\n",
      " 'Points of Interest & Landmarks' 'Bodies of Water'\n",
      " 'Art Museums • History Museums' 'Nature & Wildlife Areas • Forests'\n",
      " 'Religious Sites • Churches & Cathedrals' 'Casinos' 'History Museums'\n",
      " 'Farmers Markets' 'Sports Camps & Clinics' 'Art Galleries' 'Libraries'\n",
      " 'Natural History Museums' 'Shopping Malls'\n",
      " 'Points of Interest & Landmarks • Monuments & Statues'\n",
      " 'Military Museums • History Museums'\n",
      " 'Architectural Buildings • Religious Sites' 'Amusement & Theme Parks'\n",
      " 'Points of Interest & Landmarks • Scenic Walking Areas' 'Valleys'\n",
      " \"Speciality Museums • Children's Museums\" 'Waterfalls'\n",
      " 'Nature & Wildlife Areas • Parks' 'Art Galleries • Antique Shops'\n",
      " 'Factory Outlets' 'Historic Sites • Historic Walking Areas'\n",
      " 'Antique Shops' 'Dams' 'Historic Sites • Monuments & Statues'\n",
      " 'Points of Interest & Landmarks • Lookouts' 'Convention Centers'\n",
      " 'Historic Sites • Religious Sites' 'Government Buildings'\n",
      " 'City Tours • Cultural Tours'\n",
      " 'Multi-day Tours • Historical & Heritage Tours'\n",
      " 'Multi-day Tours • Cultural Tours' 'Multi-day Tours • Eco Tours'\n",
      " 'Cultural Tours • Helicopter Tours'\n",
      " 'Historical & Heritage Tours • Sightseeing Tours'\n",
      " 'Multi-day Tours • Hiking & Camping Tours'\n",
      " 'Hiking & Camping Tours • Private Tours' 'Sightseeing Tours'\n",
      " 'River Rafting & Tubing • Cultural Tours'\n",
      " 'Hiking & Camping Tours • Nature & Wildlife Tours'\n",
      " 'City Tours • Multi-day Tours' 'Bus Services • Taxis & Shuttles'\n",
      " 'Yoga & Pilates • Spas' 'Cultural Tours • Historical & Heritage Tours'\n",
      " 'Multi-day Tours • Helicopter Tours' 'Private Tours'\n",
      " 'Multi-day Tours • Walking Tours'\n",
      " 'Climbing Tours • Hiking & Camping Tours'\n",
      " 'Helicopter Tours • Historical & Heritage Tours'\n",
      " 'Canyoning & Rappelling Tours • Walking Tours'\n",
      " 'Multi-day Tours • River Rafting & Tubing' 'Cultural Tours • Eco Tours'\n",
      " 'Multi-day Tours • Sightseeing Tours'\n",
      " 'Cultural Tours • Adrenaline & Extreme Tours'\n",
      " 'City Tours • River Rafting & Tubing' 'Hiking & Camping Tours'\n",
      " 'City Tours • Helicopter Tours' 'Eco Tours' 'Cooking Classes'\n",
      " 'Sightseeing Tours • Day Trips' 'Cultural Tours • Sightseeing Tours'\n",
      " 'Walking Tours • Climbing Tours'\n",
      " 'Multi-day Tours • Adrenaline & Extreme Tours'\n",
      " 'City Tours • Climbing Tours'\n",
      " 'Multi-day Tours • 4WD, ATV & Off-Road Tours'\n",
      " 'Multi-day Tours • Climbing Tours'\n",
      " 'Sightseeing Tours • Hiking & Camping Tours'\n",
      " '4WD, ATV & Off-Road Tours • Motorcycle Tours' 'Yoga & Pilates'\n",
      " 'City Tours • Adrenaline & Extreme Tours'\n",
      " 'Helicopter Tours • Sightseeing Tours' 'Bike Tours'\n",
      " 'Bike Tours • Climbing Tours'\n",
      " 'River Rafting & Tubing • Historical & Heritage Tours' 'Spas'\n",
      " 'Taxis & Shuttles • Hiking & Camping Tours'\n",
      " 'Historical & Heritage Tours • Hiking & Camping Tours'\n",
      " 'Multi-day Tours • Motorcycle Tours'\n",
      " 'Helicopter Tours • Adrenaline & Extreme Tours'\n",
      " 'Canyoning & Rappelling Tours • Hiking & Camping Tours'\n",
      " 'Parasailing & Paragliding • Cultural Tours' 'Speciality & Gift Shops'\n",
      " 'Cultural Tours • Shopping Tours' 'Cultural Tours • Walking Tours'\n",
      " 'Parasailing & Paragliding • City Tours' 'Private Tours • Air Tours'\n",
      " 'River Rafting & Tubing • Walking Tours' 'City Tours • Shopping Tours'\n",
      " 'Adrenaline & Extreme Tours • Climbing Tours'\n",
      " 'Cultural Tours • Climbing Tours'\n",
      " 'River Rafting & Tubing • Sightseeing Tours'\n",
      " 'Parasailing & Paragliding • Walking Tours'\n",
      " 'City Tours • Historical & Heritage Tours'\n",
      " 'Hiking & Camping Tours • Day Trips'\n",
      " 'River Rafting & Tubing • Helicopter Tours'\n",
      " 'Historical & Heritage Tours • Eco Tours' 'Multi-day Tours • Safaris'\n",
      " 'Climbing Tours • Sightseeing Tours'\n",
      " 'City Tours • Hiking & Camping Tours'\n",
      " 'Hiking & Camping Tours • Air Tours'\n",
      " 'Historical & Heritage Tours • Private Tours'\n",
      " 'City Tours • Sightseeing Tours' 'City Tours'\n",
      " 'Multi-day Tours • Bike Tours' 'Walking Tours • Hiking & Camping Tours'\n",
      " 'Taxis & Shuttles' 'Boat Tours' 'Multi-day Tours • Day Trips'\n",
      " 'City Tours • Walking Tours'\n",
      " 'River Rafting & Tubing • Adrenaline & Extreme Tours'\n",
      " 'Helicopter Tours • Walking Tours' 'Helicopter Tours • Eco Tours'\n",
      " 'Adrenaline & Extreme Tours • Private Tours'\n",
      " 'Helicopter Tours • Climbing Tours' 'Walking Tours • Eco Tours'\n",
      " 'Other Outdoor Activities' 'Multi-day Tours • Biking Trails'\n",
      " 'Nature & Wildlife Tours' 'Air Tours' 'Walking Tours'\n",
      " 'Helicopter Tours • Hiking & Camping Tours' 'City Tours • Day Trips'\n",
      " 'Cultural Tours • Hiking & Camping Tours'\n",
      " 'River Rafting & Tubing • Hiking & Camping Tours'\n",
      " 'Helicopter Tours • Taxis & Shuttles' 'Helicopter Tours'\n",
      " 'River Rafting & Tubing • Climbing Tours'\n",
      " 'Historical & Heritage Tours • Walking Tours' 'Bars & Clubs'\n",
      " 'Multi-day Tours • Private Tours' 'Safaris • Climbing Tours'\n",
      " 'Cultural Tours • Bike Tours' 'Art Museums' 'Climbing Tours • Eco Tours'\n",
      " 'Hiking & Camping Tours • Bus Tours' 'Taxis & Shuttles • Private Tours'\n",
      " '4WD, ATV & Off-Road Tours • Adrenaline & Extreme Tours'\n",
      " 'Vespa, Scooter & Moped Tours'\n",
      " 'Parasailing & Paragliding • Multi-day Tours' 'Bike Tours • Eco Tours'\n",
      " 'Multi-day Tours • Taxis & Shuttles' 'City Tours • Motorcycle Tours'\n",
      " 'River Rafting & Tubing • Canyoning & Rappelling Tours'\n",
      " 'Zipline & Aerial Adventure Parks • Walking Tours'\n",
      " 'Parasailing & Paragliding • Adrenaline & Extreme Tours'\n",
      " 'Adrenaline & Extreme Tours' 'Eco Tours • Hiking & Camping Tours'\n",
      " 'River Rafting & Tubing • Kayaking & Canoeing'\n",
      " 'Safaris • Sightseeing Tours' 'River Rafting & Tubing • Bike Tours'\n",
      " 'Parasailing & Paragliding • River Rafting & Tubing'\n",
      " 'Kayaking & Canoeing' 'Historical & Heritage Tours • Climbing Tours'\n",
      " 'Adrenaline & Extreme Tours • Hiking & Camping Tours'\n",
      " 'City Tours • Bike Tours' 'Sightseeing Tours • Bus Tours' 'Day Trips'\n",
      " 'Multi-day Tours • Canyoning & Rappelling Tours'\n",
      " 'Paint & Pottery Studios' 'Water Sports' 'Eco Tours • Private Tours'\n",
      " 'Parasailing & Paragliding • Sightseeing Tours'\n",
      " 'Parasailing & Paragliding • Food Tours'\n",
      " 'Sightseeing Tours • Nature & Wildlife Tours' 'Cultural Tours'\n",
      " 'Cultural Tours • Taxis & Shuttles'\n",
      " 'Helicopter Tours • Nature & Wildlife Tours' 'Visitor Centers'\n",
      " 'Fishing Charters & Tours' 'Taxis & Shuttles • Eco Tours'\n",
      " 'Bar, Club & Pub Tours • Climbing Tours'\n",
      " 'Canyoning & Rappelling Tours • Climbing Tours'\n",
      " 'Cultural Tours • Canyoning & Rappelling Tours'\n",
      " 'Parasailing & Paragliding' 'City Tours • Eco Tours'\n",
      " 'Adrenaline & Extreme Tours • Taxis & Shuttles'\n",
      " 'Historical & Heritage Tours • Bike Tours'\n",
      " 'River Rafting & Tubing • Water Sports'\n",
      " 'Lessons & Workshops • Cooking Classes'\n",
      " 'Historical & Heritage Tours • Zipline & Aerial Adventure Parks'\n",
      " 'Multi-day Tours • Bus Tours' '4WD, ATV & Off-Road Tours • Bike Tours'\n",
      " 'Lessons & Workshops'\n",
      " 'Adrenaline & Extreme Tours • Historical & Heritage Tours'\n",
      " 'River Rafting & Tubing • Air Tours'\n",
      " 'Paint & Pottery Studios • Multi-day Tours'\n",
      " '4WD, ATV & Off-Road Tours • Helicopter Tours' 'Climbing Tours'\n",
      " 'Multi-day Tours • Nature & Wildlife Tours'\n",
      " 'Playgrounds • Game & Entertainment Centers'\n",
      " 'Cultural Tours • Nature & Wildlife Tours' 'Historical & Heritage Tours'\n",
      " 'Hiking & Camping Tours • Kayaking & Canoeing'\n",
      " 'Bike Tours • Gear Rentals' 'Walking Tours • Sightseeing Tours'\n",
      " 'River Rafting & Tubing' '4WD, ATV & Off-Road Tours • Walking Tours'\n",
      " 'Hiking Trails' 'Hiking Trails • Hiking & Camping Tours'\n",
      " 'Bike Tours • Private Tours' 'Sports Camps & Clinics • Day Trips'\n",
      " 'City Tours • Water Sports' 'Cultural Tours • 4WD, ATV & Off-Road Tours'\n",
      " 'Cultural Tours • Day Trips' 'Speciality & Gift Shops • Art Galleries'\n",
      " 'Bike Tours • Hiking & Camping Tours' 'Cultural Tours • Safaris'\n",
      " 'Archaeology Tours' 'Multi-day Tours • Ski & Snow Tours'\n",
      " 'Climbing Tours • Hiking Trails' 'Cooking Classes • Food Tours'\n",
      " 'Multi-day Tours • Boat Tours' 'Taxis & Shuttles • Walking Tours'\n",
      " 'Safaris • Hiking & Camping Tours' 'Helicopter Tours • Air Tours'\n",
      " 'Safaris • Ski & Snow Tours' 'Horseback Riding Tours'\n",
      " 'Helicopter Tours • Bike Tours'\n",
      " 'Canyoning & Rappelling Tours • Ski & Snow Tours' 'Movie Theaters'\n",
      " '4WD, ATV & Off-Road Tours • Safaris'\n",
      " 'Canyoning & Rappelling Tours • Taxis & Shuttles' 'Coffee & Tea Tours'\n",
      " 'Parasailing & Paragliding • Helicopter Tours'\n",
      " 'Multi-day Tours • Coffee & Tea Tours'\n",
      " 'River Rafting & Tubing • Private Tours'\n",
      " 'Speciality & Gift Shops • Antique Shops'\n",
      " 'Bars & Clubs • Dance Clubs & Discos' 'Coffee & Tea Tours • Food Tours'\n",
      " 'Theaters • Theatre & Performances'\n",
      " 'Canyoning & Rappelling Tours • 4WD, ATV & Off-Road Tours'\n",
      " 'Motorcycle Trails' 'Climbing Tours • Nature & Wildlife Tours'\n",
      " 'Parasailing & Paragliding • Canyoning & Rappelling Tours'\n",
      " '4WD, ATV & Off-Road Tours • Taxis & Shuttles'\n",
      " 'Sports Camps & Clinics • Horse-Drawn Carriage Tours' 'Multi-day Tours'\n",
      " 'Game & Entertainment Centers' 'Helicopter Tours • Private Tours'\n",
      " 'Shopping Tours' 'River Rafting & Tubing • Gear Rentals'\n",
      " 'Adrenaline & Extreme Tours • Sightseeing Tours'\n",
      " 'Horse-Drawn Carriage Tours • Food Tours' 'Bus Services'\n",
      " 'Safaris • Nature & Wildlife Tours' 'Taxis & Shuttles • Boat Tours'\n",
      " 'Adrenaline & Extreme Tours • Hiking Trails'\n",
      " 'Health Clubs • Yoga & Pilates' 'Eco Tours • Nature & Wildlife Tours'\n",
      " 'Sports Camps & Clinics • Beer Tastings & Tours'\n",
      " 'City Tours • Nature & Wildlife Tours' '4WD, ATV & Off-Road Tours'\n",
      " 'Distillery Tours • Taxis & Shuttles'\n",
      " 'Yoga & Pilates • Lessons & Workshops'\n",
      " 'Parasailing & Paragliding • Submarine Tours' 'Private Tours • Day Trips'\n",
      " 'Architectural Buildings • Libraries' 'Bike Tours • Motorcycle Tours'\n",
      " 'Bar, Club & Pub Tours • Adrenaline & Extreme Tours'\n",
      " 'Paint & Pottery Studios • Sports Camps & Clinics'\n",
      " 'Bars & Clubs • Karaoke Bars' 'Safaris • Walking Tours'\n",
      " 'Taxis & Shuttles • Day Trips'\n",
      " 'Motorcycle Tours • Self-Guided Tours & Rentals'\n",
      " 'Helicopter Tours • Balloon Rides'\n",
      " '4WD, ATV & Off-Road Tours • Climbing Tours'\n",
      " 'Multi-day Tours • Gear Rentals' 'Motorcycle Tours'\n",
      " 'Climbing Tours • Motorcycle Tours'\n",
      " 'Bar, Club & Pub Tours • Multi-day Tours' 'Historic Sites'\n",
      " 'Parasailing & Paragliding • Factory Tours' 'Helicopter Tours • Safaris'\n",
      " 'Parasailing & Paragliding • Photography Tours'\n",
      " '4WD, ATV & Off-Road Tours • Hiking & Camping Tours'\n",
      " 'Parasailing & Paragliding • Paint & Pottery Studios'\n",
      " 'Bike Tours • Walking Tours'\n",
      " 'Taxis & Shuttles • Self-Guided Tours & Rentals'\n",
      " 'Yoga & Pilates • Eco Tours'\n",
      " 'Parasailing & Paragliding • 4WD, ATV & Off-Road Tours'\n",
      " 'Distilleries • Wineries & Vineyards' 'Walking Tours • Motorcycle Tours'\n",
      " 'River Rafting & Tubing • Boat Tours'\n",
      " 'Paint & Pottery Studios • Cooking Classes'\n",
      " 'City Tours • Paint & Pottery Studios'\n",
      " 'Canyoning & Rappelling Tours • Helicopter Tours'\n",
      " 'Multi-day Tours • Balloon Rides'\n",
      " 'Nature & Wildlife Tours • Horseback Riding Tours'\n",
      " 'River Rafting & Tubing • Taxis & Shuttles']\n"
     ]
    }
   ],
   "source": [
    "print(dataset['genre'].unique())"
   ]
  },
  {
   "cell_type": "code",
   "execution_count": 165,
   "id": "822bb598",
   "metadata": {},
   "outputs": [
    {
     "data": {
      "text/plain": [
       "0                                   Religious Sites\n",
       "1                                   Religious Sites\n",
       "2                                   Religious Sites\n",
       "3                                         Mountains\n",
       "4                                   Religious Sites\n",
       "                           ...                     \n",
       "2345       Multi-day Tours • River Rafting & Tubing\n",
       "2346    Parasailing & Paragliding • Multi-day Tours\n",
       "2347                Multi-day Tours • Balloon Rides\n",
       "2348                   City Tours • Multi-day Tours\n",
       "2349      River Rafting & Tubing • Taxis & Shuttles\n",
       "Name: genre, Length: 2350, dtype: object"
      ]
     },
     "execution_count": 165,
     "metadata": {},
     "output_type": "execute_result"
    }
   ],
   "source": [
    "dataset['genre']"
   ]
  },
  {
   "cell_type": "code",
   "execution_count": 166,
   "id": "213e6839",
   "metadata": {},
   "outputs": [],
   "source": [
    "genre_arr=[] #store all values for each row in this array\n",
    "for i in range(len(dataset['genre'])):\n",
    "    arr=[] #array to store stripped items\n",
    "    splitted_arr=dataset['genre'][i].split('•')\n",
    "    for item in splitted_arr:\n",
    "        new_stripped_item=item.strip()\n",
    "        arr.append(new_stripped_item)\n",
    "    genre_arr.append(arr)\n",
    "\n",
    "dataset['genre']=genre_arr"
   ]
  },
  {
   "cell_type": "code",
   "execution_count": 167,
   "id": "0e9f9fda",
   "metadata": {},
   "outputs": [
    {
     "data": {
      "text/html": [
       "<div>\n",
       "<style scoped>\n",
       "    .dataframe tbody tr th:only-of-type {\n",
       "        vertical-align: middle;\n",
       "    }\n",
       "\n",
       "    .dataframe tbody tr th {\n",
       "        vertical-align: top;\n",
       "    }\n",
       "\n",
       "    .dataframe thead th {\n",
       "        text-align: right;\n",
       "    }\n",
       "</style>\n",
       "<table border=\"1\" class=\"dataframe\">\n",
       "  <thead>\n",
       "    <tr style=\"text-align: right;\">\n",
       "      <th></th>\n",
       "      <th>title</th>\n",
       "      <th>avg_rating</th>\n",
       "      <th>voted_by</th>\n",
       "      <th>genre</th>\n",
       "    </tr>\n",
       "  </thead>\n",
       "  <tbody>\n",
       "    <tr>\n",
       "      <th>0</th>\n",
       "      <td>Boudhanath Stupa</td>\n",
       "      <td>4.5</td>\n",
       "      <td>8897</td>\n",
       "      <td>[Religious Sites]</td>\n",
       "    </tr>\n",
       "    <tr>\n",
       "      <th>1</th>\n",
       "      <td>Swayambhunath Temple</td>\n",
       "      <td>4.5</td>\n",
       "      <td>6203</td>\n",
       "      <td>[Religious Sites]</td>\n",
       "    </tr>\n",
       "    <tr>\n",
       "      <th>2</th>\n",
       "      <td>Pashupatinath Temple</td>\n",
       "      <td>4.5</td>\n",
       "      <td>4937</td>\n",
       "      <td>[Religious Sites]</td>\n",
       "    </tr>\n",
       "    <tr>\n",
       "      <th>3</th>\n",
       "      <td>Chandragiri Hills</td>\n",
       "      <td>4.5</td>\n",
       "      <td>399</td>\n",
       "      <td>[Mountains]</td>\n",
       "    </tr>\n",
       "    <tr>\n",
       "      <th>4</th>\n",
       "      <td>Kopan Monastery</td>\n",
       "      <td>4.5</td>\n",
       "      <td>787</td>\n",
       "      <td>[Religious Sites]</td>\n",
       "    </tr>\n",
       "    <tr>\n",
       "      <th>...</th>\n",
       "      <td>...</td>\n",
       "      <td>...</td>\n",
       "      <td>...</td>\n",
       "      <td>...</td>\n",
       "    </tr>\n",
       "    <tr>\n",
       "      <th>2345</th>\n",
       "      <td>Zeal Nepal Trek &amp; Expedition</td>\n",
       "      <td>3.0</td>\n",
       "      <td>0</td>\n",
       "      <td>[Multi-day Tours, River Rafting &amp; Tubing]</td>\n",
       "    </tr>\n",
       "    <tr>\n",
       "      <th>2346</th>\n",
       "      <td>Mohit Sunuwar</td>\n",
       "      <td>3.0</td>\n",
       "      <td>0</td>\n",
       "      <td>[Parasailing &amp; Paragliding, Multi-day Tours]</td>\n",
       "    </tr>\n",
       "    <tr>\n",
       "      <th>2347</th>\n",
       "      <td>SITA (Travel Corporation India Ltd)</td>\n",
       "      <td>3.0</td>\n",
       "      <td>0</td>\n",
       "      <td>[Multi-day Tours, Balloon Rides]</td>\n",
       "    </tr>\n",
       "    <tr>\n",
       "      <th>2348</th>\n",
       "      <td>Himalayan Hike</td>\n",
       "      <td>3.0</td>\n",
       "      <td>0</td>\n",
       "      <td>[City Tours, Multi-day Tours]</td>\n",
       "    </tr>\n",
       "    <tr>\n",
       "      <th>2349</th>\n",
       "      <td>River Fun</td>\n",
       "      <td>3.0</td>\n",
       "      <td>0</td>\n",
       "      <td>[River Rafting &amp; Tubing, Taxis &amp; Shuttles]</td>\n",
       "    </tr>\n",
       "  </tbody>\n",
       "</table>\n",
       "<p>2350 rows × 4 columns</p>\n",
       "</div>"
      ],
      "text/plain": [
       "                                    title  avg_rating  voted_by  \\\n",
       "0                        Boudhanath Stupa         4.5      8897   \n",
       "1                    Swayambhunath Temple         4.5      6203   \n",
       "2                    Pashupatinath Temple         4.5      4937   \n",
       "3                       Chandragiri Hills         4.5       399   \n",
       "4                         Kopan Monastery         4.5       787   \n",
       "...                                   ...         ...       ...   \n",
       "2345         Zeal Nepal Trek & Expedition         3.0         0   \n",
       "2346                        Mohit Sunuwar         3.0         0   \n",
       "2347  SITA (Travel Corporation India Ltd)         3.0         0   \n",
       "2348                       Himalayan Hike         3.0         0   \n",
       "2349                            River Fun         3.0         0   \n",
       "\n",
       "                                             genre  \n",
       "0                                [Religious Sites]  \n",
       "1                                [Religious Sites]  \n",
       "2                                [Religious Sites]  \n",
       "3                                      [Mountains]  \n",
       "4                                [Religious Sites]  \n",
       "...                                            ...  \n",
       "2345     [Multi-day Tours, River Rafting & Tubing]  \n",
       "2346  [Parasailing & Paragliding, Multi-day Tours]  \n",
       "2347              [Multi-day Tours, Balloon Rides]  \n",
       "2348                 [City Tours, Multi-day Tours]  \n",
       "2349    [River Rafting & Tubing, Taxis & Shuttles]  \n",
       "\n",
       "[2350 rows x 4 columns]"
      ]
     },
     "execution_count": 167,
     "metadata": {},
     "output_type": "execute_result"
    }
   ],
   "source": [
    "dataset"
   ]
  },
  {
   "cell_type": "code",
   "execution_count": 168,
   "id": "f282e6b1",
   "metadata": {},
   "outputs": [
    {
     "name": "stdout",
     "output_type": "stream",
     "text": [
      "0                                  [Religious Sites]\n",
      "1                                  [Religious Sites]\n",
      "2                                  [Religious Sites]\n",
      "3                                        [Mountains]\n",
      "4                                  [Religious Sites]\n",
      "                            ...                     \n",
      "2345       [Multi-day Tours, River Rafting & Tubing]\n",
      "2346    [Parasailing & Paragliding, Multi-day Tours]\n",
      "2347                [Multi-day Tours, Balloon Rides]\n",
      "2348                   [City Tours, Multi-day Tours]\n",
      "2349      [River Rafting & Tubing, Taxis & Shuttles]\n",
      "Name: genre, Length: 2350, dtype: object\n"
     ]
    }
   ],
   "source": [
    "print(dataset['genre'])"
   ]
  },
  {
   "cell_type": "code",
   "execution_count": 172,
   "id": "e6fa5b4c",
   "metadata": {},
   "outputs": [],
   "source": [
    "#append all the items in the individual list from genre into a super list \n",
    "super_genre_list=[]\n",
    "for each_list in dataset['genre']:\n",
    "    for item in each_list:\n",
    "        super_genre_list.append(item)\n",
    "\n",
    "#convert that into set to have only the unique values \n",
    "superset=set((super_genre_list))"
   ]
  },
  {
   "cell_type": "code",
   "execution_count": 171,
   "id": "d8e45cf5",
   "metadata": {},
   "outputs": [
    {
     "name": "stdout",
     "output_type": "stream",
     "text": [
      "{'Art Galleries', 'Architectural Buildings', 'Horse-Drawn Carriage Tours', 'Vespa, Scooter & Moped Tours', 'Amusement & Theme Parks', 'Archaeology Tours', 'Nature & Wildlife Tours', 'Antique Shops', 'Convention Centers', 'Neighborhoods', 'Motorcycle Tours', 'Government Buildings', 'Shopping Tours', 'Theaters', 'Dance Clubs & Discos', 'Motorcycle Trails', 'Distilleries', 'Visitor Centers', 'Kayaking & Canoeing', 'Ski & Snow Tours', 'Factory Tours', 'Other Outdoor Activities', 'National Parks', 'Distillery Tours', 'Bars & Clubs', 'Horseback Riding Tours', 'Canyoning & Rappelling Tours', 'Coffee & Tea Tours', 'Multi-day Tours', 'Historic Sites', 'Submarine Tours', 'Walking Tours', 'Waterfalls', 'Military Museums', '4WD, ATV & Off-Road Tours', 'Fishing Charters & Tours', 'Factory Outlets', 'Playgrounds', 'Game & Entertainment Centers', 'Forests', 'Mountains', 'Private Tours', 'Scenic Walking Areas', 'Safaris', 'Taxis & Shuttles', 'Food Tours', 'Dams', 'Zipline & Aerial Adventure Parks', 'Biking Trails', 'Gear Rentals', 'Bike Tours', 'Climbing Tours', 'Health Clubs', 'Speciality & Gift Shops', 'Speciality Museums', 'Eco Tours', 'Parks', 'Boat Tours', 'River Rafting & Tubing', 'Gardens', 'Movie Theaters', 'Cultural Tours', 'Lessons & Workshops', 'Karaoke Bars', 'Theatre & Performances', 'Natural History Museums', 'Sports Camps & Clinics', 'Points of Interest & Landmarks', 'Day Trips', 'Wineries & Vineyards', 'Water Sports', 'Spas', 'Shopping Malls', 'Sports Complexes', 'Bus Services', 'Historical & Heritage Tours', \"Children's Museums\", 'City Tours', 'Parasailing & Paragliding', 'Balloon Rides', 'Photography Tours', 'Self-Guided Tours & Rentals', 'Religious Sites', 'Paint & Pottery Studios', 'Hiking & Camping Tours', 'Bus Tours', 'Churches & Cathedrals', 'Valleys', 'Art Museums', 'Hiking Trails', 'Adrenaline & Extreme Tours', 'Libraries', 'Beer Tastings & Tours', 'Monuments & Statues', 'Lookouts', 'Helicopter Tours', 'Sightseeing Tours', 'Casinos', 'Cooking Classes', 'Air Tours', 'Historic Walking Areas', 'Bodies of Water', 'Nature & Wildlife Areas', 'History Museums', 'Farmers Markets', 'Flea & Street Markets', 'Yoga & Pilates', 'Bar, Club & Pub Tours'}\n"
     ]
    }
   ],
   "source": [
    "print(superset)"
   ]
  },
  {
   "cell_type": "code",
   "execution_count": 87,
   "id": "cc5b53e7",
   "metadata": {},
   "outputs": [
    {
     "name": "stdout",
     "output_type": "stream",
     "text": [
      "108\n"
     ]
    }
   ],
   "source": [
    "print(len(superset))"
   ]
  },
  {
   "cell_type": "code",
   "execution_count": 234,
   "id": "d8c9fcdc",
   "metadata": {},
   "outputs": [],
   "source": [
    "#make checklists\n",
    "industries_checklist=['Distilleries','Factory Tours','Factory Outlets','Lessons & Workshops', 'Wineries & Vineyards']\n",
    "health_and_lifestyle_checklist=['Sports Camps & Clinics','Spas','Yoga & Pilates',]\n",
    "food_checklist=['Coffee & Tea Tours','Food Tours','Wineries & Vineyards', 'Beer Tastings & Tours',\\\n",
    "               'Cooking Classes','Farmers Markets',]\n",
    "\n",
    "entertainment_checklist=['Horse-Drawn Carriage Tours', 'Vespa, Scooter & Moped Tours', 'Amusement & Theme Parks',\\\n",
    "                        'Shopping Tours', 'Theaters', 'Dance Clubs & Discos','Other Outdoor Activities',\\\n",
    "                        'Bars & Clubs','Coffee & Tea Tours','Fishing Charters & Tours','Playgrounds', 'Game & Entertainment Centers',\\\n",
    "                        'Food Tours','Movie Theaters','Karaoke Bars','Theatre & Performances','Shopping Malls', 'Sports Complexes',\\\n",
    "                        'City Tours','Self-Guided Tours & Rentals','Farmers Markets', 'Flea & Street Markets',\\\n",
    "                        'Bar, Club & Pub Tours','Casinos',]\n",
    "\n",
    "religious_checklist=['Art Galleries','Archaeology Tours','Antique Shops','Cultural Tours','Religious Sites','Monuments & Statues']\n",
    "\n",
    "adventure_checklist=['Archaeology Tours', 'Nature & Wildlife Tours','Kayaking & Canoeing', 'Ski & Snow Tours',\\\n",
    "                    'Motorcycle Trails', 'Horseback Riding Tours', 'Canyoning & Rappelling Tours',\\\n",
    "                     'Safaris','Zipline & Aerial Adventure Parks', 'Biking Trails', 'Gear Rentals', 'Bike Tours',\\\n",
    "                     'Climbing Tours','Eco Tours','River Rafting & Tubing','Sports Camps & Clinics',\\\n",
    "                     'Parasailing & Paragliding', 'Balloon Rides', 'Photography Tours','4WD, ATV & Off-Road Tours',\\\n",
    "                     'Hiking & Camping Tours', 'Bus Tours','Hiking Trails', 'Adrenaline & Extreme Tours',\\\n",
    "                     'Helicopter Tours', 'Sightseeing Tours','Nature & Wildlife Areas','Submarine Tours',\\\n",
    "                    ]\n",
    "nature_checklist=['Nature & Wildlife Tours','Dams','National Parks','Fishing Charters & Tours','Forests', 'Mountains', 'Private Tours',\\\n",
    "                  'Scenic Walking Areas','Safaris','Climbing Tours','Points of Interest & Landmarks','Wineries & Vineyards',\\\n",
    "                  'Water Sports','Valleys','Hiking Trails','Adrenaline & Extreme Tours','Lookouts', 'Helicopter Tours',\\\n",
    "                  'Sightseeing Tours', 'Air Tours','Bodies of Water', 'Nature & Wildlife Areas',\\\n",
    "                 ]\n",
    "\n",
    "art_and_architecture_checklist=['Art Galleries','Architectural Buildings','Archaeology Tours','Antique Shops','Government Buildings',\\\n",
    "                      'Historic Sites','Military Museums','Speciality & Gift Shops','Theaters','Cultural Tours',\\\n",
    "                      'Natural History Museums','Points of Interest & Landmarks','Historical & Heritage Tours', \"Children's Museums\",\\\n",
    "                      'City Tours','Religious Sites','Paint & Pottery Studios','Churches & Cathedrals',\\\n",
    "                      'Art Museums','Libraries','Monuments & Statues','Lookouts','History Museums','Convention Centers',\\\n",
    "                      'Movie Theaters','Sightseeing Tours','Historic Walking Areas',\n",
    "                      ]\n",
    "\n",
    "history_checklist=['Art Galleries','Architectural Buildings','Archaeology Tours','Antique Shops','Government Buildings',\\\n",
    "                  'Multi-day Tours','Historic Sites','Military Museums','Speciality & Gift Shops',\\\n",
    "                  'Natural History Museums','Points of Interest & Landmarks','Historical & Heritage Tours', \"Children's Museums\",\\\n",
    "                  'City Tours','Religious Sites','Paint & Pottery Studios','Churches & Cathedrals',\\\n",
    "                  'Art Museums','Libraries','Monuments & Statues','Lookouts','History Museums','Convention Centers',\\\n",
    "                  'Factory Tours','Historic Walking Areas',\n",
    "                  ]"
   ]
  },
  {
   "cell_type": "markdown",
   "id": "66c904b3",
   "metadata": {},
   "source": [
    "## Adding more columns to genre to make it easier for recommendation \n",
    "\n",
    "Columns to add :<b> History,Art and Architecture,Religious,Nature,Adventure,Entertainment,Food,Health and Lifesyle,Industries</b>\n",
    "\n",
    "Columns will be given value for each record as per the description in the original 'genre' column"
   ]
  },
  {
   "cell_type": "code",
   "execution_count": 293,
   "id": "8a39726d",
   "metadata": {},
   "outputs": [],
   "source": [
    "def assign_history_col(dataset):\n",
    "    '''assigns history column'''\n",
    "    history_arr=[]\n",
    "    #iterate through every row of dataset \n",
    "    for each_list in dataset['genre']:\n",
    "        for item in each_list:\n",
    "            #history column\n",
    "            if(any(check_item.lower() == item.lower() for check_item in history_checklist)):\n",
    "                history_arr.append(True)\n",
    "                break\n",
    "            else:\n",
    "                history_arr.append(False)\n",
    "                break\n",
    "    return history_arr"
   ]
  },
  {
   "cell_type": "code",
   "execution_count": 294,
   "id": "46f7e719",
   "metadata": {},
   "outputs": [],
   "source": [
    "history_arr=assign_history_col(dataset)\n",
    "dataset['history']=history_arr"
   ]
  },
  {
   "cell_type": "code",
   "execution_count": 295,
   "id": "e6db2eea",
   "metadata": {},
   "outputs": [],
   "source": [
    "def assign_art_and_architecture_col(dataset):\n",
    "    '''assigns art_and_architecture column'''    \n",
    "    art_and_architecture_arr=[]\n",
    "    #iterate through every row of dataset \n",
    "    for each_list in dataset['genre']:\n",
    "        for item in each_list:\n",
    "            if(any(check_item.lower() == item.lower() for check_item in art_and_architecture_checklist)):\n",
    "                art_and_architecture_arr.append(True)\n",
    "                break\n",
    "            else:\n",
    "                art_and_architecture_arr.append(False)\n",
    "                break\n",
    "    return art_and_architecture_arr"
   ]
  },
  {
   "cell_type": "code",
   "execution_count": 296,
   "id": "82b79eb2",
   "metadata": {},
   "outputs": [],
   "source": [
    "art_and_architecture_arr=assign_art_and_architecture_col(dataset)\n",
    "dataset['art_and_architecture']=art_and_architecture_arr"
   ]
  },
  {
   "cell_type": "code",
   "execution_count": 297,
   "id": "46f8be24",
   "metadata": {},
   "outputs": [],
   "source": [
    "def assign_nature_col(dataset):\n",
    "    '''assigns nature column'''\n",
    "    nature_arr=[]\n",
    "    #iterate through every row of dataset \n",
    "    for each_list in dataset['genre']:\n",
    "        for item in each_list:\n",
    "            if(any(check_item.lower() == item.lower() for check_item in nature_checklist)):\n",
    "                nature_arr.append(True)\n",
    "                break\n",
    "            else:\n",
    "                nature_arr.append(False)\n",
    "                break\n",
    "    return nature_arr"
   ]
  },
  {
   "cell_type": "code",
   "execution_count": 298,
   "id": "e39c1159",
   "metadata": {},
   "outputs": [],
   "source": [
    "nature_arr=assign_nature_col(dataset)\n",
    "dataset['nature']=nature_arr"
   ]
  },
  {
   "cell_type": "code",
   "execution_count": 299,
   "id": "a4c076c6",
   "metadata": {},
   "outputs": [],
   "source": [
    "def assign_adventure_col(dataset):\n",
    "    '''assigns adventure column'''\n",
    "    adventure_arr=[]\n",
    "    #iterate through every row of dataset \n",
    "    for each_list in dataset['genre']:\n",
    "        for item in each_list:\n",
    "            if(any(check_item.lower() == item.lower() for check_item in adventure_checklist)):\n",
    "                adventure_arr.append(True)\n",
    "                break\n",
    "            else:\n",
    "                adventure_arr.append(False)\n",
    "                break\n",
    "    return adventure_arr"
   ]
  },
  {
   "cell_type": "code",
   "execution_count": 300,
   "id": "12c59054",
   "metadata": {},
   "outputs": [],
   "source": [
    "adventure_arr=assign_adventure_col(dataset)\n",
    "dataset['adventure']=adventure_arr"
   ]
  },
  {
   "cell_type": "code",
   "execution_count": 301,
   "id": "9d111bfb",
   "metadata": {},
   "outputs": [],
   "source": [
    "def assign_entertainment_col(dataset):\n",
    "    '''assigns entertainment column'''\n",
    "    entertainment_arr=[]\n",
    "    #iterate through every row of dataset \n",
    "    for each_list in dataset['genre']:\n",
    "        for item in each_list:\n",
    "            if(any(check_item.lower() == item.lower() for check_item in entertainment_checklist)):\n",
    "                entertainment_arr.append(True)\n",
    "                break\n",
    "            else:\n",
    "                entertainment_arr.append(False)\n",
    "                break\n",
    "    return entertainment_arr"
   ]
  },
  {
   "cell_type": "code",
   "execution_count": 302,
   "id": "8574da95",
   "metadata": {},
   "outputs": [],
   "source": [
    "entertainment_arr=assign_entertainment_col(dataset)\n",
    "dataset['entertainment']=entertainment_arr"
   ]
  },
  {
   "cell_type": "code",
   "execution_count": 303,
   "id": "cf0a2bb3",
   "metadata": {},
   "outputs": [],
   "source": [
    "def assign_health_and_lifestyle_col(dataset):\n",
    "    '''assigns health_and_lifestyle column'''\n",
    "    health_and_lifestyle_arr=[]\n",
    "    #iterate through every row of dataset \n",
    "    for each_list in dataset['genre']:\n",
    "        for item in each_list:\n",
    "            if(any(check_item.lower() == item.lower() for check_item in health_and_lifestyle_checklist)):\n",
    "                health_and_lifestyle_arr.append(True)\n",
    "                break\n",
    "            else:\n",
    "                health_and_lifestyle_arr.append(False)\n",
    "                break\n",
    "    return health_and_lifestyle_arr"
   ]
  },
  {
   "cell_type": "code",
   "execution_count": 304,
   "id": "eccfd758",
   "metadata": {},
   "outputs": [],
   "source": [
    "health_and_lifestyle_arr=assign_health_and_lifestyle_col(dataset)\n",
    "dataset['health_and_lifestyle']=health_and_lifestyle_arr"
   ]
  },
  {
   "cell_type": "code",
   "execution_count": 305,
   "id": "b7266065",
   "metadata": {},
   "outputs": [],
   "source": [
    "def assign_food_col(dataset):\n",
    "    '''assigns food column'''\n",
    "    food_arr=[]\n",
    "    #iterate through every row of dataset \n",
    "    for each_list in dataset['genre']:\n",
    "        for item in each_list:\n",
    "            if(any(check_item.lower() == item.lower() for check_item in food_checklist)):\n",
    "                food_arr.append(True)\n",
    "                break\n",
    "            else:\n",
    "                food_arr.append(False)\n",
    "                break\n",
    "    return food_arr"
   ]
  },
  {
   "cell_type": "code",
   "execution_count": 306,
   "id": "72a888d2",
   "metadata": {},
   "outputs": [],
   "source": [
    "food_arr=assign_food_col(dataset)\n",
    "dataset['food']=food_arr"
   ]
  },
  {
   "cell_type": "code",
   "execution_count": 307,
   "id": "70ab2625",
   "metadata": {},
   "outputs": [],
   "source": [
    "def assign_industries_col(dataset):\n",
    "    '''assigns industries column'''\n",
    "    industries_arr=[]\n",
    "    #iterate through every row of dataset \n",
    "    for each_list in dataset['genre']:\n",
    "        for item in each_list:\n",
    "            if(any(check_item.lower() == item.lower() for check_item in industries_checklist)):\n",
    "                industries_arr.append(True)\n",
    "                break\n",
    "            else:\n",
    "                industries_arr.append(False)\n",
    "                break\n",
    "    return industries_arr"
   ]
  },
  {
   "cell_type": "code",
   "execution_count": 308,
   "id": "402d249f",
   "metadata": {},
   "outputs": [],
   "source": [
    "industries_arr=assign_industries_col(dataset)\n",
    "dataset['industries']=industries_arr"
   ]
  },
  {
   "cell_type": "code",
   "execution_count": 309,
   "id": "9a26eb86",
   "metadata": {},
   "outputs": [],
   "source": [
    "def assign_religious_col(dataset):\n",
    "    '''assigns religious column'''\n",
    "    religious_arr=[]\n",
    "    #iterate through every row of dataset \n",
    "    for each_list in dataset['genre']:\n",
    "        for item in each_list:\n",
    "            if(any(check_item.lower() == item.lower() for check_item in religious_checklist)):\n",
    "                religious_arr.append(True)\n",
    "                break\n",
    "            else:\n",
    "                religious_arr.append(False)\n",
    "                break\n",
    "    return religious_arr"
   ]
  },
  {
   "cell_type": "code",
   "execution_count": 310,
   "id": "82ebca1e",
   "metadata": {},
   "outputs": [
    {
     "name": "stdout",
     "output_type": "stream",
     "text": [
      "                  title  avg_rating  voted_by              genre  history  \\\n",
      "0      Boudhanath Stupa         4.5      8897  [Religious Sites]     True   \n",
      "1  Swayambhunath Temple         4.5      6203  [Religious Sites]     True   \n",
      "2  Pashupatinath Temple         4.5      4937  [Religious Sites]     True   \n",
      "3     Chandragiri Hills         4.5       399        [Mountains]    False   \n",
      "4       Kopan Monastery         4.5       787  [Religious Sites]     True   \n",
      "\n",
      "   art_and_architecture  nature  adventure  entertainment  \\\n",
      "0                  True   False      False          False   \n",
      "1                  True   False      False          False   \n",
      "2                  True   False      False          False   \n",
      "3                 False    True      False          False   \n",
      "4                  True   False      False          False   \n",
      "\n",
      "   health_and_lifestyle   food  industries  religious  \n",
      "0                 False  False       False       True  \n",
      "1                 False  False       False       True  \n",
      "2                 False  False       False       True  \n",
      "3                 False  False       False      False  \n",
      "4                 False  False       False       True  \n"
     ]
    }
   ],
   "source": [
    "religious_arr=assign_religious_col(dataset)\n",
    "dataset['religious']=religious_arr\n",
    "print(dataset.head())"
   ]
  },
  {
   "cell_type": "code",
   "execution_count": 312,
   "id": "88c65180",
   "metadata": {},
   "outputs": [
    {
     "name": "stdout",
     "output_type": "stream",
     "text": [
      "(2350, 13)\n",
      "                                    title  avg_rating  voted_by  \\\n",
      "0                        Boudhanath Stupa         4.5      8897   \n",
      "1                    Swayambhunath Temple         4.5      6203   \n",
      "2                    Pashupatinath Temple         4.5      4937   \n",
      "3                       Chandragiri Hills         4.5       399   \n",
      "4                         Kopan Monastery         4.5       787   \n",
      "...                                   ...         ...       ...   \n",
      "2345         Zeal Nepal Trek & Expedition         3.0         0   \n",
      "2346                        Mohit Sunuwar         3.0         0   \n",
      "2347  SITA (Travel Corporation India Ltd)         3.0         0   \n",
      "2348                       Himalayan Hike         3.0         0   \n",
      "2349                            River Fun         3.0         0   \n",
      "\n",
      "                                             genre  history  \\\n",
      "0                                [Religious Sites]     True   \n",
      "1                                [Religious Sites]     True   \n",
      "2                                [Religious Sites]     True   \n",
      "3                                      [Mountains]    False   \n",
      "4                                [Religious Sites]     True   \n",
      "...                                            ...      ...   \n",
      "2345     [Multi-day Tours, River Rafting & Tubing]     True   \n",
      "2346  [Parasailing & Paragliding, Multi-day Tours]    False   \n",
      "2347              [Multi-day Tours, Balloon Rides]     True   \n",
      "2348                 [City Tours, Multi-day Tours]     True   \n",
      "2349    [River Rafting & Tubing, Taxis & Shuttles]    False   \n",
      "\n",
      "      art_and_architecture  nature  adventure  entertainment  \\\n",
      "0                     True   False      False          False   \n",
      "1                     True   False      False          False   \n",
      "2                     True   False      False          False   \n",
      "3                    False    True      False          False   \n",
      "4                     True   False      False          False   \n",
      "...                    ...     ...        ...            ...   \n",
      "2345                 False   False      False          False   \n",
      "2346                 False   False       True          False   \n",
      "2347                 False   False      False          False   \n",
      "2348                  True   False      False           True   \n",
      "2349                 False   False       True          False   \n",
      "\n",
      "      health_and_lifestyle   food  industries  religious  \n",
      "0                    False  False       False       True  \n",
      "1                    False  False       False       True  \n",
      "2                    False  False       False       True  \n",
      "3                    False  False       False      False  \n",
      "4                    False  False       False       True  \n",
      "...                    ...    ...         ...        ...  \n",
      "2345                 False  False       False      False  \n",
      "2346                 False  False       False      False  \n",
      "2347                 False  False       False      False  \n",
      "2348                 False  False       False      False  \n",
      "2349                 False  False       False      False  \n",
      "\n",
      "[2350 rows x 13 columns]\n"
     ]
    }
   ],
   "source": [
    "#shape of datashape after updating the additional columns\n",
    "print(dataset.shape)\n",
    "print(dataset)"
   ]
  },
  {
   "cell_type": "code",
   "execution_count": 313,
   "id": "08c4ec46",
   "metadata": {},
   "outputs": [],
   "source": [
    "dataset.to_csv('attractions_of_ktm_updated_columns.csv',index=None)"
   ]
  },
  {
   "cell_type": "code",
   "execution_count": null,
   "id": "9dd5ed6b",
   "metadata": {},
   "outputs": [],
   "source": []
  }
 ],
 "metadata": {
  "kernelspec": {
   "display_name": "Python 3 (ipykernel)",
   "language": "python",
   "name": "python3"
  },
  "language_info": {
   "codemirror_mode": {
    "name": "ipython",
    "version": 3
   },
   "file_extension": ".py",
   "mimetype": "text/x-python",
   "name": "python",
   "nbconvert_exporter": "python",
   "pygments_lexer": "ipython3",
   "version": "3.9.7"
  }
 },
 "nbformat": 4,
 "nbformat_minor": 5
}
