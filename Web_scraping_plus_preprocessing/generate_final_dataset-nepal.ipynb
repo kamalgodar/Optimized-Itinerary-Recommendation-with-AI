{
 "cells": [
  {
   "cell_type": "code",
   "execution_count": 43,
   "id": "d6abd4b0",
   "metadata": {},
   "outputs": [],
   "source": [
    "import pandas as pd\n",
    "import numpy as np"
   ]
  },
  {
   "cell_type": "code",
   "execution_count": 44,
   "id": "98774b96",
   "metadata": {},
   "outputs": [
    {
     "name": "stdout",
     "output_type": "stream",
     "text": [
      "                   title avg_rating  voted_by                genre history  \\\n",
      "0       Boudhanath Stupa        4.5      8897  ['Religious Sites']    True   \n",
      "1  Phewa Tal (Fewa Lake)        4.5      2988  ['Bodies of Water']   False   \n",
      "2              Sarangkot        4.5      2199        ['Mountains']   False   \n",
      "3   Swayambhunath Temple        4.5      6203  ['Religious Sites']    True   \n",
      "4              Poon Hill        4.5      1477        ['Mountains']   False   \n",
      "\n",
      "   art_and_architecture  nature  adventure  entertainment  \\\n",
      "0                  True   False      False          False   \n",
      "1                 False    True      False          False   \n",
      "2                 False    True      False          False   \n",
      "3                  True   False      False          False   \n",
      "4                 False    True      False          False   \n",
      "\n",
      "   health_and_lifestyle   food  industries  religious    latitude  longitude  \n",
      "0                 False  False       False       True  27.7215062  85.359809  \n",
      "1                 False  False       False      False  28.2116268  83.932296  \n",
      "2                 False  False       False      False  28.2443761  83.944564  \n",
      "3                 False  False       False       True  27.7149298  85.288146  \n",
      "4                 False  False       False      False   28.400195  83.671789  \n",
      "(3313, 15)\n"
     ]
    }
   ],
   "source": [
    "dataset=pd.read_csv(\"../Datasets/destinations_of_nepal_updated_500_latlong.csv\")\n",
    "print(dataset.head())\n",
    "print(dataset.shape)"
   ]
  },
  {
   "cell_type": "code",
   "execution_count": 45,
   "id": "7501b5be",
   "metadata": {},
   "outputs": [
    {
     "name": "stdout",
     "output_type": "stream",
     "text": [
      "                                    title        avg_rating  voted_by history  \\\n",
      "0                        Boudhanath Stupa               4.5      8897    True   \n",
      "1                   Phewa Tal (Fewa Lake)               4.5      2988   False   \n",
      "2                               Sarangkot               4.5      2199   False   \n",
      "3                    Swayambhunath Temple               4.5      6203    True   \n",
      "4                               Poon Hill               4.5      1477   False   \n",
      "...                                   ...               ...       ...     ...   \n",
      "3308  SITA (Travel Corporation India Ltd)  4.77190569744597         0    True   \n",
      "3309                       Himalayan Hike  4.77190569744597         0    True   \n",
      "3310                               Harilo  4.77190569744597         0   False   \n",
      "3311                           Heli Sight  4.77190569744597         0   False   \n",
      "3312                            River Fun  4.77190569744597         0   False   \n",
      "\n",
      "      art_and_architecture  nature  adventure  entertainment  \\\n",
      "0                     True   False      False          False   \n",
      "1                    False    True      False          False   \n",
      "2                    False    True      False          False   \n",
      "3                     True   False      False          False   \n",
      "4                    False    True      False          False   \n",
      "...                    ...     ...        ...            ...   \n",
      "3308                 False   False      False          False   \n",
      "3309                  True   False      False           True   \n",
      "3310                 False   False      False           True   \n",
      "3311                 False   False       True          False   \n",
      "3312                 False   False       True          False   \n",
      "\n",
      "      health_and_lifestyle   food  industries  religious    latitude  \\\n",
      "0                    False  False       False       True  27.7215062   \n",
      "1                    False  False       False      False  28.2116268   \n",
      "2                    False  False       False      False  28.2443761   \n",
      "3                    False  False       False       True  27.7149298   \n",
      "4                    False  False       False      False   28.400195   \n",
      "...                    ...    ...         ...        ...         ...   \n",
      "3308                 False  False       False      False         NaN   \n",
      "3309                 False  False       False      False         NaN   \n",
      "3310                 False   True       False      False         NaN   \n",
      "3311                 False  False       False      False         NaN   \n",
      "3312                 False  False       False      False         NaN   \n",
      "\n",
      "      longitude  \n",
      "0     85.359809  \n",
      "1     83.932296  \n",
      "2     83.944564  \n",
      "3     85.288146  \n",
      "4     83.671789  \n",
      "...         ...  \n",
      "3308        NaN  \n",
      "3309        NaN  \n",
      "3310        NaN  \n",
      "3311        NaN  \n",
      "3312        NaN  \n",
      "\n",
      "[3313 rows x 14 columns]\n"
     ]
    }
   ],
   "source": [
    "dataset=dataset.drop(['genre'],axis=1)\n",
    "print(dataset)"
   ]
  },
  {
   "cell_type": "code",
   "execution_count": 46,
   "id": "2c58f97b",
   "metadata": {},
   "outputs": [
    {
     "name": "stdout",
     "output_type": "stream",
     "text": [
      "                                    title avg_rating  voted_by  \\\n",
      "0                        Boudhanath Stupa        4.5      8897   \n",
      "1                   Phewa Tal (Fewa Lake)        4.5      2988   \n",
      "2                               Sarangkot        4.5      2199   \n",
      "3                    Swayambhunath Temple        4.5      6203   \n",
      "4                               Poon Hill        4.5      1477   \n",
      "...                                   ...        ...       ...   \n",
      "3308  SITA (Travel Corporation India Ltd)          N         0   \n",
      "3309                       Himalayan Hike          N         0   \n",
      "3310                               Harilo          N         0   \n",
      "3311                           Heli Sight          N         0   \n",
      "3312                            River Fun          N         0   \n",
      "\n",
      "                                            genre  \n",
      "0                                 Religious Sites  \n",
      "1                                 Bodies of Water  \n",
      "2                                       Mountains  \n",
      "3                                 Religious Sites  \n",
      "4                                       Mountains  \n",
      "...                                           ...  \n",
      "3308              Multi-day Tours • Balloon Rides  \n",
      "3309                 City Tours • Multi-day Tours  \n",
      "3310                              Farmers Markets  \n",
      "3311  Parasailing & Paragliding • Multi-day Tours  \n",
      "3312    River Rafting & Tubing • Taxis & Shuttles  \n",
      "\n",
      "[3313 rows x 4 columns]\n"
     ]
    }
   ],
   "source": [
    "early=pd.read_csv(\"../Datasets/attractions_of_nepal.csv\")\n",
    "print(early)"
   ]
  },
  {
   "cell_type": "code",
   "execution_count": 47,
   "id": "a4df3a2d",
   "metadata": {},
   "outputs": [
    {
     "name": "stdout",
     "output_type": "stream",
     "text": [
      "                                    title        avg_rating  voted_by history  \\\n",
      "0                        Boudhanath Stupa               4.5      8897    True   \n",
      "1                   Phewa Tal (Fewa Lake)               4.5      2988   False   \n",
      "2                               Sarangkot               4.5      2199   False   \n",
      "3                    Swayambhunath Temple               4.5      6203    True   \n",
      "4                               Poon Hill               4.5      1477   False   \n",
      "...                                   ...               ...       ...     ...   \n",
      "3308  SITA (Travel Corporation India Ltd)  4.77190569744597         0    True   \n",
      "3309                       Himalayan Hike  4.77190569744597         0    True   \n",
      "3310                               Harilo  4.77190569744597         0   False   \n",
      "3311                           Heli Sight  4.77190569744597         0   False   \n",
      "3312                            River Fun  4.77190569744597         0   False   \n",
      "\n",
      "      art_and_architecture  nature  adventure  entertainment  \\\n",
      "0                     True   False      False          False   \n",
      "1                    False    True      False          False   \n",
      "2                    False    True      False          False   \n",
      "3                     True   False      False          False   \n",
      "4                    False    True      False          False   \n",
      "...                    ...     ...        ...            ...   \n",
      "3308                 False   False      False          False   \n",
      "3309                  True   False      False           True   \n",
      "3310                 False   False      False           True   \n",
      "3311                 False   False       True          False   \n",
      "3312                 False   False       True          False   \n",
      "\n",
      "      health_and_lifestyle   food  industries  religious    latitude  \\\n",
      "0                    False  False       False       True  27.7215062   \n",
      "1                    False  False       False      False  28.2116268   \n",
      "2                    False  False       False      False  28.2443761   \n",
      "3                    False  False       False       True  27.7149298   \n",
      "4                    False  False       False      False   28.400195   \n",
      "...                    ...    ...         ...        ...         ...   \n",
      "3308                 False  False       False      False         NaN   \n",
      "3309                 False  False       False      False         NaN   \n",
      "3310                 False   True       False      False         NaN   \n",
      "3311                 False  False       False      False         NaN   \n",
      "3312                 False  False       False      False         NaN   \n",
      "\n",
      "      longitude                                        genre  \n",
      "0     85.359809                              Religious Sites  \n",
      "1     83.932296                              Bodies of Water  \n",
      "2     83.944564                                    Mountains  \n",
      "3     85.288146                              Religious Sites  \n",
      "4     83.671789                                    Mountains  \n",
      "...         ...                                          ...  \n",
      "3308        NaN              Multi-day Tours • Balloon Rides  \n",
      "3309        NaN                 City Tours • Multi-day Tours  \n",
      "3310        NaN                              Farmers Markets  \n",
      "3311        NaN  Parasailing & Paragliding • Multi-day Tours  \n",
      "3312        NaN    River Rafting & Tubing • Taxis & Shuttles  \n",
      "\n",
      "[3313 rows x 15 columns]\n"
     ]
    }
   ],
   "source": [
    "dataset['genre']=early['genre']\n",
    "print(dataset)"
   ]
  },
  {
   "cell_type": "code",
   "execution_count": 48,
   "id": "585dae38",
   "metadata": {},
   "outputs": [
    {
     "name": "stdout",
     "output_type": "stream",
     "text": [
      "[['Religious Sites'], ['Bodies of Water'], ['Mountains'], ['Religious Sites'], ['Mountains'], ['Religious Sites'], ['Religious Sites'], ['Points of Interest & Landmarks'], ['Mountains'], ['Mountains'], ['Bodies of Water'], ['Religious Sites'], ['Art Museums'], ['Speciality Museums'], ['Ancient Ruins', 'Points of Interest & Landmarks'], ['Bodies of Water'], ['Religious Sites'], ['Neighborhoods'], ['Hiking Trails'], ['Bodies of Water'], ['Points of Interest & Landmarks', 'Historic Walking Areas'], ['Gardens'], ['Points of Interest & Landmarks', 'Religious Sites'], ['Parasailing & Paragliding', 'River Rafting & Tubing'], ['Historic Sites', 'Points of Interest & Landmarks'], ['National Parks', 'Nature & Wildlife Areas'], ['Caverns & Caves'], ['Bodies of Water'], ['Waterfalls'], ['History Museums'], ['Religious Sites'], ['Religious Sites'], ['Religious Sites'], ['Hiking Trails'], ['Mountains', 'Hiking Trails'], ['Religious Sites'], ['Mountains'], ['Flea & Street Markets'], ['Bodies of Water'], ['Hiking Trails'], ['National Parks'], ['Religious Sites'], ['Monuments & Statues'], ['Religious Sites'], ['Religious Sites'], ['Historic Sites', 'Religious Sites'], ['Religious Sites'], ['Nature & Wildlife Areas', 'Hiking Trails'], ['Points of Interest & Landmarks'], ['Points of Interest & Landmarks', 'Architectural Buildings'], ['Caverns & Caves'], ['Religious Sites'], ['Religious Sites'], ['Nature & Wildlife Areas'], ['Bodies of Water'], ['Nature & Wildlife Areas', 'Caverns & Caves'], ['Nature & Wildlife Areas'], ['Speciality Museums'], ['Valleys'], ['Religious Sites'], ['Religious Sites'], ['Historic Sites'], ['Religious Sites'], ['Religious Sites'], ['Lookouts', 'Religious Sites'], ['Speciality Museums'], ['Bodies of Water'], ['Mysterious Sites', 'Religious Sites'], ['Bodies of Water'], ['Religious Sites'], ['Religious Sites'], ['Religious Sites'], ['Speciality Museums'], ['Speciality Museums'], ['Architectural Buildings'], ['Parks'], ['Shopping Malls'], ['Lookouts'], ['Hot Springs & Geysers'], ['Zoos'], ['Sports Camps & Clinics'], ['Religious Sites'], ['Farms'], ['Flea & Street Markets'], ['Mountains'], ['Religious Sites'], ['Historic Sites'], ['Bodies of Water'], ['Mountains'], ['Mountains'], ['Religious Sites'], ['Shopping Malls'], ['Religious Sites'], ['History Museums'], ['Mountains'], ['Water Parks'], ['Religious Sites'], ['Religious Sites'], ['Lookouts'], ['Points of Interest & Landmarks', 'Geologic Formations'], ['Dams'], ['Religious Sites'], ['Gardens'], ['Religious Sites'], ['Speciality Museums', 'Natural History Museums'], ['Points of Interest & Landmarks'], ['Points of Interest & Landmarks'], ['Points of Interest & Landmarks'], ['Nature & Wildlife Areas'], ['Points of Interest & Landmarks', 'Architectural Buildings'], ['Nature & Wildlife Areas'], ['Bodies of Water'], ['Points of Interest & Landmarks'], ['Religious Sites'], ['Bodies of Water'], ['Bodies of Water'], ['Historic Walking Areas'], ['Mountains', 'Lookouts'], ['Points of Interest & Landmarks'], ['Religious Sites'], ['Parks'], ['Historic Sites'], ['Religious Sites'], ['Water Parks'], ['Bodies of Water'], ['Bodies of Water'], ['Hiking Trails'], ['Scenic Walking Areas'], ['Points of Interest & Landmarks', 'Architectural Buildings'], ['Historic Walking Areas', 'Biking Trails'], ['Art Galleries'], ['Mountains'], ['Religious Sites'], ['Shopping Malls'], ['Shopping Malls'], ['Neighborhoods', 'Points of Interest & Landmarks'], ['Religious Sites'], ['Religious Sites'], ['Points of Interest & Landmarks', 'Cemeteries'], ['Theaters'], ['Factory Outlets'], ['Caverns & Caves'], ['Bodies of Water'], ['Bodies of Water'], ['Parks'], ['Points of Interest & Landmarks', 'Religious Sites'], ['Points of Interest & Landmarks', 'Historic Walking Areas'], ['Department Stores'], ['Parks'], ['Religious Sites'], ['Points of Interest & Landmarks'], ['Religious Sites', 'Monuments & Statues'], ['Architectural Buildings', 'Religious Sites'], ['Religious Sites'], ['Mountains'], ['Religious Sites'], ['Bodies of Water'], ['Sports Complexes'], ['Speciality Museums'], ['Religious Sites'], ['Points of Interest & Landmarks', 'Religious Sites'], ['Art Galleries'], ['Geologic Formations'], ['Points of Interest & Landmarks'], ['Religious Sites'], ['Historic Sites', 'Points of Interest & Landmarks'], ['Religious Sites'], ['Points of Interest & Landmarks', 'Religious Sites'], ['Geologic Formations'], ['Mountains'], ['Points of Interest & Landmarks'], ['Bodies of Water'], ['Religious Sites'], ['Historic Sites'], ['Nature & Wildlife Areas'], ['Art Museums', 'History Museums'], ['Speciality Museums'], ['Nature & Wildlife Areas', 'Forests'], ['Religious Sites'], ['Religious Sites'], ['Religious Sites'], ['Religious Sites'], ['Religious Sites'], ['Religious Sites', 'Churches & Cathedrals'], ['Points of Interest & Landmarks'], ['Religious Sites'], ['Points of Interest & Landmarks'], ['Religious Sites'], ['Hiking Trails'], ['Points of Interest & Landmarks'], ['Historic Sites', 'Points of Interest & Landmarks'], ['Casinos'], ['Points of Interest & Landmarks'], ['Points of Interest & Landmarks'], ['Religious Sites'], ['Points of Interest & Landmarks'], ['Points of Interest & Landmarks'], ['Religious Sites'], ['Shopping Malls'], ['Points of Interest & Landmarks', 'Architectural Buildings'], ['Religious Sites'], ['History Museums'], ['Farmers Markets'], ['National Parks', 'Nature & Wildlife Areas'], ['Sports Camps & Clinics'], ['Nan'], ['Religious Sites'], ['Religious Sites'], ['Art Galleries'], ['Religious Sites'], ['Libraries'], ['Religious Sites'], ['Natural History Museums'], ['Architectural Buildings', 'Religious Sites'], ['Parks'], ['Religious Sites'], ['Religious Sites'], ['Points of Interest & Landmarks', 'Architectural Buildings'], ['Universities & Schools', 'Religious Sites'], ['National Parks'], ['Religious Sites'], ['Points of Interest & Landmarks'], ['Points of Interest & Landmarks'], ['Neighborhoods', 'Hiking Trails'], ['Historic Walking Areas'], ['Nature & Wildlife Areas', 'Scenic Walking Areas'], ['Parks'], ['Points of Interest & Landmarks', 'Religious Sites'], ['Religious Sites'], ['Religious Sites'], ['Bodies of Water'], ['Religious Sites'], ['Religious Sites'], ['Points of Interest & Landmarks', 'Religious Sites'], ['Shopping Malls'], ['Neighborhoods', 'Points of Interest & Landmarks'], ['Religious Sites'], ['National Parks'], ['Nature & Wildlife Areas'], ['Mountains'], ['Religious Sites'], ['Religious Sites'], ['History Museums'], ['Religious Sites'], ['Points of Interest & Landmarks', 'Historic Walking Areas'], ['Religious Sites'], ['Religious Sites'], ['Religious Sites'], ['Religious Sites'], ['Parks'], ['Points of Interest & Landmarks'], ['National Parks'], ['Historic Sites', 'Religious Sites'], ['Points of Interest & Landmarks', 'Monuments & Statues'], ['Religious Sites', 'Monuments & Statues'], ['Points of Interest & Landmarks', 'Architectural Buildings'], ['Points of Interest & Landmarks'], ['Art Museums'], ['Military Museums', 'History Museums'], ['Sports Camps & Clinics'], ['Ancient Ruins', 'Religious Sites'], ['Historic Sites', 'Points of Interest & Landmarks'], ['Points of Interest & Landmarks', 'Lookouts'], ['Architectural Buildings', 'Religious Sites'], ['Speciality Museums'], ['Valleys'], ['Points of Interest & Landmarks'], ['Religious Sites'], ['Points of Interest & Landmarks', 'Architectural Buildings'], ['Religious Sites'], ['Historic Sites', 'Ancient Ruins'], ['Art Galleries'], ['Art Museums', 'History Museums'], ['Amusement & Theme Parks'], ['Farms'], ['History Museums'], ['Points of Interest & Landmarks'], ['Architectural Buildings', 'Religious Sites'], ['Art Galleries'], ['Religious Sites'], ['History Museums'], ['Points of Interest & Landmarks', 'Scenic Walking Areas'], ['Monuments & Statues'], ['Religious Sites'], ['Points of Interest & Landmarks', 'Religious Sites'], ['Art Galleries'], ['Caverns & Caves'], ['Religious Sites'], ['Hiking Trails'], ['Religious Sites'], ['Religious Sites'], ['Lookouts', 'Religious Sites'], ['Bodies of Water'], ['Art Galleries'], ['Points of Interest & Landmarks', 'Religious Sites'], ['Mountains'], ['Casinos'], ['Speciality Museums'], ['Points of Interest & Landmarks'], ['Historic Sites', 'Points of Interest & Landmarks'], ['Valleys'], ['Religious Sites'], ['Sports Camps & Clinics'], ['Speciality Museums', \"Children's Museums\"], ['Art Galleries'], ['Historic Sites', 'Religious Sites'], ['Points of Interest & Landmarks', 'Parks'], ['Casinos'], ['Art Galleries'], ['Points of Interest & Landmarks', 'Architectural Buildings'], ['Religious Sites'], ['Bodies of Water', 'Points of Interest & Landmarks'], ['Casinos'], ['Architectural Buildings'], ['Religious Sites'], ['Points of Interest & Landmarks', 'Scenic Drives'], ['Religious Sites'], ['Waterfalls'], ['Historic Sites', 'Points of Interest & Landmarks'], ['Architectural Buildings', 'Religious Sites'], ['Points of Interest & Landmarks', 'Religious Sites'], ['Points of Interest & Landmarks'], ['Religious Sites'], ['Points of Interest & Landmarks'], ['Religious Sites'], ['Waterfalls'], ['Nature & Wildlife Areas', 'Parks'], ['Art Galleries', 'Antique Shops'], ['Water Parks'], ['Factory Outlets'], ['Points of Interest & Landmarks'], ['Historic Sites', 'Points of Interest & Landmarks'], ['Casinos'], ['Architectural Buildings', 'Religious Sites'], ['Points of Interest & Landmarks', 'Architectural Buildings'], ['Hiking Trails'], ['Religious Sites'], ['Mountains', 'Geologic Formations'], ['Religious Sites'], ['Religious Sites'], ['Religious Sites'], ['Religious Sites'], ['Points of Interest & Landmarks', 'Architectural Buildings'], ['Historic Sites', 'Historic Walking Areas'], ['Religious Sites'], ['Religious Sites'], ['Speciality Museums'], ['Points of Interest & Landmarks', 'Religious Sites'], ['Points of Interest & Landmarks', 'Architectural Buildings'], ['Antique Shops'], ['Geologic Formations'], ['Points of Interest & Landmarks'], ['Points of Interest & Landmarks', 'Religious Sites'], ['Points of Interest & Landmarks', 'Religious Sites'], ['Points of Interest & Landmarks', 'Architectural Buildings'], ['Monuments & Statues'], ['Points of Interest & Landmarks', 'Architectural Buildings'], ['Sports Complexes'], ['Architectural Buildings', 'Religious Sites'], ['Art Galleries'], ['Dams'], ['Mountains', 'Ski & Snowboard Areas'], ['Historic Sites', 'Monuments & Statues'], ['Art Galleries'], ['Religious Sites'], ['Points of Interest & Landmarks', 'Religious Sites'], ['Points of Interest & Landmarks', 'Architectural Buildings'], ['Architectural Buildings', 'Religious Sites'], ['Religious Sites'], ['Art Galleries'], ['Points of Interest & Landmarks', 'Religious Sites'], ['Points of Interest & Landmarks', 'Architectural Buildings'], ['Art Galleries'], ['Ancient Ruins', 'Historic Walking Areas'], ['Art Galleries'], ['Speciality Museums'], ['Points of Interest & Landmarks'], ['Points of Interest & Landmarks', 'Religious Sites'], ['Religious Sites'], ['Religious Sites'], ['Religious Sites'], ['Points of Interest & Landmarks', 'Lookouts'], ['Architectural Buildings'], ['Points of Interest & Landmarks'], ['Architectural Buildings', 'Religious Sites'], ['Religious Sites'], ['Shopping Malls'], ['Religious Sites'], ['Religious Sites'], ['Convention Centers'], ['Religious Sites'], ['Religious Sites'], ['Art Museums'], ['Religious Sites'], ['Mountains', 'National Parks'], ['Historic Sites', 'Religious Sites'], ['Points of Interest & Landmarks'], ['Art Museums', 'History Museums'], ['Parks'], ['Points of Interest & Landmarks', 'Monuments & Statues'], ['Religious Sites'], ['Points of Interest & Landmarks', 'Religious Sites'], ['Bodies of Water'], ['Points of Interest & Landmarks', 'Religious Sites'], ['Points of Interest & Landmarks', 'Religious Sites'], ['Religious Sites'], ['Points of Interest & Landmarks', 'Religious Sites'], ['Government Buildings'], ['Architectural Buildings', 'Religious Sites'], ['Points of Interest & Landmarks', 'Religious Sites'], ['Points of Interest & Landmarks'], ['Historic Sites', 'Points of Interest & Landmarks'], ['Points of Interest & Landmarks', 'Religious Sites'], ['Points of Interest & Landmarks', 'Religious Sites'], ['Points of Interest & Landmarks', 'Religious Sites'], ['Religious Sites'], ['Points of Interest & Landmarks', 'Religious Sites'], ['Monuments & Statues'], ['Bodies of Water'], ['Sports Camps & Clinics'], ['History Museums'], ['Points of Interest & Landmarks'], ['Religious Sites', 'Monuments & Statues'], ['Mountains'], ['Religious Sites'], ['Religious Sites'], ['Historic Sites', 'Ancient Ruins'], ['Speciality Museums'], ['Points of Interest & Landmarks', 'Religious Sites'], ['History Museums'], ['Points of Interest & Landmarks', 'Religious Sites'], ['Points of Interest & Landmarks', 'Religious Sites'], ['Points of Interest & Landmarks', 'Religious Sites'], ['Points of Interest & Landmarks', 'Religious Sites'], ['Points of Interest & Landmarks', 'Religious Sites'], ['Points of Interest & Landmarks'], ['Religious Sites'], ['Points of Interest & Landmarks', 'Lookouts'], ['Religious Sites'], ['Points of Interest & Landmarks', 'Religious Sites'], ['City Tours', 'Cultural Tours'], ['Multi-day Tours', 'Historical & Heritage Tours'], ['Multi-day Tours', 'Cultural Tours'], ['Multi-day Tours', 'Eco Tours'], ['Parasailing & Paragliding'], ['Walking Tours', 'Hiking & Camping Tours'], ['Multi-day Tours', 'Historical & Heritage Tours'], ['Multi-day Tours', 'Sightseeing Tours'], ['Cultural Tours', 'Helicopter Tours'], ['Parasailing & Paragliding', 'Multi-day Tours'], ['City Tours', 'Cultural Tours'], ['Hiking & Camping Tours'], ['Historical & Heritage Tours', 'Sightseeing Tours'], ['Multi-day Tours', 'Hiking & Camping Tours'], ['Yoga & Pilates', 'Spas'], ['Cooking Classes'], ['Hiking & Camping Tours', 'Private Tours'], ['Sightseeing Tours'], ['River Rafting & Tubing', 'Cultural Tours'], ['Multi-day Tours', 'Cultural Tours'], ['Hiking & Camping Tours', 'Nature & Wildlife Tours'], ['City Tours', 'Multi-day Tours'], ['Hiking & Camping Tours', 'Nature & Wildlife Tours'], ['Multi-day Tours', 'Hiking & Camping Tours'], ['City Tours', 'Cultural Tours'], ['City Tours', 'Adrenaline & Extreme Tours'], ['Bus Services', 'Taxis & Shuttles'], ['Yoga & Pilates', 'Spas'], ['Cultural Tours', 'Historical & Heritage Tours'], ['Multi-day Tours', 'Helicopter Tours'], ['Private Tours'], ['Multi-day Tours', 'Walking Tours'], ['Parasailing & Paragliding', 'Adrenaline & Extreme Tours'], ['Climbing Tours', 'Hiking & Camping Tours'], ['City Tours', 'Multi-day Tours'], ['Multi-day Tours', 'Historical & Heritage Tours'], ['Cultural Tours', 'Helicopter Tours'], ['City Tours', 'Hiking & Camping Tours'], ['Helicopter Tours', 'Historical & Heritage Tours'], ['Multi-day Tours', 'Cultural Tours'], ['City Tours', 'Multi-day Tours'], ['Cultural Tours', 'Historical & Heritage Tours'], ['Canyoning & Rappelling Tours', 'Walking Tours'], ['City Tours', 'Cultural Tours'], ['Parasailing & Paragliding'], ['Yoga & Pilates', 'Spas'], ['Multi-day Tours', 'Sightseeing Tours'], ['Multi-day Tours', 'River Rafting & Tubing'], ['Multi-day Tours', 'Sightseeing Tours'], ['Hiking & Camping Tours', 'Private Tours'], ['Eco Tours', 'Nature & Wildlife Tours'], ['Literary, Art & Music Tours', 'Climbing Tours'], ['Multi-day Tours', 'Hiking & Camping Tours'], ['Cultural Tours', 'Eco Tours'], ['Multi-day Tours', 'Sightseeing Tours'], ['Multi-day Tours', 'Cultural Tours'], ['City Tours', 'Cultural Tours'], ['Cultural Tours', 'Adrenaline & Extreme Tours'], ['Multi-day Tours', 'Hiking & Camping Tours'], ['Multi-day Tours', 'Cultural Tours'], ['City Tours', 'River Rafting & Tubing'], ['Parasailing & Paragliding'], ['Cultural Tours', 'Historical & Heritage Tours'], ['City Tours', 'Cultural Tours'], ['Hiking & Camping Tours'], ['Hiking & Camping Tours'], ['City Tours', 'Helicopter Tours'], ['Multi-day Tours', 'Hiking & Camping Tours'], ['Cultural Tours', 'Walking Tours'], ['Eco Tours'], ['Cooking Classes'], ['Sightseeing Tours', 'Day Trips'], ['Cultural Tours', 'Sightseeing Tours'], ['Walking Tours', 'Climbing Tours'], ['City Tours', 'Multi-day Tours'], ['Multi-day Tours', 'Hiking & Camping Tours'], ['City Tours', 'Helicopter Tours'], ['City Tours', 'Multi-day Tours'], ['Sightseeing Tours'], ['Cultural Tours', 'Historical & Heritage Tours'], ['Multi-day Tours', 'Adrenaline & Extreme Tours'], ['Historical & Heritage Tours', 'Sightseeing Tours'], ['City Tours', 'Climbing Tours'], ['Multi-day Tours', '4WD, ATV & Off-Road Tours'], ['Hiking & Camping Tours', 'Private Tours'], ['Private Tours'], ['Multi-day Tours', '4WD, ATV & Off-Road Tours'], ['City Tours', 'Multi-day Tours'], ['Sightseeing Tours'], ['Motorcycle Tours'], ['Hiking & Camping Tours'], ['Multi-day Tours', 'Climbing Tours'], ['City Tours', 'Multi-day Tours'], ['Parasailing & Paragliding'], ['Sightseeing Tours', 'Hiking & Camping Tours'], ['Hiking & Camping Tours', 'Private Tours'], ['Hiking & Camping Tours', 'Private Tours'], ['4WD, ATV & Off-Road Tours', 'Motorcycle Tours'], ['Yoga & Pilates'], ['Multi-day Tours', 'Walking Tours'], ['Hiking & Camping Tours'], ['Multi-day Tours', 'Cultural Tours'], ['Hiking & Camping Tours'], ['Hiking & Camping Tours'], ['City Tours', 'River Rafting & Tubing'], ['City Tours', 'Adrenaline & Extreme Tours'], ['Helicopter Tours', 'Sightseeing Tours'], ['Hiking & Camping Tours'], ['Parasailing & Paragliding'], ['Hiking & Camping Tours'], ['Hiking & Camping Tours'], ['Yoga & Pilates'], ['Cultural Tours', 'Historical & Heritage Tours'], ['Multi-day Tours', 'Hiking & Camping Tours'], ['Multi-day Tours', 'Helicopter Tours'], ['Hiking & Camping Tours'], ['Yoga & Pilates', 'Spas'], ['Multi-day Tours', 'Adrenaline & Extreme Tours'], ['City Tours', 'Helicopter Tours'], ['Bike Tours'], ['Hiking & Camping Tours'], ['Cultural Tours', 'Eco Tours'], ['City Tours', 'Multi-day Tours'], ['Multi-day Tours', '4WD, ATV & Off-Road Tours'], ['Climbing Tours', 'Hiking & Camping Tours'], ['Hiking & Camping Tours', 'Private Tours'], ['Multi-day Tours', 'Historical & Heritage Tours'], ['Bike Tours', 'Climbing Tours'], ['Sightseeing Tours'], ['Multi-day Tours', 'Climbing Tours'], ['River Rafting & Tubing', 'Historical & Heritage Tours'], ['Spas'], ['Taxis & Shuttles', 'Hiking & Camping Tours'], ['Historical & Heritage Tours', 'Hiking & Camping Tours'], ['Cooking Classes'], ['Multi-day Tours', 'Motorcycle Tours'], ['Parasailing & Paragliding'], ['Yoga & Pilates', 'Spas'], ['Helicopter Tours', 'Adrenaline & Extreme Tours'], ['River Rafting & Tubing', 'Canyoning & Rappelling Tours'], ['Multi-day Tours', '4WD, ATV & Off-Road Tours'], ['Canyoning & Rappelling Tours', 'Hiking & Camping Tours'], ['Parasailing & Paragliding', 'Cultural Tours'], ['Speciality & Gift Shops'], ['Cultural Tours', 'Historical & Heritage Tours'], ['City Tours', 'Multi-day Tours'], ['City Tours', 'Multi-day Tours'], ['Hiking & Camping Tours'], ['Hiking & Camping Tours'], ['City Tours', 'Multi-day Tours'], ['Cultural Tours', 'Shopping Tours'], ['Bike Tours'], ['Cultural Tours', 'Walking Tours'], ['Parasailing & Paragliding'], ['Multi-day Tours', 'Hiking & Camping Tours'], ['Helicopter Tours', 'Historical & Heritage Tours'], ['City Tours', 'Cultural Tours'], ['Multi-day Tours', 'Historical & Heritage Tours'], ['Sightseeing Tours'], ['Private Tours'], ['Yoga & Pilates'], ['Multi-day Tours', 'Helicopter Tours'], ['Yoga & Pilates', 'Spas'], ['Hiking & Camping Tours', 'Private Tours'], ['City Tours', 'Cultural Tours'], ['Parasailing & Paragliding', 'City Tours'], ['Parasailing & Paragliding'], ['Hiking & Camping Tours', 'Private Tours'], ['Yoga & Pilates', 'Spas'], ['Private Tours', 'Air Tours'], ['River Rafting & Tubing', 'Walking Tours'], ['Yoga & Pilates'], ['Sightseeing Tours', 'Hiking & Camping Tours'], ['Spas'], ['Sightseeing Tours', 'Day Trips'], ['Hiking & Camping Tours'], ['Yoga & Pilates', 'Spas'], ['Historical & Heritage Tours', 'Sightseeing Tours'], ['City Tours', 'Shopping Tours'], ['Yoga & Pilates'], ['Movie Theaters', 'Bars & Clubs'], ['Cultural Tours', 'Historical & Heritage Tours'], ['City Tours', 'Cultural Tours'], ['Adrenaline & Extreme Tours', 'Climbing Tours'], ['Cultural Tours', 'Historical & Heritage Tours'], ['Spas'], ['Cultural Tours', 'Climbing Tours'], ['Spas'], ['4WD, ATV & Off-Road Tours', 'Walking Tours'], ['Cultural Tours', 'Helicopter Tours'], ['Sightseeing Tours'], ['Historical & Heritage Tours', 'Sightseeing Tours'], ['Multi-day Tours', 'Sightseeing Tours'], ['Multi-day Tours', 'Helicopter Tours'], ['Parasailing & Paragliding'], ['Parasailing & Paragliding', 'Adrenaline & Extreme Tours'], ['River Rafting & Tubing', 'Cultural Tours'], ['River Rafting & Tubing', 'Historical & Heritage Tours'], ['City Tours', 'Cultural Tours'], ['Hiking & Camping Tours', 'Day Trips'], ['Private Tours', 'Self-Guided Tours & Rentals'], ['City Tours', 'River Rafting & Tubing'], ['Multi-day Tours', 'Hiking & Camping Tours'], ['River Rafting & Tubing', 'Sightseeing Tours'], ['Cultural Tours', 'Sightseeing Tours'], ['Hiking & Camping Tours'], ['Multi-day Tours', 'Sightseeing Tours'], ['City Tours', 'Cultural Tours'], ['Sightseeing Tours'], ['Multi-day Tours', 'Hiking & Camping Tours'], ['Historical & Heritage Tours', 'Sightseeing Tours'], ['Multi-day Tours', 'Eco Tours'], ['Multi-day Tours', 'Climbing Tours'], ['Spas'], ['Cooking Classes'], ['Parasailing & Paragliding', 'Walking Tours'], ['Parasailing & Paragliding', '4WD, ATV & Off-Road Tours'], ['City Tours', 'Multi-day Tours'], ['City Tours', 'Historical & Heritage Tours'], ['Parasailing & Paragliding'], ['Hiking & Camping Tours', 'Day Trips'], ['Hiking & Camping Tours', 'Nature & Wildlife Tours'], ['Multi-day Tours', 'Helicopter Tours'], ['Hiking & Camping Tours', 'Private Tours'], ['Multi-day Tours', 'Climbing Tours'], ['Multi-day Tours', 'Hiking & Camping Tours'], ['River Rafting & Tubing', 'Helicopter Tours'], ['Historical & Heritage Tours', 'Hiking & Camping Tours'], ['Historical & Heritage Tours', 'Eco Tours'], ['Hiking & Camping Tours'], ['Multi-day Tours', 'Adrenaline & Extreme Tours'], ['Hiking & Camping Tours', 'Private Tours'], ['Cultural Tours', 'Historical & Heritage Tours'], ['Hiking & Camping Tours', 'Private Tours'], ['City Tours', 'Multi-day Tours'], ['Hiking & Camping Tours', 'Private Tours'], ['Yoga & Pilates'], ['City Tours', 'Multi-day Tours'], ['River Rafting & Tubing', 'Sightseeing Tours'], ['Hiking & Camping Tours', 'Private Tours'], ['Sightseeing Tours'], ['Multi-day Tours', 'Cultural Tours'], ['Multi-day Tours', 'Safaris'], ['Multi-day Tours', 'Historical & Heritage Tours'], ['Multi-day Tours', '4WD, ATV & Off-Road Tours'], ['Multi-day Tours', '4WD, ATV & Off-Road Tours'], ['Multi-day Tours', 'Sightseeing Tours'], ['Private Tours', 'Air Tours'], ['Bars & Clubs'], ['City Tours', 'Cultural Tours'], ['Spas'], ['Spas'], ['Multi-day Tours', 'Helicopter Tours'], ['Cultural Tours', 'Historical & Heritage Tours'], ['Climbing Tours', 'Sightseeing Tours'], ['City Tours', 'Multi-day Tours'], ['Hiking & Camping Tours'], ['City Tours', 'Hiking & Camping Tours'], ['Parasailing & Paragliding', 'Cultural Tours'], ['Hiking & Camping Tours'], ['Parasailing & Paragliding'], ['Hiking & Camping Tours', 'Air Tours'], ['Multi-day Tours', 'Helicopter Tours'], ['Multi-day Tours', 'Climbing Tours'], ['Cultural Tours', 'Climbing Tours'], ['Lessons & Workshops'], ['Multi-day Tours', 'Cultural Tours'], ['Historical & Heritage Tours', 'Private Tours'], ['City Tours', 'Sightseeing Tours'], ['City Tours', 'Sightseeing Tours'], ['City Tours', 'Hiking & Camping Tours'], ['City Tours'], ['Yoga & Pilates'], ['City Tours', 'Multi-day Tours'], ['Hiking & Camping Tours', 'Private Tours'], ['Multi-day Tours', 'Hiking & Camping Tours'], ['Hiking & Camping Tours', 'Private Tours'], ['Eco Tours', 'Private Tours'], ['Multi-day Tours', 'Bike Tours'], ['Walking Tours', 'Hiking & Camping Tours'], ['Taxis & Shuttles'], ['Hiking & Camping Tours', 'Nature & Wildlife Tours'], ['Hiking & Camping Tours'], ['Cultural Tours', 'Climbing Tours'], ['Yoga & Pilates'], ['Spas'], ['City Tours', 'Cultural Tours'], ['City Tours', 'Helicopter Tours'], ['Spas'], ['Cultural Tours', 'Helicopter Tours'], ['Boat Tours'], ['Multi-day Tours', 'Climbing Tours'], ['City Tours', 'Cultural Tours'], ['Multi-day Tours', 'Day Trips'], ['City Tours', 'Walking Tours'], ['River Rafting & Tubing', 'Adrenaline & Extreme Tours'], ['Cultural Tours', 'Helicopter Tours'], ['Helicopter Tours', 'Walking Tours'], ['Nature & Wildlife Tours'], ['Multi-day Tours', 'Cultural Tours'], ['Cultural Tours', 'Historical & Heritage Tours'], ['Hiking & Camping Tours'], ['Spas'], ['Helicopter Tours', 'Eco Tours'], ['City Tours', 'Multi-day Tours'], ['Eco Tours'], ['Multi-day Tours', 'Hiking & Camping Tours'], ['Cultural Tours', 'Historical & Heritage Tours'], ['Multi-day Tours', 'Hiking & Camping Tours'], ['Cultural Tours', 'Eco Tours'], ['City Tours', 'Multi-day Tours'], ['Private Tours'], ['City Tours', 'Cultural Tours'], ['Multi-day Tours', 'Hiking & Camping Tours'], ['Eco Tours'], ['Historical & Heritage Tours', 'Sightseeing Tours'], ['Adrenaline & Extreme Tours', 'Private Tours'], ['Private Tours'], ['Cultural Tours', 'Historical & Heritage Tours'], ['City Tours', 'Cultural Tours'], ['Multi-day Tours', 'Sightseeing Tours'], ['Spas'], ['Private Tours'], ['Hiking & Camping Tours'], ['Helicopter Tours', 'Climbing Tours'], ['Walking Tours', 'Eco Tours'], ['Multi-day Tours', 'Walking Tours'], ['Multi-day Tours', 'Cultural Tours'], ['Taxis & Shuttles'], ['Multi-day Tours', 'Climbing Tours'], ['City Tours', 'Sightseeing Tours'], ['Other Outdoor Activities'], ['Multi-day Tours', 'Cultural Tours'], ['Private Tours'], ['City Tours', 'Multi-day Tours'], ['Paint & Pottery Studios', 'Eco Tours'], ['Helicopter Tours', 'Sightseeing Tours'], ['Multi-day Tours', 'Helicopter Tours'], ['Cultural Tours', 'Climbing Tours'], ['Safaris', 'Nature & Wildlife Tours'], ['Parasailing & Paragliding'], ['Hiking & Camping Tours'], ['City Tours', 'Historical & Heritage Tours'], ['Multi-day Tours', 'Helicopter Tours'], ['Helicopter Tours', 'Sightseeing Tours'], ['Multi-day Tours', 'Hiking & Camping Tours'], ['Multi-day Tours', 'Eco Tours'], ['Multi-day Tours', 'Hiking & Camping Tours'], ['City Tours', 'Helicopter Tours'], ['Multi-day Tours', 'Sightseeing Tours'], ['City Tours', 'Cultural Tours'], ['City Tours', 'Multi-day Tours'], ['Hiking & Camping Tours'], ['Multi-day Tours', 'Biking Trails'], ['Walking Tours', 'Hiking & Camping Tours'], ['Parasailing & Paragliding', 'Multi-day Tours'], ['Multi-day Tours', 'Cultural Tours'], ['Nature & Wildlife Tours', 'Day Trips'], ['Nature & Wildlife Tours'], ['Zipline & Aerial Adventure Parks'], ['Helicopter Tours', 'Climbing Tours'], ['Hiking & Camping Tours', 'Nature & Wildlife Tours'], ['Air Tours'], ['Yoga & Pilates'], ['Multi-day Tours', 'Helicopter Tours'], ['Multi-day Tours', 'Climbing Tours'], ['City Tours', 'Helicopter Tours'], ['City Tours', 'Multi-day Tours'], ['Multi-day Tours', 'Sightseeing Tours'], ['Yoga & Pilates'], ['River Rafting & Tubing', 'Historical & Heritage Tours'], ['Parasailing & Paragliding'], ['Nature & Wildlife Tours'], ['Multi-day Tours', 'Hiking & Camping Tours'], ['Sightseeing Tours'], ['Multi-day Tours', 'Cultural Tours'], ['Yoga & Pilates', 'Spas'], ['Sightseeing Tours', 'Hiking & Camping Tours'], ['City Tours', 'Helicopter Tours'], ['Sightseeing Tours'], ['Walking Tours'], ['Historical & Heritage Tours', 'Sightseeing Tours'], ['Multi-day Tours', 'Cultural Tours'], ['Parasailing & Paragliding', 'City Tours'], ['City Tours', 'Multi-day Tours'], ['City Tours', 'Helicopter Tours'], ['Multi-day Tours', 'Cultural Tours'], ['Multi-day Tours', 'Sightseeing Tours'], ['City Tours', 'Hiking & Camping Tours'], ['Multi-day Tours', 'Sightseeing Tours'], ['Hiking & Camping Tours', 'Day Trips'], ['Helicopter Tours', 'Hiking & Camping Tours'], ['City Tours', 'Day Trips'], ['Cultural Tours', 'Hiking & Camping Tours'], ['Multi-day Tours', 'Hiking & Camping Tours'], ['City Tours', 'Bike Tours'], ['Multi-day Tours', 'Eco Tours'], ['River Rafting & Tubing', 'Hiking & Camping Tours'], ['Helicopter Tours', 'Taxis & Shuttles'], ['Multi-day Tours', 'Hiking & Camping Tours'], ['Helicopter Tours', 'Historical & Heritage Tours'], ['City Tours', 'Cultural Tours'], ['River Rafting & Tubing', 'Sightseeing Tours'], ['River Rafting & Tubing', 'Walking Tours'], ['Nature & Wildlife Tours'], ['Multi-day Tours', 'Walking Tours'], ['Cultural Tours', 'Hiking & Camping Tours'], ['Cultural Tours', 'Historical & Heritage Tours'], ['Parasailing & Paragliding'], ['City Tours', 'Cultural Tours'], ['Multi-day Tours', 'Cultural Tours'], ['Helicopter Tours'], ['City Tours', 'Cultural Tours'], ['City Tours', 'Multi-day Tours'], ['River Rafting & Tubing', 'Climbing Tours'], ['Cultural Tours', 'Eco Tours'], ['Multi-day Tours', 'Climbing Tours'], ['Historical & Heritage Tours', 'Walking Tours'], ['City Tours', 'Multi-day Tours'], ['4WD, ATV & Off-Road Tours', 'Climbing Tours'], ['Hiking & Camping Tours'], ['Hiking & Camping Tours'], ['City Tours', 'Cultural Tours'], ['Multi-day Tours', 'Safaris'], ['City Tours', 'Historical & Heritage Tours'], ['Air Tours'], ['Hiking & Camping Tours'], ['Hiking & Camping Tours'], ['Hiking & Camping Tours', 'Nature & Wildlife Tours'], ['Multi-day Tours', 'Sightseeing Tours'], ['Multi-day Tours', 'Adrenaline & Extreme Tours'], ['River Rafting & Tubing', 'Helicopter Tours'], ['Spas'], ['Bars & Clubs'], ['Nature & Wildlife Tours'], ['Multi-day Tours', 'Cultural Tours'], ['Multi-day Tours', 'Canyoning & Rappelling Tours'], ['Multi-day Tours', 'Private Tours'], ['City Tours', 'River Rafting & Tubing'], ['Hiking & Camping Tours', 'Private Tours'], ['Private Tours'], ['Yoga & Pilates', 'Lessons & Workshops'], ['City Tours', 'Helicopter Tours'], ['Multi-day Tours', 'Cultural Tours'], ['Private Tours'], ['City Tours', 'Cultural Tours'], ['Multi-day Tours', 'Hiking & Camping Tours'], ['City Tours', 'Walking Tours'], ['Multi-day Tours', '4WD, ATV & Off-Road Tours'], ['Historical & Heritage Tours', 'Walking Tours'], ['Multi-day Tours', 'Cultural Tours'], ['Helicopter Tours'], ['City Tours', 'Multi-day Tours'], ['City Tours'], ['Multi-day Tours', 'Hiking & Camping Tours'], ['Nature & Wildlife Tours'], ['Multi-day Tours', 'Cultural Tours'], ['Safaris', 'Climbing Tours'], ['City Tours', 'Multi-day Tours'], ['Parasailing & Paragliding'], ['Climbing Tours', 'Hiking & Camping Tours'], ['Taxis & Shuttles'], ['Cultural Tours', 'Historical & Heritage Tours'], ['Speciality & Gift Shops'], ['Sightseeing Tours', 'Hiking & Camping Tours'], ['Bike Tours', 'Climbing Tours'], ['Parasailing & Paragliding'], ['City Tours', 'Cultural Tours'], ['Cultural Tours', 'Bike Tours'], ['Yoga & Pilates'], ['Art Museums'], ['Multi-day Tours', 'Climbing Tours'], ['Parasailing & Paragliding', 'Multi-day Tours'], ['Taxis & Shuttles'], ['Multi-day Tours', 'Climbing Tours'], ['Helicopter Tours', 'Walking Tours'], ['Cultural Tours', 'Hiking & Camping Tours'], ['Multi-day Tours', 'Private Tours'], ['Multi-day Tours', 'Cultural Tours'], ['4WD, ATV & Off-Road Tours', 'Hiking & Camping Tours'], ['Parasailing & Paragliding', 'City Tours'], ['Climbing Tours', 'Eco Tours'], ['Private Tours'], ['City Tours', 'Cultural Tours'], ['City Tours', 'Cultural Tours'], ['Multi-day Tours', 'Cultural Tours'], ['Multi-day Tours', 'Hiking & Camping Tours'], ['Cultural Tours', 'Historical & Heritage Tours'], ['Hiking & Camping Tours', 'Nature & Wildlife Tours'], ['Hiking & Camping Tours', 'Private Tours'], ['City Tours', 'Cultural Tours'], ['City Tours', 'Sightseeing Tours'], ['Sightseeing Tours'], ['City Tours', 'Multi-day Tours'], ['Multi-day Tours', 'Helicopter Tours'], ['City Tours', 'Multi-day Tours'], ['Speciality & Gift Shops'], ['City Tours', 'Cultural Tours'], ['Multi-day Tours', 'Climbing Tours'], ['Cultural Tours', 'Historical & Heritage Tours'], ['Spas'], ['Hiking & Camping Tours', 'Bus Tours'], ['Speciality & Gift Shops'], ['City Tours', 'Climbing Tours'], ['Cultural Tours', 'Sightseeing Tours'], ['Multi-day Tours', 'Historical & Heritage Tours'], ['City Tours', 'Multi-day Tours'], ['Yoga & Pilates', 'Spas'], ['City Tours', 'Multi-day Tours'], ['Hiking & Camping Tours', 'Nature & Wildlife Tours'], ['Multi-day Tours', 'Historical & Heritage Tours'], ['Multi-day Tours', 'Cultural Tours'], ['Multi-day Tours', '4WD, ATV & Off-Road Tours'], ['Speciality & Gift Shops'], ['Multi-day Tours', 'Hiking & Camping Tours'], ['Helicopter Tours'], ['Private Tours'], ['Multi-day Tours', 'Helicopter Tours'], ['Helicopter Tours', 'Climbing Tours'], ['Taxis & Shuttles', 'Private Tours'], ['Multi-day Tours', 'Cultural Tours'], ['Helicopter Tours', 'Sightseeing Tours'], ['Multi-day Tours', '4WD, ATV & Off-Road Tours'], ['Sightseeing Tours'], ['City Tours', 'Cultural Tours'], ['Multi-day Tours', 'Eco Tours'], ['City Tours', 'Cultural Tours'], ['Hiking & Camping Tours'], ['Hiking & Camping Tours', 'Private Tours'], ['Walking Tours', 'Climbing Tours'], ['Yoga & Pilates'], ['Yoga & Pilates', 'Spas'], ['Multi-day Tours', 'Hiking & Camping Tours'], ['Yoga & Pilates', 'Spas'], ['Multi-day Tours', '4WD, ATV & Off-Road Tours'], ['City Tours', 'Multi-day Tours'], ['Hiking & Camping Tours'], ['Sightseeing Tours', 'Hiking & Camping Tours'], ['4WD, ATV & Off-Road Tours', 'Adrenaline & Extreme Tours'], ['Cultural Tours', 'Sightseeing Tours'], ['Multi-day Tours', 'Hiking & Camping Tours'], ['Climbing Tours', 'Hiking & Camping Tours'], ['Multi-day Tours', 'Hiking & Camping Tours'], ['Multi-day Tours', 'Sightseeing Tours'], ['Vespa, Scooter & Moped Tours'], ['Parasailing & Paragliding'], ['Speciality & Gift Shops'], ['Multi-day Tours', 'Walking Tours'], ['Walking Tours'], ['Cultural Tours', 'Walking Tours'], ['Cultural Tours', 'Historical & Heritage Tours'], ['Multi-day Tours', '4WD, ATV & Off-Road Tours'], ['Parasailing & Paragliding', 'Multi-day Tours'], ['Cooking Classes'], ['Climbing Tours', 'Hiking & Camping Tours'], ['City Tours', 'Helicopter Tours'], ['Multi-day Tours', 'Walking Tours'], ['Climbing Tours', 'Hiking & Camping Tours'], ['Bike Tours', 'Eco Tours'], ['Multi-day Tours', '4WD, ATV & Off-Road Tours'], ['Multi-day Tours', 'Taxis & Shuttles'], ['City Tours', 'Motorcycle Tours'], ['City Tours', 'Helicopter Tours'], ['Multi-day Tours', 'Helicopter Tours'], ['City Tours', 'Multi-day Tours'], ['City Tours', 'Helicopter Tours'], ['Hiking & Camping Tours', 'Private Tours'], ['City Tours', 'Helicopter Tours'], ['Cultural Tours', 'Sightseeing Tours'], ['Multi-day Tours', '4WD, ATV & Off-Road Tours'], ['Cultural Tours', 'Climbing Tours'], ['Climbing Tours', 'Hiking & Camping Tours'], ['Multi-day Tours', 'Historical & Heritage Tours'], ['Cooking Classes'], ['City Tours', 'Cultural Tours'], ['City Tours', 'Helicopter Tours'], ['River Rafting & Tubing', 'Canyoning & Rappelling Tours'], ['Sightseeing Tours'], ['Taxis & Shuttles'], ['Hiking & Camping Tours'], ['City Tours', 'Cultural Tours'], ['Zipline & Aerial Adventure Parks', 'Walking Tours'], ['Parasailing & Paragliding', 'Adrenaline & Extreme Tours'], ['River Rafting & Tubing', 'Cultural Tours'], ['Parasailing & Paragliding'], ['Adrenaline & Extreme Tours'], ['Hiking & Camping Tours'], ['Multi-day Tours', 'Hiking & Camping Tours'], ['Cultural Tours', 'Hiking & Camping Tours'], ['City Tours', 'Adrenaline & Extreme Tours'], ['Cultural Tours', 'Historical & Heritage Tours'], ['Multi-day Tours', 'Hiking & Camping Tours'], ['City Tours', 'Helicopter Tours'], ['Sightseeing Tours'], ['Multi-day Tours', 'River Rafting & Tubing'], ['City Tours', 'Helicopter Tours'], ['Sightseeing Tours'], ['Other Outdoor Activities'], ['Hiking & Camping Tours'], ['Multi-day Tours', 'Climbing Tours'], ['Nature & Wildlife Tours'], ['Multi-day Tours', 'Safaris'], ['Multi-day Tours', 'Hiking & Camping Tours'], ['Taxis & Shuttles'], ['Eco Tours', 'Hiking & Camping Tours'], ['Private Tours'], ['Multi-day Tours', 'Cultural Tours'], ['Hiking & Camping Tours'], ['Nature & Wildlife Tours'], ['Hiking & Camping Tours', 'Private Tours'], ['Bike Tours'], ['Multi-day Tours', 'Hiking & Camping Tours'], ['Sightseeing Tours', 'Hiking & Camping Tours'], ['River Rafting & Tubing', 'Kayaking & Canoeing'], ['Sightseeing Tours'], ['Hiking & Camping Tours'], ['Multi-day Tours', 'Eco Tours'], ['Helicopter Tours', 'Historical & Heritage Tours'], ['Safaris', 'Sightseeing Tours'], ['Hiking & Camping Tours', 'Nature & Wildlife Tours'], ['Multi-day Tours', 'Hiking & Camping Tours'], ['Multi-day Tours', 'Climbing Tours'], ['Multi-day Tours', 'Safaris'], ['River Rafting & Tubing', 'Bike Tours'], ['Other Outdoor Activities'], ['Cultural Tours', 'Historical & Heritage Tours'], ['Cultural Tours', 'Historical & Heritage Tours'], ['Parasailing & Paragliding', 'River Rafting & Tubing'], ['Historical & Heritage Tours', 'Hiking & Camping Tours'], ['Multi-day Tours', 'Hiking & Camping Tours'], ['Hiking & Camping Tours', 'Nature & Wildlife Tours'], ['Walking Tours'], ['Cultural Tours', 'Historical & Heritage Tours'], ['Multi-day Tours', 'Adrenaline & Extreme Tours'], ['River Rafting & Tubing', 'Canyoning & Rappelling Tours'], ['Safaris', 'Climbing Tours'], ['Taxis & Shuttles'], ['Cultural Tours', 'Historical & Heritage Tours'], ['Hiking & Camping Tours', 'Nature & Wildlife Tours'], ['Multi-day Tours', '4WD, ATV & Off-Road Tours'], ['Game & Entertainment Centers'], ['City Tours', 'Multi-day Tours'], ['Spas'], ['City Tours', 'Cultural Tours'], ['Multi-day Tours', 'Safaris'], ['City Tours', 'Cultural Tours'], ['Cultural Tours', 'Historical & Heritage Tours'], ['Yoga & Pilates'], ['Parasailing & Paragliding'], ['Hiking & Camping Tours'], ['Taxis & Shuttles'], ['Kayaking & Canoeing'], ['City Tours', 'Cultural Tours'], ['Spas'], ['Cultural Tours', 'Historical & Heritage Tours'], ['Historical & Heritage Tours', 'Eco Tours'], ['City Tours', 'Multi-day Tours'], ['City Tours', 'Cultural Tours'], ['Spas'], ['Cultural Tours', 'Walking Tours'], ['City Tours', 'Multi-day Tours'], ['Helicopter Tours', 'Historical & Heritage Tours'], ['Hiking & Camping Tours'], ['Spas'], ['Historical & Heritage Tours', 'Private Tours'], ['Cultural Tours', 'Historical & Heritage Tours'], ['Multi-day Tours', 'Sightseeing Tours'], ['Private Tours'], ['City Tours', 'Multi-day Tours'], ['Hiking & Camping Tours'], ['Cultural Tours', 'Walking Tours'], ['Taxis & Shuttles'], ['Yoga & Pilates'], ['Walking Tours', 'Eco Tours'], ['Parasailing & Paragliding'], ['Adrenaline & Extreme Tours', 'Climbing Tours'], ['Historical & Heritage Tours', 'Climbing Tours'], ['Multi-day Tours', 'Hiking & Camping Tours'], ['Multi-day Tours', 'Hiking & Camping Tours'], ['Historical & Heritage Tours', 'Hiking & Camping Tours'], ['Cultural Tours', 'Historical & Heritage Tours'], ['Helicopter Tours'], ['Air Tours'], ['City Tours', 'Climbing Tours'], ['Speciality & Gift Shops'], ['Hiking & Camping Tours'], ['Multi-day Tours', 'Climbing Tours'], ['Air Tours'], ['River Rafting & Tubing', 'Cultural Tours'], ['Hiking & Camping Tours', 'Private Tours'], ['Multi-day Tours', '4WD, ATV & Off-Road Tours'], ['4WD, ATV & Off-Road Tours', 'Adrenaline & Extreme Tours'], ['Cultural Tours', 'Hiking & Camping Tours'], ['Cultural Tours', 'Helicopter Tours'], ['Adrenaline & Extreme Tours', 'Hiking & Camping Tours'], ['Multi-day Tours', 'Climbing Tours'], ['Multi-day Tours', 'Hiking & Camping Tours'], ['Multi-day Tours', 'Climbing Tours'], ['City Tours', 'Bike Tours'], ['Multi-day Tours', 'Walking Tours'], ['Hiking & Camping Tours', 'Nature & Wildlife Tours'], ['Hiking & Camping Tours', 'Private Tours'], ['Sightseeing Tours', 'Bus Tours'], ['Hiking & Camping Tours', 'Private Tours'], ['City Tours', 'Hiking & Camping Tours'], ['Multi-day Tours', 'Walking Tours'], ['Spas'], ['Multi-day Tours', 'Adrenaline & Extreme Tours'], ['Parasailing & Paragliding', 'Adrenaline & Extreme Tours'], ['Day Trips'], ['City Tours', 'Multi-day Tours'], ['Hiking & Camping Tours'], ['River Rafting & Tubing', 'Cultural Tours'], ['Helicopter Tours', 'Historical & Heritage Tours'], ['Yoga & Pilates', 'Spas'], ['Speciality & Gift Shops'], ['Parasailing & Paragliding', 'River Rafting & Tubing'], ['Adrenaline & Extreme Tours', 'Climbing Tours'], ['City Tours', 'Cultural Tours'], ['Hiking & Camping Tours'], ['Hiking & Camping Tours', 'Private Tours'], ['Multi-day Tours', 'River Rafting & Tubing'], ['City Tours', 'Cultural Tours'], ['Yoga & Pilates', 'Spas'], ['Cooking Classes'], ['Hiking & Camping Tours'], ['Multi-day Tours', 'Hiking & Camping Tours'], ['Safaris', 'Nature & Wildlife Tours'], ['City Tours', 'Multi-day Tours'], ['Parasailing & Paragliding', 'Multi-day Tours'], ['Multi-day Tours', 'Canyoning & Rappelling Tours'], ['Health Clubs', 'Spas'], ['Multi-day Tours', 'Hiking & Camping Tours'], ['Climbing Tours', 'Sightseeing Tours'], ['Multi-day Tours', 'Hiking & Camping Tours'], ['Multi-day Tours', 'Canyoning & Rappelling Tours'], ['Multi-day Tours', 'Cultural Tours'], ['Parasailing & Paragliding', 'Multi-day Tours'], ['Multi-day Tours', 'Hiking & Camping Tours'], ['Multi-day Tours', 'Hiking & Camping Tours'], ['Multi-day Tours', 'Helicopter Tours'], ['Multi-day Tours', 'Climbing Tours'], ['Private Tours'], ['Safaris', 'Climbing Tours'], ['Parasailing & Paragliding'], ['Hiking & Camping Tours'], ['City Tours', 'Multi-day Tours'], ['Hiking & Camping Tours', 'Day Trips'], ['Multi-day Tours', 'Hiking & Camping Tours'], ['Multi-day Tours', 'Bike Tours'], ['City Tours', 'Cultural Tours'], ['Nature & Wildlife Tours'], ['Multi-day Tours', 'Cultural Tours'], ['Sightseeing Tours'], ['River Rafting & Tubing', 'Hiking & Camping Tours'], ['Multi-day Tours', 'Hiking & Camping Tours'], ['Multi-day Tours', 'Cultural Tours'], ['Private Tours'], ['Multi-day Tours', 'Hiking & Camping Tours'], ['Multi-day Tours', 'Walking Tours'], ['City Tours', 'Cultural Tours'], ['River Rafting & Tubing', 'Adrenaline & Extreme Tours'], ['Hiking & Camping Tours'], ['Multi-day Tours', 'Cultural Tours'], ['Eco Tours', 'Hiking & Camping Tours'], ['Paint & Pottery Studios'], ['Multi-day Tours', 'Cultural Tours'], ['Cultural Tours', 'Historical & Heritage Tours'], ['Sightseeing Tours', 'Hiking & Camping Tours'], ['Water Sports'], ['Cultural Tours', 'Historical & Heritage Tours'], ['Parasailing & Paragliding', 'River Rafting & Tubing'], ['City Tours', 'Cultural Tours'], ['Eco Tours', 'Private Tours'], ['Cultural Tours', 'Historical & Heritage Tours'], ['Adrenaline & Extreme Tours', 'Climbing Tours'], ['Yoga & Pilates'], ['City Tours', 'Cultural Tours'], ['Cultural Tours', 'Historical & Heritage Tours'], ['Hiking & Camping Tours', 'Air Tours'], ['Hiking & Camping Tours'], ['Bike Tours'], ['Spas'], ['Walking Tours'], ['River Rafting & Tubing', 'Canyoning & Rappelling Tours'], ['Cultural Tours', 'Eco Tours'], ['Hiking & Camping Tours'], ['Cultural Tours', 'Sightseeing Tours'], ['Parasailing & Paragliding', 'Sightseeing Tours'], ['Multi-day Tours', 'Eco Tours'], ['Hiking & Camping Tours'], ['River Rafting & Tubing', 'Historical & Heritage Tours'], ['Multi-day Tours', 'Hiking & Camping Tours'], ['City Tours', 'Multi-day Tours'], ['Cultural Tours', 'Historical & Heritage Tours'], ['Speciality & Gift Shops'], ['City Tours', 'River Rafting & Tubing'], ['City Tours', 'Helicopter Tours'], ['Hiking & Camping Tours'], ['Parasailing & Paragliding', 'Multi-day Tours'], ['Parasailing & Paragliding', 'Food Tours'], ['Hiking & Camping Tours', 'Day Trips'], ['Multi-day Tours', 'Historical & Heritage Tours'], ['Sightseeing Tours', 'Nature & Wildlife Tours'], ['Hiking & Camping Tours'], ['Historical & Heritage Tours', 'Sightseeing Tours'], ['Hiking & Camping Tours'], ['City Tours', 'Multi-day Tours'], ['Hiking & Camping Tours', 'Nature & Wildlife Tours'], ['Cultural Tours', 'Climbing Tours'], ['Historical & Heritage Tours', 'Walking Tours'], ['Yoga & Pilates'], ['Parasailing & Paragliding'], ['City Tours', 'Helicopter Tours'], ['Multi-day Tours', 'Sightseeing Tours'], ['City Tours', 'Multi-day Tours'], ['City Tours', 'Multi-day Tours'], ['Bars & Clubs'], ['Adrenaline & Extreme Tours', 'Climbing Tours'], ['City Tours', 'Cultural Tours'], ['Multi-day Tours', 'Hiking & Camping Tours'], ['Safaris', 'Nature & Wildlife Tours'], ['Cultural Tours'], ['Cultural Tours', 'Climbing Tours'], ['Yoga & Pilates', 'Spas'], ['Spas'], ['Multi-day Tours', 'Climbing Tours'], ['City Tours', 'Cultural Tours'], ['City Tours', 'Historical & Heritage Tours'], ['Historical & Heritage Tours', 'Hiking & Camping Tours'], ['Cultural Tours', 'Taxis & Shuttles'], ['Yoga & Pilates', 'Spas'], ['Historical & Heritage Tours', 'Hiking & Camping Tours'], ['Helicopter Tours', 'Nature & Wildlife Tours'], ['City Tours', 'Historical & Heritage Tours'], ['City Tours', 'Cultural Tours'], ['Multi-day Tours', 'Canyoning & Rappelling Tours'], ['Multi-day Tours', 'Historical & Heritage Tours'], ['Multi-day Tours', 'Climbing Tours'], ['River Rafting & Tubing', 'Canyoning & Rappelling Tours'], ['City Tours'], ['Multi-day Tours', 'Cultural Tours'], ['City Tours', 'Cultural Tours'], ['Visitor Centers'], ['Speciality & Gift Shops'], ['Hiking & Camping Tours', 'Private Tours'], ['Multi-day Tours', 'Taxis & Shuttles'], ['Spas'], ['Sightseeing Tours'], ['City Tours', 'Multi-day Tours'], ['Multi-day Tours', 'Cultural Tours'], ['City Tours', 'Cultural Tours'], ['Helicopter Tours', 'Historical & Heritage Tours'], ['Multi-day Tours', 'Climbing Tours'], ['River Rafting & Tubing', 'Bike Tours'], ['Multi-day Tours', 'Private Tours'], ['Spas'], ['Fishing Charters & Tours'], ['Cultural Tours', 'Historical & Heritage Tours'], ['City Tours', 'Sightseeing Tours'], ['Taxis & Shuttles', 'Eco Tours'], ['Parasailing & Paragliding'], ['Multi-day Tours', 'Adrenaline & Extreme Tours'], ['Multi-day Tours', 'Historical & Heritage Tours'], ['Hiking & Camping Tours', 'Private Tours'], ['Helicopter Tours'], ['Multi-day Tours', '4WD, ATV & Off-Road Tours'], ['Multi-day Tours', 'Walking Tours'], ['Bar, Club & Pub Tours', 'Climbing Tours'], ['Yoga & Pilates'], ['Multi-day Tours', 'Taxis & Shuttles'], ['Multi-day Tours', '4WD, ATV & Off-Road Tours'], ['Cultural Tours', 'Bike Tours'], ['Canyoning & Rappelling Tours', 'Climbing Tours'], ['City Tours', 'Sightseeing Tours'], ['Multi-day Tours', 'Cultural Tours'], ['Cultural Tours', 'Canyoning & Rappelling Tours'], ['Sightseeing Tours'], ['Parasailing & Paragliding', 'Adrenaline & Extreme Tours'], ['Cultural Tours', 'Historical & Heritage Tours'], ['Hiking & Camping Tours'], ['Parasailing & Paragliding'], ['Multi-day Tours', 'Hiking & Camping Tours'], ['Multi-day Tours', 'Climbing Tours'], ['Helicopter Tours'], ['City Tours', 'Bike Tours'], ['Speciality & Gift Shops'], ['Cultural Tours', 'Sightseeing Tours'], ['Multi-day Tours', 'Cultural Tours'], ['Multi-day Tours', 'Private Tours'], ['City Tours', 'Cultural Tours'], ['Cultural Tours', 'Historical & Heritage Tours'], ['City Tours', 'Cultural Tours'], ['Spas'], ['Parasailing & Paragliding'], ['Multi-day Tours', 'Climbing Tours'], ['Bike Tours'], ['Walking Tours', 'Hiking & Camping Tours'], ['Parasailing & Paragliding'], ['River Rafting & Tubing', 'Cultural Tours'], ['Cultural Tours', 'Sightseeing Tours'], ['Sightseeing Tours'], ['Hiking & Camping Tours'], ['Climbing Tours', 'Hiking & Camping Tours'], ['City Tours', 'Cultural Tours'], ['Motorcycle Tours', 'Eco Tours'], ['Multi-day Tours', 'Cultural Tours'], ['Hiking & Camping Tours', 'Private Tours'], ['City Tours', 'Cultural Tours'], ['Multi-day Tours', 'Hiking & Camping Tours'], ['City Tours', 'Eco Tours'], ['Multi-day Tours', 'Cultural Tours'], ['Multi-day Tours', 'Bike Tours'], ['Multi-day Tours', '4WD, ATV & Off-Road Tours'], ['Multi-day Tours', 'Day Trips'], ['City Tours', 'Eco Tours'], ['Air Tours'], ['Historical & Heritage Tours', 'Walking Tours'], ['Adrenaline & Extreme Tours', 'Taxis & Shuttles'], ['Speciality & Gift Shops'], ['City Tours', 'Multi-day Tours'], ['Golf Courses'], ['Multi-day Tours', 'Walking Tours'], ['Multi-day Tours', 'Helicopter Tours'], ['Multi-day Tours', 'Cultural Tours'], ['Parasailing & Paragliding'], ['Private Tours'], ['Multi-day Tours', 'Cultural Tours'], ['Multi-day Tours', 'Hiking & Camping Tours'], ['Multi-day Tours', 'Cultural Tours'], ['City Tours', 'Multi-day Tours'], ['Parasailing & Paragliding', 'City Tours'], ['Nature & Wildlife Tours'], ['Parasailing & Paragliding'], ['Multi-day Tours', 'Cultural Tours'], ['Cultural Tours', 'Historical & Heritage Tours'], ['City Tours', 'Multi-day Tours'], ['Multi-day Tours', 'Cultural Tours'], ['Multi-day Tours', 'Cultural Tours'], ['City Tours', 'Cultural Tours'], ['Multi-day Tours', 'Cultural Tours'], ['Yoga & Pilates', 'Spas'], ['Historical & Heritage Tours', 'Bike Tours'], ['Spas'], ['Hiking & Camping Tours'], ['Walking Tours', 'Sightseeing Tours'], ['Parasailing & Paragliding', 'Multi-day Tours'], ['Hiking & Camping Tours'], ['River Rafting & Tubing', 'Water Sports'], ['City Tours', 'River Rafting & Tubing'], ['Lessons & Workshops', 'Cooking Classes'], ['Multi-day Tours', 'Sightseeing Tours'], ['City Tours', 'Sightseeing Tours'], ['Multi-day Tours', 'Cultural Tours'], ['Cultural Tours', 'Climbing Tours'], ['Speciality & Gift Shops'], ['Multi-day Tours', 'Cultural Tours'], ['City Tours', 'Cultural Tours'], ['Multi-day Tours', 'Cultural Tours'], ['Cultural Tours', 'Historical & Heritage Tours'], ['Multi-day Tours', 'Hiking & Camping Tours'], ['Historical & Heritage Tours', 'Zipline & Aerial Adventure Parks'], ['Taxis & Shuttles'], ['Lessons & Workshops', 'Cooking Classes'], ['Spas'], ['Parasailing & Paragliding', 'Cultural Tours'], ['Bars & Clubs', 'Blues Bars'], ['Parasailing & Paragliding'], ['Multi-day Tours', 'Bus Tours'], ['Helicopter Tours'], ['City Tours', 'Multi-day Tours'], ['Helicopter Tours', 'Historical & Heritage Tours'], ['Private Tours'], ['Cultural Tours', 'Helicopter Tours'], ['Parasailing & Paragliding', 'Cultural Tours'], ['City Tours', 'Yoga & Pilates'], ['Multi-day Tours', 'Cultural Tours'], ['Multi-day Tours', 'Cultural Tours'], ['City Tours', 'Multi-day Tours'], ['Parasailing & Paragliding', 'Multi-day Tours'], ['Multi-day Tours', 'Adrenaline & Extreme Tours'], ['Yoga & Pilates', 'Spas'], ['Parasailing & Paragliding'], ['River Rafting & Tubing', 'Helicopter Tours'], ['River Rafting & Tubing', 'Cultural Tours'], ['4WD, ATV & Off-Road Tours', 'Bike Tours'], ['Sightseeing Tours'], ['Multi-day Tours', 'Cultural Tours'], ['City Tours', 'Historical & Heritage Tours'], ['Multi-day Tours', 'Adrenaline & Extreme Tours'], ['Multi-day Tours', 'Sightseeing Tours'], ['Multi-day Tours', 'Cultural Tours'], ['Multi-day Tours', '4WD, ATV & Off-Road Tours'], ['Helicopter Tours', 'Hiking & Camping Tours'], ['Multi-day Tours', 'Helicopter Tours'], ['Multi-day Tours', 'Hiking & Camping Tours'], ['City Tours', 'Cultural Tours'], ['Hiking & Camping Tours'], ['Multi-day Tours', '4WD, ATV & Off-Road Tours'], ['Cultural Tours', 'Historical & Heritage Tours'], ['Taxis & Shuttles'], ['Spas'], ['Lessons & Workshops'], ['Multi-day Tours', 'Hiking & Camping Tours'], ['Multi-day Tours', 'Taxis & Shuttles'], ['Multi-day Tours', 'Sightseeing Tours'], ['City Tours', 'Cultural Tours'], ['City Tours', 'River Rafting & Tubing'], ['Eco Tours'], ['Multi-day Tours', 'Cultural Tours'], ['Historical & Heritage Tours', 'Private Tours'], ['Multi-day Tours', 'Cultural Tours'], ['Hiking & Camping Tours', 'Private Tours'], ['Spas'], ['Multi-day Tours', 'Sightseeing Tours'], ['Multi-day Tours', 'Hiking & Camping Tours'], ['Hiking & Camping Tours', 'Nature & Wildlife Tours'], ['Multi-day Tours', 'Hiking & Camping Tours'], ['Multi-day Tours', 'Sightseeing Tours'], ['Multi-day Tours', 'Walking Tours'], ['Hiking & Camping Tours', 'Private Tours'], ['Speciality & Gift Shops'], ['City Tours', 'Multi-day Tours'], ['Helicopter Tours', 'Climbing Tours'], ['Multi-day Tours', 'Historical & Heritage Tours'], ['Balloon Rides'], ['Sightseeing Tours'], ['Adrenaline & Extreme Tours', 'Historical & Heritage Tours'], ['Speciality & Gift Shops', 'Factory Outlets'], ['Multi-day Tours', 'Private Tours'], ['Private Tours'], ['Multi-day Tours', 'Climbing Tours'], ['River Rafting & Tubing', 'Cultural Tours'], ['Multi-day Tours', 'Eco Tours'], ['Hiking & Camping Tours'], ['Multi-day Tours', 'Cultural Tours'], ['Multi-day Tours', 'Hiking & Camping Tours'], ['Multi-day Tours', 'Canyoning & Rappelling Tours'], ['Multi-day Tours', 'Helicopter Tours'], ['River Rafting & Tubing', 'Air Tours'], ['Bike Tours', 'Motorcycle Tours'], ['Multi-day Tours', 'Safaris'], ['Multi-day Tours', 'River Rafting & Tubing'], ['Walking Tours', 'Hiking & Camping Tours'], ['Bars & Clubs'], ['Paint & Pottery Studios', 'Multi-day Tours'], ['Historical & Heritage Tours', 'Hiking & Camping Tours'], ['Parasailing & Paragliding', 'City Tours'], ['Cultural Tours', 'Historical & Heritage Tours'], ['Climbing Tours', 'Sightseeing Tours'], ['Cultural Tours', 'Climbing Tours'], ['Cultural Tours', 'Climbing Tours'], ['Cultural Tours', 'Hiking & Camping Tours'], ['Multi-day Tours', 'Taxis & Shuttles'], ['Cultural Tours', 'Sightseeing Tours'], ['Multi-day Tours', 'Helicopter Tours'], ['Eco Tours', 'Nature & Wildlife Tours'], ['River Rafting & Tubing', 'Adrenaline & Extreme Tours'], ['Cultural Tours', 'Historical & Heritage Tours'], ['Hiking & Camping Tours'], ['Parasailing & Paragliding', 'Adrenaline & Extreme Tours'], ['4WD, ATV & Off-Road Tours', 'Helicopter Tours'], ['Multi-day Tours', 'Adrenaline & Extreme Tours'], ['Canyoning & Rappelling Tours', 'Walking Tours'], ['Other Outdoor Activities'], ['Walking Tours', 'Climbing Tours'], ['Multi-day Tours', 'Cultural Tours'], ['Cultural Tours', 'Historical & Heritage Tours'], ['Climbing Tours'], ['Spas'], ['Lessons & Workshops'], ['Multi-day Tours', 'Nature & Wildlife Tours'], ['Speciality & Gift Shops'], ['Speciality & Gift Shops'], ['Boat Tours'], ['City Tours', 'Helicopter Tours'], ['City Tours', 'Historical & Heritage Tours'], ['River Rafting & Tubing', 'Adrenaline & Extreme Tours'], ['Cultural Tours', 'Hiking & Camping Tours'], ['Multi-day Tours', 'Motorcycle Tours'], ['City Tours', 'Cultural Tours'], ['City Tours', 'Cultural Tours'], ['Speciality & Gift Shops'], ['River Rafting & Tubing', 'Cultural Tours'], ['Air Tours'], ['Hiking & Camping Tours', 'Private Tours'], ['Bike Tours', 'Gear Rentals'], ['Multi-day Tours', 'Cultural Tours'], ['City Tours', 'Multi-day Tours'], ['Cultural Tours', 'Eco Tours'], ['Multi-day Tours', 'Bike Tours'], ['City Tours', 'Historical & Heritage Tours'], ['Adrenaline & Extreme Tours', 'Bike Tours'], ['Cultural Tours', 'Historical & Heritage Tours'], ['Multi-day Tours', 'Climbing Tours'], ['City Tours', 'Multi-day Tours'], ['Multi-day Tours', 'Cultural Tours'], ['Multi-day Tours', 'Cultural Tours'], ['Cooking Classes'], ['Yoga & Pilates'], ['Multi-day Tours', 'Hiking & Camping Tours'], ['City Tours', 'Walking Tours'], ['Hiking & Camping Tours'], ['City Tours', 'Multi-day Tours'], ['Multi-day Tours', 'Helicopter Tours'], ['Multi-day Tours', 'Climbing Tours'], ['Multi-day Tours', 'Private Tours'], ['Bike Tours', 'Gear Rentals'], ['Parasailing & Paragliding'], ['Cultural Tours', 'Historical & Heritage Tours'], ['Private Tours', 'Day Trips'], ['Spas'], ['Safaris', 'Climbing Tours'], ['Parasailing & Paragliding'], ['Playgrounds', 'Game & Entertainment Centers'], ['Cultural Tours', 'Nature & Wildlife Tours'], ['River Rafting & Tubing', 'Bike Tours'], ['Multi-day Tours', 'Hiking & Camping Tours'], ['Yoga & Pilates'], ['Spas'], ['Hiking & Camping Tours'], ['Multi-day Tours', '4WD, ATV & Off-Road Tours'], ['Multi-day Tours', 'Cultural Tours'], ['City Tours', 'Multi-day Tours'], ['Multi-day Tours', '4WD, ATV & Off-Road Tours'], ['Historical & Heritage Tours'], ['Multi-day Tours', 'Eco Tours'], ['Helicopter Tours', 'Hiking & Camping Tours'], ['4WD, ATV & Off-Road Tours', 'Bike Tours'], ['Hiking & Camping Tours'], ['Taxis & Shuttles'], ['River Rafting & Tubing', 'Bike Tours'], ['Speciality & Gift Shops'], ['City Tours', 'Multi-day Tours'], ['Multi-day Tours', 'Cultural Tours'], ['Hiking & Camping Tours', 'Private Tours'], ['Multi-day Tours', 'Climbing Tours'], ['4WD, ATV & Off-Road Tours', 'Climbing Tours'], ['Hiking & Camping Tours'], ['Multi-day Tours', 'Cultural Tours'], ['Historical & Heritage Tours', 'Eco Tours'], ['Cultural Tours', 'Climbing Tours'], ['Climbing Tours'], ['Hiking & Camping Tours', 'Kayaking & Canoeing'], ['4WD, ATV & Off-Road Tours', 'Helicopter Tours'], ['Cultural Tours', 'Walking Tours'], ['City Tours', 'Multi-day Tours'], ['Multi-day Tours', 'River Rafting & Tubing'], ['Speciality & Gift Shops'], ['Adrenaline & Extreme Tours'], ['Multi-day Tours', 'Cultural Tours'], ['Bike Tours', 'Gear Rentals'], ['City Tours', 'Historical & Heritage Tours'], ['Multi-day Tours', 'Hiking & Camping Tours'], ['Bike Tours'], ['Cultural Tours', 'Hiking & Camping Tours'], ['Walking Tours', 'Sightseeing Tours'], ['River Rafting & Tubing'], ['Speciality & Gift Shops'], ['Hiking & Camping Tours'], ['Multi-day Tours', 'Walking Tours'], ['River Rafting & Tubing'], ['Multi-day Tours', 'Cultural Tours'], ['Day Trips'], ['Helicopter Tours', 'Adrenaline & Extreme Tours'], ['Multi-day Tours', 'Cultural Tours'], ['4WD, ATV & Off-Road Tours', 'Walking Tours'], ['Multi-day Tours', 'Climbing Tours'], ['Multi-day Tours', 'Cultural Tours'], ['Yoga & Pilates'], ['Multi-day Tours', 'Helicopter Tours'], ['Gear Rentals'], ['Parasailing & Paragliding'], ['Multi-day Tours', 'Climbing Tours'], ['Multi-day Tours', 'River Rafting & Tubing'], ['Multi-day Tours', '4WD, ATV & Off-Road Tours'], ['Historical & Heritage Tours', 'Climbing Tours'], ['Yoga & Pilates'], ['Climbing Tours', 'Sightseeing Tours'], ['Hiking Trails'], ['City Tours', 'River Rafting & Tubing'], ['Multi-day Tours', 'Sightseeing Tours'], ['Spas'], ['Multi-day Tours', '4WD, ATV & Off-Road Tours'], ['Multi-day Tours', 'Climbing Tours'], ['Multi-day Tours', 'Canyoning & Rappelling Tours'], ['City Tours', 'Multi-day Tours'], ['Multi-day Tours', 'Historical & Heritage Tours'], ['Multi-day Tours', 'Canyoning & Rappelling Tours'], ['Hiking Trails', 'Hiking & Camping Tours'], ['Cultural Tours'], ['Cultural Tours', 'Historical & Heritage Tours'], ['City Tours', 'Cultural Tours'], ['Yoga & Pilates'], ['Helicopter Tours', 'Sightseeing Tours'], ['Multi-day Tours', '4WD, ATV & Off-Road Tours'], ['Speciality & Gift Shops'], ['Cultural Tours'], ['City Tours', 'Multi-day Tours'], ['Multi-day Tours', 'Climbing Tours'], ['Day Trips'], ['Multi-day Tours', 'River Rafting & Tubing'], ['Safaris', 'Bike Tours'], ['Multi-day Tours', 'Hiking & Camping Tours'], ['Multi-day Tours', 'Cultural Tours'], ['Adrenaline & Extreme Tours', 'Hiking & Camping Tours'], ['Private Tours'], ['Multi-day Tours', 'Private Tours'], ['Sightseeing Tours', 'Nature & Wildlife Tours'], ['Safaris', 'Nature & Wildlife Tours'], ['Private Tours'], ['City Tours', 'Multi-day Tours'], ['Multi-day Tours', 'Safaris'], ['Helicopter Tours', 'Historical & Heritage Tours'], ['Bars & Clubs'], ['Multi-day Tours', 'Cultural Tours'], ['Spas'], ['Sightseeing Tours'], ['Cultural Tours', 'Sightseeing Tours'], ['Multi-day Tours', 'Climbing Tours'], ['Spas'], ['Cultural Tours', 'Hiking & Camping Tours'], ['Multi-day Tours', 'Helicopter Tours'], ['Adrenaline & Extreme Tours', 'Historical & Heritage Tours'], ['City Tours', 'Multi-day Tours'], ['City Tours', 'Multi-day Tours'], ['Multi-day Tours', 'Climbing Tours'], ['Cultural Tours', 'Sightseeing Tours'], ['Multi-day Tours', 'Cultural Tours'], ['Multi-day Tours', 'Hiking & Camping Tours'], ['Cultural Tours', 'Historical & Heritage Tours'], ['Speciality & Gift Shops'], ['Private Tours'], ['Speciality & Gift Shops'], ['Parasailing & Paragliding', 'City Tours'], ['Spas'], ['Bike Tours', 'Private Tours'], ['Multi-day Tours', 'Bike Tours'], ['City Tours', 'Cultural Tours'], ['Speciality & Gift Shops'], ['City Tours', 'Multi-day Tours'], ['Multi-day Tours', 'Private Tours'], ['Multi-day Tours', 'Adrenaline & Extreme Tours'], ['City Tours', 'Historical & Heritage Tours'], ['Private Tours'], ['Multi-day Tours', 'Adrenaline & Extreme Tours'], ['River Rafting & Tubing'], ['City Tours', 'Multi-day Tours'], ['Multi-day Tours', 'Sightseeing Tours'], ['Multi-day Tours', 'Adrenaline & Extreme Tours'], ['City Tours', 'Multi-day Tours'], ['City Tours', 'Bike Tours'], ['Yoga & Pilates'], ['Multi-day Tours', 'Cultural Tours'], ['Multi-day Tours', 'Climbing Tours'], ['Multi-day Tours', 'Climbing Tours'], ['River Rafting & Tubing', 'Cultural Tours'], ['City Tours', 'Multi-day Tours'], ['Parasailing & Paragliding'], ['Spas'], ['Multi-day Tours', 'Canyoning & Rappelling Tours'], ['Multi-day Tours', 'Climbing Tours'], ['Multi-day Tours', '4WD, ATV & Off-Road Tours'], ['Speciality & Gift Shops'], ['Cultural Tours', 'Walking Tours'], ['City Tours', 'Multi-day Tours'], ['Spas'], ['Multi-day Tours', 'Cultural Tours'], ['Hiking & Camping Tours', 'Private Tours'], ['Parasailing & Paragliding'], ['River Rafting & Tubing', 'Adrenaline & Extreme Tours'], ['Speciality & Gift Shops'], ['Multi-day Tours', 'Day Trips'], ['Sports Camps & Clinics', 'Day Trips'], ['Multi-day Tours', 'Private Tours'], ['Speciality & Gift Shops'], ['Multi-day Tours', 'Climbing Tours'], ['Private Tours'], ['Parasailing & Paragliding', 'Helicopter Tours'], ['Parasailing & Paragliding', 'Multi-day Tours'], ['City Tours', 'Multi-day Tours'], ['Multi-day Tours', 'Walking Tours'], ['City Tours', 'Multi-day Tours'], ['Lessons & Workshops'], ['Multi-day Tours', '4WD, ATV & Off-Road Tours'], ['Hiking & Camping Tours', 'Nature & Wildlife Tours'], ['Climbing Tours', 'Hiking & Camping Tours'], ['Multi-day Tours', 'Bike Tours'], ['Multi-day Tours', 'Day Trips'], ['Multi-day Tours', 'Adrenaline & Extreme Tours'], ['City Tours', 'Water Sports'], ['City Tours', 'Cultural Tours'], ['Multi-day Tours', 'River Rafting & Tubing'], ['Multi-day Tours', '4WD, ATV & Off-Road Tours'], ['Spas'], ['Sightseeing Tours', 'Hiking & Camping Tours'], ['Multi-day Tours', 'Sightseeing Tours'], ['Hiking & Camping Tours', 'Private Tours'], ['Multi-day Tours', 'Climbing Tours'], ['Hiking & Camping Tours', 'Private Tours'], ['Cultural Tours', 'Sightseeing Tours'], ['Yoga & Pilates'], ['Speciality & Gift Shops'], ['Multi-day Tours', 'Walking Tours'], ['Spas'], ['Cultural Tours', '4WD, ATV & Off-Road Tours'], ['Yoga & Pilates'], ['Multi-day Tours', 'River Rafting & Tubing'], ['Multi-day Tours', 'Climbing Tours'], ['Yoga & Pilates'], ['Multi-day Tours', 'Hiking & Camping Tours'], ['Paint & Pottery Studios'], ['City Tours', 'Cultural Tours'], ['Multi-day Tours', 'Historical & Heritage Tours'], ['Hiking & Camping Tours', 'Private Tours'], ['Speciality & Gift Shops'], ['Multi-day Tours', 'Cultural Tours'], ['Bars & Clubs'], ['City Tours', 'Multi-day Tours'], ['Bars & Clubs'], ['Air Tours'], ['Helicopter Tours', 'Sightseeing Tours'], ['Lessons & Workshops'], ['Multi-day Tours', 'Bike Tours'], ['Helicopter Tours'], ['Spas'], ['Cultural Tours', 'Helicopter Tours'], ['Hiking & Camping Tours'], ['Parasailing & Paragliding'], ['Bars & Clubs'], ['Multi-day Tours', 'River Rafting & Tubing'], ['City Tours', 'Cultural Tours'], ['Cultural Tours', 'Day Trips'], ['Speciality & Gift Shops'], ['Multi-day Tours', 'Hiking & Camping Tours'], ['Private Tours'], ['City Tours'], ['City Tours', 'Multi-day Tours'], ['Multi-day Tours', 'Safaris'], ['Spas'], ['Multi-day Tours', 'Safaris'], ['Private Tours', 'Day Trips'], ['Multi-day Tours', 'Cultural Tours'], ['Parasailing & Paragliding', 'Adrenaline & Extreme Tours'], ['Multi-day Tours', 'Cultural Tours'], ['Multi-day Tours', 'Cultural Tours'], ['Cultural Tours', 'Hiking & Camping Tours'], ['Multi-day Tours', 'Climbing Tours'], ['Multi-day Tours', 'Cultural Tours'], ['Helicopter Tours', 'Sightseeing Tours'], ['River Rafting & Tubing', 'Kayaking & Canoeing'], ['Multi-day Tours', 'Taxis & Shuttles'], ['Multi-day Tours', 'Hiking & Camping Tours'], ['Speciality & Gift Shops', 'Art Galleries'], ['Cultural Tours', 'Climbing Tours'], ['Yoga & Pilates'], ['Multi-day Tours', '4WD, ATV & Off-Road Tours'], ['Taxis & Shuttles'], ['Multi-day Tours', 'Hiking & Camping Tours'], ['Multi-day Tours', 'Cultural Tours'], ['Multi-day Tours', 'Sightseeing Tours'], ['Sightseeing Tours', 'Hiking & Camping Tours'], ['Historical & Heritage Tours', 'Bike Tours'], ['Multi-day Tours', 'Adrenaline & Extreme Tours'], ['Multi-day Tours', 'Cultural Tours'], ['Private Tours'], ['Multi-day Tours', 'Climbing Tours'], ['Hiking & Camping Tours'], ['Other Outdoor Activities'], ['Spas'], ['Private Tours'], ['Cultural Tours', 'Helicopter Tours'], ['Bus Services', 'Taxis & Shuttles'], ['Paint & Pottery Studios'], ['Multi-day Tours', 'Helicopter Tours'], ['Yoga & Pilates'], ['Multi-day Tours', 'Adrenaline & Extreme Tours'], ['Multi-day Tours', 'Eco Tours'], ['City Tours', 'Cultural Tours'], ['Multi-day Tours', 'Cultural Tours'], ['Hiking & Camping Tours'], ['City Tours', 'Helicopter Tours'], ['City Tours', 'Historical & Heritage Tours'], ['Climbing Tours', 'Hiking & Camping Tours'], ['Visitor Centers'], ['City Tours', 'Multi-day Tours'], ['City Tours', 'Multi-day Tours'], ['Climbing Tours', 'Hiking & Camping Tours'], ['Multi-day Tours', 'Helicopter Tours'], ['Speciality & Gift Shops'], ['Cultural Tours', 'Walking Tours'], ['City Tours', 'Cultural Tours'], ['Hiking & Camping Tours'], ['City Tours', 'Multi-day Tours'], ['City Tours', 'Multi-day Tours'], ['Spas'], ['Cultural Tours', 'Shopping Tours'], ['Cultural Tours', 'Sightseeing Tours'], ['Multi-day Tours', 'Hiking & Camping Tours'], ['City Tours', 'Cultural Tours'], ['Multi-day Tours', 'Climbing Tours'], ['Multi-day Tours', 'Eco Tours'], ['Cultural Tours', 'Eco Tours'], ['Spas'], ['Nature & Wildlife Tours'], ['Spas'], ['Multi-day Tours', 'Cultural Tours'], ['Multi-day Tours', 'Helicopter Tours'], ['Yoga & Pilates'], ['Multi-day Tours', 'Eco Tours'], ['Bars & Clubs'], ['City Tours', 'Cultural Tours'], ['Sightseeing Tours'], ['Hiking & Camping Tours'], ['Cultural Tours', 'Helicopter Tours'], ['Multi-day Tours', 'Cultural Tours'], ['City Tours', 'Cultural Tours'], ['Multi-day Tours', 'Private Tours'], ['Parasailing & Paragliding', 'Multi-day Tours'], ['Nature & Wildlife Tours'], ['Multi-day Tours', 'Cultural Tours'], ['City Tours', 'Cultural Tours'], ['Yoga & Pilates'], ['Spas'], ['City Tours', 'Cultural Tours'], ['Helicopter Tours'], ['City Tours', 'Sightseeing Tours'], ['Bike Tours', 'Hiking & Camping Tours'], ['Hiking & Camping Tours'], ['Parasailing & Paragliding', 'Multi-day Tours'], ['Cultural Tours', 'Safaris'], ['City Tours', 'Multi-day Tours'], ['Spas'], ['Multi-day Tours', 'Private Tours'], ['Hiking & Camping Tours'], ['Multi-day Tours', 'Cultural Tours'], ['Cultural Tours', 'Climbing Tours'], ['Multi-day Tours', 'Private Tours'], ['Multi-day Tours', 'Hiking & Camping Tours'], ['Multi-day Tours', 'Hiking & Camping Tours'], ['Multi-day Tours', 'Walking Tours'], ['Multi-day Tours', 'Cultural Tours'], ['Multi-day Tours', 'Climbing Tours'], ['Safaris', 'Taxis & Shuttles'], ['Archaeology Tours'], ['Multi-day Tours', 'Canyoning & Rappelling Tours'], ['Multi-day Tours', 'Historical & Heritage Tours'], ['Hiking & Camping Tours', 'Private Tours'], ['City Tours', 'Multi-day Tours'], ['Hiking & Camping Tours'], ['Multi-day Tours', 'Cultural Tours'], ['Multi-day Tours', '4WD, ATV & Off-Road Tours'], ['City Tours', 'Sightseeing Tours'], ['Lessons & Workshops'], ['Cooking Classes'], ['City Tours', 'Cultural Tours'], ['Speciality & Gift Shops'], ['Multi-day Tours', 'Eco Tours'], ['Multi-day Tours', 'Adrenaline & Extreme Tours'], ['4WD, ATV & Off-Road Tours', 'Adrenaline & Extreme Tours'], ['Parasailing & Paragliding', 'City Tours'], ['Speciality & Gift Shops'], ['Parasailing & Paragliding'], ['Historical & Heritage Tours', 'Sightseeing Tours'], ['Multi-day Tours', 'Ski & Snow Tours'], ['Parasailing & Paragliding'], ['Multi-day Tours', 'Climbing Tours'], ['Walking Tours', 'Hiking & Camping Tours'], ['Spas'], ['City Tours', 'Multi-day Tours'], ['Historical & Heritage Tours', 'Private Tours'], ['Adrenaline & Extreme Tours'], ['Speciality & Gift Shops'], ['City Tours', 'Cultural Tours'], ['Multi-day Tours', 'River Rafting & Tubing'], ['Spas'], ['Climbing Tours', 'Hiking Trails'], ['Other Outdoor Activities'], ['Cooking Classes', 'Food Tours'], ['Bars & Clubs'], ['Yoga & Pilates'], ['Multi-day Tours', 'Cultural Tours'], ['Multi-day Tours', 'Cultural Tours'], ['Spas'], ['Speciality & Gift Shops'], ['Multi-day Tours', 'Hiking & Camping Tours'], ['Parasailing & Paragliding', 'City Tours'], ['Multi-day Tours', '4WD, ATV & Off-Road Tours'], ['Parasailing & Paragliding', 'Multi-day Tours'], ['Multi-day Tours', '4WD, ATV & Off-Road Tours'], ['Multi-day Tours', 'Bike Tours'], ['Parasailing & Paragliding', 'Multi-day Tours'], ['Multi-day Tours', 'Hiking & Camping Tours'], ['Helicopter Tours'], ['Multi-day Tours', 'Boat Tours'], ['Spas'], ['Cultural Tours', 'Walking Tours'], ['Walking Tours', 'Climbing Tours'], ['Multi-day Tours', 'Private Tours'], ['Multi-day Tours', '4WD, ATV & Off-Road Tours'], ['Multi-day Tours', 'Walking Tours'], ['Multi-day Tours', 'Walking Tours'], ['Sightseeing Tours', 'Hiking & Camping Tours'], ['Bike Tours'], ['Multi-day Tours', 'Helicopter Tours'], ['Taxis & Shuttles', 'Walking Tours'], ['Multi-day Tours', 'Canyoning & Rappelling Tours'], ['Multi-day Tours', 'Cultural Tours'], ['Climbing Tours', 'Hiking & Camping Tours'], ['Hiking & Camping Tours'], ['Multi-day Tours', 'Safaris'], ['Canyoning & Rappelling Tours', '4WD, ATV & Off-Road Tours'], ['City Tours', 'Cultural Tours'], ['Multi-day Tours', 'Cultural Tours'], ['Safaris', 'Hiking & Camping Tours'], ['Multi-day Tours', 'Taxis & Shuttles'], ['Taxis & Shuttles'], ['Multi-day Tours', '4WD, ATV & Off-Road Tours'], ['Multi-day Tours'], ['River Rafting & Tubing', 'Hiking & Camping Tours'], ['Walking Tours', 'Hiking & Camping Tours'], ['Multi-day Tours', 'Safaris'], ['Helicopter Tours', 'Air Tours'], ['Multi-day Tours', 'Canyoning & Rappelling Tours'], ['Multi-day Tours', 'Climbing Tours'], ['City Tours', 'Multi-day Tours'], ['Safaris', 'Ski & Snow Tours'], ['Multi-day Tours', 'Climbing Tours'], ['Multi-day Tours', 'Climbing Tours'], ['Spas'], ['City Tours', 'Multi-day Tours'], ['Multi-day Tours', 'Cultural Tours'], ['Nature & Wildlife Tours'], ['Multi-day Tours', 'Canyoning & Rappelling Tours'], ['Multi-day Tours', 'Private Tours'], ['Multi-day Tours', 'Cultural Tours'], ['City Tours', 'Multi-day Tours'], ['City Tours', 'Multi-day Tours'], ['Multi-day Tours', 'Helicopter Tours'], ['Other Outdoor Activities'], ['Multi-day Tours', 'Hiking & Camping Tours'], ['River Rafting & Tubing', 'Kayaking & Canoeing'], ['City Tours', 'Cultural Tours'], ['City Tours', 'Multi-day Tours'], ['City Tours', 'Multi-day Tours'], ['Multi-day Tours', 'Sightseeing Tours'], ['Speciality & Gift Shops'], ['Historical & Heritage Tours', 'Climbing Tours'], ['Adrenaline & Extreme Tours', 'Historical & Heritage Tours'], ['Adrenaline & Extreme Tours', 'Historical & Heritage Tours'], ['Multi-day Tours', 'Helicopter Tours'], ['Safaris', 'Climbing Tours'], ['City Tours', 'Cultural Tours'], ['Multi-day Tours', 'Hiking & Camping Tours'], ['City Tours', 'Helicopter Tours'], ['Helicopter Tours'], ['Multi-day Tours', 'Cultural Tours'], ['Taxis & Shuttles'], ['Multi-day Tours', 'Cultural Tours'], ['City Tours', 'Cultural Tours'], ['Spas'], ['Private Tours'], ['Multi-day Tours', 'Private Tours'], ['Hiking & Camping Tours'], ['Historical & Heritage Tours', 'Eco Tours'], ['Hiking & Camping Tours', 'Private Tours'], ['Multi-day Tours', 'Hiking & Camping Tours'], ['Nature & Wildlife Tours'], ['Lessons & Workshops', 'Cooking Classes'], ['Multi-day Tours', 'Cultural Tours'], ['Climbing Tours'], ['Multi-day Tours', 'Climbing Tours'], ['Multi-day Tours', 'Hiking & Camping Tours'], ['Multi-day Tours', 'Eco Tours'], ['Spas'], ['Spas'], ['Cultural Tours', 'Bike Tours'], ['Safaris', 'Ski & Snow Tours'], ['Speciality & Gift Shops'], ['River Rafting & Tubing'], ['Multi-day Tours', '4WD, ATV & Off-Road Tours'], ['Parasailing & Paragliding', 'City Tours'], ['City Tours', 'Historical & Heritage Tours'], ['Parasailing & Paragliding', 'City Tours'], ['City Tours', 'Multi-day Tours'], ['Nature & Wildlife Tours'], ['Paint & Pottery Studios'], ['Speciality & Gift Shops'], ['Spas'], ['River Rafting & Tubing', 'Hiking & Camping Tours'], ['Multi-day Tours', 'Taxis & Shuttles'], ['Multi-day Tours', 'Safaris'], ['Multi-day Tours', 'Climbing Tours'], ['Walking Tours', 'Hiking & Camping Tours'], ['Yoga & Pilates'], ['Horseback Riding Tours'], ['Multi-day Tours', 'Canyoning & Rappelling Tours'], ['Multi-day Tours', 'Safaris'], ['Speciality & Gift Shops'], ['City Tours', 'Multi-day Tours'], ['Bus Services', 'Taxis & Shuttles'], ['Bars & Clubs'], ['4WD, ATV & Off-Road Tours', 'Adrenaline & Extreme Tours'], ['Speciality & Gift Shops'], ['Multi-day Tours', 'Hiking & Camping Tours'], ['Helicopter Tours', 'Bike Tours'], ['Sightseeing Tours'], ['Day Trips'], ['Multi-day Tours', 'Taxis & Shuttles'], ['Speciality & Gift Shops'], ['Speciality & Gift Shops'], ['Hiking & Camping Tours', 'Private Tours'], ['Multi-day Tours', 'Cultural Tours'], ['City Tours', 'Cultural Tours'], ['Multi-day Tours', 'Taxis & Shuttles'], ['Escape Games', 'Taxis & Shuttles'], ['Helicopter Tours', 'Air Tours'], ['Canyoning & Rappelling Tours', 'Ski & Snow Tours'], ['Multi-day Tours', 'River Rafting & Tubing'], ['Movie Theaters'], ['Eco Tours', 'Hiking & Camping Tours'], ['Multi-day Tours', 'Canyoning & Rappelling Tours'], ['Speciality & Gift Shops'], ['Sightseeing Tours'], ['4WD, ATV & Off-Road Tours', 'Safaris'], ['4WD, ATV & Off-Road Tours', 'Safaris'], ['Canyoning & Rappelling Tours', 'Taxis & Shuttles'], ['Parasailing & Paragliding', 'City Tours'], ['Hiking & Camping Tours'], ['Spas'], ['Multi-day Tours', 'Safaris'], ['Eco Tours', 'Photography Tours'], ['Multi-day Tours', 'Adrenaline & Extreme Tours'], ['City Tours', 'Helicopter Tours'], ['Parasailing & Paragliding', 'River Rafting & Tubing'], ['4WD, ATV & Off-Road Tours', 'Safaris'], ['Multi-day Tours', 'Safaris'], ['Parasailing & Paragliding', 'River Rafting & Tubing'], ['Walking Tours', 'Climbing Tours'], ['Adrenaline & Extreme Tours', 'Private Tours'], ['Coffee & Tea Tours'], ['Taxis & Shuttles'], ['Multi-day Tours', 'Private Tours'], ['Multi-day Tours', 'Adrenaline & Extreme Tours'], ['Speciality & Gift Shops', 'Art Galleries'], ['Parasailing & Paragliding', 'Helicopter Tours'], ['Multi-day Tours', 'Climbing Tours'], ['Multi-day Tours', 'Safaris'], ['Multi-day Tours', 'Cultural Tours'], ['Other Outdoor Activities'], ['Multi-day Tours', 'Hiking & Camping Tours'], ['City Tours', 'Multi-day Tours'], ['Multi-day Tours', 'Coffee & Tea Tours'], ['Walking Tours', 'Hiking & Camping Tours'], ['Multi-day Tours', 'Sightseeing Tours'], ['Sightseeing Tours', 'Day Trips'], ['Multi-day Tours', 'Climbing Tours'], ['Helicopter Tours'], ['Hiking & Camping Tours'], ['City Tours', 'Multi-day Tours'], ['Multi-day Tours', 'Taxis & Shuttles'], ['Cultural Tours', 'Historical & Heritage Tours'], ['Helicopter Tours', 'Sightseeing Tours'], ['City Tours', 'Cultural Tours'], ['Parasailing & Paragliding', '4WD, ATV & Off-Road Tours'], ['Multi-day Tours', 'Safaris'], ['Yoga & Pilates'], ['Sightseeing Tours'], ['River Rafting & Tubing', 'Private Tours'], ['City Tours', 'Multi-day Tours'], ['Multi-day Tours', 'Walking Tours'], ['Multi-day Tours', 'Safaris'], ['Parasailing & Paragliding', 'Multi-day Tours'], ['Hiking & Camping Tours'], ['City Tours', 'Cultural Tours'], ['Multi-day Tours', 'Hiking & Camping Tours'], ['Hiking & Camping Tours'], ['Multi-day Tours', 'Sightseeing Tours'], ['Parasailing & Paragliding', 'Canyoning & Rappelling Tours'], ['Walking Tours', 'Eco Tours'], ['Climbing Tours', 'Hiking & Camping Tours'], ['Multi-day Tours', 'Hiking & Camping Tours'], ['Multi-day Tours', 'Hiking & Camping Tours'], ['Multi-day Tours', 'Cultural Tours'], ['Speciality & Gift Shops'], ['Multi-day Tours', 'Hiking & Camping Tours'], ['Multi-day Tours', 'Climbing Tours'], ['Multi-day Tours', 'Climbing Tours'], ['Multi-day Tours', 'Safaris'], ['Multi-day Tours', 'Hiking & Camping Tours'], ['Cultural Tours', 'Historical & Heritage Tours'], ['Religious Sites'], ['Speciality & Gift Shops'], ['City Tours', 'Multi-day Tours'], ['City Tours', 'Cultural Tours'], ['Climbing Tours', 'Hiking & Camping Tours'], ['Speciality & Gift Shops'], ['Parasailing & Paragliding'], ['Cultural Tours', 'Historical & Heritage Tours'], ['Multi-day Tours', 'Cultural Tours'], ['Helicopter Tours'], ['Speciality & Gift Shops'], ['Escape Games', 'Points of Interest & Landmarks'], ['City Tours', 'Multi-day Tours'], ['Multi-day Tours', 'Hiking & Camping Tours'], ['Parasailing & Paragliding', 'Adrenaline & Extreme Tours'], ['Day Trips'], ['City Tours', 'Multi-day Tours'], ['Hiking & Camping Tours', 'Private Tours'], ['Taxis & Shuttles', 'Bike Tours'], ['Sightseeing Tours'], ['Cultural Tours', 'Hiking & Camping Tours'], ['Multi-day Tours', 'Cultural Tours'], ['Cultural Tours', 'Climbing Tours'], ['City Tours', 'Cultural Tours'], ['Hiking & Camping Tours'], ['Speciality & Gift Shops', 'Antique Shops'], ['City Tours', 'Cultural Tours'], ['Sightseeing Tours'], ['Parasailing & Paragliding', 'Helicopter Tours'], ['Parasailing & Paragliding'], ['River Rafting & Tubing', 'Zipline & Aerial Adventure Parks'], ['City Tours', 'Bike Tours'], ['Multi-day Tours', 'Helicopter Tours'], ['Bars & Clubs'], ['Bars & Clubs', 'Dance Clubs & Discos'], ['Speciality & Gift Shops'], ['Speciality & Gift Shops'], ['Spas'], ['Adrenaline & Extreme Tours'], ['Safaris', 'Private Tours'], ['Speciality & Gift Shops'], ['Parasailing & Paragliding', 'Multi-day Tours'], ['Coffee & Tea Tours', 'Food Tours'], ['Other Outdoor Activities', 'Hiking Trails'], ['Sightseeing Tours'], ['Speciality & Gift Shops'], ['Multi-day Tours', 'Adrenaline & Extreme Tours'], ['Multi-day Tours', 'Historical & Heritage Tours'], ['Climbing Tours', 'Hiking & Camping Tours'], ['Multi-day Tours', 'Climbing Tours'], ['Multi-day Tours', 'Coffee & Tea Tours'], ['City Tours', 'Cultural Tours'], ['Theaters', 'Theatre & Performances'], ['City Tours', 'Multi-day Tours'], ['Speciality & Gift Shops'], ['Points of Interest & Landmarks', 'Religious Sites'], ['Canyoning & Rappelling Tours', '4WD, ATV & Off-Road Tours'], ['Multi-day Tours', 'Walking Tours'], ['Multi-day Tours', 'Sightseeing Tours'], ['Speciality & Gift Shops'], ['Parasailing & Paragliding', 'City Tours'], ['Parasailing & Paragliding', '4WD, ATV & Off-Road Tours'], ['Motorcycle Trails'], ['Private Tours'], ['Other Outdoor Activities'], ['Spas'], ['City Tours', 'Multi-day Tours'], ['Speciality & Gift Shops'], ['Multi-day Tours', '4WD, ATV & Off-Road Tours'], ['Multi-day Tours', 'Cultural Tours'], ['Religious Sites'], ['Parasailing & Paragliding', 'Multi-day Tours'], ['City Tours', 'Cultural Tours'], ['Yoga & Pilates'], ['Multi-day Tours', 'Private Tours'], ['Multi-day Tours', 'Safaris'], ['Multi-day Tours', 'Private Tours'], ['City Tours', 'Multi-day Tours'], ['Multi-day Tours', '4WD, ATV & Off-Road Tours'], ['Surfing & Windsurfing'], ['City Tours', 'Multi-day Tours'], ['Climbing Tours', 'Nature & Wildlife Tours'], ['Multi-day Tours', '4WD, ATV & Off-Road Tours'], ['Speciality & Gift Shops'], ['Multi-day Tours', 'Eco Tours'], ['Speciality & Gift Shops'], ['Historical & Heritage Tours'], ['Speciality & Gift Shops'], ['Parasailing & Paragliding', 'Helicopter Tours'], ['City Tours', 'Historical & Heritage Tours'], ['Multi-day Tours', 'Cultural Tours'], ['Taxis & Shuttles'], ['Speciality & Gift Shops'], ['Multi-day Tours', 'Private Tours'], ['Bars & Clubs'], ['Multi-day Tours', 'Private Tours'], ['Multi-day Tours', 'Cultural Tours'], ['City Tours', 'Multi-day Tours'], ['Taxis & Shuttles'], ['Climbing Tours', 'Hiking Trails'], ['Canyoning & Rappelling Tours', '4WD, ATV & Off-Road Tours'], ['Bike Tours'], ['Speciality & Gift Shops'], ['Multi-day Tours', 'Cultural Tours'], ['Multi-day Tours', '4WD, ATV & Off-Road Tours'], ['Parasailing & Paragliding', 'Multi-day Tours'], ['Multi-day Tours', 'Climbing Tours'], ['Speciality & Gift Shops'], ['Historical & Heritage Tours', 'Sightseeing Tours'], ['4WD, ATV & Off-Road Tours', 'Helicopter Tours'], ['Parasailing & Paragliding', 'Canyoning & Rappelling Tours'], ['Hiking Trails', 'Hiking & Camping Tours'], ['Adrenaline & Extreme Tours', 'Walking Tours'], ['Cultural Tours', 'Safaris'], ['Multi-day Tours', 'Taxis & Shuttles'], ['Multi-day Tours', 'Helicopter Tours'], ['Multi-day Tours', 'Sightseeing Tours'], ['Multi-day Tours', 'Private Tours'], ['Sightseeing Tours', 'Hiking & Camping Tours'], ['Climbing Tours', 'Hiking & Camping Tours'], ['Hiking & Camping Tours'], ['Multi-day Tours', 'Taxis & Shuttles'], ['Paint & Pottery Studios'], ['City Tours', 'Multi-day Tours'], ['Multi-day Tours', 'Climbing Tours'], ['Cultural Tours', 'Shopping Tours'], ['Parasailing & Paragliding', 'Helicopter Tours'], ['Multi-day Tours', 'Adrenaline & Extreme Tours'], ['Ski & Snow Tours'], ['Speciality & Gift Shops'], ['Speciality & Gift Shops'], ['Multi-day Tours', 'Adrenaline & Extreme Tours'], ['Hiking & Camping Tours'], ['Multi-day Tours', 'Taxis & Shuttles'], ['Speciality & Gift Shops'], ['Multi-day Tours', 'Private Tours'], ['Multi-day Tours', 'Eco Tours'], ['4WD, ATV & Off-Road Tours', 'Taxis & Shuttles'], ['Taxis & Shuttles'], ['Speciality & Gift Shops', 'Antique Shops'], ['Multi-day Tours', 'Hiking & Camping Tours'], ['Cultural Tours', 'Historical & Heritage Tours'], ['Multi-day Tours', 'Cultural Tours'], ['Speciality & Gift Shops'], ['Parasailing & Paragliding', '4WD, ATV & Off-Road Tours'], ['Yoga & Pilates'], ['4WD, ATV & Off-Road Tours', 'Helicopter Tours'], ['Hiking & Camping Tours', 'Nature & Wildlife Tours'], ['Multi-day Tours', 'River Rafting & Tubing'], ['City Tours', 'Multi-day Tours'], ['Multi-day Tours', 'Hiking & Camping Tours'], ['4WD, ATV & Off-Road Tours', 'Walking Tours'], ['Multi-day Tours', 'Cultural Tours'], ['Parasailing & Paragliding', 'River Rafting & Tubing'], ['Helicopter Tours', 'Climbing Tours'], ['Multi-day Tours', 'Private Tours'], ['Speciality & Gift Shops'], ['Parasailing & Paragliding', 'Multi-day Tours'], ['Multi-day Tours', '4WD, ATV & Off-Road Tours'], ['City Tours', 'Multi-day Tours'], ['Parasailing & Paragliding', 'Multi-day Tours'], ['Speciality & Gift Shops'], ['Nature & Wildlife Tours'], ['Multi-day Tours', 'Private Tours'], ['Multi-day Tours', 'Walking Tours'], ['Sports Camps & Clinics', 'Horse-Drawn Carriage Tours'], ['Multi-day Tours'], ['Helicopter Tours', 'Sightseeing Tours'], ['Parasailing & Paragliding', 'Multi-day Tours'], ['Speciality & Gift Shops'], ['Multi-day Tours', 'Hiking & Camping Tours'], ['City Tours', 'Multi-day Tours'], ['Spas'], ['Speciality & Gift Shops'], ['Parasailing & Paragliding', 'River Rafting & Tubing'], ['Parasailing & Paragliding', 'City Tours'], ['Sightseeing Tours', 'Hiking & Camping Tours'], ['Multi-day Tours', 'Hiking & Camping Tours'], ['City Tours', 'Multi-day Tours'], ['Multi-day Tours', 'Safaris'], ['Hiking & Camping Tours'], ['Climbing Tours', 'Hiking & Camping Tours'], ['City Tours', 'Multi-day Tours'], ['Self-Guided Tours & Rentals'], ['Multi-day Tours', 'Walking Tours'], ['Multi-day Tours', 'Safaris'], ['Multi-day Tours', 'Hiking & Camping Tours'], ['Canyoning & Rappelling Tours', 'Taxis & Shuttles'], ['River Rafting & Tubing'], ['Multi-day Tours', 'Canyoning & Rappelling Tours'], ['Multi-day Tours', 'Cultural Tours'], ['Multi-day Tours', 'Taxis & Shuttles'], ['Speciality & Gift Shops'], ['Multi-day Tours'], ['Multi-day Tours', 'Canyoning & Rappelling Tours'], ['Multi-day Tours', 'Cultural Tours'], ['Private Tours'], ['City Tours', 'River Rafting & Tubing'], ['Hiking & Camping Tours'], ['Parasailing & Paragliding'], ['Private Tours', 'Air Tours'], ['Speciality & Gift Shops'], ['Taxis & Shuttles'], ['Cultural Tours', 'Historical & Heritage Tours'], ['City Tours', 'Cultural Tours'], ['Parasailing & Paragliding', 'Sightseeing Tours'], ['Multi-day Tours', 'Climbing Tours'], ['Cultural Tours', 'Walking Tours'], ['Multi-day Tours', 'Historical & Heritage Tours'], ['City Tours', 'Climbing Tours'], ['Multi-day Tours', 'River Rafting & Tubing'], ['Cultural Tours', 'Sightseeing Tours'], ['Eco Tours'], ['Multi-day Tours', 'Climbing Tours'], ['City Tours', 'Multi-day Tours'], ['Spas'], ['4WD, ATV & Off-Road Tours', 'Bike Tours'], ['Speciality & Gift Shops'], ['Multi-day Tours', 'Cultural Tours'], ['Movie Theaters'], ['Speciality & Gift Shops'], ['Helicopter Tours', 'Sightseeing Tours'], ['Bars & Clubs'], ['Game & Entertainment Centers'], ['Multi-day Tours', 'Sightseeing Tours'], ['Hiking & Camping Tours', 'Nature & Wildlife Tours'], ['Helicopter Tours', 'Private Tours'], ['Multi-day Tours'], ['Multi-day Tours', 'Adrenaline & Extreme Tours'], ['Spas'], ['Multi-day Tours', 'Hiking & Camping Tours'], ['Multi-day Tours', 'Helicopter Tours'], ['Speciality & Gift Shops'], ['Walking Tours', 'Sightseeing Tours'], ['Multi-day Tours', 'Eco Tours'], ['Speciality & Gift Shops'], ['Multi-day Tours', 'Adrenaline & Extreme Tours'], ['Sightseeing Tours', 'Hiking & Camping Tours'], ['Spas'], ['Hiking & Camping Tours'], ['Climbing Tours'], ['Hiking & Camping Tours'], ['City Tours', 'Cultural Tours'], ['Game & Entertainment Centers'], ['Spas'], ['Multi-day Tours', 'Cultural Tours'], ['Hiking & Camping Tours'], ['Multi-day Tours', 'Motorcycle Tours'], ['Spas'], ['Multi-day Tours', 'Climbing Tours'], ['Multi-day Tours', 'Hiking & Camping Tours'], ['City Tours', 'Multi-day Tours'], ['Cultural Tours', 'Helicopter Tours'], ['Movie Theaters'], ['Multi-day Tours', 'Hiking & Camping Tours'], ['Speciality & Gift Shops'], ['Multi-day Tours'], ['Multi-day Tours', 'Cultural Tours'], ['Sightseeing Tours'], ['Spas'], ['Speciality & Gift Shops'], ['Private Tours'], ['Bike Tours', 'Gear Rentals'], ['City Tours', 'Sightseeing Tours'], ['Hiking & Camping Tours'], ['4WD, ATV & Off-Road Tours', 'Helicopter Tours'], ['Shopping Tours'], ['Religious Sites'], ['City Tours', 'Hiking & Camping Tours'], ['Cooking Classes'], ['Other Outdoor Activities'], ['River Rafting & Tubing', 'Hiking & Camping Tours'], ['Speciality & Gift Shops'], ['Helicopter Tours', 'Historical & Heritage Tours'], ['Lookouts', 'Hiking Trails'], ['Speciality & Gift Shops'], ['Parasailing & Paragliding', 'City Tours'], ['Multi-day Tours', 'Adrenaline & Extreme Tours'], ['Multi-day Tours', 'Climbing Tours'], ['Parasailing & Paragliding', 'Multi-day Tours'], ['Parasailing & Paragliding', 'River Rafting & Tubing'], ['Sightseeing Tours'], ['City Tours', 'Multi-day Tours'], ['City Tours', 'River Rafting & Tubing'], ['River Rafting & Tubing'], ['Parasailing & Paragliding', 'Multi-day Tours'], ['Speciality & Gift Shops'], ['Sightseeing Tours', 'Hiking & Camping Tours'], ['Cultural Tours', '4WD, ATV & Off-Road Tours'], ['Multi-day Tours', 'Private Tours'], ['Private Tours'], ['Boat Tours'], ['City Tours', 'River Rafting & Tubing'], ['Walking Tours', 'Sightseeing Tours'], ['Cultural Tours', 'Nature & Wildlife Tours'], ['City Tours', 'River Rafting & Tubing'], ['Spas'], ['River Rafting & Tubing', 'Historical & Heritage Tours'], ['City Tours', 'Multi-day Tours'], ['Game & Entertainment Centers'], ['Speciality & Gift Shops'], ['Multi-day Tours', 'Cultural Tours'], ['Multi-day Tours', 'Cultural Tours'], ['Cultural Tours', 'Sightseeing Tours'], ['Parasailing & Paragliding', 'Zipline & Aerial Adventure Parks'], ['Cultural Tours', 'Helicopter Tours'], ['City Tours', 'Climbing Tours'], ['Helicopter Tours', 'Sightseeing Tours'], ['City Tours', 'Cultural Tours'], ['Spas'], ['Bars & Clubs'], ['Bus Services', 'Taxis & Shuttles'], ['Cultural Tours', 'Sightseeing Tours'], ['Speciality & Gift Shops'], ['Private Tours'], ['Hiking & Camping Tours'], ['Points of Interest & Landmarks'], ['Hiking & Camping Tours', 'Air Tours'], ['Multi-day Tours', 'Private Tours'], ['Adrenaline & Extreme Tours', 'Hiking & Camping Tours'], ['Multi-day Tours', 'Cultural Tours'], ['Parasailing & Paragliding'], ['Spas'], ['River Rafting & Tubing', 'Kayaking & Canoeing'], ['Game & Entertainment Centers'], ['River Rafting & Tubing', 'Gear Rentals'], ['River Rafting & Tubing', 'Adrenaline & Extreme Tours'], ['Helicopter Tours', 'Historical & Heritage Tours'], ['Gear Rentals'], ['Multi-day Tours', 'Hiking & Camping Tours'], ['Adrenaline & Extreme Tours', 'Sightseeing Tours'], ['Eco Tours', 'Hiking & Camping Tours'], ['Multi-day Tours', 'Hiking & Camping Tours'], ['Spas'], ['Horse-Drawn Carriage Tours', 'Food Tours'], ['Multi-day Tours', 'Adrenaline & Extreme Tours'], ['River Rafting & Tubing'], ['Hiking & Camping Tours', 'Nature & Wildlife Tours'], ['Hiking & Camping Tours'], ['Multi-day Tours', 'Private Tours'], ['Multi-day Tours', 'Adrenaline & Extreme Tours'], ['Parasailing & Paragliding'], ['Bars & Clubs'], ['Multi-day Tours', 'Cultural Tours'], ['City Tours', 'Cultural Tours'], ['City Tours', 'Multi-day Tours'], ['Game & Entertainment Centers'], ['Movie Theaters'], ['City Tours', 'Helicopter Tours'], ['Other Outdoor Activities'], ['Canyoning & Rappelling Tours', '4WD, ATV & Off-Road Tours'], ['Multi-day Tours', 'Cultural Tours'], ['Helicopter Tours'], ['Multi-day Tours', 'Climbing Tours'], ['City Tours', 'Cultural Tours'], ['Bus Services'], ['Cultural Tours', 'Helicopter Tours'], ['Multi-day Tours', 'Cultural Tours'], ['Speciality & Gift Shops'], ['Speciality & Gift Shops'], ['Multi-day Tours', '4WD, ATV & Off-Road Tours'], ['Sports Camps & Clinics', '4WD, ATV & Off-Road Tours'], ['Cultural Tours', 'Historical & Heritage Tours'], ['Multi-day Tours', 'Cultural Tours'], ['Cultural Tours', 'Historical & Heritage Tours'], ['Multi-day Tours', 'Hiking & Camping Tours'], ['Multi-day Tours', 'Helicopter Tours'], ['Multi-day Tours', 'Canyoning & Rappelling Tours'], ['Climbing Tours', 'Hiking & Camping Tours'], ['Climbing Tours', 'Hiking & Camping Tours'], ['Taxis & Shuttles'], ['Multi-day Tours', 'Climbing Tours'], ['Adrenaline & Extreme Tours', 'Sightseeing Tours'], ['Spas'], ['Multi-day Tours', 'Safaris'], ['Cultural Tours', 'Helicopter Tours'], ['Adrenaline & Extreme Tours'], ['Yoga & Pilates'], ['Taxis & Shuttles', 'Hiking & Camping Tours'], ['Speciality & Gift Shops'], ['Safaris', 'Nature & Wildlife Tours'], ['Adrenaline & Extreme Tours', 'Hiking & Camping Tours'], ['Helicopter Tours', 'Sightseeing Tours'], ['Multi-day Tours', 'Climbing Tours'], ['City Tours', 'Multi-day Tours'], ['Helicopter Tours'], ['Sightseeing Tours'], ['Multi-day Tours', 'Helicopter Tours'], ['Climbing Tours', 'Hiking & Camping Tours'], ['Parasailing & Paragliding', 'River Rafting & Tubing'], ['Spas'], ['Hiking Trails'], ['City Tours', 'Multi-day Tours'], ['Multi-day Tours', 'Walking Tours'], ['Hiking & Camping Tours'], ['Multi-day Tours', 'Helicopter Tours'], ['Multi-day Tours', 'River Rafting & Tubing'], ['Multi-day Tours', 'Hiking & Camping Tours'], ['Multi-day Tours', 'Cultural Tours'], ['Multi-day Tours', 'Cultural Tours'], ['River Rafting & Tubing', 'Canyoning & Rappelling Tours'], ['City Tours', 'Cultural Tours'], ['Bus Services'], ['Nature & Wildlife Tours'], ['City Tours', 'Multi-day Tours'], ['Hiking & Camping Tours'], ['City Tours', 'Historical & Heritage Tours'], ['4WD, ATV & Off-Road Tours', 'Taxis & Shuttles'], ['Day Trips'], ['City Tours', 'Multi-day Tours'], ['Speciality & Gift Shops'], ['Climbing Tours', 'Hiking Trails'], ['Multi-day Tours', 'Cultural Tours'], ['Multi-day Tours', 'Helicopter Tours'], ['Multi-day Tours', '4WD, ATV & Off-Road Tours'], ['Private Tours'], ['Hiking & Camping Tours'], ['Multi-day Tours', 'Hiking & Camping Tours'], ['River Rafting & Tubing', 'Cultural Tours'], ['City Tours', 'Multi-day Tours'], ['Taxis & Shuttles', 'Boat Tours'], ['City Tours', 'Cultural Tours'], ['Adrenaline & Extreme Tours', 'Hiking Trails'], ['Climbing Tours', 'Sightseeing Tours'], ['Speciality & Gift Shops'], ['Multi-day Tours', 'Helicopter Tours'], ['Speciality & Gift Shops'], ['Multi-day Tours', 'Cultural Tours'], ['Sightseeing Tours'], ['Multi-day Tours', 'Climbing Tours'], ['Multi-day Tours', 'Boat Tours'], ['Bus Services'], ['Parasailing & Paragliding', 'Multi-day Tours'], ['City Tours', 'Multi-day Tours'], ['Bus Services'], ['Health Clubs', 'Yoga & Pilates'], ['Multi-day Tours', 'Cultural Tours'], ['Multi-day Tours', 'Cultural Tours'], ['Eco Tours', 'Nature & Wildlife Tours'], ['Multi-day Tours', 'Safaris'], ['Adrenaline & Extreme Tours'], ['Lessons & Workshops'], ['Sports Camps & Clinics', 'Beer Tastings & Tours'], ['Multi-day Tours', '4WD, ATV & Off-Road Tours'], ['City Tours', 'Multi-day Tours'], ['4WD, ATV & Off-Road Tours', 'Bike Tours'], ['Cultural Tours', 'Climbing Tours'], ['Multi-day Tours', 'River Rafting & Tubing'], ['Multi-day Tours', 'Bike Tours'], ['Sightseeing Tours'], ['City Tours', 'Multi-day Tours'], ['Religious Sites'], ['Speciality & Gift Shops'], ['Lessons & Workshops'], ['Other Outdoor Activities'], ['Game & Entertainment Centers'], ['Water Parks'], ['Sightseeing Tours'], ['Hiking & Camping Tours', 'Private Tours'], ['Other Outdoor Activities'], ['Hiking & Camping Tours'], ['Speciality & Gift Shops'], ['Spas'], ['Sports Camps & Clinics'], ['Hiking & Camping Tours', 'Private Tours'], ['Fishing Charters & Tours'], ['Speciality Museums'], ['Visitor Centers'], ['Speciality & Gift Shops'], ['Yoga & Pilates'], ['Speciality & Gift Shops'], ['Bars & Clubs'], ['Religious Sites'], ['Hiking & Camping Tours'], ['Religious Sites'], ['Sightseeing Tours'], ['Sightseeing Tours'], ['Sightseeing Tours'], ['Religious Sites'], ['Paint & Pottery Studios'], ['Hiking & Camping Tours', 'Private Tours'], ['Speciality & Gift Shops'], ['Historical & Heritage Tours', 'Sightseeing Tours'], ['Helicopter Tours'], ['Yoga & Pilates', 'Spas'], ['Cultural Tours', 'Historical & Heritage Tours'], ['Hiking & Camping Tours'], ['Hiking & Camping Tours'], ['Private Tours'], ['Parasailing & Paragliding', 'River Rafting & Tubing'], ['City Tours', 'Historical & Heritage Tours'], ['Cultural Tours', 'Historical & Heritage Tours'], ['Taxis & Shuttles'], ['Speciality & Gift Shops'], ['Speciality & Gift Shops'], ['Mountains'], ['Art Galleries'], ['Sightseeing Tours'], ['Sightseeing Tours', 'Day Trips'], ['City Tours', 'Nature & Wildlife Tours'], ['Climbing Tours', 'Hiking & Camping Tours'], ['Movie Theaters'], ['Multi-day Tours', 'Helicopter Tours'], ['Speciality & Gift Shops'], ['4WD, ATV & Off-Road Tours'], ['Movie Theaters'], ['Adrenaline & Extreme Tours', 'Zipline & Aerial Adventure Parks'], ['River Rafting & Tubing'], ['Hiking Trails'], ['Helicopter Tours', 'Sightseeing Tours'], ['Spas'], ['City Tours', 'Hiking & Camping Tours'], ['City Tours', 'Cultural Tours'], ['City Tours', 'Cultural Tours'], ['Taxis & Shuttles'], ['Bars & Clubs'], ['Cultural Tours', 'Hiking & Camping Tours'], ['Adrenaline & Extreme Tours', 'Hiking & Camping Tours'], ['Taxis & Shuttles'], ['Religious Sites'], ['Multi-day Tours', 'Eco Tours'], ['Multi-day Tours', 'Cultural Tours'], ['Multi-day Tours', 'Cultural Tours'], ['Multi-day Tours', 'Hiking & Camping Tours'], ['Spas'], ['City Tours', 'Multi-day Tours'], ['Multi-day Tours', 'Climbing Tours'], ['Cultural Tours', 'Historical & Heritage Tours'], ['Cultural Tours', 'Eco Tours'], ['Multi-day Tours', 'Hiking & Camping Tours'], ['Speciality & Gift Shops', 'Art Galleries'], ['Multi-day Tours', 'Cultural Tours'], ['City Tours', 'Sightseeing Tours'], ['Multi-day Tours', 'Hiking & Camping Tours'], ['City Tours', 'Cultural Tours'], ['Air Tours'], ['Yoga & Pilates'], ['Multi-day Tours', 'Sightseeing Tours'], ['Climbing Tours'], ['City Tours', 'Multi-day Tours'], ['Multi-day Tours', 'Climbing Tours'], ['Multi-day Tours', 'Adrenaline & Extreme Tours'], ['City Tours', 'Multi-day Tours'], ['Multi-day Tours', 'Climbing Tours'], ['Multi-day Tours', 'Climbing Tours'], ['Spas'], ['City Tours', 'Multi-day Tours'], ['Multi-day Tours', 'Climbing Tours'], ['Multi-day Tours', 'Hiking & Camping Tours'], ['Multi-day Tours', 'Cultural Tours'], ['4WD, ATV & Off-Road Tours', 'Bike Tours'], ['Speciality & Gift Shops'], ['Spas'], ['Air Tours'], ['Multi-day Tours', 'Hiking & Camping Tours'], ['Multi-day Tours', 'River Rafting & Tubing'], ['Movie Theaters'], ['Parasailing & Paragliding', 'Multi-day Tours'], ['Spas'], ['Multi-day Tours', 'Cultural Tours'], ['City Tours', 'Multi-day Tours'], ['Multi-day Tours', 'Canyoning & Rappelling Tours'], ['Speciality Museums'], ['Multi-day Tours', 'Historical & Heritage Tours'], ['Multi-day Tours', 'Historical & Heritage Tours'], ['Multi-day Tours', 'Cultural Tours'], ['Parasailing & Paragliding', 'Multi-day Tours'], ['Distillery Tours', 'Taxis & Shuttles'], ['Speciality & Gift Shops'], ['Multi-day Tours', 'Climbing Tours'], ['Parasailing & Paragliding', 'River Rafting & Tubing'], ['Climbing Tours', 'Sightseeing Tours'], ['Yoga & Pilates'], ['Multi-day Tours', 'Canyoning & Rappelling Tours'], ['Parasailing & Paragliding', 'City Tours'], ['Eco Tours', 'Hiking & Camping Tours'], ['Multi-day Tours', 'Historical & Heritage Tours'], ['Hiking & Camping Tours'], ['Multi-day Tours', 'Cultural Tours'], ['Bars & Clubs'], ['Multi-day Tours', 'Climbing Tours'], ['Hiking & Camping Tours'], ['Multi-day Tours', 'Cultural Tours'], ['Multi-day Tours', 'Climbing Tours'], ['Multi-day Tours', 'Cultural Tours'], ['Climbing Tours'], ['Multi-day Tours'], ['Cultural Tours', 'Safaris'], ['Multi-day Tours', 'Climbing Tours'], ['City Tours', 'Multi-day Tours'], ['City Tours', 'Hiking & Camping Tours'], ['Climbing Tours', 'Eco Tours'], ['Multi-day Tours', '4WD, ATV & Off-Road Tours'], ['City Tours', 'Multi-day Tours'], ['Hiking & Camping Tours'], ['Multi-day Tours', 'River Rafting & Tubing'], ['Multi-day Tours', 'Hiking & Camping Tours'], ['Religious Sites'], ['Multi-day Tours', 'Cultural Tours'], ['Points of Interest & Landmarks', 'Monuments & Statues'], ['Multi-day Tours', 'Hiking & Camping Tours'], ['Art Galleries'], ['Taxis & Shuttles'], ['Climbing Tours'], ['Cultural Tours', 'Sightseeing Tours'], ['Sightseeing Tours', 'Nature & Wildlife Tours'], ['Parasailing & Paragliding'], ['Spas'], ['Multi-day Tours', 'Hiking & Camping Tours'], ['Multi-day Tours', 'Hiking & Camping Tours'], ['Multi-day Tours', 'Sightseeing Tours'], ['Sightseeing Tours'], ['Speciality & Gift Shops'], ['Multi-day Tours', 'Cultural Tours'], ['Multi-day Tours', 'Climbing Tours'], ['National Parks'], ['Sightseeing Tours'], ['Yoga & Pilates', 'Lessons & Workshops'], ['Multi-day Tours', 'Hiking & Camping Tours'], ['Hiking & Camping Tours'], ['Multi-day Tours', 'River Rafting & Tubing'], ['Multi-day Tours', 'Climbing Tours'], ['Multi-day Tours', 'Hiking & Camping Tours'], ['Speciality & Gift Shops'], ['Movie Theaters'], ['Multi-day Tours', 'Canyoning & Rappelling Tours'], ['City Tours', 'Multi-day Tours'], ['City Tours', 'Multi-day Tours'], ['Multi-day Tours', 'River Rafting & Tubing'], ['Cultural Tours', 'Helicopter Tours'], ['Multi-day Tours', 'Climbing Tours'], ['Multi-day Tours', 'Historical & Heritage Tours'], ['City Tours', 'Cultural Tours'], ['Parasailing & Paragliding', 'River Rafting & Tubing'], ['Multi-day Tours', 'Hiking & Camping Tours'], ['Religious Sites'], ['City Tours', 'Multi-day Tours'], ['Climbing Tours', 'Sightseeing Tours'], ['Multi-day Tours', 'Biking Trails'], ['City Tours', 'Hiking & Camping Tours'], ['Lookouts'], ['Ski & Snowboard Areas'], ['Mountains'], ['Climbing Tours', 'Sightseeing Tours'], ['City Tours', 'Hiking & Camping Tours'], ['Multi-day Tours', 'Hiking & Camping Tours'], ['City Tours', 'Cultural Tours'], ['Parasailing & Paragliding', 'Submarine Tours'], ['City Tours', 'Multi-day Tours'], ['City Tours', 'Multi-day Tours'], ['Multi-day Tours', 'Canyoning & Rappelling Tours'], ['Hiking Trails'], ['Health Clubs', 'Yoga & Pilates'], ['Spas'], ['Parasailing & Paragliding', 'River Rafting & Tubing'], ['Multi-day Tours', 'Climbing Tours'], ['City Tours', 'Multi-day Tours'], ['City Tours', 'Cultural Tours'], ['Multi-day Tours', 'Cultural Tours'], ['Multi-day Tours', 'Climbing Tours'], ['City Tours', 'Cultural Tours'], ['Spas'], ['Multi-day Tours', 'Helicopter Tours'], ['Yoga & Pilates'], ['City Tours', 'Cultural Tours'], ['Speciality Museums', 'Art Museums'], ['City Tours', 'Cultural Tours'], ['Spas'], ['Spas'], ['Cultural Tours', 'Walking Tours'], ['Walking Tours'], ['Speciality & Gift Shops'], ['City Tours', 'Cultural Tours'], ['Multi-day Tours', 'Cultural Tours'], ['Game & Entertainment Centers'], ['Private Tours', 'Day Trips'], ['Speciality & Gift Shops'], ['Cultural Tours', 'Climbing Tours'], ['Multi-day Tours', 'Climbing Tours'], ['Multi-day Tours', 'Cultural Tours'], ['Architectural Buildings', 'Libraries'], ['Spas'], ['Yoga & Pilates'], ['Speciality & Gift Shops'], ['Day Trips'], ['City Tours', 'Cultural Tours'], ['Multi-day Tours', 'Walking Tours'], ['City Tours', 'Multi-day Tours'], ['Multi-day Tours', 'Helicopter Tours'], ['Multi-day Tours', 'Safaris'], ['Multi-day Tours', 'Canyoning & Rappelling Tours'], ['Multi-day Tours', 'Cultural Tours'], ['Multi-day Tours'], ['Multi-day Tours', 'Private Tours'], ['Historical & Heritage Tours', 'Sightseeing Tours'], ['Multi-day Tours', 'Sightseeing Tours'], ['Multi-day Tours', 'Safaris'], ['Hiking & Camping Tours', 'Day Trips'], ['Multi-day Tours', 'Private Tours'], ['Multi-day Tours', 'Taxis & Shuttles'], ['Points of Interest & Landmarks', 'Lookouts'], ['Multi-day Tours', 'Helicopter Tours'], ['Multi-day Tours', 'Private Tours'], ['Bike Tours', 'Motorcycle Tours'], ['Multi-day Tours', 'Canyoning & Rappelling Tours'], ['Safaris'], ['Multi-day Tours', 'Taxis & Shuttles'], ['Taxis & Shuttles', 'Bike Tours'], ['Multi-day Tours', 'Helicopter Tours'], ['Multi-day Tours', '4WD, ATV & Off-Road Tours'], ['Multi-day Tours', 'Canyoning & Rappelling Tours'], ['Parasailing & Paragliding', 'Multi-day Tours'], ['Multi-day Tours', 'Hiking & Camping Tours'], ['Paint & Pottery Studios', 'Multi-day Tours'], ['Climbing Tours'], ['City Tours', 'Multi-day Tours'], ['Private Tours'], ['Multi-day Tours', '4WD, ATV & Off-Road Tours'], ['Hiking Trails'], ['Climbing Tours', 'Hiking & Camping Tours'], ['Multi-day Tours', 'Walking Tours'], ['Multi-day Tours', 'Safaris'], ['Helicopter Tours'], ['Parasailing & Paragliding', 'Multi-day Tours'], ['Multi-day Tours', 'Safaris'], ['Helicopter Tours', 'Hiking & Camping Tours'], ['Multi-day Tours', 'Day Trips'], ['Speciality & Gift Shops'], ['Bar, Club & Pub Tours', 'Adrenaline & Extreme Tours'], ['Speciality & Gift Shops'], ['City Tours', 'Multi-day Tours'], ['Multi-day Tours', 'Cultural Tours'], ['Multi-day Tours', 'Cultural Tours'], ['Spas'], ['Multi-day Tours', 'Walking Tours'], ['Paint & Pottery Studios', 'Sports Camps & Clinics'], ['Sports Camps & Clinics'], ['Climbing Tours', 'Hiking & Camping Tours'], ['Multi-day Tours', 'Bike Tours'], ['Multi-day Tours'], ['Zoos'], ['Multi-day Tours', 'Bike Tours'], ['River Rafting & Tubing'], ['City Tours', 'Multi-day Tours'], ['Multi-day Tours', 'Historical & Heritage Tours'], ['Multi-day Tours', 'Hiking & Camping Tours'], ['City Tours', 'Helicopter Tours'], ['City Tours', 'Multi-day Tours'], ['City Tours', 'Multi-day Tours'], ['Sightseeing Tours', 'Hiking & Camping Tours'], ['Multi-day Tours', 'Sightseeing Tours'], ['Multi-day Tours', 'Canyoning & Rappelling Tours'], ['Day Trips'], ['Zoos'], ['Cultural Tours', 'Helicopter Tours'], ['City Tours', 'Multi-day Tours'], ['Bars & Clubs', 'Karaoke Bars'], ['Multi-day Tours', 'Day Trips'], ['Multi-day Tours', 'Climbing Tours'], ['Safaris', 'Walking Tours'], ['Spas'], ['4WD, ATV & Off-Road Tours', 'Safaris'], ['Parasailing & Paragliding', 'Hiking & Camping Tours'], ['Speciality & Gift Shops'], ['Parasailing & Paragliding'], ['Historical & Heritage Tours', 'Climbing Tours'], ['Private Tours', 'Self-Guided Tours & Rentals'], ['Multi-day Tours', 'Cultural Tours'], ['Adrenaline & Extreme Tours', 'Hiking & Camping Tours'], ['Multi-day Tours', 'Cultural Tours'], ['Multi-day Tours', 'Cultural Tours'], ['City Tours', 'Multi-day Tours'], ['Nature & Wildlife Tours'], ['Multi-day Tours', 'Adrenaline & Extreme Tours'], ['Multi-day Tours', 'Motorcycle Tours'], ['Cultural Tours', 'Historical & Heritage Tours'], ['Taxis & Shuttles', 'Day Trips'], ['Parasailing & Paragliding', 'Multi-day Tours'], ['Motorcycle Tours', 'Self-Guided Tours & Rentals'], ['Multi-day Tours', '4WD, ATV & Off-Road Tours'], ['Spas'], ['Multi-day Tours', 'Safaris'], ['Multi-day Tours', 'Safaris'], ['Paint & Pottery Studios', 'Multi-day Tours'], ['City Tours', 'Historical & Heritage Tours'], ['City Tours', 'Multi-day Tours'], ['Paint & Pottery Studios', 'Sports Camps & Clinics'], ['Speciality & Gift Shops'], ['Speciality & Gift Shops'], ['Paint & Pottery Studios', 'Sports Camps & Clinics'], ['Safaris', 'Taxis & Shuttles'], ['Multi-day Tours', 'Walking Tours'], ['Multi-day Tours', 'Adrenaline & Extreme Tours'], ['Multi-day Tours', 'Canyoning & Rappelling Tours'], ['Multi-day Tours', 'Canyoning & Rappelling Tours'], ['Multi-day Tours', 'Adrenaline & Extreme Tours'], ['Multi-day Tours', 'Canyoning & Rappelling Tours'], ['Helicopter Tours', 'Balloon Rides'], ['Multi-day Tours'], ['Multi-day Tours', 'Canyoning & Rappelling Tours'], ['Multi-day Tours', 'Hiking & Camping Tours'], ['Multi-day Tours', 'Hiking & Camping Tours'], ['Multi-day Tours', 'Adrenaline & Extreme Tours'], ['Speciality & Gift Shops'], ['River Rafting & Tubing', 'Cultural Tours'], ['Multi-day Tours', 'Cultural Tours'], ['Multi-day Tours', 'Private Tours'], ['Speciality & Gift Shops'], ['Multi-day Tours', 'Walking Tours'], ['River Rafting & Tubing', 'Zipline & Aerial Adventure Parks'], ['City Tours', 'Multi-day Tours'], ['Parasailing & Paragliding', 'Multi-day Tours'], ['Multi-day Tours', 'Adrenaline & Extreme Tours'], ['Multi-day Tours', 'Safaris'], ['Religious Sites'], ['4WD, ATV & Off-Road Tours', 'Climbing Tours'], ['Parasailing & Paragliding', 'City Tours'], ['Yoga & Pilates'], ['Parasailing & Paragliding', 'River Rafting & Tubing'], ['Yoga & Pilates'], ['Private Tours'], ['Helicopter Tours', 'Walking Tours'], ['Multi-day Tours', 'Gear Rentals'], ['Cultural Tours', 'Adrenaline & Extreme Tours'], ['Paint & Pottery Studios'], ['Multi-day Tours', '4WD, ATV & Off-Road Tours'], ['River Rafting & Tubing', 'Historical & Heritage Tours'], ['Motorcycle Tours'], ['Multi-day Tours', 'Cultural Tours'], ['Multi-day Tours'], ['4WD, ATV & Off-Road Tours', 'Walking Tours'], ['Safaris', 'Taxis & Shuttles'], ['Speciality & Gift Shops'], ['Multi-day Tours', 'Hiking & Camping Tours'], ['Religious Sites'], ['Multi-day Tours', 'Cultural Tours'], ['4WD, ATV & Off-Road Tours', 'Bike Tours'], ['Multi-day Tours', 'Canyoning & Rappelling Tours'], ['Parasailing & Paragliding', 'Multi-day Tours'], ['City Tours', 'Multi-day Tours'], ['Multi-day Tours', 'Canyoning & Rappelling Tours'], ['Multi-day Tours', '4WD, ATV & Off-Road Tours'], ['4WD, ATV & Off-Road Tours', 'Safaris'], ['Paint & Pottery Studios'], ['Canyoning & Rappelling Tours', '4WD, ATV & Off-Road Tours'], ['City Tours', 'Multi-day Tours'], ['Multi-day Tours'], ['Multi-day Tours', 'Helicopter Tours'], ['4WD, ATV & Off-Road Tours', 'Helicopter Tours'], ['Multi-day Tours', 'Safaris'], ['Multi-day Tours', 'Eco Tours'], ['Safaris', 'Climbing Tours'], ['Multi-day Tours', 'Helicopter Tours'], ['Multi-day Tours', 'Climbing Tours'], ['Speciality & Gift Shops'], ['Climbing Tours', 'Motorcycle Tours'], ['City Tours', 'Multi-day Tours'], ['City Tours', 'Sightseeing Tours'], ['City Tours', 'Multi-day Tours'], ['Multi-day Tours', 'Helicopter Tours'], ['Multi-day Tours', 'Walking Tours'], ['Hiking & Camping Tours'], ['Parasailing & Paragliding', 'Multi-day Tours'], ['Speciality & Gift Shops'], ['Multi-day Tours', 'Cultural Tours'], ['Multi-day Tours'], ['City Tours', 'Cultural Tours'], ['Multi-day Tours'], ['Multi-day Tours', 'Hiking & Camping Tours'], ['Self-Guided Tours & Rentals'], ['4WD, ATV & Off-Road Tours', 'Adrenaline & Extreme Tours'], ['Speciality & Gift Shops'], ['City Tours', 'Multi-day Tours'], ['Multi-day Tours', 'Private Tours'], ['Multi-day Tours', 'Climbing Tours'], ['Multi-day Tours', 'Safaris'], ['City Tours', 'Historical & Heritage Tours'], ['Nature & Wildlife Tours'], ['Multi-day Tours', 'Hiking & Camping Tours'], ['Helicopter Tours', 'Taxis & Shuttles'], ['Multi-day Tours', 'Private Tours'], ['Climbing Tours', 'Hiking & Camping Tours'], ['Climbing Tours', 'Hiking & Camping Tours'], ['Climbing Tours', 'Hiking & Camping Tours'], ['Bar, Club & Pub Tours', 'Multi-day Tours'], ['Multi-day Tours', 'Bike Tours'], ['City Tours', 'Multi-day Tours'], ['Hiking & Camping Tours', 'Nature & Wildlife Tours'], ['Cultural Tours', 'Historical & Heritage Tours'], ['Multi-day Tours', 'Safaris'], ['Private Tours', 'Day Trips'], ['Multi-day Tours'], ['Adrenaline & Extreme Tours', 'Hiking & Camping Tours'], ['Multi-day Tours', 'Private Tours'], ['Multi-day Tours', 'River Rafting & Tubing'], ['Day Trips'], ['Multi-day Tours', 'Private Tours'], ['Multi-day Tours', 'Cultural Tours'], ['Multi-day Tours', 'Canyoning & Rappelling Tours'], ['Escape Games'], ['Historic Sites'], ['Sports Camps & Clinics'], ['Multi-day Tours', 'Hiking & Camping Tours'], ['Multi-day Tours', '4WD, ATV & Off-Road Tours'], ['Food Tours'], ['Parasailing & Paragliding', 'River Rafting & Tubing'], ['Hiking & Camping Tours', 'Nature & Wildlife Tours'], ['Day Trips'], ['Hiking & Camping Tours'], ['Parasailing & Paragliding', 'Multi-day Tours'], ['Multi-day Tours', 'Private Tours'], ['Taxis & Shuttles', 'Hiking & Camping Tours'], ['Speciality & Gift Shops'], ['Parasailing & Paragliding', 'Helicopter Tours'], ['Multi-day Tours', 'Private Tours'], ['Speciality & Gift Shops'], ['Multi-day Tours', 'Adrenaline & Extreme Tours'], ['Day Trips'], ['Multi-day Tours', 'River Rafting & Tubing'], ['Parasailing & Paragliding', 'Factory Tours'], ['Multi-day Tours', 'Cultural Tours'], ['Parasailing & Paragliding', 'Multi-day Tours'], ['Speciality & Gift Shops'], ['Private Tours'], ['4WD, ATV & Off-Road Tours', 'Safaris'], ['Multi-day Tours', 'Taxis & Shuttles'], ['Multi-day Tours', 'Taxis & Shuttles'], ['Day Trips'], ['Eco Tours', 'Hiking & Camping Tours'], ['City Tours', 'Multi-day Tours'], ['Multi-day Tours', 'Hiking & Camping Tours'], ['City Tours', 'Cultural Tours'], ['Multi-day Tours', 'Safaris'], ['Paint & Pottery Studios'], ['Parasailing & Paragliding', 'City Tours'], ['Multi-day Tours', 'Hiking & Camping Tours'], ['Taxis & Shuttles'], ['Multi-day Tours', 'Safaris'], ['Helicopter Tours', 'Safaris'], ['Hiking & Camping Tours'], ['Multi-day Tours', 'Sightseeing Tours'], ['Multi-day Tours', 'Private Tours'], ['Yoga & Pilates'], ['Speciality & Gift Shops'], ['Parasailing & Paragliding', 'Photography Tours'], ['Multi-day Tours', 'River Rafting & Tubing'], ['Multi-day Tours', 'Day Trips'], ['Multi-day Tours', 'Cultural Tours'], ['Hiking & Camping Tours'], ['Multi-day Tours', 'Cultural Tours'], ['Private Tours', 'Nature & Wildlife Tours'], ['4WD, ATV & Off-Road Tours'], ['Photography Tours'], ['Parasailing & Paragliding', 'Photography Tours'], ['Multi-day Tours', 'Helicopter Tours'], ['Multi-day Tours', 'Adrenaline & Extreme Tours'], ['Multi-day Tours', 'Bike Tours'], ['Speciality & Gift Shops'], ['Helicopter Tours', 'Balloon Rides'], ['Multi-day Tours', 'Safaris'], ['River Rafting & Tubing', 'Historical & Heritage Tours'], ['Multi-day Tours', 'Adrenaline & Extreme Tours'], ['Multi-day Tours', 'Adrenaline & Extreme Tours'], ['Multi-day Tours', 'Private Tours'], ['4WD, ATV & Off-Road Tours', 'Hiking & Camping Tours'], ['Multi-day Tours', '4WD, ATV & Off-Road Tours'], ['Bike Tours', 'Hiking & Camping Tours'], ['Day Trips'], ['River Rafting & Tubing', 'Helicopter Tours'], ['Safaris', 'Climbing Tours'], ['Helicopter Tours', 'Bike Tours'], ['Safaris', 'Walking Tours'], ['Parasailing & Paragliding', 'Multi-day Tours'], ['City Tours', 'Multi-day Tours'], ['Parasailing & Paragliding', 'Paint & Pottery Studios'], ['4WD, ATV & Off-Road Tours', 'Safaris'], ['Walking Tours'], ['Multi-day Tours', 'Taxis & Shuttles'], ['Climbing Tours', 'Hiking & Camping Tours'], ['City Tours', 'Multi-day Tours'], ['Multi-day Tours', 'Safaris'], ['Taxis & Shuttles'], ['Religious Sites'], ['Helicopter Tours', 'Hiking & Camping Tours'], ['Religious Sites'], ['Bike Tours', 'Walking Tours'], ['Multi-day Tours', '4WD, ATV & Off-Road Tours'], ['Cultural Tours', 'Nature & Wildlife Tours'], ['Multi-day Tours'], ['Cooking Classes'], ['Taxis & Shuttles'], ['Multi-day Tours', 'Taxis & Shuttles'], ['Sightseeing Tours', 'Hiking & Camping Tours'], ['City Tours', 'Multi-day Tours'], ['Multi-day Tours', 'Boat Tours'], ['Private Tours', 'Day Trips'], ['Speciality & Gift Shops'], ['Multi-day Tours'], ['Multi-day Tours', '4WD, ATV & Off-Road Tours'], ['Climbing Tours', 'Hiking & Camping Tours'], ['Parasailing & Paragliding', 'Multi-day Tours'], ['City Tours', 'Multi-day Tours'], ['Multi-day Tours', 'Helicopter Tours'], ['Canyoning & Rappelling Tours', 'Helicopter Tours'], ['City Tours', 'Multi-day Tours'], ['Multi-day Tours', 'Cultural Tours'], ['Walking Tours'], ['River Rafting & Tubing', 'Helicopter Tours'], ['Taxis & Shuttles', 'Self-Guided Tours & Rentals'], ['Multi-day Tours', 'Taxis & Shuttles'], ['Yoga & Pilates', 'Eco Tours'], ['Multi-day Tours', 'Safaris'], ['City Tours', 'Multi-day Tours'], ['Multi-day Tours', 'Adrenaline & Extreme Tours'], ['Parasailing & Paragliding', '4WD, ATV & Off-Road Tours'], ['Parasailing & Paragliding', 'Helicopter Tours'], ['Multi-day Tours', 'Walking Tours'], ['Multi-day Tours', 'Bike Tours'], ['Parasailing & Paragliding', 'Multi-day Tours'], ['Distilleries', 'Wineries & Vineyards'], ['Hiking & Camping Tours'], ['Taxis & Shuttles'], ['Multi-day Tours', 'Hiking & Camping Tours'], ['Multi-day Tours', 'Taxis & Shuttles'], ['4WD, ATV & Off-Road Tours', 'Climbing Tours'], ['Walking Tours', 'Motorcycle Tours'], ['Multi-day Tours', 'Canyoning & Rappelling Tours'], ['Bar, Club & Pub Tours', 'Day Trips'], ['Multi-day Tours', '4WD, ATV & Off-Road Tours'], ['Parasailing & Paragliding', 'Helicopter Tours'], ['Self-Guided Tours & Rentals'], ['River Rafting & Tubing', 'Boat Tours'], ['Boat Tours', 'Eco Tours'], ['Multi-day Tours', 'Bike Tours'], ['Multi-day Tours', '4WD, ATV & Off-Road Tours'], ['Sports Camps & Clinics'], ['Shopping Tours'], ['Taxis & Shuttles'], ['Safaris', 'Hiking & Camping Tours'], ['Day Trips'], ['River Rafting & Tubing'], ['Multi-day Tours', 'Climbing Tours'], ['Multi-day Tours', 'Helicopter Tours'], ['Cooking Classes'], ['Multi-day Tours', 'Cultural Tours'], ['Adrenaline & Extreme Tours', 'Hiking & Camping Tours'], ['Multi-day Tours', 'Motorcycle Tours'], ['Taxis & Shuttles'], ['Safaris'], ['City Tours', 'Cultural Tours'], ['Helicopter Tours'], ['Parasailing & Paragliding', 'Helicopter Tours'], ['Helicopter Tours', 'Safaris'], ['City Tours', 'Climbing Tours'], ['Hiking Trails'], ['Multi-day Tours', 'Adrenaline & Extreme Tours'], ['Paint & Pottery Studios', 'Cooking Classes'], ['Multi-day Tours', 'Safaris'], ['Taxis & Shuttles', 'Wine Tours & Tastings'], ['Multi-day Tours', 'Safaris'], ['Canyoning & Rappelling Tours', '4WD, ATV & Off-Road Tours'], ['Visitor Centers'], ['Climbing Tours', 'Hiking & Camping Tours'], ['Climbing Tours', 'Hiking & Camping Tours'], ['Multi-day Tours', 'Taxis & Shuttles'], ['Parasailing & Paragliding', 'River Rafting & Tubing'], ['Spas'], ['Helicopter Tours', 'Balloon Rides'], ['Historical & Heritage Tours', 'Hiking & Camping Tours'], ['Multi-day Tours', 'Cultural Tours'], ['Parasailing & Paragliding', '4WD, ATV & Off-Road Tours'], ['Parasailing & Paragliding', 'City Tours'], ['Helicopter Tours', 'Balloon Rides'], ['Antique Shops'], ['River Rafting & Tubing', 'Climbing Tours'], ['Multi-day Tours', 'Sightseeing Tours'], ['Canyoning & Rappelling Tours', 'Helicopter Tours'], ['Multi-day Tours', 'Climbing Tours'], ['Zipline & Aerial Adventure Parks', 'Climbing Tours'], ['Bars & Clubs'], ['Parasailing & Paragliding', 'Canyoning & Rappelling Tours'], ['Multi-day Tours', '4WD, ATV & Off-Road Tours'], ['Cultural Tours', 'Adrenaline & Extreme Tours'], ['Multi-day Tours', '4WD, ATV & Off-Road Tours'], ['Cultural Tours', 'Adrenaline & Extreme Tours'], ['Multi-day Tours', 'Taxis & Shuttles'], ['Parasailing & Paragliding', 'City Tours'], ['Paint & Pottery Studios'], ['Multi-day Tours', '4WD, ATV & Off-Road Tours'], ['Multi-day Tours', 'Eco Tours'], ['Multi-day Tours', 'Safaris'], ['Multi-day Tours', 'Historical & Heritage Tours'], ['Multi-day Tours', 'Private Tours'], ['Religious Sites'], ['Parasailing & Paragliding', 'Multi-day Tours'], ['Canyoning & Rappelling Tours', 'Helicopter Tours'], ['Hiking & Camping Tours'], ['Day Trips'], ['Hiking & Camping Tours'], ['River Rafting & Tubing', 'Adrenaline & Extreme Tours'], ['Day Trips'], ['Parasailing & Paragliding', 'City Tours'], ['Adrenaline & Extreme Tours', 'Taxis & Shuttles'], ['City Tours', 'Multi-day Tours'], ['4WD, ATV & Off-Road Tours', 'Safaris'], ['Cultural Tours', 'Adrenaline & Extreme Tours'], ['City Tours', 'Paint & Pottery Studios'], ['Helicopter Tours'], ['Hiking Trails'], ['Sightseeing Tours', 'Nature & Wildlife Tours'], ['Helicopter Tours', 'Safaris'], ['Multi-day Tours', 'Cultural Tours'], ['Multi-day Tours', 'Hiking & Camping Tours'], ['Multi-day Tours', '4WD, ATV & Off-Road Tours'], ['Parasailing & Paragliding', 'Multi-day Tours'], ['Parasailing & Paragliding', 'City Tours'], ['Game & Entertainment Centers'], ['Multi-day Tours', 'Helicopter Tours'], ['Taxis & Shuttles'], ['Multi-day Tours', 'Climbing Tours'], ['Multi-day Tours', 'Adrenaline & Extreme Tours'], ['Multi-day Tours', 'Walking Tours'], ['City Tours'], ['Cultural Tours', 'Historical & Heritage Tours'], ['City Tours', 'Cultural Tours'], ['Speciality & Gift Shops'], ['Paint & Pottery Studios', 'Multi-day Tours'], ['Hiking & Camping Tours'], ['Points of Interest & Landmarks', 'Architectural Buildings'], ['Game & Entertainment Centers'], ['Multi-day Tours', 'Cultural Tours'], ['City Tours', 'Multi-day Tours'], ['Multi-day Tours', 'Bike Tours'], ['Paint & Pottery Studios', 'Multi-day Tours'], ['Speciality & Gift Shops'], ['Hiking & Camping Tours', 'Air Tours'], ['Sports Camps & Clinics'], ['Multi-day Tours', 'Private Tours'], ['Multi-day Tours', 'River Rafting & Tubing'], ['Helicopter Tours', 'Air Tours'], ['Bike Tours', 'Climbing Tours'], ['Multi-day Tours'], ['Multi-day Tours'], ['City Tours', 'Multi-day Tours'], ['Multi-day Tours', 'Private Tours'], ['City Tours', 'Multi-day Tours'], ['Canyoning & Rappelling Tours', 'Helicopter Tours'], ['Multi-day Tours', 'Balloon Rides'], ['Nature & Wildlife Tours', 'Horseback Riding Tours'], ['Multi-day Tours', 'Private Tours'], ['Religious Sites'], ['Nature & Wildlife Tours', 'Horseback Riding Tours'], ['Art Museums'], ['Hiking & Camping Tours', 'Day Trips'], ['Private Tours', 'Day Trips'], ['Multi-day Tours', 'Helicopter Tours'], ['Art Museums'], ['Multi-day Tours', 'Cultural Tours'], ['Yoga & Pilates', 'Spas'], ['Water Parks'], ['Parasailing & Paragliding', 'Multi-day Tours'], ['4WD, ATV & Off-Road Tours', 'Helicopter Tours'], ['City Tours', 'Cultural Tours'], ['Religious Sites'], ['Taxis & Shuttles'], ['Religious Sites'], ['Religious Sites'], ['Speciality & Gift Shops'], ['Walking Tours'], ['Eco Tours'], ['Multi-day Tours', 'River Rafting & Tubing'], ['Day Trips'], ['Parasailing & Paragliding', 'Multi-day Tours'], ['Private Tours'], ['Religious Sites'], ['Religious Sites'], ['Hiking Trails'], ['Multi-day Tours', 'Balloon Rides'], ['City Tours', 'Multi-day Tours'], ['Farmers Markets'], ['Parasailing & Paragliding', 'Multi-day Tours'], ['River Rafting & Tubing', 'Taxis & Shuttles']]\n"
     ]
    }
   ],
   "source": [
    "genre_arr=[] #store all values for each row in this array\n",
    "for i in range(len(dataset['genre'])):\n",
    "    arr=[] #array to store stripped items\n",
    "    splitted_arr=str(dataset['genre'][i]).split('•')\n",
    "\n",
    "    for item in splitted_arr:\n",
    "        new_stripped_item=item.strip()\n",
    "        arr.append(new_stripped_item)\n",
    "    genre_arr.append(arr)\n",
    "print(genre_arr)\n",
    "dataset['genre']=genre_arr"
   ]
  },
  {
   "cell_type": "code",
   "execution_count": 49,
   "id": "e88e7099",
   "metadata": {},
   "outputs": [
    {
     "name": "stdout",
     "output_type": "stream",
     "text": [
      "{'Distilleries', 'Hiking Trails', 'Playgrounds', 'Eco Tours', 'Wine Tours & Tastings', 'Cultural Tours', 'Art Galleries', 'Literary, Art & Music Tours', 'Shopping Malls', 'Historical & Heritage Tours', 'Nature & Wildlife Tours', 'Other Outdoor Activities', 'Photography Tours', 'Adrenaline & Extreme Tours', 'Farms', 'Health Clubs', 'Cemeteries', 'Antique Shops', 'Mysterious Sites', 'Paint & Pottery Studios', 'Points of Interest & Landmarks', 'Ski & Snow Tours', 'National Parks', 'Hiking & Camping Tours', 'Wineries & Vineyards', \"Children's Museums\", 'Sightseeing Tours', 'History Museums', 'Movie Theaters', 'Taxis & Shuttles', 'Religious Sites', 'Dams', 'Parasailing & Paragliding', 'Nan', 'Mountains', 'Spas', 'Yoga & Pilates', 'Historic Walking Areas', 'Bar, Club & Pub Tours', 'Ancient Ruins', 'Biking Trails', 'Nature & Wildlife Areas', 'Theatre & Performances', 'River Rafting & Tubing', 'Helicopter Tours', 'Multi-day Tours', 'Climbing Tours', 'Beer Tastings & Tours', 'Universities & Schools', 'Golf Courses', 'Convention Centers', 'Casinos', 'Air Tours', 'Caverns & Caves', 'Kayaking & Canoeing', 'Natural History Museums', 'Visitor Centers', 'Water Parks', 'Bus Services', 'Private Tours', 'Monuments & Statues', 'Farmers Markets', 'Zoos', 'Game & Entertainment Centers', 'Vespa, Scooter & Moped Tours', 'City Tours', 'Ski & Snowboard Areas', 'Neighborhoods', 'Art Museums', 'Sports Complexes', 'Cooking Classes', 'Factory Tours', 'Lookouts', 'Motorcycle Tours', 'Waterfalls', 'Shopping Tours', 'Escape Games', 'Horse-Drawn Carriage Tours', 'Sports Camps & Clinics', 'Theaters', 'Forests', 'Amusement & Theme Parks', 'Food Tours', 'Scenic Drives', 'Factory Outlets', 'Bike Tours', 'Bars & Clubs', 'Boat Tours', 'Coffee & Tea Tours', 'Geologic Formations', 'Dance Clubs & Discos', 'Zipline & Aerial Adventure Parks', 'Karaoke Bars', 'Canyoning & Rappelling Tours', 'Safaris', 'Archaeology Tours', 'Fishing Charters & Tours', 'Military Museums', 'Flea & Street Markets', 'Architectural Buildings', 'Scenic Walking Areas', 'Motorcycle Trails', '4WD, ATV & Off-Road Tours', 'Walking Tours', 'Submarine Tours', 'Speciality Museums', 'Horseback Riding Tours', 'Government Buildings', 'Bodies of Water', 'Day Trips', 'Surfing & Windsurfing', 'Hot Springs & Geysers', 'Bus Tours', 'Department Stores', 'Water Sports', 'Blues Bars', 'Speciality & Gift Shops', 'Distillery Tours', 'Lessons & Workshops', 'Parks', 'Balloon Rides', 'Gear Rentals', 'Self-Guided Tours & Rentals', 'Churches & Cathedrals', 'Gardens', 'Libraries', 'Valleys', 'Historic Sites'}\n"
     ]
    }
   ],
   "source": [
    "#append all the items in the individual list from genre into a super list \n",
    "super_genre_list=[]\n",
    "for each_list in dataset['genre']:\n",
    "    for item in each_list:\n",
    "        super_genre_list.append(item)\n",
    "\n",
    "#convert that into set to have only the unique values \n",
    "superset=set((super_genre_list))\n",
    "print(superset)"
   ]
  },
  {
   "cell_type": "code",
   "execution_count": 50,
   "id": "ffbb8b57",
   "metadata": {},
   "outputs": [],
   "source": [
    "#make checklists\n",
    "industries_checklist=['Distilleries','Factory Tours','Factory Outlets','Lessons & Workshops', 'Wineries & Vineyards']\n",
    "health_and_lifestyle_checklist=['Sports Camps & Clinics','Spas','Yoga & Pilates','Flea & Street Markets','Health Clubs']\n",
    "food_checklist=['Coffee & Tea Tours','Food Tours','Wineries & Vineyards', 'Beer Tastings & Tours',\\\n",
    "               'Cooking Classes','Farmers Markets','Department Stores','Farms']\n",
    "\n",
    "entertainment_checklist=['Horse-Drawn Carriage Tours', 'Vespa, Scooter & Moped Tours', 'Amusement & Theme Parks',\\\n",
    "                        'Shopping Tours', 'Theaters', 'Dance Clubs & Discos','Other Outdoor Activities',\\\n",
    "                        'Bars & Clubs','Coffee & Tea Tours','Fishing Charters & Tours','Playgrounds', 'Game & Entertainment Centers',\\\n",
    "                        'Food Tours','Movie Theaters','Karaoke Bars','Theatre & Performances','Shopping Malls', 'Sports Complexes',\\\n",
    "                        'City Tours','Self-Guided Tours & Rentals','Farmers Markets', 'Flea & Street Markets',\\\n",
    "                        'Bar, Club & Pub Tours','Casinos','River Rafting & Tubing','Bike Tours','Walking Tours',\\\n",
    "                        'Zipline & Aerial Adventure Parks','Horseback Riding Tours','Sports Complexes',\\\n",
    "                        'Canyoning & Rappelling Tours','Scenic Walking Areas',\"Children's Museums\",\\\n",
    "                        'Hot Springs & Geysers','Zoos','Water Parks','Sports Camps & Clinics']\n",
    "\n",
    "religious_checklist=['Art Galleries','Archaeology Tours','Antique Shops','Cultural Tours','Religious Sites',\\\n",
    "                     'Monuments & Statues','Caverns & Caves']\n",
    "\n",
    "adventure_checklist=['Archaeology Tours', 'Nature & Wildlife Tours','Kayaking & Canoeing', 'Ski & Snow Tours',\\\n",
    "                    'Motorcycle Trails', 'Horseback Riding Tours', 'Canyoning & Rappelling Tours',\\\n",
    "                     'Safaris','Zipline & Aerial Adventure Parks', 'Biking Trails', 'Gear Rentals', 'Bike Tours',\\\n",
    "                     'Climbing Tours','Eco Tours','River Rafting & Tubing','Sports Camps & Clinics',\\\n",
    "                     'Parasailing & Paragliding', 'Balloon Rides', 'Photography Tours','4WD, ATV & Off-Road Tours',\\\n",
    "                     'Hiking & Camping Tours', 'Bus Tours','Hiking Trails', 'Adrenaline & Extreme Tours',\\\n",
    "                     'Helicopter Tours', 'Sightseeing Tours','Nature & Wildlife Areas','Submarine Tours','Walking Tours',\\\n",
    "                     'Sightseeing Tours','Horseback Riding Tours','Canyoning & Rappelling Tours','Scenic Walking Areas',\\\n",
    "                    'Caverns & Caves','Mysterious Sites','Geologic Formations','Sports Camps & Clinics']\n",
    "\n",
    "nature_checklist=['Nature & Wildlife Tours','Dams','National Parks','Fishing Charters & Tours','Forests', 'Mountains', 'Private Tours',\\\n",
    "                  'Scenic Walking Areas','Safaris','Climbing Tours','Points of Interest & Landmarks','Wineries & Vineyards',\\\n",
    "                  'Water Sports','Valleys','Hiking Trails','Adrenaline & Extreme Tours','Lookouts', 'Helicopter Tours',\\\n",
    "                  'Sightseeing Tours', 'Air Tours','Bodies of Water', 'Nature & Wildlife Areas','Gardens',\\\n",
    "                  'River Rafting & Tubing','Canyoning & Rappelling Tours','Parks','Waterfalls','Caverns & Caves',\\\n",
    "                 'Mysterious Sites','Hot Springs & Geysers','Zoos','Geologic Formations','Farms']\n",
    "\n",
    "art_and_architecture_checklist=['Art Galleries','Architectural Buildings','Archaeology Tours','Antique Shops','Government Buildings',\\\n",
    "                      'Historic Sites','Military Museums','Speciality & Gift Shops','Theaters','Cultural Tours',\\\n",
    "                      'Natural History Museums','Points of Interest & Landmarks','Historical & Heritage Tours', \"Children's Museums\",\\\n",
    "                      'City Tours','Religious Sites','Paint & Pottery Studios','Churches & Cathedrals',\\\n",
    "                      'Art Museums','Libraries','Monuments & Statues','Lookouts','History Museums','Convention Centers',\\\n",
    "                      'Movie Theaters','Sightseeing Tours','Historic Walking Areas','Speciality Museums','Flea & Street Markets',\\\n",
    "                      'Scenic Walking Areas','Paint & Pottery Studios','Parks','Ancient Ruins','Caverns & Caves'\\\n",
    "                      ]\n",
    "\n",
    "history_checklist=['Art Galleries','Architectural Buildings','Archaeology Tours','Antique Shops','Government Buildings',\\\n",
    "                  'Multi-day Tours','Historic Sites','Military Museums','Speciality & Gift Shops',\\\n",
    "                  'Natural History Museums','Points of Interest & Landmarks','Historical & Heritage Tours', \"Children's Museums\",\\\n",
    "                  'City Tours','Religious Sites','Paint & Pottery Studios','Churches & Cathedrals',\\\n",
    "                  'Art Museums','Libraries','Monuments & Statues','Lookouts','History Museums','Convention Centers',\\\n",
    "                  'Factory Tours','Historic Walking Areas','Neighborhoods','Gardens','Speciality Museums','Scenic Walking Areas',\\\n",
    "                  \"Children's Museums\",'Parks','Ancient Ruins','Caverns & Caves','Mysterious Sites','Universities & Schools']"
   ]
  },
  {
   "cell_type": "code",
   "execution_count": 51,
   "id": "9f41d538",
   "metadata": {},
   "outputs": [],
   "source": [
    "def assign_history_col(dataset):\n",
    "    '''assigns history column'''\n",
    "    history_arr=[]\n",
    "    #iterate through every row of dataset \n",
    "    for each_list in dataset['genre']:\n",
    "        for item in each_list:\n",
    "            #history column\n",
    "            if(any(check_item.lower() == item.lower() for check_item in history_checklist)):\n",
    "                history_arr.append(True)\n",
    "                break\n",
    "            else:\n",
    "                history_arr.append(False)\n",
    "                break\n",
    "    return history_arr"
   ]
  },
  {
   "cell_type": "code",
   "execution_count": 52,
   "id": "d7ce1d34",
   "metadata": {},
   "outputs": [],
   "source": [
    "history_arr=assign_history_col(dataset)\n",
    "dataset['history']=history_arr"
   ]
  },
  {
   "cell_type": "code",
   "execution_count": 53,
   "id": "a2495fdd",
   "metadata": {},
   "outputs": [],
   "source": [
    "def assign_art_and_architecture_col(dataset):\n",
    "    '''assigns art_and_architecture column'''    \n",
    "    art_and_architecture_arr=[]\n",
    "    #iterate through every row of dataset \n",
    "    for each_list in dataset['genre']:\n",
    "        for item in each_list:\n",
    "            if(any(check_item.lower() == item.lower() for check_item in art_and_architecture_checklist)):\n",
    "                art_and_architecture_arr.append(True)\n",
    "                break\n",
    "            else:\n",
    "                art_and_architecture_arr.append(False)\n",
    "                break\n",
    "    return art_and_architecture_arr"
   ]
  },
  {
   "cell_type": "code",
   "execution_count": 54,
   "id": "5afee417",
   "metadata": {},
   "outputs": [],
   "source": [
    "art_and_architecture_arr=assign_art_and_architecture_col(dataset)\n",
    "dataset['art_and_architecture']=art_and_architecture_arr"
   ]
  },
  {
   "cell_type": "code",
   "execution_count": 55,
   "id": "0435c569",
   "metadata": {},
   "outputs": [],
   "source": [
    "def assign_nature_col(dataset):\n",
    "    '''assigns nature column'''\n",
    "    nature_arr=[]\n",
    "    #iterate through every row of dataset \n",
    "    for each_list in dataset['genre']:\n",
    "        for item in each_list:\n",
    "            if(any(check_item.lower() == item.lower() for check_item in nature_checklist)):\n",
    "                nature_arr.append(True)\n",
    "                break\n",
    "            else:\n",
    "                nature_arr.append(False)\n",
    "                break\n",
    "    return nature_arr"
   ]
  },
  {
   "cell_type": "code",
   "execution_count": 56,
   "id": "2e357b41",
   "metadata": {},
   "outputs": [],
   "source": [
    "nature_arr=assign_nature_col(dataset)\n",
    "dataset['nature']=nature_arr"
   ]
  },
  {
   "cell_type": "code",
   "execution_count": 57,
   "id": "f0ba3e09",
   "metadata": {},
   "outputs": [],
   "source": [
    "def assign_adventure_col(dataset):\n",
    "    '''assigns adventure column'''\n",
    "    adventure_arr=[]\n",
    "    #iterate through every row of dataset \n",
    "    for each_list in dataset['genre']:\n",
    "        for item in each_list:\n",
    "            if(any(check_item.lower() == item.lower() for check_item in adventure_checklist)):\n",
    "                adventure_arr.append(True)\n",
    "                break\n",
    "            else:\n",
    "                adventure_arr.append(False)\n",
    "                break\n",
    "    return adventure_arr"
   ]
  },
  {
   "cell_type": "code",
   "execution_count": 58,
   "id": "c4eb42ba",
   "metadata": {},
   "outputs": [],
   "source": [
    "adventure_arr=assign_adventure_col(dataset)\n",
    "dataset['adventure']=adventure_arr"
   ]
  },
  {
   "cell_type": "code",
   "execution_count": 59,
   "id": "798e6fa3",
   "metadata": {},
   "outputs": [],
   "source": [
    "def assign_entertainment_col(dataset):\n",
    "    '''assigns entertainment column'''\n",
    "    entertainment_arr=[]\n",
    "    #iterate through every row of dataset \n",
    "    for each_list in dataset['genre']:\n",
    "        for item in each_list:\n",
    "            if(any(check_item.lower() == item.lower() for check_item in entertainment_checklist)):\n",
    "                entertainment_arr.append(True)\n",
    "                break\n",
    "            else:\n",
    "                entertainment_arr.append(False)\n",
    "                break\n",
    "    return entertainment_arr"
   ]
  },
  {
   "cell_type": "code",
   "execution_count": 60,
   "id": "376acf98",
   "metadata": {},
   "outputs": [],
   "source": [
    "entertainment_arr=assign_entertainment_col(dataset)\n",
    "dataset['entertainment']=entertainment_arr"
   ]
  },
  {
   "cell_type": "code",
   "execution_count": 61,
   "id": "5e9730ee",
   "metadata": {},
   "outputs": [],
   "source": [
    "def assign_health_and_lifestyle_col(dataset):\n",
    "    '''assigns health_and_lifestyle column'''\n",
    "    health_and_lifestyle_arr=[]\n",
    "    #iterate through every row of dataset \n",
    "    for each_list in dataset['genre']:\n",
    "        for item in each_list:\n",
    "            if(any(check_item.lower() == item.lower() for check_item in health_and_lifestyle_checklist)):\n",
    "                health_and_lifestyle_arr.append(True)\n",
    "                break\n",
    "            else:\n",
    "                health_and_lifestyle_arr.append(False)\n",
    "                break\n",
    "    return health_and_lifestyle_arr"
   ]
  },
  {
   "cell_type": "code",
   "execution_count": 62,
   "id": "c53c3dc6",
   "metadata": {},
   "outputs": [],
   "source": [
    "health_and_lifestyle_arr=assign_health_and_lifestyle_col(dataset)\n",
    "dataset['health_and_lifestyle']=health_and_lifestyle_arr"
   ]
  },
  {
   "cell_type": "code",
   "execution_count": 63,
   "id": "769258df",
   "metadata": {},
   "outputs": [],
   "source": [
    "def assign_food_col(dataset):\n",
    "    '''assigns food column'''\n",
    "    food_arr=[]\n",
    "    #iterate through every row of dataset \n",
    "    for each_list in dataset['genre']:\n",
    "        for item in each_list:\n",
    "            if(any(check_item.lower() == item.lower() for check_item in food_checklist)):\n",
    "                food_arr.append(True)\n",
    "                break\n",
    "            else:\n",
    "                food_arr.append(False)\n",
    "                break\n",
    "    return food_arr"
   ]
  },
  {
   "cell_type": "code",
   "execution_count": 64,
   "id": "bddf0327",
   "metadata": {},
   "outputs": [],
   "source": [
    "food_arr=assign_food_col(dataset)\n",
    "dataset['food']=food_arr"
   ]
  },
  {
   "cell_type": "code",
   "execution_count": 65,
   "id": "32e3a6db",
   "metadata": {},
   "outputs": [],
   "source": [
    "def assign_industries_col(dataset):\n",
    "    '''assigns industries column'''\n",
    "    industries_arr=[]\n",
    "    #iterate through every row of dataset \n",
    "    for each_list in dataset['genre']:\n",
    "        for item in each_list:\n",
    "            if(any(check_item.lower() == item.lower() for check_item in industries_checklist)):\n",
    "                industries_arr.append(True)\n",
    "                break\n",
    "            else:\n",
    "                industries_arr.append(False)\n",
    "                break\n",
    "    return industries_arr"
   ]
  },
  {
   "cell_type": "code",
   "execution_count": 66,
   "id": "ad43d97d",
   "metadata": {},
   "outputs": [],
   "source": [
    "industries_arr=assign_industries_col(dataset)\n",
    "dataset['industries']=industries_arr"
   ]
  },
  {
   "cell_type": "code",
   "execution_count": 67,
   "id": "b9265014",
   "metadata": {},
   "outputs": [],
   "source": [
    "def assign_religious_col(dataset):\n",
    "    '''assigns religious column'''\n",
    "    religious_arr=[]\n",
    "    #iterate through every row of dataset \n",
    "    for each_list in dataset['genre']:\n",
    "        for item in each_list:\n",
    "            if(any(check_item.lower() == item.lower() for check_item in religious_checklist)):\n",
    "                religious_arr.append(True)\n",
    "                break\n",
    "            else:\n",
    "                religious_arr.append(False)\n",
    "                break\n",
    "    return religious_arr"
   ]
  },
  {
   "cell_type": "code",
   "execution_count": 68,
   "id": "98eab120",
   "metadata": {},
   "outputs": [
    {
     "name": "stdout",
     "output_type": "stream",
     "text": [
      "                   title avg_rating  voted_by  history  art_and_architecture  \\\n",
      "0       Boudhanath Stupa        4.5      8897     True                  True   \n",
      "1  Phewa Tal (Fewa Lake)        4.5      2988    False                 False   \n",
      "2              Sarangkot        4.5      2199    False                 False   \n",
      "3   Swayambhunath Temple        4.5      6203     True                  True   \n",
      "4              Poon Hill        4.5      1477    False                 False   \n",
      "\n",
      "   nature  adventure  entertainment  health_and_lifestyle   food  industries  \\\n",
      "0   False      False          False                 False  False       False   \n",
      "1    True      False          False                 False  False       False   \n",
      "2    True      False          False                 False  False       False   \n",
      "3   False      False          False                 False  False       False   \n",
      "4    True      False          False                 False  False       False   \n",
      "\n",
      "   religious    latitude  longitude              genre  \n",
      "0       True  27.7215062  85.359809  [Religious Sites]  \n",
      "1      False  28.2116268  83.932296  [Bodies of Water]  \n",
      "2      False  28.2443761  83.944564        [Mountains]  \n",
      "3       True  27.7149298  85.288146  [Religious Sites]  \n",
      "4      False   28.400195  83.671789        [Mountains]  \n"
     ]
    }
   ],
   "source": [
    "religious_arr=assign_religious_col(dataset)\n",
    "dataset['religious']=religious_arr\n",
    "print(dataset.head())"
   ]
  },
  {
   "cell_type": "code",
   "execution_count": 69,
   "id": "db95469d",
   "metadata": {},
   "outputs": [
    {
     "name": "stdout",
     "output_type": "stream",
     "text": [
      "                                    title  history  art_and_architecture  \\\n",
      "0                        Boudhanath Stupa     True                  True   \n",
      "1                   Phewa Tal (Fewa Lake)    False                 False   \n",
      "2                               Sarangkot    False                 False   \n",
      "3                    Swayambhunath Temple     True                  True   \n",
      "4                               Poon Hill    False                 False   \n",
      "...                                   ...      ...                   ...   \n",
      "3308  SITA (Travel Corporation India Ltd)     True                 False   \n",
      "3309                       Himalayan Hike     True                  True   \n",
      "3310                               Harilo    False                 False   \n",
      "3311                           Heli Sight    False                 False   \n",
      "3312                            River Fun    False                 False   \n",
      "\n",
      "      nature  adventure  entertainment  health_and_lifestyle   food  \\\n",
      "0      False      False          False                 False  False   \n",
      "1       True      False          False                 False  False   \n",
      "2       True      False          False                 False  False   \n",
      "3      False      False          False                 False  False   \n",
      "4       True      False          False                 False  False   \n",
      "...      ...        ...            ...                   ...    ...   \n",
      "3308   False      False          False                 False  False   \n",
      "3309   False      False           True                 False  False   \n",
      "3310   False      False           True                 False   True   \n",
      "3311   False       True          False                 False  False   \n",
      "3312    True       True           True                 False  False   \n",
      "\n",
      "      industries  religious    latitude  longitude  \n",
      "0          False       True  27.7215062  85.359809  \n",
      "1          False      False  28.2116268  83.932296  \n",
      "2          False      False  28.2443761  83.944564  \n",
      "3          False       True  27.7149298  85.288146  \n",
      "4          False      False   28.400195  83.671789  \n",
      "...          ...        ...         ...        ...  \n",
      "3308       False      False         NaN        NaN  \n",
      "3309       False      False         NaN        NaN  \n",
      "3310       False      False         NaN        NaN  \n",
      "3311       False      False         NaN        NaN  \n",
      "3312       False      False         NaN        NaN  \n",
      "\n",
      "[3313 rows x 12 columns]\n"
     ]
    }
   ],
   "source": [
    "dataset=dataset.drop(['avg_rating','voted_by','genre'],axis=1)\n",
    "print(dataset)"
   ]
  },
  {
   "cell_type": "code",
   "execution_count": 70,
   "id": "f1ce6fab",
   "metadata": {},
   "outputs": [],
   "source": [
    "super_genre_list=[]\n",
    "for i in range(len(dataset)):\n",
    "    genre_list=[]\n",
    "    for ind in dataset.loc[i].index:\n",
    "        if dataset.loc[i,ind] == True:\n",
    "            genre_list.append(str(ind))\n",
    "    \n",
    "    super_genre_list.append(genre_list)"
   ]
  },
  {
   "cell_type": "code",
   "execution_count": 71,
   "id": "6f9e195e",
   "metadata": {},
   "outputs": [
    {
     "name": "stdout",
     "output_type": "stream",
     "text": [
      "[['history', 'art_and_architecture', 'religious'], ['nature'], ['nature'], ['history', 'art_and_architecture', 'religious'], ['nature'], ['history', 'art_and_architecture', 'religious'], ['history', 'art_and_architecture', 'religious'], ['history', 'art_and_architecture', 'nature'], ['nature'], ['nature'], ['nature'], ['history', 'art_and_architecture', 'religious'], ['history', 'art_and_architecture'], ['history', 'art_and_architecture'], ['history', 'art_and_architecture'], ['nature'], ['history', 'art_and_architecture', 'religious'], ['history'], ['nature', 'adventure'], ['nature'], ['history', 'art_and_architecture', 'nature'], ['history', 'nature'], ['history', 'art_and_architecture', 'nature'], ['adventure'], ['history', 'art_and_architecture'], ['nature'], ['history', 'art_and_architecture', 'nature', 'adventure', 'religious'], ['nature'], ['nature'], ['history', 'art_and_architecture'], ['history', 'art_and_architecture', 'religious'], ['history', 'art_and_architecture', 'religious'], ['history', 'art_and_architecture', 'religious'], ['nature', 'adventure'], ['nature'], ['history', 'art_and_architecture', 'religious'], ['nature'], ['art_and_architecture', 'entertainment', 'health_and_lifestyle'], ['nature'], ['nature', 'adventure'], ['nature'], ['history', 'art_and_architecture', 'religious'], ['history', 'art_and_architecture', 'religious'], ['history', 'art_and_architecture', 'religious'], ['history', 'art_and_architecture', 'religious'], ['history', 'art_and_architecture'], ['history', 'art_and_architecture', 'religious'], ['nature', 'adventure'], ['history', 'art_and_architecture', 'nature'], ['history', 'art_and_architecture', 'nature'], ['history', 'art_and_architecture', 'nature', 'adventure', 'religious'], ['history', 'art_and_architecture', 'religious'], ['history', 'art_and_architecture', 'religious'], ['nature', 'adventure'], ['nature'], ['nature', 'adventure'], ['nature', 'adventure'], ['history', 'art_and_architecture'], ['nature'], ['history', 'art_and_architecture', 'religious'], ['history', 'art_and_architecture', 'religious'], ['history', 'art_and_architecture'], ['history', 'art_and_architecture', 'religious'], ['history', 'art_and_architecture', 'religious'], ['history', 'art_and_architecture', 'nature'], ['history', 'art_and_architecture'], ['nature'], ['history', 'nature', 'adventure'], ['nature'], ['history', 'art_and_architecture', 'religious'], ['history', 'art_and_architecture', 'religious'], ['history', 'art_and_architecture', 'religious'], ['history', 'art_and_architecture'], ['history', 'art_and_architecture'], ['history', 'art_and_architecture'], ['history', 'art_and_architecture', 'nature'], ['entertainment'], ['history', 'art_and_architecture', 'nature'], ['nature', 'entertainment'], ['nature', 'entertainment'], ['adventure', 'entertainment', 'health_and_lifestyle'], ['history', 'art_and_architecture', 'religious'], ['nature', 'food'], ['art_and_architecture', 'entertainment', 'health_and_lifestyle'], ['nature'], ['history', 'art_and_architecture', 'religious'], ['history', 'art_and_architecture'], ['nature'], ['nature'], ['nature'], ['history', 'art_and_architecture', 'religious'], ['entertainment'], ['history', 'art_and_architecture', 'religious'], ['history', 'art_and_architecture'], ['nature'], ['entertainment'], ['history', 'art_and_architecture', 'religious'], ['history', 'art_and_architecture', 'religious'], ['history', 'art_and_architecture', 'nature'], ['history', 'art_and_architecture', 'nature'], ['nature'], ['history', 'art_and_architecture', 'religious'], ['history', 'nature'], ['history', 'art_and_architecture', 'religious'], ['history', 'art_and_architecture'], ['history', 'art_and_architecture', 'nature'], ['history', 'art_and_architecture', 'nature'], ['history', 'art_and_architecture', 'nature'], ['nature', 'adventure'], ['history', 'art_and_architecture', 'nature'], ['nature', 'adventure'], ['nature'], ['history', 'art_and_architecture', 'nature'], ['history', 'art_and_architecture', 'religious'], ['nature'], ['nature'], ['history', 'art_and_architecture'], ['nature'], ['history', 'art_and_architecture', 'nature'], ['history', 'art_and_architecture', 'religious'], ['history', 'art_and_architecture', 'nature'], ['history', 'art_and_architecture'], ['history', 'art_and_architecture', 'religious'], ['entertainment'], ['nature'], ['nature'], ['nature', 'adventure'], ['history', 'art_and_architecture', 'nature', 'adventure', 'entertainment'], ['history', 'art_and_architecture', 'nature'], ['history', 'art_and_architecture'], ['history', 'art_and_architecture', 'religious'], ['nature'], ['history', 'art_and_architecture', 'religious'], ['entertainment'], ['entertainment'], ['history'], ['history', 'art_and_architecture', 'religious'], ['history', 'art_and_architecture', 'religious'], ['history', 'art_and_architecture', 'nature'], ['art_and_architecture', 'entertainment'], ['industries'], ['history', 'art_and_architecture', 'nature', 'adventure', 'religious'], ['nature'], ['nature'], ['history', 'art_and_architecture', 'nature'], ['history', 'art_and_architecture', 'nature'], ['history', 'art_and_architecture', 'nature'], ['food'], ['history', 'art_and_architecture', 'nature'], ['history', 'art_and_architecture', 'religious'], ['history', 'art_and_architecture', 'nature'], ['history', 'art_and_architecture', 'religious'], ['history', 'art_and_architecture'], ['history', 'art_and_architecture', 'religious'], ['nature'], ['history', 'art_and_architecture', 'religious'], ['nature'], ['entertainment'], ['history', 'art_and_architecture'], ['history', 'art_and_architecture', 'religious'], ['history', 'art_and_architecture', 'nature'], ['history', 'art_and_architecture', 'religious'], ['nature', 'adventure'], ['history', 'art_and_architecture', 'nature'], ['history', 'art_and_architecture', 'religious'], ['history', 'art_and_architecture'], ['history', 'art_and_architecture', 'religious'], ['history', 'art_and_architecture', 'nature'], ['nature', 'adventure'], ['nature'], ['history', 'art_and_architecture', 'nature'], ['nature'], ['history', 'art_and_architecture', 'religious'], ['history', 'art_and_architecture'], ['nature', 'adventure'], ['history', 'art_and_architecture'], ['history', 'art_and_architecture'], ['nature', 'adventure'], ['history', 'art_and_architecture', 'religious'], ['history', 'art_and_architecture', 'religious'], ['history', 'art_and_architecture', 'religious'], ['history', 'art_and_architecture', 'religious'], ['history', 'art_and_architecture', 'religious'], ['history', 'art_and_architecture', 'religious'], ['history', 'art_and_architecture', 'nature'], ['history', 'art_and_architecture', 'religious'], ['history', 'art_and_architecture', 'nature'], ['history', 'art_and_architecture', 'religious'], ['nature', 'adventure'], ['history', 'art_and_architecture', 'nature'], ['history', 'art_and_architecture'], ['entertainment'], ['history', 'art_and_architecture', 'nature'], ['history', 'art_and_architecture', 'nature'], ['history', 'art_and_architecture', 'religious'], ['history', 'art_and_architecture', 'nature'], ['history', 'art_and_architecture', 'nature'], ['history', 'art_and_architecture', 'religious'], ['entertainment'], ['history', 'art_and_architecture', 'nature'], ['history', 'art_and_architecture', 'religious'], ['history', 'art_and_architecture'], ['entertainment', 'food'], ['nature'], ['adventure', 'entertainment', 'health_and_lifestyle'], [], ['history', 'art_and_architecture', 'religious'], ['history', 'art_and_architecture', 'religious'], ['history', 'art_and_architecture', 'religious'], ['history', 'art_and_architecture', 'religious'], ['history', 'art_and_architecture'], ['history', 'art_and_architecture', 'religious'], ['history', 'art_and_architecture'], ['history', 'art_and_architecture'], ['history', 'art_and_architecture', 'nature'], ['history', 'art_and_architecture', 'religious'], ['history', 'art_and_architecture', 'religious'], ['history', 'art_and_architecture', 'nature'], ['history'], ['nature'], ['history', 'art_and_architecture', 'religious'], ['history', 'art_and_architecture', 'nature'], ['history', 'art_and_architecture', 'nature'], ['history'], ['history', 'art_and_architecture'], ['nature', 'adventure'], ['history', 'art_and_architecture', 'nature'], ['history', 'art_and_architecture', 'nature'], ['history', 'art_and_architecture', 'religious'], ['history', 'art_and_architecture', 'religious'], ['nature'], ['history', 'art_and_architecture', 'religious'], ['history', 'art_and_architecture', 'religious'], ['history', 'art_and_architecture', 'nature'], ['entertainment'], ['history'], ['history', 'art_and_architecture', 'religious'], ['nature'], ['nature', 'adventure'], ['nature'], ['history', 'art_and_architecture', 'religious'], ['history', 'art_and_architecture', 'religious'], ['history', 'art_and_architecture'], ['history', 'art_and_architecture', 'religious'], ['history', 'art_and_architecture', 'nature'], ['history', 'art_and_architecture', 'religious'], ['history', 'art_and_architecture', 'religious'], ['history', 'art_and_architecture', 'religious'], ['history', 'art_and_architecture', 'religious'], ['history', 'art_and_architecture', 'nature'], ['history', 'art_and_architecture', 'nature'], ['nature'], ['history', 'art_and_architecture'], ['history', 'art_and_architecture', 'nature'], ['history', 'art_and_architecture', 'religious'], ['history', 'art_and_architecture', 'nature'], ['history', 'art_and_architecture', 'nature'], ['history', 'art_and_architecture'], ['history', 'art_and_architecture'], ['adventure', 'entertainment', 'health_and_lifestyle'], ['history', 'art_and_architecture'], ['history', 'art_and_architecture'], ['history', 'art_and_architecture', 'nature'], ['history', 'art_and_architecture'], ['history', 'art_and_architecture'], ['nature'], ['history', 'art_and_architecture', 'nature'], ['history', 'art_and_architecture', 'religious'], ['history', 'art_and_architecture', 'nature'], ['history', 'art_and_architecture', 'religious'], ['history', 'art_and_architecture'], ['history', 'art_and_architecture', 'religious'], ['history', 'art_and_architecture'], ['entertainment'], ['nature', 'food'], ['history', 'art_and_architecture'], ['history', 'art_and_architecture', 'nature'], ['history', 'art_and_architecture'], ['history', 'art_and_architecture', 'religious'], ['history', 'art_and_architecture', 'religious'], ['history', 'art_and_architecture'], ['history', 'art_and_architecture', 'nature'], ['history', 'art_and_architecture', 'religious'], ['history', 'art_and_architecture', 'religious'], ['history', 'art_and_architecture', 'nature'], ['history', 'art_and_architecture', 'religious'], ['history', 'art_and_architecture', 'nature', 'adventure', 'religious'], ['history', 'art_and_architecture', 'religious'], ['nature', 'adventure'], ['history', 'art_and_architecture', 'religious'], ['history', 'art_and_architecture', 'religious'], ['history', 'art_and_architecture', 'nature'], ['nature'], ['history', 'art_and_architecture', 'religious'], ['history', 'art_and_architecture', 'nature'], ['nature'], ['entertainment'], ['history', 'art_and_architecture'], ['history', 'art_and_architecture', 'nature'], ['history', 'art_and_architecture'], ['nature'], ['history', 'art_and_architecture', 'religious'], ['adventure', 'entertainment', 'health_and_lifestyle'], ['history', 'art_and_architecture'], ['history', 'art_and_architecture', 'religious'], ['history', 'art_and_architecture'], ['history', 'art_and_architecture', 'nature'], ['entertainment'], ['history', 'art_and_architecture', 'religious'], ['history', 'art_and_architecture', 'nature'], ['history', 'art_and_architecture', 'religious'], ['nature'], ['entertainment'], ['history', 'art_and_architecture'], ['history', 'art_and_architecture', 'religious'], ['history', 'art_and_architecture', 'nature'], ['history', 'art_and_architecture', 'religious'], ['nature'], ['history', 'art_and_architecture'], ['history', 'art_and_architecture'], ['history', 'art_and_architecture', 'nature'], ['history', 'art_and_architecture', 'nature'], ['history', 'art_and_architecture', 'religious'], ['history', 'art_and_architecture', 'nature'], ['history', 'art_and_architecture', 'religious'], ['nature'], ['nature', 'adventure'], ['history', 'art_and_architecture', 'religious'], ['entertainment'], ['industries'], ['history', 'art_and_architecture', 'nature'], ['history', 'art_and_architecture'], ['entertainment'], ['history', 'art_and_architecture'], ['history', 'art_and_architecture', 'nature'], ['nature', 'adventure'], ['history', 'art_and_architecture', 'religious'], ['nature'], ['history', 'art_and_architecture', 'religious'], ['history', 'art_and_architecture', 'religious'], ['history', 'art_and_architecture', 'religious'], ['history', 'art_and_architecture', 'religious'], ['history', 'art_and_architecture', 'nature'], ['history', 'art_and_architecture'], ['history', 'art_and_architecture', 'religious'], ['history', 'art_and_architecture', 'religious'], ['history', 'art_and_architecture'], ['history', 'art_and_architecture', 'nature'], ['history', 'art_and_architecture', 'nature'], ['history', 'art_and_architecture', 'religious'], ['nature', 'adventure'], ['history', 'art_and_architecture', 'nature'], ['history', 'art_and_architecture', 'nature'], ['history', 'art_and_architecture', 'nature'], ['history', 'art_and_architecture', 'nature'], ['history', 'art_and_architecture', 'religious'], ['history', 'art_and_architecture', 'nature'], ['entertainment'], ['history', 'art_and_architecture'], ['history', 'art_and_architecture', 'religious'], ['nature'], ['nature'], ['history', 'art_and_architecture'], ['history', 'art_and_architecture', 'religious'], ['history', 'art_and_architecture', 'religious'], ['history', 'art_and_architecture', 'nature'], ['history', 'art_and_architecture', 'nature'], ['history', 'art_and_architecture'], ['history', 'art_and_architecture', 'religious'], ['history', 'art_and_architecture', 'religious'], ['history', 'art_and_architecture', 'nature'], ['history', 'art_and_architecture', 'nature'], ['history', 'art_and_architecture', 'religious'], ['history', 'art_and_architecture'], ['history', 'art_and_architecture', 'religious'], ['history', 'art_and_architecture'], ['history', 'art_and_architecture', 'nature'], ['history', 'art_and_architecture', 'nature'], ['history', 'art_and_architecture', 'religious'], ['history', 'art_and_architecture', 'religious'], ['history', 'art_and_architecture', 'religious'], ['history', 'art_and_architecture', 'nature'], ['history', 'art_and_architecture'], ['history', 'art_and_architecture', 'nature'], ['history', 'art_and_architecture'], ['history', 'art_and_architecture', 'religious'], ['entertainment'], ['history', 'art_and_architecture', 'religious'], ['history', 'art_and_architecture', 'religious'], ['history', 'art_and_architecture'], ['history', 'art_and_architecture', 'religious'], ['history', 'art_and_architecture', 'religious'], ['history', 'art_and_architecture'], ['history', 'art_and_architecture', 'religious'], ['nature'], ['history', 'art_and_architecture'], ['history', 'art_and_architecture', 'nature'], ['history', 'art_and_architecture'], ['history', 'art_and_architecture', 'nature'], ['history', 'art_and_architecture', 'nature'], ['history', 'art_and_architecture', 'religious'], ['history', 'art_and_architecture', 'nature'], ['nature'], ['history', 'art_and_architecture', 'nature'], ['history', 'art_and_architecture', 'nature'], ['history', 'art_and_architecture', 'religious'], ['history', 'art_and_architecture', 'nature'], ['history', 'art_and_architecture'], ['history', 'art_and_architecture'], ['history', 'art_and_architecture', 'nature'], ['history', 'art_and_architecture', 'nature'], ['history', 'art_and_architecture'], ['history', 'art_and_architecture', 'nature'], ['history', 'art_and_architecture', 'nature'], ['history', 'art_and_architecture', 'nature'], ['history', 'art_and_architecture', 'religious'], ['history', 'art_and_architecture', 'nature'], ['history', 'art_and_architecture', 'religious'], ['nature'], ['adventure', 'entertainment', 'health_and_lifestyle'], ['history', 'art_and_architecture'], ['history', 'art_and_architecture', 'nature'], ['history', 'art_and_architecture', 'religious'], ['nature'], ['history', 'art_and_architecture', 'religious'], ['history', 'art_and_architecture', 'religious'], ['history', 'art_and_architecture'], ['history', 'art_and_architecture'], ['history', 'art_and_architecture', 'nature'], ['history', 'art_and_architecture'], ['history', 'art_and_architecture', 'nature'], ['history', 'art_and_architecture', 'nature'], ['history', 'art_and_architecture', 'nature'], ['history', 'art_and_architecture', 'nature'], ['history', 'art_and_architecture', 'nature'], ['history', 'art_and_architecture', 'nature'], ['history', 'art_and_architecture', 'religious'], ['history', 'art_and_architecture', 'nature'], ['history', 'art_and_architecture', 'religious'], ['history', 'art_and_architecture', 'nature'], ['history', 'art_and_architecture', 'entertainment'], ['history'], ['history'], ['history'], ['adventure'], ['adventure', 'entertainment'], ['history'], ['history'], ['art_and_architecture', 'religious'], ['adventure'], ['history', 'art_and_architecture', 'entertainment'], ['adventure'], ['history', 'art_and_architecture'], ['history'], ['health_and_lifestyle'], ['food'], ['adventure'], ['art_and_architecture', 'nature', 'adventure'], ['nature', 'adventure', 'entertainment'], ['history'], ['adventure'], ['history', 'art_and_architecture', 'entertainment'], ['adventure'], ['history'], ['history', 'art_and_architecture', 'entertainment'], ['history', 'art_and_architecture', 'entertainment'], [], ['health_and_lifestyle'], ['art_and_architecture', 'religious'], ['history'], ['nature'], ['history'], ['adventure'], ['nature', 'adventure'], ['history', 'art_and_architecture', 'entertainment'], ['history'], ['art_and_architecture', 'religious'], ['history', 'art_and_architecture', 'entertainment'], ['nature', 'adventure'], ['history'], ['history', 'art_and_architecture', 'entertainment'], ['art_and_architecture', 'religious'], ['nature', 'adventure', 'entertainment'], ['history', 'art_and_architecture', 'entertainment'], ['adventure'], ['health_and_lifestyle'], ['history'], ['history'], ['history'], ['adventure'], ['adventure'], [], ['history'], ['art_and_architecture', 'religious'], ['history'], ['history'], ['history', 'art_and_architecture', 'entertainment'], ['art_and_architecture', 'religious'], ['history'], ['history'], ['history', 'art_and_architecture', 'entertainment'], ['adventure'], ['art_and_architecture', 'religious'], ['history', 'art_and_architecture', 'entertainment'], ['adventure'], ['adventure'], ['history', 'art_and_architecture', 'entertainment'], ['history'], ['art_and_architecture', 'religious'], ['adventure'], ['food'], ['art_and_architecture', 'nature', 'adventure'], ['art_and_architecture', 'religious'], ['adventure', 'entertainment'], ['history', 'art_and_architecture', 'entertainment'], ['history'], ['history', 'art_and_architecture', 'entertainment'], ['history', 'art_and_architecture', 'entertainment'], ['art_and_architecture', 'nature', 'adventure'], ['art_and_architecture', 'religious'], ['history'], ['history', 'art_and_architecture'], ['history', 'art_and_architecture', 'entertainment'], ['history'], ['adventure'], ['nature'], ['history'], ['history', 'art_and_architecture', 'entertainment'], ['art_and_architecture', 'nature', 'adventure'], [], ['adventure'], ['history'], ['history', 'art_and_architecture', 'entertainment'], ['adventure'], ['art_and_architecture', 'nature', 'adventure'], ['adventure'], ['adventure'], ['adventure'], ['health_and_lifestyle'], ['history'], ['adventure'], ['history'], ['adventure'], ['adventure'], ['history', 'art_and_architecture', 'entertainment'], ['history', 'art_and_architecture', 'entertainment'], ['nature', 'adventure'], ['adventure'], ['adventure'], ['adventure'], ['adventure'], ['health_and_lifestyle'], ['art_and_architecture', 'religious'], ['history'], ['history'], ['adventure'], ['health_and_lifestyle'], ['history'], ['history', 'art_and_architecture', 'entertainment'], ['adventure', 'entertainment'], ['adventure'], ['art_and_architecture', 'religious'], ['history', 'art_and_architecture', 'entertainment'], ['history'], ['nature', 'adventure'], ['adventure'], ['history'], ['adventure', 'entertainment'], ['art_and_architecture', 'nature', 'adventure'], ['history'], ['nature', 'adventure', 'entertainment'], ['health_and_lifestyle'], [], ['history', 'art_and_architecture'], ['food'], ['history'], ['adventure'], ['health_and_lifestyle'], ['nature', 'adventure'], ['nature', 'adventure', 'entertainment'], ['history'], ['nature', 'adventure', 'entertainment'], ['adventure'], ['history', 'art_and_architecture'], ['art_and_architecture', 'religious'], ['history', 'art_and_architecture', 'entertainment'], ['history', 'art_and_architecture', 'entertainment'], ['adventure'], ['adventure'], ['history', 'art_and_architecture', 'entertainment'], ['art_and_architecture', 'religious'], ['adventure', 'entertainment'], ['art_and_architecture', 'religious'], ['adventure'], ['history'], ['nature', 'adventure'], ['history', 'art_and_architecture', 'entertainment'], ['history'], ['art_and_architecture', 'nature', 'adventure'], ['nature'], ['health_and_lifestyle'], ['history'], ['health_and_lifestyle'], ['adventure'], ['history', 'art_and_architecture', 'entertainment'], ['adventure'], ['adventure'], ['adventure'], ['health_and_lifestyle'], ['nature'], ['nature', 'adventure', 'entertainment'], ['health_and_lifestyle'], ['art_and_architecture', 'nature', 'adventure'], ['health_and_lifestyle'], ['art_and_architecture', 'nature', 'adventure'], ['adventure'], ['health_and_lifestyle'], ['history', 'art_and_architecture'], ['history', 'art_and_architecture', 'entertainment'], ['health_and_lifestyle'], ['art_and_architecture', 'entertainment'], ['art_and_architecture', 'religious'], ['history', 'art_and_architecture', 'entertainment'], ['nature', 'adventure'], ['art_and_architecture', 'religious'], ['health_and_lifestyle'], ['art_and_architecture', 'religious'], ['health_and_lifestyle'], ['adventure'], ['art_and_architecture', 'religious'], ['art_and_architecture', 'nature', 'adventure'], ['history', 'art_and_architecture'], ['history'], ['history'], ['adventure'], ['adventure'], ['nature', 'adventure', 'entertainment'], ['nature', 'adventure', 'entertainment'], ['history', 'art_and_architecture', 'entertainment'], ['adventure'], ['nature'], ['history', 'art_and_architecture', 'entertainment'], ['history'], ['nature', 'adventure', 'entertainment'], ['art_and_architecture', 'religious'], ['adventure'], ['history'], ['history', 'art_and_architecture', 'entertainment'], ['art_and_architecture', 'nature', 'adventure'], ['history'], ['history', 'art_and_architecture'], ['history'], ['history'], ['health_and_lifestyle'], ['food'], ['adventure'], ['adventure'], ['history', 'art_and_architecture', 'entertainment'], ['history', 'art_and_architecture', 'entertainment'], ['adventure'], ['adventure'], ['adventure'], ['history'], ['adventure'], ['history'], ['history'], ['nature', 'adventure', 'entertainment'], ['history', 'art_and_architecture'], ['history', 'art_and_architecture'], ['adventure'], ['history'], ['adventure'], ['art_and_architecture', 'religious'], ['adventure'], ['history', 'art_and_architecture', 'entertainment'], ['adventure'], ['health_and_lifestyle'], ['history', 'art_and_architecture', 'entertainment'], ['nature', 'adventure', 'entertainment'], ['adventure'], ['art_and_architecture', 'nature', 'adventure'], ['history'], ['history'], ['history'], ['history'], ['history'], ['history'], ['nature'], ['entertainment'], ['history', 'art_and_architecture', 'entertainment'], ['health_and_lifestyle'], ['health_and_lifestyle'], ['history'], ['art_and_architecture', 'religious'], ['nature', 'adventure'], ['history', 'art_and_architecture', 'entertainment'], ['adventure'], ['history', 'art_and_architecture', 'entertainment'], ['adventure'], ['adventure'], ['adventure'], ['adventure'], ['history'], ['history'], ['art_and_architecture', 'religious'], ['industries'], ['history'], ['history', 'art_and_architecture'], ['history', 'art_and_architecture', 'entertainment'], ['history', 'art_and_architecture', 'entertainment'], ['history', 'art_and_architecture', 'entertainment'], ['history', 'art_and_architecture', 'entertainment'], ['health_and_lifestyle'], ['history', 'art_and_architecture', 'entertainment'], ['adventure'], ['history'], ['adventure'], ['adventure'], ['history'], ['adventure', 'entertainment'], [], ['adventure'], ['adventure'], ['art_and_architecture', 'religious'], ['health_and_lifestyle'], ['health_and_lifestyle'], ['history', 'art_and_architecture', 'entertainment'], ['history', 'art_and_architecture', 'entertainment'], ['health_and_lifestyle'], ['art_and_architecture', 'religious'], [], ['history'], ['history', 'art_and_architecture', 'entertainment'], ['history'], ['history', 'art_and_architecture', 'entertainment'], ['nature', 'adventure', 'entertainment'], ['art_and_architecture', 'religious'], ['nature', 'adventure'], ['nature', 'adventure'], ['history'], ['art_and_architecture', 'religious'], ['adventure'], ['health_and_lifestyle'], ['nature', 'adventure'], ['history', 'art_and_architecture', 'entertainment'], ['adventure'], ['history'], ['art_and_architecture', 'religious'], ['history'], ['art_and_architecture', 'religious'], ['history', 'art_and_architecture', 'entertainment'], ['nature'], ['history', 'art_and_architecture', 'entertainment'], ['history'], ['adventure'], ['history', 'art_and_architecture'], ['nature', 'adventure'], ['nature'], ['art_and_architecture', 'religious'], ['history', 'art_and_architecture', 'entertainment'], ['history'], ['health_and_lifestyle'], ['nature'], ['adventure'], ['nature', 'adventure'], ['adventure', 'entertainment'], ['history'], ['history'], [], ['history'], ['history', 'art_and_architecture', 'entertainment'], ['entertainment'], ['history'], ['nature'], ['history', 'art_and_architecture', 'entertainment'], ['history', 'art_and_architecture'], ['nature', 'adventure'], ['history'], ['art_and_architecture', 'religious'], ['nature', 'adventure'], ['adventure'], ['adventure'], ['history', 'art_and_architecture', 'entertainment'], ['history'], ['nature', 'adventure'], ['history'], ['history'], ['history'], ['history', 'art_and_architecture', 'entertainment'], ['history'], ['history', 'art_and_architecture', 'entertainment'], ['history', 'art_and_architecture', 'entertainment'], ['adventure'], ['history'], ['adventure', 'entertainment'], ['adventure'], ['history'], ['nature', 'adventure'], ['nature', 'adventure'], ['adventure', 'entertainment'], ['nature', 'adventure'], ['adventure'], ['nature'], ['health_and_lifestyle'], ['history'], ['history'], ['history', 'art_and_architecture', 'entertainment'], ['history', 'art_and_architecture', 'entertainment'], ['history'], ['health_and_lifestyle'], ['nature', 'adventure', 'entertainment'], ['adventure'], ['nature', 'adventure'], ['history'], ['art_and_architecture', 'nature', 'adventure'], ['history'], ['health_and_lifestyle'], ['art_and_architecture', 'nature', 'adventure'], ['history', 'art_and_architecture', 'entertainment'], ['art_and_architecture', 'nature', 'adventure'], ['adventure', 'entertainment'], ['history', 'art_and_architecture'], ['history'], ['adventure'], ['history', 'art_and_architecture', 'entertainment'], ['history', 'art_and_architecture', 'entertainment'], ['history'], ['history'], ['history', 'art_and_architecture', 'entertainment'], ['history'], ['adventure'], ['nature', 'adventure'], ['history', 'art_and_architecture', 'entertainment'], ['art_and_architecture', 'religious'], ['history'], ['history', 'art_and_architecture', 'entertainment'], ['history'], ['nature', 'adventure', 'entertainment'], ['nature', 'adventure'], ['history'], ['nature', 'adventure'], ['history', 'art_and_architecture', 'entertainment'], ['nature', 'adventure', 'entertainment'], ['nature', 'adventure', 'entertainment'], ['nature', 'adventure'], ['history'], ['art_and_architecture', 'religious'], ['art_and_architecture', 'religious'], ['adventure'], ['history', 'art_and_architecture', 'entertainment'], ['history'], ['nature', 'adventure'], ['history', 'art_and_architecture', 'entertainment'], ['history', 'art_and_architecture', 'entertainment'], ['nature', 'adventure', 'entertainment'], ['art_and_architecture', 'religious'], ['history'], ['history', 'art_and_architecture'], ['history', 'art_and_architecture', 'entertainment'], ['adventure'], ['adventure'], ['adventure'], ['history', 'art_and_architecture', 'entertainment'], ['history'], ['history', 'art_and_architecture', 'entertainment'], ['nature'], ['adventure'], ['adventure'], ['adventure'], ['history'], ['history'], ['nature', 'adventure', 'entertainment'], ['health_and_lifestyle'], ['entertainment'], ['nature', 'adventure'], ['history'], ['history'], ['history'], ['history', 'art_and_architecture', 'entertainment'], ['adventure'], ['nature'], ['health_and_lifestyle'], ['history', 'art_and_architecture', 'entertainment'], ['history'], ['nature'], ['history', 'art_and_architecture', 'entertainment'], ['history'], ['history', 'art_and_architecture', 'entertainment'], ['history'], ['history', 'art_and_architecture'], ['history'], ['nature', 'adventure'], ['history', 'art_and_architecture', 'entertainment'], ['history', 'art_and_architecture', 'entertainment'], ['history'], ['nature', 'adventure'], ['history'], ['nature', 'adventure'], ['history', 'art_and_architecture', 'entertainment'], ['adventure'], ['nature', 'adventure'], [], ['art_and_architecture', 'religious'], ['history', 'art_and_architecture'], ['art_and_architecture', 'nature', 'adventure'], ['adventure', 'entertainment'], ['adventure'], ['history', 'art_and_architecture', 'entertainment'], ['art_and_architecture', 'religious'], ['health_and_lifestyle'], ['history', 'art_and_architecture'], ['history'], ['adventure'], [], ['history'], ['nature', 'adventure'], ['art_and_architecture', 'religious'], ['history'], ['history'], ['adventure'], ['adventure'], ['nature', 'adventure'], ['nature'], ['history', 'art_and_architecture', 'entertainment'], ['history', 'art_and_architecture', 'entertainment'], ['history'], ['history'], ['art_and_architecture', 'religious'], ['adventure'], ['adventure'], ['history', 'art_and_architecture', 'entertainment'], ['history', 'art_and_architecture', 'entertainment'], ['art_and_architecture', 'nature', 'adventure'], ['history', 'art_and_architecture', 'entertainment'], ['history'], ['history', 'art_and_architecture', 'entertainment'], ['history', 'art_and_architecture'], ['history', 'art_and_architecture', 'entertainment'], ['history'], ['art_and_architecture', 'religious'], ['health_and_lifestyle'], ['adventure'], ['history', 'art_and_architecture'], ['history', 'art_and_architecture', 'entertainment'], ['art_and_architecture', 'religious'], ['history'], ['history', 'art_and_architecture', 'entertainment'], ['health_and_lifestyle'], ['history', 'art_and_architecture', 'entertainment'], ['adventure'], ['history'], ['history'], ['history'], ['history', 'art_and_architecture'], ['history'], ['nature', 'adventure'], ['nature'], ['history'], ['nature', 'adventure'], [], ['history'], ['nature', 'adventure'], ['history'], ['art_and_architecture', 'nature', 'adventure'], ['history', 'art_and_architecture', 'entertainment'], ['history'], ['history', 'art_and_architecture', 'entertainment'], ['adventure'], ['adventure'], ['adventure', 'entertainment'], ['health_and_lifestyle'], ['health_and_lifestyle'], ['history'], ['health_and_lifestyle'], ['history'], ['history', 'art_and_architecture', 'entertainment'], ['adventure'], ['art_and_architecture', 'nature', 'adventure'], ['adventure'], ['art_and_architecture', 'religious'], ['history'], ['nature', 'adventure'], ['history'], ['history'], ['entertainment'], ['adventure'], ['history', 'art_and_architecture'], ['history'], ['adventure', 'entertainment'], ['art_and_architecture', 'religious'], ['art_and_architecture', 'religious'], ['history'], ['adventure'], ['food'], ['nature', 'adventure'], ['history', 'art_and_architecture', 'entertainment'], ['history'], ['nature', 'adventure'], ['adventure', 'entertainment'], ['history'], ['history'], ['history', 'art_and_architecture', 'entertainment'], ['history', 'art_and_architecture', 'entertainment'], ['history'], ['history', 'art_and_architecture', 'entertainment'], ['history', 'art_and_architecture', 'entertainment'], ['adventure'], ['history', 'art_and_architecture', 'entertainment'], ['art_and_architecture', 'religious'], ['history'], ['art_and_architecture', 'religious'], ['nature', 'adventure'], ['history'], ['food'], ['history', 'art_and_architecture', 'entertainment'], ['history', 'art_and_architecture', 'entertainment'], ['nature', 'adventure', 'entertainment'], ['art_and_architecture', 'nature', 'adventure'], [], ['adventure'], ['history', 'art_and_architecture', 'entertainment'], ['adventure', 'entertainment'], ['adventure'], ['nature', 'adventure', 'entertainment'], ['adventure'], ['nature', 'adventure'], ['adventure'], ['history'], ['art_and_architecture', 'religious'], ['history', 'art_and_architecture', 'entertainment'], ['art_and_architecture', 'religious'], ['history'], ['history', 'art_and_architecture', 'entertainment'], ['art_and_architecture', 'nature', 'adventure'], ['history'], ['history', 'art_and_architecture', 'entertainment'], ['art_and_architecture', 'nature', 'adventure'], ['entertainment'], ['adventure'], ['history'], ['nature', 'adventure'], ['history'], ['history'], [], ['adventure'], ['nature'], ['history'], ['adventure'], ['nature', 'adventure'], ['adventure'], ['adventure', 'entertainment'], ['history'], ['art_and_architecture', 'nature', 'adventure'], ['nature', 'adventure', 'entertainment'], ['art_and_architecture', 'nature', 'adventure'], ['adventure'], ['history'], ['nature', 'adventure'], ['nature', 'adventure'], ['adventure'], ['history'], ['history'], ['history'], ['nature', 'adventure', 'entertainment'], ['entertainment'], ['art_and_architecture', 'religious'], ['art_and_architecture', 'religious'], ['adventure'], ['history', 'art_and_architecture'], ['history'], ['adventure'], ['adventure', 'entertainment'], ['art_and_architecture', 'religious'], ['history'], ['nature', 'adventure', 'entertainment'], ['nature', 'adventure'], [], ['art_and_architecture', 'religious'], ['adventure'], ['history'], ['entertainment'], ['history', 'art_and_architecture', 'entertainment'], ['health_and_lifestyle'], ['history', 'art_and_architecture', 'entertainment'], ['history'], ['history', 'art_and_architecture', 'entertainment'], ['art_and_architecture', 'religious'], ['health_and_lifestyle'], ['adventure'], ['adventure'], [], ['adventure'], ['history', 'art_and_architecture', 'entertainment'], ['health_and_lifestyle'], ['art_and_architecture', 'religious'], ['history', 'art_and_architecture'], ['history', 'art_and_architecture', 'entertainment'], ['history', 'art_and_architecture', 'entertainment'], ['health_and_lifestyle'], ['art_and_architecture', 'religious'], ['history', 'art_and_architecture', 'entertainment'], ['nature', 'adventure'], ['adventure'], ['health_and_lifestyle'], ['history', 'art_and_architecture'], ['art_and_architecture', 'religious'], ['history'], ['nature'], ['history', 'art_and_architecture', 'entertainment'], ['adventure'], ['art_and_architecture', 'religious'], [], ['health_and_lifestyle'], ['adventure', 'entertainment'], ['adventure'], ['nature', 'adventure'], ['history', 'art_and_architecture'], ['history'], ['history'], ['history', 'art_and_architecture'], ['art_and_architecture', 'religious'], ['nature', 'adventure'], ['nature'], ['history', 'art_and_architecture', 'entertainment'], ['history', 'art_and_architecture'], ['adventure'], ['history'], ['nature'], ['nature', 'adventure', 'entertainment'], ['adventure'], ['history'], ['adventure'], ['art_and_architecture', 'religious'], ['art_and_architecture', 'religious'], ['nature', 'adventure'], ['history'], ['history'], ['history'], ['history', 'art_and_architecture', 'entertainment'], ['history'], ['adventure'], ['adventure'], ['art_and_architecture', 'nature', 'adventure'], ['adventure'], ['history', 'art_and_architecture', 'entertainment'], ['history'], ['health_and_lifestyle'], ['history'], ['adventure'], [], ['history', 'art_and_architecture', 'entertainment'], ['adventure'], ['nature', 'adventure', 'entertainment'], ['nature', 'adventure'], ['health_and_lifestyle'], ['history', 'art_and_architecture'], ['adventure'], ['nature', 'adventure'], ['history', 'art_and_architecture', 'entertainment'], ['adventure'], ['adventure'], ['history'], ['history', 'art_and_architecture', 'entertainment'], ['health_and_lifestyle'], ['food'], ['adventure'], ['history'], ['nature', 'adventure'], ['history', 'art_and_architecture', 'entertainment'], ['adventure'], ['history'], ['health_and_lifestyle'], ['history'], ['nature', 'adventure'], ['history'], ['history'], ['history'], ['adventure'], ['history'], ['history'], ['history'], ['history'], ['nature'], ['nature', 'adventure'], ['adventure'], ['adventure'], ['history', 'art_and_architecture', 'entertainment'], ['adventure'], ['history'], ['history'], ['history', 'art_and_architecture', 'entertainment'], ['nature', 'adventure'], ['history'], ['art_and_architecture', 'nature', 'adventure'], ['nature', 'adventure', 'entertainment'], ['history'], ['history'], ['nature'], ['history'], ['history'], ['history', 'art_and_architecture', 'entertainment'], ['nature', 'adventure', 'entertainment'], ['adventure'], ['history'], ['adventure'], ['history', 'art_and_architecture'], ['history'], ['art_and_architecture', 'religious'], ['art_and_architecture', 'nature', 'adventure'], ['nature'], ['art_and_architecture', 'religious'], ['adventure'], ['history', 'art_and_architecture', 'entertainment'], ['adventure'], ['art_and_architecture', 'religious'], ['nature', 'adventure'], ['health_and_lifestyle'], ['history', 'art_and_architecture', 'entertainment'], ['art_and_architecture', 'religious'], ['adventure'], ['adventure'], ['adventure', 'entertainment'], ['health_and_lifestyle'], ['adventure', 'entertainment'], ['nature', 'adventure', 'entertainment'], ['art_and_architecture', 'religious'], ['adventure'], ['art_and_architecture', 'religious'], ['adventure'], ['history'], ['adventure'], ['nature', 'adventure', 'entertainment'], ['history'], ['history', 'art_and_architecture', 'entertainment'], ['art_and_architecture', 'religious'], ['history', 'art_and_architecture'], ['history', 'art_and_architecture', 'entertainment'], ['history', 'art_and_architecture', 'entertainment'], ['adventure'], ['adventure'], ['adventure'], ['adventure'], ['history'], ['art_and_architecture', 'nature', 'adventure'], ['adventure'], ['history', 'art_and_architecture'], ['adventure'], ['history', 'art_and_architecture', 'entertainment'], ['adventure'], ['art_and_architecture', 'religious'], ['history', 'art_and_architecture'], ['health_and_lifestyle'], ['adventure'], ['history', 'art_and_architecture', 'entertainment'], ['history'], ['history', 'art_and_architecture', 'entertainment'], ['history', 'art_and_architecture', 'entertainment'], ['entertainment'], ['nature', 'adventure'], ['history', 'art_and_architecture', 'entertainment'], ['history'], ['nature', 'adventure'], ['art_and_architecture', 'religious'], ['art_and_architecture', 'religious'], ['health_and_lifestyle'], ['health_and_lifestyle'], ['history'], ['history', 'art_and_architecture', 'entertainment'], ['history', 'art_and_architecture', 'entertainment'], ['history', 'art_and_architecture'], ['art_and_architecture', 'religious'], ['health_and_lifestyle'], ['history', 'art_and_architecture'], ['nature', 'adventure'], ['history', 'art_and_architecture', 'entertainment'], ['history', 'art_and_architecture', 'entertainment'], ['history'], ['history'], ['history'], ['nature', 'adventure', 'entertainment'], ['history', 'art_and_architecture', 'entertainment'], ['history'], ['history', 'art_and_architecture', 'entertainment'], [], ['history', 'art_and_architecture'], ['adventure'], ['history'], ['health_and_lifestyle'], ['art_and_architecture', 'nature', 'adventure'], ['history', 'art_and_architecture', 'entertainment'], ['history'], ['history', 'art_and_architecture', 'entertainment'], ['nature', 'adventure'], ['history'], ['nature', 'adventure', 'entertainment'], ['history'], ['health_and_lifestyle'], ['nature', 'entertainment'], ['art_and_architecture', 'religious'], ['history', 'art_and_architecture', 'entertainment'], [], ['adventure'], ['history'], ['history'], ['adventure'], ['nature', 'adventure'], ['history'], ['history'], ['entertainment'], ['health_and_lifestyle'], ['history'], ['history'], ['art_and_architecture', 'religious'], ['nature', 'adventure', 'entertainment'], ['history', 'art_and_architecture', 'entertainment'], ['history'], ['art_and_architecture', 'religious'], ['art_and_architecture', 'nature', 'adventure'], ['adventure'], ['art_and_architecture', 'religious'], ['adventure'], ['adventure'], ['history'], ['history'], ['nature', 'adventure'], ['history', 'art_and_architecture', 'entertainment'], ['history', 'art_and_architecture'], ['art_and_architecture', 'religious'], ['history'], ['history'], ['history', 'art_and_architecture', 'entertainment'], ['art_and_architecture', 'religious'], ['history', 'art_and_architecture', 'entertainment'], ['health_and_lifestyle'], ['adventure'], ['history'], ['adventure', 'entertainment'], ['adventure', 'entertainment'], ['adventure'], ['nature', 'adventure', 'entertainment'], ['art_and_architecture', 'religious'], ['art_and_architecture', 'nature', 'adventure'], ['adventure'], ['nature', 'adventure'], ['history', 'art_and_architecture', 'entertainment'], [], ['history'], ['adventure'], ['history', 'art_and_architecture', 'entertainment'], ['history'], ['history', 'art_and_architecture', 'entertainment'], ['history'], ['history'], ['history'], ['history'], ['history', 'art_and_architecture', 'entertainment'], ['nature'], ['history', 'art_and_architecture'], ['nature', 'adventure'], ['history', 'art_and_architecture'], ['history', 'art_and_architecture', 'entertainment'], [], ['history'], ['history'], ['history'], ['adventure'], ['nature'], ['history'], ['history'], ['history'], ['history', 'art_and_architecture', 'entertainment'], ['adventure'], ['nature', 'adventure'], ['adventure'], ['history'], ['art_and_architecture', 'religious'], ['history', 'art_and_architecture', 'entertainment'], ['history'], ['history'], ['history', 'art_and_architecture', 'entertainment'], ['history'], ['health_and_lifestyle'], ['history', 'art_and_architecture'], ['health_and_lifestyle'], ['adventure'], ['adventure', 'entertainment'], ['adventure'], ['adventure'], ['nature', 'adventure', 'entertainment'], ['history', 'art_and_architecture', 'entertainment'], ['industries'], ['history'], ['history', 'art_and_architecture', 'entertainment'], ['history'], ['art_and_architecture', 'religious'], ['history', 'art_and_architecture'], ['history'], ['history', 'art_and_architecture', 'entertainment'], ['history'], ['art_and_architecture', 'religious'], ['history'], ['history', 'art_and_architecture'], [], ['industries'], ['health_and_lifestyle'], ['adventure'], ['entertainment'], ['adventure'], ['history'], ['nature', 'adventure'], ['history', 'art_and_architecture', 'entertainment'], ['nature', 'adventure'], ['nature'], ['art_and_architecture', 'religious'], ['adventure'], ['history', 'art_and_architecture', 'entertainment'], ['history'], ['history'], ['history', 'art_and_architecture', 'entertainment'], ['adventure'], ['history'], ['health_and_lifestyle'], ['adventure'], ['nature', 'adventure', 'entertainment'], ['nature', 'adventure', 'entertainment'], ['adventure'], ['art_and_architecture', 'nature', 'adventure'], ['history'], ['history', 'art_and_architecture', 'entertainment'], ['history'], ['history'], ['history'], ['history'], ['nature', 'adventure'], ['history'], ['history'], ['history', 'art_and_architecture', 'entertainment'], ['adventure'], ['history'], ['art_and_architecture', 'religious'], [], ['health_and_lifestyle'], ['industries'], ['history'], ['history'], ['history'], ['history', 'art_and_architecture', 'entertainment'], ['history', 'art_and_architecture', 'entertainment'], ['adventure'], ['history'], ['history', 'art_and_architecture'], ['history'], ['adventure'], ['health_and_lifestyle'], ['history'], ['history'], ['adventure'], ['history'], ['history'], ['history'], ['adventure'], ['history', 'art_and_architecture'], ['history', 'art_and_architecture', 'entertainment'], ['nature', 'adventure'], ['history'], ['adventure'], ['art_and_architecture', 'nature', 'adventure'], ['nature', 'adventure'], ['history', 'art_and_architecture'], ['history'], ['nature'], ['history'], ['nature', 'adventure', 'entertainment'], ['history'], ['adventure'], ['history'], ['history'], ['history'], ['history'], ['nature', 'adventure', 'entertainment'], ['adventure', 'entertainment'], ['history'], ['history'], ['adventure', 'entertainment'], ['entertainment'], ['history', 'art_and_architecture'], ['history', 'art_and_architecture'], ['adventure'], ['art_and_architecture', 'religious'], ['nature', 'adventure'], ['art_and_architecture', 'religious'], ['art_and_architecture', 'religious'], ['art_and_architecture', 'religious'], ['history'], ['art_and_architecture', 'religious'], ['history'], ['adventure'], ['nature', 'adventure', 'entertainment'], ['art_and_architecture', 'religious'], ['adventure'], ['adventure'], ['adventure'], ['history'], ['nature', 'adventure', 'entertainment'], ['entertainment'], ['adventure', 'entertainment'], ['history'], ['art_and_architecture', 'religious'], ['nature', 'adventure'], ['health_and_lifestyle'], ['industries'], ['history'], ['history', 'art_and_architecture'], ['history', 'art_and_architecture'], [], ['history', 'art_and_architecture', 'entertainment'], ['history', 'art_and_architecture', 'entertainment'], ['nature', 'adventure', 'entertainment'], ['art_and_architecture', 'religious'], ['history'], ['history', 'art_and_architecture', 'entertainment'], ['history', 'art_and_architecture', 'entertainment'], ['history', 'art_and_architecture'], ['nature', 'adventure', 'entertainment'], ['nature'], ['adventure'], ['adventure', 'entertainment'], ['history'], ['history', 'art_and_architecture', 'entertainment'], ['art_and_architecture', 'religious'], ['history'], ['history', 'art_and_architecture', 'entertainment'], ['nature', 'adventure'], ['art_and_architecture', 'religious'], ['history'], ['history', 'art_and_architecture', 'entertainment'], ['history'], ['history'], ['food'], ['health_and_lifestyle'], ['history'], ['history', 'art_and_architecture', 'entertainment'], ['adventure'], ['history', 'art_and_architecture', 'entertainment'], ['history'], ['history'], ['history'], ['adventure', 'entertainment'], ['adventure'], ['art_and_architecture', 'religious'], ['nature'], ['health_and_lifestyle'], ['nature', 'adventure'], ['adventure'], ['entertainment'], ['art_and_architecture', 'religious'], ['nature', 'adventure', 'entertainment'], ['history'], ['health_and_lifestyle'], ['health_and_lifestyle'], ['adventure'], ['history'], ['history'], ['history', 'art_and_architecture', 'entertainment'], ['history'], ['history', 'art_and_architecture'], ['history'], ['nature', 'adventure'], ['adventure'], ['adventure'], [], ['nature', 'adventure', 'entertainment'], ['history', 'art_and_architecture'], ['history', 'art_and_architecture', 'entertainment'], ['history'], ['adventure'], ['history'], ['adventure'], ['adventure'], ['history'], ['history', 'art_and_architecture'], ['art_and_architecture', 'religious'], ['nature', 'adventure'], ['adventure'], ['adventure'], ['art_and_architecture', 'religious'], ['history', 'art_and_architecture', 'entertainment'], ['history'], ['history', 'art_and_architecture'], ['nature', 'adventure'], ['history'], ['adventure', 'entertainment'], ['history', 'art_and_architecture', 'entertainment'], ['history'], ['adventure', 'entertainment'], ['art_and_architecture', 'religious'], ['adventure', 'entertainment'], ['nature', 'adventure', 'entertainment'], ['history', 'art_and_architecture'], ['adventure'], ['history'], ['nature', 'adventure', 'entertainment'], ['history'], [], ['nature', 'adventure'], ['history'], ['adventure'], ['history'], ['history'], ['health_and_lifestyle'], ['history'], ['adventure'], ['adventure'], ['history'], ['history'], ['history'], ['history', 'art_and_architecture'], ['health_and_lifestyle'], ['nature', 'adventure'], ['nature', 'adventure'], ['history', 'art_and_architecture', 'entertainment'], ['history'], ['health_and_lifestyle'], ['history'], ['history'], ['history'], ['history', 'art_and_architecture', 'entertainment'], ['history'], ['history'], ['nature', 'adventure'], ['art_and_architecture', 'religious'], ['art_and_architecture', 'religious'], ['history', 'art_and_architecture', 'entertainment'], ['health_and_lifestyle'], ['nature', 'adventure'], ['history'], ['history', 'art_and_architecture'], ['art_and_architecture', 'religious'], ['history', 'art_and_architecture', 'entertainment'], ['history'], [], ['history'], ['nature', 'adventure'], ['history'], ['history'], ['nature', 'adventure'], ['nature'], ['history'], ['art_and_architecture', 'nature', 'adventure'], ['nature', 'adventure'], ['nature'], ['history', 'art_and_architecture', 'entertainment'], ['history'], ['nature', 'adventure'], ['entertainment'], ['history'], ['health_and_lifestyle'], ['art_and_architecture', 'nature', 'adventure'], ['art_and_architecture', 'religious'], ['history'], ['health_and_lifestyle'], ['art_and_architecture', 'religious'], ['history'], ['nature', 'adventure'], ['history', 'art_and_architecture', 'entertainment'], ['history', 'art_and_architecture', 'entertainment'], ['history'], ['art_and_architecture', 'religious'], ['history'], ['history'], ['art_and_architecture', 'religious'], ['history', 'art_and_architecture'], ['nature'], ['history', 'art_and_architecture'], ['adventure'], ['health_and_lifestyle'], ['adventure', 'entertainment'], ['history'], ['history', 'art_and_architecture', 'entertainment'], ['history', 'art_and_architecture'], ['history', 'art_and_architecture', 'entertainment'], ['history'], ['history'], ['history', 'art_and_architecture', 'entertainment'], ['nature'], ['history'], ['nature', 'adventure', 'entertainment'], ['history', 'art_and_architecture', 'entertainment'], ['history'], ['history'], ['history', 'art_and_architecture', 'entertainment'], ['history', 'art_and_architecture', 'entertainment'], ['health_and_lifestyle'], ['history'], ['history'], ['history'], ['nature', 'adventure', 'entertainment'], ['history', 'art_and_architecture', 'entertainment'], ['adventure'], ['health_and_lifestyle'], ['history'], ['history'], ['history'], ['history', 'art_and_architecture'], ['art_and_architecture', 'religious'], ['history', 'art_and_architecture', 'entertainment'], ['health_and_lifestyle'], ['history'], ['adventure'], ['adventure'], ['nature', 'adventure', 'entertainment'], ['history', 'art_and_architecture'], ['history'], ['adventure', 'entertainment', 'health_and_lifestyle'], ['history'], ['history', 'art_and_architecture'], ['history'], ['nature'], ['adventure'], ['adventure'], ['history', 'art_and_architecture', 'entertainment'], ['history'], ['history', 'art_and_architecture', 'entertainment'], ['industries'], ['history'], ['adventure'], ['nature', 'adventure'], ['history'], ['history'], ['history'], ['history', 'art_and_architecture', 'entertainment'], ['history', 'art_and_architecture', 'entertainment'], ['history'], ['history'], ['health_and_lifestyle'], ['art_and_architecture', 'nature', 'adventure'], ['history'], ['adventure'], ['history'], ['adventure'], ['art_and_architecture', 'religious'], ['health_and_lifestyle'], ['history', 'art_and_architecture'], ['history'], ['health_and_lifestyle'], ['art_and_architecture', 'religious'], ['health_and_lifestyle'], ['history'], ['history'], ['health_and_lifestyle'], ['history'], ['history', 'art_and_architecture'], ['history', 'art_and_architecture', 'entertainment'], ['history'], ['adventure'], ['history', 'art_and_architecture'], ['history'], ['entertainment'], ['history', 'art_and_architecture', 'entertainment'], ['entertainment'], ['nature'], ['nature', 'adventure'], ['industries'], ['history'], ['nature', 'adventure'], ['health_and_lifestyle'], ['art_and_architecture', 'religious'], ['adventure'], ['adventure'], ['entertainment'], ['history'], ['history', 'art_and_architecture', 'entertainment'], ['art_and_architecture', 'religious'], ['history', 'art_and_architecture'], ['history'], ['nature'], ['history', 'art_and_architecture', 'entertainment'], ['history', 'art_and_architecture', 'entertainment'], ['history'], ['health_and_lifestyle'], ['history'], ['nature'], ['history'], ['adventure'], ['history'], ['history'], ['art_and_architecture', 'religious'], ['history'], ['history'], ['nature', 'adventure'], ['nature', 'adventure', 'entertainment'], ['history'], ['history'], ['history', 'art_and_architecture'], ['art_and_architecture', 'religious'], ['health_and_lifestyle'], ['history'], [], ['history'], ['history'], ['history'], ['art_and_architecture', 'nature', 'adventure'], ['history', 'art_and_architecture'], ['history'], ['history'], ['nature'], ['history'], ['adventure'], ['entertainment'], ['health_and_lifestyle'], ['nature'], ['art_and_architecture', 'religious'], [], ['history', 'art_and_architecture'], ['history'], ['health_and_lifestyle'], ['history'], ['history'], ['history', 'art_and_architecture', 'entertainment'], ['history'], ['adventure'], ['history', 'art_and_architecture', 'entertainment'], ['history', 'art_and_architecture', 'entertainment'], ['nature', 'adventure'], [], ['history', 'art_and_architecture', 'entertainment'], ['history', 'art_and_architecture', 'entertainment'], ['nature', 'adventure'], ['history'], ['history', 'art_and_architecture'], ['art_and_architecture', 'religious'], ['history', 'art_and_architecture', 'entertainment'], ['adventure'], ['history', 'art_and_architecture', 'entertainment'], ['history', 'art_and_architecture', 'entertainment'], ['health_and_lifestyle'], ['art_and_architecture', 'religious'], ['art_and_architecture', 'religious'], ['history'], ['history', 'art_and_architecture', 'entertainment'], ['history'], ['history'], ['art_and_architecture', 'religious'], ['health_and_lifestyle'], ['nature', 'adventure'], ['health_and_lifestyle'], ['history'], ['history'], ['health_and_lifestyle'], ['history'], ['entertainment'], ['history', 'art_and_architecture', 'entertainment'], ['art_and_architecture', 'nature', 'adventure'], ['adventure'], ['art_and_architecture', 'religious'], ['history'], ['history', 'art_and_architecture', 'entertainment'], ['history'], ['adventure'], ['nature', 'adventure'], ['history'], ['history', 'art_and_architecture', 'entertainment'], ['health_and_lifestyle'], ['health_and_lifestyle'], ['history', 'art_and_architecture', 'entertainment'], ['nature', 'adventure'], ['history', 'art_and_architecture', 'entertainment'], ['adventure', 'entertainment'], ['adventure'], ['adventure'], ['art_and_architecture', 'religious'], ['history', 'art_and_architecture', 'entertainment'], ['health_and_lifestyle'], ['history'], ['adventure'], ['history'], ['art_and_architecture', 'religious'], ['history'], ['history'], ['history'], ['history'], ['history'], ['history'], ['nature', 'adventure'], ['history', 'art_and_architecture', 'adventure', 'religious'], ['history'], ['history'], ['adventure'], ['history', 'art_and_architecture', 'entertainment'], ['adventure'], ['history'], ['history'], ['history', 'art_and_architecture', 'entertainment'], ['industries'], ['food'], ['history', 'art_and_architecture', 'entertainment'], ['history', 'art_and_architecture'], ['history'], ['history'], ['adventure'], ['adventure'], ['history', 'art_and_architecture'], ['adventure'], ['history', 'art_and_architecture'], ['history'], ['adventure'], ['history'], ['adventure', 'entertainment'], ['health_and_lifestyle'], ['history', 'art_and_architecture', 'entertainment'], ['history', 'art_and_architecture'], ['nature', 'adventure'], ['history', 'art_and_architecture'], ['history', 'art_and_architecture', 'entertainment'], ['history'], ['health_and_lifestyle'], ['nature', 'adventure'], ['entertainment'], ['food'], ['entertainment'], ['health_and_lifestyle'], ['history'], ['history'], ['health_and_lifestyle'], ['history', 'art_and_architecture'], ['history'], ['adventure'], ['history'], ['adventure'], ['history'], ['history'], ['adventure'], ['history'], ['nature', 'adventure'], ['history'], ['health_and_lifestyle'], ['art_and_architecture', 'religious'], ['adventure', 'entertainment'], ['history'], ['history'], ['history'], ['history'], ['art_and_architecture', 'nature', 'adventure'], ['adventure', 'entertainment'], ['history'], [], ['history'], ['history'], ['nature', 'adventure'], ['adventure'], ['history'], ['nature', 'adventure', 'entertainment'], ['history', 'art_and_architecture', 'entertainment'], ['history'], ['nature', 'adventure'], ['history'], [], ['history'], ['history'], ['nature', 'adventure', 'entertainment'], ['adventure', 'entertainment'], ['history'], ['nature', 'adventure'], ['history'], ['history'], ['history', 'art_and_architecture', 'entertainment'], ['nature', 'adventure'], ['history'], ['history'], ['health_and_lifestyle'], ['history', 'art_and_architecture', 'entertainment'], ['history'], ['nature', 'adventure'], ['history'], ['history'], ['history'], ['history', 'art_and_architecture', 'entertainment'], ['history', 'art_and_architecture', 'entertainment'], ['history'], ['entertainment'], ['history'], ['nature', 'adventure', 'entertainment'], ['history', 'art_and_architecture', 'entertainment'], ['history', 'art_and_architecture', 'entertainment'], ['history', 'art_and_architecture', 'entertainment'], ['history'], ['history', 'art_and_architecture'], ['history', 'art_and_architecture'], ['nature', 'adventure'], ['nature', 'adventure'], ['history'], ['nature', 'adventure'], ['history', 'art_and_architecture', 'entertainment'], ['history'], ['history', 'art_and_architecture', 'entertainment'], ['nature', 'adventure'], ['history'], [], ['history'], ['history', 'art_and_architecture', 'entertainment'], ['health_and_lifestyle'], ['nature'], ['history'], ['adventure'], ['history', 'art_and_architecture'], ['adventure'], ['history'], ['nature', 'adventure'], ['industries'], ['history'], ['nature', 'adventure'], ['history'], ['history'], ['history'], ['health_and_lifestyle'], ['health_and_lifestyle'], ['art_and_architecture', 'religious'], ['nature', 'adventure'], ['history', 'art_and_architecture'], ['nature', 'adventure', 'entertainment'], ['history'], ['adventure'], ['history', 'art_and_architecture', 'entertainment'], ['adventure'], ['history', 'art_and_architecture', 'entertainment'], ['nature', 'adventure'], ['history', 'art_and_architecture'], ['history', 'art_and_architecture'], ['health_and_lifestyle'], ['nature', 'adventure', 'entertainment'], ['history'], ['history'], ['history'], ['adventure', 'entertainment'], ['health_and_lifestyle'], ['adventure', 'entertainment'], ['history'], ['history'], ['history', 'art_and_architecture'], ['history', 'art_and_architecture', 'entertainment'], [], ['entertainment'], ['adventure'], ['history', 'art_and_architecture'], ['history'], ['nature', 'adventure'], ['art_and_architecture', 'nature', 'adventure'], [], ['history'], ['history', 'art_and_architecture'], ['history', 'art_and_architecture'], ['adventure'], ['history'], ['history', 'art_and_architecture', 'entertainment'], ['history'], [], ['nature', 'adventure'], ['nature', 'adventure', 'entertainment'], ['history'], ['art_and_architecture', 'entertainment'], ['adventure'], ['history'], ['history', 'art_and_architecture'], ['art_and_architecture', 'nature', 'adventure'], ['adventure'], ['adventure'], ['nature', 'adventure', 'entertainment'], ['adventure'], ['adventure'], ['health_and_lifestyle'], ['history'], ['adventure'], ['history'], ['history', 'art_and_architecture', 'entertainment'], ['adventure'], ['adventure'], ['history'], ['adventure'], ['adventure', 'entertainment'], ['nature', 'adventure'], ['entertainment', 'food'], [], ['history'], ['history'], ['history', 'art_and_architecture'], ['adventure'], ['history'], ['history'], ['history'], ['entertainment'], ['history'], ['history', 'art_and_architecture', 'entertainment'], ['history'], ['adventure', 'entertainment'], ['history'], ['art_and_architecture', 'nature', 'adventure'], ['history'], ['nature', 'adventure'], ['adventure'], ['history', 'art_and_architecture', 'entertainment'], ['history'], ['art_and_architecture', 'religious'], ['nature', 'adventure'], ['history', 'art_and_architecture', 'entertainment'], ['adventure'], ['history'], ['health_and_lifestyle'], ['art_and_architecture', 'nature', 'adventure'], ['nature', 'adventure', 'entertainment'], ['history', 'art_and_architecture', 'entertainment'], ['history'], ['history'], ['adventure'], ['adventure'], ['history', 'art_and_architecture', 'entertainment'], ['history'], ['adventure'], ['history'], ['adventure'], ['adventure', 'entertainment'], ['nature', 'adventure'], ['history'], ['history'], ['history'], ['history', 'art_and_architecture'], ['history'], ['history'], ['history'], ['history'], ['history'], ['art_and_architecture', 'religious'], ['history', 'art_and_architecture', 'religious'], ['history', 'art_and_architecture'], ['history', 'art_and_architecture', 'entertainment'], ['history', 'art_and_architecture', 'entertainment'], ['nature', 'adventure'], ['history', 'art_and_architecture'], ['adventure'], ['art_and_architecture', 'religious'], ['history'], ['nature', 'adventure'], ['history', 'art_and_architecture'], [], ['history', 'art_and_architecture', 'entertainment'], ['history'], ['adventure'], [], ['history', 'art_and_architecture', 'entertainment'], ['adventure'], [], ['art_and_architecture', 'nature', 'adventure'], ['art_and_architecture', 'religious'], ['history'], ['art_and_architecture', 'religious'], ['history', 'art_and_architecture', 'entertainment'], ['adventure'], ['history', 'art_and_architecture'], ['history', 'art_and_architecture', 'entertainment'], ['art_and_architecture', 'nature', 'adventure'], ['adventure'], ['adventure'], ['nature', 'adventure', 'entertainment'], ['history', 'art_and_architecture', 'entertainment'], ['history'], ['entertainment'], ['entertainment'], ['history', 'art_and_architecture'], ['history', 'art_and_architecture'], ['health_and_lifestyle'], ['nature', 'adventure'], ['nature', 'adventure'], ['history', 'art_and_architecture'], ['adventure'], ['entertainment', 'food'], ['entertainment'], ['art_and_architecture', 'nature', 'adventure'], ['history', 'art_and_architecture'], ['history'], ['history'], ['nature', 'adventure'], ['history'], ['history'], ['history', 'art_and_architecture', 'entertainment'], ['art_and_architecture', 'entertainment'], ['history', 'art_and_architecture', 'entertainment'], ['history', 'art_and_architecture'], ['history', 'art_and_architecture', 'nature'], ['nature', 'adventure', 'entertainment'], ['history'], ['history'], ['history', 'art_and_architecture'], ['adventure'], ['adventure'], ['adventure'], ['nature'], ['entertainment'], ['health_and_lifestyle'], ['history', 'art_and_architecture', 'entertainment'], ['history', 'art_and_architecture'], ['history'], ['history'], ['history', 'art_and_architecture', 'religious'], ['adventure'], ['history', 'art_and_architecture', 'entertainment'], ['health_and_lifestyle'], ['history'], ['history'], ['history'], ['history', 'art_and_architecture', 'entertainment'], ['history'], [], ['history', 'art_and_architecture', 'entertainment'], ['nature', 'adventure'], ['history'], ['history', 'art_and_architecture'], ['history'], ['history', 'art_and_architecture'], ['history', 'art_and_architecture'], ['history', 'art_and_architecture'], ['adventure'], ['history', 'art_and_architecture', 'entertainment'], ['history'], [], ['history', 'art_and_architecture'], ['history'], ['entertainment'], ['history'], ['history'], ['history', 'art_and_architecture', 'entertainment'], [], ['nature', 'adventure'], ['nature', 'adventure', 'entertainment'], ['adventure', 'entertainment'], ['history', 'art_and_architecture'], ['history'], ['history'], ['adventure'], ['history'], ['history', 'art_and_architecture'], ['history', 'art_and_architecture'], ['adventure'], ['adventure'], ['nature', 'adventure'], ['nature', 'adventure'], ['art_and_architecture', 'religious'], ['history'], ['history'], ['history'], ['history'], ['art_and_architecture', 'nature', 'adventure'], ['nature', 'adventure'], ['adventure'], ['history'], ['history', 'art_and_architecture'], ['history', 'art_and_architecture', 'entertainment'], ['history'], ['art_and_architecture', 'religious'], ['adventure'], ['history'], ['adventure'], ['history', 'art_and_architecture'], ['history', 'art_and_architecture'], ['history'], ['adventure'], ['history'], ['history', 'art_and_architecture'], ['history'], ['history'], ['adventure'], [], ['history', 'art_and_architecture'], ['history'], ['art_and_architecture', 'religious'], ['history'], ['history', 'art_and_architecture'], ['adventure'], ['health_and_lifestyle'], ['adventure'], ['adventure'], ['history'], ['history', 'art_and_architecture', 'entertainment'], ['history'], ['adventure'], ['history'], ['adventure'], ['nature', 'adventure'], ['history'], ['history', 'art_and_architecture'], ['adventure'], ['history'], ['history', 'art_and_architecture', 'entertainment'], ['adventure'], ['history', 'art_and_architecture'], ['nature', 'adventure'], ['history'], ['history'], ['adventure', 'entertainment', 'health_and_lifestyle'], ['history'], ['nature', 'adventure'], ['adventure'], ['history', 'art_and_architecture'], ['history'], ['history', 'art_and_architecture', 'entertainment'], ['health_and_lifestyle'], ['history', 'art_and_architecture'], ['adventure'], ['adventure'], ['art_and_architecture', 'nature', 'adventure'], ['history'], ['history', 'art_and_architecture', 'entertainment'], ['history'], ['adventure'], ['nature', 'adventure'], ['history', 'art_and_architecture', 'entertainment'], ['entertainment'], ['history'], ['history'], ['history'], ['nature', 'adventure', 'entertainment'], ['nature', 'adventure', 'entertainment'], ['history'], ['history'], ['history'], ['history', 'art_and_architecture'], ['history'], ['history'], ['history'], ['nature'], ['history', 'art_and_architecture', 'entertainment'], ['adventure'], ['adventure'], ['nature'], ['history', 'art_and_architecture'], [], ['art_and_architecture', 'religious'], ['history', 'art_and_architecture', 'entertainment'], ['adventure'], ['history'], ['art_and_architecture', 'religious'], ['history'], ['history', 'art_and_architecture', 'entertainment'], ['history'], ['art_and_architecture', 'religious'], ['adventure'], ['history'], ['history', 'art_and_architecture', 'entertainment'], ['health_and_lifestyle'], ['adventure'], ['history', 'art_and_architecture'], ['history'], ['art_and_architecture', 'entertainment'], ['history', 'art_and_architecture'], ['nature', 'adventure'], ['entertainment'], ['entertainment'], ['history'], ['adventure'], ['nature', 'adventure'], ['history'], ['history'], ['health_and_lifestyle'], ['history'], ['history'], ['history', 'art_and_architecture'], ['adventure', 'entertainment'], ['history'], ['history', 'art_and_architecture'], ['history'], ['art_and_architecture', 'nature', 'adventure'], ['health_and_lifestyle'], ['adventure'], ['nature', 'adventure'], ['adventure'], ['history', 'art_and_architecture', 'entertainment'], ['entertainment'], ['health_and_lifestyle'], ['history'], ['adventure'], ['history'], ['health_and_lifestyle'], ['history'], ['history'], ['history', 'art_and_architecture', 'entertainment'], ['art_and_architecture', 'religious'], ['art_and_architecture', 'entertainment'], ['history'], ['history', 'art_and_architecture'], ['history'], ['history'], ['art_and_architecture', 'nature', 'adventure'], ['health_and_lifestyle'], ['history', 'art_and_architecture'], ['nature'], ['adventure', 'entertainment'], ['history', 'art_and_architecture', 'entertainment'], ['adventure'], ['adventure'], ['entertainment'], ['history', 'art_and_architecture', 'religious'], ['history', 'art_and_architecture', 'entertainment'], ['food'], ['entertainment'], ['nature', 'adventure', 'entertainment'], ['history', 'art_and_architecture'], ['nature', 'adventure'], ['history', 'art_and_architecture', 'nature'], ['history', 'art_and_architecture'], ['adventure'], ['history'], ['history'], ['adventure'], ['adventure'], ['art_and_architecture', 'nature', 'adventure'], ['history', 'art_and_architecture', 'entertainment'], ['history', 'art_and_architecture', 'entertainment'], ['nature', 'adventure', 'entertainment'], ['adventure'], ['history', 'art_and_architecture'], ['art_and_architecture', 'nature', 'adventure'], ['art_and_architecture', 'religious'], ['history'], ['nature'], [], ['history', 'art_and_architecture', 'entertainment'], ['adventure', 'entertainment'], ['art_and_architecture', 'religious'], ['history', 'art_and_architecture', 'entertainment'], ['health_and_lifestyle'], ['nature', 'adventure', 'entertainment'], ['history', 'art_and_architecture', 'entertainment'], ['entertainment'], ['history', 'art_and_architecture'], ['history'], ['history'], ['art_and_architecture', 'religious'], ['adventure'], ['art_and_architecture', 'religious'], ['history', 'art_and_architecture', 'entertainment'], ['nature', 'adventure'], ['history', 'art_and_architecture', 'entertainment'], ['health_and_lifestyle'], ['entertainment'], [], ['art_and_architecture', 'religious'], ['history', 'art_and_architecture'], ['nature'], ['adventure'], ['history', 'art_and_architecture', 'nature'], ['adventure'], ['history'], ['nature', 'adventure'], ['history'], ['adventure'], ['health_and_lifestyle'], ['nature', 'adventure', 'entertainment'], ['entertainment'], ['nature', 'adventure', 'entertainment'], ['nature', 'adventure', 'entertainment'], ['nature', 'adventure'], ['adventure'], ['history'], ['nature', 'adventure'], ['adventure'], ['history'], ['health_and_lifestyle'], ['entertainment'], ['history'], ['nature', 'adventure', 'entertainment'], ['adventure'], ['adventure'], ['history'], ['history'], ['adventure'], ['entertainment'], ['history'], ['history', 'art_and_architecture', 'entertainment'], ['history', 'art_and_architecture', 'entertainment'], ['entertainment'], ['art_and_architecture', 'entertainment'], ['history', 'art_and_architecture', 'entertainment'], ['entertainment'], ['nature', 'adventure', 'entertainment'], ['history'], ['nature', 'adventure'], ['history'], ['history', 'art_and_architecture', 'entertainment'], [], ['art_and_architecture', 'religious'], ['history'], ['history', 'art_and_architecture'], ['history', 'art_and_architecture'], ['history'], ['adventure', 'entertainment', 'health_and_lifestyle'], ['art_and_architecture', 'religious'], ['history'], ['art_and_architecture', 'religious'], ['history'], ['history'], ['history'], ['nature', 'adventure'], ['nature', 'adventure'], [], ['history'], ['nature', 'adventure'], ['health_and_lifestyle'], ['history'], ['art_and_architecture', 'religious'], ['nature', 'adventure'], ['health_and_lifestyle'], [], ['history', 'art_and_architecture'], ['nature', 'adventure'], ['nature', 'adventure'], ['nature', 'adventure'], ['history'], ['history', 'art_and_architecture', 'entertainment'], ['nature', 'adventure'], ['art_and_architecture', 'nature', 'adventure'], ['history'], ['nature', 'adventure'], ['adventure'], ['health_and_lifestyle'], ['nature', 'adventure'], ['history', 'art_and_architecture', 'entertainment'], ['history'], ['adventure'], ['history'], ['history'], ['history'], ['history'], ['history'], ['nature', 'adventure', 'entertainment'], ['history', 'art_and_architecture', 'entertainment'], [], ['nature', 'adventure'], ['history', 'art_and_architecture', 'entertainment'], ['adventure'], ['history', 'art_and_architecture', 'entertainment'], ['adventure'], [], ['history', 'art_and_architecture', 'entertainment'], ['history', 'art_and_architecture'], ['nature', 'adventure'], ['history'], ['history'], ['history'], ['nature'], ['adventure'], ['history'], ['nature', 'adventure', 'entertainment'], ['history', 'art_and_architecture', 'entertainment'], [], ['history', 'art_and_architecture', 'entertainment'], ['nature', 'adventure'], ['nature', 'adventure'], ['history', 'art_and_architecture'], ['history'], ['history', 'art_and_architecture'], ['history'], ['art_and_architecture', 'nature', 'adventure'], ['history'], ['history'], [], ['adventure'], ['history', 'art_and_architecture', 'entertainment'], [], ['health_and_lifestyle'], ['history'], ['history'], ['adventure'], ['history'], ['nature', 'adventure'], ['industries'], ['adventure', 'entertainment', 'health_and_lifestyle'], ['history'], ['history', 'art_and_architecture', 'entertainment'], ['adventure'], ['art_and_architecture', 'religious'], ['history'], ['history'], ['art_and_architecture', 'nature', 'adventure'], ['history', 'art_and_architecture', 'entertainment'], ['history', 'art_and_architecture', 'religious'], ['history', 'art_and_architecture'], ['industries'], ['entertainment'], ['entertainment'], ['entertainment'], ['art_and_architecture', 'nature', 'adventure'], ['adventure'], ['entertainment'], ['adventure'], ['history', 'art_and_architecture'], ['health_and_lifestyle'], ['adventure', 'entertainment', 'health_and_lifestyle'], ['adventure'], ['nature', 'entertainment'], ['history', 'art_and_architecture'], [], ['history', 'art_and_architecture'], ['health_and_lifestyle'], ['history', 'art_and_architecture'], ['entertainment'], ['history', 'art_and_architecture', 'religious'], ['adventure'], ['history', 'art_and_architecture', 'religious'], ['art_and_architecture', 'nature', 'adventure'], ['art_and_architecture', 'nature', 'adventure'], ['art_and_architecture', 'nature', 'adventure'], ['history', 'art_and_architecture', 'religious'], ['history', 'art_and_architecture'], ['adventure'], ['history', 'art_and_architecture'], ['history', 'art_and_architecture'], ['nature', 'adventure'], ['health_and_lifestyle'], ['art_and_architecture', 'religious'], ['adventure'], ['adventure'], ['nature'], ['adventure'], ['history', 'art_and_architecture', 'entertainment'], ['art_and_architecture', 'religious'], [], ['history', 'art_and_architecture'], ['history', 'art_and_architecture'], ['nature'], ['history', 'art_and_architecture', 'religious'], ['art_and_architecture', 'nature', 'adventure'], ['art_and_architecture', 'nature', 'adventure'], ['history', 'art_and_architecture', 'entertainment'], ['nature', 'adventure'], ['art_and_architecture', 'entertainment'], ['history'], ['history', 'art_and_architecture'], ['adventure'], ['art_and_architecture', 'entertainment'], ['nature', 'adventure'], ['nature', 'adventure', 'entertainment'], ['nature', 'adventure'], ['nature', 'adventure'], ['health_and_lifestyle'], ['history', 'art_and_architecture', 'entertainment'], ['history', 'art_and_architecture', 'entertainment'], ['history', 'art_and_architecture', 'entertainment'], [], ['entertainment'], ['art_and_architecture', 'religious'], ['nature', 'adventure'], [], ['history', 'art_and_architecture', 'religious'], ['history'], ['history'], ['history'], ['history'], ['health_and_lifestyle'], ['history', 'art_and_architecture', 'entertainment'], ['history'], ['art_and_architecture', 'religious'], ['art_and_architecture', 'religious'], ['history'], ['history', 'art_and_architecture'], ['history'], ['history', 'art_and_architecture', 'entertainment'], ['history'], ['history', 'art_and_architecture', 'entertainment'], ['nature'], ['health_and_lifestyle'], ['history'], ['nature', 'adventure'], ['history', 'art_and_architecture', 'entertainment'], ['history'], ['history'], ['history', 'art_and_architecture', 'entertainment'], ['history'], ['history'], ['health_and_lifestyle'], ['history', 'art_and_architecture', 'entertainment'], ['history'], ['history'], ['history'], ['adventure'], ['history', 'art_and_architecture'], ['health_and_lifestyle'], ['nature'], ['history'], ['history'], ['art_and_architecture', 'entertainment'], ['adventure'], ['health_and_lifestyle'], ['history'], ['history', 'art_and_architecture', 'entertainment'], ['history'], ['history', 'art_and_architecture'], ['history'], ['history'], ['history'], ['adventure'], [], ['history', 'art_and_architecture'], ['history'], ['adventure'], ['nature', 'adventure'], ['health_and_lifestyle'], ['history'], ['adventure'], ['adventure'], ['history'], ['adventure'], ['history'], ['entertainment'], ['history'], ['adventure'], ['history'], ['history'], ['history'], ['nature', 'adventure'], ['history'], ['art_and_architecture', 'religious'], ['history'], ['history', 'art_and_architecture', 'entertainment'], ['history', 'art_and_architecture', 'entertainment'], ['nature', 'adventure'], ['history'], ['history', 'art_and_architecture', 'entertainment'], ['adventure'], ['history'], ['history'], ['history', 'art_and_architecture', 'religious'], ['history'], ['history', 'art_and_architecture', 'nature'], ['history'], ['history', 'art_and_architecture', 'religious'], [], ['nature', 'adventure'], ['art_and_architecture', 'religious'], ['art_and_architecture', 'nature', 'adventure'], ['adventure'], ['health_and_lifestyle'], ['history'], ['history'], ['history'], ['art_and_architecture', 'nature', 'adventure'], ['history', 'art_and_architecture'], ['history'], ['history'], ['nature'], ['art_and_architecture', 'nature', 'adventure'], ['health_and_lifestyle'], ['history'], ['adventure'], ['history'], ['history'], ['history'], ['history', 'art_and_architecture'], ['art_and_architecture', 'entertainment'], ['history'], ['history', 'art_and_architecture', 'entertainment'], ['history', 'art_and_architecture', 'entertainment'], ['history'], ['art_and_architecture', 'religious'], ['history'], ['history'], ['history', 'art_and_architecture', 'entertainment'], ['adventure'], ['history'], ['history', 'art_and_architecture', 'religious'], ['history', 'art_and_architecture', 'entertainment'], ['nature', 'adventure'], ['history'], ['history', 'art_and_architecture', 'entertainment'], ['history', 'art_and_architecture', 'nature'], [], ['nature'], ['nature', 'adventure'], ['history', 'art_and_architecture', 'entertainment'], ['history'], ['history', 'art_and_architecture', 'entertainment'], ['adventure'], ['history', 'art_and_architecture', 'entertainment'], ['history', 'art_and_architecture', 'entertainment'], ['history'], ['nature', 'adventure'], ['health_and_lifestyle'], ['health_and_lifestyle'], ['adventure'], ['history'], ['history', 'art_and_architecture', 'entertainment'], ['history', 'art_and_architecture', 'entertainment'], ['history'], ['history'], ['history', 'art_and_architecture', 'entertainment'], ['health_and_lifestyle'], ['history'], ['health_and_lifestyle'], ['history', 'art_and_architecture', 'entertainment'], ['history', 'art_and_architecture'], ['history', 'art_and_architecture', 'entertainment'], ['health_and_lifestyle'], ['health_and_lifestyle'], ['art_and_architecture', 'religious'], ['adventure', 'entertainment'], ['history', 'art_and_architecture'], ['history', 'art_and_architecture', 'entertainment'], ['history'], ['entertainment'], ['nature'], ['history', 'art_and_architecture'], ['art_and_architecture', 'religious'], ['history'], ['history'], ['history', 'art_and_architecture'], ['health_and_lifestyle'], ['health_and_lifestyle'], ['history', 'art_and_architecture'], [], ['history', 'art_and_architecture', 'entertainment'], ['history'], ['history', 'art_and_architecture', 'entertainment'], ['history'], ['history'], ['history'], ['history'], ['history'], ['history'], ['history', 'art_and_architecture'], ['history'], ['history'], ['adventure'], ['history'], ['history'], ['history', 'art_and_architecture', 'nature'], ['history'], ['history'], ['adventure', 'entertainment'], ['history'], ['nature', 'adventure'], ['history'], [], ['history'], ['history'], ['history'], ['adventure'], ['history'], ['history', 'art_and_architecture'], ['nature', 'adventure'], ['history', 'art_and_architecture', 'entertainment'], ['nature'], ['history'], ['nature', 'adventure'], ['nature', 'adventure'], ['history'], ['history'], ['nature', 'adventure'], ['adventure'], ['history'], ['nature', 'adventure'], ['history'], ['history', 'art_and_architecture'], ['entertainment'], ['history', 'art_and_architecture'], ['history', 'art_and_architecture', 'entertainment'], ['history'], ['history'], ['health_and_lifestyle'], ['history'], ['history', 'art_and_architecture'], ['adventure', 'entertainment', 'health_and_lifestyle'], ['nature', 'adventure'], ['history'], ['history'], ['nature', 'entertainment'], ['history'], ['nature', 'adventure', 'entertainment'], ['history', 'art_and_architecture', 'entertainment'], ['history'], ['history'], ['history', 'art_and_architecture', 'entertainment'], ['history', 'art_and_architecture', 'entertainment'], ['history', 'art_and_architecture', 'entertainment'], ['art_and_architecture', 'nature', 'adventure'], ['history'], ['history'], [], ['nature', 'entertainment'], ['art_and_architecture', 'religious'], ['history', 'art_and_architecture', 'entertainment'], ['entertainment'], ['history'], ['history'], ['nature', 'adventure'], ['health_and_lifestyle'], ['adventure'], ['adventure'], ['history', 'art_and_architecture'], ['adventure'], ['history', 'art_and_architecture'], ['nature'], ['history'], ['nature', 'adventure'], ['history'], ['history'], ['history', 'art_and_architecture', 'entertainment'], ['nature', 'adventure'], ['history'], ['history'], ['art_and_architecture', 'religious'], [], ['adventure'], [], ['history'], ['health_and_lifestyle'], ['history'], ['history'], ['history', 'art_and_architecture'], ['history', 'art_and_architecture', 'entertainment'], ['history', 'art_and_architecture', 'entertainment'], ['history', 'art_and_architecture'], ['history', 'art_and_architecture'], ['history', 'art_and_architecture'], ['history', 'art_and_architecture'], ['nature', 'adventure'], ['history'], ['history'], ['history'], ['history'], ['history'], ['history'], ['nature', 'adventure'], ['history'], ['history'], ['history'], ['history'], ['history'], ['history', 'art_and_architecture'], ['nature', 'adventure', 'entertainment'], ['history'], ['history'], ['history', 'art_and_architecture'], ['history'], ['nature', 'adventure', 'entertainment'], ['history', 'art_and_architecture', 'entertainment'], ['adventure'], ['history'], ['history'], ['history', 'art_and_architecture', 'religious'], ['adventure'], ['adventure'], ['health_and_lifestyle'], ['adventure'], ['health_and_lifestyle'], ['nature'], ['nature', 'adventure'], ['history'], ['art_and_architecture', 'religious'], ['history', 'art_and_architecture'], ['history'], ['nature', 'adventure', 'entertainment'], [], ['history'], ['history'], ['adventure'], ['nature', 'adventure'], ['history', 'art_and_architecture'], ['history'], ['history', 'art_and_architecture', 'religious'], ['history'], ['adventure'], ['history'], ['adventure'], ['history', 'art_and_architecture', 'entertainment'], ['history'], ['history'], ['adventure'], ['history', 'art_and_architecture'], ['nature', 'adventure', 'entertainment'], ['history', 'art_and_architecture', 'entertainment'], ['history'], ['history'], ['adventure'], ['history'], ['history'], ['nature', 'adventure'], ['history'], ['history'], ['history', 'art_and_architecture'], ['nature', 'adventure'], ['history', 'art_and_architecture', 'entertainment'], ['history', 'art_and_architecture', 'entertainment'], ['history', 'art_and_architecture', 'entertainment'], ['history'], ['history'], ['adventure'], ['adventure'], ['history', 'art_and_architecture'], ['history'], ['history'], ['history', 'art_and_architecture', 'entertainment'], ['history'], ['history'], ['entertainment'], ['adventure'], ['history', 'art_and_architecture'], ['history', 'art_and_architecture', 'entertainment'], ['history'], ['history'], ['history'], ['history', 'art_and_architecture', 'entertainment'], ['nature', 'adventure'], ['history'], ['nature', 'adventure'], ['history'], ['nature', 'adventure'], ['nature', 'adventure'], ['nature', 'adventure'], ['entertainment'], ['history'], ['history', 'art_and_architecture', 'entertainment'], ['adventure'], ['art_and_architecture', 'religious'], ['history'], ['nature'], ['history'], ['nature', 'adventure'], ['history'], ['history'], [], ['history'], ['history'], ['history'], [], ['history', 'art_and_architecture'], ['adventure', 'entertainment', 'health_and_lifestyle'], ['history'], ['history'], ['entertainment', 'food'], ['adventure'], ['adventure'], [], ['adventure'], ['adventure'], ['history'], [], ['history', 'art_and_architecture'], ['adventure'], ['history'], ['history', 'art_and_architecture'], ['history'], [], ['history'], ['adventure'], ['history'], ['adventure'], ['history', 'art_and_architecture'], ['nature'], ['adventure'], ['history'], ['history'], [], ['adventure'], ['history', 'art_and_architecture', 'entertainment'], ['history'], ['history', 'art_and_architecture', 'entertainment'], ['history'], ['history', 'art_and_architecture'], ['adventure'], ['history'], [], ['history'], ['nature', 'adventure'], ['adventure'], ['history'], ['history'], ['health_and_lifestyle'], ['history', 'art_and_architecture'], ['adventure'], ['history'], ['history'], ['history'], ['adventure'], ['history'], ['nature'], ['adventure'], ['adventure'], ['adventure'], ['history'], ['history'], ['history'], ['history', 'art_and_architecture'], ['nature', 'adventure'], ['history'], ['nature', 'adventure', 'entertainment'], ['history'], ['history'], ['history'], ['adventure'], ['history'], ['adventure', 'entertainment'], [], ['nature', 'adventure', 'entertainment'], ['nature', 'adventure'], ['nature', 'adventure'], ['nature', 'adventure'], ['adventure'], ['history', 'art_and_architecture', 'entertainment'], ['adventure'], ['adventure'], ['adventure', 'entertainment'], ['history'], ['nature', 'adventure'], ['history', 'art_and_architecture', 'entertainment'], ['history'], [], ['history', 'art_and_architecture', 'religious'], ['nature', 'adventure'], ['history', 'art_and_architecture', 'religious'], ['adventure', 'entertainment'], ['history'], ['art_and_architecture', 'religious'], ['history'], ['food'], [], ['history'], ['art_and_architecture', 'nature', 'adventure'], ['history', 'art_and_architecture', 'entertainment'], ['history'], ['nature'], ['history', 'art_and_architecture'], ['history'], ['history'], ['nature', 'adventure'], ['adventure'], ['history', 'art_and_architecture', 'entertainment'], ['history'], ['nature', 'adventure', 'entertainment'], ['history', 'art_and_architecture', 'entertainment'], ['history'], ['adventure', 'entertainment'], ['nature', 'adventure', 'entertainment'], [], ['history'], ['health_and_lifestyle'], ['history'], ['history', 'art_and_architecture', 'entertainment'], ['history'], ['adventure'], ['adventure'], ['history'], ['history'], ['adventure'], ['industries'], ['adventure'], [], ['history'], ['history'], ['adventure'], ['adventure', 'entertainment'], ['history'], ['entertainment'], ['history'], ['adventure'], ['entertainment'], ['nature', 'adventure', 'entertainment'], [], ['history'], ['history'], ['adventure', 'entertainment', 'health_and_lifestyle'], ['entertainment'], [], ['nature', 'adventure'], [], ['nature', 'adventure', 'entertainment'], ['history'], ['history'], ['food'], ['history'], ['nature', 'adventure'], ['history'], [], ['nature', 'adventure'], ['history', 'art_and_architecture', 'entertainment'], ['nature', 'adventure'], ['adventure'], ['nature', 'adventure'], ['history', 'art_and_architecture', 'entertainment'], ['nature', 'adventure'], ['history'], ['history', 'art_and_architecture'], ['history'], [], ['history'], ['nature', 'adventure', 'entertainment'], [], ['nature', 'adventure'], ['nature', 'adventure'], ['history'], ['adventure'], ['health_and_lifestyle'], ['nature', 'adventure'], ['history', 'art_and_architecture'], ['history'], ['adventure'], ['adventure'], ['nature', 'adventure'], ['history', 'art_and_architecture', 'religious'], ['nature', 'adventure', 'entertainment'], ['history'], ['nature', 'adventure', 'entertainment'], ['history'], ['adventure', 'entertainment'], ['entertainment'], ['adventure'], ['history'], ['art_and_architecture', 'religious'], ['history'], ['art_and_architecture', 'religious'], ['history'], ['adventure'], ['history', 'art_and_architecture'], ['history'], ['history'], ['history'], ['history'], ['history'], ['history', 'art_and_architecture', 'religious'], ['adventure'], ['nature', 'adventure', 'entertainment'], ['adventure'], [], ['adventure'], ['nature', 'adventure', 'entertainment'], [], ['adventure'], ['nature', 'adventure'], ['history', 'art_and_architecture', 'entertainment'], ['adventure'], ['art_and_architecture', 'religious'], ['history', 'art_and_architecture', 'entertainment'], ['nature', 'adventure'], ['nature', 'adventure'], ['art_and_architecture', 'nature', 'adventure'], ['nature', 'adventure'], ['history'], ['history'], ['history'], ['adventure'], ['adventure'], ['entertainment'], ['history'], [], ['history'], ['history'], ['history'], ['history', 'art_and_architecture', 'entertainment'], ['art_and_architecture', 'religious'], ['history', 'art_and_architecture', 'entertainment'], ['history', 'art_and_architecture'], ['history', 'art_and_architecture'], ['adventure'], ['history', 'art_and_architecture', 'nature'], ['entertainment'], ['history'], ['history', 'art_and_architecture', 'entertainment'], ['history'], ['history', 'art_and_architecture'], ['history', 'art_and_architecture'], ['adventure'], ['adventure', 'entertainment', 'health_and_lifestyle'], ['history'], ['history'], ['nature', 'adventure'], ['adventure', 'entertainment'], ['history'], ['history'], ['history', 'art_and_architecture', 'entertainment'], ['history'], ['history', 'art_and_architecture', 'entertainment'], ['nature', 'adventure', 'entertainment'], ['history'], ['nature', 'adventure'], ['history'], ['history', 'art_and_architecture', 'religious'], ['nature', 'adventure'], ['history', 'art_and_architecture'], ['adventure'], ['nature'], ['history'], ['history', 'art_and_architecture'], ['history'], ['health_and_lifestyle'], ['entertainment'], ['adventure'], ['adventure'], ['history', 'art_and_architecture', 'entertainment'], ['history', 'art_and_architecture', 'religious'], [], ['history', 'art_and_architecture', 'religious'], ['history', 'art_and_architecture', 'religious'], ['history', 'art_and_architecture'], ['adventure', 'entertainment'], ['adventure'], ['history'], [], ['adventure'], ['nature'], ['history', 'art_and_architecture', 'religious'], ['history', 'art_and_architecture', 'religious'], ['nature', 'adventure'], ['history'], ['history', 'art_and_architecture', 'entertainment'], ['entertainment', 'food'], ['adventure'], ['nature', 'adventure', 'entertainment']]\n"
     ]
    }
   ],
   "source": [
    "print(super_genre_list)"
   ]
  },
  {
   "cell_type": "code",
   "execution_count": 72,
   "id": "562cd0ea",
   "metadata": {},
   "outputs": [],
   "source": [
    "dataset['genre']=super_genre_list"
   ]
  },
  {
   "cell_type": "code",
   "execution_count": 73,
   "id": "40e2a33e",
   "metadata": {},
   "outputs": [
    {
     "name": "stdout",
     "output_type": "stream",
     "text": [
      "                                    title  history  art_and_architecture  \\\n",
      "0                        Boudhanath Stupa     True                  True   \n",
      "1                   Phewa Tal (Fewa Lake)    False                 False   \n",
      "2                               Sarangkot    False                 False   \n",
      "3                    Swayambhunath Temple     True                  True   \n",
      "4                               Poon Hill    False                 False   \n",
      "...                                   ...      ...                   ...   \n",
      "3308  SITA (Travel Corporation India Ltd)     True                 False   \n",
      "3309                       Himalayan Hike     True                  True   \n",
      "3310                               Harilo    False                 False   \n",
      "3311                           Heli Sight    False                 False   \n",
      "3312                            River Fun    False                 False   \n",
      "\n",
      "      nature  adventure  entertainment  health_and_lifestyle   food  \\\n",
      "0      False      False          False                 False  False   \n",
      "1       True      False          False                 False  False   \n",
      "2       True      False          False                 False  False   \n",
      "3      False      False          False                 False  False   \n",
      "4       True      False          False                 False  False   \n",
      "...      ...        ...            ...                   ...    ...   \n",
      "3308   False      False          False                 False  False   \n",
      "3309   False      False           True                 False  False   \n",
      "3310   False      False           True                 False   True   \n",
      "3311   False       True          False                 False  False   \n",
      "3312    True       True           True                 False  False   \n",
      "\n",
      "      industries  religious    latitude  longitude  \\\n",
      "0          False       True  27.7215062  85.359809   \n",
      "1          False      False  28.2116268  83.932296   \n",
      "2          False      False  28.2443761  83.944564   \n",
      "3          False       True  27.7149298  85.288146   \n",
      "4          False      False   28.400195  83.671789   \n",
      "...          ...        ...         ...        ...   \n",
      "3308       False      False         NaN        NaN   \n",
      "3309       False      False         NaN        NaN   \n",
      "3310       False      False         NaN        NaN   \n",
      "3311       False      False         NaN        NaN   \n",
      "3312       False      False         NaN        NaN   \n",
      "\n",
      "                                               genre  \n",
      "0         [history, art_and_architecture, religious]  \n",
      "1                                           [nature]  \n",
      "2                                           [nature]  \n",
      "3         [history, art_and_architecture, religious]  \n",
      "4                                           [nature]  \n",
      "...                                              ...  \n",
      "3308                                       [history]  \n",
      "3309  [history, art_and_architecture, entertainment]  \n",
      "3310                           [entertainment, food]  \n",
      "3311                                     [adventure]  \n",
      "3312              [nature, adventure, entertainment]  \n",
      "\n",
      "[3313 rows x 13 columns]\n"
     ]
    }
   ],
   "source": [
    "print(dataset)"
   ]
  },
  {
   "cell_type": "code",
   "execution_count": 74,
   "id": "dd0ee31f",
   "metadata": {},
   "outputs": [
    {
     "name": "stdout",
     "output_type": "stream",
     "text": [
      "                                    title  \\\n",
      "0                        Boudhanath Stupa   \n",
      "1                   Phewa Tal (Fewa Lake)   \n",
      "2                               Sarangkot   \n",
      "3                    Swayambhunath Temple   \n",
      "4                               Poon Hill   \n",
      "...                                   ...   \n",
      "3308  SITA (Travel Corporation India Ltd)   \n",
      "3309                       Himalayan Hike   \n",
      "3310                               Harilo   \n",
      "3311                           Heli Sight   \n",
      "3312                            River Fun   \n",
      "\n",
      "                                               genre    latitude  longitude  \n",
      "0         [history, art_and_architecture, religious]  27.7215062  85.359809  \n",
      "1                                           [nature]  28.2116268  83.932296  \n",
      "2                                           [nature]  28.2443761  83.944564  \n",
      "3         [history, art_and_architecture, religious]  27.7149298  85.288146  \n",
      "4                                           [nature]   28.400195  83.671789  \n",
      "...                                              ...         ...        ...  \n",
      "3308                                       [history]         NaN        NaN  \n",
      "3309  [history, art_and_architecture, entertainment]         NaN        NaN  \n",
      "3310                           [entertainment, food]         NaN        NaN  \n",
      "3311                                     [adventure]         NaN        NaN  \n",
      "3312              [nature, adventure, entertainment]         NaN        NaN  \n",
      "\n",
      "[3313 rows x 4 columns]\n"
     ]
    }
   ],
   "source": [
    "dataset=dataset[['title','genre','latitude','longitude']]\n",
    "print(dataset)"
   ]
  },
  {
   "cell_type": "code",
   "execution_count": 75,
   "id": "df65ac7c",
   "metadata": {},
   "outputs": [
    {
     "name": "stdout",
     "output_type": "stream",
     "text": [
      "                                    title  \\\n",
      "0                        Boudhanath Stupa   \n",
      "1                   Phewa Tal (Fewa Lake)   \n",
      "2                               Sarangkot   \n",
      "3                    Swayambhunath Temple   \n",
      "4                               Poon Hill   \n",
      "...                                   ...   \n",
      "3308  SITA (Travel Corporation India Ltd)   \n",
      "3309                       Himalayan Hike   \n",
      "3310                               Harilo   \n",
      "3311                           Heli Sight   \n",
      "3312                            River Fun   \n",
      "\n",
      "                                               genre    latitude  longitude  \\\n",
      "0         [history, art_and_architecture, religious]  27.7215062  85.359809   \n",
      "1                                           [nature]  28.2116268  83.932296   \n",
      "2                                           [nature]  28.2443761  83.944564   \n",
      "3         [history, art_and_architecture, religious]  27.7149298  85.288146   \n",
      "4                                           [nature]   28.400195  83.671789   \n",
      "...                                              ...         ...        ...   \n",
      "3308                                       [history]         NaN        NaN   \n",
      "3309  [history, art_and_architecture, entertainment]         NaN        NaN   \n",
      "3310                           [entertainment, food]         NaN        NaN   \n",
      "3311                                     [adventure]         NaN        NaN   \n",
      "3312              [nature, adventure, entertainment]         NaN        NaN   \n",
      "\n",
      "      dest_id  \n",
      "0           1  \n",
      "1           2  \n",
      "2           3  \n",
      "3           4  \n",
      "4           5  \n",
      "...       ...  \n",
      "3308     3309  \n",
      "3309     3310  \n",
      "3310     3311  \n",
      "3311     3312  \n",
      "3312     3313  \n",
      "\n",
      "[3313 rows x 5 columns]\n"
     ]
    }
   ],
   "source": [
    "# assign IDs to the places\n",
    "id_list=list(range(1,len(dataset)+1))\n",
    "dataset['dest_id']=id_list\n",
    "print(dataset)"
   ]
  },
  {
   "cell_type": "code",
   "execution_count": 76,
   "id": "9bb71961",
   "metadata": {},
   "outputs": [
    {
     "name": "stdout",
     "output_type": "stream",
     "text": [
      "      dest_id                                title  \\\n",
      "0           1                     Boudhanath Stupa   \n",
      "1           2                Phewa Tal (Fewa Lake)   \n",
      "2           3                            Sarangkot   \n",
      "3           4                 Swayambhunath Temple   \n",
      "4           5                            Poon Hill   \n",
      "...       ...                                  ...   \n",
      "3308     3309  SITA (Travel Corporation India Ltd)   \n",
      "3309     3310                       Himalayan Hike   \n",
      "3310     3311                               Harilo   \n",
      "3311     3312                           Heli Sight   \n",
      "3312     3313                            River Fun   \n",
      "\n",
      "                                               genre    latitude  longitude  \n",
      "0         [history, art_and_architecture, religious]  27.7215062  85.359809  \n",
      "1                                           [nature]  28.2116268  83.932296  \n",
      "2                                           [nature]  28.2443761  83.944564  \n",
      "3         [history, art_and_architecture, religious]  27.7149298  85.288146  \n",
      "4                                           [nature]   28.400195  83.671789  \n",
      "...                                              ...         ...        ...  \n",
      "3308                                       [history]         NaN        NaN  \n",
      "3309  [history, art_and_architecture, entertainment]         NaN        NaN  \n",
      "3310                           [entertainment, food]         NaN        NaN  \n",
      "3311                                     [adventure]         NaN        NaN  \n",
      "3312              [nature, adventure, entertainment]         NaN        NaN  \n",
      "\n",
      "[3313 rows x 5 columns]\n"
     ]
    }
   ],
   "source": [
    "dataset=dataset[['dest_id','title','genre','latitude','longitude']]\n",
    "print(dataset)"
   ]
  },
  {
   "cell_type": "code",
   "execution_count": 78,
   "id": "5fdb571c",
   "metadata": {},
   "outputs": [
    {
     "name": "stdout",
     "output_type": "stream",
     "text": [
      "      dest_id                                title  \\\n",
      "0           1                     Boudhanath Stupa   \n",
      "1           2                Phewa Tal (Fewa Lake)   \n",
      "2           3                            Sarangkot   \n",
      "3           4                 Swayambhunath Temple   \n",
      "4           5                            Poon Hill   \n",
      "...       ...                                  ...   \n",
      "3308     3309  SITA (Travel Corporation India Ltd)   \n",
      "3309     3310                       Himalayan Hike   \n",
      "3310     3311                               Harilo   \n",
      "3311     3312                           Heli Sight   \n",
      "3312     3313                            River Fun   \n",
      "\n",
      "                                           genre    latitude  longitude  \n",
      "0         history:art_and_architecture:religious  27.7215062  85.359809  \n",
      "1                                         nature  28.2116268  83.932296  \n",
      "2                                         nature  28.2443761  83.944564  \n",
      "3         history:art_and_architecture:religious  27.7149298  85.288146  \n",
      "4                                         nature   28.400195  83.671789  \n",
      "...                                          ...         ...        ...  \n",
      "3308                                     history         NaN        NaN  \n",
      "3309  history:art_and_architecture:entertainment         NaN        NaN  \n",
      "3310                          entertainment:food         NaN        NaN  \n",
      "3311                                   adventure         NaN        NaN  \n",
      "3312              nature:adventure:entertainment         NaN        NaN  \n",
      "\n",
      "[3313 rows x 5 columns]\n"
     ]
    }
   ],
   "source": [
    "for i in range(len(dataset)):\n",
    "    genre_string=\"\"\n",
    "    for entry in dataset.loc[i,\"genre\"]:\n",
    "        genre_string += ':' + str(entry)\n",
    "    dataset.loc[i,\"genre\"]=genre_string[1:]\n",
    "\n",
    "print(dataset)"
   ]
  },
  {
   "cell_type": "code",
   "execution_count": 79,
   "id": "e736ea2f",
   "metadata": {},
   "outputs": [],
   "source": [
    "dataset.to_csv(\"test_dataset_np.csv\",index=None)"
   ]
  },
  {
   "cell_type": "code",
   "execution_count": 80,
   "id": "25ca89c1",
   "metadata": {},
   "outputs": [],
   "source": [
    "# we have a desired format now\n",
    "# still, we need to update the img_url column\n",
    "# and, add the scraped latitude and longitude too"
   ]
  },
  {
   "cell_type": "code",
   "execution_count": 81,
   "id": "cea15c80",
   "metadata": {},
   "outputs": [
    {
     "name": "stdout",
     "output_type": "stream",
     "text": [
      "                                    title        avg_rating  voted_by  \\\n",
      "0                        Boudhanath Stupa               4.5      8897   \n",
      "1                   Phewa Tal (Fewa Lake)               4.5      2988   \n",
      "2                               Sarangkot               4.5      2199   \n",
      "3                    Swayambhunath Temple               4.5      6203   \n",
      "4                               Poon Hill               4.5      1477   \n",
      "...                                   ...               ...       ...   \n",
      "3308  SITA (Travel Corporation India Ltd)  4.77190569744597         0   \n",
      "3309                       Himalayan Hike  4.77190569744597         0   \n",
      "3310                               Harilo  4.77190569744597         0   \n",
      "3311                           Heli Sight  4.77190569744597         0   \n",
      "3312                            River Fun  4.77190569744597         0   \n",
      "\n",
      "                                                 genre history  \\\n",
      "0                                  ['Religious Sites']    True   \n",
      "1                                  ['Bodies of Water']   False   \n",
      "2                                        ['Mountains']   False   \n",
      "3                                  ['Religious Sites']    True   \n",
      "4                                        ['Mountains']   False   \n",
      "...                                                ...     ...   \n",
      "3308              ['Multi-day Tours', 'Balloon Rides']    True   \n",
      "3309                 ['City Tours', 'Multi-day Tours']    True   \n",
      "3310                               ['Farmers Markets']   False   \n",
      "3311  ['Parasailing & Paragliding', 'Multi-day Tours']   False   \n",
      "3312    ['River Rafting & Tubing', 'Taxis & Shuttles']   False   \n",
      "\n",
      "      art_and_architecture  nature  adventure  entertainment  \\\n",
      "0                     True   False      False          False   \n",
      "1                    False    True      False          False   \n",
      "2                    False    True      False          False   \n",
      "3                     True   False      False          False   \n",
      "4                    False    True      False          False   \n",
      "...                    ...     ...        ...            ...   \n",
      "3308                 False   False      False          False   \n",
      "3309                  True   False      False           True   \n",
      "3310                 False   False      False           True   \n",
      "3311                 False   False       True          False   \n",
      "3312                 False   False       True          False   \n",
      "\n",
      "      health_and_lifestyle   food  industries  religious    latitude  \\\n",
      "0                    False  False       False       True  27.7215062   \n",
      "1                    False  False       False      False  28.2116268   \n",
      "2                    False  False       False      False  28.2443761   \n",
      "3                    False  False       False       True  27.7149298   \n",
      "4                    False  False       False      False   28.400195   \n",
      "...                    ...    ...         ...        ...         ...   \n",
      "3308                 False  False       False      False         NaN   \n",
      "3309                 False  False       False      False         NaN   \n",
      "3310                 False   True       False      False         NaN   \n",
      "3311                 False  False       False      False         NaN   \n",
      "3312                 False  False       False      False         NaN   \n",
      "\n",
      "      longitude  \n",
      "0     85.359809  \n",
      "1     83.932296  \n",
      "2     83.944564  \n",
      "3     85.288146  \n",
      "4     83.671789  \n",
      "...         ...  \n",
      "3308        NaN  \n",
      "3309        NaN  \n",
      "3310        NaN  \n",
      "3311        NaN  \n",
      "3312        NaN  \n",
      "\n",
      "[3313 rows x 15 columns]\n"
     ]
    }
   ],
   "source": [
    "# dataset_with_200_latlong=pd.read_csv(\"../Datasets/destinations_of_ktm_updated_200_latlong.csv\")\n",
    "dataset_with_500_latlong=pd.read_csv(\"../Datasets/destinations_of_nepal_updated_500_latlong.csv\")\n",
    "print(dataset_with_500_latlong)"
   ]
  },
  {
   "cell_type": "code",
   "execution_count": 82,
   "id": "088c5c68",
   "metadata": {},
   "outputs": [
    {
     "name": "stdout",
     "output_type": "stream",
     "text": [
      "     dest_id                                title  \\\n",
      "0          1                     Boudhanath Stupa   \n",
      "1          2                Phewa Tal (Fewa Lake)   \n",
      "2          3                            Sarangkot   \n",
      "3          4                 Swayambhunath Temple   \n",
      "4          5                            Poon Hill   \n",
      "..       ...                                  ...   \n",
      "496      497    Unique Path Trekking & Expedition   \n",
      "497      498              Travel Maker South Asia   \n",
      "498      499  Nepal Alibaba Treks & Tours Pvt Ltd   \n",
      "499      500                  Alpine Ramble Treks   \n",
      "500      501      Info Nepal Treks and Expedition   \n",
      "\n",
      "                                          genre    latitude  longitude  \n",
      "0        history:art_and_architecture:religious  27.7215062  85.359809  \n",
      "1                                        nature  28.2116268  83.932296  \n",
      "2                                        nature  28.2443761  83.944564  \n",
      "3        history:art_and_architecture:religious  27.7149298  85.288146  \n",
      "4                                        nature   28.400195  83.671789  \n",
      "..                                          ...         ...        ...  \n",
      "496  history:art_and_architecture:entertainment  27.7165406  85.307559  \n",
      "497              art_and_architecture:religious  27.7134196  85.311246  \n",
      "498                                     history  27.7375441  85.302841  \n",
      "499                                     history  27.7191624  85.306492  \n",
      "500  history:art_and_architecture:entertainment    27.71673  85.307607  \n",
      "\n",
      "[501 rows x 5 columns]\n"
     ]
    }
   ],
   "source": [
    "# import those into the new dataset\n",
    "dataset[\"latitude\"]=dataset_with_500_latlong[\"latitude\"]\n",
    "dataset[\"longitude\"]=dataset_with_500_latlong[\"longitude\"]\n",
    "print(dataset[:501])"
   ]
  },
  {
   "cell_type": "code",
   "execution_count": 84,
   "id": "01bd96a7",
   "metadata": {},
   "outputs": [
    {
     "name": "stdout",
     "output_type": "stream",
     "text": [
      "                                    title  avg_rating  voted_by  \\\n",
      "0                        Boudhanath Stupa    4.500000      8897   \n",
      "1                   Phewa Tal (Fewa Lake)    4.500000      2988   \n",
      "2                               Sarangkot    4.500000      2199   \n",
      "3                    Swayambhunath Temple    4.500000      6203   \n",
      "4                               Poon Hill    4.500000      1477   \n",
      "...                                   ...         ...       ...   \n",
      "3308  SITA (Travel Corporation India Ltd)    4.771906         0   \n",
      "3309                       Himalayan Hike    4.771906         0   \n",
      "3310                               Harilo    4.771906         0   \n",
      "3311                           Heli Sight    4.771906         0   \n",
      "3312                            River Fun    4.771906         0   \n",
      "\n",
      "                                                 genre  history  \\\n",
      "0                                  ['Religious Sites']     True   \n",
      "1                                  ['Bodies of Water']    False   \n",
      "2                                        ['Mountains']    False   \n",
      "3                                  ['Religious Sites']     True   \n",
      "4                                        ['Mountains']    False   \n",
      "...                                                ...      ...   \n",
      "3308              ['Multi-day Tours', 'Balloon Rides']     True   \n",
      "3309                 ['City Tours', 'Multi-day Tours']     True   \n",
      "3310                               ['Farmers Markets']    False   \n",
      "3311  ['Parasailing & Paragliding', 'Multi-day Tours']    False   \n",
      "3312    ['River Rafting & Tubing', 'Taxis & Shuttles']    False   \n",
      "\n",
      "      art_and_architecture  nature  adventure  entertainment  \\\n",
      "0                     True   False      False          False   \n",
      "1                    False    True      False          False   \n",
      "2                    False    True      False          False   \n",
      "3                     True   False      False          False   \n",
      "4                    False    True      False          False   \n",
      "...                    ...     ...        ...            ...   \n",
      "3308                 False   False      False          False   \n",
      "3309                  True   False      False           True   \n",
      "3310                 False   False      False           True   \n",
      "3311                 False   False       True          False   \n",
      "3312                 False   False       True          False   \n",
      "\n",
      "      health_and_lifestyle   food  industries  religious   latitude  \\\n",
      "0                    False  False       False       True  27.721506   \n",
      "1                    False  False       False      False  28.211627   \n",
      "2                    False  False       False      False  28.244376   \n",
      "3                    False  False       False       True  27.714834   \n",
      "4                    False  False       False      False  27.670427   \n",
      "...                    ...    ...         ...        ...        ...   \n",
      "3308                 False  False       False      False        NaN   \n",
      "3309                 False  False       False      False        NaN   \n",
      "3310                 False   True       False      False        NaN   \n",
      "3311                 False  False       False      False        NaN   \n",
      "3312                 False  False       False      False        NaN   \n",
      "\n",
      "      longitude                                            img_url  \n",
      "0     85.359809  data:image/jpeg;base64,/9j/4AAQSkZJRgABAQAAAQA...  \n",
      "1     83.932296  data:image/jpeg;base64,/9j/4AAQSkZJRgABAQAAAQA...  \n",
      "2     83.944564  data:image/jpeg;base64,/9j/4AAQSkZJRgABAQAAAQA...  \n",
      "3     85.288191  data:image/jpeg;base64,/9j/4AAQSkZJRgABAQAAAQA...  \n",
      "4     85.323960  data:image/jpeg;base64,/9j/4AAQSkZJRgABAQAAAQA...  \n",
      "...         ...                                                ...  \n",
      "3308        NaN                                                NaN  \n",
      "3309        NaN                                                NaN  \n",
      "3310        NaN                                                NaN  \n",
      "3311        NaN                                                NaN  \n",
      "3312        NaN                                                NaN  \n",
      "\n",
      "[3313 rows x 16 columns]\n"
     ]
    }
   ],
   "source": [
    "# also import the base64 image to the new dataset\n",
    "dataset_with_img=pd.read_csv(\"../Datasets/destinations_of_nepal_updated_with_image_url.csv\")\n",
    "print(dataset_with_img)"
   ]
  },
  {
   "cell_type": "code",
   "execution_count": 85,
   "id": "8fe13d77",
   "metadata": {},
   "outputs": [
    {
     "name": "stdout",
     "output_type": "stream",
     "text": [
      "      dest_id                                title  \\\n",
      "0           1                     Boudhanath Stupa   \n",
      "1           2                Phewa Tal (Fewa Lake)   \n",
      "2           3                            Sarangkot   \n",
      "3           4                 Swayambhunath Temple   \n",
      "4           5                            Poon Hill   \n",
      "...       ...                                  ...   \n",
      "3308     3309  SITA (Travel Corporation India Ltd)   \n",
      "3309     3310                       Himalayan Hike   \n",
      "3310     3311                               Harilo   \n",
      "3311     3312                           Heli Sight   \n",
      "3312     3313                            River Fun   \n",
      "\n",
      "                                           genre    latitude  longitude  \\\n",
      "0         history:art_and_architecture:religious  27.7215062  85.359809   \n",
      "1                                         nature  28.2116268  83.932296   \n",
      "2                                         nature  28.2443761  83.944564   \n",
      "3         history:art_and_architecture:religious  27.7149298  85.288146   \n",
      "4                                         nature   28.400195  83.671789   \n",
      "...                                          ...         ...        ...   \n",
      "3308                                     history         NaN        NaN   \n",
      "3309  history:art_and_architecture:entertainment         NaN        NaN   \n",
      "3310                          entertainment:food         NaN        NaN   \n",
      "3311                                   adventure         NaN        NaN   \n",
      "3312              nature:adventure:entertainment         NaN        NaN   \n",
      "\n",
      "                                                img_url  \n",
      "0     data:image/jpeg;base64,/9j/4AAQSkZJRgABAQAAAQA...  \n",
      "1     data:image/jpeg;base64,/9j/4AAQSkZJRgABAQAAAQA...  \n",
      "2     data:image/jpeg;base64,/9j/4AAQSkZJRgABAQAAAQA...  \n",
      "3     data:image/jpeg;base64,/9j/4AAQSkZJRgABAQAAAQA...  \n",
      "4     data:image/jpeg;base64,/9j/4AAQSkZJRgABAQAAAQA...  \n",
      "...                                                 ...  \n",
      "3308                                                NaN  \n",
      "3309                                                NaN  \n",
      "3310                                                NaN  \n",
      "3311                                                NaN  \n",
      "3312                                                NaN  \n",
      "\n",
      "[3313 rows x 6 columns]\n"
     ]
    }
   ],
   "source": [
    "dataset[\"img_url\"]=dataset_with_img[\"img_url\"]\n",
    "print(dataset)"
   ]
  },
  {
   "cell_type": "code",
   "execution_count": 86,
   "id": "b1ab1df1",
   "metadata": {},
   "outputs": [],
   "source": [
    "dataset.to_csv(\"final_destinations_of_nepal.csv\",index=None)"
   ]
  },
  {
   "cell_type": "code",
   "execution_count": 87,
   "id": "a462e5da",
   "metadata": {},
   "outputs": [],
   "source": [
    "# Now time to look for discrepancies :\\ "
   ]
  },
  {
   "cell_type": "code",
   "execution_count": 88,
   "id": "0b955642",
   "metadata": {},
   "outputs": [],
   "source": [
    "dataset_500=dataset[:501]"
   ]
  },
  {
   "cell_type": "code",
   "execution_count": 89,
   "id": "fcf48907",
   "metadata": {},
   "outputs": [
    {
     "name": "stdout",
     "output_type": "stream",
     "text": [
      "396\n",
      "396\n",
      "     dest_id                                title  \\\n",
      "33        34             Annapurna Base Camp Trek   \n",
      "39        40                Jomsom Muktinath Trek   \n",
      "41        42                    Mahaboudha Temple   \n",
      "46        47  Jangchub Choeling Tibetan Monastery   \n",
      "59        60              Thrangu Tashi Monastery   \n",
      "..       ...                                  ...   \n",
      "460      461                 Visit Himalaya Treks   \n",
      "467      468                  Nepal Ayurveda Home   \n",
      "470      471     A1 Excursion - Private Day Tours   \n",
      "473      474                    Tramping Himalaya   \n",
      "477      478          Couch Adventure Nepal (CAN)   \n",
      "\n",
      "                                          genre    latitude  longitude  \\\n",
      "33                             nature:adventure  27.6934331  85.297686   \n",
      "39                             nature:adventure  27.6934331  85.297686   \n",
      "41       history:art_and_architecture:religious  27.6934331  85.297686   \n",
      "46       history:art_and_architecture:religious  27.6934331  85.297686   \n",
      "59       history:art_and_architecture:religious  27.6931555  85.052502   \n",
      "..                                          ...         ...        ...   \n",
      "460                                   adventure  27.7216531  85.242464   \n",
      "467                        health_and_lifestyle   27.721728  85.347533   \n",
      "470                                      nature  27.7216531  85.242464   \n",
      "473                            nature:adventure  27.7216531  85.242464   \n",
      "477  history:art_and_architecture:entertainment  27.7216531  85.242464   \n",
      "\n",
      "                                               img_url  \n",
      "33   data:image/jpeg;base64,/9j/4AAQSkZJRgABAQAAAQA...  \n",
      "39   data:image/jpeg;base64,/9j/4AAQSkZJRgABAQAAAQA...  \n",
      "41   data:image/jpeg;base64,/9j/4AAQSkZJRgABAQAAAQA...  \n",
      "46   data:image/jpeg;base64,/9j/4AAQSkZJRgABAQAAAQA...  \n",
      "59   data:image/jpeg;base64,/9j/4AAQSkZJRgABAQAAAQA...  \n",
      "..                                                 ...  \n",
      "460                                                NaN  \n",
      "467                                                NaN  \n",
      "470                                                NaN  \n",
      "473                                                NaN  \n",
      "477                                                NaN  \n",
      "\n",
      "[105 rows x 6 columns]\n"
     ]
    }
   ],
   "source": [
    "# first look for the duplicate entries of lat,long\n",
    "\n",
    "print(len(dataset_500['latitude'].unique()))\n",
    "print(len(dataset_500['longitude'].unique()))\n",
    "\n",
    "#print out the duplicated latitude,longitude\n",
    "duplicate_list = dataset_500[dataset_500.duplicated(['latitude','longitude'])]\n",
    "print(duplicate_list)"
   ]
  },
  {
   "cell_type": "code",
   "execution_count": 90,
   "id": "9677aeb2",
   "metadata": {},
   "outputs": [
    {
     "name": "stdout",
     "output_type": "stream",
     "text": [
      "['Annapurna Base Camp Trek', 'Jomsom Muktinath Trek', 'Mahaboudha Temple', 'Jangchub Choeling Tibetan Monastery', 'Thrangu Tashi Monastery', 'Patan Royal Palace', 'Kumari Chowk', 'Kali Gandaki River', 'Basantapur Tower', 'Kedareshwar Mahadev Mani Temple', 'Bhimsen Temple', 'Kala Pattar', 'Muktinath Temple', 'Kafuche Lake', 'Kathesimbu Stupa', 'Ghar Gompa', 'Mount Climber Trekking Garment Pvt Ltd', 'Old Gurung Museum', 'Valle del Naar', 'Indreshwar Mahadev Temple', 'Panchakanya Temple', 'ISKCON', 'Bhat-Bhateni Supermarket and Departmental Store', 'Kwa Bahal', 'Ganesh Mandir', 'Dharapani Temple', 'Manakamana Mandir Temple', 'Tea Garden', 'Hari Shanker Temple', 'Santaneshwar Mahadev Temple', 'Marpha Monastery', 'Ram Mandir', 'Degutalle Mandir Temple', 'Temple and Statue of King Narasimha', 'Bhinchhebahal', 'Military Museum', 'Nagarkot View Tower', 'Gorakha Nath Temple Gorkha', 'Tharu Cultural Museum and Research Cente', 'Peace Pagoda', 'Taleju Temple', 'Chobhar Caves', 'Kali Temple', 'Vatsala Durga Temple', 'Hidden Valley (Khumjung Green Valley)', 'Aviation Museum', 'Woodcraft Gallery', 'The Thrangu Monastery', 'Bhairavnath Temple', 'Sundarijal Water Falls', 'Shiva Mandir Temple', 'Bagwati Mandir Temple', 'Big Bell', 'Mrigasthali Deer Park', 'Casino Everest', 'Maju Dega Mandir Temple', 'Annapurna Circuit', 'Kala Patthar', 'Monasterio Tibetano Boudhanat', 'Kalikasthan Temple', 'Vishnu Mandir Temple', 'Dolma Treks', 'Chyasin Dega Temple', 'Chinese Temple', 'Gorakhnath Mandir Temple', 'Ugrachandi and Bhairav Statues', 'Indoor Sports Arena', 'Mahendreswor Mandir Temple', 'Manaslu', 'Ashok Stupa', 'Stone Vishnu Mandir Temple', 'Maha Vishnu Mandir Temple', 'Woodcraft Gallery', 'Aviation Museum', 'Sri Lanka Temple', 'Karmaraja Mahavihara', 'Bhimsen Sthan Temple', 'Kotilingeshwor Mahadev Mandir Temple', 'Manjushree Temple', 'National Art Gallery', 'Buddha Park', 'Krishna Temple', 'Indian Monastery', 'Bijeshwari Temple', 'Shobabaghwati', 'Mahadev Mandir Temple', 'Ram Chandra Temple', 'Espace de visite', 'Gorkha Museum', 'Panauti Museum', 'Kailashnath Mahadev Statue', 'Living Traditions Museum', 'Indrayani Temple', 'Piazza Tachupal', 'Bhimsen Temple', 'Gopi Nath Temple', 'Happy Treks Nepal - Day Tours', 'Himalaya Holiday Service', 'Saara Tourism Nepal-Travel Advisor in Nepal', 'Dreams Spa', 'Visit Himalaya Treks', 'Nepal Ayurveda Home', 'A1 Excursion - Private Day Tours', 'Tramping Himalaya', 'Couch Adventure Nepal (CAN)']\n"
     ]
    }
   ],
   "source": [
    "# titles of the destinations in the duplicated list\n",
    "names_of_repeated_destinations=duplicate_list['title'].tolist()\n",
    "print(names_of_repeated_destinations)"
   ]
  },
  {
   "cell_type": "code",
   "execution_count": 91,
   "id": "211b1c6d",
   "metadata": {},
   "outputs": [
    {
     "name": "stderr",
     "output_type": "stream",
     "text": [
      "/tmp/ipykernel_8269/263136968.py:15: DeprecationWarning: find_elements_by_* commands are deprecated. Please use find_elements() instead\n",
      "  inputElems = driver.find_elements_by_css_selector('input[name=q]')\n"
     ]
    },
    {
     "name": "stdout",
     "output_type": "stream",
     "text": [
      "['https://www.google.com/maps/search/Annapurna+Base+Camp+Trek+kathmandu/@27.7216531,85.2424638,11z/data=!3m1!4b1', 'https://www.google.com/maps/search/Jomsom+Muktinath+Trek+kathmandu/@27.7154876,85.3109758,18z/data=!3m1!4b1', 'https://www.google.com/maps/search/Mahaboudha+Temple+kathmandu/@27.6874221,85.3023271,14z', 'https://www.google.com/maps/place/Drugon+Jangchu+Monastery/@27.7098228,85.3078516,17z/data=!3m1!4b1!4m5!3m4!1s0x39eb18fe946b9615:0xad5c08cb4e256e9!8m2!3d27.7098284!4d85.3100089', 'https://www.google.com/maps/search/Thrangu+Tashi+Monastery+kathmandu/@27.6468486,85.3320288,11z', 'https://www.google.com/maps/place/%E0%A4%A8%E0%A4%BE%E0%A4%B0%E0%A4%BE%E0%A4%AF%E0%A4%A3%E0%A4%B9%E0%A4%BF%E0%A4%9F%E0%A5%80+%E0%A4%A6%E0%A4%B0%E0%A4%B5%E0%A4%BE%E0%A4%B0+%E0%A4%B8%E0%A4%82%E0%A4%97%E0%A5%8D%E0%A4%B0%E0%A4%B9%E0%A4%BE%E0%A4%B2%E0%A4%AF/@27.7149634,85.3161398,17z/data=!3m1!4b1!4m5!3m4!1s0x39eb191ca61437a3:0x13b2693c01ed2c18!8m2!3d27.7149699!4d85.3183294', 'https://www.google.com/maps/search/Kumari+Chowk+kathmandu/@27.7100604,85.2897522,13z/data=!3m1!4b1', 'https://www.google.com/maps/search/Kali+Gandaki+River+kathmandu/@28.4058172,83.2453874,8z/data=!3m1!4b1', 'https://www.google.com/maps/search/Basantapur+Tower+kathmandu/@27.7020812,85.3099626,14z/data=!3m1!4b1', 'https://www.google.com/maps/search/Kedareshwar+Mahadev+Mani+Temple+kathmandu/@27.7217192,85.3475327,13z/data=!3m1!4b1', 'https://www.google.com/maps/search/Bhimsen+Temple+kathmandu/@27.7217192,85.3475327,13z/data=!3m1!4b1', 'https://www.google.com/maps/place/Kalapatthar+Trekking+Store/@27.7157195,85.3078271,17z/data=!3m1!4b1!4m5!3m4!1s0x39eb18fcc6bb0099:0x8c1a2d0ff300f734!8m2!3d27.7157195!4d85.3100158', 'https://www.google.com/maps/place/Muktinath+Temple+Tour/@27.7186175,85.3113974,17z/data=!3m1!4b1!4m5!3m4!1s0x39eb18fd438eaceb:0x14f06fee4def626a!8m2!3d27.7186512!4d85.3136081', 'https://www.google.com/maps/place/Kapuche+Glacier+Lake/@28.4451293,84.1143579,17z/data=!3m1!4b1!4m5!3m4!1s0x399585e6aa17fc77:0xae5aa223ca1cfefc!8m2!3d28.4451293!4d84.1165466', 'https://www.google.com/maps/place/%E0%A4%AC%E0%A5%8C%E0%A4%A6%E0%A5%8D%E0%A4%A7%E0%A4%A8%E0%A4%BE%E0%A4%A5+%E0%A4%B8%E0%A5%8D%E0%A4%A4%E0%A5%81%E0%A4%AA/@27.7215062,85.3598087,17z/data=!3m1!4b1!4m5!3m4!1s0x39eb1bda4a951f0f:0x3ddabb234891c3bd!8m2!3d27.7215062!4d85.3619974', 'https://www.google.com/maps/search/Ghar+Gompa+kathmandu/@27.7217192,85.3475327,13z/data=!3m1!4b1', 'https://www.google.com/maps/search/Mount+Climber+Trekking+Garment+Pvt+Ltd+kathmandu/@27.9500372,84.092843,9z/data=!3m1!4b1', 'https://www.google.com/maps/search/Old+Gurung+Museum+kathmandu/@27.7217192,85.3475327,13z/data=!3m1!4b1', 'https://www.google.com/maps/search/Valle+del+Naar+kathmandu/@27.6099915,85.0969279,10z/data=!3m1!4b1', 'https://www.google.com/maps/place/%E0%A4%95%E0%A4%BF%E0%A4%B0%E0%A4%BE%E0%A4%A4%E0%A5%87%E0%A4%B6%E0%A5%8D%E0%A4%B5%E0%A4%B0+%E0%A4%AE%E0%A4%B9%E0%A4%BE%E0%A4%A6%E0%A5%87%E0%A4%B5/@27.7125183,85.3478123,17z/data=!3m1!4b1!4m5!3m4!1s0x39eb197c017a504f:0xbde0c25924fa7adb!8m2!3d27.7126559!4d85.3500435', 'https://www.google.com/maps/search/Panchakanya+Temple+kathmandu/@27.7217192,85.3475327,13z/data=!3m1!4b1', 'https://www.google.com/maps/search/ISKCON+kathmandu/@27.7216531,85.2424638,11z/data=!3m1!4b1', 'https://www.google.com/maps/search/Bhat-Bhateni+Supermarket+and+Departmental+Store+kathmandu/@27.7216531,85.2424638,11z/data=!3m1!4b1', 'https://www.google.com/maps/search/Kwa+Bahal+kathmandu/@27.7115179,85.3086357,17z', 'https://www.google.com/maps/search/Ganesh+Mandir+kathmandu/@27.7216531,85.2424638,11z/data=!3m1!4b1', 'https://www.google.com/maps/search/Dharapani+Temple+kathmandu/@27.7217192,85.3475327,13z/data=!3m1!4b1', 'https://www.google.com/maps/search/Manakamana+Mandir+Temple+kathmandu/@27.6973966,85.2845802,13z/data=!3m1!4b1', 'https://www.google.com/maps/search/Tea+Garden+kathmandu/@27.7217192,85.3475327,13z/data=!3m1!4b1', 'https://www.google.com/maps/search/Hari+Shanker+Temple+kathmandu/@27.7217192,85.3475327,13z/data=!3m1!4b1', 'https://www.google.com/maps/search/Santaneshwar+Mahadev+Temple+kathmandu/@27.7216531,85.2424638,11z/data=!3m1!4b1', 'https://www.google.com/maps/search/Marpha+Monastery+kathmandu/@27.7217192,85.3475327,13z/data=!3m1!4b1', 'https://www.google.com/maps/place/%E0%A4%B0%E0%A4%BE%E0%A4%AE+%E0%A4%AE%E0%A4%A8%E0%A5%8D%E0%A4%A6%E0%A4%BF%E0%A4%B0,+%E0%A4%95%E0%A4%BE%E0%A4%A0%E0%A4%AE%E0%A4%BE%E0%A4%A1%E0%A5%8C%E0%A4%81+44600/@27.7067144,85.3384039,17z/data=!4m5!3m4!1s0x39eb197619c8357d:0xe2c2441d7bd829ef!8m2!3d27.7067176!4d85.3405751', 'https://www.google.com/maps/search/Degutalle+Mandir+Temple+kathmandu/@27.7217192,85.3475327,13z/data=!3m1!4b1', 'https://www.google.com/maps/search/Temple+and+Statue+of+King+Narasimha+kathmandu/@27.7216531,85.2424638,11z/data=!3m1!4b1', 'https://www.google.com/maps/search/Bhinchhebahal+kathmandu/@27.6869749,85.3186869,14z/data=!3m1!4b1', 'https://www.google.com/maps/search/Military+Museum+kathmandu/@27.7217192,85.3475327,13z/data=!3m1!4b1', 'https://www.google.com/maps/place/%E0%A4%A8%E0%A4%97%E0%A4%B0%E0%A4%95%E0%A5%8B%E0%A4%9F+%E0%A4%AD%E0%A5%8D%E0%A4%AF%E0%A5%81+%E0%A4%9F%E0%A4%BE%E0%A4%B5%E0%A4%B0/@27.692168,85.5177437,17z/data=!3m1!4b1!4m5!3m4!1s0x39eb05df7d3eff5b:0xdf125feb925fb7d4!8m2!3d27.6921895!4d85.5199332', 'https://www.google.com/maps/search/Gorakha+Nath+Temple+Gorkha+kathmandu/@27.7217192,85.3475327,13z/data=!3m1!4b1', 'https://www.google.com/maps/place/%E0%A4%A5%E0%A4%BE%E0%A4%B0%E0%A5%81+%E0%A4%B8%E0%A4%BE%E0%A4%82%E0%A4%B8%E0%A5%8D%E0%A4%95%E0%A5%83%E0%A4%A4%E0%A4%BF%E0%A4%95+%E0%A4%B8%E0%A4%82%E0%A4%97%E0%A5%8D%E0%A4%B0%E0%A4%B9%E0%A4%BE%E0%A4%B2%E0%A4%AF+%E0%A4%B0+%E0%A4%85%E0%A4%A8%E0%A5%81%E0%A4%B8%E0%A4%A8%E0%A5%8D%E0%A4%A7%E0%A4%BE%E0%A4%A8+%E0%A4%95%E0%A5%87%E0%A4%A8%E0%A5%8D%E0%A4%A6%E0%A5%8D%E0%A4%B0/@27.5823711,84.5055259,17z/data=!3m1!4b1!4m5!3m4!1s0x3994eed89d952c57:0x94dda73e987ccdff!8m2!3d27.5823711!4d84.5077146', 'https://www.google.com/maps/place/Kathmandu+peace+pagoda/@27.6649227,85.2433507,17z/data=!4m5!3m4!1s0x39eb231368b64b69:0x9fe856f9a2957111!8m2!3d27.6649227!4d85.2455394', 'https://www.google.com/maps/place/%E0%A4%A4%E0%A4%B2%E0%A5%87%E0%A4%9C%E0%A5%81+%E0%A4%AD%E0%A4%B5%E0%A4%BE%E0%A4%A8%E0%A5%80+%E0%A4%AE%E0%A4%A8%E0%A5%8D%E0%A4%A6%E0%A4%BF%E0%A4%B0/@27.7049154,85.305858,17z/data=!3m1!4b1!4m5!3m4!1s0x39eb1856025cc86b:0x25c94a661e5bf981!8m2!3d27.7049074!4d85.3080443', 'https://www.google.com/maps/search/Chobhar+Caves+kathmandu/@27.7216531,85.2424638,11z/data=!3m1!4b1', 'https://www.google.com/maps/search/Kali+Temple+kathmandu/@27.7217192,85.3475327,13z/data=!3m1!4b1', 'https://www.google.com/maps/search/Vatsala+Durga+Temple+kathmandu/@27.7216531,85.2424638,11z/data=!3m1!4b1', 'https://www.google.com/maps/place/Green+Valley+Nepal+Treks+%26+Research+Hub+P.+Ltd+(Everest+Base+Camp+Trek,+Manaslu+Trek)/@27.7175379,85.3097847,17z/data=!3m1!4b1!4m5!3m4!1s0x39eb18fd03989327:0xe749678042ecfe6a!8m2!3d27.7175379!4d85.3119734', 'https://www.google.com/maps/search/Aviation+Museum+kathmandu/@27.6937953,85.35128,17z/data=!3m1!4b1', 'https://www.google.com/maps/place/Woodcraft+Gallery/@27.7154575,85.3066668,17z/data=!3m1!4b1!4m5!3m4!1s0x39eb19ff950c2a55:0x3d0e41083593b6a2!8m2!3d27.7154949!4d85.3088654', 'https://www.google.com/maps/place/Thrangu+Monastery/@27.7226042,85.3595192,17z/data=!3m1!4b1!4m5!3m4!1s0x39eb1bdbbc511d13:0xc0e1e2257732988e!8m2!3d27.7226042!4d85.3617079', 'https://www.google.com/maps/place/%E0%A4%AD%E0%A5%88%E0%A4%B0%E0%A4%B5%E0%A4%A8%E0%A4%BE%E0%A4%A5+%E0%A4%AE%E0%A4%A8%E0%A5%8D%E0%A4%A6%E0%A4%BF%E0%A4%B0+(%F0%91%90%A8%F0%91%90%BF%F0%91%90%AE%F0%91%90%A1%F0%91%91%82%F0%91%90%AB)/@27.674649,85.3825448,17z/data=!3m1!4b1!4m5!3m4!1s0x39eb1a6f97f57011:0x185bdc6c691190a6!8m2!3d27.6746613!4d85.384667', 'https://www.google.com/maps/search/Sundarijal+Water+Falls+kathmandu/@27.7301683,85.0989583,9z/data=!3m1!4b1', 'https://www.google.com/maps/search/Shiva+Mandir+Temple+kathmandu/@27.7037936,85.2884414,13z/data=!3m1!4b1', 'https://www.google.com/maps/search/Bagwati+Mandir+Temple+kathmandu/@27.7216531,85.2424638,11z/data=!3m1!4b1', 'https://www.google.com/maps/place/%E0%A4%A4%E0%A4%B2%E0%A5%87%E0%A4%9C%E0%A5%81+%E0%A4%A0%E0%A5%82%E0%A4%B2%E0%A5%8B+%E0%A4%98%E0%A4%A3%E0%A5%8D%E0%A4%9F%E0%A4%BE/@27.7044863,85.3044833,17z/data=!3m1!4b1!4m5!3m4!1s0x39eb185625b593af:0xa78d056e23b15f78!8m2!3d27.7045112!4d85.3065973', 'https://www.google.com/maps/search/Mrigasthali+Deer+Park+kathmandu/@27.711512,85.3497721,17z', 'https://www.google.com/maps/place/%E0%A4%95%E0%A5%8D%E0%A4%AF%E0%A4%BE%E0%A4%B8%E0%A4%BF%E0%A4%A8%E0%A5%8B+%E0%A4%8F%E0%A4%AD%E0%A4%B0%E0%A5%87%E0%A4%B8%E0%A5%8D%E0%A4%9F/@27.6900294,85.3309578,17z/data=!3m1!4b1!4m5!3m4!1s0x39eb19bd95cf9df1:0x5891435a1866b22c!8m2!3d27.6899865!4d85.3331658', 'https://www.google.com/maps/search/Maju+Dega+Mandir+Temple+kathmandu/@27.6914868,85.1728308,11z/data=!3m1!4b1', 'https://www.google.com/maps/search/Annapurna+Circuit+kathmandu/@27.7217192,85.3475327,13z/data=!3m1!4b1', 'https://www.google.com/maps/place/Kalapatthar+Trekking+Store/@27.7157195,85.3078271,17z/data=!3m1!4b1!4m5!3m4!1s0x39eb18fcc6bb0099:0x8c1a2d0ff300f734!8m2!3d27.7157195!4d85.3100158', 'https://www.google.com/maps/search/Monasterio+Tibetano+Boudhanat+kathmandu/@27.7261789,85.293964,13z/data=!3m1!4b1', 'https://www.google.com/maps/place/%E0%A4%95%E0%A4%BE%E0%A4%B2%E0%A4%BF%E0%A4%95%E0%A4%BE%E0%A4%B8%E0%A5%8D%E0%A4%A5%E0%A4%BE%E0%A4%A8+%E0%A4%AE%E0%A4%A8%E0%A5%8D%E0%A4%A6%E0%A4%BF%E0%A4%B0/@27.7030659,85.3242809,17z/data=!3m1!4b1!4m5!3m4!1s0x39eb19a7a9da1791:0x97898d5f5a17e8b2!8m2!3d27.7030659!4d85.3264696', 'https://www.google.com/maps/search/Vishnu+Mandir+Temple+kathmandu/@27.7217192,85.3475327,13z/data=!3m1!4b1', 'https://www.google.com/maps/place/Happyland+Treks+Pvt.+Ltd./@27.7175991,85.3083644,17z/data=!3m1!4b1!4m5!3m4!1s0x39eb18fce3113da5:0x9a63e1e68ebb118c!8m2!3d27.7175991!4d85.3105531', 'https://www.google.com/maps/search/Chyasin+Dega+Temple+kathmandu/@27.7217192,85.3475327,13z/data=!3m1!4b1', 'https://www.google.com/maps/search/Chinese+Temple+kathmandu/@27.7216531,85.2424638,11z/data=!3m1!4b1', 'https://www.google.com/maps/search/Gorakhnath+Mandir+Temple+kathmandu/@27.7217192,85.3475327,13z/data=!3m1!4b1', 'https://www.google.com/maps/place/%E0%A4%AD%E0%A4%95%E0%A5%8D%E0%A4%A4%E0%A4%AA%E0%A5%81%E0%A4%B0+%E0%A4%A6%E0%A4%B0%E0%A4%AC%E0%A4%BE%E0%A4%B0+%E0%A4%95%E0%A5%8D%E0%A4%B7%E0%A5%87%E0%A4%A4%E0%A5%8D%E0%A4%B0+(%F0%91%90%8F%F0%91%91%82%F0%91%90%B0%F0%91%90%A5+%F0%91%90%AE%F0%91%90%B5%F0%91%90%AB%F0%91%90%8E%F0%91%90%B8)/@27.6720744,85.4259136,17z/data=!3m1!4b1!4m5!3m4!1s0x39eb1aafec32df31:0xdda339e731af9bfd!8m2!3d27.6720744!4d85.4281023', 'https://www.google.com/maps/search/Indoor+Sports+Arena+kathmandu/@27.7217192,85.3475327,13z/data=!3m1!4b1', 'https://www.google.com/maps/search/Mahendreswor+Mandir+Temple+kathmandu/@27.7217192,85.3475327,13z/data=!3m1!4b1', 'https://www.google.com/maps/place/Manaslu+Rd,+%E0%A4%95%E0%A4%BE%E0%A4%A0%E0%A4%AE%E0%A4%BE%E0%A4%A1%E0%A5%8C%E0%A4%81+44600/@27.7198175,85.3186043,17z/data=!4m5!3m4!1s0x39eb191b04ad116d:0xce6527fd4ac2360!8m2!3d27.7198175!4d85.320793', 'https://www.google.com/maps/search/Ashok+Stupa+kathmandu/@27.6887733,85.2888736,13z/data=!3m1!4b1', 'https://www.google.com/maps/search/Stone+Vishnu+Mandir+Temple+kathmandu/@27.725285,85.2782888,12z/data=!3m1!4b1', 'https://www.google.com/maps/search/Maha+Vishnu+Mandir+Temple+kathmandu/@27.725285,85.2765562,12z/data=!3m1!4b1', 'https://www.google.com/maps/place/Woodcraft+Gallery/@27.7154575,85.3066668,17z/data=!3m1!4b1!4m5!3m4!1s0x39eb19ff950c2a55:0x3d0e41083593b6a2!8m2!3d27.7154949!4d85.3088654', 'https://www.google.com/maps/search/Aviation+Museum+kathmandu/@27.6937953,85.35128,17z/data=!3m1!4b1', 'https://www.google.com/maps/search/Sri+Lanka+Temple+kathmandu/@27.7217192,85.3475327,13z/data=!3m1!4b1', 'https://www.google.com/maps/search/Karmaraja+Mahavihara+kathmandu/@27.7150132,85.2882553,17z/data=!3m1!4b1', 'https://www.google.com/maps/place/%E0%A4%AD%E0%A5%80%E0%A4%AE%E0%A4%B8%E0%A5%87%E0%A4%A8%E0%A4%B8%E0%A5%8D%E0%A4%A5%E0%A4%BE%E0%A4%A8+%E0%A4%AE%E0%A4%A8%E0%A5%8D%E0%A4%A6%E0%A4%BF%E0%A4%B0/@27.702488,85.3020341,17z/data=!3m1!4b1!4m5!3m4!1s0x39eb196d503579e7:0xd819c9df1e9cec4e!8m2!3d27.7024762!4d85.3042757', 'https://www.google.com/maps/search/Kotilingeshwor+Mahadev+Mandir+Temple+kathmandu/@27.7217192,85.3475327,13z/data=!3m1!4b1', 'https://www.google.com/maps/search/Manjushree+Temple+kathmandu/@27.6956379,85.2886814,14z/data=!3m1!4b1', 'https://www.google.com/maps/search/National+Art+Gallery+kathmandu/@27.7217192,85.3475327,13z/data=!3m1!4b1', 'https://www.google.com/maps/place/%E0%A4%AC%E0%A5%81%E0%A4%A6%E0%A5%8D%E0%A4%A7+%E0%A4%AA%E0%A4%BE%E0%A4%B0%E0%A5%8D%E0%A4%95/@27.7223837,85.3592926,17z/data=!3m1!4b1!4m5!3m4!1s0x39eb1bdbc6be21d5:0x5ed59b8d4614be43!8m2!3d27.7223837!4d85.3614813', 'https://www.google.com/maps/search/Krishna+Temple+kathmandu/@27.7217192,85.3475327,13z/data=!3m1!4b1', 'https://www.google.com/maps/search/Indian+Monastery+kathmandu/@27.7217192,85.3475327,13z/data=!3m1!4b1', 'https://www.google.com/maps/search/Bijeshwari+Temple+kathmandu/@27.7217192,85.3475327,13z/data=!3m1!4b1', 'https://www.google.com/maps/place/%E0%A4%B8%E0%A5%8D%E0%A4%B5%E0%A4%AF%E0%A4%AE%E0%A5%8D%E0%A4%AD%E0%A5%82+%E0%A4%AE%E0%A4%B9%E0%A4%BE%E0%A4%9A%E0%A5%88%E0%A4%A4%E0%A5%8D%E0%A4%AF/@27.7149298,85.2881456,17z/data=!3m1!4b1!4m5!3m4!1s0x39eb188d9b82c8ad:0xae31bde410797bf7!8m2!3d27.7149298!4d85.2903343', 'https://www.google.com/maps/search/Mahadev+Mandir+Temple+kathmandu/@27.7217192,85.3475327,13z/data=!3m1!4b1', 'https://www.google.com/maps/search/Ram+Chandra+Temple+kathmandu/@27.7217192,85.3475327,13z/data=!3m1!4b1', 'https://www.google.com/maps/search/Espace+de+visite+kathmandu/@27.7217192,85.3475327,13z/data=!3m1!4b1', 'https://www.google.com/maps/place/%E0%A4%97%E0%A5%8B%E0%A4%B0%E0%A4%96%E0%A4%BE+%E0%A4%B8%E0%A4%82%E0%A4%97%E0%A5%8D%E0%A4%B0%E0%A4%BE%E0%A4%B2%E0%A4%AF/@27.998726,84.6221924,17z/data=!3m1!4b1!4m5!3m4!1s0x399522b65559e779:0x88c571dd36753f47!8m2!3d27.998726!4d84.6243811', 'https://www.google.com/maps/place/%E0%A4%AA%E0%A4%A8%E0%A5%8C%E0%A4%A4%E0%A5%80+%E0%A4%B8%E0%A4%82%E0%A4%97%E0%A5%8D%E0%A4%B0%E0%A4%B9%E0%A4%BE%E0%A4%B2%E0%A4%AF/@27.5847653,85.5149833,17z/data=!3m1!4b1!4m5!3m4!1s0x39eb0eb25e88680d:0xdfae81874c6bb146!8m2!3d27.5847418!4d85.5171035', 'https://www.google.com/maps/place/%E0%A4%95%E0%A5%88%E0%A4%B2%E0%A4%BE%E0%A4%B6%E0%A4%A8%E0%A4%BE%E0%A4%A5+%E0%A4%AE%E0%A4%B9%E0%A4%BE%E0%A4%A6%E0%A5%87%E0%A4%B5+%E0%A4%AE%E0%A5%82%E0%A4%B0%E0%A5%8D%E0%A4%A4%E0%A4%BF/@27.6461062,85.4720758,17z/data=!3m1!4b1!4m5!3m4!1s0x39eb0f753fffff8b:0xa7066333d51960b4!8m2!3d27.6461062!4d85.4742645', 'https://www.google.com/maps/search/Living+Traditions+Museum+kathmandu/@27.7217192,85.3475327,13z/data=!3m1!4b1', 'https://www.google.com/maps/place/%E0%A4%88%E0%A4%A8%E0%A5%8D%E0%A4%A6%E0%A5%8D%E0%A4%B0%E0%A4%BE%E0%A4%AF%E0%A4%A3%E0%A5%80+%E0%A4%AE%E0%A4%A8%E0%A5%8D%E0%A4%A6%E0%A4%BF%E0%A4%B0+(%E0%A4%B2%E0%A5%81%E0%A4%81%E0%A4%A4%E0%A4%BF+%E0%A4%85%E0%A4%9C%E0%A4%BF%E0%A4%AE%E0%A4%BE)/@27.7139309,85.3003104,17z/data=!3m1!4b1!4m5!3m4!1s0x39eb18f063739a57:0x81d9ea4ca17395e3!8m2!3d27.7139309!4d85.3024991', 'https://www.google.com/maps/search/Piazza+Tachupal+kathmandu/@27.6884773,85.2975743,12z/data=!3m1!4b1', 'https://www.google.com/maps/search/Bhimsen+Temple+kathmandu/@27.7217192,85.3475327,13z/data=!3m1!4b1', 'https://www.google.com/maps/search/Gopi+Nath+Temple+kathmandu/@27.7216531,85.2424638,11z/data=!3m1!4b1', 'https://www.google.com/maps/search/Happy+Treks+Nepal+-+Day+Tours+kathmandu/@27.7216531,85.2424638,11z/data=!3m1!4b1', 'https://www.google.com/maps/place/Everest+Base+Camp+Helicopter+Tour+with+landing+flight+cost+(Himalaya+Holiday+Service+Pvt.+Ltd)/@27.7278725,85.309418,17z/data=!3m1!4b1!4m5!3m4!1s0x39eb18e5bf1bef41:0xf14a4b773259bc38!8m2!3d27.7278725!4d85.3116067', 'https://www.google.com/maps/search/Saara+Tourism+Nepal-Travel+Advisor+in+Nepal+kathmandu/@27.7217192,85.3475327,13z/data=!3m1!4b1', 'https://www.google.com/maps/place/Dreams+Spa+Lazimpat+Kathmandu/@27.7230462,85.3175248,17z/data=!3m1!4b1!4m5!3m4!1s0x39eb1930c430f8b9:0xf826fa7fea9cd6ee!8m2!3d27.7230463!4d85.3197136', 'https://www.google.com/maps/search/Visit+Himalaya+Treks+kathmandu/@27.7143571,85.3056243,16z/data=!3m1!4b1', 'https://www.google.com/maps/search/Nepal+Ayurveda+Home+kathmandu/@27.721728,85.3475328,13z/data=!4m5!2m4!5m3!5m2!4m1!1i2', 'https://www.google.com/maps/search/A1+Excursion+-+Private+Day+Tours+kathmandu/@27.7193555,85.2992249,14z/data=!3m1!4b1', 'https://www.google.com/maps/search/Tramping+Himalaya+kathmandu/@27.7200295,85.3033274,13z/data=!3m1!4b1', 'https://www.google.com/maps/place/Couch+Adventure+Nepal+Pvt+Ltd/@28.2102332,83.9555306,17z/data=!3m1!4b1!4m5!3m4!1s0x3995953025654ba5:0xa1ea51d0821acc1c!8m2!3d28.2102332!4d83.9577193']\n"
     ]
    }
   ],
   "source": [
    "# let's try scraping the latitude,longitude of the list \n",
    "#Sometimes Google Duplicates That Input Field So we have to iterate...\n",
    "from selenium import webdriver\n",
    "from selenium.webdriver.common.keys import Keys\n",
    "import time\n",
    "\n",
    "search_items=names_of_repeated_destinations\n",
    "driver=webdriver.Chrome('chromedriver')\n",
    "\n",
    "urls_of_places=[]\n",
    "\n",
    "for item in search_items:\n",
    "    time.sleep(2)\n",
    "    driver.get('https://maps.google.com')\n",
    "    inputElems = driver.find_elements_by_css_selector('input[name=q]')\n",
    "    for inputElem in inputElems:\n",
    "        inputElem.send_keys(item + ' kathmandu')\n",
    "\n",
    "        # Presses Enter Key Like When You Press Enter Key to Search\n",
    "        inputElem.send_keys(Keys.ENTER) # for nepal dataset\n",
    "        # change to 'kathmandu' for the kathmandu dataset\n",
    "        \n",
    "        time.sleep(7)\n",
    "        # Getting current URL\n",
    "        try:\n",
    "            get_url = driver.current_url\n",
    "        except:\n",
    "            get_url='Nan'\n",
    "            \n",
    "        urls_of_places.append(get_url)\n",
    "\n",
    "        inputElems.clear()\n",
    "\n",
    "\n",
    "driver.close()\n",
    "\n",
    "print(urls_of_places)"
   ]
  },
  {
   "cell_type": "code",
   "execution_count": 92,
   "id": "5146ac0e",
   "metadata": {},
   "outputs": [],
   "source": [
    "import re\n",
    "#function to extract the latitude and longitude from a google maps link \n",
    "def lat_and_long(url):\n",
    "    x = re.findall(\"\\@(-?[\\d\\.]*\\,[\\d\\.]*)\", url)\n",
    "    [lat,long]=x[0].split(',')\n",
    "    return lat,long"
   ]
  },
  {
   "cell_type": "code",
   "execution_count": 93,
   "id": "42980b10",
   "metadata": {},
   "outputs": [],
   "source": [
    "#define two lists to hold latitude and longitude values \n",
    "lat_list=[]\n",
    "long_list=[]"
   ]
  },
  {
   "cell_type": "code",
   "execution_count": 94,
   "id": "89a1e0da",
   "metadata": {},
   "outputs": [
    {
     "name": "stdout",
     "output_type": "stream",
     "text": [
      "['27.7216531', '27.7154876', '27.6874221', '27.7098228', '27.6468486', '27.7149634', '27.7100604', '28.4058172', '27.7020812', '27.7217192', '27.7217192', '27.7157195', '27.7186175', '28.4451293', '27.7215062', '27.7217192', '27.9500372', '27.7217192', '27.6099915', '27.7125183', '27.7217192', '27.7216531', '27.7216531', '27.7115179', '27.7216531', '27.7217192', '27.6973966', '27.7217192', '27.7217192', '27.7216531', '27.7217192', '27.7067144', '27.7217192', '27.7216531', '27.6869749', '27.7217192', '27.692168', '27.7217192', '27.5823711', '27.6649227', '27.7049154', '27.7216531', '27.7217192', '27.7216531', '27.7175379', '27.6937953', '27.7154575', '27.7226042', '27.674649', '27.7301683', '27.7037936', '27.7216531', '27.7044863', '27.711512', '27.6900294', '27.6914868', '27.7217192', '27.7157195', '27.7261789', '27.7030659', '27.7217192', '27.7175991', '27.7217192', '27.7216531', '27.7217192', '27.6720744', '27.7217192', '27.7217192', '27.7198175', '27.6887733', '27.725285', '27.725285', '27.7154575', '27.6937953', '27.7217192', '27.7150132', '27.702488', '27.7217192', '27.6956379', '27.7217192', '27.7223837', '27.7217192', '27.7217192', '27.7217192', '27.7149298', '27.7217192', '27.7217192', '27.7217192', '27.998726', '27.5847653', '27.6461062', '27.7217192', '27.7139309', '27.6884773', '27.7217192', '27.7216531', '27.7216531', '27.7278725', '27.7217192', '27.7230462', '27.7143571', '27.721728', '27.7193555', '27.7200295', '28.2102332']\n",
      "['85.2424638', '85.3109758', '85.3023271', '85.3078516', '85.3320288', '85.3161398', '85.2897522', '83.2453874', '85.3099626', '85.3475327', '85.3475327', '85.3078271', '85.3113974', '84.1143579', '85.3598087', '85.3475327', '84.092843', '85.3475327', '85.0969279', '85.3478123', '85.3475327', '85.2424638', '85.2424638', '85.3086357', '85.2424638', '85.3475327', '85.2845802', '85.3475327', '85.3475327', '85.2424638', '85.3475327', '85.3384039', '85.3475327', '85.2424638', '85.3186869', '85.3475327', '85.5177437', '85.3475327', '84.5055259', '85.2433507', '85.305858', '85.2424638', '85.3475327', '85.2424638', '85.3097847', '85.35128', '85.3066668', '85.3595192', '85.3825448', '85.0989583', '85.2884414', '85.2424638', '85.3044833', '85.3497721', '85.3309578', '85.1728308', '85.3475327', '85.3078271', '85.293964', '85.3242809', '85.3475327', '85.3083644', '85.3475327', '85.2424638', '85.3475327', '85.4259136', '85.3475327', '85.3475327', '85.3186043', '85.2888736', '85.2782888', '85.2765562', '85.3066668', '85.35128', '85.3475327', '85.2882553', '85.3020341', '85.3475327', '85.2886814', '85.3475327', '85.3592926', '85.3475327', '85.3475327', '85.3475327', '85.2881456', '85.3475327', '85.3475327', '85.3475327', '84.6221924', '85.5149833', '85.4720758', '85.3475327', '85.3003104', '85.2975743', '85.3475327', '85.2424638', '85.2424638', '85.309418', '85.3475327', '85.3175248', '85.3056243', '85.3475328', '85.2992249', '85.3033274', '83.9555306']\n"
     ]
    }
   ],
   "source": [
    "for url in urls_of_places:\n",
    "    lat,long=lat_and_long(url)\n",
    "    lat_list.append(lat)\n",
    "    long_list.append(long)\n",
    "print(lat_list)\n",
    "print(long_list)"
   ]
  },
  {
   "cell_type": "code",
   "execution_count": 95,
   "id": "1aa3931d",
   "metadata": {},
   "outputs": [
    {
     "name": "stdout",
     "output_type": "stream",
     "text": [
      "['27.5823711' '27.5847653' '27.6099915' '27.6461062' '27.6468486'\n",
      " '27.6649227' '27.6720744' '27.674649' '27.6869749' '27.6874221'\n",
      " '27.6884773' '27.6887733' '27.6900294' '27.6914868' '27.692168'\n",
      " '27.6937953' '27.6956379' '27.6973966' '27.7020812' '27.702488'\n",
      " '27.7030659' '27.7037936' '27.7044863' '27.7049154' '27.7067144'\n",
      " '27.7098228' '27.7100604' '27.711512' '27.7115179' '27.7125183'\n",
      " '27.7139309' '27.7143571' '27.7149298' '27.7149634' '27.7150132'\n",
      " '27.7154575' '27.7154876' '27.7157195' '27.7175379' '27.7175991'\n",
      " '27.7186175' '27.7193555' '27.7198175' '27.7200295' '27.7215062'\n",
      " '27.7216531' '27.7217192' '27.721728' '27.7223837' '27.7226042'\n",
      " '27.7230462' '27.725285' '27.7261789' '27.7278725' '27.7301683'\n",
      " '27.9500372' '27.998726' '28.2102332' '28.4058172' '28.4451293']\n"
     ]
    }
   ],
   "source": [
    "print(np.unique(lat_list))"
   ]
  },
  {
   "cell_type": "code",
   "execution_count": 96,
   "id": "3a77e3ed",
   "metadata": {},
   "outputs": [
    {
     "name": "stdout",
     "output_type": "stream",
     "text": [
      "['83.2453874' '83.9555306' '84.092843' '84.1143579' '84.5055259'\n",
      " '84.6221924' '85.0969279' '85.0989583' '85.1728308' '85.2424638'\n",
      " '85.2433507' '85.2765562' '85.2782888' '85.2845802' '85.2881456'\n",
      " '85.2882553' '85.2884414' '85.2886814' '85.2888736' '85.2897522'\n",
      " '85.293964' '85.2975743' '85.2992249' '85.3003104' '85.3020341'\n",
      " '85.3023271' '85.3033274' '85.3044833' '85.3056243' '85.305858'\n",
      " '85.3066668' '85.3078271' '85.3078516' '85.3083644' '85.3086357'\n",
      " '85.309418' '85.3097847' '85.3099626' '85.3109758' '85.3113974'\n",
      " '85.3161398' '85.3175248' '85.3186043' '85.3186869' '85.3242809'\n",
      " '85.3309578' '85.3320288' '85.3384039' '85.3475327' '85.3475328'\n",
      " '85.3478123' '85.3497721' '85.35128' '85.3592926' '85.3595192'\n",
      " '85.3598087' '85.3825448' '85.4259136' '85.4720758' '85.5149833'\n",
      " '85.5177437']\n"
     ]
    }
   ],
   "source": [
    "print(np.unique(long_list))"
   ]
  },
  {
   "cell_type": "code",
   "execution_count": 97,
   "id": "f1cd22a0",
   "metadata": {},
   "outputs": [
    {
     "name": "stdout",
     "output_type": "stream",
     "text": [
      "     dest_id                                title  \\\n",
      "33        34             Annapurna Base Camp Trek   \n",
      "39        40                Jomsom Muktinath Trek   \n",
      "41        42                    Mahaboudha Temple   \n",
      "46        47  Jangchub Choeling Tibetan Monastery   \n",
      "59        60              Thrangu Tashi Monastery   \n",
      "..       ...                                  ...   \n",
      "460      461                 Visit Himalaya Treks   \n",
      "467      468                  Nepal Ayurveda Home   \n",
      "470      471     A1 Excursion - Private Day Tours   \n",
      "473      474                    Tramping Himalaya   \n",
      "477      478          Couch Adventure Nepal (CAN)   \n",
      "\n",
      "                                          genre    latitude  longitude  \\\n",
      "33                             nature:adventure  27.6934331  85.297686   \n",
      "39                             nature:adventure  27.6934331  85.297686   \n",
      "41       history:art_and_architecture:religious  27.6934331  85.297686   \n",
      "46       history:art_and_architecture:religious  27.6934331  85.297686   \n",
      "59       history:art_and_architecture:religious  27.6931555  85.052502   \n",
      "..                                          ...         ...        ...   \n",
      "460                                   adventure  27.7216531  85.242464   \n",
      "467                        health_and_lifestyle   27.721728  85.347533   \n",
      "470                                      nature  27.7216531  85.242464   \n",
      "473                            nature:adventure  27.7216531  85.242464   \n",
      "477  history:art_and_architecture:entertainment  27.7216531  85.242464   \n",
      "\n",
      "                                               img_url  \n",
      "33   data:image/jpeg;base64,/9j/4AAQSkZJRgABAQAAAQA...  \n",
      "39   data:image/jpeg;base64,/9j/4AAQSkZJRgABAQAAAQA...  \n",
      "41   data:image/jpeg;base64,/9j/4AAQSkZJRgABAQAAAQA...  \n",
      "46   data:image/jpeg;base64,/9j/4AAQSkZJRgABAQAAAQA...  \n",
      "59   data:image/jpeg;base64,/9j/4AAQSkZJRgABAQAAAQA...  \n",
      "..                                                 ...  \n",
      "460                                                NaN  \n",
      "467                                                NaN  \n",
      "470                                                NaN  \n",
      "473                                                NaN  \n",
      "477                                                NaN  \n",
      "\n",
      "[105 rows x 6 columns]\n"
     ]
    }
   ],
   "source": [
    "print(duplicate_list)"
   ]
  },
  {
   "cell_type": "code",
   "execution_count": 98,
   "id": "f7936f45",
   "metadata": {},
   "outputs": [
    {
     "name": "stderr",
     "output_type": "stream",
     "text": [
      "/tmp/ipykernel_8269/1443986015.py:1: SettingWithCopyWarning: \n",
      "A value is trying to be set on a copy of a slice from a DataFrame.\n",
      "Try using .loc[row_indexer,col_indexer] = value instead\n",
      "\n",
      "See the caveats in the documentation: https://pandas.pydata.org/pandas-docs/stable/user_guide/indexing.html#returning-a-view-versus-a-copy\n",
      "  duplicate_list['latitude']=lat_list\n",
      "/tmp/ipykernel_8269/1443986015.py:2: SettingWithCopyWarning: \n",
      "A value is trying to be set on a copy of a slice from a DataFrame.\n",
      "Try using .loc[row_indexer,col_indexer] = value instead\n",
      "\n",
      "See the caveats in the documentation: https://pandas.pydata.org/pandas-docs/stable/user_guide/indexing.html#returning-a-view-versus-a-copy\n",
      "  duplicate_list['longitude']=long_list\n"
     ]
    }
   ],
   "source": [
    "duplicate_list['latitude']=lat_list\n",
    "duplicate_list['longitude']=long_list"
   ]
  },
  {
   "cell_type": "code",
   "execution_count": 100,
   "id": "ca828720",
   "metadata": {},
   "outputs": [
    {
     "name": "stdout",
     "output_type": "stream",
     "text": [
      "396\n"
     ]
    }
   ],
   "source": [
    "print(len(dataset_500['latitude'].unique()))"
   ]
  },
  {
   "cell_type": "code",
   "execution_count": 101,
   "id": "28955197",
   "metadata": {},
   "outputs": [
    {
     "name": "stdout",
     "output_type": "stream",
     "text": [
      "[33, 39, 41, 46, 59, 61, 63, 68, 77, 85, 90, 94, 103, 115, 119, 137, 140, 158, 168, 178, 186, 194, 198, 206, 213, 215, 217, 225, 229, 233, 236, 243, 244, 254, 256, 258, 262, 264, 275, 282, 283, 286, 291, 298, 300, 303, 304, 314, 316, 317, 319, 320, 323, 326, 332, 333, 335, 337, 338, 339, 342, 343, 344, 353, 354, 355, 357, 358, 361, 362, 366, 367, 372, 375, 377, 378, 380, 384, 387, 392, 398, 400, 401, 403, 404, 408, 409, 410, 411, 420, 422, 427, 428, 435, 438, 439, 445, 448, 449, 454, 460, 467, 470, 473, 477]\n"
     ]
    }
   ],
   "source": [
    "print(list(duplicate_list.index))"
   ]
  },
  {
   "cell_type": "code",
   "execution_count": 103,
   "id": "65e371e6",
   "metadata": {},
   "outputs": [
    {
     "name": "stderr",
     "output_type": "stream",
     "text": [
      "/home/werewolf/.pyenv/versions/data2/lib/python3.9/site-packages/pandas/core/indexing.py:1817: SettingWithCopyWarning: \n",
      "A value is trying to be set on a copy of a slice from a DataFrame.\n",
      "Try using .loc[row_indexer,col_indexer] = value instead\n",
      "\n",
      "See the caveats in the documentation: https://pandas.pydata.org/pandas-docs/stable/user_guide/indexing.html#returning-a-view-versus-a-copy\n",
      "  self._setitem_single_column(loc, value, pi)\n"
     ]
    }
   ],
   "source": [
    "for ind in list(duplicate_list.index):\n",
    "    dataset_500.loc[ind,'latitude']=duplicate_list.loc[ind,'latitude']\n",
    "    dataset_500.loc[ind,'longitude']=duplicate_list.loc[ind,'longitude']"
   ]
  },
  {
   "cell_type": "code",
   "execution_count": 104,
   "id": "f9e39547",
   "metadata": {},
   "outputs": [
    {
     "name": "stdout",
     "output_type": "stream",
     "text": [
      "440\n"
     ]
    }
   ],
   "source": [
    "print(len(dataset_500['latitude'].unique()))"
   ]
  },
  {
   "cell_type": "code",
   "execution_count": 105,
   "id": "879b071a",
   "metadata": {},
   "outputs": [
    {
     "name": "stdout",
     "output_type": "stream",
     "text": [
      "     dest_id                                title  \\\n",
      "0          1                     Boudhanath Stupa   \n",
      "1          2                Phewa Tal (Fewa Lake)   \n",
      "2          3                            Sarangkot   \n",
      "3          4                 Swayambhunath Temple   \n",
      "4          5                            Poon Hill   \n",
      "..       ...                                  ...   \n",
      "496      497    Unique Path Trekking & Expedition   \n",
      "497      498              Travel Maker South Asia   \n",
      "498      499  Nepal Alibaba Treks & Tours Pvt Ltd   \n",
      "499      500                  Alpine Ramble Treks   \n",
      "500      501      Info Nepal Treks and Expedition   \n",
      "\n",
      "                                          genre    latitude  longitude  \\\n",
      "0        history:art_and_architecture:religious  27.7215062  85.359809   \n",
      "1                                        nature  28.2116268  83.932296   \n",
      "2                                        nature  28.2443761  83.944564   \n",
      "3        history:art_and_architecture:religious  27.7149298  85.288146   \n",
      "4                                        nature   28.400195  83.671789   \n",
      "..                                          ...         ...        ...   \n",
      "496  history:art_and_architecture:entertainment  27.7165406  85.307559   \n",
      "497              art_and_architecture:religious  27.7134196  85.311246   \n",
      "498                                     history  27.7375441  85.302841   \n",
      "499                                     history  27.7191624  85.306492   \n",
      "500  history:art_and_architecture:entertainment    27.71673  85.307607   \n",
      "\n",
      "                                               img_url  \n",
      "0    data:image/jpeg;base64,/9j/4AAQSkZJRgABAQAAAQA...  \n",
      "1    data:image/jpeg;base64,/9j/4AAQSkZJRgABAQAAAQA...  \n",
      "2    data:image/jpeg;base64,/9j/4AAQSkZJRgABAQAAAQA...  \n",
      "3    data:image/jpeg;base64,/9j/4AAQSkZJRgABAQAAAQA...  \n",
      "4    data:image/jpeg;base64,/9j/4AAQSkZJRgABAQAAAQA...  \n",
      "..                                                 ...  \n",
      "496                                                NaN  \n",
      "497                                                NaN  \n",
      "498                                                NaN  \n",
      "499                                                NaN  \n",
      "500                                                NaN  \n",
      "\n",
      "[501 rows x 6 columns]\n"
     ]
    }
   ],
   "source": [
    "print(dataset_500)"
   ]
  },
  {
   "cell_type": "code",
   "execution_count": 106,
   "id": "333a60d1",
   "metadata": {},
   "outputs": [],
   "source": [
    "#updating the final dataset\n",
    "dataset.iloc[:501]=dataset_500"
   ]
  },
  {
   "cell_type": "code",
   "execution_count": 107,
   "id": "6ce46967",
   "metadata": {},
   "outputs": [
    {
     "name": "stdout",
     "output_type": "stream",
     "text": [
      "442\n"
     ]
    }
   ],
   "source": [
    "#checking the number of unique values\n",
    "print(len(dataset['latitude'].unique()))"
   ]
  },
  {
   "cell_type": "code",
   "execution_count": 108,
   "id": "c0a56fb5",
   "metadata": {},
   "outputs": [
    {
     "data": {
      "text/html": [
       "<div>\n",
       "<style scoped>\n",
       "    .dataframe tbody tr th:only-of-type {\n",
       "        vertical-align: middle;\n",
       "    }\n",
       "\n",
       "    .dataframe tbody tr th {\n",
       "        vertical-align: top;\n",
       "    }\n",
       "\n",
       "    .dataframe thead th {\n",
       "        text-align: right;\n",
       "    }\n",
       "</style>\n",
       "<table border=\"1\" class=\"dataframe\">\n",
       "  <thead>\n",
       "    <tr style=\"text-align: right;\">\n",
       "      <th></th>\n",
       "      <th>dest_id</th>\n",
       "      <th>title</th>\n",
       "      <th>genre</th>\n",
       "      <th>latitude</th>\n",
       "      <th>longitude</th>\n",
       "      <th>img_url</th>\n",
       "    </tr>\n",
       "  </thead>\n",
       "  <tbody>\n",
       "    <tr>\n",
       "      <th>0</th>\n",
       "      <td>1</td>\n",
       "      <td>Boudhanath Stupa</td>\n",
       "      <td>history:art_and_architecture:religious</td>\n",
       "      <td>27.7215062</td>\n",
       "      <td>85.359809</td>\n",
       "      <td>data:image/jpeg;base64,/9j/4AAQSkZJRgABAQAAAQA...</td>\n",
       "    </tr>\n",
       "    <tr>\n",
       "      <th>1</th>\n",
       "      <td>2</td>\n",
       "      <td>Phewa Tal (Fewa Lake)</td>\n",
       "      <td>nature</td>\n",
       "      <td>28.2116268</td>\n",
       "      <td>83.932296</td>\n",
       "      <td>data:image/jpeg;base64,/9j/4AAQSkZJRgABAQAAAQA...</td>\n",
       "    </tr>\n",
       "    <tr>\n",
       "      <th>2</th>\n",
       "      <td>3</td>\n",
       "      <td>Sarangkot</td>\n",
       "      <td>nature</td>\n",
       "      <td>28.2443761</td>\n",
       "      <td>83.944564</td>\n",
       "      <td>data:image/jpeg;base64,/9j/4AAQSkZJRgABAQAAAQA...</td>\n",
       "    </tr>\n",
       "    <tr>\n",
       "      <th>3</th>\n",
       "      <td>4</td>\n",
       "      <td>Swayambhunath Temple</td>\n",
       "      <td>history:art_and_architecture:religious</td>\n",
       "      <td>27.7149298</td>\n",
       "      <td>85.288146</td>\n",
       "      <td>data:image/jpeg;base64,/9j/4AAQSkZJRgABAQAAAQA...</td>\n",
       "    </tr>\n",
       "    <tr>\n",
       "      <th>4</th>\n",
       "      <td>5</td>\n",
       "      <td>Poon Hill</td>\n",
       "      <td>nature</td>\n",
       "      <td>28.400195</td>\n",
       "      <td>83.671789</td>\n",
       "      <td>data:image/jpeg;base64,/9j/4AAQSkZJRgABAQAAAQA...</td>\n",
       "    </tr>\n",
       "    <tr>\n",
       "      <th>...</th>\n",
       "      <td>...</td>\n",
       "      <td>...</td>\n",
       "      <td>...</td>\n",
       "      <td>...</td>\n",
       "      <td>...</td>\n",
       "      <td>...</td>\n",
       "    </tr>\n",
       "    <tr>\n",
       "      <th>3308</th>\n",
       "      <td>3309</td>\n",
       "      <td>SITA (Travel Corporation India Ltd)</td>\n",
       "      <td>history</td>\n",
       "      <td>NaN</td>\n",
       "      <td>NaN</td>\n",
       "      <td>NaN</td>\n",
       "    </tr>\n",
       "    <tr>\n",
       "      <th>3309</th>\n",
       "      <td>3310</td>\n",
       "      <td>Himalayan Hike</td>\n",
       "      <td>history:art_and_architecture:entertainment</td>\n",
       "      <td>NaN</td>\n",
       "      <td>NaN</td>\n",
       "      <td>NaN</td>\n",
       "    </tr>\n",
       "    <tr>\n",
       "      <th>3310</th>\n",
       "      <td>3311</td>\n",
       "      <td>Harilo</td>\n",
       "      <td>entertainment:food</td>\n",
       "      <td>NaN</td>\n",
       "      <td>NaN</td>\n",
       "      <td>NaN</td>\n",
       "    </tr>\n",
       "    <tr>\n",
       "      <th>3311</th>\n",
       "      <td>3312</td>\n",
       "      <td>Heli Sight</td>\n",
       "      <td>adventure</td>\n",
       "      <td>NaN</td>\n",
       "      <td>NaN</td>\n",
       "      <td>NaN</td>\n",
       "    </tr>\n",
       "    <tr>\n",
       "      <th>3312</th>\n",
       "      <td>3313</td>\n",
       "      <td>River Fun</td>\n",
       "      <td>nature:adventure:entertainment</td>\n",
       "      <td>NaN</td>\n",
       "      <td>NaN</td>\n",
       "      <td>NaN</td>\n",
       "    </tr>\n",
       "  </tbody>\n",
       "</table>\n",
       "<p>3313 rows × 6 columns</p>\n",
       "</div>"
      ],
      "text/plain": [
       "      dest_id                                title  \\\n",
       "0           1                     Boudhanath Stupa   \n",
       "1           2                Phewa Tal (Fewa Lake)   \n",
       "2           3                            Sarangkot   \n",
       "3           4                 Swayambhunath Temple   \n",
       "4           5                            Poon Hill   \n",
       "...       ...                                  ...   \n",
       "3308     3309  SITA (Travel Corporation India Ltd)   \n",
       "3309     3310                       Himalayan Hike   \n",
       "3310     3311                               Harilo   \n",
       "3311     3312                           Heli Sight   \n",
       "3312     3313                            River Fun   \n",
       "\n",
       "                                           genre    latitude  longitude  \\\n",
       "0         history:art_and_architecture:religious  27.7215062  85.359809   \n",
       "1                                         nature  28.2116268  83.932296   \n",
       "2                                         nature  28.2443761  83.944564   \n",
       "3         history:art_and_architecture:religious  27.7149298  85.288146   \n",
       "4                                         nature   28.400195  83.671789   \n",
       "...                                          ...         ...        ...   \n",
       "3308                                     history         NaN        NaN   \n",
       "3309  history:art_and_architecture:entertainment         NaN        NaN   \n",
       "3310                          entertainment:food         NaN        NaN   \n",
       "3311                                   adventure         NaN        NaN   \n",
       "3312              nature:adventure:entertainment         NaN        NaN   \n",
       "\n",
       "                                                img_url  \n",
       "0     data:image/jpeg;base64,/9j/4AAQSkZJRgABAQAAAQA...  \n",
       "1     data:image/jpeg;base64,/9j/4AAQSkZJRgABAQAAAQA...  \n",
       "2     data:image/jpeg;base64,/9j/4AAQSkZJRgABAQAAAQA...  \n",
       "3     data:image/jpeg;base64,/9j/4AAQSkZJRgABAQAAAQA...  \n",
       "4     data:image/jpeg;base64,/9j/4AAQSkZJRgABAQAAAQA...  \n",
       "...                                                 ...  \n",
       "3308                                                NaN  \n",
       "3309                                                NaN  \n",
       "3310                                                NaN  \n",
       "3311                                                NaN  \n",
       "3312                                                NaN  \n",
       "\n",
       "[3313 rows x 6 columns]"
      ]
     },
     "execution_count": 108,
     "metadata": {},
     "output_type": "execute_result"
    }
   ],
   "source": [
    "dataset"
   ]
  },
  {
   "cell_type": "code",
   "execution_count": 122,
   "id": "f2580cc0",
   "metadata": {},
   "outputs": [
    {
     "name": "stdout",
     "output_type": "stream",
     "text": [
      "2811\n"
     ]
    }
   ],
   "source": [
    "print(dataset['latitude'].isnull().values.sum())"
   ]
  },
  {
   "cell_type": "code",
   "execution_count": 126,
   "id": "58a2949e",
   "metadata": {},
   "outputs": [
    {
     "name": "stderr",
     "output_type": "stream",
     "text": [
      "/tmp/ipykernel_8269/2392121142.py:1: SettingWithCopyWarning: \n",
      "A value is trying to be set on a copy of a slice from a DataFrame\n",
      "\n",
      "See the caveats in the documentation: https://pandas.pydata.org/pandas-docs/stable/user_guide/indexing.html#returning-a-view-versus-a-copy\n",
      "  dataset['latitude'][1625]=np.nan\n"
     ]
    }
   ],
   "source": [
    "dataset['latitude'][1625]=np.nan"
   ]
  },
  {
   "cell_type": "code",
   "execution_count": 129,
   "id": "a1f2bbd3",
   "metadata": {},
   "outputs": [],
   "source": [
    "final=dataset.drop_duplicates(subset=['latitude','longitude'],ignore_index=True)"
   ]
  },
  {
   "cell_type": "code",
   "execution_count": 130,
   "id": "c68ae56f",
   "metadata": {},
   "outputs": [
    {
     "data": {
      "text/html": [
       "<div>\n",
       "<style scoped>\n",
       "    .dataframe tbody tr th:only-of-type {\n",
       "        vertical-align: middle;\n",
       "    }\n",
       "\n",
       "    .dataframe tbody tr th {\n",
       "        vertical-align: top;\n",
       "    }\n",
       "\n",
       "    .dataframe thead th {\n",
       "        text-align: right;\n",
       "    }\n",
       "</style>\n",
       "<table border=\"1\" class=\"dataframe\">\n",
       "  <thead>\n",
       "    <tr style=\"text-align: right;\">\n",
       "      <th></th>\n",
       "      <th>dest_id</th>\n",
       "      <th>title</th>\n",
       "      <th>genre</th>\n",
       "      <th>latitude</th>\n",
       "      <th>longitude</th>\n",
       "      <th>img_url</th>\n",
       "    </tr>\n",
       "  </thead>\n",
       "  <tbody>\n",
       "    <tr>\n",
       "      <th>0</th>\n",
       "      <td>1</td>\n",
       "      <td>Boudhanath Stupa</td>\n",
       "      <td>history:art_and_architecture:religious</td>\n",
       "      <td>27.7215062</td>\n",
       "      <td>85.359809</td>\n",
       "      <td>data:image/jpeg;base64,/9j/4AAQSkZJRgABAQAAAQA...</td>\n",
       "    </tr>\n",
       "    <tr>\n",
       "      <th>1</th>\n",
       "      <td>2</td>\n",
       "      <td>Phewa Tal (Fewa Lake)</td>\n",
       "      <td>nature</td>\n",
       "      <td>28.2116268</td>\n",
       "      <td>83.932296</td>\n",
       "      <td>data:image/jpeg;base64,/9j/4AAQSkZJRgABAQAAAQA...</td>\n",
       "    </tr>\n",
       "    <tr>\n",
       "      <th>2</th>\n",
       "      <td>3</td>\n",
       "      <td>Sarangkot</td>\n",
       "      <td>nature</td>\n",
       "      <td>28.2443761</td>\n",
       "      <td>83.944564</td>\n",
       "      <td>data:image/jpeg;base64,/9j/4AAQSkZJRgABAQAAAQA...</td>\n",
       "    </tr>\n",
       "    <tr>\n",
       "      <th>3</th>\n",
       "      <td>4</td>\n",
       "      <td>Swayambhunath Temple</td>\n",
       "      <td>history:art_and_architecture:religious</td>\n",
       "      <td>27.7149298</td>\n",
       "      <td>85.288146</td>\n",
       "      <td>data:image/jpeg;base64,/9j/4AAQSkZJRgABAQAAAQA...</td>\n",
       "    </tr>\n",
       "    <tr>\n",
       "      <th>4</th>\n",
       "      <td>5</td>\n",
       "      <td>Poon Hill</td>\n",
       "      <td>nature</td>\n",
       "      <td>28.400195</td>\n",
       "      <td>83.671789</td>\n",
       "      <td>data:image/jpeg;base64,/9j/4AAQSkZJRgABAQAAAQA...</td>\n",
       "    </tr>\n",
       "    <tr>\n",
       "      <th>...</th>\n",
       "      <td>...</td>\n",
       "      <td>...</td>\n",
       "      <td>...</td>\n",
       "      <td>...</td>\n",
       "      <td>...</td>\n",
       "      <td>...</td>\n",
       "    </tr>\n",
       "    <tr>\n",
       "      <th>453</th>\n",
       "      <td>498</td>\n",
       "      <td>Travel Maker South Asia</td>\n",
       "      <td>art_and_architecture:religious</td>\n",
       "      <td>27.7134196</td>\n",
       "      <td>85.311246</td>\n",
       "      <td>NaN</td>\n",
       "    </tr>\n",
       "    <tr>\n",
       "      <th>454</th>\n",
       "      <td>499</td>\n",
       "      <td>Nepal Alibaba Treks &amp; Tours Pvt Ltd</td>\n",
       "      <td>history</td>\n",
       "      <td>27.7375441</td>\n",
       "      <td>85.302841</td>\n",
       "      <td>NaN</td>\n",
       "    </tr>\n",
       "    <tr>\n",
       "      <th>455</th>\n",
       "      <td>500</td>\n",
       "      <td>Alpine Ramble Treks</td>\n",
       "      <td>history</td>\n",
       "      <td>27.7191624</td>\n",
       "      <td>85.306492</td>\n",
       "      <td>NaN</td>\n",
       "    </tr>\n",
       "    <tr>\n",
       "      <th>456</th>\n",
       "      <td>501</td>\n",
       "      <td>Info Nepal Treks and Expedition</td>\n",
       "      <td>history:art_and_architecture:entertainment</td>\n",
       "      <td>27.71673</td>\n",
       "      <td>85.307607</td>\n",
       "      <td>NaN</td>\n",
       "    </tr>\n",
       "    <tr>\n",
       "      <th>457</th>\n",
       "      <td>502</td>\n",
       "      <td>Mountain Overview Paragliding</td>\n",
       "      <td>adventure</td>\n",
       "      <td>NaN</td>\n",
       "      <td>NaN</td>\n",
       "      <td>NaN</td>\n",
       "    </tr>\n",
       "  </tbody>\n",
       "</table>\n",
       "<p>458 rows × 6 columns</p>\n",
       "</div>"
      ],
      "text/plain": [
       "     dest_id                                title  \\\n",
       "0          1                     Boudhanath Stupa   \n",
       "1          2                Phewa Tal (Fewa Lake)   \n",
       "2          3                            Sarangkot   \n",
       "3          4                 Swayambhunath Temple   \n",
       "4          5                            Poon Hill   \n",
       "..       ...                                  ...   \n",
       "453      498              Travel Maker South Asia   \n",
       "454      499  Nepal Alibaba Treks & Tours Pvt Ltd   \n",
       "455      500                  Alpine Ramble Treks   \n",
       "456      501      Info Nepal Treks and Expedition   \n",
       "457      502        Mountain Overview Paragliding   \n",
       "\n",
       "                                          genre    latitude  longitude  \\\n",
       "0        history:art_and_architecture:religious  27.7215062  85.359809   \n",
       "1                                        nature  28.2116268  83.932296   \n",
       "2                                        nature  28.2443761  83.944564   \n",
       "3        history:art_and_architecture:religious  27.7149298  85.288146   \n",
       "4                                        nature   28.400195  83.671789   \n",
       "..                                          ...         ...        ...   \n",
       "453              art_and_architecture:religious  27.7134196  85.311246   \n",
       "454                                     history  27.7375441  85.302841   \n",
       "455                                     history  27.7191624  85.306492   \n",
       "456  history:art_and_architecture:entertainment    27.71673  85.307607   \n",
       "457                                   adventure         NaN        NaN   \n",
       "\n",
       "                                               img_url  \n",
       "0    data:image/jpeg;base64,/9j/4AAQSkZJRgABAQAAAQA...  \n",
       "1    data:image/jpeg;base64,/9j/4AAQSkZJRgABAQAAAQA...  \n",
       "2    data:image/jpeg;base64,/9j/4AAQSkZJRgABAQAAAQA...  \n",
       "3    data:image/jpeg;base64,/9j/4AAQSkZJRgABAQAAAQA...  \n",
       "4    data:image/jpeg;base64,/9j/4AAQSkZJRgABAQAAAQA...  \n",
       "..                                                 ...  \n",
       "453                                                NaN  \n",
       "454                                                NaN  \n",
       "455                                                NaN  \n",
       "456                                                NaN  \n",
       "457                                                NaN  \n",
       "\n",
       "[458 rows x 6 columns]"
      ]
     },
     "execution_count": 130,
     "metadata": {},
     "output_type": "execute_result"
    }
   ],
   "source": [
    "final"
   ]
  },
  {
   "cell_type": "code",
   "execution_count": 131,
   "id": "8dfe461b",
   "metadata": {},
   "outputs": [],
   "source": [
    "final_out=pd.concat([final,dataset[458:]])"
   ]
  },
  {
   "cell_type": "code",
   "execution_count": 132,
   "id": "7e4bbfbd",
   "metadata": {},
   "outputs": [
    {
     "data": {
      "text/html": [
       "<div>\n",
       "<style scoped>\n",
       "    .dataframe tbody tr th:only-of-type {\n",
       "        vertical-align: middle;\n",
       "    }\n",
       "\n",
       "    .dataframe tbody tr th {\n",
       "        vertical-align: top;\n",
       "    }\n",
       "\n",
       "    .dataframe thead th {\n",
       "        text-align: right;\n",
       "    }\n",
       "</style>\n",
       "<table border=\"1\" class=\"dataframe\">\n",
       "  <thead>\n",
       "    <tr style=\"text-align: right;\">\n",
       "      <th></th>\n",
       "      <th>dest_id</th>\n",
       "      <th>title</th>\n",
       "      <th>genre</th>\n",
       "      <th>latitude</th>\n",
       "      <th>longitude</th>\n",
       "      <th>img_url</th>\n",
       "    </tr>\n",
       "  </thead>\n",
       "  <tbody>\n",
       "    <tr>\n",
       "      <th>0</th>\n",
       "      <td>1</td>\n",
       "      <td>Boudhanath Stupa</td>\n",
       "      <td>history:art_and_architecture:religious</td>\n",
       "      <td>27.7215062</td>\n",
       "      <td>85.359809</td>\n",
       "      <td>data:image/jpeg;base64,/9j/4AAQSkZJRgABAQAAAQA...</td>\n",
       "    </tr>\n",
       "    <tr>\n",
       "      <th>1</th>\n",
       "      <td>2</td>\n",
       "      <td>Phewa Tal (Fewa Lake)</td>\n",
       "      <td>nature</td>\n",
       "      <td>28.2116268</td>\n",
       "      <td>83.932296</td>\n",
       "      <td>data:image/jpeg;base64,/9j/4AAQSkZJRgABAQAAAQA...</td>\n",
       "    </tr>\n",
       "    <tr>\n",
       "      <th>2</th>\n",
       "      <td>3</td>\n",
       "      <td>Sarangkot</td>\n",
       "      <td>nature</td>\n",
       "      <td>28.2443761</td>\n",
       "      <td>83.944564</td>\n",
       "      <td>data:image/jpeg;base64,/9j/4AAQSkZJRgABAQAAAQA...</td>\n",
       "    </tr>\n",
       "    <tr>\n",
       "      <th>3</th>\n",
       "      <td>4</td>\n",
       "      <td>Swayambhunath Temple</td>\n",
       "      <td>history:art_and_architecture:religious</td>\n",
       "      <td>27.7149298</td>\n",
       "      <td>85.288146</td>\n",
       "      <td>data:image/jpeg;base64,/9j/4AAQSkZJRgABAQAAAQA...</td>\n",
       "    </tr>\n",
       "    <tr>\n",
       "      <th>4</th>\n",
       "      <td>5</td>\n",
       "      <td>Poon Hill</td>\n",
       "      <td>nature</td>\n",
       "      <td>28.400195</td>\n",
       "      <td>83.671789</td>\n",
       "      <td>data:image/jpeg;base64,/9j/4AAQSkZJRgABAQAAAQA...</td>\n",
       "    </tr>\n",
       "    <tr>\n",
       "      <th>...</th>\n",
       "      <td>...</td>\n",
       "      <td>...</td>\n",
       "      <td>...</td>\n",
       "      <td>...</td>\n",
       "      <td>...</td>\n",
       "      <td>...</td>\n",
       "    </tr>\n",
       "    <tr>\n",
       "      <th>3308</th>\n",
       "      <td>3309</td>\n",
       "      <td>SITA (Travel Corporation India Ltd)</td>\n",
       "      <td>history</td>\n",
       "      <td>NaN</td>\n",
       "      <td>NaN</td>\n",
       "      <td>NaN</td>\n",
       "    </tr>\n",
       "    <tr>\n",
       "      <th>3309</th>\n",
       "      <td>3310</td>\n",
       "      <td>Himalayan Hike</td>\n",
       "      <td>history:art_and_architecture:entertainment</td>\n",
       "      <td>NaN</td>\n",
       "      <td>NaN</td>\n",
       "      <td>NaN</td>\n",
       "    </tr>\n",
       "    <tr>\n",
       "      <th>3310</th>\n",
       "      <td>3311</td>\n",
       "      <td>Harilo</td>\n",
       "      <td>entertainment:food</td>\n",
       "      <td>NaN</td>\n",
       "      <td>NaN</td>\n",
       "      <td>NaN</td>\n",
       "    </tr>\n",
       "    <tr>\n",
       "      <th>3311</th>\n",
       "      <td>3312</td>\n",
       "      <td>Heli Sight</td>\n",
       "      <td>adventure</td>\n",
       "      <td>NaN</td>\n",
       "      <td>NaN</td>\n",
       "      <td>NaN</td>\n",
       "    </tr>\n",
       "    <tr>\n",
       "      <th>3312</th>\n",
       "      <td>3313</td>\n",
       "      <td>River Fun</td>\n",
       "      <td>nature:adventure:entertainment</td>\n",
       "      <td>NaN</td>\n",
       "      <td>NaN</td>\n",
       "      <td>NaN</td>\n",
       "    </tr>\n",
       "  </tbody>\n",
       "</table>\n",
       "<p>3313 rows × 6 columns</p>\n",
       "</div>"
      ],
      "text/plain": [
       "      dest_id                                title  \\\n",
       "0           1                     Boudhanath Stupa   \n",
       "1           2                Phewa Tal (Fewa Lake)   \n",
       "2           3                            Sarangkot   \n",
       "3           4                 Swayambhunath Temple   \n",
       "4           5                            Poon Hill   \n",
       "...       ...                                  ...   \n",
       "3308     3309  SITA (Travel Corporation India Ltd)   \n",
       "3309     3310                       Himalayan Hike   \n",
       "3310     3311                               Harilo   \n",
       "3311     3312                           Heli Sight   \n",
       "3312     3313                            River Fun   \n",
       "\n",
       "                                           genre    latitude  longitude  \\\n",
       "0         history:art_and_architecture:religious  27.7215062  85.359809   \n",
       "1                                         nature  28.2116268  83.932296   \n",
       "2                                         nature  28.2443761  83.944564   \n",
       "3         history:art_and_architecture:religious  27.7149298  85.288146   \n",
       "4                                         nature   28.400195  83.671789   \n",
       "...                                          ...         ...        ...   \n",
       "3308                                     history         NaN        NaN   \n",
       "3309  history:art_and_architecture:entertainment         NaN        NaN   \n",
       "3310                          entertainment:food         NaN        NaN   \n",
       "3311                                   adventure         NaN        NaN   \n",
       "3312              nature:adventure:entertainment         NaN        NaN   \n",
       "\n",
       "                                                img_url  \n",
       "0     data:image/jpeg;base64,/9j/4AAQSkZJRgABAQAAAQA...  \n",
       "1     data:image/jpeg;base64,/9j/4AAQSkZJRgABAQAAAQA...  \n",
       "2     data:image/jpeg;base64,/9j/4AAQSkZJRgABAQAAAQA...  \n",
       "3     data:image/jpeg;base64,/9j/4AAQSkZJRgABAQAAAQA...  \n",
       "4     data:image/jpeg;base64,/9j/4AAQSkZJRgABAQAAAQA...  \n",
       "...                                                 ...  \n",
       "3308                                                NaN  \n",
       "3309                                                NaN  \n",
       "3310                                                NaN  \n",
       "3311                                                NaN  \n",
       "3312                                                NaN  \n",
       "\n",
       "[3313 rows x 6 columns]"
      ]
     },
     "execution_count": 132,
     "metadata": {},
     "output_type": "execute_result"
    }
   ],
   "source": [
    "final_out"
   ]
  },
  {
   "cell_type": "code",
   "execution_count": 133,
   "id": "aa9eb878",
   "metadata": {},
   "outputs": [],
   "source": [
    "# save the final dataset\n",
    "final_out.to_csv(\"final_destinations_of_nepal_latest.csv\",index=None)"
   ]
  },
  {
   "cell_type": "code",
   "execution_count": null,
   "id": "f5751d8a",
   "metadata": {},
   "outputs": [],
   "source": []
  }
 ],
 "metadata": {
  "kernelspec": {
   "display_name": "Python 3 (ipykernel)",
   "language": "python",
   "name": "python3"
  },
  "language_info": {
   "codemirror_mode": {
    "name": "ipython",
    "version": 3
   },
   "file_extension": ".py",
   "mimetype": "text/x-python",
   "name": "python",
   "nbconvert_exporter": "python",
   "pygments_lexer": "ipython3",
   "version": "3.9.7"
  }
 },
 "nbformat": 4,
 "nbformat_minor": 5
}
