{
 "cells": [
  {
   "cell_type": "code",
   "execution_count": 2,
   "id": "b6feffee",
   "metadata": {},
   "outputs": [],
   "source": [
    "#import required libraries \n",
    "\n",
    "from sklearn.impute import SimpleImputer \n",
    "import pandas as pd \n",
    "import numpy as np \n",
    "import sys\n"
   ]
  },
  {
   "cell_type": "code",
   "execution_count": 3,
   "id": "b80d5197",
   "metadata": {},
   "outputs": [],
   "source": [
    "#import the dataset\n",
    "dataset=pd.read_csv('attractions_of_nepal.csv')"
   ]
  },
  {
   "cell_type": "code",
   "execution_count": 4,
   "id": "4e2463ef",
   "metadata": {},
   "outputs": [
    {
     "name": "stdout",
     "output_type": "stream",
     "text": [
      "                   title avg_rating  voted_by            genre\n",
      "0       Boudhanath Stupa        4.5      8897  Religious Sites\n",
      "1  Phewa Tal (Fewa Lake)        4.5      2988  Bodies of Water\n",
      "2              Sarangkot        4.5      2199        Mountains\n",
      "3   Swayambhunath Temple        4.5      6203  Religious Sites\n",
      "4              Poon Hill        4.5      1477        Mountains\n"
     ]
    }
   ],
   "source": [
    "print(dataset.head())"
   ]
  },
  {
   "cell_type": "code",
   "execution_count": 7,
   "id": "f2d8b5cc",
   "metadata": {},
   "outputs": [
    {
     "name": "stdout",
     "output_type": "stream",
     "text": [
      "['Boudhanath Stupa', 'Phewa Tal (Fewa Lake)', 'Sarangkot', 'Swayambhunath Temple', 'Poon Hill', 'Peace Temple', 'Pashupatinath Temple', 'Durbar (Central) Square', 'Chandragiri Hills', 'Mount Everest', 'Begnas Lake', 'Golden Temple (Hiranya Varna Mahavihar)', 'Patan Museum', 'International Mountain Museum', 'Bhaktapur Durbar Square', 'Narayani River', 'Kopan Monastery', 'Thamel', 'Nagarkot Panoramic Hiking Trail', 'Gokyo Lakes', 'Patan Durbar Square', 'Garden of Dreams', 'Namo Buddha (Stupa)', 'Polar Trekking & Expedition  - Day Tours', 'Kathmandu Durbar Square', 'Chitwan National Park', 'Gupteswar Gupha', 'Trisuli River', \"Devi's Fall\", 'Gurkha Memorial Museum', 'Muktinath Temple', 'Barahi temple', 'Maya Devi Temple', 'Annapurna Base Camp Trek', 'Annapurna Mountain Range', 'Bindhya Basini Temple', 'Kala Patthar', 'Asan', 'Bishazari Tal', 'Jomsom Muktinath Trek', 'Shivapuri Nagarjun National Park', 'Mahaboudha Temple', 'Kailashnath Mahadev', 'Dakshinkali Temple', 'Budhanilkantha', 'Krisnhna Mandir Temple (Chayasim Deval)', 'Jangchub Choeling Tibetan Monastery', 'Nagarkot Nature Trail', 'Pokhara Lakeside', 'Hanuman Dhoka', 'Mahendra Cave', 'Changu Narayan', 'The Crematoria', 'Seti River Gourge', 'Seti Gandaki (Seti River)', 'Bat Cave', 'Tiger Residency Resort', 'Sherpa Museum', 'Langtang Valley', 'Thrangu Tashi Monastery', 'Pathibhara Devi Temple', 'Patan Royal Palace', 'Janaki Temple', 'Kumari Chowk', 'Thani Mai Temple', 'Sagarmatha National Park Museum', 'Rupa Lake', 'Tushita-Nepal', 'Kali Gandaki River', 'Matepani Gumba', 'Rudra Varna Mahavihar', 'Khumbeshwar Temple', 'Annapurna Butterfly Museum', 'Narayanhiti Palace Museum', 'Babar Mahal Revisted', 'Pandeli Park, Sarangkot', 'Labim Mall', 'Basantapur Tower', 'Tatopani Hot Spring', 'The Central Zoo', 'yogconnection', 'Buddhasubba Temple', 'Adam Tribe Organic Farm', 'Mangal Bazar', 'Phulchoki', 'Kedareshwar Mahadev Mani Temple', 'Makwanpur Gadhi', 'Dudh Koshi River', 'Machapuchare', 'Mt Ama Dablam', 'Bhimsen Temple', 'Klod Fashion Exquisite', 'Manakamana Temple', 'Pokhara Museum', 'Kala Pattar', 'BIG Splash', 'Budhanilakantha Temple', 'Pullahari Monastery', 'Everest View Point', 'Khumbu Glacier', 'Kulekhani Dam', 'Shree Gaden Dhargay Ling Monastery', 'National Botanical Gardens', 'Muktinath Temple', 'Tharu Cultural Museum and Research Center', 'Shree Gahawamai Temple', 'Kyanjin Gompa', 'Chitwan Tharu Village', 'Ilam Tea Garden', 'World Peace Pagoda', 'Koshi Tappu Wildlife Reserve', 'Rara Lake', 'Kriayt Social Business', 'Jaganath (Krishna) Temple', 'Dipang Lake', 'Kafuche Lake', 'Indra Chowk', 'Gurunghe Hill', 'Ramgram Stupa', 'Kathesimbu Stupa', 'Basundhara Park', 'Nuwakot Durbar', 'Nyatapola Temple', 'Whoopee Land Amusement and Water Park', 'Sun Kosi', 'Dhumba Lake', 'Nagarkot Buddha Peace Park Hiking Trail', 'Nagarkot to Dhulikhel Hiking', 'Taleju Mandir Temple', 'Daman', 'The White Gallery', 'Mera Peak', 'Akash Bhairav Temple', 'Pokhara Trade Mall', 'MidTown Galleria', 'Mandala Street', 'Bageshwori Temple', 'Ghar Gompa', 'Memorial to Scott Fischer', 'Sauraha Tharu Culture House', 'Mount Climber Trekking Garment Pvt Ltd', 'Red Cliffs', 'Tilichol Lake', 'Gosainkunda', 'Miteri Park', 'Bagh Bhairab Temple', 'Sankhu Village', 'Bhat Bhateni', 'Amideva Buddha Park', 'Baha Bahi', 'Patan Gate', 'Kala Bairav', 'Vishwanath Mandir Temple', 'Vajrayogini Temple', 'Kanchenjunga', 'Dolakha Bhimsen Mandir', 'Phoksundo Lake', 'Astrek Climbing Wall', 'Old Gurung Museum', 'The Ashokan Stupas', 'Templo de Changu Narayan', 'Sauraha Art Gallery', 'Mardi Himal', 'Pindeshwor Temple', 'Siddha Baba Temple', 'Taleju Bell', 'Ranighat Palace', 'Lumbini Monastic Site', 'Valle del Naar', 'Mt Taboche', 'White Monastery', 'Taudaha Lake', 'Shechen Monastery', '55 Window Palace', 'Elephant Breeding Centre', 'The National Museum', 'Aircrafts Museum', 'Nagarjun Forest Reserve', 'Indreshwar Mahadev Temple', 'Degu Taleju Temple', 'Dattatreya Temple', 'Rato Machhendranath Temple', 'Shiv Jatta', 'Cathedral of the Assumption of the Blessed Virgin Mary', 'Image Ark', 'Seto Machindranath Temple', 'Panchakanya Temple', 'Nagi Gompa', 'Ambulapcha-La', 'Datankali Temple', 'Halesi Mahadev Temple', 'Casino Royale', 'Taumadhi Square', 'Freak Street (Jhhonchen Tole)', 'ISKCON', 'Aarya Ghat', 'Eternal Peace Flame', 'Tengboche Gompa', 'Bhat-Bhateni Supermarket and Departmental Store', 'Basantpur Dabali', 'Banepa Chnadeshwori Temple', 'Taragaon Museum', 'Boudha Farmers Market at Utpala Cafe', 'Shukla Phanta National Park', 'Chhango Adventure Canyoning In Nepal', 'Jumla', 'Kwa Bahal', 'Kalika Bhagwati Temple', 'Boudha Stupa Thanka Center', 'Jagan Narayan Temple', 'Kaiser Library', 'Royal Thai Monastery', 'The Natural History Museum', 'Ganesh Mandir', 'Manjushree Park', 'Dharapani Temple', 'Guhyeshwari Temple', 'Manakamana Mandir Temple', 'Kag Chode Thupten Samphel Ling Monastery', 'Shey Phoksundo National Park', 'Maula Kalika', 'Ghadiarwa Pokhari', 'Durbar Marg Street', 'Bara Gaon', 'Gumba Danda', 'Tea Garden', 'Tribhuvan Park', 'Shiva Parvati Temple', 'Thubchen Gompa', 'Hari Shanker Temple', 'Bulbule Lake', 'Ambikeshwori Temple', 'Manakamana Mandir', 'Santaneshwar Mahadev Temple', 'Bishal Bazaar', 'Pottery Square', 'Marpha Monastery', 'Khaptad National Park', 'Crocodile Breeding Centre', 'Dhaulagiri of Nepal', 'Ram Sita Vivah Mandap', 'Myanmar Golden Monastery', 'Changu Museum', 'Ram Mandir', 'Degutalle Mandir Temple', 'Annapurna Temple', 'Maru Ganesh Shrine', 'Temples of Machchhendra Nath and Min Nath', 'Dae Sung Shakya (Korean Temple)', 'Ratna Park', 'Vijayapur Hill', 'Banke National Park', 'Char Narayan Temple', 'Thahiti Chowk', 'Temple and Statue of King Narasimha', 'Nara Devi Temple', 'Bhinchhebahal', 'Kathmandu Contemporary Arts Centre', 'Military Museum', 'Shanti Spa', 'Kudan Stupa', 'Narasingha Mandir Temple', 'Nagarkot View Tower', 'Gokarneshwor Mahadev Temple', 'Gorakha Nath Temple Gorkha', 'Rolwaling Valley', 'Makhan Tole', 'Kakre Bihar Temple', 'Shashwat Dham', 'Vaisha Dev (Toothache Tree)', 'Chilancho Bahal', 'Gallery Mcube', 'Music Museum of Nepal', 'Kathmandu Fun Park', 'Destination Agro Farm Pvt Ltd', 'Tharu Cultural Museum and Research Cente', 'Bhimsen Tower', 'Tridevi Temple', 'himalayan arts gallery pltd', 'Guru Lhakhang Monastery', 'Jyapu Museum', \"Rani Pokhari (Queen's Pond)\", 'Peace Pagoda', 'Taleju Temple', 'Cambodia Lumbini Buddhist Temple', 'Woodcraft Gallery', 'Chobhar Caves', 'Kashthamandap', 'Macchhermo', 'Khadga Devi temple', 'Namkha Khyung Dzong Rigdin Choling Monastery', 'Kali Temple', 'Panch Pokhari', 'Root Art Gallery', 'Minnath temple', 'Mount Manaslu', 'Casino Mahjong', 'The Tribhuvan, Mahendra, and Birendra Museums', 'Vatsala Durga Temple', 'Chhairo Gompa', 'Hidden Valley (Khumjung Green Valley)', 'Kashmiri Mosque', 'Divine Yoga Studio', 'Aviation Museum', 'Woodcraft Gallery', 'Manimandap Pati', 'Martyr Memorial Park', \"Millionaire's Club and Casino\", 'Nepal Art Council Gallery', 'Gaddhi Baithak', 'Kalinchowk Bhagwati Shrine', 'Siddha Pokhari', 'Casino Rad', 'Pujari Math', 'The Thrangu Monastery', 'Fikkal Bazar', 'Bhairavnath Temple', 'Sundarijal Water Falls', 'Sindhuli Gadhi', 'Shiva Mandir Temple', 'Bagwati Mandir Temple', 'Ghanta Ghar Clock Tower', 'Jamchen Lhakhang Monastery', 'Big Bell', 'Mother Temple of the Graduated Path to Enlightenment', 'Rupse Falls', 'Mrigasthali Deer Park', 'Universal Crafts', 'Kathmandu Fun Valley', 'Mero Chitra Wears', 'Janakpur Dham Rail Station', 'Thorong La Pass', 'Casino Everest', 'Maju Dega Mandir Temple', 'Gauri Gaht', 'Annapurna Circuit', 'Khumjung Gompa', 'Kala Patthar', 'Monasterio Tibetano Boudhanat', 'Kalikasthan Temple', 'Kirateshwar Mahadev', 'Khawalung Monastery', 'Vishnu Mandir Temple', 'Dolma Treks', 'Chyasin Dega Temple', 'Bhadrakali Temple', 'The City Museum Kathmandu', 'Chua Viet Nam Tai Lumbini', 'Bachhareshwari\\u3000Mandir Temple', 'Blue Moon Curio Shop', 'Gokyo Ri', 'Chabdi Barahi Temple', 'Drigung Kagyud Dharmaraja Foundation', 'Chinese Temple', 'Gorakhnath Mandir Temple', 'Ugrachandi and Bhairav Statues', 'Singha Sattal (Silyan Sattal)', 'Indoor Sports Arena', 'Mahendreswor Mandir Temple', 'Sara Enterprises', 'Pharping HydroPower Dam', 'Manaslu', 'Ashok Stupa', 'Dirghaman & Ganeshman Chitrakar Art Foundation', 'Nyatapola', 'Nepal Vajrayana Mahavihara', 'Stone Vishnu Mandir Temple', 'Maha Vishnu Mandir Temple', 'Bansha Gopal Krishna Temple', 'Rizvi Brothers Paper Mache Gift Shop', 'Itum bahal', 'Pandra Shivalaya', 'Woodcraft Gallery', 'Kapilvastu', 'Buddha Nepal Art Gallery', 'Aviation Museum', 'Handy-Mandy Craft House', 'Sri Lanka Temple', 'Karmaraja Mahavihara', 'Shree Tanadevi Temple', 'Bhimsen Sthan Temple', 'Chandragiri Hill', 'Tri Chandra Collage', 'Lokta Paper Craft', 'Kotilingeshwor Mahadev Mandir Temple', 'Dharmadhaatu Stupa', 'Lucky Traders & Exporter', 'Manjushree Temple', 'Shree Bhawani Shankar Temple', 'Direction Exhibition & Convention Center', 'Shree Amar Narayan Temple', 'Doleshwor Mahadeva Temple', 'National Art Gallery', 'Kagyu Institute of Buddhist Studies', 'Laprak', 'The Charumati Vihara Stupa', 'Traditional Thangka Paintings Gallery & Workshop', 'Brass and Bronze Museum', 'Buddha Park', 'Little Buddha Statue', 'Krishna Temple', 'Indian Monastery', 'Bisnumati River', 'Bijeshwari Temple', 'Shobabaghwati', 'Drugon Jangchu Monastery', 'Dhansa Dega', 'Department of Immigration', 'Mahadev Mandir Temple', 'Ram Chandra Temple', 'Espace de visite', 'Gorkha Museum', 'Dharmodaya Mahachaitya', 'Dhagpo Sheydrub Ling Monastery', 'Gautami Nuns Temple', 'Til Mahadev Narayan Mandir', 'Manang Samaj Stupa', 'Bhupatindra Malla Statue', 'Tamur River', 'Manhal Healing', 'Panauti Museum', 'Nepalganj', 'Kailashnath Mahadev Statue', 'Thorangla Pass', 'Siddhi Lakshmi Temple', 'Bigu Gompa', 'Oldest Royal Palace Gurkha', 'Living Traditions Museum', 'Indrayani Temple', 'Palpa Durbar Museum', 'Uma Maheshwor Temple', 'Tempio Degli Elefanti Erotici', 'Naga Pokhari', 'Chyasilin Mandap', 'Tempio di Fasidega', 'Piazza Tachupal', 'Jal Binayak Temple', 'Tansen View Tower', 'Bhimsen Temple', 'Gopi Nath Temple', 'Nepal Hiking Team', 'Nepal Eco Adventure', 'Ace the Himalaya', 'Adventure-Pulse', 'Open Sky Paragliding', 'Happy Treks Nepal - Day Tours', 'Mountain Mart Treks & Expedition', 'Ethical Trekking Nepal', 'Himalaya Holiday Service', 'Saara Tourism Nepal-Travel Advisor in Nepal', 'Eastern Light Trek', 'Lovely Nepal Treks and Expedition - Day Tours', 'Mountain Delights Treks & Expedition', 'Nepal Horizon Treks & Expedition', 'Dreams Spa', '2Sisters Nepal Cooking School', 'The Great Adventure Treks & Expedition - Private Day Tours', 'Himalayan Quests - Day Tours', 'Incredible Treks', 'Magical Nepal', 'Visit Himalaya Treks', 'Thai Nepal Travels and Tours', 'Himalayan Friends Trekking - Day Tours', 'Mountain Holiday Treks & Expedition', 'Third Rock Adventures', 'Peace Himalaya Treks and Travels Pvt Ltd', 'Himalayan Car Rental Nepal', 'Nepal Ayurveda Home', 'Dream Heaven Adventure', 'Exciting Nepal Treks and Expedition', 'A1 Excursion - Private Day Tours', 'Mosaic Adventure', 'Himalayan Sky Adventure Paragliding', 'Tramping Himalaya', 'Destination Unlimited Treks & Expeditions', 'Pariwar Holidays', 'Vista Trek', 'Couch Adventure Nepal (CAN)', 'Odea Services', 'Ambition Himalaya Treks & Expeditions', 'Osho Vision Treks and Expedition', 'Landmark Discovery Treks –  Day Tours', 'Friends Adventure Team', 'Outshine Adventure', 'Flying Buddha Paragliding', 'Osho Divine Zone', 'A One Trek', 'Discovery World Trekking', 'Breathe Nepal Trekking', 'Nepal Gateway Trekking', 'THE SU4E HOME', 'Friendly Trekkers Adventure', 'Access Nepal Tour & Trekking', 'Trekking Team Group', 'Destination Himalaya Treks and Expedition', 'Earthbound Expeditions', 'Unique Path Trekking & Expedition', 'Travel Maker South Asia', 'Nepal Alibaba Treks & Tours Pvt Ltd', 'Alpine Ramble Treks', 'Info Nepal Treks and Expedition', 'Mountain Overview Paragliding', 'Epic Adventures - Day Tours', 'Hiking Adventure Treks', 'Village to Village Trekking - Day Tours', 'Nepal Hiking Adventure Company - Private Day Tours', 'Satori Adventures', 'Happyland Treks', 'The Tibetan Encounter Day Tours', 'Adventure Nepal Eco Treks - Private Kathmandu Day Tour', 'Nepal Cooking School', 'White Hill Adventure', 'Apex Himalaya Trek and Tour – Private Day Tours', 'Mountain Monarch Adventures - Private Day Tours', 'Into Nepal', 'Himalayan Adventure', 'Sisne Rover Trekking', 'Nepal Trekking Experts Pvt Ltd', 'Nepal Explore Summit Trek Pvt Ltd', 'Third Eye Adventure', 'Base Camp Adventure', 'Backpacker Treks and Expedition', 'AID Journeys & Adventure', 'Peak to Peak Tours and Treks Pvt Ltd', 'Gokyo Treks and Expedition', 'Himalayas On Foot - Day Tours', 'Fewa Trail Treks - Kathmandu', 'High Venture Plus', 'Four Brothers Adventure Travel', 'Hearts & Tears Motorcycle Club', 'Mountain World Treks - Day Tours', 'Nepal Peak Adventure', 'Escape Himalaya Trek and Expedition', 'Advance Paragliding', 'Good Vibe Adventure', 'Adventure Himalaya Circuit Treks and Tours - Private Day Tours', 'Adventure Treks Nepal', 'City Motorbike', 'Nepal Yoga Home', 'Nepal Dynamic Eco Tours and Services', 'Freedom Adventures', 'Himalayan Glacier Trekking - Private Day Tours', \"Trek Nepal Int'l - Day Tours\", 'Trekking Planner - Private One Day Activities', 'Index Adventure', 'Himkala Adventure', 'Mission Himalaya Treks - Private Day Tour', 'ABC Trek and Tour', 'Sunrise Paragliding', 'Purna Yoga & Treks', 'Mission Eco Trek - Day Tours', 'Atmashree Yoga Retreat', 'Adventure Bound', 'Himalayan Partner Treks & Expedition', 'Adventure Mountain Explore Trek & Expedition', 'World Himalayan Destination Pvt Ltd', 'Bliss Spa', 'Nepal Ascent Treks', 'Breakfree Adventures - Private Day Tours', 'Mountain Adventure Trekking (Pvt) Ltd', 'Trekking Team Pvt Ltd - Day Tours', 'Actual Adventure Trekking and Expedition', 'Himalaya Hub Adventure', 'Nepal Travel Advisor (S/N)', 'Peace Nepal Treks - Day Tours', 'Himalayan Abode Travels and Tours Treks and Expeditions - Private Kathmandu Day Tour', 'Nepal Wilderness Trekking', 'Explore Himalaya Travel & Adventure - Private Day Tours', 'Himalayan Wonders Day Tours', 'Adventure White Himalaya Treks', 'Himalayan Gateway Trek', 'Seeing Hands Clinic', 'Mountain Sun Valley Treks and Expedition', 'Mountain Ram Adventures', 'Nepali Cooking Course - Day Class', 'Saara Tourism Nepal-Kathmandu', 'Hanuman Paragliding', 'Middle Path Spa', 'Amigo Treks & Expedition - Day Tours', 'Paddle Nepal - Day Tours', 'Nepal Trek Adventure and Expedition', 'Orbit Nepal Adventure', 'Adventure Vision Treks and Travels', 'SK Handicrafts Export', 'Green Valley Nepal Treks & Research Hub - Day Tours', 'Scenic Nepal Treks & Expedition', 'Outfitter Nepal Treks and Expedition', 'Trekking Guide Team Adventure', 'Funny Nepal Treks & Expedition - Private Day Tours', 'Nature Lovers Treks & Tours', 'Backstreet Academy', 'Pokhara Mountain Bike Adventure - Day Trips', 'Unique Adventure International P Ltd', 'Frontiers Paragliding', 'Mount Mania Treks & Expedition', 'The Nepal Trekking Company', 'Adventure Master Treks', 'The Everest Holiday', 'Ammonite Adventures', 'Adventure Great Himalaya - Private Day Tours', 'Tribikram Yoga', 'Nepal Private Guide Services', 'Thamel Spa', 'Prime Himalayas', 'Nepal Mountain Club Pvt Ltd', 'Top of the World Adventure', 'Team 5 Nepal Paragliding', 'Himalaya Guide Nepal', 'Mandala Studio Yoga & Spa', 'Blue Mountain Travels - Private Mountain Flight Day Tours', 'Nepal Social Treks and Expedition', 'Purna Yoga Retreat', 'Glorious Himalaya Trekking', 'Ananda Natural Therapy', 'Himalayan Planet Adventures Day Tours', 'Himalayan Scenery Treks and Expedition', 'Jiva Cafe & Spa', 'Himalayan Social Journey', 'Socialtours', 'Mukti Yoga Retreat', 'Movie Garden', 'Kathmandu Urban Adventures', 'Great Vision Trek & Expedition - Day Tours', 'Tourist Link Treks and Expedition', 'Explore Kathmandu', 'Kinjjala Spa', 'Himalayan Magic Treks', 'Zen Spa', 'United Jungle Guide Service', 'Eyes On Nepal', 'India Odyssey Tours - Day Tour of Kathmandu', 'Himalayan Spirit Adventure Treks and Expeditions', 'Royal Mountain Travel', 'Aiming Adventure', 'Phoenix Paragliding Adventures', 'AVIA CLUB NEPAL', 'High Himalayan Trekking and Expedition - Day Tours', 'Nepal Intrepid Treks and Expedition', 'iTour Nepal Private Day Tours', 'Prana Treks & Expedition Pvt Ltd', 'Tour Guide In Nepal', 'Alpine Eco Trek & Expedition', 'My Everest Trip', 'Mountain Treks Nepal', 'Hikers Haven', 'Nepal Hidden Treks and Expedition P Ltd', 'Nepal Planet Treks and Expedition P Ltd', 'GAP Year Nepal', 'Karnali Excursions - Day Tours', 'Alliance Adventure', 'Kailash Journeys Pvt Ltd', 'Annapurna Foothills Treks & Expedition Pvt Ltd', 'Icicles Adventure Treks & Tours Day Tours', 'Seeing Hands', 'Cook With Delight', 'Trekking and Tour for Fair Tourism', 'The Mountain House Treks & Expedition Pvt Ltd', 'Trek and Adventure Nepal', 'Visit Heaven Treks', 'Blue Sky Paragliding', 'Manakamana Treks & Expedition Day Tours', 'Langtang Ri Trekking & Expedition', 'Beyond The Limits Trek and Expedition P Ltd', 'Ankit Treks', 'Skylark Himalayan Tours & Travels', '3 Sisters Adventure Trekking', 'Himalayan Joy Adventure', 'AGH Trekking', 'Nepal Tour Guide Team Trek & Expedition', 'Nepal Tibet Tours & Treks', 'Flyeast Nepal', 'Touch The Himalaya Treks & Expedition', 'Marvel Adventure Pvt Ltd', 'Unique Waymaker Treks & Expedition', 'Luxury Holidays Nepal Pvt Ltd', 'Budget Adventure Treks & Expeditions Private Day Tours', 'GN Reiki Meditation Center', 'Nepalorama Trekking', 'Remarkable Adventure Trek', 'Nepal Spiritual Trekking Pvt Ltd - Day Tours', 'Rapidrunner Expeditions - Day Tours', 'Himalayan Dream Team', 'Dolma Treks & Adventure', 'Himalayan Holyland Treks and Expedition', 'Fewa Trail Treks and Expedition', 'AM Travels and Tours', 'High Pass Adventure Pvt Ltd', 'Thin Air Adventure - Private Day Tours', 'Namche Bazaar', 'Nepal Teahouse Trekking - Day Tours', 'Seeing Hands', 'Himalayan Healers', 'North Nepal Travels & Treks', 'Sublime Trails', 'Nepal Unique Treks & Expedition - Day Tours', 'Adventure White Mountain', 'Royal Tenshi Treks Pvt Ltd', 'Imperial Nepal Private Day Tours', 'Bharal Adventure', 'Kathmandu Adventure Treks - Day Tour', 'Cloudbase Paragliding Nepal', 'Adventure Club Treks and Expedition Mountain Flight', 'Walk Mountain', 'Sherpa Brothers Treks and Expedition', 'Himalaya Trekking Team Pvt Ltd Private Day Tours', 'Sound Healing Nepal', 'Swotah Travel and Adventure', 'Life Dream Adventure Pvt Ltd Private Day Tours', 'Nepal Alternative Treks & Expeditions Pvt Ltd', 'Mount Face Nepal Day Tours', 'Earth Nepal Travel & Trek Day Tours', 'Luxury Holiday Treks (P) Ltd', 'Sawar Meditation and Yoga Center', 'Zam Zam Trekking', 'Outdoor Himalayan Treks - Private Day Tours', 'Wonderland Treks (Utsav)', 'Snowy Horizon Treks & Expedition', 'AAA Treks & Expedition', 'Crystal Mountain Treks', 'Himalayan Trip Nepal Private Day Tours', 'Transport Hub Nepal', 'Holiday Hiking Team', 'Global Adventure Trekking', 'Adventure Himalaya Nepal', 'Begnas Yoga & Retreat', 'Nepal Spa and Wellness pvtltd', 'Adventure Leaders Nepal', 'Nepal Hiking Trek', 'Real Therapy & Beauty Point', 'Nepal Mountain Trekkers - Day Tours', 'Nepal Royal Tourism Holiday', 'Life Door Treks & Expedition', 'Spiritual Excursion Private Limited', 'Trek Nepal Himalayas', 'Couch Adventure Nepal (CAN) - Kathmandu Branch', \"GRG's Adventure Kayaking - Day Tours\", 'Step By Step Treks & Adventures PvtLtd', 'Three Jewels Adventures', 'Wildlife Adventure Tours', 'Big Sky Treks and Expeditions', 'Magic Himalaya Treks', 'Adventure Magic Treks & Expedition', 'Nectar Spa', 'Himalaya Heart Treks & Expeditions', 'Adventure Thirdpole Treks', 'Asian Heritage Treks and Expeditions', 'Mount Fuji Adventure Pvt Ltd', 'Himalayan Trekkers', 'Nepal Promote Treks and Expedition', 'Responsible Treks', 'Social Tourism Nepal', 'Himalayan Single Track', 'Himalaya Seekers Treks & Expedition', 'Amazing Nepal Holidays', 'Malla Sisters Women Adventure Guides', 'Frolic Adventure Pvt Ltd', 'Nepal Mother House', 'Alpine Club Of Himalaya - Private Day Trip', 'Serene Himalaya Treks and Expedition Day Tours', 'Nepal Footprint Holiday Treks - Day Tours', 'Happy Nepal Trek', 'Malama Spa', 'Nepal Spirit Adventure - Private Day Tours', 'Good Karma Trekking  - Day Tours', 'Nepal Guide Treks and Expedition', 'Nepal Hiking', 'Professional Freelancer Trekking Guide', 'Mt Everest Base Camp Trekking', 'Kathmandu Car Services', 'JRN Treks and Expeditions Pvt Ltd', 'Nepal Kanko Treks and Expedition', 'Kamzang Journeys', 'Nepal Pioneer Treks and Expedition', 'High Asia Tours - Private Day Tours', 'Sabbatical Explore Nepal', 'Sound of Himalaya', 'Himalayan Sanctuary Adventure', 'Vyas Treks & Expedition', 'Corsa Nepal Adventure -Day Tour', 'Chitwan Jungle Safari', 'Nagarkot Everest View Paragliding', 'Nepal Tourism Adventure Kathmandu', 'Holidays to Nepal', 'Glory Himalayan Club', 'Everest Experience and Assistance', 'Mountain King Adventure', 'Nepal for Treks P LTD', 'Dal Bhat Power Adventures', 'Nepal Vision Treks & Expeditions', 'Halesi Treks PvtLtd', 'Himalayan Windows Tours', 'Archaic Nepal Adventure', 'Traveltimes Treks', 'Swiss Family Treks & Expedition', 'Wilderness Excursion', 'Starlink Tours & Travel', 'Sunrise Adventure Trek', 'Adam Treks & Expedition', 'Sunshine Trekking', 'HighGround Adventures', 'Insight Adventures Nepal', 'Snow Leopard Trek - Day Tours', 'Buddha Air', 'Nepal Yoga Academy', 'Step On Himalaya', 'Mountain Magic Treks', 'Glacier Nepal Treks', 'Getaway Nepal Adventure', 'Souvenir Trek Pvt Ltd', 'Annapurna Yoga Ashram', 'Trekking Trail Nepal - Day Activities', 'Himalayan Dragon Paragliding', 'Adventure Glacier Treks & Expedition', 'Apex Nepal Treks', 'Nepal Myths and Mountain Trails - Day Tours', 'Skyway Nepal Treks', 'Moksha Ayurveda and Panchakarma Center', 'Hi Nepal Travels & Treks', 'Mega Adventures International', 'Nepal Female Guide - Day Tours', 'Exploring Nepal Treks and Adventures - Day Tours', 'Life Himalaya Trekking', 'Save Himalaya Treks & Expedition', 'Himalayan Hero Adventures', 'Oriental Journeys', 'Himalayan Recreation - Day Tours', 'Mount Glory Treks & Expedition', 'Everest Trekking Routes Pvt Ltd', 'ABC and EBC Nepal Trekking Adventures', 'Goodday Nepal Excursion', 'First Environmental Trekking', 'Nature Explore', 'Himalayan NamoBuddha Travel & Treks Pvt Ltd', 'Himalayan Trekking & Tours', 'Mountain Amantes Adventure', 'AimWay Tours & Travels', 'Memory Nepal Travel & Treks', 'Sevenstar Adventure Holidays - Day Tours', 'HoneyGuide | To the Mountains', 'Unique Nepal Adventure Treks & Expedition', 'Corporate Adventure Treks', 'Silver Spring Treks & Expedition', 'Cosmic Trekking & Expedition Pvt Ltd', 'Create Himalaya Adventure', 'Wild Nabin', 'The Chitwan Jungle Guides', 'Himalayan Mentor', 'Nepal Trek Hub', 'Dragonfly Paragliding Nepal', 'Shakti Travels and Tours', 'Nepal Trekking Routes', 'Asahi Treks & Expedition - Mountain Flight and Helicopter Day Tours', 'Mount Trails', 'Nepal Mountain Hub Treks & Expedition', 'Nepal River Runner', 'Responsible Adventures', 'Golden Himalayan Zone Treks', 'Nepal Climbing Adventure', 'Attractive Travels and Tours', 'Mardi Himal Treks & Expedition', 'Summit Treks and Adventure', 'Hike Himalaya Adventure - Private Day Tours', 'Trekking Mart', 'The Trek Nepal', 'Northern Trekking Team', 'Apex Asia Travel & Trekking', 'Antique Nepal Treks - Day Tours', 'Across Himalaya Tours & Treks Ltd', 'Nepal Sanctuary Treks - Day Trip', 'Mountain Eco Treks & Expedition', 'Apex the Asia Holidays', 'Adventure Pilgrims Trekking', 'Heritage Spa', \"Sam's Bar\", 'Himalayan Nepal Trek  - Private Day Tour', 'Manikang Nepal Treks and Adventure', 'Linkage Tours & Travels', 'Rediscover Nepal Treks & Tours Pvt Ltd', 'Eagle Eye Treks and Expedition', 'Admiral Adventure Treks', 'Coldfeet Adventure - Kathmandu Valley Private Day Tour', 'Kanchan Yoga, Patan Lalitpur', 'Treks Planner Nepal', 'Welcome Nepal Treks - Day Tours', 'Global Holidays Adventure', 'Bhaktapur Tour Guide', 'Aim Nepal Adventure', 'Nepal Excursion Treks Pvt Ltd', 'Wongchhu Peak Promotion', 'Rugged Trails Nepal', 'Himalayan Adventure Nepal', 'Iconic Nepal Tours & Treks', 'Shiva Excursion pvtltd', 'Junket Nepal PvtLtd', 'Awesome Nepal Treks Pvt Ltd', 'Plan Himalaya', 'Umesh Adventures Nepal', 'Adventure Altitude Treks & Expedition Pvt Ltd', 'Caravana Himalaya Adventure', 'Sky Bird Paragliding', 'Himalaya Chyangpa Nepal Treks and Expedition Pvt Ltd', 'Manakamana Cable Car', 'Welcome To My Yard', 'Himalayan Cashmere Manufacturing Company', 'Budget Trekking', 'Beauty Nepal Adventure', 'Lake Valley Paragliding', 'Himalayan Wander Walkers', 'Mountain Kick', 'Charak Yoga, Thamel Kathmandu', 'Museum of Nepali Art', 'Team Ram Adventure Pvt Ltd', 'Babu Adventure', 'Nepal Vehicle Hiring', 'Mountain Experience', 'Highland Expeditions', 'Utmost Adventure Trekking', 'Mission Summit Treks And Expedition', 'Pristine Nepal', 'Unlimited Trekking Nepal - Day Tours', 'Adventure Team', 'Nepal Boundary Trekking Pvt Ltd', 'Himalayan Magic Adventures', 'Nepal Trip Planner P Ltd', 'KJ Adventure Nepal Private Limited', 'Merit Adventure', 'World Expeditions', 'Authentic Adventures', 'View Nepal Treks & Expedition', 'Jomsom Treks and Expedition - Private Day Tour', 'Eco Holidays Nepal', 'Caravan Outdoors', 'Bohemian Tours', 'Master Himalaya', 'Nepalgram', 'Mountain King Treks And Expedition', 'Yak & Yeti Trekking Shop', 'Nepal Tour & Trekking Service - Day Tours', 'Adventure Feel Nepal Treks and Expeditions Pvt Ltd', 'Gorkha International Travels - Kathmandu Day Tours', 'Loyalty Spa', 'Absolute HJ Sherpa Trekking Pvt Ltd', 'Himalayan Threads Handicrafts Shop', 'Aroma Nepal Treks & Expedition', 'Dream Tibet Travel & Tours', 'Easy Treks & Expedition P Ltd', 'Travhill', 'Ayurveda Health Home', 'Above the Himalaya Trekking - Private Day Tours', 'Nepal Lion Tours & Treks Pvt Ltd', 'Extollo Adventures', 'Ask The Nepal Adventure', 'Walking The Himalaya Treks & Tours', \"Women's Skills Development Organization\", 'Himalayan Advisor', 'Monterosa Treks and Expedition- kailash Tour package', 'Silver Mountain Adventure Pvt Ltd - Private Day Tours', 'Trek Mania Nepal', 'Exciting Himalaya', 'Graceful Adventure Travel pvt ltd', 'Himalayan Trekking Path', 'Himalayan Leisure, Inc', 'Explore Nepal Adventure Holidays', 'The Asia Adventure Nepal - Day Tours', 'Allied Adventure Travels and Tours', 'All Nepal Hiking', 'Asiana Trek & Tours', 'Musical Adventure Trekking - Day Tours', 'Mountain Hawk Trek - Private Day Tours', 'Friendship World Trek - Day Tours', 'Himalayan Yogini', 'Karmayogi Wellness', 'Amore Treks', 'Tranquility Spa - Thamel', 'Trip Pokhara Pvt Ltd', 'Adventure Exodus Pvt Ltd', 'Ace Vision Nepal', 'Friendly Nepal Treks', 'Black Diamond Expedition - Private Day Tours', 'Austravel & Tours Nepal P Ltd - Private Day Tours', 'Info Nepal Tours & Treks', 'Summitclimb and Summittrek', 'Tara Himalayan Vision', 'Accent Himalaya', 'Vespa Valley', 'Aerolight Paragliding', \"Local Women's Handicrafts\", 'The Chitwan Tiger Guide Service And Mini Library', 'Nepal Kameleon Holidays Pvt Ltd', 'Ever Wild Trek & Tours', 'Bold Adventures Pvt Ltd - Day Tours', 'Nepal Travel Advisor', 'Adventure Gandaki Treks and Expedition', \"Sarmila's Cooking Course Training\", 'Upper Himalayan Treks and Adventure Pvt Ltd', 'Eagle Treks and Expedition P Ltd & Heli Tour Private Day Tour', 'Hi Himalaya Nepal - Treks & Tours', \"Asian Hiking Team's Kathmandu Day Hiking\", 'Annapurna Mountain Bike & Adventure', 'Tour Guide in Nepal', 'Kathmandu Adventures Travel and Tours', 'Bisham Koirala', 'Summit International Travels & Tours', 'Jugal Holidays', 'Creative Adventure Nepal', 'Nepal Trekkers', 'Himalaya Journey Treks & Expedition', 'Footprint Adventure', 'Bluesheep Journeys', 'Tour Guide in Nepal - Lumbini', 'Advanced Adventures', 'Breeze Adventure Pvt Ltd', 'Amazing Nepal Trek & Expedition', '2Sisters Nepal Cooking School', 'Gorkha Adventure', 'Higher Limits Trek & Expedition', 'Hardcore Nepal Extreme Adventures - Day Tours', 'Lonely Nepal Travels', 'Himalayas On Foot Transport Service', 'Motherland Hiking Team - Private Day Tours', 'Himalaya Sky Travel and Adventure pvtltd', 'Zed Travels', 'Nepal Adventure Pilgrimage Treks and Expedition Pvt Ltd', 'Creative Holidays Nepal', 'Fly Nirvana Paragliding', 'Himalaya Message Adventure Private Ltd', 'Nepal Environmental Treks & Expedition', 'Female Tour Guide Nepal  - Private Tour', 'Nepal Highpoint Trekking', 'Holyland Adventure Tours and Travels', 'Magic Expedition Trekking and Tours', 'Mountain Hike Nepal', 'Gokyo Ri Trek', 'Adventure Challenge Centre', 'Asia Exploration Treks', 'Aasra Eco Treks - Private Day Tours', 'Scenic Adventure Day Tours', 'The Last Resort', 'Himalayan Pleasure Trekking - Day Tours', 'Top1Trekking', 'Mountain Tiger Nepal', 'Independent Trekking Guide in Pokhara', 'Himalayan Trekking Alliance', 'Mountain Vehicle Nepal', 'Himalayan Dreamland Trekking', 'Lumle Holidays - Private Day Tours', 'Himalaya Destiny Treks & Tours', 'Above and Beyond Trekking - Day Adventures', 'Nature Trail Travels & Tours, Trekking & Expeditions: Day Tours', 'Adventure Imagine - Private Day Tours', 'The Bike Shop Nepal - Day Trips', 'Snowyoda Expeditions Pvt Ltd', 'Nepal Highland Treks Pvt Ltd', 'WhiteWater Nepal Pvt Ltd', 'Peak Endeavor Day Tours', 'Himalayan Sunrise Trekking and Expeditions', 'Trekking Venue Nepal', 'Nepal Kailash Trekking', 'Sports Tours and Travel', 'Kamala Yoga Nepal', 'Journey Nepal Adventure', 'Top of The World Treks & Expeditions', 'Asian Adventure Trips Pvt Ltd', 'Drift Nepal Pvt Ltd', 'Alfresco Adventure Travel', 'Community Trek', 'Peak Promotion', 'White Himalaya Treks And Expedition', 'GK Majestic Trek', 'Ways To Explore Nepal', 'Heaven Nepal Adventure', 'Sangrila Trail Walk Trek - One Day tour', 'Tranquil View Treks & Expedition', 'Ever Quest - Trekking & Climbing in Himalayan with Jamling Bhote and team', 'Adrenaline Rush Nepal', 'Trekking For Real Pvt Ltd', 'Vehicles Rental Nepal', 'Friendship Nepal Tours and Travels', 'Pristine Mountain Adventure', 'Ashiyana Vehicle Service', 'Psycho Block Climbing Nepal', 'Himalayan Top Trekking Nepal', 'Mandara Spa & Wellness Center', 'Alliance Treks and Expedition PvtLtd', 'All Himalayan Treks - Day Tour', 'Nepal Base Camp Treks', 'Sherpashah', 'Pranamaya Yoga Studio Thamel', 'Sarangkot Paragliding', 'D & D Treks International - Day Tours', 'Transport Hire Nepal', 'Adventure Aves', 'Nepal Paradise Trek', 'Kinjjala Spa', 'CoreTreks', 'World Trail Finder Adventure', 'High Camp Trekking', 'Noble Treks', 'Kathmandu Spa', 'Rai Treks and Expeditions', 'Adventure Gorkhaland Treks & Expedition Pvt Ltd', 'Malung Treks and Expedition', 'Go For Nepal Treks and Expedition', 'The Helping Hands Spa', 'Destination Nepal Tours and Travels - Private Day Tours', 'Alpine Exodus Pvt Ltd', 'Well Plan Trekking', 'Mountain Air Guided Adventures - Day Tours', 'Annapurna Encounter', 'Yarsa Treks', 'Happy Himalayan Treks Pvt Ltd', 'Pokhara Vehicle Rental', 'Sambodhi Yoga Studio', 'Mountain Eye Treks and Expedition', 'Fly Nepal Paragliding', 'Elite Trekkers', 'Mountain Sherpa Trekking & Expeditions', 'Kailash Himalaya Trek', 'Mountain Layers Treks and Expedition Pvt Ltd', 'Highlander Trekking and Expeditions - Private Day Tours', 'Adventure Himalayan Travels & Treks', 'A One Nepal Trek Pvt Ltd', 'Pokhara Ultralight', 'Eco Tourism Adventure', 'Pilgrims Book House', 'Himalayan Smile Treks & Adventures - Chandragiri Day Hiking', 'Ascent Holidays', 'Fishtail Ultra Flights', 'Devo Adventure - Day Tours', 'Alpine Asian Treks and Expeditions - Private Day Tours', 'Explore Nepal Holidays', 'Exguides Treks & Expeditions  - Day Tour', 'Soul Himalaya Treks and Tours', 'Massif Holidays', 'Signature Tours Pvt  Ltd', 'Down To Earth Adventure', 'Padam Raj Adhikari', 'By Mountain People', 'Adventure Tour Nepal', 'Wild Nepal Trekking', 'Saras Adventure Travel & Tours', 'Mandala Nepal Treks', 'Rainbow Safari Tours & Travels P Ltd', 'Nepal-Tibet\\xa0Trekking - Private Day Tours', 'Himalayan 360 Pvt Ltd', 'Nepal One Adventure Pvt ltd', 'Ananda Spa', 'Hoshizora Treks & Tour', 'New Para World', 'Global Nepal Treks', 'Pigeon Travels-Nepal', 'Adventure Land Nepal', 'Ecstatic Himalaya', 'Walkers Expedition', 'Institute of Natural Medicine', 'Friendly Pashmina Export', 'Female Destination Trek & Expedition Trek & Expedition PvtLtd', 'Royal Holidays Treks & Expeditions', 'Nepal Pyramids Trekking & Climbing', 'Take Me Trekking', 'Himalaya Arirang Trek Private Limited - Kathmandu Sightseeing', 'Holy Sherpa Visioin Treks & Travel', 'Sawasdee Nepal Treks and Tours', 'Evolution Yoga', 'Rekha`s Cooking Class', 'Nepal Ecology Treks', 'Mountrance Nepal Adventure', 'Jungle Explore Tours', 'Big Sky Treks & Expeditions', 'Heaven Himalaya', 'Jungle safari tours', 'Tranquility Spa - Pokhara', 'Mountain Ascend Treks', 'Exotic Mt Treks Pvt Ltd', 'Nepal Altitude Treks & Expedition Private Limited', 'Baniya Travel', 'Mystic Himalaya Trekking & Expedition', 'Sole Encounters Nepal', 'Kinoko Treks and Expeditions', 'Mother Land Nepal Trekking & Expedition', 'Himalaya Land Treks & Expedition', 'Himalaya Travel Adventures', 'Raya Tours and Travels - Private Day Tours', 'Alpine Glacier Treks', 'Pokhara Paragliding', 'Waiba Adventure Trek', 'Samsara Trekking', 'Pathfinder Treks & Expedition', 'The Himalayan Odyssey', 'Supreme Treks', 'Easy Trip Nepal', 'Himalaya View Treks', 'Sherpa Guide Nepal', 'Euro-Asia Tours and Travels - Day Tours', 'Sherpa Holidays', 'BMS Adventures', 'Mountain Top Travels', 'Adventure Speed - Private Day Tours', 'Boundless Himalayas Trekking and Expedition Pvt Ltd', 'Dadhi Ram Thapa', 'Blossom Expeditions Pvt Ltd', 'Mountain River Rafting - Private Day Rafting', 'Excellent Himalaya Trek and Expedition', 'Explore Evenmore Tour and Travels', 'Ajay Treks & Expedition Pvt Ltd', 'Sunrise Jewelry Making Classes', 'Upscale Adventures', 'Heian Treks & Expeditions', 'Encounters Nepal', 'Ultimate Descents Nepal', 'Smile Adventure and Tours -  Day Tours', 'Trek into Thin Air', 'Team Himalaya Pvt Ltd', 'Ace Holiday Treks', 'Backstreet Academy', 'West Indoor Sport Hub Pvt Ltd - WISH', 'Yoga Chautara', 'Distinctive Nepal', 'Moonlight Nepal Trekking and Adventure', 'Snow Touch Travel and  Treks', 'Amazing Nepal Adventure', 'Epic Rides Nepal - Mountain Biking Trips', 'Himalayan Suite Spa and Restaurant', 'Everest Hiking Treks & Expedition - Day Tours', 'Global Treks & Expedition', 'Approved Holidays', 'Trek Nepal Adventure', 'Himalayan Monk Travels & Treks', 'Snow View Trek & Expedition', 'Nepal Adventure Team', 'Mountain Trotters Treks and Expedition - Day Tours', 'Himalayan Leaders', 'Bidur Adhikari', 'Trekadviser', 'Forever Trek Nepal', 'Gorkha Zone Khukuri House', 'Lhasso Adventure', 'Mountain Rock Treks And Expedition', 'Higher Path Treks & Expedition', 'Eco Himalaya Treks & Travels', 'Liberty Holidays', 'Santosh Gauli, Nepal Everest Guide- Day Hike', 'iTREK Everest', 'Himalaya Journey', 'United Brothers Trek and Expedition', 'Himalayan Hikers Expedition', 'Hiking Himalayas Trek and Expedition Private Day Tours', 'Himalayan Exodus Treks & Tours', 'Safeways Holidays Tours & Travels', 'Hike Nepal', 'Wind Horse Adventures', 'Mudra Yoga Studio', 'Everest Paragliding', 'Travel Pinto', 'Nepal One Tours & Travels', 'Blue Himalaya Tours & Travels', 'Shishir Thapa', 'Everest Irish Bar', 'Open Trail Treks', 'Vehicles Hire Nepal', 'Pioneer Adventure', 'Bardia Jungle Safari', 'Time in Nepal', 'We Trek Nepal', 'Mount Heaven Spa', 'Nature Cure', 'White Himalayan Adventure Treks', 'Discover Himalayan Treks', 'Overland Vehicle', 'Rising Adventure', 'Vehicles Nepal', 'Padma Healing Arts', 'Shambhala Holidays', 'Nepal Holiday Trek - Langtang Heli Tour', 'Ace Holidays - Day Tours', 'Alpinetrav Treks & Expeditions', 'Trek Ape', 'Nepal Himalayan Hiker Trek & Expedition', 'Expedition HimalayaCom Pvt Ltd', 'Big Smile Nepal', 'Circuit Nepal Trek & Expedition', 'Step Himalaya Trek Pvt Ltd', 'Cast Holiday Pvt Ltd', 'Shalom Treks', 'Tashiling Handicraft Centre', 'Buna Treks & Expedition - Private Day Tour', 'Mark Shrestha - My Tour Guide in Nepal', 'Namaste Spa', 'Sherpa Society Trekking', 'The Explore Nepal', 'Beyul Travel and Treks', 'Glacier Adventure Company - Day Tours', 'Nepal Nomad Trekking', 'Adventure Victory Team', 'Incredible Himalayan Sherpa Adventure Pvt Ltd', 'Couch Adventure Nepal (CAN) - Chitwan Branch', 'Nirakar Singing Bowl Center', 'Mount Fishtail Adventure - Day Tours', 'Love Kathmandu Walking Tours', 'Reasonable Treks And Tour', 'Neo Transports', 'Himalaya Frontiers Paragliding', 'Trek Around Himalayas', 'Himalayan Hermitage', 'Holiday Mountain Treks - Private Day Tours', 'Desire Adventures', 'High Spirit Treks and Expedition Nepal', 'Himalaya Darshan Treks', 'Parikrama Treks & Expedition - Day Tours', 'Pranamaya Yoga', 'Tourist Vehicle Service', 'Explore Nepal Mountain - Kathmandu', 'Himalayan Trails', 'Adventure Sports Nepal', 'Trek Excursion', 'Safe Holiday Adventure', 'Nepal Dream Path', 'Expert Asian Tours and Travel - Day Tours', 'Cumulus Clouds Nepal Paragliding', 'Himalayan Holidays', 'Hope Treks', 'Kathmandu Paragliding', 'Himal Eco Treks', 'Adventure Sherpa Tracks', 'Nepal Helicopter Tour', 'Accessible Adventure', 'Peacock Shop', 'Snowland Treks & Expedition', 'Mountain Monkey', 'Couch Adventure Nepal (CAN) - Lumbini Branch', 'Success Adventure Treks', 'Orbit Alpine Adventure', 'Jhamka Trekking Team', 'Seeing Hands', 'Sagarmatha Paragliding', 'Vision Adventure Nepal', 'Swissa Rafting & Trekking Expedition', 'Real Himalaya Private Day Tour', 'Total Adventure Nepal', 'Yatra Tours and Travels', 'Nepal Hiking Himalaya', 'Sea To Summit Trekking', 'Tashi Delek Nepal Treks and Expeditions', 'Oneals Backpackers Adventure', 'Himalayan Adventure Sports', 'Vistas Himalaya Tours & Travels', 'Mantra Adventure', 'Himal Mandap Treks & Expedition - Private Day Tours', 'Himalayan Travel Partner', 'Navigation Travel and Trek', 'Kailash Adventure', 'Adventure Solu Trekking & Tour', 'Nepal Treks and Tour', 'Namaste Nepal Trekking & Research Hub Pvt Ltd', 'Nepal Himalayas Trekking', 'Selina Treks & Expeditions', 'Nepal Environmental Treks & Expedition - Flight Day Tour', 'Eve Holidays', 'The Himalayan Journeys Nepal', 'Kedar Craft', 'Asia Experiences', 'Himalayan Golf Course', 'Amazing Himalaya Trekking Pvt Ltd', 'Adventure Ascent', 'Ananya Holidays - Private Day Tour', 'Monal Paragliding', 'Pink Mountain Travels and Excursions - Private Day Tours', 'Sherpa Expedition & Trekking', 'Pyrenees Nepal Treks and Trails', 'Adventure High Mountain', 'Himalaya Sunrise Treks And Expedition PvtLtd', 'Leaf Holidays Treks & Expedition', \"Bella's Magic Mountains\", 'Golden heaven Paragliding', 'W Adventures Nepal', 'Makalu Adventure', 'Trek in Nepal Peak Adventures', 'Firante Treks and Expeditions', 'Himali Dreams', 'Yatri Car Rental', 'Sacred Summits', 'Holy Garden', 'Himalaya Family Adventure', 'New Creation Nepal', 'Nepal Academy Treks & Expedition', 'Nepal Sightseeing Adventure', 'Lion Heart Travel And Tours', 'Himalayan Eco Treks & Travel', 'See Nepal Travel & Adventure - Day Tour', 'Himalaya Dream Adventure', 'Friendship Cooking School', 'KP Treks', 'Din Travel and Tours PvtLtd', 'Au Coeur Du Nepal Treks and Expedition', 'Randonnee Nepal Treks', 'Silver Oaks Handicraft', 'Gaurisankar Himalaya Treks and Expedition', 'Independent Trekking Guide Cooperative', 'High Hike Nepal', 'Asian Eco Journeys', 'Brave Heart Himalaya Treks', 'Adventure All Nepal Treks - Day Tours', 'Lig Lig Travel', 'Seven Women', 'Timeless Spa', 'Vertex Holiday', 'Old Blues Bar', 'Karma Flights', 'Eco Ventures Treks and Expedition', 'Pokhara Heli Services', 'Going Nepal Pvt Ltd, Tailor-made DMC in Nepal', 'Mega Treks & Expedition -Private Day Tours', 'Exciting Nepal Holidays Treks', 'Sunrise Adventure Travels', 'Trekking Plus', 'Shree Yoga Retreat', 'Everest Glacier Trek Pvt Ltd', 'Home Of Treks & Extreme Expedition pvt ltd', 'Nepal Holiday Makers Tours and Travels', 'Nepal Big Mountain Travel Company', 'Adventure Alpine Gorkha Treks & Expeditions Pvt Ltd', 'Serenity Spa', 'Green Wall Paragliding', 'Incredible Adventure Nepal', 'Revival Nepal Adventure', 'Overland Trek Nepal', 'Wild Tracks Nepal - Himalayan Motorcycle Journeys', 'Wild Adventure Nepal', 'Regulus Treks and Expedition', 'Alpine Holidays Pvt Ltd', 'Trek With Ngima', 'Himalayan Hub', 'Fewa Trail Treks - Chitwan', 'Three Diamond Adventure', 'Osho World Adventure', 'Travel Away Treks and Expedition', 'Access The Asia', 'Marron Treks - Day Tours', 'Co-operative Jungle Guide Service', 'Trek Guiders', 'Transportation Link Nepal', 'Nectar Spa Pokhara', 'Kundalini Sound & Herbal Therapy', 'Snow Dragons Nepal Treks', 'Travel Umpire', 'Himalayan High Spirits Adventures', 'Hiking Nepal', 'Himalayan Asia Treks', 'Ecological Treks Private Limited - Day Hiking Tours', 'Classic Escapades', 'Broad Adventure - Day Tours', 'Beyond Borders Ethical Adventures', 'Marvel Treks And Expedition', 'Spa Samsara', 'Alaya Holidays', 'Mountain Path Treks & Expedition', 'Himalayan Yak Trek and Adventure', 'Dream Discovery Treks Pvt Ltd', 'Dus Travel', 'Trekking Through Nepal', 'Holiday Hiking', 'Nepali Creation Souvenirs Shop', 'Adventure Highpass', 'High Camp Adventure', 'Himalayan Rock Treks & Expedition', 'Balloon Nepal', 'Pure Adventure Nepal - Day Tours', 'Partages Népal Treks', 'Love Love Pashmina Store & Gems', 'Connections Nepal Treks', 'Global Link Tours & Travel', 'Fujiyama Treks & Expedition', 'Eye On Himalaya', 'Sherpanomads', 'Yeti Trail Adventure - Day Tours', 'SASANE Sisterhood Trekking and Travel', 'Hairy Yak Adventures', 'Golden Nepal Holidays PvtLtd', 'Adventure Discovery Treks & Expedition', 'Gandaki Village Trekking and Travel', 'Ride & Dare Motorcycle Club', 'Nepal Recreation', 'Om Holidays Tour & Trek', 'Les Alpes-Himalaya Trek & Expedition Pvt Ltd', 'Buddha Bar', 'yoga & meditation retreat with monks', 'Wayfarers Himalaya Journeys', 'Mountain Brave Adventures', 'Himalaya Discovery Adventures', 'Himalaya Thunder Treks Day Tours', 'Glacier Family Treks & Expedition', 'Himalayan Exploration Treks', 'Madam Tours', 'Hike On Travel and Trek Pvt Ltd', 'InspireU Adventures', 'High Route Adventure', 'Day With Elephants', 'TREKT Himalaya', 'The Himalaya Trekking Company', 'Shin Haru Treks & Expedition - Day Tours', 'Yak and Yeti Treks and Expedition', 'Adventure Thamserku', 'Shepherd Holidays', 'HST Adventures', 'Siddha Gufa', 'Sherpa Guides Nepal Treks & Expeditions PvtLtd', 'Northstar Voyage', 'Laser Travel and Tours PLTD', 'Climb High Himalaya', 'Camellia Spa & Healing Center', 'Himalayan Kayak School', 'Trek to Nepal', 'Store of Hemp Clothes and Accessories', 'Helpinghand Handicrafts', 'World Alpine Treks', 'Reliance Trekking', 'Swan Valley Treks & Expedition', 'Best Adventure Nepal', 'Himalayan Friendly Treks', 'Ideal Nepal Tours and Travels', 'Nepal High Trek & Expedition', 'Nepal Everest Adventures', 'Kara Pashmina', 'Mount Annapurna Treks & Expedition', 'Asian Adventure Treks and Expedition - Nepal Mountain Flight Day Tours', 'Rajendra Ramtel', \"Chain 'N' Gear Mountain Bikes Tours\", 'Odyssee Nepal Trekking', 'Taleju Adventure', 'Highland Eco Trek', 'UNLIMITED HIMALAYA ADVENTURES PVT LTD', 'Pleasant Path Treks And Expedition', 'Mountain Biking Worldwide', 'Api Himal Treks & Expedition', 'Pokhara Mountain Tiger', 'Nepal Trek Ways', 'Proud Nepal Travel and Expedition', 'Trek with Suraj🇳🇵', 'Sasane - Momo Cooking Class', 'Pranamaya Yoga Studio', 'Himalayan Entrance Treks PvtLtd', 'Evergreen Tours', \"Nomad's Land\", 'My Asia Holidays', 'Elephant Tours', 'Uma Holidays Travels & Tour', 'Nepal Yoga Teacher Training & Retreat Center', 'Chamling Cycle Pokhara', 'Flyzone Adventure', 'Trekking Encounters Nepal - Day Tours', \"Hill's Way Treks\", 'Spa Prana', 'Walkabout International', 'Lakeside Paragliding', 'Kathmandu Sport Climbing Center', 'Ace Heritage Nepal  Private Day Tour', 'Rustic Himalayan Adventure', 'Shiva Treks and Expeditions', 'Kathmandu Center Of Healing', 'Beauty Spa Hub', 'Nepal Mountain Lovers Treks and Expedition (P) Ltd Day Tours', 'Explore Dream Nepal Tours', 'Adventure World Club', 'White Lotus Adventure', 'Nepal Travel Advisor - Lumbini', 'World Heritage Treks - Private Day Tours', 'Amrit Treks and Expedition', 'Nepal Adventure Point', 'Kingfisher Adventure & Treks', 'Himalayan Adventure Intl Treks & Expedition', 'Book Cab Now', 'Adventure Gaurishankar - Day Tours', 'Yala Mandala Cafe', 'Friendship Trekking Pvt Ltd', 'Alpine Kailash Trek', 'Alpine Journeys Treks & Expedition - Private Day Tours', 'Himalayan Vacation Treks & Expedition Pvt Ltd', 'Trek and Climb Adventure', 'Guidea Treks & Expedition - Day Tours', 'Discover Altitude', 'Nepal Holiday Treks and Tours', 'Boss Adventure', 'Keep Walking Nepal Treks and Expeditions', 'Green Hiker Treks Chisapani Private Day Trip', 'Jatra Travels', 'Miteri Nepal International Trekking', 'Dream Himalaya Adventures Pvt Ltd', 'Himalayan Icefall Trekking', 'House of Cashmere NTA', 'Himalayan Nirvana spa', 'Explore Vacation Pvt Ltd', 'Nepal Mountain Bike Tours', 'Upper Mustang Treks & Expedition', 'Mega Mount Trekking & Expedition', 'Bike Hub', 'Beside The Himalayan Treks', 'Buddha Treks Group', 'Extreme River Rafting Private Day Tours', 'Om Handicrafts', 'Nepal Female Trek - Day Tours', 'Great Panorama Treks & Expedition', 'Nepalese Trekking', 'Mountain Miracle Treks and Expedition Pvt Ltd', 'Adam Tours & Travels', 'Peregrine Treks and Tours', 'Salvation Travel', 'Travel With Me Nepal', 'Nepal Trail Finder Treks & Expedition', 'Adventure Tansen Trek', 'Evergreen Yoga Studio Chitwan', 'Explore Himalayan', 'Mustang Mountainbikes', 'Skywalk Paragliding', \"All Trekker's Team\", 'Rainbow Adventure Treks & Tours', 'Explore Pokhara Holiday Adventure', 'Himalaya Walking Tours and Travels', 'Silent Yoga Retreat', 'Ktenzing Adventure', 'Off The Beaten Path Trek', 'Footloose in the Himalaya Pvt Ltd', 'Apex Himalaya Treks & Expedition', 'Sotai & Kai Therapy Centre', 'Nature Expedition Tours', 'Base Camp Excursion', 'Travel to Himalayas Pvt Ltd Nepal; The best operator', 'Red Rose Travel, Tours and Treks PLtd', 'Travel Max Guide - TMG Adventure', 'Yala Adventure Pvt Ltd', 'Nepal Wonders Treks', 'Cultural Treks & Expedition', 'Khumbu Adventures', 'Trail Blazer Travels & Tour P Ltd', 'Pranamaya Yoga', 'Namaste Treks', 'Everest Tour Nepal Treks & Expedition Pvt Ltd', 'Nepalese Pashmina & Cashmere Shop', 'Crimson Nepal Adventure', 'Go Trek Nepal Day Tour', 'Himalayan Ski Trek', 'Nepal Mountain Company Pvt Ltd', 'Himalayan Challenge Treks', 'Traveller’s Eco Tours', 'Himal Tourism PvtLtd', 'Trexmount Ventures', 'Mountain Routes', 'Everest Extreme Adventure', 'Friday Travel Nepal', 'Blue Lake Travels And Tours Pvt Ltd', 'Chitwan Jungle Safari', 'Hidden Journeys Private Day Tours', 'Cheap Trip Nepal and Himalaya Adventure Group', 'Best Treks In Nepal -  Nepal Tour Packages : Best Treks Ghorepani Poon Hill Trek', 'Hello Travels', 'Liquid Bar Namche', 'Adventure Mountain Treks and Expedition (P) Ltd', \"Neeru's Spa at Shivapuri Heights Cottage\", 'Mountain Hawk Aero Sports Club', 'HImalayan Glow Treks & Expedition', 'Adventure Kora', 'Peaches The Wax Bar', 'Mountain Hiking and Trekking - Day Tours', 'San Trekking Nepal', 'Shambhala Trekking', 'Duke Nepal Adventure', 'Plan Holidays Travel and Tours (P) Ltd', 'Advent Himalaya Treks', 'Twin Peaks Treks & Travels', 'Himalayan Destinations', 'Himalayan Discovery Trek', 'Saribung Adventure - Day Tour', 'New Treasure Art', 'International Sherpa Adventure Private Day Tours', 'Baber Mahal Revisited', 'Global International Travel', 'Oasis Spa And Beauty Care', 'Yeti Travels - Private Day Tours', 'Women Empowerment Trek', 'Green Society Adventure', 'Nepal Music Gallery', 'Northcliff Treks & Expedition', 'Roof of the Himalayas', 'BP Scout Peak Treks and Expedition', 'Nature Connection Treks & Tours', 'East and West International Tours and Travels - Private Day Tours', 'Mountain Expedition Nepal (MEN) - The Expedition Expert', 'Water By Nature - Nepal', 'Himalayan Trail Finder Adventure Center', 'Base Camp Hike', 'Protrek Adventure', 'Vintage Travels & Tours', 'Far Out Nepal', 'Yoga With Chintamani', 'Eco Holidays Asia', 'Crusade Himalaya', '8000 Expeditions', 'Fishtail Tours & Travels', 'Cycle Tours & Travel', 'Mountain Flyers Paragliding', 'Yatri Spa', 'Annapurna Trekking Agency', 'Adventure Mountain Nest', 'Tour Guide In Nepal - Sauraha', 'Pia', 'Best Nepal Trekking', 'Himalayan Vision Treks', 'Pampering Day Spa', 'Golden Nepal Trek & Expedition', 'My Nepal Treks and Expedition Pvt Ltd - Private Day Tours', 'Flying Munky Airventures', 'Mountain Guide Trek & Expedition', 'Patasi Cashmere', 'Nature Heaven Treks and Expedition', 'Tranquility Spa - Soaltee Crowne Plaza', 'Adventure International Trekking', 'Dhukuti', 'Nomadic Nepal', 'Solace Adventure Pltd', 'Fishtail Nepal Paragliding', 'Poonhill Treks & Expedition', 'Ridge Trail Trekking Pvt Ltd', 'Holy Mountain Treks', 'Himalayan connection', 'Om Singing Bowls & Healing hub', 'High Five Adventures', 'Himalayan Yogi Adventure', 'Tailored Treks and Expeditions', 'Apsana International Treks and Expedition Private Limited', 'Swami Narayan Travels Pvt Ltd', 'Himalayan Snow Treks and Expedition', 'Travelsmith Nepal', 'Adventure Mountain Club', 'Bespoken Himalayan Treks', 'Bikemandu', 'Pressure Points Spa', 'Himalayan Nomad Treks', 'Wanderlust Yoga', 'Makalu Arun Social Trek', 'Nepal Glory Treks', 'Family Adventure Treks and Expedition - Private Day Tours', 'Himalayan Treks', 'Gyan Mandala', 'Outdoor Compass Trekking Shop', 'Om Holidays Tour and Trek Private Limited', 'New Barber Shop', 'Mission Nepal Holidays - Day Tours', 'Holistic Health Yoga Studio', 'Altimate Himalaya', 'Himalayan Eco-Culture Treks & Research Expeditions', 'Saraswoti Yoga', 'Smiling Buddah Trekking & Cultural Tours', 'Sunapati Thanka Painting School', 'Nepal Yetiraj Treks', 'Trail Himalaya', 'Asian Mystery Treks - Private Day Tours', 'Mahaguthi Craft With Conscience', 'Nepal Trekking Lover', 'Z Store', 'Golden Gate Holidays Travels & Treks', 'Base Camp', 'Happy Holiday Treks and Expedition', 'Prabhu Helicopter', 'Himalayan Yoga Academy', 'Mount Adventure Holidays', 'Everest Base Camp Helicopter Tour', 'Wellness Organic Club - Spa', 'Himalaya Kailash Travels & Tours', 'Skyline Treks and Expedition Pvt Ltd Day Tours', 'Shankarapur Paragliding', 'Hole in the Wall', 'The Trekking Time', 'Trek Leader Expeditions - Day Tours', 'Adventure Mountain Express', 'Helping Hand Handicrafts', 'First Himalayan', 'Emerging Nepal Trek - Kathmandu Day Tour', 'Great Nepal Travels - Kirtipur City Sightseeing Tour', 'Soulful Nepal Holidays Pvt Ltd', 'Tripdeal365', 'Heavenly spa', 'Namaste Treks And Expeditions Pvt Ltd', 'Dilmaya Treks & Expedition Pvt Ltd, Private Tours', 'Himalayan Circuit', 'AY Adventure Treks & Expedition', 'Nepal Inside Out Treks & Tours', 'Nepal Glacier Treks & Expedition', 'Upper Mustang Trekking', 'Everest View Treks And Expedition', 'Grande Adventures', 'Alpine Explore Nepal - Day Tours', 'Cross River Rafting', 'Avishek Paudel', 'Mystik Mountains Adventure and Holidays', 'Ritual Thanka', 'Alpine Adventure Team', 'Om Family', 'Nepal Everest Base Camp Trekking Company PvtLtd', 'Ace Transport', 'Himaland Adventure - Nepal', 'vnepalcom', 'Pilgrims Travel & Tours', 'Passages Nepal Pvt Ltd', 'Great Nepal Treks & Expedition Pvt Ltd', 'GeTS Holidays Nepal', 'Annapurna Yoga Treks', 'Foot and Shadows Private Day Tours', 'Royal Mountain Trekking Nepal Pvt Ltd', 'Beautiful Pokhara Adventure', 'Kyanjin Ri', 'Nepalaya Spa', 'Real Adventure Nepal - Private Day Tours', 'Well Adventure Tours and Travel', 'Kamana Transport Service', 'House of Palettes', 'Aspiration Adventure', 'Yeti Yoga & Healing Center', 'DMT Adventure', 'Bodhi Tours and Treks', 'Hidden Paradise Adventure', 'MyTrip2Nepal', 'Shera Sherpa Adventures', 'Treks Himalaya', 'Corporate Travel Private Tours', 'Adventure 14 Peaks', 'Inland Expeditions', 'Kathmandu Holiday Tours & Travels', 'FlashpackerConnect', 'Alpha & Omega Trekking', 'Om Sherpa treks', 'Amrita Craft Pvt Ltd', 'Vista Adventure Nepal', 'Cycling Nepal', 'Gurja Himal Treks', 'City & Guides', 'Asia Buddhist Tours & Treks', 'Miracle SPA', 'Urban Adventures Pokhara', 'Pinnacle Treks and Expedition', 'Nepal Himalayan Sherpa Adventure', 'Amazing Authentic Treks', 'Lets Go Hiking Nepal Treks', \"Om's Safari Tours\", 'Mountain Challenger Trek and Expedition', 'Yogi-nomad', 'Association Moey', 'Mandara Spa & Wellness Center', 'Adventure Steps Nepal', 'Royal Himalayan Safari', 'Yoga for Everyone', 'Himalayan club Tours and Travel', 'Club OMG', 'Sisa Holidays Tours', 'Medieval Tours & Travels', 'Private Nagarkot Hiking Day Tour', 'Touch Kailash Travels & Tours', 'Lets Trip Nepal', 'Galaxy World Travels', 'Superb Catalyst Trekking and Tour PvtLtd', 'De Himalaya', 'Everything Elephant', 'Community Homestay Network', 'Alliance Treks and Expeditions', 'Tibetan Naro Tsalung Yoga & Mindfulness', 'Refresh Spa', 'Himalayan Trails Trekking & Climbing Pvt Ltd', 'Himalaya Heli', 'Council Travel & Tours', 'Summit Nepal Trekking - Day Tours', 'Sewa Responsible Travel', 'Community Nepal Tours and Travels', 'MyNepalonline', 'Everest Vacation', 'Ojas Spa', 'Altitude Himalaya', 'Gallery Himalaya Treks & Expedition', 'Trans Himalayan Tour & Trekking', 'Zen Adventure Holidays', 'Hiker Himalaya Treks & Expedition Pvt Ltd', 'Namaste Journeys', 'Green Holidays Trekking', 'Hotel Rhino Land', 'Metro Everest Treks & Expedition', 'Plan Nepal Treks & Expedition', 'Nepal experience tour trek and travel company', 'Thamel Travels and Tours', 'The Blue Space Nepal', 'Incredible Mountains', 'Anu Treks International - Private Day Tours', 'UpHimalayas', 'Base Camp Everest trek', 'Everest One', 'Star World Tours & Travels P Ltd', 'Karma Holidays', 'Pokhara Nepal Dance Lessons', 'Everest Cooking Class and Meal in a Kathmandu Grill Restaurant & Wine Bar', 'Great Wall Nepal', 'Angel Hands Cashmere Store', 'Trekking the Himalaya', 'Red Reach Himalaya Trek', 'Quad Bike Nepal', 'Nepal Trekking Pro', 'Nature Knit', 'Ever Green Trekking', 'Grade Five Adventures Nepal', 'Ski Guides Nepal', 'Evergreen Paragliding', 'Travel himalaya Nepal Treks', 'Ace Hiking', 'Chamling Spa & Beauty Parlour', '8 Eyes Travel', 'Himalayan Wanderer - Private Day Tours', 'Masseur SPA', 'One Tree Stop', 'Trip Concern Pvt ltd', 'AmaDablam Adventures', \"La'Asia Salon and Spa\", 'Tenjin Eco Trek', 'Himalaya Caravan Adventure', 'Traveling Spoon', 'Rum Doodle', 'Alpha and Omega Yoga Center', 'Nepal Dream', 'The Himalayas', 'Tranquility Spa', \"Shona's Alpine\", 'Himalayan Wild Treks', 'Ganesh Himal Trekking & Tours', 'Explore Chitwan Holidays - Chitwan', 'Beat Trekking', 'Fewa Trail Treks - Lumbini', 'Navigate Outdoor', 'Paradise Destination', 'Nepatrek', 'Mactrek & Expedition (P) Ltd - Helicopter Day Tours', 'World Highest Trek', 'Sakura Spa', 'Trip To Nepal', 'Beyond Base Camp Treks', 'Tiger Encounter', 'Nepal Treks Tours', 'Raju Bhandari', 'Trek With Ngima', 'Rhododendron Adventure', 'Everest Mountain Bike - Day Tours', 'Carena Trek & Adventure', 'Himalayan Travel Consultant', 'Diana Travels & Tours PVTLTD and Diana Trekking', 'Himalaya Ontop Organic Coffee Estate', 'Bootprints', 'Botanical Treks & Excursion', 'JUNGLE SAFARI RESORT', 'Up Everest', 'Swiss - Nepal Family Trekking & Expedition', 'Nepal Motorbike Tour', 'Nepal Venture Treks & Expedition Pvt Ltd', 'Ajay Dahal', 'New Road Travels', 'Khempalung Adventure PvtLtd', 'Volunteer in Nepal', 'Himalayan Hidden Treasure', 'Nepal Everest Himalaya Hiking Pvt Ltd', 'Jungle Safari Chitwan', 'Everest Flight (P) Ltd', 'Baral Adventures', 'Himalayan Companion Treks and Expedition PvtLtd', 'Sasane Sisterhood Trekking and Travel', 'Adventure Blossom Treks and Expedition PvtLtd', 'Great Everest Trek', 'EliteTreks', 'Himalayan Spa, Thamel', 'One Life Adventure Team', 'Visit Himalaya Treks', 'Chitwan Birdwatching', 'Goreto Treks', 'Real Sherpa Adventures', 'Danphe Adventure', 'Oriental Journeys Tours', 'VSN Tour & Treks Nepal', 'Messenger Tours and Travel', 'Wild Yeti', 'Tribeni Trek', 'Rafting Star', 'Mercy Holidays', 'Himalayan Excursion Nepal', 'Together Nepal Travel & Tours', 'Explore Dolpo', 'Tealaya', 'Yatri Nepal Adventures', 'Lovely Nepal Tours & Travels', 'Photo Travel', 'Asia Vision Treks & Tours, Nepal', 'Trek Venture Nepal PvtLtd', 'Himalayan Flights', 'Hi On Life Adventures Pvt Ltd', 'Ganga Jamuna Adventure Treks & Expedition', 'Adventure Mountain Guide Team', 'Temples and Mountain Tours', 'AAA Transport', 'Hike Manaslu', 'Leisure Time Nepal Travels & Tours', 'Tranquility Spa - Lazimpat', 'Himalayan River Operator Nepal - Private Day Tours', 'Chitwan National Park Jungle Safari', 'Himalayan Local Guide', 'Rousing Adventure', 'Ramdung Trek and Expedition - Private Day Tours', 'Himalayan Yatri Trekking', 'Nature House Treks & Expedition - Day Tour to Shivapuri', 'Himalayan Cooking School', 'Mount Summit Treks', 'Go Bungy Nepal', 'Sherpa Himalaya Treks & Expedition Pvt Ltd', 'Himalayan Aster Treks', 'Active Everest Trek & Expeditions', 'Yuai Clinic', 'Massage', 'Clear Line Travel and Tours', 'Manaslu Expert', 'Om Cashmere and Pashmina Land', 'Happy Feet Travel', 'Cartipur', 'ROBINSON CRUSOE HOLIDAYS', 'Himalayan Glory Travels and Tours - Day Tours Kathmandu', 'Nepal Tourism Adventure Private limited', 'Trekking Explore Nepal', 'Scenic Mountain Travels & Tours', 'Om Shanti Spa', \"Legend's Khukuri Gallery\", 'Ayatana Spa', 'Alpine Exodus', 'Snow Peak Tour & Travels', 'A One Treks', 'Holiday Tours Nepal', 'IN -OUTDOOR Trekking', 'Osho Divine Zone', 'Windhorse Stables', 'Nepal Himalayas Trekking', 'Nepal Authentic Treks & Expeditions', 'Nepal Rudraksha (Himalaya Rudraksha Bhandar)', 'Touching The Void Trekking Nepal', 'Car Hub Nepal', 'Old House Cafe', 'Off Road Nepal PvtLtd', 'Nepal Handloom Silk industry', 'Explore Holy Buddha’s Birth Place - Lumbini', 'Himalaya Treks Nepal', 'Global Axis Travels', 'Chandika Homestay', 'Sonu Tours and Travels pvt ltd', 'HourGlass', 'Patan Industrial Estate', 'Evergreen Adventure Nepal', 'Farouttrek', 'Rupakot Holidays', 'Boundless Adventure PLtd', 'Happy Feet Reflexology', 'Simrik Air', 'Climbing Himalaya', 'Best Treks Nepal PLtd', 'Cinema Under The Moon', 'Heaven Nepal', 'Native Everest Treks Pvt Ltd', 'Rhitu Saugat', 'Mission Nepal Holiday - Day Tour', 'Anil Manandhar', 'Lead Nepal Treks Pvt  Ltd', 'PersijsNET', 'Trek Through Nepal', 'Snowy Dream World Treks & Expeditions', 'Rejoice Spa', 'Moonline Tours', \"Mowgli's Eco Adventure\", 'Manaslu Base Camp Trek', 'Adventure Mila Travels & Trekking', 'Indreni Nepal Trekking', 'Life & Journey Tour & Adventure Pvt Ltd', 'Langtang Treks Nepal', 'Buddha Paragliding', 'Gratitude Travels', 'Nepal International Treks', 'Pure Nepal Home Made Spices & Tea Center', 'Transport in Nepal', 'Yakky Tours', 'Eco Foot Spa', 'Lowa Art Gallery & Book Shop', 'Helicopter Tours Nepal', 'Himalayan Range International Treks & Expedition', 'Malka Travel and Tours', 'Apsara Treks', 'Wild Stone Adventure', 'Rossfit Optimising Performance', 'Glance Himalaya Tours', 'iexperiencelocal', 'Solukhumbu Treks and Expedition', 'Far Above The Clouds', 'Holiday Mountain Treks & Expedition', 'Himganga Treks and Expedition', 'Everest Base Camp Helicopter Tour', 'Mount Putha Adventure', 'Lifetime Nepal Treks and Tours Pvt Ldt', 'Nepal Vacation P ltd', 'Simrik Real Nepal Treks & Expeditions', 'Heli Air Nepal', 'Tibet Tours Nepal', 'Visit Subhakamana Travels & Tours', 'Wanderlust Himalaya Adventures', 'VinyasaNepal', 'Kathmandu Day Tours', 'Majestic Travel and Tours', 'Precious Adventures', 'Escape Nepal Holidays', 'Astha Adventure Treks & Expedition', 'GoNepalaya_treks_& expedition_pvtltd', 'Absolute Himalaya Treks & Expedition Pvt Ltd', 'Leisure Aim Travels & Tours', 'GoNepal', 'Nepal viaje', 'Himalayan Waves Trekking', 'Exploring Nature Adventure', 'The Tour Trek Travel Nepal', 'Everest Adventures Team', 'Mountain Spirit Adventure', 'Jomsom Trekking', 'Magical Trekkers', 'Chetana Women Skill Development Project', 'The Classic Outdoors', 'Gold Mountain Nepal Treks & Expeditions', 'Seven Summit Treks', 'Tea House Trek', 'Nepal Guide Service', 'Nepal Trekking Trails', 'Saping Siddhi Ganesh Temple', 'New Grand Art Inn', 'Nepal Alsace Treks & Expedition', 'Tour HQ', 'Sansui Treks & Expedition', 'Himalaya Orthodox Organic Tea Nepal', 'Sky Riders Paragliding', 'Sinja Valley', 'Nepal Trekking in Himalayas Pvt Ltd', 'Peregrine Treks and Expeditions', 'Fewa Pashmina', 'Linh Son Monastery', 'New Era Holidays Treks and Expedition', 'Happy Hari Trek & Expeditions', 'Pokhara Paragliding', 'Monalisa Exclusive Textiles', 'Oriental Holidays', 'Himalaya Hikes Pvt Ltd', 'bungamati bike shop', 'Apex Nepal Adventure Pvt Ltd Day Tours', 'Community Action Treks', 'Sealinks Holidays PvtLtd', 'Spiritual Excursion', 'Ethic Himalaya Treks & Expedition', 'Nepal Holiday', 'Lhasa Gift House', 'Alpine Excursion Treks and Expedition', 'Tour in Kathmandu - Day Tours', 'Pokhara Adrenaline Paragliding', 'Parahike', 'Nepal Jang Treks & Expedition', 'Serenity Tours and Treks', 'Visit Nepal 2020', 'Mikes Place', 'Gothic Rave', 'Nepal Kumari', 'Sunrise Export', 'Ananda Wellness Center', 'Chito Ramro Laundry', 'Babai Resort Bardia National Park', 'New Grand Art Inn Pashmina Store', 'Trekking Top Nepal', 'Bochi-Bochi Treks PvtLtd', 'The Cliff Pvt Ltd', 'Back Streets of Kathmandu', 'Two Parrot Apparels', 'Ride and Dare Motorcycle Club', 'Gorkha Treks', 'Malla Treks', 'Aventura Trek Nepal', 'Skybuzz Travels and Tour Nepal', 'Tours & Treks Mountain Nepal - Day Tours', 'Shilpee Theatre Nepal', 'Apoorva Tours & Travels', 'Gems Paradise', 'Timbung Pokhari', 'MD Adventure Travel & Tours Pvt Ltd', 'Snow Bank Adventure', 'Osho Vision Tours & Travels Pvt,Ltd', 'Curio Concern', 'Honest Tours', 'Himalaya Trek Adventure', 'Offroad Nepal', 'Core Adventure Kathmandu Private Day tour', 'Outlandish Adventure Nepal - Day Adventures', 'Sparadise Spa & Salon', 'Adventure Outdoor Excursion', 'Rudraksha Nepal', 'Everest Helicopter  Tour Nepal', 'NATURE TREASURY TREKS & TOURS', 'Balmiki Dham', 'Pumori Journeys', 'Visit Pashupati', 'Shakti Punj', 'Vivaan Adventure Pvt Ltd', 'Himalayanrandonner', 'Nepal Travel Advisor Guide', 'Nepal Tourism Package', 'Ghale Treks - Private Day Tours', 'Stand Up Paddle Begnas', 'Travel Design', 'Arun Treks & Expedition', 'Utkrista Travel', 'Khasyor International', 'Travel to Himalayas', 'Pokhara Hemp Gallery', 'Golden Temple Singing bowls sound Healing Center', 'Sagarmatha Tea House', 'Aim Nepal Adeventure', 'Nepal Travel Door - Day Tours', 'Volant Travel', 'Rental Car In Nepal', 'Fishtail Organic Garden', 'Hike and Bike Nepal', 'Reggae Bar Thamel', 'Trekkers Paradise in Nepal', 'Last Frontiers Trekking', 'Trekking for Nepal', 'Nepal Vehicle Services Pvt Ltd', 'Churen Himal Treks & Expedition', 'Poon hill and ghorepani trek', 'Chetana Yoga and Natural Spa Treatment', 'Lagom', 'Gurkha Encounters', 'Yakky Tours Private Limited', 'Ultra Nepal Travel & Treks', 'Visit View Nepal Treks and Expedition', 'Tara Oriental', 'Bhimtal', 'stepupadventure', 'Luxury DMC Travel', 'Australian Camp', 'Yarsa', 'Guide Nepal Holidays Pvt Ltd', 'Himalayan Concord', 'Lapha Holidays', 'Lead Nepal Treks', 'Simple Nepal Adventure Travel Pvt Ltd', 'Machapuchare Trekking', 'Exquisite Himalaya Pvt Ltd', 'Divine International Explore and Treks', 'Pokhara Trekking Guides', 'ekadesma', 'The Xutti Pvt Ltd', 'Green Paw Adventures Nepal', 'Dambar International', 'Koili Tours', 'Himalayan Inn Treks and Expedition Pvt Ltd', 'Nepal Ski & Mountain Inst', 'Gautam Gift Emporium', 'Craft Cave Centre', 'Alpwander_Adventures', 'Himalayan Footsteps Travel and Tour PvtLtd', 'Lakeside Travels and Tours', 'Everest Pashmina Store', 'Susan Manandhar', 'Nihosi Travels & Tours', 'Mountain Buddha Holidays', 'Nepal Car Rent', 'Hamro Hastakala', 'Shikhar Adventure', 'Zen Adventure Holidays', 'Shangri La Journeys', 'Nepal Organic Tea Shop', 'Life In Nepal', 'Himalayan Yoga Academy', 'More Than Mountain Treks', 'Gorkha Treks', 'Barefoot Adventures', 'Mayur Adventures', 'Kamala Yoga Nepal', 'Freelancer trekking', 'Adler Adventure Trekking', 'Nepal Travels Expedition Pvt Ltd', 'Everest Holiday Adventure', 'Kami Nurbu Sherpa', 'Pashmina In Nepal', 'SAN TREKKING PVTLTD', 'Bhimsen Travels', 'Trips Himalaya', 'Sherpa World Adventure', 'Everest Tea Shop and Handicrafts', 'Camel Safari', 'Arma Trek&Tours', 'Waiba Adventure', 'Voyage De Himalayas', 'Nature Treks Himalayas', 'Helicopter Charter Services', 'Suman Khatiwada', 'New Boudha Handicraft', 'Wonderland Treks', 'Bergwandern Nepal', 'Senses Spa & Beauty Home', 'Cotton Mill Nepal', 'Karma Trek & Adventure Nepal PvtLtd', 'Hikes Nepal', 'Incredible Mountains', 'HimEX Nepal Pvt Ltd', 'Aryatara Holidays', 'Nepaltrekstourcom', 'Holidays Destination Trekking & Expedition', 'Elite Himalayan Adventure', 'Together Nepal Tours', 'Freedom Motorcycle Tours & Rental', 'Yeti Mountain Home', 'Majestic Himalaya Treks & Expeditions', 'Himalaya Fair Reisen', 'Himalayan Worldwide Treks & Expedition', 'Nepal Rafting Center', 'Gantu Trip Planner', 'Duara Travels', 'Glacier Safari Treks', 'KAT Handicrafts', 'Himalayan Unforgettable Adventure', 'Multiland Tours and Treks', 'Sunniva Travels and Tours', 'Himalayan Quest Travel & Tourism - Day Tours', 'Everest Expeditions Nepal', 'Cherry Garden Trek and Expedition', 'Agni Flying Club Nepal', 'Nepal Malaysia - Private Mountain Flight Tours', 'Unique Leather Collection', 'Nine Nepal', 'Coretreks', 'Multi Land Private Day Tours', 'Hello Travels', 'Hello Travels', 'Nepal Experienced Adventure Treks', 'Nepal Explorer', 'Mega International Tours & Travels', 'Alternate Nepal Treks & Expeditions', 'Destination Holidays', 'Nepal Community Trek', 'Himalaya Range Adventures', 'Sahara Holidays Nepal Treks & Expedition', 'Green Hearts', 'Altitude Riders', 'Drichu', 'Thrill Nepal Adventure trek and expedition Pvt Ltd', 'FCube Cinemas', 'Folk Nepal', 'Heli Sight', 'Into the Wild Pokhara', 'Lasermaxx Kathmandu', 'Adventure Jaljale Trekking & Expedition', 'Guide in Nepal', 'Mission Mountain - Private Day Tours', 'Intrepid Nepal', 'Bandipur Paragliding', 'Beatific Slimming and Spa', 'Summit Reisen Nepal', 'Himalayan Sherpa Journey', \"De Souvenir's\", 'Black Stork Trek and Expedition', 'Sansui Treks & Expeditions', 'Shree Ganapati Jewellers', 'Everest base camp - Chola pass - Gokyo lakes Trek', 'Mountain Brothers Treks', 'Wellness Sanctuary', 'Khumbu Shangrila', 'Himalayan TrekNclimb', 'Absolute Adventure Treks Pvt Ltd', 'Withlocals', 'HIT & Hangout Futsal', 'Chaitanya Medi-Spa', 'Moodways Travel and Tours', 'Namlotrek', 'Himalayan Bike Travel and Adventure', 'Haven Retreat Spa & Salon', 'Wilderness Experience Pvt Ltd', 'Himalayan Top Trekking', 'Bhanjyang Travels and Treks', 'Nepal Trekking Tourism And Adventure', 'QFX Civil Mall', 'Twin Peaks Trek and Travel', 'Zambala Thanka Treasure', 'Tea House Trek', 'Trekking Venue Nepal', 'Himalaya Guide Chandra Gurung', 'Osho Healing Buddha', 'Mata Laxmi Handicraft and Singing Bowl House', 'Pathfinder Expeditions Private Day Tours', 'Crank House', 'Spring Rain Adventure', 'The Trekking Brothers', 'Well Nepal Treks', 'Dragon Tourist Market Nepal Pvt Ltd', 'Meshrom Baraha Temple', 'Karma Eco Adventure', 'Nepali Food Cooking', 'Waypoint adventures pvt limited - Day Trips', 'Yellow Swissa Treks & Raging River Runner', 'Mayour Tailors', 'Muktinath Airlines Pvt Ltd', 'Lovely Hill', 'Saleways', 'Jugal Himalayan Adventures', 'My Asia Adventures', 'Altitude Randonnee Trekking', 'Mountain Trotters Treks & Expedition Pvt Ltd', 'Bisesh Treks and Adventure', 'Kuniko Travel - Day Tours', 'Nep Travels & Expedition', 'Raaika Tours & Treks', 'Whitewater Madness', 'POON HILL TREK', 'Ex Gurkha Khukuri House', 'Time Treks & Expedition Nepal', 'Gautam Holidays', 'Shishu Tours & Travel', 'Sharma Tours & Travels Pvt  - Private Day Tours', 'FCI Heli Charter Services', 'Frens Himalayan Travels & Treks', 'Green Leaf Treks and Expeditions', 'Great Nepal Treks and Expeditions', 'Info Trekking Nepal', \"Harsha's Shiatsu\", 'Rainbow Mountain Treks Pvt Ltd - Day Tours', 'Incentive Holidays', 'Battlefield- The Ultimate Paintball Game', 'Perfect Gems & Jewells', 'Tengboche Trekking', 'Explore Kailash Treks Pvt Ltd', 'Skylark Treks and Expedition', 'Chamling Adventure & Expedition', 'Red Carpet - Day Tours', 'Nepal Aventure', 'Easy Flight Travel', 'Adventure Alternative Nepal', 'Harmony Spa', 'Koyla Lounge', 'Car Hire Nepal', 'Trekking Experts', 'Clothing Nepal Enterprises', 'Sacred Mount Kailash Pilgrimage', 'Ian Taylor Trekking', 'Umbrella Street', 'Alpine Adventure Club Treks & Expedition - Mountain Flight in Nepal', 'Alpine Mountain Trek Advisor', 'Everest Alpine Trekking', 'The Thunderides', 'Green Wall Paragliding', 'Goodwill Spa & Beauty Parlour', 'Endless Wave Adventure', '360 Gaming Zone', 'Live Adventure Expeditions', 'Wilder Nepal Pvt Ltd', 'Boundless Adventure', 'Mustang Outback Adventures', 'Mountain Goat Trekking PvtLtd', 'World Favour Travel & Tours', 'Tour and Trek Nepal', 'Travel Bird Nepal', 'New Radiance Spa', 'Nepal New Generation Trek and Adventure', 'Gandaki Tours and Travels', 'Virgin Nepal Trek and Expedition PvtLtd', 'Eagle Eye Treks', 'Tij York Trek & Expedition P Ltd - Day Tours', 'Top Adventure', 'Asaki Treks & Expedition', '360 Paragliding Pokhara', 'Senate Club', 'Adventure Mountain Nepal Trekking and Climbing PLtd', 'Best Nepal Trek', 'Berg Reisen Nepal P Ltd', 'Paintball Nepal', 'Cine de Chef', 'Himalayan Eco Adventure Pvt Ltd', 'United River Adventure', 'Himalaya Asuka Treks & Expedition P Ltd', 'Himalayan Unforgettable Adventure', 'Everest Base Camp Heli Tour with Travel Beyond', 'Enjoy Nepal Treks', 'Himalaya Heaven Tours & Treks', 'Greenline Tours', 'Clear Sky Treks & Expedition', 'Muktinath Temple Tour', 'Salesways Super Market', 'Bajrayogini Pashmina', 'Travel In Nepal Treks Pvt Ltd', 'Travel Junction', 'Abbey International Treks & Expedition', 'Explore Manaslu', 'Namaste Nepal Travels and Tours', 'Success Travels & Treks', 'Bunk Tribe', 'Nepal Travel Expedition (P) Ltd', 'Everest Himalaya Treks', 'Adventure Dream Himalaya Treks', 'Talixo - Kathmandu', 'Himalayan Summit Treks And Expedition', 'World Favour Travel & Tours', 'Harmony Spa', 'Thrillhimalayacom', 'Off2holiday', 'Cashmere heaven', 'Sandrine Yoga Evasion', 'Vaishali Travels & Tours', 'Junkeeri', 'Mountain Safari - Day Tours', 'Sixth Sense Travel & Trekking', 'Airlife Adventures', 'Peaceful Nepal', 'Muktinath Yatra', 'EVEREST HELI CHARTER', 'Wildpath Adventure - Kathmandu Day Tour', 'Trek Nepal', 'imaginenepalteam', 'Save Himalayan Travel & Tours Pvt Ltd', 'Blissful Spa', 'Upardang Gadhi', 'Everest Tour Nepal', 'Himalayan Steps', 'Nepal Trekking & Expedition', 'Shivam Group Holiday', 'Sun Nepal treks', 'Himalayan Sherpa Holidays', 'Nepal Tourism Package', 'Sherpa Khangri Outdoors', 'Rafting Adventure Pvt Ltd', 'Trek of Nepal', 'BusSewa', 'Wishing Will Tours and Travels - Day Tours', 'Sahas Travels & Tours', 'Across The Himalayas Treks', 'Kharpunath Travels and Tours', 'Mahalaxmi Vehicle Service', 'Total  Facility  Management Company', 'Star Adventure Asia Treks', 'Cottage Craft', 'Nepal Travel Team', 'Sapana Holiday Tours and Travel', 'Bold Himalaya Treks and Travels Pvt Ltd', 'ABC Adventures Pvt Ltd', 'Everest Hardwear', 'Nepal Trekking Trails (P) Ltd', 'VX Tours', 'Gaze Nepal Travel And Tours', 'eNepaltour', 'Ticino Treks and Expedition', 'SevenOn Tours - Day Tours', 'Himalayan Little Buddha Treks And Expedition', 'Lama Treks & Expedition - Day Tours', 'Shree CC Handicraft', 'Himalayan Luxury Holidays', 'Pashmina In Nepal', 'Worldly People', 'Great Escape Tours and Travels', 'Nepal Adventure Trek & Expedition (P) Ltd', 'Himalayan Gorilla Adventure', 'Deepjyoti Adventure Tours & Travels', 'Serku Sherpa', 'SHERPA GUIDE SERVICES', 'jagadamba Travels', 'Glorious Wellness Spa', 'Mystique Voyages Pvt Ltd', 'Nepal New Generation Treks and Adventure', 'Wildlife Safari Bardia', 'Paramount Holiday', 'Himalayan Ultimate Trekking Nepal', 'Kathmandu Jazz Conservatory', 'Deepak Aryal', 'Off Road Nepal', 'NTB Adventures', 'S Nepal Tours & Travels', 'Best Trekking in Nepal', 'Path of Dream Trek Adventure', 'Nepal Mountain Biking', 'Beyond Himalaya - Day Tours', 'Khumbu Nangpala Trekking and Expedition', 'Accheshwor Mahavihar', 'Woodcarving Studio', 'Isha Center', 'Adventures Himalaya', 'The Target Arena', 'Ocean Park & Resort Pvt Ltd', 'Undercover Kathmandu & Swayambhunath Day Tour', 'Nepal Himalaya Trek - Private Changunarayan Day Hiking', 'El Yak', 'Tiger Trek - Day Tours', 'Mandala Pashmina & Handicrafts', 'Qi Allaya Teija', 'Rock & Rope Nepal', 'Trip and Trek - Private Day Tours', 'Fish Tail Lodge-Birdwatching With Hari KC-Day Tour', 'National Woodworking Museum', 'Nepal Visitors Private Day Tours', 'Kathmandu Pashmina Collection Center', 'Aura Reiki Yoga Nepal', 'Ultra modern handicrafts', \"Laila's Bar\", 'Triten Norbutse Monastery', 'Adventure Milestone - Day Hike To Namo Buddha', 'Sandup Choeding Gompa', 'Metro Inn Tours & Travels', 'Age Holidays Day Tours', 'Cross Country Tresks and Travel Expedition Pvt Ltd', 'Jama Masjid Rahmaniya', 'House of Palettes', 'About Nepal Treks', 'Happy Women Handicraft', 'Classic Journey Nepal', 'Easy Heli Charter Service', 'Arogya Spa', 'Nepal Mandala Travels - Day Tours', 'Take Me Trekking Ltd', 'Buddha Nepal Treks - Nagarkot Day Tours', 'Sunrise Transport and Tours Service', 'Asian Detours Holiday Pvt Ltd', 'Beyond Himalaya', 'White Stone Holiday Nepal', 'Infinite Tours and Travels', 'Nepalese The Collection', 'Zeabrose Leather Boutique', 'Paldor Peak', 'Purna Work Shop', 'Marker Stone - Day Tours', 'Green Leaf Nepal Trekking', 'Encounter Karma Treks', 'Absolute Himalaya Treks', '12d Cinema', 'Trip to Everest', 'Sound Planetarium', 'Land Rovers Overland', 'Kalpana cinema hall', 'Fishtail Adventure', 'Lost Paddle Adventure', 'Nagarkot Hiking', 'Best Nepal Trekking', 'Chakrapani Ayurveda Nepal', 'Virtue Travels & Tours Pvt Ltd', 'Kathmandu Private Day Tour Package', 'Shin Travels and Tours - Day Tours', 'Car Mandu', 'Lions Den', 'Alpine Exodus', 'Trek Holiday Nepal', 'Nepal Vehicle Hire', 'Balkumari Temple', 'Freedom Nepal Treks and Expedition', 'Veggie Nepal', 'Himalayan Independent Guides', 'Karma Eco Adventure', 'Beatific Slimming and Spa', 'Friendship Trekking', 'Nepal GoGo Treks', 'Muktinath Yatra', 'The Matrix Adventure', 'Travel-In Travel-Out', 'Rainbow Thanka Gallery', 'Buddha Eye Treks', 'Nepal Trek Ways Pvt Ltd', 'Snowbird Treks & Adventure Pvt Ltd', 'Go! Running Tours Kathmandu', 'Apex Asia Travel & Trekking', 'YogHimalaya', 'Travel Beyond Pvt Ltd', 'Travel Her Way', 'Picturesque', 'Signature Holidays', 'Xtreme Climbers', 'E Travel Nepal', 'Adventure Mountain Club', 'Sherpa Altitude Adventure Treks and Expedition', 'Amantran Spa & Salon', 'Baba Tour And Travel', 'Sherpa Land Adventure', 'Krishna Trekking Guide', 'Heavenly Himalaya Treks & Tours', 'Secrets of the Himalaya', 'Castello Cashmere', 'Tranquility Spa', 'Parahike', 'Tourist Adventure International', 'Himalayan Outdoor Center', 'QFX Kumari', 'goGlides', 'Everest Beauty Salon', 'Red Carpet', 'Api Himal Treks & Expedition', 'Travel Nepal', 'Bungamati Museum', 'Auronepal Travel and Trek', 'Adventure Advisor Nepal', 'Journey 2 himalaya Treks', 'Joyful Trekking', 'Arnav Travel', 'Alpine Pashmina House', 'Trekker Nepal', 'Ecovoyage Travel and Tours', 'Adventure Ascent', 'Shanti Yoga Ashram', 'Mam Holidays', 'Himal Outdoors PVT LTD', 'Trek Dream Nepal', 'Sherpa Himalaya', 'Sherpa Mountains and Adventure', 'Black Stork Trek and Expedition', 'Temple Bar - Irish Pub', 'Sherpa Shepherds', 'Ocean To Sky Adventures', 'Experience Earth', 'Sherpa Khumbiyila Adventures', 'Namaste Roving Tours And Travels', 'FunExpedia', 'Adventure Polygon', 'Hike Nepal', 'Nepal Academy Treks and Expedition', 'Nepal Seasonal Adventure Treks', 'Shuva Yatraa', 'Dream Carrier Treks and Expedition', 'Nepal Snowfall Mountains Treks and Expeditions', 'Typical Himalayan Treks & Expedition', 'Ocean to Sky Adventures', 'Adventure Mountain Nest', 'Taiao Nepal Eco Treks', 'Jyotirlingeshwor', 'Heaven Hikers Adventure', 'Shahid Gate', 'Himalaya Safty Treks & Expedition', 'ARTUDIO \"Centre for Visual Arts\"', 'Standard Chartered Vehicle Service Pvt  Ltd', 'Happyharitrek & Expeditions', 'Ganga Jamuna Adventure Treks & Expedition', 'Enjoy Nepal', 'Express Himalaya Travel', 'Body & Mind - A Healing Spa', 'Climbing Expedition', 'Poonhill Treks & Expedition PvtLtd', 'Rose Mountain Tours and Travels', 'Himalayan Pilgrimage Journey', 'Fresh Liquorland', 'Nepal Gandharba Chuli Trek Pvt Ltd', 'Chulu Far East Peak', 'Makalu Barun National Park', 'Tibetan Village Tour and Lifestyle', 'Yogadham', 'Himalayan Treks', 'Mystical Nepal Treks', 'Simsime Travels & Tours', 'Lalman Trek and Expedition', 'Meraki Adventure', 'Book Paradise', 'FCube Cinemas', 'Trip Himalaya Treks & Expedition (P) LTD', 'Travel Devisers', 'Destination Everest', 'Krishna International Travels and Tours', 'Ganesh Himal Trekkings & Tours PL', 'Four Himalayan Magic', 'Tourism Society', 'Top Tour Nepal', 'Umesh Adventures', 'Travelling Fantasy', 'Panauti Makar Mela Spot', 'Blue Bird Travel and Tours', 'Sherpa Guides Service', 'Great Himalayan Riders', 'Me Travel and Tours', 'Tutunga View Point', 'Langtang Valley', 'Gaurishankar', 'Tashi Delek Nepal Treks', 'Roaming Nepal', 'Nepal Trekking Guide', 'Trekadviser', 'Punya Tours & Travels', 'Aarohi Holiday', 'Himalayan Randonner', 'Joyful Trekking', 'Door To Nepal Trekking Pvt Ltd', 'Ayushya Health Home', 'Pancha Kosha Himalayan Spa', 'Car & Tour Nepal', 'Alpine Ascent Nepal', 'Bound Travels & Tours', 'Nepal Trek Ways', 'Outdoor Himalayan Treks', 'Ktm Voyage Travel and Tours', 'Fifth Ave Travel and Tours', 'Giggles', 'Mountain Child Adventure Travel & Trekking', 'Kamala Yoga & Adventures Pvt Ltd', 'Nepal Tour & Trekking Service', 'Tharu Cultural Museum and Research Center', 'Lion Heart Tour', 'Tranquility Spa - Kupondole', 'Tranquility Spa - Hotel Shangri-La', 'Leisure Holidays Pvt Ltd', 'Multinational Trekking & Expedition', 'Blend Cashmere', 'Adventure Ascent', 'Pavitra Kailash Yatra', 'Outdoor Adventure Center Nepal', 'Gorkhali Adventures Pvt Ltd', 'Khukuri House', 'Holiday Treks And Expedition', 'NH Travels and Tours', 'Holiday Treks & Expeditions', 'Pancha Kosha Himalayan Spa', 'Tranquility Spa', 'Tranquility Beauty Salon, Lazimpat', 'Kasa Boudh', 'Bandipur SPA', 'Red Carpet Journey', 'Sole Encounters', 'Beebal Singh Limbu', 'Nepal View Treks and Expedition', 'Sujan Dhakal', 'Api Adventure Eco Tour', 'Raj Kumar', 'Sumire Tours and Travel', 'Everest Rhino Travel Pvt Ltd', 'One Nepal Treks and Tours', 'Bucket List Travel', 'Nepal Power Places', 'Sukram Lama', 'Wind Horse Trekking Pvt Ltd', 'Kathmandu Day Trips', 'Chandragiri Hill', 'Aspiration Adventure', 'Pokhara Tour', 'Himalayan Enfielders', 'Bimal Dhamala', 'Chitwan National Park Tours', 'Good Times', 'Bullet station Pokhara Parsyang', 'Jake Basnet', 'Hima Nepal Tours & Treks', 'Snowy Dream World - Tours & Adventure', 'Rudra Khanal', 'Women Empowerment Trek', 'Sujan Ratna Shakya', 'Sherpa Mountaineering', 'Happy Karma Travels', 'Happy Karma Travels', 'Rupak ROka', 'Khopra Danda Trek', 'One Life Adventure Team', 'Himalaya Asuka Treks & Expedition P Ltd', 'Spyders Adventure Pvt Ltd', 'Rabi Adhikari', 'Humanitourismorg', 'Trek To Edge', 'Trooper', 'Lets Go Hiking Nepal', 'Great Gurkha Khukuri', 'Holiday pLanner', 'Great Gurkha Kukri House', 'Middle East Travel & Tours Pvt LTd', 'Veris Adventure Travels and Tours', 'Reshmi Parajuli', 'Galz Beauty Parlour', 'Sukram Lama', 'fire dance workshop', 'Yoga Shala Nepal', 'Nepal Traveler Helper', 'Narbin Magar', 'Umbrella Trekking', 'Tiger Lily Petting Farm & Hands-on Museum', 'Trek Holiday Tour & Trek PvtLtd', 'Nepal Rafting Center', 'One World Holidays Nepal', 'Unfold Nepal', 'Tintin and Sherpa Adventure Trekking', 'Highway to Himalayas', 'Samjhana Travels and Tours', 'Golumbini', 'Divine Mountain Tours and Travels', 'Holiday Mountain', 'Trek and Tours to Nepal  P Ltd', 'Adventure Snow Mountain Pvt Ltd', 'Tiger Lily Petting Farm & Hands-On Museum', 'Superb Catalyst Trekking & Tour', 'Go Beyond', 'Privé Nepal', 'Mission Himalaya Treks', 'Splindid High Adventure', 'Himalayan Travellers', 'Tranquility Spa', 'Image Travel and Tours', 'Happy Hour Adventure', 'Puja Traders', 'E Paragliding', \"Peace Land's Travel & Tours\", 'Kay Garnay for Nepal', 'Sparkling Holidays', 'High Mountain Wave Trekking', 'Going Nepal', 'Zambuling Expedition', 'Kriss Simkhada', 'Sushil Lama', 'Sanjay Khanal', 'Nepal Motorbike Tour', 'Rajendra Rajak', 'Dipak Bhandari', 'Abhay Sharma', 'OpenRoads', 'Sailesh Deshemaru', 'Bliss Massage & Physical Therapy center', 'Pradip Karki', 'Sandeep Rijal', 'Thrill Nepal Adventure', 'Green Horizon Tours & Travels - Thamel', 'Bucket List Travel', 'Luxury Yogi Holistic Health Center', 'Sunrise Jewellers', 'Mahaguthi Craft With Conscience', 'Namrata Subedi', 'Krishna Pariyar', 'Spiritual Expeditions PvtLtd', 'Aarya Tara', 'Gyan Bahadur Rai', 'Alpwander_adventures', 'Naata Trek and Tours', 'Three Sixty Travels', 'Signature Tours', 'Discover Nepal', 'Osho Vision Treks and Expedition Pvt Ltd', 'Trekkingguide Nepal // Kedar', 'susmita luitel', 'Real Sherpa Adventures', 'Variety Trekking House', 'Gaze Nepal', 'Bigu Life Festival', 'All Nepal Excursion', 'Timro Conceptstore', 'Nepalese Mountain Dreams and Journeys pvt Ltd', 'Bucket List Travel', 'Mountainia Trek', 'Travel Corporation Nepal', 'Sanjit KC Tours and Treks', 'TrekandTours', 'Bashuki Nag Temple', 'Everest Treks Nepal', 'Holiday World Trekking Nepal', 'Vedic Yoga Academy', 'Mountain Trotters Treks & Expedition Pvt Ltd', 'Amrita Yoga Foundation', 'To Travel Nepal Tours and Travels Pvt Ltd', 'Vajra Adventure', 'OUTDO-adventures', 'Shanta Nepali Productions', 'Pokhara Hemp Gallery', 'Himalaya Thunder Treks & Expedition Pvt Ltd', 'Diana Travels and Tours', 'Nomadic Knights', 'Trekting Tours & Expedition', 'Trekting Tours & Expedition', 'Jungle Safari Tours', 'Nepal Wildlife Tour', 'Mad Honey', 'Sherpa Backpackers', 'Shar Minub Monastery', 'Luisa Sánchez', 'Noble Trek', 'EasyGo Nepal', 'EHT Travel Pvt Ltd', 'Luxury Travel and Tours Pvt Ltd', 'Himalayan Journey', 'Door to Himalaya', 'Wildlife Expedition and Safari', 'Boudha Retreats', 'Gokyo Peak Travels & Tours Pltd', 'Atithi satkar', 'Trekking With Purpose', 'Swornim Tours & Travel Pvt  Ltd', 'Donkeys Adventures Pvt Ltd', 'Nepal TravelBiz', 'EE Treks and Expeditions pvt ltd', 'Everest Sherpa Adventure PvtLtd', 'Chameli Holidays', 'Hiking Package', 'MKS Handicraft', 'Khumbu Alpine Travel', 'One Globe Travels and Tourism Pvt Ltd', 'Zero Degree Travels and Tours', 'Typical Nepal Travel', 'Peace Himalayan Travel and Tours', 'Nefa Treks', 'Sherpahirecom', 'Enlightenment Nepal', 'Aaha Sister Creation', 'iNFINITY ADVENTURE NEPAL', 'Earthly Quests', 'Athena Expedition', 'Insight Nepal', 'Inframe Nepal', 'Rhino Ride - Self Drive Bike and Scooter Rental', 'Buddha Treks & Expedition', 'Fresh Liquorland', 'Nepal Thirsty Travels & Tours', 'Trekking Nepal', 'The Tour Trek Travel Nepal', 'Hima Nepal Tours & Treks', 'Carabiner Holidays', 'Social & Commercial Information Page of Nepal– Everything In Nepal', 'ABC himalayan trekking and tours', 'Kailash Helicopter Services', 'szal maharzan', 'W Adventures', 'Apex Tour And Treks', 'Earthly Quests', 'ktmguide', 'Manaslu Adventure Treks', 'Shyam Pandey', 'Nepal Trekking Path', 'August Mountain Travels & Tours', 'Nepal Trekking Guide', 'Kumar Rupakheti', 'pokharaenduro', 'Nepal view treks and expedition pbtltd', 'Tour guide', 'Daniel Collins', 'Prakash Dhakhwa', 'Mountain Path Trek', 'Skailash', 'Trekholic', 'Lakeview Day Spa and Apartments', 'Pipal Bot', \"Osho's People\", 'OneSeed Expeditions - Nepal', 'Development Tourism', 'VokLaagyo', 'Northsky Holidays Travels and Tours PvtLtd', \"Swissa's Mountain Way Trekking\", 'Able Adventure Pvt Ltd', 'Botanical Treks & Excursion', 'trioplus technology', 'Step By Step Yoga Journey', 'Kailash Adventure Kathmandu', 'SK Pashmina Industries', 'Eternal Himalaya Adventure Treks', 'jatra', 'Nepal Handicrafts Collections', 'High Vision Adventure Trek', 'Haeorum Himalaya Trekking', 'Wild Roots and Pineapple Adventure', 'Om Prakash Bista', 'Travel Life Adventures - Nepal', 'Stunning Nepal - Trekking Agency in Nepal', 'Shangrila Knit', 'Urgen monastery', 'KB Adventure Nepal Pvt Ltd', 'Seti Karnali Mahseer Fishing', 'Outdoor Expeditions', 'Haeorum Himalaya Treks', 'Heaven Nepal', 'Barada Tours and Travels', 'FBA Groups', 'Everest Region Trek', 'Trekoteli', 'Enlightenment', 'Dhading Travels', 'Yatra Sansar Travel and Trek Pvt Ltd', 'Servantrip NPL Airport Transfers', 'Nature Heaven Treks & Expedition', 'Dolphin Tours and Travels P Ltd', 'Imagine Nepal Team', 'Himalayan Alpine Adventure Treks & Expedition', 'Nepal Travel Expedition Privat Limited', \"Osho's People\", 'Kolpa Store', 'Visa Travels & Tours - Nepal', '7D-6N Chitwan Lumbini Tour from Nepal', 'Human welfare committee', 'Find Ways Adventure', 'Uma Holidays', 'Himalayan Hawk Adventure Trekking and Expedition', 'World Touch Treks & Expedition', 'Quad Bike Nepal', 'Candid Photoshoot in Nepal by Travographer', 'Navigator Nepal', 'Yetautaa Travels And Tours Pvt Ltd', 'Trekting Tours & Expedition PvtLtd', 'Nepal Club Travel & Tours', 'Amazing Grace Shop', 'Sarthak Travels', 'Himalayan Pursuit', 'Transit Nepal Travel and Tours', 'Sherpa Yak Land Treks Pvt Ltd', 'Nepal Mandal Travels', 'Firante Travels and Tours Pvt Ltd', 'Grand Nepal Tours And Travels PvtLtd', 'Firante Tours and Travels Pvt Ltd', 'Annapurna Base Camp Trekking 9 Days', 'Everest Base Camp Helicopter Tour', 'Imperial Holidays', 'Special Trek & Expedition', 'Exotic Vacations Nepal', 'Himalayan Paradise Trek & Expedition PLtd', 'Nepal Singapore Tours', 'Best Nepal Guide', 'Makalu Holidays', 'Walk with lucky kali', 'Sajal Dahal Ltd', 'Treks Nepal', 'White Snow Adventure Treks & Expedition Pvt Ltd', 'Stupa Trekking and Cultural Adventures Pvt Ltd', 'Anjal Limbu', '【Comfortable ride】Private airport transfer in Kathmandu', 'Seti Devi Temple', 'Sunny Kailash', 'Singhabahini Temple', 'Eternal Himalaya Adventure Treks', '8D-7N Upper Mustang Jeep Tour From Nepal', 'Loyal Travels & Tours', 'Shiv Tattva Yog School', 'Ashmita Thapa', 'asdfsad', 'Unique Express Tours and Travels', 'Dorje Trek Nepal', 'Best Adventure Travels', 'Himalayan Incounters', 'Paradise Himalayan Journey', 'The Local Project Nepal', 'Hills Trek PvtLtd', 'Adventure Trek in Nepal', 'Everest Base Camp Trek', 'EHT Travel', 'Batas Holidays', 'Everest Heli Tours - Day Tours', 'abc', 'Himalayan Getaway', 'Kailash Tirtha Yatra', 'Chisapani Nagarkot Hiking- 5 days', \"Ocean Int'l Tours And Travel Pvt Ltd\", '3 monkeys transportation', 'Mountain Climbers Treks', 'Pathik Foundation', 'Himalayan Ecological Trekking PVTLTd', 'Buddha Holidays', 'IMT', 'Touching Void Pvt Ltd', 'Discover Nepal Tours', '1981', '5th Lake Adventure', 'Nepal Tours', 'Vinertly', 'Everest Base Camp Trek', 'Test For Test', 'Pata Travels', 'Lollipop Tour Nepal', 'Friendship Himalayan Treks Pvt Ltd', 'India Holiday Mall', 'Camp-4 Adventures', 'Fewa Tour', 'Swami Narayan Travels - Sunauli', 'Happy Fly Paragliding', 'Illam Tour', 'Rainbow Adventure Nepal Pvt Ltd', 'Dikiy Style', 'Treks Adviser', 'Nepal', 'The Healing Hands Center', 'Tuladhar Handicrafts', 'Gorkha Darbur', 'Aware Impact', 'Janakpur tour', 'Milestone Village Resort', 'Alpine Sherpa Guide Treks & Expedition', 'Globetrotter Tours & Travels', 'Baristas Coffee School', 'Himalayan Nature Treks', 'Best Heritage Tours', 'Ride Across Nepal', 'asa da', 'zaroui mohamed ali', 'Himalayan Inbound Treks', 'ghum gham', 'ghumni ho', 'Hawks Eye Travels', 'Exodus Himalaya Treks & Expeditions', 'Tamang Heritage Trail', 'ShareTrip Ltd', 'Tournary', 'Gay Travel Nepal', 'Nabina Khatri', 'Pink Mountain Travels and Excursions', 'Freelancher Trekking Guide in Nepal', 'Narba Treks & Expeditions Pvt Ltd', 'Adventure White Himalaya Treks', 'Nepal Challenge Trek', 'Pathil Holidays', 'Luxury Nepal Holidays', 'Nuadthainepal', '\"><U>HelLLo', 'Heartland Trekking', 'Trek to Upper Dolpa', 'Himalaya Trek Adventure Pvt Ltd', 'Pokhara Flight Centre Tours & Travels', '\"><U>Hei<svg onload=alert(1)/>', 'Everest Beads', 'Nepal Challenge Trek Pvt Ltd', 'Tushar Travels', 'Everest Base cCamp', 'Brown Bear Trails', 'Ultimatevenue', \"The Local Cheer's & Beer's Pub\", 'HAMRO TICKET', 'Ride Nepal', 'West Himalaya', 'Kantipur Holidays', 'enjoy-Nepal', 'Vedic Himalayas Treks & Expedition', 'Himalayan Diamond Adventure Pvt Ltd', 'Singing Bowl In Nepal', 'Explore Entire Nepal with Peak to Peak', 'Sherpa Khumbiyila Adventures', 'Nepal Himalaya Reisen', 'Royal Himalayan Treks & Expedition', 'Royal Himalayan Treks & Expedition', 'Aakash Bhairab', 'Nepal Tourism Package', 'Muktinath Yatra', 'Sherpa Khumbiyila Adventures', 'Suraj and sons', 'Atmashree Yoga & Treks', 'Finding Nepal', 'Armatrek Adventure', 'Three Monks Travel and Tours Pvt Ltd', 'Airwings Tours & Travels Pvt Ltd', 'Fun Top Fun Nepal', 'Explore Chitwan Adventure', 'Dorchi Wangdak Bhote', 'Accessible Nepal', 'Everest Helicotper Tour Nepal', 'Helambu Circuit Trek', 'Sunrise Industria', 'Sons Holidays', 'Agate Travel - Nepal Tours', 'Explore Lumbini - Birth Place of Buddha', 'Everest Flight - Kathmandu', 'Treklust Adventures', 'Rock Everest Treks & Expeditions Pvt Ltd', 'Ultimatevenue', 'Eco Holidays Nepal PvtLtd', 'Bus to Everest', 'Adventure A One Treks Pvt Ltd', 'Odynovo Nepal', 'Himalayan Dynasty Adventures', 'Aishwarya Travels Pvt Ltd', 'Sudip Panta', 'VoiceMap Kathmandu', 'Himalaya Rudraksha Bhandar', 'Tara Linhardt', 'Sherpa Tabuche treks & Expedition', 'Pimbahal', 'The Mirage Gaming House', 'Upper Mustang', 'Yatribus', 'Finding Nepal', 'Great Himalaya Nepal', 'Thangka Painting Nepal', 'Trip To Peak', 'Manhal healing', 'Nepal Sherpa Trust', 'Go Nepal', 'Himal Reisen Pvt Ltd', 'Everest Thrill', 'Epic 16 Day Everest Base Camp Hiking Tour', 'Bergwelt Nepal', 'GOROUTES ADVENTURE NEPAL', 'Himalayan Heights', 'Trekking Experts (P) Ltd', 'MD Adventure Travel & Tours Pvt Ltd', 'Test company', 'Horseback riding Pokhara, Nepal', 'Clean Drink Adventures', 'Bagdevi Temple', 'Horseback riding Kathmandu', 'Art Of Tibet', 'Hillary Everest Treks', 'Pikey peak trek', 'Tsum Valley Treks and Expedition', 'Thangka Painting', 'Sange Sherpa Adventure Pvt Ltd', 'Avata', 'Water Kingdom Park & Resort', 'wwwhstadventurecom', 'Himalayan Frozen Adventure', 'Bista Family Home', 'Bindhyabasini Temple', 'Flights to Lukla', 'Resunga Temple', 'Resunga Yegyashala', 'Two Parrot Apparels', 'Dharahara Tower, Sundhara, Kathmandu 44600, Nepal', 'Yeti Mountain Treks & Expedition', 'Zeal Nepal Trek & Expedition', 'Solace Adventure Trekking', 'Mohit Sunuwar', 'Solace Adventure Pltd', 'Mahankal Temple', 'Nagarkot Buddhist Monastery', 'Off The Beaten Path Trek', 'SITA (Travel Corporation India Ltd)', 'Himalayan Hike', 'Harilo', 'Heli Sight', 'River Fun']\n"
     ]
    }
   ],
   "source": [
    "print(dataset['title'].values.tolist())"
   ]
  },
  {
   "cell_type": "code",
   "execution_count": 319,
   "id": "48fca992",
   "metadata": {},
   "outputs": [],
   "source": [
    "#replace the Nan with np.nan\n",
    "dataset.replace('N',np.nan,inplace=True)"
   ]
  },
  {
   "cell_type": "code",
   "execution_count": 320,
   "id": "e6b2e4bd",
   "metadata": {},
   "outputs": [
    {
     "name": "stdout",
     "output_type": "stream",
     "text": [
      "768\n"
     ]
    }
   ],
   "source": [
    "#print the number of missing values\n",
    "print(pd.isna(dataset).sum().sum())"
   ]
  },
  {
   "cell_type": "code",
   "execution_count": 321,
   "id": "30d42f5d",
   "metadata": {},
   "outputs": [],
   "source": [
    "#convert the avg_rating column into float \n",
    "dataset['avg_rating']=pd.to_numeric(dataset['avg_rating'])"
   ]
  },
  {
   "cell_type": "code",
   "execution_count": 322,
   "id": "2fa16946",
   "metadata": {},
   "outputs": [
    {
     "name": "stdout",
     "output_type": "stream",
     "text": [
      "4.771905697445972\n"
     ]
    }
   ],
   "source": [
    "#avg ratings of the locations around Kathmandu\n",
    "print(dataset['avg_rating'].mean())"
   ]
  },
  {
   "cell_type": "code",
   "execution_count": 158,
   "id": "a7940ffe",
   "metadata": {},
   "outputs": [
    {
     "name": "stdout",
     "output_type": "stream",
     "text": [
      "5.0\n",
      "                                                  title  avg_rating  voted_by  \\\n",
      "41    Cathedral of the Assumption of the Blessed Vir...         5.0        12   \n",
      "49                 Boudha Farmers Market at Utpala Cafe         5.0        15   \n",
      "50                 Chhango Adventure Canyoning In Nepal         5.0        20   \n",
      "66                                           Shanti Spa         5.0        15   \n",
      "71                                Music Museum of Nepal         5.0         7   \n",
      "...                                                 ...         ...       ...   \n",
      "1820                                     NTB Adventures         5.0        22   \n",
      "1821                            S Nepal Tours & Travels         5.0         1   \n",
      "1822                             Best Trekking in Nepal         5.0        15   \n",
      "1824                        Beyond Himalaya - Day Tours         5.0         6   \n",
      "1825            Khumbu Nangpala Trekking and Expedition         5.0         3   \n",
      "\n",
      "                                        genre  \n",
      "41    Religious Sites • Churches & Cathedrals  \n",
      "49                            Farmers Markets  \n",
      "50                     Sports Camps & Clinics  \n",
      "66                     Sports Camps & Clinics  \n",
      "71              Art Museums • History Museums  \n",
      "...                                       ...  \n",
      "1820             City Tours • Multi-day Tours  \n",
      "1821   4WD, ATV & Off-Road Tours • Bike Tours  \n",
      "1822          Cultural Tours • Climbing Tours  \n",
      "1824                        Sightseeing Tours  \n",
      "1825             City Tours • Multi-day Tours  \n",
      "\n",
      "[1510 rows x 4 columns]\n"
     ]
    }
   ],
   "source": [
    "#highest avg rating given to a location in Ktm \n",
    "print(dataset['avg_rating'].max())\n",
    "#print locations given the highest ratings \n",
    "print(dataset[dataset['avg_rating']==dataset['avg_rating'].max()])"
   ]
  },
  {
   "cell_type": "code",
   "execution_count": 323,
   "id": "2da1986c",
   "metadata": {},
   "outputs": [
    {
     "name": "stdout",
     "output_type": "stream",
     "text": [
      "1.0\n",
      "                                             title  avg_rating  voted_by  \\\n",
      "383                              Lokta Paper Craft         1.0         1   \n",
      "407                      Department of Immigration         1.0         3   \n",
      "2489                        Salesways Super Market         1.0         1   \n",
      "2490                          Bajrayogini Pashmina         1.0         1   \n",
      "2491                 Travel In Nepal Treks Pvt Ltd         1.0         1   \n",
      "2492                               Travel Junction         1.0         1   \n",
      "2497                                    Bunk Tribe         1.0         1   \n",
      "2501                            Talixo - Kathmandu         1.0         1   \n",
      "2521                                  Blissful Spa         1.0         2   \n",
      "2553  Himalayan Little Buddha Treks And Expedition         1.0         1   \n",
      "\n",
      "                                                  genre  \n",
      "383                      Points of Interest & Landmarks  \n",
      "407                                Government Buildings  \n",
      "2489                            Speciality & Gift Shops  \n",
      "2490                            Speciality & Gift Shops  \n",
      "2491        Multi-day Tours • 4WD, ATV & Off-Road Tours  \n",
      "2492  Sports Camps & Clinics • 4WD, ATV & Off-Road T...  \n",
      "2497                 Multi-day Tours • Helicopter Tours  \n",
      "2501                                   Taxis & Shuttles  \n",
      "2521                                               Spas  \n",
      "2553         Adrenaline & Extreme Tours • Hiking Trails  \n"
     ]
    }
   ],
   "source": [
    "#lowest avg rating given to a location in Ktm \n",
    "print(dataset['avg_rating'].min())\n",
    "#print locations given the lowest ratings \n",
    "print(dataset[dataset['avg_rating']==dataset['avg_rating'].min()])"
   ]
  },
  {
   "cell_type": "code",
   "execution_count": 330,
   "id": "51edaa60",
   "metadata": {
    "scrolled": true
   },
   "outputs": [],
   "source": [
    "#replace the missing values with the mean of the columns \n",
    "imputer=SimpleImputer(missing_values=np.nan,strategy='mean')\n",
    "imputer.fit((dataset['avg_rating']).values.reshape(-1,1))\n",
    "new_avg_rating=imputer.transform(dataset['avg_rating'].values.reshape(-1,1))"
   ]
  },
  {
   "cell_type": "code",
   "execution_count": 331,
   "id": "2ec4d546",
   "metadata": {},
   "outputs": [
    {
     "name": "stdout",
     "output_type": "stream",
     "text": [
      "[[4.5]\n",
      " [4.5]\n",
      " [4.5]\n",
      " ...\n",
      " [3. ]\n",
      " [3. ]\n",
      " [3. ]]\n"
     ]
    }
   ],
   "source": [
    "print(new)"
   ]
  },
  {
   "cell_type": "code",
   "execution_count": 332,
   "id": "12fb89e3",
   "metadata": {},
   "outputs": [],
   "source": [
    "#replace the avg rating column with the new avg rating array \n",
    "dataset['avg_rating']=new_avg_rating"
   ]
  },
  {
   "cell_type": "code",
   "execution_count": 333,
   "id": "236f3811",
   "metadata": {},
   "outputs": [
    {
     "name": "stdout",
     "output_type": "stream",
     "text": [
      "                                    title  avg_rating  voted_by  \\\n",
      "0                        Boudhanath Stupa    4.500000      8897   \n",
      "1                   Phewa Tal (Fewa Lake)    4.500000      2988   \n",
      "2                               Sarangkot    4.500000      2199   \n",
      "3                    Swayambhunath Temple    4.500000      6203   \n",
      "4                               Poon Hill    4.500000      1477   \n",
      "...                                   ...         ...       ...   \n",
      "3308  SITA (Travel Corporation India Ltd)    4.771906         0   \n",
      "3309                       Himalayan Hike    4.771906         0   \n",
      "3310                               Harilo    4.771906         0   \n",
      "3311                           Heli Sight    4.771906         0   \n",
      "3312                            River Fun    4.771906         0   \n",
      "\n",
      "                                            genre  \n",
      "0                                 Religious Sites  \n",
      "1                                 Bodies of Water  \n",
      "2                                       Mountains  \n",
      "3                                 Religious Sites  \n",
      "4                                       Mountains  \n",
      "...                                           ...  \n",
      "3308              Multi-day Tours • Balloon Rides  \n",
      "3309                 City Tours • Multi-day Tours  \n",
      "3310                              Farmers Markets  \n",
      "3311  Parasailing & Paragliding • Multi-day Tours  \n",
      "3312    River Rafting & Tubing • Taxis & Shuttles  \n",
      "\n",
      "[3313 rows x 4 columns]\n"
     ]
    }
   ],
   "source": [
    "print(dataset)"
   ]
  },
  {
   "cell_type": "code",
   "execution_count": 334,
   "id": "7bece47a",
   "metadata": {},
   "outputs": [
    {
     "name": "stdout",
     "output_type": "stream",
     "text": [
      "['Religious Sites' 'Bodies of Water' 'Mountains'\n",
      " 'Points of Interest & Landmarks' 'Art Museums' 'Speciality Museums'\n",
      " 'Ancient Ruins • Points of Interest & Landmarks' 'Neighborhoods'\n",
      " 'Hiking Trails' 'Points of Interest & Landmarks • Historic Walking Areas'\n",
      " 'Gardens' 'Points of Interest & Landmarks • Religious Sites'\n",
      " 'Parasailing & Paragliding • River Rafting & Tubing'\n",
      " 'Historic Sites • Points of Interest & Landmarks'\n",
      " 'National Parks • Nature & Wildlife Areas' 'Caverns & Caves' 'Waterfalls'\n",
      " 'History Museums' 'Mountains • Hiking Trails' 'Flea & Street Markets'\n",
      " 'National Parks' 'Monuments & Statues' 'Historic Sites • Religious Sites'\n",
      " 'Nature & Wildlife Areas • Hiking Trails'\n",
      " 'Points of Interest & Landmarks • Architectural Buildings'\n",
      " 'Nature & Wildlife Areas' 'Nature & Wildlife Areas • Caverns & Caves'\n",
      " 'Valleys' 'Historic Sites' 'Lookouts • Religious Sites'\n",
      " 'Mysterious Sites • Religious Sites' 'Architectural Buildings' 'Parks'\n",
      " 'Shopping Malls' 'Lookouts' 'Hot Springs & Geysers' 'Zoos'\n",
      " 'Sports Camps & Clinics' 'Farms' 'Water Parks'\n",
      " 'Points of Interest & Landmarks • Geologic Formations' 'Dams'\n",
      " 'Speciality Museums • Natural History Museums' 'Historic Walking Areas'\n",
      " 'Mountains • Lookouts' 'Scenic Walking Areas'\n",
      " 'Historic Walking Areas • Biking Trails' 'Art Galleries'\n",
      " 'Neighborhoods • Points of Interest & Landmarks'\n",
      " 'Points of Interest & Landmarks • Cemeteries' 'Theaters'\n",
      " 'Factory Outlets' 'Department Stores'\n",
      " 'Religious Sites • Monuments & Statues'\n",
      " 'Architectural Buildings • Religious Sites' 'Sports Complexes'\n",
      " 'Geologic Formations' 'Art Museums • History Museums'\n",
      " 'Nature & Wildlife Areas • Forests'\n",
      " 'Religious Sites • Churches & Cathedrals' 'Casinos' 'Farmers Markets'\n",
      " 'Nan' 'Libraries' 'Natural History Museums'\n",
      " 'Universities & Schools • Religious Sites'\n",
      " 'Neighborhoods • Hiking Trails'\n",
      " 'Nature & Wildlife Areas • Scenic Walking Areas'\n",
      " 'Points of Interest & Landmarks • Monuments & Statues'\n",
      " 'Military Museums • History Museums' 'Ancient Ruins • Religious Sites'\n",
      " 'Points of Interest & Landmarks • Lookouts'\n",
      " 'Historic Sites • Ancient Ruins' 'Amusement & Theme Parks'\n",
      " 'Points of Interest & Landmarks • Scenic Walking Areas'\n",
      " \"Speciality Museums • Children's Museums\"\n",
      " 'Points of Interest & Landmarks • Parks'\n",
      " 'Bodies of Water • Points of Interest & Landmarks'\n",
      " 'Points of Interest & Landmarks • Scenic Drives'\n",
      " 'Nature & Wildlife Areas • Parks' 'Art Galleries • Antique Shops'\n",
      " 'Mountains • Geologic Formations'\n",
      " 'Historic Sites • Historic Walking Areas' 'Antique Shops'\n",
      " 'Mountains • Ski & Snowboard Areas'\n",
      " 'Historic Sites • Monuments & Statues'\n",
      " 'Ancient Ruins • Historic Walking Areas' 'Convention Centers'\n",
      " 'Mountains • National Parks' 'Government Buildings'\n",
      " 'City Tours • Cultural Tours'\n",
      " 'Multi-day Tours • Historical & Heritage Tours'\n",
      " 'Multi-day Tours • Cultural Tours' 'Multi-day Tours • Eco Tours'\n",
      " 'Parasailing & Paragliding' 'Walking Tours • Hiking & Camping Tours'\n",
      " 'Multi-day Tours • Sightseeing Tours' 'Cultural Tours • Helicopter Tours'\n",
      " 'Parasailing & Paragliding • Multi-day Tours' 'Hiking & Camping Tours'\n",
      " 'Historical & Heritage Tours • Sightseeing Tours'\n",
      " 'Multi-day Tours • Hiking & Camping Tours' 'Yoga & Pilates • Spas'\n",
      " 'Cooking Classes' 'Hiking & Camping Tours • Private Tours'\n",
      " 'Sightseeing Tours' 'River Rafting & Tubing • Cultural Tours'\n",
      " 'Hiking & Camping Tours • Nature & Wildlife Tours'\n",
      " 'City Tours • Multi-day Tours' 'City Tours • Adrenaline & Extreme Tours'\n",
      " 'Bus Services • Taxis & Shuttles'\n",
      " 'Cultural Tours • Historical & Heritage Tours'\n",
      " 'Multi-day Tours • Helicopter Tours' 'Private Tours'\n",
      " 'Multi-day Tours • Walking Tours'\n",
      " 'Parasailing & Paragliding • Adrenaline & Extreme Tours'\n",
      " 'Climbing Tours • Hiking & Camping Tours'\n",
      " 'City Tours • Hiking & Camping Tours'\n",
      " 'Helicopter Tours • Historical & Heritage Tours'\n",
      " 'Canyoning & Rappelling Tours • Walking Tours'\n",
      " 'Multi-day Tours • River Rafting & Tubing'\n",
      " 'Eco Tours • Nature & Wildlife Tours'\n",
      " 'Literary, Art & Music Tours • Climbing Tours'\n",
      " 'Cultural Tours • Eco Tours'\n",
      " 'Cultural Tours • Adrenaline & Extreme Tours'\n",
      " 'City Tours • River Rafting & Tubing' 'City Tours • Helicopter Tours'\n",
      " 'Cultural Tours • Walking Tours' 'Eco Tours'\n",
      " 'Sightseeing Tours • Day Trips' 'Cultural Tours • Sightseeing Tours'\n",
      " 'Walking Tours • Climbing Tours'\n",
      " 'Multi-day Tours • Adrenaline & Extreme Tours'\n",
      " 'City Tours • Climbing Tours'\n",
      " 'Multi-day Tours • 4WD, ATV & Off-Road Tours' 'Motorcycle Tours'\n",
      " 'Multi-day Tours • Climbing Tours'\n",
      " 'Sightseeing Tours • Hiking & Camping Tours'\n",
      " '4WD, ATV & Off-Road Tours • Motorcycle Tours' 'Yoga & Pilates'\n",
      " 'Helicopter Tours • Sightseeing Tours' 'Bike Tours'\n",
      " 'Bike Tours • Climbing Tours'\n",
      " 'River Rafting & Tubing • Historical & Heritage Tours' 'Spas'\n",
      " 'Taxis & Shuttles • Hiking & Camping Tours'\n",
      " 'Historical & Heritage Tours • Hiking & Camping Tours'\n",
      " 'Multi-day Tours • Motorcycle Tours'\n",
      " 'Helicopter Tours • Adrenaline & Extreme Tours'\n",
      " 'River Rafting & Tubing • Canyoning & Rappelling Tours'\n",
      " 'Canyoning & Rappelling Tours • Hiking & Camping Tours'\n",
      " 'Parasailing & Paragliding • Cultural Tours' 'Speciality & Gift Shops'\n",
      " 'Cultural Tours • Shopping Tours'\n",
      " 'Parasailing & Paragliding • City Tours' 'Private Tours • Air Tours'\n",
      " 'River Rafting & Tubing • Walking Tours' 'City Tours • Shopping Tours'\n",
      " 'Movie Theaters • Bars & Clubs'\n",
      " 'Adrenaline & Extreme Tours • Climbing Tours'\n",
      " 'Cultural Tours • Climbing Tours'\n",
      " '4WD, ATV & Off-Road Tours • Walking Tours'\n",
      " 'Hiking & Camping Tours • Day Trips'\n",
      " 'Private Tours • Self-Guided Tours & Rentals'\n",
      " 'River Rafting & Tubing • Sightseeing Tours'\n",
      " 'Parasailing & Paragliding • Walking Tours'\n",
      " 'Parasailing & Paragliding • 4WD, ATV & Off-Road Tours'\n",
      " 'City Tours • Historical & Heritage Tours'\n",
      " 'River Rafting & Tubing • Helicopter Tours'\n",
      " 'Historical & Heritage Tours • Eco Tours' 'Multi-day Tours • Safaris'\n",
      " 'Bars & Clubs' 'Climbing Tours • Sightseeing Tours'\n",
      " 'Hiking & Camping Tours • Air Tours' 'Lessons & Workshops'\n",
      " 'Historical & Heritage Tours • Private Tours'\n",
      " 'City Tours • Sightseeing Tours' 'City Tours' 'Eco Tours • Private Tours'\n",
      " 'Multi-day Tours • Bike Tours' 'Taxis & Shuttles' 'Boat Tours'\n",
      " 'Multi-day Tours • Day Trips' 'City Tours • Walking Tours'\n",
      " 'River Rafting & Tubing • Adrenaline & Extreme Tours'\n",
      " 'Helicopter Tours • Walking Tours' 'Nature & Wildlife Tours'\n",
      " 'Helicopter Tours • Eco Tours'\n",
      " 'Adrenaline & Extreme Tours • Private Tours'\n",
      " 'Helicopter Tours • Climbing Tours' 'Walking Tours • Eco Tours'\n",
      " 'Other Outdoor Activities' 'Paint & Pottery Studios • Eco Tours'\n",
      " 'Safaris • Nature & Wildlife Tours' 'Multi-day Tours • Biking Trails'\n",
      " 'Nature & Wildlife Tours • Day Trips' 'Zipline & Aerial Adventure Parks'\n",
      " 'Air Tours' 'Walking Tours' 'Helicopter Tours • Hiking & Camping Tours'\n",
      " 'City Tours • Day Trips' 'Cultural Tours • Hiking & Camping Tours'\n",
      " 'City Tours • Bike Tours'\n",
      " 'River Rafting & Tubing • Hiking & Camping Tours'\n",
      " 'Helicopter Tours • Taxis & Shuttles' 'Helicopter Tours'\n",
      " 'River Rafting & Tubing • Climbing Tours'\n",
      " 'Historical & Heritage Tours • Walking Tours'\n",
      " '4WD, ATV & Off-Road Tours • Climbing Tours'\n",
      " 'Multi-day Tours • Canyoning & Rappelling Tours'\n",
      " 'Multi-day Tours • Private Tours' 'Yoga & Pilates • Lessons & Workshops'\n",
      " 'Safaris • Climbing Tours' 'Cultural Tours • Bike Tours'\n",
      " '4WD, ATV & Off-Road Tours • Hiking & Camping Tours'\n",
      " 'Climbing Tours • Eco Tours' 'Hiking & Camping Tours • Bus Tours'\n",
      " 'Taxis & Shuttles • Private Tours'\n",
      " '4WD, ATV & Off-Road Tours • Adrenaline & Extreme Tours'\n",
      " 'Vespa, Scooter & Moped Tours' 'Bike Tours • Eco Tours'\n",
      " 'Multi-day Tours • Taxis & Shuttles' 'City Tours • Motorcycle Tours'\n",
      " 'Zipline & Aerial Adventure Parks • Walking Tours'\n",
      " 'Adrenaline & Extreme Tours' 'Eco Tours • Hiking & Camping Tours'\n",
      " 'River Rafting & Tubing • Kayaking & Canoeing'\n",
      " 'Safaris • Sightseeing Tours' 'River Rafting & Tubing • Bike Tours'\n",
      " 'Game & Entertainment Centers' 'Kayaking & Canoeing'\n",
      " 'Historical & Heritage Tours • Climbing Tours'\n",
      " 'Adrenaline & Extreme Tours • Hiking & Camping Tours'\n",
      " 'Sightseeing Tours • Bus Tours' 'Day Trips' 'Health Clubs • Spas'\n",
      " 'Paint & Pottery Studios' 'Water Sports'\n",
      " 'Parasailing & Paragliding • Sightseeing Tours'\n",
      " 'Parasailing & Paragliding • Food Tours'\n",
      " 'Sightseeing Tours • Nature & Wildlife Tours' 'Cultural Tours'\n",
      " 'Cultural Tours • Taxis & Shuttles'\n",
      " 'Helicopter Tours • Nature & Wildlife Tours' 'Visitor Centers'\n",
      " 'Fishing Charters & Tours' 'Taxis & Shuttles • Eco Tours'\n",
      " 'Bar, Club & Pub Tours • Climbing Tours'\n",
      " 'Canyoning & Rappelling Tours • Climbing Tours'\n",
      " 'Cultural Tours • Canyoning & Rappelling Tours'\n",
      " 'Motorcycle Tours • Eco Tours' 'City Tours • Eco Tours'\n",
      " 'Adrenaline & Extreme Tours • Taxis & Shuttles' 'Golf Courses'\n",
      " 'Historical & Heritage Tours • Bike Tours'\n",
      " 'Walking Tours • Sightseeing Tours'\n",
      " 'River Rafting & Tubing • Water Sports'\n",
      " 'Lessons & Workshops • Cooking Classes'\n",
      " 'Historical & Heritage Tours • Zipline & Aerial Adventure Parks'\n",
      " 'Bars & Clubs • Blues Bars' 'Multi-day Tours • Bus Tours'\n",
      " 'City Tours • Yoga & Pilates' '4WD, ATV & Off-Road Tours • Bike Tours'\n",
      " 'Balloon Rides'\n",
      " 'Adrenaline & Extreme Tours • Historical & Heritage Tours'\n",
      " 'Speciality & Gift Shops • Factory Outlets'\n",
      " 'River Rafting & Tubing • Air Tours' 'Bike Tours • Motorcycle Tours'\n",
      " 'Paint & Pottery Studios • Multi-day Tours'\n",
      " '4WD, ATV & Off-Road Tours • Helicopter Tours' 'Climbing Tours'\n",
      " 'Multi-day Tours • Nature & Wildlife Tours' 'Bike Tours • Gear Rentals'\n",
      " 'Adrenaline & Extreme Tours • Bike Tours' 'Private Tours • Day Trips'\n",
      " 'Playgrounds • Game & Entertainment Centers'\n",
      " 'Cultural Tours • Nature & Wildlife Tours' 'Historical & Heritage Tours'\n",
      " 'Hiking & Camping Tours • Kayaking & Canoeing' 'River Rafting & Tubing'\n",
      " 'Gear Rentals' 'Hiking Trails • Hiking & Camping Tours'\n",
      " 'Safaris • Bike Tours' 'Bike Tours • Private Tours'\n",
      " 'Sports Camps & Clinics • Day Trips'\n",
      " 'Parasailing & Paragliding • Helicopter Tours'\n",
      " 'City Tours • Water Sports' 'Cultural Tours • 4WD, ATV & Off-Road Tours'\n",
      " 'Cultural Tours • Day Trips' 'Speciality & Gift Shops • Art Galleries'\n",
      " 'Bike Tours • Hiking & Camping Tours' 'Cultural Tours • Safaris'\n",
      " 'Safaris • Taxis & Shuttles' 'Archaeology Tours'\n",
      " 'Multi-day Tours • Ski & Snow Tours' 'Climbing Tours • Hiking Trails'\n",
      " 'Cooking Classes • Food Tours' 'Multi-day Tours • Boat Tours'\n",
      " 'Taxis & Shuttles • Walking Tours'\n",
      " 'Canyoning & Rappelling Tours • 4WD, ATV & Off-Road Tours'\n",
      " 'Safaris • Hiking & Camping Tours' 'Multi-day Tours'\n",
      " 'Helicopter Tours • Air Tours' 'Safaris • Ski & Snow Tours'\n",
      " 'Horseback Riding Tours' 'Helicopter Tours • Bike Tours'\n",
      " 'Escape Games • Taxis & Shuttles'\n",
      " 'Canyoning & Rappelling Tours • Ski & Snow Tours' 'Movie Theaters'\n",
      " '4WD, ATV & Off-Road Tours • Safaris'\n",
      " 'Canyoning & Rappelling Tours • Taxis & Shuttles'\n",
      " 'Eco Tours • Photography Tours' 'Coffee & Tea Tours'\n",
      " 'Multi-day Tours • Coffee & Tea Tours'\n",
      " 'River Rafting & Tubing • Private Tours'\n",
      " 'Parasailing & Paragliding • Canyoning & Rappelling Tours'\n",
      " 'Escape Games • Points of Interest & Landmarks'\n",
      " 'Taxis & Shuttles • Bike Tours' 'Speciality & Gift Shops • Antique Shops'\n",
      " 'River Rafting & Tubing • Zipline & Aerial Adventure Parks'\n",
      " 'Bars & Clubs • Dance Clubs & Discos' 'Safaris • Private Tours'\n",
      " 'Coffee & Tea Tours • Food Tours'\n",
      " 'Other Outdoor Activities • Hiking Trails'\n",
      " 'Theaters • Theatre & Performances' 'Motorcycle Trails'\n",
      " 'Surfing & Windsurfing' 'Climbing Tours • Nature & Wildlife Tours'\n",
      " 'Adrenaline & Extreme Tours • Walking Tours' 'Ski & Snow Tours'\n",
      " '4WD, ATV & Off-Road Tours • Taxis & Shuttles'\n",
      " 'Sports Camps & Clinics • Horse-Drawn Carriage Tours'\n",
      " 'Self-Guided Tours & Rentals' 'Helicopter Tours • Private Tours'\n",
      " 'Shopping Tours' 'Lookouts • Hiking Trails'\n",
      " 'Parasailing & Paragliding • Zipline & Aerial Adventure Parks'\n",
      " 'River Rafting & Tubing • Gear Rentals'\n",
      " 'Adrenaline & Extreme Tours • Sightseeing Tours'\n",
      " 'Horse-Drawn Carriage Tours • Food Tours' 'Bus Services'\n",
      " 'Sports Camps & Clinics • 4WD, ATV & Off-Road Tours'\n",
      " 'Taxis & Shuttles • Boat Tours'\n",
      " 'Adrenaline & Extreme Tours • Hiking Trails'\n",
      " 'Health Clubs • Yoga & Pilates'\n",
      " 'Sports Camps & Clinics • Beer Tastings & Tours'\n",
      " 'City Tours • Nature & Wildlife Tours' '4WD, ATV & Off-Road Tours'\n",
      " 'Adrenaline & Extreme Tours • Zipline & Aerial Adventure Parks'\n",
      " 'Distillery Tours • Taxis & Shuttles' 'Ski & Snowboard Areas'\n",
      " 'Parasailing & Paragliding • Submarine Tours'\n",
      " 'Speciality Museums • Art Museums' 'Architectural Buildings • Libraries'\n",
      " 'Safaris' 'Bar, Club & Pub Tours • Adrenaline & Extreme Tours'\n",
      " 'Paint & Pottery Studios • Sports Camps & Clinics'\n",
      " 'Bars & Clubs • Karaoke Bars' 'Safaris • Walking Tours'\n",
      " 'Parasailing & Paragliding • Hiking & Camping Tours'\n",
      " 'Taxis & Shuttles • Day Trips'\n",
      " 'Motorcycle Tours • Self-Guided Tours & Rentals'\n",
      " 'Helicopter Tours • Balloon Rides' 'Multi-day Tours • Gear Rentals'\n",
      " 'Climbing Tours • Motorcycle Tours'\n",
      " 'Bar, Club & Pub Tours • Multi-day Tours' 'Escape Games' 'Food Tours'\n",
      " 'Parasailing & Paragliding • Factory Tours' 'Helicopter Tours • Safaris'\n",
      " 'Parasailing & Paragliding • Photography Tours'\n",
      " 'Private Tours • Nature & Wildlife Tours' 'Photography Tours'\n",
      " 'Parasailing & Paragliding • Paint & Pottery Studios'\n",
      " 'Bike Tours • Walking Tours'\n",
      " 'Canyoning & Rappelling Tours • Helicopter Tours'\n",
      " 'Taxis & Shuttles • Self-Guided Tours & Rentals'\n",
      " 'Yoga & Pilates • Eco Tours' 'Distilleries • Wineries & Vineyards'\n",
      " 'Walking Tours • Motorcycle Tours' 'Bar, Club & Pub Tours • Day Trips'\n",
      " 'River Rafting & Tubing • Boat Tours' 'Boat Tours • Eco Tours'\n",
      " 'Paint & Pottery Studios • Cooking Classes'\n",
      " 'Taxis & Shuttles • Wine Tours & Tastings '\n",
      " 'Zipline & Aerial Adventure Parks • Climbing Tours'\n",
      " 'City Tours • Paint & Pottery Studios' 'Multi-day Tours • Balloon Rides'\n",
      " 'Nature & Wildlife Tours • Horseback Riding Tours'\n",
      " 'River Rafting & Tubing • Taxis & Shuttles']\n"
     ]
    }
   ],
   "source": [
    "print(dataset['genre'].unique())"
   ]
  },
  {
   "cell_type": "code",
   "execution_count": 335,
   "id": "bc42e913",
   "metadata": {},
   "outputs": [
    {
     "data": {
      "text/plain": [
       "0                                   Religious Sites\n",
       "1                                   Bodies of Water\n",
       "2                                         Mountains\n",
       "3                                   Religious Sites\n",
       "4                                         Mountains\n",
       "                           ...                     \n",
       "3308                Multi-day Tours • Balloon Rides\n",
       "3309                   City Tours • Multi-day Tours\n",
       "3310                                Farmers Markets\n",
       "3311    Parasailing & Paragliding • Multi-day Tours\n",
       "3312      River Rafting & Tubing • Taxis & Shuttles\n",
       "Name: genre, Length: 3313, dtype: object"
      ]
     },
     "execution_count": 335,
     "metadata": {},
     "output_type": "execute_result"
    }
   ],
   "source": [
    "dataset['genre']"
   ]
  },
  {
   "cell_type": "code",
   "execution_count": 336,
   "id": "a5185628",
   "metadata": {},
   "outputs": [],
   "source": [
    "genre_arr=[] #store all values for each row in this array\n",
    "for i in range(len(dataset['genre'])):\n",
    "    arr=[] #array to store stripped items\n",
    "    splitted_arr=dataset['genre'][i].split('•')\n",
    "    for item in splitted_arr:\n",
    "        new_stripped_item=item.strip()\n",
    "        arr.append(new_stripped_item)\n",
    "    genre_arr.append(arr)\n",
    "\n",
    "dataset['genre']=genre_arr"
   ]
  },
  {
   "cell_type": "code",
   "execution_count": 337,
   "id": "359444fa",
   "metadata": {},
   "outputs": [
    {
     "data": {
      "text/html": [
       "<div>\n",
       "<style scoped>\n",
       "    .dataframe tbody tr th:only-of-type {\n",
       "        vertical-align: middle;\n",
       "    }\n",
       "\n",
       "    .dataframe tbody tr th {\n",
       "        vertical-align: top;\n",
       "    }\n",
       "\n",
       "    .dataframe thead th {\n",
       "        text-align: right;\n",
       "    }\n",
       "</style>\n",
       "<table border=\"1\" class=\"dataframe\">\n",
       "  <thead>\n",
       "    <tr style=\"text-align: right;\">\n",
       "      <th></th>\n",
       "      <th>title</th>\n",
       "      <th>avg_rating</th>\n",
       "      <th>voted_by</th>\n",
       "      <th>genre</th>\n",
       "    </tr>\n",
       "  </thead>\n",
       "  <tbody>\n",
       "    <tr>\n",
       "      <th>0</th>\n",
       "      <td>Boudhanath Stupa</td>\n",
       "      <td>4.500000</td>\n",
       "      <td>8897</td>\n",
       "      <td>[Religious Sites]</td>\n",
       "    </tr>\n",
       "    <tr>\n",
       "      <th>1</th>\n",
       "      <td>Phewa Tal (Fewa Lake)</td>\n",
       "      <td>4.500000</td>\n",
       "      <td>2988</td>\n",
       "      <td>[Bodies of Water]</td>\n",
       "    </tr>\n",
       "    <tr>\n",
       "      <th>2</th>\n",
       "      <td>Sarangkot</td>\n",
       "      <td>4.500000</td>\n",
       "      <td>2199</td>\n",
       "      <td>[Mountains]</td>\n",
       "    </tr>\n",
       "    <tr>\n",
       "      <th>3</th>\n",
       "      <td>Swayambhunath Temple</td>\n",
       "      <td>4.500000</td>\n",
       "      <td>6203</td>\n",
       "      <td>[Religious Sites]</td>\n",
       "    </tr>\n",
       "    <tr>\n",
       "      <th>4</th>\n",
       "      <td>Poon Hill</td>\n",
       "      <td>4.500000</td>\n",
       "      <td>1477</td>\n",
       "      <td>[Mountains]</td>\n",
       "    </tr>\n",
       "    <tr>\n",
       "      <th>...</th>\n",
       "      <td>...</td>\n",
       "      <td>...</td>\n",
       "      <td>...</td>\n",
       "      <td>...</td>\n",
       "    </tr>\n",
       "    <tr>\n",
       "      <th>3308</th>\n",
       "      <td>SITA (Travel Corporation India Ltd)</td>\n",
       "      <td>4.771906</td>\n",
       "      <td>0</td>\n",
       "      <td>[Multi-day Tours, Balloon Rides]</td>\n",
       "    </tr>\n",
       "    <tr>\n",
       "      <th>3309</th>\n",
       "      <td>Himalayan Hike</td>\n",
       "      <td>4.771906</td>\n",
       "      <td>0</td>\n",
       "      <td>[City Tours, Multi-day Tours]</td>\n",
       "    </tr>\n",
       "    <tr>\n",
       "      <th>3310</th>\n",
       "      <td>Harilo</td>\n",
       "      <td>4.771906</td>\n",
       "      <td>0</td>\n",
       "      <td>[Farmers Markets]</td>\n",
       "    </tr>\n",
       "    <tr>\n",
       "      <th>3311</th>\n",
       "      <td>Heli Sight</td>\n",
       "      <td>4.771906</td>\n",
       "      <td>0</td>\n",
       "      <td>[Parasailing &amp; Paragliding, Multi-day Tours]</td>\n",
       "    </tr>\n",
       "    <tr>\n",
       "      <th>3312</th>\n",
       "      <td>River Fun</td>\n",
       "      <td>4.771906</td>\n",
       "      <td>0</td>\n",
       "      <td>[River Rafting &amp; Tubing, Taxis &amp; Shuttles]</td>\n",
       "    </tr>\n",
       "  </tbody>\n",
       "</table>\n",
       "<p>3313 rows × 4 columns</p>\n",
       "</div>"
      ],
      "text/plain": [
       "                                    title  avg_rating  voted_by  \\\n",
       "0                        Boudhanath Stupa    4.500000      8897   \n",
       "1                   Phewa Tal (Fewa Lake)    4.500000      2988   \n",
       "2                               Sarangkot    4.500000      2199   \n",
       "3                    Swayambhunath Temple    4.500000      6203   \n",
       "4                               Poon Hill    4.500000      1477   \n",
       "...                                   ...         ...       ...   \n",
       "3308  SITA (Travel Corporation India Ltd)    4.771906         0   \n",
       "3309                       Himalayan Hike    4.771906         0   \n",
       "3310                               Harilo    4.771906         0   \n",
       "3311                           Heli Sight    4.771906         0   \n",
       "3312                            River Fun    4.771906         0   \n",
       "\n",
       "                                             genre  \n",
       "0                                [Religious Sites]  \n",
       "1                                [Bodies of Water]  \n",
       "2                                      [Mountains]  \n",
       "3                                [Religious Sites]  \n",
       "4                                      [Mountains]  \n",
       "...                                            ...  \n",
       "3308              [Multi-day Tours, Balloon Rides]  \n",
       "3309                 [City Tours, Multi-day Tours]  \n",
       "3310                             [Farmers Markets]  \n",
       "3311  [Parasailing & Paragliding, Multi-day Tours]  \n",
       "3312    [River Rafting & Tubing, Taxis & Shuttles]  \n",
       "\n",
       "[3313 rows x 4 columns]"
      ]
     },
     "execution_count": 337,
     "metadata": {},
     "output_type": "execute_result"
    }
   ],
   "source": [
    "dataset"
   ]
  },
  {
   "cell_type": "code",
   "execution_count": 338,
   "id": "7dbfc61d",
   "metadata": {},
   "outputs": [
    {
     "name": "stdout",
     "output_type": "stream",
     "text": [
      "0                                  [Religious Sites]\n",
      "1                                  [Bodies of Water]\n",
      "2                                        [Mountains]\n",
      "3                                  [Religious Sites]\n",
      "4                                        [Mountains]\n",
      "                            ...                     \n",
      "3308                [Multi-day Tours, Balloon Rides]\n",
      "3309                   [City Tours, Multi-day Tours]\n",
      "3310                               [Farmers Markets]\n",
      "3311    [Parasailing & Paragliding, Multi-day Tours]\n",
      "3312      [River Rafting & Tubing, Taxis & Shuttles]\n",
      "Name: genre, Length: 3313, dtype: object\n"
     ]
    }
   ],
   "source": [
    "print(dataset['genre'])"
   ]
  },
  {
   "cell_type": "code",
   "execution_count": 339,
   "id": "2f2b46ff",
   "metadata": {},
   "outputs": [],
   "source": [
    "#append all the items in the individual list from genre into a super list \n",
    "super_genre_list=[]\n",
    "for each_list in dataset['genre']:\n",
    "    for item in each_list:\n",
    "        super_genre_list.append(item)\n",
    "\n",
    "#convert that into set to have only the unique values \n",
    "superset=set((super_genre_list))"
   ]
  },
  {
   "cell_type": "code",
   "execution_count": 340,
   "id": "c5c5df89",
   "metadata": {},
   "outputs": [
    {
     "name": "stdout",
     "output_type": "stream",
     "text": [
      "{'Art Galleries', 'Architectural Buildings', 'Horse-Drawn Carriage Tours', 'Vespa, Scooter & Moped Tours', 'Amusement & Theme Parks', 'Archaeology Tours', 'Nature & Wildlife Tours', 'Antique Shops', 'Convention Centers', 'Neighborhoods', 'Motorcycle Tours', 'Theaters', 'Government Buildings', 'Shopping Tours', 'Dance Clubs & Discos', 'Motorcycle Trails', 'Distilleries', 'Visitor Centers', 'Kayaking & Canoeing', 'Ski & Snow Tours', 'Hot Springs & Geysers', 'Factory Tours', 'Water Parks', 'Other Outdoor Activities', 'National Parks', 'Distillery Tours', 'Bars & Clubs', 'Horseback Riding Tours', 'Golf Courses', 'Caverns & Caves', 'Canyoning & Rappelling Tours', 'Coffee & Tea Tours', 'Multi-day Tours', 'Historic Sites', 'Universities & Schools', 'Submarine Tours', 'Walking Tours', 'Waterfalls', 'Military Museums', '4WD, ATV & Off-Road Tours', 'Zoos', 'Fishing Charters & Tours', 'Factory Outlets', 'Playgrounds', 'Game & Entertainment Centers', 'Forests', 'Mountains', 'Private Tours', 'Escape Games', 'Scenic Walking Areas', 'Safaris', 'Geologic Formations', 'Taxis & Shuttles', 'Food Tours', 'Dams', 'Zipline & Aerial Adventure Parks', 'Biking Trails', 'Gear Rentals', 'Bike Tours', 'Climbing Tours', 'Health Clubs', 'Blues Bars', 'Speciality & Gift Shops', 'Speciality Museums', 'Eco Tours', 'Parks', 'River Rafting & Tubing', 'Boat Tours', 'Gardens', 'Movie Theaters', 'Cultural Tours', 'Lessons & Workshops', 'Karaoke Bars', 'Theatre & Performances', 'Cemeteries', 'Natural History Museums', 'Sports Camps & Clinics', 'Points of Interest & Landmarks', 'Day Trips', 'Surfing & Windsurfing', 'Department Stores', 'Wineries & Vineyards', 'Water Sports', 'Spas', 'Shopping Malls', 'Sports Complexes', 'Bus Services', 'Historical & Heritage Tours', 'Ski & Snowboard Areas', \"Children's Museums\", 'Parasailing & Paragliding', 'City Tours', 'Balloon Rides', 'Photography Tours', 'Scenic Drives', 'Ancient Ruins', 'Self-Guided Tours & Rentals', 'Religious Sites', 'Paint & Pottery Studios', 'Hiking & Camping Tours', 'Wine Tours & Tastings', 'Bus Tours', 'Churches & Cathedrals', 'Literary, Art & Music Tours', 'Valleys', 'Art Museums', 'Hiking Trails', 'Adrenaline & Extreme Tours', 'Farms', 'Libraries', 'Beer Tastings & Tours', 'Monuments & Statues', 'Mysterious Sites', 'Lookouts', 'Helicopter Tours', 'Sightseeing Tours', 'Casinos', 'Nan', 'Cooking Classes', 'Historic Walking Areas', 'Bodies of Water', 'Air Tours', 'Nature & Wildlife Areas', 'History Museums', 'Farmers Markets', 'Flea & Street Markets', 'Yoga & Pilates', 'Bar, Club & Pub Tours'}\n"
     ]
    }
   ],
   "source": [
    "print(superset)"
   ]
  },
  {
   "cell_type": "code",
   "execution_count": 342,
   "id": "fd4460b0",
   "metadata": {},
   "outputs": [
    {
     "name": "stdout",
     "output_type": "stream",
     "text": [
      "128\n"
     ]
    }
   ],
   "source": [
    "print(len(superset))"
   ]
  },
  {
   "cell_type": "code",
   "execution_count": 346,
   "id": "efb0a6c2",
   "metadata": {},
   "outputs": [],
   "source": [
    "#superset in the 'ktm' dataset \n",
    "test={'Art Galleries', 'Architectural Buildings', 'Horse-Drawn Carriage Tours', 'Vespa, Scooter & Moped Tours', \\\n",
    "      'Amusement & Theme Parks', 'Archaeology Tours', 'Nature & Wildlife Tours', 'Antique Shops', 'Convention Centers',\\\n",
    "      'Neighborhoods', 'Motorcycle Tours', 'Government Buildings', 'Shopping Tours', 'Theaters', 'Dance Clubs & Discos',\\\n",
    "      'Motorcycle Trails', 'Distilleries', 'Visitor Centers', 'Kayaking & Canoeing', 'Ski & Snow Tours', 'Factory Tours',\\\n",
    "      'Other Outdoor Activities', 'National Parks', 'Distillery Tours', 'Bars & Clubs', 'Horseback Riding Tours', \\\n",
    "      'Canyoning & Rappelling Tours', 'Coffee & Tea Tours', 'Multi-day Tours', 'Historic Sites', 'Submarine Tours',\\\n",
    "      'Walking Tours', 'Waterfalls', 'Military Museums', '4WD, ATV & Off-Road Tours', 'Fishing Charters & Tours', \\\n",
    "      'Factory Outlets', 'Playgrounds', 'Game & Entertainment Centers', 'Forests', 'Mountains', 'Private Tours', \\\n",
    "      'Scenic Walking Areas', 'Safaris', 'Taxis & Shuttles', 'Food Tours', 'Dams', 'Zipline & Aerial Adventure Parks',\\\n",
    "      'Biking Trails', 'Gear Rentals', 'Bike Tours', 'Climbing Tours', 'Health Clubs', 'Speciality & Gift Shops', \\\n",
    "      'Speciality Museums', 'Eco Tours', 'Parks', 'Boat Tours', 'River Rafting & Tubing', 'Gardens', 'Movie Theaters',\\\n",
    "      'Cultural Tours', 'Lessons & Workshops', 'Karaoke Bars', 'Theatre & Performances', 'Natural History Museums', \\\n",
    "      'Sports Camps & Clinics', 'Points of Interest & Landmarks', 'Day Trips', 'Wineries & Vineyards', 'Water Sports', \\\n",
    "      'Spas', 'Shopping Malls', 'Sports Complexes', 'Bus Services', 'Historical & Heritage Tours', \"Children's Museums\",\\\n",
    "      'City Tours', 'Parasailing & Paragliding', 'Balloon Rides', 'Photography Tours', 'Self-Guided Tours & Rentals',\\\n",
    "      'Religious Sites', 'Paint & Pottery Studios', 'Hiking & Camping Tours', 'Bus Tours', 'Churches & Cathedrals',\\\n",
    "      'Valleys', 'Art Museums', 'Hiking Trails', 'Adrenaline & Extreme Tours', 'Libraries', 'Beer Tastings & Tours',\\\n",
    "      'Monuments & Statues', 'Lookouts', 'Helicopter Tours', 'Sightseeing Tours', 'Casinos', 'Cooking Classes',\\\n",
    "      'Air Tours', 'Historic Walking Areas', 'Bodies of Water', 'Nature & Wildlife Areas', 'History Museums', \\\n",
    "      'Farmers Markets', 'Flea & Street Markets', 'Yoga & Pilates', 'Bar, Club & Pub Tours'}"
   ]
  },
  {
   "cell_type": "code",
   "execution_count": 347,
   "id": "81efdf8d",
   "metadata": {},
   "outputs": [
    {
     "name": "stdout",
     "output_type": "stream",
     "text": [
      "{'Universities & Schools', 'Literary, Art & Music Tours', 'Zoos', 'Cemeteries', 'Farms', 'Mysterious Sites', 'Surfing & Windsurfing', 'Escape Games', 'Department Stores', 'Geologic Formations', 'Ski & Snowboard Areas', 'Hot Springs & Geysers', 'Water Parks', 'Scenic Drives', 'Ancient Ruins', 'Nan', 'Blues Bars', 'Golf Courses', 'Wine Tours & Tastings', 'Caverns & Caves'}\n"
     ]
    }
   ],
   "source": [
    "print(superset.difference(test))"
   ]
  },
  {
   "cell_type": "code",
   "execution_count": 349,
   "id": "2e6e1e07",
   "metadata": {},
   "outputs": [],
   "source": [
    "#make checklists\n",
    "industries_checklist=['Distilleries','Factory Tours','Factory Outlets','Lessons & Workshops', 'Wineries & Vineyards',\\\n",
    "                     'Farms',]\n",
    "health_and_lifestyle_checklist=['Sports Camps & Clinics','Spas','Yoga & Pilates','Universities & Schools',\\\n",
    "                                'Farms','Department Stores','Hot Springs & Geysers',]\n",
    "food_checklist=['Coffee & Tea Tours','Food Tours','Wineries & Vineyards', 'Beer Tastings & Tours',\\\n",
    "               'Cooking Classes','Farmers Markets','Wine Tours & Tastings',]\n",
    "\n",
    "entertainment_checklist=['Horse-Drawn Carriage Tours', 'Vespa, Scooter & Moped Tours', 'Amusement & Theme Parks',\\\n",
    "                        'Shopping Tours', 'Theaters', 'Dance Clubs & Discos','Other Outdoor Activities',\\\n",
    "                        'Bars & Clubs','Coffee & Tea Tours','Fishing Charters & Tours','Playgrounds', 'Game & Entertainment Centers',\\\n",
    "                        'Food Tours','Movie Theaters','Karaoke Bars','Theatre & Performances','Shopping Malls', 'Sports Complexes',\\\n",
    "                        'City Tours','Self-Guided Tours & Rentals','Farmers Markets', 'Flea & Street Markets',\\\n",
    "                        'Bar, Club & Pub Tours','Casinos','Literary, Art & Music Tours','Zoos','Surfing & Windsurfing',\\\n",
    "                        'Escape Games','Ski & Snowboard Areas','Water Parks','Scenic Drives','Blues Bars',\\\n",
    "                        'Golf Courses',]\n",
    "\n",
    "religious_checklist=['Art Galleries','Archaeology Tours','Antique Shops','Cultural Tours','Religious Sites',\\\n",
    "                     'Monuments & Statues','Cemeteries',]\n",
    "\n",
    "adventure_checklist=['Archaeology Tours', 'Nature & Wildlife Tours','Kayaking & Canoeing', 'Ski & Snow Tours',\\\n",
    "                    'Motorcycle Trails', 'Horseback Riding Tours', 'Canyoning & Rappelling Tours',\\\n",
    "                     'Safaris','Zipline & Aerial Adventure Parks', 'Biking Trails', 'Gear Rentals', 'Bike Tours',\\\n",
    "                     'Climbing Tours','Eco Tours','River Rafting & Tubing','Sports Camps & Clinics',\\\n",
    "                     'Parasailing & Paragliding', 'Balloon Rides', 'Photography Tours','4WD, ATV & Off-Road Tours',\\\n",
    "                     'Hiking & Camping Tours', 'Bus Tours','Hiking Trails', 'Adrenaline & Extreme Tours',\\\n",
    "                     'Helicopter Tours', 'Sightseeing Tours','Nature & Wildlife Areas','Submarine Tours',\\\n",
    "                     'Mysterious Sites','Surfing & Windsurfing','Escape Games','Ski & Snowboard Areas',\\\n",
    "                    ]\n",
    "nature_checklist=['Nature & Wildlife Tours','Dams','National Parks','Fishing Charters & Tours','Forests', 'Mountains', 'Private Tours',\\\n",
    "                  'Scenic Walking Areas','Safaris','Climbing Tours','Points of Interest & Landmarks','Wineries & Vineyards',\\\n",
    "                  'Water Sports','Valleys','Hiking Trails','Adrenaline & Extreme Tours','Lookouts', 'Helicopter Tours',\\\n",
    "                  'Sightseeing Tours', 'Air Tours','Bodies of Water', 'Nature & Wildlife Areas','Zoos',\\\n",
    "                  'Mysterious Sites','Surfing & Windsurfing','Geologic Formations','Caverns & Caves',\\\n",
    "                 ]\n",
    "\n",
    "art_and_architecture_checklist=['Art Galleries','Architectural Buildings','Archaeology Tours','Antique Shops','Government Buildings',\\\n",
    "                      'Historic Sites','Military Museums','Speciality & Gift Shops','Theaters','Cultural Tours',\\\n",
    "                      'Natural History Museums','Points of Interest & Landmarks','Historical & Heritage Tours', \"Children's Museums\",\\\n",
    "                      'City Tours','Religious Sites','Paint & Pottery Studios','Churches & Cathedrals',\\\n",
    "                      'Art Museums','Libraries','Monuments & Statues','Lookouts','History Museums','Convention Centers',\\\n",
    "                      'Movie Theaters','Sightseeing Tours','Historic Walking Areas','Literary, Art & Music Tours',\\\n",
    "                      'Mysterious Sites','Ancient Ruins','Blues Bars',\\\n",
    "                      ]\n",
    "\n",
    "history_checklist=['Art Galleries','Architectural Buildings','Archaeology Tours','Antique Shops','Government Buildings',\\\n",
    "                  'Multi-day Tours','Historic Sites','Military Museums','Speciality & Gift Shops',\\\n",
    "                  'Natural History Museums','Points of Interest & Landmarks','Historical & Heritage Tours', \"Children's Museums\",\\\n",
    "                  'City Tours','Religious Sites','Paint & Pottery Studios','Churches & Cathedrals',\\\n",
    "                  'Art Museums','Libraries','Monuments & Statues','Lookouts','History Museums','Convention Centers',\\\n",
    "                  'Factory Tours','Historic Walking Areas','Literary, Art & Music Tours','Mysterious Sites',\\\n",
    "                   'Ancient Ruins',\\\n",
    "                  ]"
   ]
  },
  {
   "cell_type": "markdown",
   "id": "99f28d08",
   "metadata": {},
   "source": [
    "## Adding more columns to genre to make it easier for recommendation \n",
    "\n",
    "Columns to add :<b> History,Art and Architecture,Religious,Nature,Adventure,Entertainment,Food,Health and Lifesyle,Industries</b>\n",
    "\n",
    "Columns will be given value for each record as per the description in the original 'genre' column"
   ]
  },
  {
   "cell_type": "code",
   "execution_count": 350,
   "id": "84d84c23",
   "metadata": {},
   "outputs": [],
   "source": [
    "def assign_history_col(dataset):\n",
    "    '''assigns history column'''\n",
    "    history_arr=[]\n",
    "    #iterate through every row of dataset \n",
    "    for each_list in dataset['genre']:\n",
    "        for item in each_list:\n",
    "            #history column\n",
    "            if(any(check_item.lower() == item.lower() for check_item in history_checklist)):\n",
    "                history_arr.append(True)\n",
    "                break\n",
    "            else:\n",
    "                history_arr.append(False)\n",
    "                break\n",
    "    return history_arr"
   ]
  },
  {
   "cell_type": "code",
   "execution_count": 351,
   "id": "1656afb5",
   "metadata": {},
   "outputs": [],
   "source": [
    "history_arr=assign_history_column(dataset)\n",
    "dataset['history']=history_arr"
   ]
  },
  {
   "cell_type": "code",
   "execution_count": 352,
   "id": "72b5130d",
   "metadata": {},
   "outputs": [],
   "source": [
    "def assign_art_and_architecture_col(dataset):\n",
    "    '''assigns art_and_architecture column'''    \n",
    "    art_and_architecture_arr=[]\n",
    "    #iterate through every row of dataset \n",
    "    for each_list in dataset['genre']:\n",
    "        for item in each_list:\n",
    "            if(any(check_item.lower() == item.lower() for check_item in art_and_architecture_checklist)):\n",
    "                art_and_architecture_arr.append(True)\n",
    "                break\n",
    "            else:\n",
    "                art_and_architecture_arr.append(False)\n",
    "                break\n",
    "    return art_and_architecture_arr"
   ]
  },
  {
   "cell_type": "code",
   "execution_count": 353,
   "id": "789e46b1",
   "metadata": {},
   "outputs": [],
   "source": [
    "art_and_architecture_arr=assign_art_and_architecture_col(dataset)\n",
    "dataset['art_and_architecture']=art_and_architecture_arr"
   ]
  },
  {
   "cell_type": "code",
   "execution_count": 354,
   "id": "69beee1d",
   "metadata": {},
   "outputs": [],
   "source": [
    "def assign_nature_col(dataset):\n",
    "    '''assigns nature column'''\n",
    "    nature_arr=[]\n",
    "    #iterate through every row of dataset \n",
    "    for each_list in dataset['genre']:\n",
    "        for item in each_list:\n",
    "            if(any(check_item.lower() == item.lower() for check_item in nature_checklist)):\n",
    "                nature_arr.append(True)\n",
    "                break\n",
    "            else:\n",
    "                nature_arr.append(False)\n",
    "                break\n",
    "    return nature_arr"
   ]
  },
  {
   "cell_type": "code",
   "execution_count": 355,
   "id": "20138d03",
   "metadata": {},
   "outputs": [],
   "source": [
    "nature_arr=assign_nature_col(dataset)\n",
    "dataset['nature']=nature_arr"
   ]
  },
  {
   "cell_type": "code",
   "execution_count": 356,
   "id": "de41a6af",
   "metadata": {},
   "outputs": [],
   "source": [
    "def assign_adventure_col(dataset):\n",
    "    '''assigns adventure column'''\n",
    "    adventure_arr=[]\n",
    "    #iterate through every row of dataset \n",
    "    for each_list in dataset['genre']:\n",
    "        for item in each_list:\n",
    "            if(any(check_item.lower() == item.lower() for check_item in adventure_checklist)):\n",
    "                adventure_arr.append(True)\n",
    "                break\n",
    "            else:\n",
    "                adventure_arr.append(False)\n",
    "                break\n",
    "    return adventure_arr"
   ]
  },
  {
   "cell_type": "code",
   "execution_count": 357,
   "id": "95f5124e",
   "metadata": {},
   "outputs": [],
   "source": [
    "adventure_arr=assign_adventure_col(dataset)\n",
    "dataset['adventure']=adventure_arr"
   ]
  },
  {
   "cell_type": "code",
   "execution_count": 358,
   "id": "9f18eb90",
   "metadata": {},
   "outputs": [],
   "source": [
    "def assign_entertainment_col(dataset):\n",
    "    '''assigns entertainment column'''\n",
    "    entertainment_arr=[]\n",
    "    #iterate through every row of dataset \n",
    "    for each_list in dataset['genre']:\n",
    "        for item in each_list:\n",
    "            if(any(check_item.lower() == item.lower() for check_item in entertainment_checklist)):\n",
    "                entertainment_arr.append(True)\n",
    "                break\n",
    "            else:\n",
    "                entertainment_arr.append(False)\n",
    "                break\n",
    "    return entertainment_arr"
   ]
  },
  {
   "cell_type": "code",
   "execution_count": 359,
   "id": "61c41f8a",
   "metadata": {},
   "outputs": [],
   "source": [
    "entertainment_arr=assign_entertainment_col(dataset)\n",
    "dataset['entertainment']=entertainment_arr"
   ]
  },
  {
   "cell_type": "code",
   "execution_count": 360,
   "id": "bbd97030",
   "metadata": {},
   "outputs": [],
   "source": [
    "def assign_health_and_lifestyle_col(dataset):\n",
    "    '''assigns health_and_lifestyle column'''\n",
    "    health_and_lifestyle_arr=[]\n",
    "    #iterate through every row of dataset \n",
    "    for each_list in dataset['genre']:\n",
    "        for item in each_list:\n",
    "            if(any(check_item.lower() == item.lower() for check_item in health_and_lifestyle_checklist)):\n",
    "                health_and_lifestyle_arr.append(True)\n",
    "                break\n",
    "            else:\n",
    "                health_and_lifestyle_arr.append(False)\n",
    "                break\n",
    "    return health_and_lifestyle_arr"
   ]
  },
  {
   "cell_type": "code",
   "execution_count": 361,
   "id": "92317961",
   "metadata": {},
   "outputs": [],
   "source": [
    "health_and_lifestyle_arr=assign_health_and_lifestyle_col(dataset)\n",
    "dataset['health_and_lifestyle']=health_and_lifestyle_arr"
   ]
  },
  {
   "cell_type": "code",
   "execution_count": 362,
   "id": "7322cf79",
   "metadata": {},
   "outputs": [],
   "source": [
    "def assign_food_col(dataset):\n",
    "    '''assigns food column'''\n",
    "    food_arr=[]\n",
    "    #iterate through every row of dataset \n",
    "    for each_list in dataset['genre']:\n",
    "        for item in each_list:\n",
    "            if(any(check_item.lower() == item.lower() for check_item in food_checklist)):\n",
    "                food_arr.append(True)\n",
    "                break\n",
    "            else:\n",
    "                food_arr.append(False)\n",
    "                break\n",
    "    return food_arr"
   ]
  },
  {
   "cell_type": "code",
   "execution_count": 363,
   "id": "ce4f8b7b",
   "metadata": {},
   "outputs": [],
   "source": [
    "food_arr=assign_food_col(dataset)\n",
    "dataset['food']=food_arr"
   ]
  },
  {
   "cell_type": "code",
   "execution_count": 364,
   "id": "be33fd5c",
   "metadata": {},
   "outputs": [],
   "source": [
    "def assign_industries_col(dataset):\n",
    "    '''assigns industries column'''\n",
    "    industries_arr=[]\n",
    "    #iterate through every row of dataset \n",
    "    for each_list in dataset['genre']:\n",
    "        for item in each_list:\n",
    "            if(any(check_item.lower() == item.lower() for check_item in industries_checklist)):\n",
    "                industries_arr.append(True)\n",
    "                break\n",
    "            else:\n",
    "                industries_arr.append(False)\n",
    "                break\n",
    "    return industries_arr"
   ]
  },
  {
   "cell_type": "code",
   "execution_count": 365,
   "id": "879f085d",
   "metadata": {},
   "outputs": [],
   "source": [
    "industries_arr=assign_industries_col(dataset)\n",
    "dataset['industries']=industries_arr"
   ]
  },
  {
   "cell_type": "code",
   "execution_count": 366,
   "id": "c880831e",
   "metadata": {},
   "outputs": [],
   "source": [
    "dataset['avg_rating'].min()def assign_religious_col(dataset):\n",
    "    '''assigns religious column'''\n",
    "    religious_arr=[]\n",
    "    #iterate through every row of dataset \n",
    "    for each_list in dataset['genre']:\n",
    "        for item in each_list:\n",
    "            if(any(check_item.lower() == item.lower() for check_item in religious_checklist)):\n",
    "                religious_arr.append(True)\n",
    "                break\n",
    "            else:\n",
    "                religious_arr.append(False)\n",
    "                break\n",
    "    return religious_arr"
   ]
  },
  {
   "cell_type": "code",
   "execution_count": 367,
   "id": "62f08ed9",
   "metadata": {},
   "outputs": [
    {
     "name": "stdout",
     "output_type": "stream",
     "text": [
      "                   title  avg_rating  voted_by              genre  history  \\\n",
      "0       Boudhanath Stupa         4.5      8897  [Religious Sites]     True   \n",
      "1  Phewa Tal (Fewa Lake)         4.5      2988  [Bodies of Water]    False   \n",
      "2              Sarangkot         4.5      2199        [Mountains]    False   \n",
      "3   Swayambhunath Temple         4.5      6203  [Religious Sites]     True   \n",
      "4              Poon Hill         4.5      1477        [Mountains]    False   \n",
      "\n",
      "   art_and_architecture  nature  adventure  entertainment  \\\n",
      "0                  True   False      False          False   \n",
      "1                 False    True      False          False   \n",
      "2                 False    True      False          False   \n",
      "3                  True   False      False          False   \n",
      "4                 False    True      False          False   \n",
      "\n",
      "   health_and_lifestyle   food  industries  religious  \n",
      "0                 False  False       False       True  \n",
      "1                 False  False       False      False  \n",
      "2                 False  False       False      False  \n",
      "3                 False  False       False       True  \n",
      "4                 False  False       False      False  \n"
     ]
    }
   ],
   "source": [
    "religious_arr=assign_religious_col(dataset)\n",
    "dataset['religious']=religious_arr\n",
    "print(dataset.head())"
   ]
  },
  {
   "cell_type": "code",
   "execution_count": 368,
   "id": "aa0654ee",
   "metadata": {},
   "outputs": [
    {
     "name": "stdout",
     "output_type": "stream",
     "text": [
      "(3313, 13)\n",
      "                                    title  avg_rating  voted_by  \\\n",
      "0                        Boudhanath Stupa    4.500000      8897   \n",
      "1                   Phewa Tal (Fewa Lake)    4.500000      2988   \n",
      "2                               Sarangkot    4.500000      2199   \n",
      "3                    Swayambhunath Temple    4.500000      6203   \n",
      "4                               Poon Hill    4.500000      1477   \n",
      "...                                   ...         ...       ...   \n",
      "3308  SITA (Travel Corporation India Ltd)    4.771906         0   \n",
      "3309                       Himalayan Hike    4.771906         0   \n",
      "3310                               Harilo    4.771906         0   \n",
      "3311                           Heli Sight    4.771906         0   \n",
      "3312                            River Fun    4.771906         0   \n",
      "\n",
      "                                             genre  history  \\\n",
      "0                                [Religious Sites]     True   \n",
      "1                                [Bodies of Water]    False   \n",
      "2                                      [Mountains]    False   \n",
      "3                                [Religious Sites]     True   \n",
      "4                                      [Mountains]    False   \n",
      "...                                            ...      ...   \n",
      "3308              [Multi-day Tours, Balloon Rides]     True   \n",
      "3309                 [City Tours, Multi-day Tours]     True   \n",
      "3310                             [Farmers Markets]    False   \n",
      "3311  [Parasailing & Paragliding, Multi-day Tours]    False   \n",
      "3312    [River Rafting & Tubing, Taxis & Shuttles]    False   \n",
      "\n",
      "      art_and_architecture  nature  adventure  entertainment  \\\n",
      "0                     True   False      False          False   \n",
      "1                    False    True      False          False   \n",
      "2                    False    True      False          False   \n",
      "3                     True   False      False          False   \n",
      "4                    False    True      False          False   \n",
      "...                    ...     ...        ...            ...   \n",
      "3308                 False   False      False          False   \n",
      "3309                  True   False      False           True   \n",
      "3310                 False   False      False           True   \n",
      "3311                 False   False       True          False   \n",
      "3312                 False   False       True          False   \n",
      "\n",
      "      health_and_lifestyle   food  industries  religious  \n",
      "0                    False  False       False       True  \n",
      "1                    False  False       False      False  \n",
      "2                    False  False       False      False  \n",
      "3                    False  False       False       True  \n",
      "4                    False  False       False      False  \n",
      "...                    ...    ...         ...        ...  \n",
      "3308                 False  False       False      False  \n",
      "3309                 False  False       False      False  \n",
      "3310                 False   True       False      False  \n",
      "3311                 False  False       False      False  \n",
      "3312                 False  False       False      False  \n",
      "\n",
      "[3313 rows x 13 columns]\n"
     ]
    }
   ],
   "source": [
    "#shape of datashape after updating the additional columns\n",
    "print(dataset.shape)\n",
    "print(dataset)"
   ]
  },
  {
   "cell_type": "code",
   "execution_count": 369,
   "id": "4806fcf5",
   "metadata": {},
   "outputs": [],
   "source": [
    "dataset.to_csv('attractions_of_nepal_updated_columns.csv',index=None)"
   ]
  },
  {
   "cell_type": "markdown",
   "id": "8edacfe1",
   "metadata": {},
   "source": [
    "## Exploring and visualizing the newly prepared dataset "
   ]
  },
  {
   "cell_type": "code",
   "execution_count": 385,
   "id": "d5a19d7b",
   "metadata": {},
   "outputs": [
    {
     "data": {
      "text/plain": [
       "Text(0.5, 1.0, 'Histogram of the average ratings of the destinations of Nepal')"
      ]
     },
     "execution_count": 385,
     "metadata": {},
     "output_type": "execute_result"
    },
    {
     "data": {
      "image/png": "[encoded data removed]",
      "text/plain": [
       "<Figure size 432x288 with 1 Axes>"
      ]
     },
     "metadata": {
      "needs_background": "light"
     },
     "output_type": "display_data"
    }
   ],
   "source": [
    "from matplotlib import pyplot as plt \n",
    "%matplotlib inline\n",
    "plt.figure()\n",
    "plt.hist(dataset['avg_rating'],color='g',alpha=.7,edgecolor='black',linewidth=1.2)\n",
    "plt.xlim(dataset['avg_rating'].min(),dataset['avg_rating'].max())\n",
    "plt.xlabel(\"Average ratings of the destinations in Nepal\")\n",
    "plt.title('Histogram of the average ratings of the destinations of Nepal')"
   ]
  },
  {
   "cell_type": "markdown",
   "id": "d4a67274",
   "metadata": {},
   "source": [
    "### Relationship between the number of voters and the avg_rating"
   ]
  },
  {
   "cell_type": "code",
   "execution_count": 384,
   "id": "a37ff74c",
   "metadata": {},
   "outputs": [
    {
     "data": {
      "text/plain": [
       "Text(0.5, 1.0, 'Average ratings vs Number of Votes')"
      ]
     },
     "execution_count": 384,
     "metadata": {},
     "output_type": "execute_result"
    },
    {
     "data": {
      "image/png": "[encoded data removed]",
      "text/plain": [
       "<Figure size 432x288 with 1 Axes>"
      ]
     },
     "metadata": {
      "needs_background": "light"
     },
     "output_type": "display_data"
    }
   ],
   "source": [
    "#scatter plot \n",
    "%matplotlib inline \n",
    "#X axis: no. of votes i.e. dataset['voted_by']\n",
    "#Y axis: avg rating i.e. dataset['avg_rating']\n",
    "plt.plot(dataset['voted_by'],dataset['avg_rating'],'bo',linewidth=2, markersize=5)\n",
    "plt.xlim(dataset['voted_by'].min(),dataset['voted_by'].max())\n",
    "plt.xlabel('Number of votes')\n",
    "plt.ylabel('Average rating')\n",
    "plt.title('Average ratings vs Number of Votes')"
   ]
  },
  {
   "cell_type": "markdown",
   "id": "7d0dfe05",
   "metadata": {},
   "source": [
    "#### Evaluating ranking of religious sites in Nepal "
   ]
  },
  {
   "cell_type": "code",
   "execution_count": 394,
   "id": "cf095154",
   "metadata": {},
   "outputs": [
    {
     "name": "stdout",
     "output_type": "stream",
     "text": [
      "                                        title  avg_rating\n",
      "0                            Boudhanath Stupa    4.500000\n",
      "3                        Swayambhunath Temple    4.500000\n",
      "5                                Peace Temple    4.500000\n",
      "6                        Pashupatinath Temple    4.500000\n",
      "11    Golden Temple (Hiranya Varna Mahavihar)    4.500000\n",
      "...                                       ...         ...\n",
      "3294                     Bindhyabasini Temple    4.771906\n",
      "3296                           Resunga Temple    4.771906\n",
      "3297                       Resunga Yegyashala    4.771906\n",
      "3305                          Mahankal Temple    4.771906\n",
      "3306              Nagarkot Buddhist Monastery    4.771906\n",
      "\n",
      "[323 rows x 2 columns]\n"
     ]
    },
    {
     "data": {
      "text/plain": [
       "Text(0.5, 1.0, 'Histogram of the average ratings of the religious destinations of Nepal')"
      ]
     },
     "execution_count": 394,
     "metadata": {},
     "output_type": "execute_result"
    },
    {
     "data": {
      "image/png": "[encoded data removed]",
      "text/plain": [
       "<Figure size 432x288 with 1 Axes>"
      ]
     },
     "metadata": {
      "needs_background": "light"
     },
     "output_type": "display_data"
    }
   ],
   "source": [
    "religious_df=dataset[dataset['religious']==True]\n",
    "\n",
    "#printing religious destinations in Nepal with their rankings\n",
    "print(religious_df.iloc[:,[0,1]])\n",
    "\n",
    "%matplotlib inline\n",
    "plt.figure()\n",
    "plt.hist(religious_df['avg_rating'],color='r',alpha=.7,edgecolor='black',linewidth=1.2,bins=np.arange(0.5,5.5,0.5))\n",
    "plt.xlim(dataset['avg_rating'].min(),dataset['avg_rating'].max())\n",
    "plt.xlabel(\"Average ratings of the religious destinations in Nepal\")\n",
    "plt.title('Histogram of the average ratings of the religious destinations of Nepal')"
   ]
  },
  {
   "cell_type": "code",
   "execution_count": 396,
   "id": "e2f2e830",
   "metadata": {},
   "outputs": [
    {
     "data": {
      "text/plain": [
       "Text(0.5, 1.0, 'Pie chart to classify the destination sites of Nepal')"
      ]
     },
     "execution_count": 396,
     "metadata": {},
     "output_type": "execute_result"
    },
    {
     "data": {
      "image/png": "[encoded data removed]",
      "text/plain": [
       "<Figure size 432x288 with 1 Axes>"
      ]
     },
     "metadata": {},
     "output_type": "display_data"
    }
   ],
   "source": [
    "#count the no. of destinations by their type and present it in a pie chart \n",
    "historical_sites_no=dataset['history'].sum().sum()\n",
    "religious_sites_no=dataset['religious'].sum().sum()\n",
    "nature_sites_no=dataset['nature'].sum().sum()\n",
    "food_sites_no=dataset['food'].sum().sum()\n",
    "entertainment_sites_no=dataset['entertainment'].sum().sum()\n",
    "adventure_sites_no=dataset['adventure'].sum().sum()\n",
    "industries_sites_no=dataset['industries'].sum().sum()\n",
    "art_and_archi_sites_no=dataset['art_and_architecture'].sum().sum()\n",
    "health_and_lifestyle_sites_no=dataset['health_and_lifestyle'].sum().sum()\n",
    "\n",
    "no_by_sites=[historical_sites_no,religious_sites_no,nature_sites_no,food_sites_no,entertainment_sites_no,\\\n",
    "             adventure_sites_no,industries_sites_no,art_and_archi_sites_no,health_and_lifestyle_sites_no]\n",
    "\n",
    "#classes of sites\n",
    "classes=['Historical','Religious','Nature','Food','Entertainment','Adventure','Industries','Art and Architecture',\\\n",
    "         'Health and Lifestyle']\n",
    "plt.figure()\n",
    "plt.pie(no_by_sites, labels = classes)\n",
    "plt.title('Pie chart to classify the destination sites of Nepal')\n"
   ]
  },
  {
   "cell_type": "markdown",
   "id": "36fb5f70",
   "metadata": {},
   "source": [
    "### Add destination_id column to the dataset attractions_of_nepal_updated_columns.csv"
   ]
  },
  {
   "cell_type": "code",
   "execution_count": 12,
   "id": "3f5984a9",
   "metadata": {},
   "outputs": [],
   "source": [
    "#import dataset\n",
    "dataset=pd.read_csv('./Datasets/attractions_of_nepal_updated_columns.csv')"
   ]
  },
  {
   "cell_type": "code",
   "execution_count": 13,
   "id": "4e637448",
   "metadata": {},
   "outputs": [
    {
     "name": "stdout",
     "output_type": "stream",
     "text": [
      "                   title  avg_rating  voted_by                genre  history  \\\n",
      "0       Boudhanath Stupa         4.5      8897  ['Religious Sites']     True   \n",
      "1  Phewa Tal (Fewa Lake)         4.5      2988  ['Bodies of Water']    False   \n",
      "2              Sarangkot         4.5      2199        ['Mountains']    False   \n",
      "3   Swayambhunath Temple         4.5      6203  ['Religious Sites']     True   \n",
      "4              Poon Hill         4.5      1477        ['Mountains']    False   \n",
      "\n",
      "   art_and_architecture  nature  adventure  entertainment  \\\n",
      "0                  True   False      False          False   \n",
      "1                 False    True      False          False   \n",
      "2                 False    True      False          False   \n",
      "3                  True   False      False          False   \n",
      "4                 False    True      False          False   \n",
      "\n",
      "   health_and_lifestyle   food  industries  religious  \n",
      "0                 False  False       False       True  \n",
      "1                 False  False       False      False  \n",
      "2                 False  False       False      False  \n",
      "3                 False  False       False       True  \n",
      "4                 False  False       False      False  \n"
     ]
    }
   ],
   "source": [
    "print(dataset.head())"
   ]
  },
  {
   "cell_type": "code",
   "execution_count": 14,
   "id": "7641ad09",
   "metadata": {},
   "outputs": [],
   "source": [
    "dataset.insert(0, 'destination_id', dataset.index)"
   ]
  },
  {
   "cell_type": "code",
   "execution_count": 15,
   "id": "74f3b997",
   "metadata": {},
   "outputs": [
    {
     "data": {
      "text/html": [
       "<div>\n",
       "<style scoped>\n",
       "    .dataframe tbody tr th:only-of-type {\n",
       "        vertical-align: middle;\n",
       "    }\n",
       "\n",
       "    .dataframe tbody tr th {\n",
       "        vertical-align: top;\n",
       "    }\n",
       "\n",
       "    .dataframe thead th {\n",
       "        text-align: right;\n",
       "    }\n",
       "</style>\n",
       "<table border=\"1\" class=\"dataframe\">\n",
       "  <thead>\n",
       "    <tr style=\"text-align: right;\">\n",
       "      <th></th>\n",
       "      <th>destination_id</th>\n",
       "      <th>title</th>\n",
       "      <th>avg_rating</th>\n",
       "      <th>voted_by</th>\n",
       "      <th>genre</th>\n",
       "      <th>history</th>\n",
       "      <th>art_and_architecture</th>\n",
       "      <th>nature</th>\n",
       "      <th>adventure</th>\n",
       "      <th>entertainment</th>\n",
       "      <th>health_and_lifestyle</th>\n",
       "      <th>food</th>\n",
       "      <th>industries</th>\n",
       "      <th>religious</th>\n",
       "    </tr>\n",
       "  </thead>\n",
       "  <tbody>\n",
       "    <tr>\n",
       "      <th>0</th>\n",
       "      <td>0</td>\n",
       "      <td>Boudhanath Stupa</td>\n",
       "      <td>4.500000</td>\n",
       "      <td>8897</td>\n",
       "      <td>['Religious Sites']</td>\n",
       "      <td>True</td>\n",
       "      <td>True</td>\n",
       "      <td>False</td>\n",
       "      <td>False</td>\n",
       "      <td>False</td>\n",
       "      <td>False</td>\n",
       "      <td>False</td>\n",
       "      <td>False</td>\n",
       "      <td>True</td>\n",
       "    </tr>\n",
       "    <tr>\n",
       "      <th>1</th>\n",
       "      <td>1</td>\n",
       "      <td>Phewa Tal (Fewa Lake)</td>\n",
       "      <td>4.500000</td>\n",
       "      <td>2988</td>\n",
       "      <td>['Bodies of Water']</td>\n",
       "      <td>False</td>\n",
       "      <td>False</td>\n",
       "      <td>True</td>\n",
       "      <td>False</td>\n",
       "      <td>False</td>\n",
       "      <td>False</td>\n",
       "      <td>False</td>\n",
       "      <td>False</td>\n",
       "      <td>False</td>\n",
       "    </tr>\n",
       "    <tr>\n",
       "      <th>2</th>\n",
       "      <td>2</td>\n",
       "      <td>Sarangkot</td>\n",
       "      <td>4.500000</td>\n",
       "      <td>2199</td>\n",
       "      <td>['Mountains']</td>\n",
       "      <td>False</td>\n",
       "      <td>False</td>\n",
       "      <td>True</td>\n",
       "      <td>False</td>\n",
       "      <td>False</td>\n",
       "      <td>False</td>\n",
       "      <td>False</td>\n",
       "      <td>False</td>\n",
       "      <td>False</td>\n",
       "    </tr>\n",
       "    <tr>\n",
       "      <th>3</th>\n",
       "      <td>3</td>\n",
       "      <td>Swayambhunath Temple</td>\n",
       "      <td>4.500000</td>\n",
       "      <td>6203</td>\n",
       "      <td>['Religious Sites']</td>\n",
       "      <td>True</td>\n",
       "      <td>True</td>\n",
       "      <td>False</td>\n",
       "      <td>False</td>\n",
       "      <td>False</td>\n",
       "      <td>False</td>\n",
       "      <td>False</td>\n",
       "      <td>False</td>\n",
       "      <td>True</td>\n",
       "    </tr>\n",
       "    <tr>\n",
       "      <th>4</th>\n",
       "      <td>4</td>\n",
       "      <td>Poon Hill</td>\n",
       "      <td>4.500000</td>\n",
       "      <td>1477</td>\n",
       "      <td>['Mountains']</td>\n",
       "      <td>False</td>\n",
       "      <td>False</td>\n",
       "      <td>True</td>\n",
       "      <td>False</td>\n",
       "      <td>False</td>\n",
       "      <td>False</td>\n",
       "      <td>False</td>\n",
       "      <td>False</td>\n",
       "      <td>False</td>\n",
       "    </tr>\n",
       "    <tr>\n",
       "      <th>...</th>\n",
       "      <td>...</td>\n",
       "      <td>...</td>\n",
       "      <td>...</td>\n",
       "      <td>...</td>\n",
       "      <td>...</td>\n",
       "      <td>...</td>\n",
       "      <td>...</td>\n",
       "      <td>...</td>\n",
       "      <td>...</td>\n",
       "      <td>...</td>\n",
       "      <td>...</td>\n",
       "      <td>...</td>\n",
       "      <td>...</td>\n",
       "      <td>...</td>\n",
       "    </tr>\n",
       "    <tr>\n",
       "      <th>3308</th>\n",
       "      <td>3308</td>\n",
       "      <td>SITA (Travel Corporation India Ltd)</td>\n",
       "      <td>4.771906</td>\n",
       "      <td>0</td>\n",
       "      <td>['Multi-day Tours', 'Balloon Rides']</td>\n",
       "      <td>True</td>\n",
       "      <td>False</td>\n",
       "      <td>False</td>\n",
       "      <td>False</td>\n",
       "      <td>False</td>\n",
       "      <td>False</td>\n",
       "      <td>False</td>\n",
       "      <td>False</td>\n",
       "      <td>False</td>\n",
       "    </tr>\n",
       "    <tr>\n",
       "      <th>3309</th>\n",
       "      <td>3309</td>\n",
       "      <td>Himalayan Hike</td>\n",
       "      <td>4.771906</td>\n",
       "      <td>0</td>\n",
       "      <td>['City Tours', 'Multi-day Tours']</td>\n",
       "      <td>True</td>\n",
       "      <td>True</td>\n",
       "      <td>False</td>\n",
       "      <td>False</td>\n",
       "      <td>True</td>\n",
       "      <td>False</td>\n",
       "      <td>False</td>\n",
       "      <td>False</td>\n",
       "      <td>False</td>\n",
       "    </tr>\n",
       "    <tr>\n",
       "      <th>3310</th>\n",
       "      <td>3310</td>\n",
       "      <td>Harilo</td>\n",
       "      <td>4.771906</td>\n",
       "      <td>0</td>\n",
       "      <td>['Farmers Markets']</td>\n",
       "      <td>False</td>\n",
       "      <td>False</td>\n",
       "      <td>False</td>\n",
       "      <td>False</td>\n",
       "      <td>True</td>\n",
       "      <td>False</td>\n",
       "      <td>True</td>\n",
       "      <td>False</td>\n",
       "      <td>False</td>\n",
       "    </tr>\n",
       "    <tr>\n",
       "      <th>3311</th>\n",
       "      <td>3311</td>\n",
       "      <td>Heli Sight</td>\n",
       "      <td>4.771906</td>\n",
       "      <td>0</td>\n",
       "      <td>['Parasailing &amp; Paragliding', 'Multi-day Tours']</td>\n",
       "      <td>False</td>\n",
       "      <td>False</td>\n",
       "      <td>False</td>\n",
       "      <td>True</td>\n",
       "      <td>False</td>\n",
       "      <td>False</td>\n",
       "      <td>False</td>\n",
       "      <td>False</td>\n",
       "      <td>False</td>\n",
       "    </tr>\n",
       "    <tr>\n",
       "      <th>3312</th>\n",
       "      <td>3312</td>\n",
       "      <td>River Fun</td>\n",
       "      <td>4.771906</td>\n",
       "      <td>0</td>\n",
       "      <td>['River Rafting &amp; Tubing', 'Taxis &amp; Shuttles']</td>\n",
       "      <td>False</td>\n",
       "      <td>False</td>\n",
       "      <td>False</td>\n",
       "      <td>True</td>\n",
       "      <td>False</td>\n",
       "      <td>False</td>\n",
       "      <td>False</td>\n",
       "      <td>False</td>\n",
       "      <td>False</td>\n",
       "    </tr>\n",
       "  </tbody>\n",
       "</table>\n",
       "<p>3313 rows × 14 columns</p>\n",
       "</div>"
      ],
      "text/plain": [
       "      destination_id                                title  avg_rating  \\\n",
       "0                  0                     Boudhanath Stupa    4.500000   \n",
       "1                  1                Phewa Tal (Fewa Lake)    4.500000   \n",
       "2                  2                            Sarangkot    4.500000   \n",
       "3                  3                 Swayambhunath Temple    4.500000   \n",
       "4                  4                            Poon Hill    4.500000   \n",
       "...              ...                                  ...         ...   \n",
       "3308            3308  SITA (Travel Corporation India Ltd)    4.771906   \n",
       "3309            3309                       Himalayan Hike    4.771906   \n",
       "3310            3310                               Harilo    4.771906   \n",
       "3311            3311                           Heli Sight    4.771906   \n",
       "3312            3312                            River Fun    4.771906   \n",
       "\n",
       "      voted_by                                             genre  history  \\\n",
       "0         8897                               ['Religious Sites']     True   \n",
       "1         2988                               ['Bodies of Water']    False   \n",
       "2         2199                                     ['Mountains']    False   \n",
       "3         6203                               ['Religious Sites']     True   \n",
       "4         1477                                     ['Mountains']    False   \n",
       "...        ...                                               ...      ...   \n",
       "3308         0              ['Multi-day Tours', 'Balloon Rides']     True   \n",
       "3309         0                 ['City Tours', 'Multi-day Tours']     True   \n",
       "3310         0                               ['Farmers Markets']    False   \n",
       "3311         0  ['Parasailing & Paragliding', 'Multi-day Tours']    False   \n",
       "3312         0    ['River Rafting & Tubing', 'Taxis & Shuttles']    False   \n",
       "\n",
       "      art_and_architecture  nature  adventure  entertainment  \\\n",
       "0                     True   False      False          False   \n",
       "1                    False    True      False          False   \n",
       "2                    False    True      False          False   \n",
       "3                     True   False      False          False   \n",
       "4                    False    True      False          False   \n",
       "...                    ...     ...        ...            ...   \n",
       "3308                 False   False      False          False   \n",
       "3309                  True   False      False           True   \n",
       "3310                 False   False      False           True   \n",
       "3311                 False   False       True          False   \n",
       "3312                 False   False       True          False   \n",
       "\n",
       "      health_and_lifestyle   food  industries  religious  \n",
       "0                    False  False       False       True  \n",
       "1                    False  False       False      False  \n",
       "2                    False  False       False      False  \n",
       "3                    False  False       False       True  \n",
       "4                    False  False       False      False  \n",
       "...                    ...    ...         ...        ...  \n",
       "3308                 False  False       False      False  \n",
       "3309                 False  False       False      False  \n",
       "3310                 False   True       False      False  \n",
       "3311                 False  False       False      False  \n",
       "3312                 False  False       False      False  \n",
       "\n",
       "[3313 rows x 14 columns]"
      ]
     },
     "execution_count": 15,
     "metadata": {},
     "output_type": "execute_result"
    }
   ],
   "source": [
    "dataset"
   ]
  },
  {
   "cell_type": "code",
   "execution_count": 16,
   "id": "6f9515ab",
   "metadata": {},
   "outputs": [],
   "source": [
    "dataset.to_csv('attractions_of_nepal_with_ID.csv',index=None)"
   ]
  },
  {
   "cell_type": "code",
   "execution_count": null,
   "id": "d4d6df66",
   "metadata": {},
   "outputs": [],
   "source": []
  }
 ],
 "metadata": {
  "kernelspec": {
   "display_name": "Python 3 (ipykernel)",
   "language": "python",
   "name": "python3"
  },
  "language_info": {
   "codemirror_mode": {
    "name": "ipython",
    "version": 3
   },
   "file_extension": ".py",
   "mimetype": "text/x-python",
   "name": "python",
   "nbconvert_exporter": "python",
   "pygments_lexer": "ipython3",
   "version": "3.9.7"
  }
 },
 "nbformat": 4,
 "nbformat_minor": 5
}
