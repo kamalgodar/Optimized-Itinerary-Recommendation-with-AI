{
 "cells": [
  {
   "cell_type": "code",
   "execution_count": 72,
   "id": "d6abd4b0",
   "metadata": {},
   "outputs": [],
   "source": [
    "import pandas as pd\n",
    "import numpy as np"
   ]
  },
  {
   "cell_type": "code",
   "execution_count": 76,
   "id": "98774b96",
   "metadata": {},
   "outputs": [
    {
     "name": "stdout",
     "output_type": "stream",
     "text": [
      "   dest_id                 title                                   genre  \\\n",
      "0        1      Boudhanath Stupa  history:art_and_architecture:religious   \n",
      "1        2  Swayambhunath Temple  history:art_and_architecture:religious   \n",
      "2        3  Pashupatinath Temple  history:art_and_architecture:religious   \n",
      "3        4     Chandragiri Hills                                  nature   \n",
      "4        5       Kopan Monastery  history:art_and_architecture:religious   \n",
      "\n",
      "     latitude  longitude  \n",
      "0  27.7215062  85.359809  \n",
      "1  27.7149298  85.288146  \n",
      "2  27.7104461  85.346503  \n",
      "3  27.6710496  85.262664  \n",
      "4  27.7425438  85.362208  \n",
      "(2345, 5)\n"
     ]
    }
   ],
   "source": [
    "dataset=pd.read_csv(\"../Datasets/ktm_dataset_updated_genre_column.csv\")\n",
    "print(dataset.head())\n",
    "print(dataset.shape)"
   ]
  },
  {
   "cell_type": "code",
   "execution_count": 77,
   "id": "d7ce1d34",
   "metadata": {},
   "outputs": [
    {
     "name": "stdout",
     "output_type": "stream",
     "text": [
      "      dest_id                                title  \\\n",
      "0           1                     Boudhanath Stupa   \n",
      "1           2                 Swayambhunath Temple   \n",
      "2           3                 Pashupatinath Temple   \n",
      "3           4                    Chandragiri Hills   \n",
      "4           5                      Kopan Monastery   \n",
      "...       ...                                  ...   \n",
      "2340     2341         Zeal Nepal Trek & Expedition   \n",
      "2341     2342                        Mohit Sunuwar   \n",
      "2342     2343  SITA (Travel Corporation India Ltd)   \n",
      "2343     2344                       Himalayan Hike   \n",
      "2344     2345                            River Fun   \n",
      "\n",
      "                                           genre    latitude  longitude  \n",
      "0         history:art_and_architecture:religious  27.7215062  85.359809  \n",
      "1         history:art_and_architecture:religious  27.7149298  85.288146  \n",
      "2         history:art_and_architecture:religious  27.7104461  85.346503  \n",
      "3                                         nature  27.6710496  85.262664  \n",
      "4         history:art_and_architecture:religious  27.7425438  85.362208  \n",
      "...                                          ...         ...        ...  \n",
      "2340                                     history         NaN        NaN  \n",
      "2341                                   adventure         NaN        NaN  \n",
      "2342                                     history         NaN        NaN  \n",
      "2343  history:art_and_architecture:entertainment         NaN        NaN  \n",
      "2344              nature:adventure:entertainment         NaN        NaN  \n",
      "\n",
      "[2345 rows x 5 columns]\n"
     ]
    }
   ],
   "source": [
    "print(dataset)"
   ]
  },
  {
   "cell_type": "code",
   "execution_count": 78,
   "id": "df65ac7c",
   "metadata": {},
   "outputs": [],
   "source": [
    "# assign IDs to the places\n",
    "id_list=list(range(1,len(dataset)+1))\n",
    "dataset['dest_id']=id_list"
   ]
  },
  {
   "cell_type": "code",
   "execution_count": 79,
   "id": "9bb71961",
   "metadata": {},
   "outputs": [
    {
     "name": "stdout",
     "output_type": "stream",
     "text": [
      "      dest_id                                title  \\\n",
      "0           1                     Boudhanath Stupa   \n",
      "1           2                 Swayambhunath Temple   \n",
      "2           3                 Pashupatinath Temple   \n",
      "3           4                    Chandragiri Hills   \n",
      "4           5                      Kopan Monastery   \n",
      "...       ...                                  ...   \n",
      "2340     2341         Zeal Nepal Trek & Expedition   \n",
      "2341     2342                        Mohit Sunuwar   \n",
      "2342     2343  SITA (Travel Corporation India Ltd)   \n",
      "2343     2344                       Himalayan Hike   \n",
      "2344     2345                            River Fun   \n",
      "\n",
      "                                           genre    latitude  longitude  \n",
      "0         history:art_and_architecture:religious  27.7215062  85.359809  \n",
      "1         history:art_and_architecture:religious  27.7149298  85.288146  \n",
      "2         history:art_and_architecture:religious  27.7104461  85.346503  \n",
      "3                                         nature  27.6710496  85.262664  \n",
      "4         history:art_and_architecture:religious  27.7425438  85.362208  \n",
      "...                                          ...         ...        ...  \n",
      "2340                                     history         NaN        NaN  \n",
      "2341                                   adventure         NaN        NaN  \n",
      "2342                                     history         NaN        NaN  \n",
      "2343  history:art_and_architecture:entertainment         NaN        NaN  \n",
      "2344              nature:adventure:entertainment         NaN        NaN  \n",
      "\n",
      "[2345 rows x 5 columns]\n"
     ]
    }
   ],
   "source": [
    "print(dataset)"
   ]
  },
  {
   "cell_type": "code",
   "execution_count": 81,
   "id": "58f36f77",
   "metadata": {},
   "outputs": [
    {
     "name": "stdout",
     "output_type": "stream",
     "text": [
      "      dest_id                                title avg_rating  voted_by  \\\n",
      "0           1                     Boudhanath Stupa        4.5      8897   \n",
      "1           2                 Swayambhunath Temple        4.5      6203   \n",
      "2           3                 Pashupatinath Temple        4.5      4937   \n",
      "3           4                    Chandragiri Hills        4.5       399   \n",
      "4           5                      Kopan Monastery        4.5       787   \n",
      "...       ...                                  ...        ...       ...   \n",
      "2340     2341         Zeal Nepal Trek & Expedition          N         0   \n",
      "2341     2342                        Mohit Sunuwar          N         0   \n",
      "2342     2343  SITA (Travel Corporation India Ltd)          N         0   \n",
      "2343     2344                       Himalayan Hike          N         0   \n",
      "2344     2345                            River Fun          N         0   \n",
      "\n",
      "                                           genre    latitude  longitude  \\\n",
      "0         history:art_and_architecture:religious  27.7215062  85.359809   \n",
      "1         history:art_and_architecture:religious  27.7149298  85.288146   \n",
      "2         history:art_and_architecture:religious  27.7104461  85.346503   \n",
      "3                                         nature  27.6710496  85.262664   \n",
      "4         history:art_and_architecture:religious  27.7425438  85.362208   \n",
      "...                                          ...         ...        ...   \n",
      "2340                                     history         NaN        NaN   \n",
      "2341                                   adventure         NaN        NaN   \n",
      "2342                                     history         NaN        NaN   \n",
      "2343  history:art_and_architecture:entertainment         NaN        NaN   \n",
      "2344              nature:adventure:entertainment         NaN        NaN   \n",
      "\n",
      "                                                img_url  \n",
      "0     data:image/jpeg;base64,/9j/4AAQSkZJRgABAQAAAQA...  \n",
      "1     data:image/jpeg;base64,/9j/4AAQSkZJRgABAQAAAQA...  \n",
      "2     data:image/jpeg;base64,/9j/4AAQSkZJRgABAQAAAQA...  \n",
      "3     data:image/jpeg;base64,/9j/4AAQSkZJRgABAQAAAQA...  \n",
      "4     data:image/jpeg;base64,/9j/4AAQSkZJRgABAQAAAQA...  \n",
      "...                                                 ...  \n",
      "2340                                                NaN  \n",
      "2341                                                NaN  \n",
      "2342                                                NaN  \n",
      "2343                                                NaN  \n",
      "2344                                                NaN  \n",
      "\n",
      "[2345 rows x 8 columns]\n"
     ]
    }
   ],
   "source": [
    "dataset_to_be_merged=pd.read_csv(\"../Datasets/final-ish_destinations_of_ktm.csv\")\n",
    "print(dataset_to_be_merged)"
   ]
  },
  {
   "cell_type": "code",
   "execution_count": 82,
   "id": "27f96d1d",
   "metadata": {},
   "outputs": [],
   "source": [
    "dataset_to_be_merged['genre']=dataset['genre']"
   ]
  },
  {
   "cell_type": "code",
   "execution_count": 83,
   "id": "a01a658c",
   "metadata": {},
   "outputs": [],
   "source": [
    "dataset_to_be_merged=dataset_to_be_merged[['dest_id','title','avg_rating','voted_by','genre','latitude','longitude']]"
   ]
  },
  {
   "cell_type": "code",
   "execution_count": 84,
   "id": "5fdb571c",
   "metadata": {},
   "outputs": [
    {
     "name": "stdout",
     "output_type": "stream",
     "text": [
      "     dest_id                                title avg_rating  voted_by  \\\n",
      "0          1                     Boudhanath Stupa        4.5      8897   \n",
      "1          2                 Swayambhunath Temple        4.5      6203   \n",
      "2          3                 Pashupatinath Temple        4.5      4937   \n",
      "3          4                    Chandragiri Hills        4.5       399   \n",
      "4          5                      Kopan Monastery        4.5       787   \n",
      "..       ...                                  ...        ...       ...   \n",
      "195      196              Travel Maker South Asia          5       225   \n",
      "196      197  Nepal Alibaba Treks & Tours Pvt Ltd          5       105   \n",
      "197      198                  Alpine Ramble Treks          5       240   \n",
      "198      199      Info Nepal Treks and Expedition          5       206   \n",
      "199      200          Epic Adventures - Day Tours          5       259   \n",
      "\n",
      "                                          genre    latitude  longitude  \n",
      "0        history:art_and_architecture:religious  27.7215062  85.359809  \n",
      "1        history:art_and_architecture:religious  27.7149298  85.288146  \n",
      "2        history:art_and_architecture:religious  27.7104461  85.346503  \n",
      "3                                        nature  27.6710496  85.262664  \n",
      "4        history:art_and_architecture:religious  27.7425438  85.362208  \n",
      "..                                          ...         ...        ...  \n",
      "195              art_and_architecture:religious  27.7134196  85.311246  \n",
      "196                                     history  27.7375441  85.302841  \n",
      "197                                     history  27.7191624  85.306492  \n",
      "198  history:art_and_architecture:entertainment  27.7160399  85.308885  \n",
      "199              art_and_architecture:religious  27.7009722  85.280179  \n",
      "\n",
      "[200 rows x 7 columns]\n"
     ]
    }
   ],
   "source": [
    "print(dataset_to_be_merged[:200])"
   ]
  },
  {
   "cell_type": "code",
   "execution_count": 85,
   "id": "25ca89c1",
   "metadata": {},
   "outputs": [
    {
     "name": "stdout",
     "output_type": "stream",
     "text": [
      "                                    title avg_rating  voted_by  \\\n",
      "0                        Boudhanath Stupa        4.5      8897   \n",
      "1                    Swayambhunath Temple        4.5      6203   \n",
      "2                    Pashupatinath Temple        4.5      4937   \n",
      "3                       Chandragiri Hills        4.5       399   \n",
      "4                         Kopan Monastery        4.5       787   \n",
      "...                                   ...        ...       ...   \n",
      "2340         Zeal Nepal Trek & Expedition          N         0   \n",
      "2341                        Mohit Sunuwar          N         0   \n",
      "2342  SITA (Travel Corporation India Ltd)          N         0   \n",
      "2343                       Himalayan Hike          N         0   \n",
      "2344                            River Fun          N         0   \n",
      "\n",
      "                                            genre    latitude  longitude  \\\n",
      "0                                 Religious Sites  27.7215062  85.359809   \n",
      "1                                 Religious Sites  27.7149298  85.288146   \n",
      "2                                 Religious Sites  27.7104461  85.346503   \n",
      "3                                       Mountains  27.6710496  85.262664   \n",
      "4                                 Religious Sites  27.7425438  85.362208   \n",
      "...                                           ...         ...        ...   \n",
      "2340     Multi-day Tours • River Rafting & Tubing         NaN        NaN   \n",
      "2341  Parasailing & Paragliding • Multi-day Tours         NaN        NaN   \n",
      "2342              Multi-day Tours • Balloon Rides         NaN        NaN   \n",
      "2343                 City Tours • Multi-day Tours         NaN        NaN   \n",
      "2344    River Rafting & Tubing • Taxis & Shuttles         NaN        NaN   \n",
      "\n",
      "                                                img_url  \n",
      "0     data:image/jpeg;base64,/9j/4AAQSkZJRgABAQAAAQA...  \n",
      "1     data:image/jpeg;base64,/9j/4AAQSkZJRgABAQAAAQA...  \n",
      "2     data:image/jpeg;base64,/9j/4AAQSkZJRgABAQAAAQA...  \n",
      "3     data:image/jpeg;base64,/9j/4AAQSkZJRgABAQAAAQA...  \n",
      "4     data:image/jpeg;base64,/9j/4AAQSkZJRgABAQAAAQA...  \n",
      "...                                                 ...  \n",
      "2340                                                NaN  \n",
      "2341                                                NaN  \n",
      "2342                                                NaN  \n",
      "2343                                                NaN  \n",
      "2344                                                NaN  \n",
      "\n",
      "[2345 rows x 7 columns]\n"
     ]
    }
   ],
   "source": [
    "# add the base64 images too \n",
    "dataset_with_img=pd.read_csv(\"../Datasets/destinations_of_kathmandu_updated_with_latlong_and_image.csv\")\n",
    "print(dataset_with_img)"
   ]
  },
  {
   "cell_type": "code",
   "execution_count": 70,
   "id": "cea15c80",
   "metadata": {},
   "outputs": [],
   "source": [
    "dataset_to_be_merged[\"img_url\"]=dataset_with_img[\"img_url\"] #copying images from the one with the image to other"
   ]
  },
  {
   "cell_type": "code",
   "execution_count": 86,
   "id": "62d72031",
   "metadata": {},
   "outputs": [],
   "source": [
    "# dataset.to_csv(\"final-ish_destinations_of_ktm.csv\",index=None)\n",
    "dataset.to_csv(\"../Datasets/final-ish_destinations_of_ktm.csv\",index=None)"
   ]
  },
  {
   "cell_type": "code",
   "execution_count": null,
   "id": "01bd96a7",
   "metadata": {},
   "outputs": [],
   "source": []
  }
 ],
 "metadata": {
  "kernelspec": {
   "display_name": "Python 3 (ipykernel)",
   "language": "python",
   "name": "python3"
  },
  "language_info": {
   "codemirror_mode": {
    "name": "ipython",
    "version": 3
   },
   "file_extension": ".py",
   "mimetype": "text/x-python",
   "name": "python",
   "nbconvert_exporter": "python",
   "pygments_lexer": "ipython3",
   "version": "3.9.7"
  }
 },
 "nbformat": 4,
 "nbformat_minor": 5
}
