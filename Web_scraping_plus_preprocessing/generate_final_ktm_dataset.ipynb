{
 "cells": [
  {
   "cell_type": "code",
   "execution_count": 39,
   "id": "d6abd4b0",
   "metadata": {},
   "outputs": [],
   "source": [
    "import pandas as pd\n",
    "import numpy as np"
   ]
  },
  {
   "cell_type": "code",
   "execution_count": 40,
   "id": "98774b96",
   "metadata": {},
   "outputs": [
    {
     "name": "stdout",
     "output_type": "stream",
     "text": [
      "                  title avg_rating  voted_by            genre    latitude  \\\n",
      "0      Boudhanath Stupa        4.5      8897  Religious Sites  27.7215062   \n",
      "1  Swayambhunath Temple        4.5      6203  Religious Sites  27.7149298   \n",
      "2  Pashupatinath Temple        4.5      4937  Religious Sites  27.7104461   \n",
      "3     Chandragiri Hills        4.5       399        Mountains  27.6710496   \n",
      "4       Kopan Monastery        4.5       787  Religious Sites  27.7425438   \n",
      "\n",
      "   longitude  \n",
      "0  85.359809  \n",
      "1  85.288146  \n",
      "2  85.346503  \n",
      "3  85.262664  \n",
      "4  85.362208  \n",
      "(2345, 6)\n"
     ]
    }
   ],
   "source": [
    "dataset=pd.read_csv(\"../Datasets/destinations_of_kathmandu_updated_with_latlong.csv\")\n",
    "print(dataset.head())\n",
    "print(dataset.shape)"
   ]
  },
  {
   "cell_type": "code",
   "execution_count": 41,
   "id": "a03f3875",
   "metadata": {},
   "outputs": [],
   "source": [
    "genre_arr=[] #store all values for each row in this array\n",
    "for i in range(len(dataset['genre'])):\n",
    "    arr=[] #array to store stripped items\n",
    "    splitted_arr=str(dataset['genre'][i]).split('•')\n",
    "\n",
    "    for item in splitted_arr:\n",
    "        new_stripped_item=item.strip()\n",
    "        arr.append(new_stripped_item)\n",
    "    genre_arr.append(arr)\n",
    "\n",
    "dataset['genre']=genre_arr"
   ]
  },
  {
   "cell_type": "code",
   "execution_count": 42,
   "id": "30656308",
   "metadata": {},
   "outputs": [
    {
     "name": "stdout",
     "output_type": "stream",
     "text": [
      "                                    title avg_rating  voted_by  \\\n",
      "0                        Boudhanath Stupa        4.5      8897   \n",
      "1                    Swayambhunath Temple        4.5      6203   \n",
      "2                    Pashupatinath Temple        4.5      4937   \n",
      "3                       Chandragiri Hills        4.5       399   \n",
      "4                         Kopan Monastery        4.5       787   \n",
      "...                                   ...        ...       ...   \n",
      "2340         Zeal Nepal Trek & Expedition          N         0   \n",
      "2341                        Mohit Sunuwar          N         0   \n",
      "2342  SITA (Travel Corporation India Ltd)          N         0   \n",
      "2343                       Himalayan Hike          N         0   \n",
      "2344                            River Fun          N         0   \n",
      "\n",
      "                                             genre    latitude  longitude  \n",
      "0                                [Religious Sites]  27.7215062  85.359809  \n",
      "1                                [Religious Sites]  27.7149298  85.288146  \n",
      "2                                [Religious Sites]  27.7104461  85.346503  \n",
      "3                                      [Mountains]  27.6710496  85.262664  \n",
      "4                                [Religious Sites]  27.7425438  85.362208  \n",
      "...                                            ...         ...        ...  \n",
      "2340     [Multi-day Tours, River Rafting & Tubing]         NaN        NaN  \n",
      "2341  [Parasailing & Paragliding, Multi-day Tours]         NaN        NaN  \n",
      "2342              [Multi-day Tours, Balloon Rides]         NaN        NaN  \n",
      "2343                 [City Tours, Multi-day Tours]         NaN        NaN  \n",
      "2344    [River Rafting & Tubing, Taxis & Shuttles]         NaN        NaN  \n",
      "\n",
      "[2345 rows x 6 columns]\n"
     ]
    }
   ],
   "source": [
    "print(dataset)"
   ]
  },
  {
   "cell_type": "code",
   "execution_count": 43,
   "id": "72542c1f",
   "metadata": {},
   "outputs": [
    {
     "name": "stdout",
     "output_type": "stream",
     "text": [
      "{'Paint & Pottery Studios', 'Karaoke Bars', 'Neighborhoods', 'Ski & Snow Tours', 'Forests', 'Beer Tastings & Tours', 'Distillery Tours', 'Adrenaline & Extreme Tours', 'Farmers Markets', 'River Rafting & Tubing', 'Monuments & Statues', 'Game & Entertainment Centers', 'Scenic Walking Areas', 'Taxis & Shuttles', 'Flea & Street Markets', 'Natural History Museums', 'Historic Walking Areas', 'Bar, Club & Pub Tours', 'Archaeology Tours', 'Casinos', 'Distilleries', 'Religious Sites', 'Nature & Wildlife Areas', 'Art Galleries', 'Mountains', 'Water Sports', 'Lookouts', 'Factory Outlets', 'Bars & Clubs', 'Sports Camps & Clinics', 'Bus Services', 'Antique Shops', 'Dance Clubs & Discos', 'Hiking & Camping Tours', 'Shopping Tours', 'Bus Tours', 'Speciality & Gift Shops', 'Boat Tours', 'City Tours', 'History Museums', 'Spas', 'National Parks', 'Canyoning & Rappelling Tours', 'Speciality Museums', 'Biking Trails', 'Self-Guided Tours & Rentals', 'Hiking Trails', 'Dams', 'Nature & Wildlife Tours', 'Wineries & Vineyards', \"Children's Museums\", 'Parasailing & Paragliding', 'Lessons & Workshops', 'Horse-Drawn Carriage Tours', 'Walking Tours', 'Movie Theaters', 'Balloon Rides', 'Playgrounds', '8', 'Yoga & Pilates', 'Horseback Riding Tours', 'Theaters', 'Zipline & Aerial Adventure Parks', 'Historical & Heritage Tours', 'Climbing Tours', 'Eco Tours', 'Motorcycle Trails', 'Sports Complexes', 'Sightseeing Tours', 'Fishing Charters & Tours', 'Visitor Centers', 'Health Clubs', 'Coffee & Tea Tours', 'Safaris', 'Submarine Tours', 'Cooking Classes', 'Bike Tours', 'Parks', 'Architectural Buildings', 'Factory Tours', 'Day Trips', 'Other Outdoor Activities', 'Points of Interest & Landmarks', 'Helicopter Tours', 'Private Tours', 'Convention Centers', 'Bodies of Water', 'Multi-day Tours', 'Churches & Cathedrals', 'Art Museums', 'Military Museums', 'Photography Tours', 'Cultural Tours', 'Gardens', '4WD, ATV & Off-Road Tours', 'Amusement & Theme Parks', 'Vespa, Scooter & Moped Tours', 'Food Tours', 'Libraries', 'Shopping Malls', 'Waterfalls', 'Theatre & Performances', 'Kayaking & Canoeing', 'Government Buildings', 'Historic Sites', 'Motorcycle Tours', 'Air Tours', 'Gear Rentals'}\n"
     ]
    }
   ],
   "source": [
    "#append all the items in the individual list from genre into a super list \n",
    "super_genre_list=[]\n",
    "for each_list in dataset['genre']:\n",
    "    for item in each_list:\n",
    "        super_genre_list.append(item)\n",
    "\n",
    "#convert that into set to have only the unique values \n",
    "superset=set((super_genre_list))\n",
    "print(superset)"
   ]
  },
  {
   "cell_type": "code",
   "execution_count": 44,
   "id": "c862f944",
   "metadata": {},
   "outputs": [],
   "source": [
    "#make checklists\n",
    "industries_checklist=['Distilleries','Factory Tours','Factory Outlets','Lessons & Workshops', 'Wineries & Vineyards']\n",
    "health_and_lifestyle_checklist=['Sports Camps & Clinics','Spas','Yoga & Pilates','Flea & Street Markets','Health Clubs']\n",
    "food_checklist=['Coffee & Tea Tours','Food Tours','Wineries & Vineyards', 'Beer Tastings & Tours',\\\n",
    "               'Cooking Classes','Farmers Markets',]\n",
    "\n",
    "entertainment_checklist=['Horse-Drawn Carriage Tours', 'Vespa, Scooter & Moped Tours', 'Amusement & Theme Parks',\\\n",
    "                        'Shopping Tours', 'Theaters', 'Dance Clubs & Discos','Other Outdoor Activities',\\\n",
    "                        'Bars & Clubs','Coffee & Tea Tours','Fishing Charters & Tours','Playgrounds', 'Game & Entertainment Centers',\\\n",
    "                        'Food Tours','Movie Theaters','Karaoke Bars','Theatre & Performances','Shopping Malls', 'Sports Complexes',\\\n",
    "                        'City Tours','Self-Guided Tours & Rentals','Farmers Markets', 'Flea & Street Markets',\\\n",
    "                        'Bar, Club & Pub Tours','Casinos','River Rafting & Tubing','Bike Tours','Walking Tours',\\\n",
    "                        'Zipline & Aerial Adventure Parks','Horseback Riding Tours','Sports Complexes',\\\n",
    "                        'Canyoning & Rappelling Tours','Scenic Walking Areas',\"Children's Museums\",]\n",
    "\n",
    "religious_checklist=['Art Galleries','Archaeology Tours','Antique Shops','Cultural Tours','Religious Sites','Monuments & Statues']\n",
    "\n",
    "adventure_checklist=['Archaeology Tours', 'Nature & Wildlife Tours','Kayaking & Canoeing', 'Ski & Snow Tours',\\\n",
    "                    'Motorcycle Trails', 'Horseback Riding Tours', 'Canyoning & Rappelling Tours',\\\n",
    "                     'Safaris','Zipline & Aerial Adventure Parks', 'Biking Trails', 'Gear Rentals', 'Bike Tours',\\\n",
    "                     'Climbing Tours','Eco Tours','River Rafting & Tubing','Sports Camps & Clinics',\\\n",
    "                     'Parasailing & Paragliding', 'Balloon Rides', 'Photography Tours','4WD, ATV & Off-Road Tours',\\\n",
    "                     'Hiking & Camping Tours', 'Bus Tours','Hiking Trails', 'Adrenaline & Extreme Tours',\\\n",
    "                     'Helicopter Tours', 'Sightseeing Tours','Nature & Wildlife Areas','Submarine Tours','Walking Tours',\\\n",
    "                     'Sightseeing Tours','Horseback Riding Tours','Canyoning & Rappelling Tours','Scenic Walking Areas']\n",
    "\n",
    "nature_checklist=['Nature & Wildlife Tours','Dams','National Parks','Fishing Charters & Tours','Forests', 'Mountains', 'Private Tours',\\\n",
    "                  'Scenic Walking Areas','Safaris','Climbing Tours','Points of Interest & Landmarks','Wineries & Vineyards',\\\n",
    "                  'Water Sports','Valleys','Hiking Trails','Adrenaline & Extreme Tours','Lookouts', 'Helicopter Tours',\\\n",
    "                  'Sightseeing Tours', 'Air Tours','Bodies of Water', 'Nature & Wildlife Areas','Gardens',\\\n",
    "                  'River Rafting & Tubing','Canyoning & Rappelling Tours','Parks','Waterfalls']\n",
    "\n",
    "art_and_architecture_checklist=['Art Galleries','Architectural Buildings','Archaeology Tours','Antique Shops','Government Buildings',\\\n",
    "                      'Historic Sites','Military Museums','Speciality & Gift Shops','Theaters','Cultural Tours',\\\n",
    "                      'Natural History Museums','Points of Interest & Landmarks','Historical & Heritage Tours', \"Children's Museums\",\\\n",
    "                      'City Tours','Religious Sites','Paint & Pottery Studios','Churches & Cathedrals',\\\n",
    "                      'Art Museums','Libraries','Monuments & Statues','Lookouts','History Museums','Convention Centers',\\\n",
    "                      'Movie Theaters','Sightseeing Tours','Historic Walking Areas','Speciality Museums','Flea & Street Markets',\\\n",
    "                      'Scenic Walking Areas','Paint & Pottery Studios','Parks'\\\n",
    "                      ]\n",
    "\n",
    "history_checklist=['Art Galleries','Architectural Buildings','Archaeology Tours','Antique Shops','Government Buildings',\\\n",
    "                  'Multi-day Tours','Historic Sites','Military Museums','Speciality & Gift Shops',\\\n",
    "                  'Natural History Museums','Points of Interest & Landmarks','Historical & Heritage Tours', \"Children's Museums\",\\\n",
    "                  'City Tours','Religious Sites','Paint & Pottery Studios','Churches & Cathedrals',\\\n",
    "                  'Art Museums','Libraries','Monuments & Statues','Lookouts','History Museums','Convention Centers',\\\n",
    "                  'Factory Tours','Historic Walking Areas','Neighborhoods','Gardens','Speciality Museums','Scenic Walking Areas',\\\n",
    "                  \"Children's Museums\",'Parks']"
   ]
  },
  {
   "cell_type": "code",
   "execution_count": 45,
   "id": "a6ef7e37",
   "metadata": {},
   "outputs": [],
   "source": [
    "def assign_history_col(dataset):\n",
    "    '''assigns history column'''\n",
    "    history_arr=[]\n",
    "    #iterate through every row of dataset \n",
    "    for each_list in dataset['genre']:\n",
    "        for item in each_list:\n",
    "            #history column\n",
    "            if(any(check_item.lower() == item.lower() for check_item in history_checklist)):\n",
    "                history_arr.append(True)\n",
    "                break\n",
    "            else:\n",
    "                history_arr.append(False)\n",
    "                break\n",
    "    return history_arr"
   ]
  },
  {
   "cell_type": "code",
   "execution_count": 46,
   "id": "caa94692",
   "metadata": {},
   "outputs": [],
   "source": [
    "history_arr=assign_history_col(dataset)\n",
    "dataset['history']=history_arr"
   ]
  },
  {
   "cell_type": "code",
   "execution_count": 47,
   "id": "ebf443f3",
   "metadata": {},
   "outputs": [],
   "source": [
    "def assign_art_and_architecture_col(dataset):\n",
    "    '''assigns art_and_architecture column'''    \n",
    "    art_and_architecture_arr=[]\n",
    "    #iterate through every row of dataset \n",
    "    for each_list in dataset['genre']:\n",
    "        for item in each_list:\n",
    "            if(any(check_item.lower() == item.lower() for check_item in art_and_architecture_checklist)):\n",
    "                art_and_architecture_arr.append(True)\n",
    "                break\n",
    "            else:\n",
    "                art_and_architecture_arr.append(False)\n",
    "                break\n",
    "    return art_and_architecture_arr"
   ]
  },
  {
   "cell_type": "code",
   "execution_count": 48,
   "id": "e29d5a01",
   "metadata": {},
   "outputs": [],
   "source": [
    "art_and_architecture_arr=assign_art_and_architecture_col(dataset)\n",
    "dataset['art_and_architecture']=art_and_architecture_arr"
   ]
  },
  {
   "cell_type": "code",
   "execution_count": 49,
   "id": "7ee5084a",
   "metadata": {},
   "outputs": [],
   "source": [
    "def assign_nature_col(dataset):\n",
    "    '''assigns nature column'''\n",
    "    nature_arr=[]\n",
    "    #iterate through every row of dataset \n",
    "    for each_list in dataset['genre']:\n",
    "        for item in each_list:\n",
    "            if(any(check_item.lower() == item.lower() for check_item in nature_checklist)):\n",
    "                nature_arr.append(True)\n",
    "                break\n",
    "            else:\n",
    "                nature_arr.append(False)\n",
    "                break\n",
    "    return nature_arr"
   ]
  },
  {
   "cell_type": "code",
   "execution_count": 50,
   "id": "9917b4f1",
   "metadata": {},
   "outputs": [],
   "source": [
    "nature_arr=assign_nature_col(dataset)\n",
    "dataset['nature']=nature_arr"
   ]
  },
  {
   "cell_type": "code",
   "execution_count": 51,
   "id": "bcd7c238",
   "metadata": {},
   "outputs": [],
   "source": [
    "def assign_adventure_col(dataset):\n",
    "    '''assigns adventure column'''\n",
    "    adventure_arr=[]\n",
    "    #iterate through every row of dataset \n",
    "    for each_list in dataset['genre']:\n",
    "        for item in each_list:\n",
    "            if(any(check_item.lower() == item.lower() for check_item in adventure_checklist)):\n",
    "                adventure_arr.append(True)\n",
    "                break\n",
    "            else:\n",
    "                adventure_arr.append(False)\n",
    "                break\n",
    "    return adventure_arr"
   ]
  },
  {
   "cell_type": "code",
   "execution_count": 52,
   "id": "0af3f75d",
   "metadata": {},
   "outputs": [],
   "source": [
    "adventure_arr=assign_adventure_col(dataset)\n",
    "dataset['adventure']=adventure_arr"
   ]
  },
  {
   "cell_type": "code",
   "execution_count": 53,
   "id": "faf75fa1",
   "metadata": {},
   "outputs": [],
   "source": [
    "def assign_entertainment_col(dataset):\n",
    "    '''assigns entertainment column'''\n",
    "    entertainment_arr=[]\n",
    "    #iterate through every row of dataset \n",
    "    for each_list in dataset['genre']:\n",
    "        for item in each_list:\n",
    "            if(any(check_item.lower() == item.lower() for check_item in entertainment_checklist)):\n",
    "                entertainment_arr.append(True)\n",
    "                break\n",
    "            else:\n",
    "                entertainment_arr.append(False)\n",
    "                break\n",
    "    return entertainment_arr"
   ]
  },
  {
   "cell_type": "code",
   "execution_count": 54,
   "id": "f6f42306",
   "metadata": {},
   "outputs": [],
   "source": [
    "entertainment_arr=assign_entertainment_col(dataset)\n",
    "dataset['entertainment']=entertainment_arr"
   ]
  },
  {
   "cell_type": "code",
   "execution_count": 55,
   "id": "2ec416e5",
   "metadata": {},
   "outputs": [],
   "source": [
    "def assign_health_and_lifestyle_col(dataset):\n",
    "    '''assigns health_and_lifestyle column'''\n",
    "    health_and_lifestyle_arr=[]\n",
    "    #iterate through every row of dataset \n",
    "    for each_list in dataset['genre']:\n",
    "        for item in each_list:\n",
    "            if(any(check_item.lower() == item.lower() for check_item in health_and_lifestyle_checklist)):\n",
    "                health_and_lifestyle_arr.append(True)\n",
    "                break\n",
    "            else:\n",
    "                health_and_lifestyle_arr.append(False)\n",
    "                break\n",
    "    return health_and_lifestyle_arr"
   ]
  },
  {
   "cell_type": "code",
   "execution_count": 56,
   "id": "5186a612",
   "metadata": {},
   "outputs": [],
   "source": [
    "health_and_lifestyle_arr=assign_health_and_lifestyle_col(dataset)\n",
    "dataset['health_and_lifestyle']=health_and_lifestyle_arr"
   ]
  },
  {
   "cell_type": "code",
   "execution_count": 57,
   "id": "67e979da",
   "metadata": {},
   "outputs": [],
   "source": [
    "def assign_food_col(dataset):\n",
    "    '''assigns food column'''\n",
    "    food_arr=[]\n",
    "    #iterate through every row of dataset \n",
    "    for each_list in dataset['genre']:\n",
    "        for item in each_list:\n",
    "            if(any(check_item.lower() == item.lower() for check_item in food_checklist)):\n",
    "                food_arr.append(True)\n",
    "                break\n",
    "            else:\n",
    "                food_arr.append(False)\n",
    "                break\n",
    "    return food_arr"
   ]
  },
  {
   "cell_type": "code",
   "execution_count": 58,
   "id": "0d455d06",
   "metadata": {},
   "outputs": [],
   "source": [
    "food_arr=assign_food_col(dataset)\n",
    "dataset['food']=food_arr"
   ]
  },
  {
   "cell_type": "code",
   "execution_count": 59,
   "id": "6a5937b9",
   "metadata": {},
   "outputs": [],
   "source": [
    "def assign_industries_col(dataset):\n",
    "    '''assigns industries column'''\n",
    "    industries_arr=[]\n",
    "    #iterate through every row of dataset \n",
    "    for each_list in dataset['genre']:\n",
    "        for item in each_list:\n",
    "            if(any(check_item.lower() == item.lower() for check_item in industries_checklist)):\n",
    "                industries_arr.append(True)\n",
    "                break\n",
    "            else:\n",
    "                industries_arr.append(False)\n",
    "                break\n",
    "    return industries_arr"
   ]
  },
  {
   "cell_type": "code",
   "execution_count": 60,
   "id": "26626550",
   "metadata": {},
   "outputs": [],
   "source": [
    "industries_arr=assign_industries_col(dataset)\n",
    "dataset['industries']=industries_arr"
   ]
  },
  {
   "cell_type": "code",
   "execution_count": 61,
   "id": "dd97b2fb",
   "metadata": {},
   "outputs": [],
   "source": [
    "def assign_religious_col(dataset):\n",
    "    '''assigns religious column'''\n",
    "    religious_arr=[]\n",
    "    #iterate through every row of dataset \n",
    "    for each_list in dataset['genre']:\n",
    "        for item in each_list:\n",
    "            if(any(check_item.lower() == item.lower() for check_item in religious_checklist)):\n",
    "                religious_arr.append(True)\n",
    "                break\n",
    "            else:\n",
    "                religious_arr.append(False)\n",
    "                break\n",
    "    return religious_arr"
   ]
  },
  {
   "cell_type": "code",
   "execution_count": 62,
   "id": "00c29fa2",
   "metadata": {},
   "outputs": [
    {
     "name": "stdout",
     "output_type": "stream",
     "text": [
      "                  title avg_rating  voted_by              genre    latitude  \\\n",
      "0      Boudhanath Stupa        4.5      8897  [Religious Sites]  27.7215062   \n",
      "1  Swayambhunath Temple        4.5      6203  [Religious Sites]  27.7149298   \n",
      "2  Pashupatinath Temple        4.5      4937  [Religious Sites]  27.7104461   \n",
      "3     Chandragiri Hills        4.5       399        [Mountains]  27.6710496   \n",
      "4       Kopan Monastery        4.5       787  [Religious Sites]  27.7425438   \n",
      "\n",
      "   longitude  history  art_and_architecture  nature  adventure  entertainment  \\\n",
      "0  85.359809     True                  True   False      False          False   \n",
      "1  85.288146     True                  True   False      False          False   \n",
      "2  85.346503     True                  True   False      False          False   \n",
      "3  85.262664    False                 False    True      False          False   \n",
      "4  85.362208     True                  True   False      False          False   \n",
      "\n",
      "   health_and_lifestyle   food  industries  religious  \n",
      "0                 False  False       False       True  \n",
      "1                 False  False       False       True  \n",
      "2                 False  False       False       True  \n",
      "3                 False  False       False      False  \n",
      "4                 False  False       False       True  \n"
     ]
    }
   ],
   "source": [
    "religious_arr=assign_religious_col(dataset)\n",
    "dataset['religious']=religious_arr\n",
    "print(dataset.head())"
   ]
  },
  {
   "cell_type": "code",
   "execution_count": 63,
   "id": "4a31948f",
   "metadata": {},
   "outputs": [
    {
     "name": "stdout",
     "output_type": "stream",
     "text": [
      "                                    title avg_rating  voted_by  \\\n",
      "0                        Boudhanath Stupa        4.5      8897   \n",
      "1                    Swayambhunath Temple        4.5      6203   \n",
      "2                    Pashupatinath Temple        4.5      4937   \n",
      "3                       Chandragiri Hills        4.5       399   \n",
      "4                         Kopan Monastery        4.5       787   \n",
      "...                                   ...        ...       ...   \n",
      "2340         Zeal Nepal Trek & Expedition          N         0   \n",
      "2341                        Mohit Sunuwar          N         0   \n",
      "2342  SITA (Travel Corporation India Ltd)          N         0   \n",
      "2343                       Himalayan Hike          N         0   \n",
      "2344                            River Fun          N         0   \n",
      "\n",
      "                                             genre    latitude  longitude  \\\n",
      "0                                [Religious Sites]  27.7215062  85.359809   \n",
      "1                                [Religious Sites]  27.7149298  85.288146   \n",
      "2                                [Religious Sites]  27.7104461  85.346503   \n",
      "3                                      [Mountains]  27.6710496  85.262664   \n",
      "4                                [Religious Sites]  27.7425438  85.362208   \n",
      "...                                            ...         ...        ...   \n",
      "2340     [Multi-day Tours, River Rafting & Tubing]         NaN        NaN   \n",
      "2341  [Parasailing & Paragliding, Multi-day Tours]         NaN        NaN   \n",
      "2342              [Multi-day Tours, Balloon Rides]         NaN        NaN   \n",
      "2343                 [City Tours, Multi-day Tours]         NaN        NaN   \n",
      "2344    [River Rafting & Tubing, Taxis & Shuttles]         NaN        NaN   \n",
      "\n",
      "      history  art_and_architecture  nature  adventure  entertainment  \\\n",
      "0        True                  True   False      False          False   \n",
      "1        True                  True   False      False          False   \n",
      "2        True                  True   False      False          False   \n",
      "3       False                 False    True      False          False   \n",
      "4        True                  True   False      False          False   \n",
      "...       ...                   ...     ...        ...            ...   \n",
      "2340     True                 False   False      False          False   \n",
      "2341    False                 False   False       True          False   \n",
      "2342     True                 False   False      False          False   \n",
      "2343     True                  True   False      False           True   \n",
      "2344    False                 False    True       True           True   \n",
      "\n",
      "      health_and_lifestyle   food  industries  religious  \n",
      "0                    False  False       False       True  \n",
      "1                    False  False       False       True  \n",
      "2                    False  False       False       True  \n",
      "3                    False  False       False      False  \n",
      "4                    False  False       False       True  \n",
      "...                    ...    ...         ...        ...  \n",
      "2340                 False  False       False      False  \n",
      "2341                 False  False       False      False  \n",
      "2342                 False  False       False      False  \n",
      "2343                 False  False       False      False  \n",
      "2344                 False  False       False      False  \n",
      "\n",
      "[2345 rows x 15 columns]\n"
     ]
    }
   ],
   "source": [
    "print(dataset)"
   ]
  },
  {
   "cell_type": "code",
   "execution_count": 64,
   "id": "7501b5be",
   "metadata": {},
   "outputs": [
    {
     "name": "stdout",
     "output_type": "stream",
     "text": [
      "                                    title    latitude  longitude  history  \\\n",
      "0                        Boudhanath Stupa  27.7215062  85.359809     True   \n",
      "1                    Swayambhunath Temple  27.7149298  85.288146     True   \n",
      "2                    Pashupatinath Temple  27.7104461  85.346503     True   \n",
      "3                       Chandragiri Hills  27.6710496  85.262664    False   \n",
      "4                         Kopan Monastery  27.7425438  85.362208     True   \n",
      "...                                   ...         ...        ...      ...   \n",
      "2340         Zeal Nepal Trek & Expedition         NaN        NaN     True   \n",
      "2341                        Mohit Sunuwar         NaN        NaN    False   \n",
      "2342  SITA (Travel Corporation India Ltd)         NaN        NaN     True   \n",
      "2343                       Himalayan Hike         NaN        NaN     True   \n",
      "2344                            River Fun         NaN        NaN    False   \n",
      "\n",
      "      art_and_architecture  nature  adventure  entertainment  \\\n",
      "0                     True   False      False          False   \n",
      "1                     True   False      False          False   \n",
      "2                     True   False      False          False   \n",
      "3                    False    True      False          False   \n",
      "4                     True   False      False          False   \n",
      "...                    ...     ...        ...            ...   \n",
      "2340                 False   False      False          False   \n",
      "2341                 False   False       True          False   \n",
      "2342                 False   False      False          False   \n",
      "2343                  True   False      False           True   \n",
      "2344                 False    True       True           True   \n",
      "\n",
      "      health_and_lifestyle   food  industries  religious  \n",
      "0                    False  False       False       True  \n",
      "1                    False  False       False       True  \n",
      "2                    False  False       False       True  \n",
      "3                    False  False       False      False  \n",
      "4                    False  False       False       True  \n",
      "...                    ...    ...         ...        ...  \n",
      "2340                 False  False       False      False  \n",
      "2341                 False  False       False      False  \n",
      "2342                 False  False       False      False  \n",
      "2343                 False  False       False      False  \n",
      "2344                 False  False       False      False  \n",
      "\n",
      "[2345 rows x 12 columns]\n"
     ]
    }
   ],
   "source": [
    "dataset=dataset.drop(['avg_rating','voted_by','genre'],axis=1)\n",
    "print(dataset)"
   ]
  },
  {
   "cell_type": "code",
   "execution_count": 65,
   "id": "e88e7099",
   "metadata": {},
   "outputs": [],
   "source": [
    "super_genre_list=[]\n",
    "for i in range(len(dataset)):\n",
    "    genre_list=[]\n",
    "    for ind in dataset.loc[i].index:\n",
    "        if dataset.loc[i,ind] == True:\n",
    "            genre_list.append(str(ind))\n",
    "    \n",
    "    super_genre_list.append(genre_list)\n",
    "        \n",
    "    \n",
    "            \n",
    "        "
   ]
  },
  {
   "cell_type": "code",
   "execution_count": 66,
   "id": "ffbb8b57",
   "metadata": {},
   "outputs": [
    {
     "name": "stdout",
     "output_type": "stream",
     "text": [
      "[['history', 'art_and_architecture', 'religious'], ['history', 'art_and_architecture', 'religious'], ['history', 'art_and_architecture', 'religious'], ['nature'], ['history', 'art_and_architecture', 'religious'], ['history'], ['history', 'nature'], ['history', 'art_and_architecture', 'nature'], ['history', 'art_and_architecture'], ['art_and_architecture', 'entertainment', 'health_and_lifestyle'], ['nature'], ['history', 'art_and_architecture', 'religious'], ['history', 'art_and_architecture', 'religious'], ['history', 'art_and_architecture', 'religious'], ['history', 'art_and_architecture', 'nature'], ['history', 'art_and_architecture', 'religious'], ['history', 'art_and_architecture', 'religious'], ['history', 'art_and_architecture'], ['history', 'art_and_architecture'], ['history', 'art_and_architecture', 'nature'], ['nature'], ['history', 'art_and_architecture', 'religious'], ['history', 'art_and_architecture', 'religious'], ['history', 'nature'], ['history', 'art_and_architecture', 'religious'], ['history', 'art_and_architecture'], ['history', 'art_and_architecture', 'religious'], ['history', 'art_and_architecture', 'religious'], ['history'], ['history', 'art_and_architecture', 'nature'], ['history', 'art_and_architecture', 'nature'], ['history', 'art_and_architecture', 'religious'], ['history', 'art_and_architecture', 'religious'], ['entertainment'], ['history', 'art_and_architecture', 'nature'], ['history', 'art_and_architecture', 'nature'], ['nature'], ['history', 'art_and_architecture', 'religious'], ['history', 'art_and_architecture'], ['nature', 'adventure'], ['history', 'art_and_architecture', 'religious'], ['history', 'art_and_architecture', 'religious'], ['history', 'art_and_architecture', 'religious'], ['history', 'art_and_architecture', 'religious'], ['history', 'art_and_architecture', 'nature'], ['history', 'art_and_architecture', 'nature'], ['history', 'art_and_architecture', 'nature'], ['history', 'art_and_architecture'], ['entertainment', 'food'], ['adventure', 'health_and_lifestyle'], ['history', 'art_and_architecture', 'religious'], ['history', 'art_and_architecture'], ['history', 'art_and_architecture'], ['history', 'art_and_architecture', 'religious'], ['history', 'art_and_architecture', 'nature'], ['history', 'art_and_architecture', 'nature'], ['history', 'art_and_architecture', 'nature'], ['history', 'art_and_architecture', 'nature'], ['entertainment'], ['history', 'art_and_architecture', 'religious'], ['history', 'art_and_architecture', 'religious'], ['history', 'art_and_architecture', 'nature'], ['history', 'art_and_architecture', 'nature'], ['history', 'art_and_architecture', 'nature'], ['history', 'art_and_architecture'], ['adventure', 'health_and_lifestyle'], ['history', 'art_and_architecture'], ['history', 'art_and_architecture', 'nature'], ['history', 'art_and_architecture'], ['entertainment'], ['history', 'art_and_architecture', 'nature'], ['history', 'art_and_architecture'], ['history', 'art_and_architecture', 'religious'], ['history', 'art_and_architecture', 'religious'], ['history', 'art_and_architecture', 'nature'], ['history', 'art_and_architecture', 'religious'], ['history', 'art_and_architecture', 'religious'], ['history', 'art_and_architecture', 'religious'], ['entertainment'], ['history', 'art_and_architecture'], ['history', 'art_and_architecture', 'religious'], ['adventure', 'health_and_lifestyle'], ['history', 'art_and_architecture'], ['entertainment'], ['history', 'art_and_architecture', 'religious'], ['history', 'art_and_architecture', 'nature'], ['entertainment'], ['nature'], ['history', 'art_and_architecture'], ['history', 'art_and_architecture', 'nature'], ['history', 'art_and_architecture', 'nature'], ['history', 'art_and_architecture', 'religious'], ['history', 'art_and_architecture', 'nature'], ['nature', 'adventure'], ['history', 'art_and_architecture', 'religious'], ['industries'], ['entertainment'], ['history', 'art_and_architecture'], ['history', 'art_and_architecture', 'nature'], ['history', 'art_and_architecture', 'religious'], ['history', 'art_and_architecture', 'religious'], ['history', 'art_and_architecture', 'religious'], ['history', 'art_and_architecture', 'religious'], ['history', 'art_and_architecture', 'nature'], ['history', 'art_and_architecture'], ['history', 'art_and_architecture', 'religious'], ['history', 'art_and_architecture', 'religious'], ['history', 'art_and_architecture'], ['history', 'art_and_architecture', 'nature'], ['history', 'art_and_architecture', 'religious'], ['history', 'art_and_architecture', 'nature'], ['history', 'art_and_architecture', 'nature'], ['history', 'art_and_architecture', 'nature'], ['entertainment'], ['history', 'art_and_architecture'], ['history', 'art_and_architecture', 'religious'], ['nature'], ['history', 'art_and_architecture'], ['history', 'art_and_architecture', 'religious'], ['history', 'art_and_architecture', 'nature'], ['history', 'art_and_architecture'], ['history', 'art_and_architecture', 'religious'], ['history', 'art_and_architecture', 'nature'], ['history', 'art_and_architecture', 'nature'], ['history', 'art_and_architecture', 'religious'], ['history', 'art_and_architecture', 'religious'], ['history', 'art_and_architecture'], ['history', 'art_and_architecture', 'nature'], ['history', 'art_and_architecture', 'religious'], ['history', 'art_and_architecture', 'religious'], ['history', 'art_and_architecture', 'religious'], ['history', 'art_and_architecture', 'nature'], ['history', 'art_and_architecture'], ['history', 'art_and_architecture', 'nature'], ['history', 'art_and_architecture'], ['history', 'art_and_architecture', 'religious'], ['entertainment'], ['history', 'art_and_architecture', 'religious'], ['history', 'art_and_architecture', 'religious'], ['history', 'art_and_architecture'], ['history', 'art_and_architecture'], ['history', 'art_and_architecture'], ['history', 'art_and_architecture', 'nature'], ['history', 'art_and_architecture', 'religious'], ['nature'], ['history', 'art_and_architecture', 'nature'], ['history', 'art_and_architecture', 'nature'], ['history', 'art_and_architecture', 'religious'], ['history', 'art_and_architecture', 'nature'], ['history', 'art_and_architecture'], ['history', 'art_and_architecture'], ['history', 'art_and_architecture', 'nature'], ['history', 'art_and_architecture', 'nature'], ['adventure', 'health_and_lifestyle'], ['history', 'art_and_architecture', 'entertainment'], ['history'], ['history'], ['history'], ['history'], ['art_and_architecture', 'religious'], ['history', 'art_and_architecture'], ['history'], ['adventure'], ['art_and_architecture', 'nature', 'adventure'], ['nature', 'adventure', 'entertainment'], ['history'], ['adventure'], ['history', 'art_and_architecture', 'entertainment'], ['adventure'], ['history'], ['history', 'art_and_architecture', 'entertainment'], [], ['health_and_lifestyle'], ['art_and_architecture', 'religious'], ['history'], ['nature'], ['history'], ['nature', 'adventure'], ['history', 'art_and_architecture', 'entertainment'], ['history'], ['art_and_architecture', 'religious'], ['nature', 'adventure'], ['history'], ['history', 'art_and_architecture', 'entertainment'], ['art_and_architecture', 'religious'], ['nature', 'adventure', 'entertainment'], ['history', 'art_and_architecture', 'entertainment'], ['health_and_lifestyle'], ['history'], ['adventure'], ['history'], ['art_and_architecture', 'religious'], ['history'], ['history'], ['history', 'art_and_architecture', 'entertainment'], ['art_and_architecture', 'religious'], ['history'], ['history'], ['history', 'art_and_architecture', 'entertainment'], ['art_and_architecture', 'religious'], ['history', 'art_and_architecture', 'entertainment'], ['adventure'], ['history', 'art_and_architecture', 'entertainment'], ['history'], ['adventure'], ['food'], ['art_and_architecture', 'nature', 'adventure'], ['art_and_architecture', 'religious'], ['adventure', 'entertainment'], ['history'], ['history', 'art_and_architecture', 'entertainment'], ['art_and_architecture', 'nature', 'adventure'], ['art_and_architecture', 'religious'], ['history'], ['history', 'art_and_architecture'], ['history', 'art_and_architecture', 'entertainment'], ['adventure'], ['nature'], ['history'], ['history', 'art_and_architecture', 'entertainment'], ['adventure'], ['history'], ['history', 'art_and_architecture', 'entertainment'], ['art_and_architecture', 'nature', 'adventure'], ['adventure'], ['adventure'], ['adventure'], ['health_and_lifestyle'], ['history'], ['adventure'], ['adventure'], ['history', 'art_and_architecture', 'entertainment'], ['history', 'art_and_architecture', 'entertainment'], ['nature', 'adventure'], ['adventure'], ['art_and_architecture', 'religious'], ['history'], ['history'], ['adventure'], ['history'], ['history', 'art_and_architecture', 'entertainment'], ['adventure', 'entertainment'], ['adventure'], ['art_and_architecture', 'religious'], ['history', 'art_and_architecture', 'entertainment'], ['nature', 'adventure'], ['adventure'], ['history'], ['adventure', 'entertainment'], ['art_and_architecture', 'nature', 'adventure'], ['history'], ['nature', 'adventure', 'entertainment'], ['health_and_lifestyle'], [], ['history', 'art_and_architecture'], ['food'], ['history'], ['nature', 'adventure'], ['history'], ['nature', 'adventure', 'entertainment'], ['adventure'], ['history', 'art_and_architecture'], ['art_and_architecture', 'religious'], ['history', 'art_and_architecture', 'entertainment'], ['history', 'art_and_architecture', 'entertainment'], ['adventure'], ['adventure'], ['history', 'art_and_architecture', 'entertainment'], ['art_and_architecture', 'religious'], ['art_and_architecture', 'religious'], ['history'], ['nature', 'adventure'], ['history', 'art_and_architecture', 'entertainment'], ['history'], ['art_and_architecture', 'nature', 'adventure'], ['nature'], ['history'], ['health_and_lifestyle'], ['adventure'], ['adventure'], ['adventure'], ['health_and_lifestyle'], ['nature'], ['nature', 'adventure', 'entertainment'], ['art_and_architecture', 'nature', 'adventure'], ['health_and_lifestyle'], ['art_and_architecture', 'nature', 'adventure'], ['adventure'], ['history', 'art_and_architecture'], ['history', 'art_and_architecture', 'entertainment'], ['art_and_architecture', 'religious'], ['history', 'art_and_architecture', 'entertainment'], ['nature', 'adventure'], ['art_and_architecture', 'religious'], ['health_and_lifestyle'], ['art_and_architecture', 'religious'], ['health_and_lifestyle'], ['art_and_architecture', 'religious'], ['art_and_architecture', 'nature', 'adventure'], ['history', 'art_and_architecture'], ['history'], ['history'], ['nature', 'adventure', 'entertainment'], ['nature', 'adventure', 'entertainment'], ['history', 'art_and_architecture', 'entertainment'], ['history', 'art_and_architecture', 'entertainment'], ['history'], ['nature', 'adventure', 'entertainment'], ['art_and_architecture', 'religious'], ['adventure'], ['history'], ['history', 'art_and_architecture', 'entertainment'], ['art_and_architecture', 'nature', 'adventure'], ['history'], ['history', 'art_and_architecture'], ['history'], ['history'], ['adventure'], ['history', 'art_and_architecture', 'entertainment'], ['history', 'art_and_architecture', 'entertainment'], ['adventure'], ['adventure'], ['history'], ['nature', 'adventure', 'entertainment'], ['history', 'art_and_architecture'], ['history', 'art_and_architecture'], ['adventure'], ['history'], ['adventure'], ['art_and_architecture', 'religious'], ['adventure'], ['history', 'art_and_architecture', 'entertainment'], ['adventure'], ['history', 'art_and_architecture', 'entertainment'], ['nature', 'adventure', 'entertainment'], ['adventure'], ['history'], ['history'], ['history'], ['history'], ['nature'], ['health_and_lifestyle'], ['art_and_architecture', 'religious'], ['nature', 'adventure'], ['history', 'art_and_architecture', 'entertainment'], ['adventure'], ['history', 'art_and_architecture', 'entertainment'], ['adventure'], ['adventure'], ['adventure'], ['history'], ['history'], ['art_and_architecture', 'religious'], ['history'], ['history', 'art_and_architecture'], ['history', 'art_and_architecture', 'entertainment'], ['history', 'art_and_architecture', 'entertainment'], ['history', 'art_and_architecture', 'entertainment'], ['health_and_lifestyle'], ['history', 'art_and_architecture', 'entertainment'], ['adventure'], ['adventure'], ['history'], ['adventure', 'entertainment'], [], ['adventure'], ['adventure'], ['art_and_architecture', 'religious'], ['health_and_lifestyle'], ['history', 'art_and_architecture', 'entertainment'], ['history', 'art_and_architecture', 'entertainment'], ['health_and_lifestyle'], ['art_and_architecture', 'religious'], [], ['history'], ['history', 'art_and_architecture', 'entertainment'], ['history'], ['history', 'art_and_architecture', 'entertainment'], ['nature', 'adventure', 'entertainment'], ['nature', 'adventure'], ['art_and_architecture', 'religious'], ['adventure'], ['health_and_lifestyle'], ['nature', 'adventure'], ['history', 'art_and_architecture', 'entertainment'], ['adventure'], ['history'], ['art_and_architecture', 'religious'], ['history'], ['art_and_architecture', 'religious'], ['history', 'art_and_architecture', 'entertainment'], ['nature'], ['history'], ['history', 'art_and_architecture'], ['nature', 'adventure'], ['nature'], ['art_and_architecture', 'religious'], ['history', 'art_and_architecture', 'entertainment'], ['history'], ['nature'], ['adventure'], ['nature', 'adventure'], ['adventure', 'entertainment'], ['history'], [], ['history'], ['history', 'art_and_architecture', 'entertainment'], ['entertainment'], ['history'], ['nature'], ['history', 'art_and_architecture', 'entertainment'], ['nature', 'adventure'], ['history'], ['art_and_architecture', 'religious'], ['adventure'], ['history', 'art_and_architecture', 'entertainment'], ['history'], ['nature', 'adventure'], ['history'], ['history'], ['history', 'art_and_architecture', 'entertainment'], ['history'], ['history', 'art_and_architecture', 'entertainment'], ['history', 'art_and_architecture', 'entertainment'], ['adventure'], ['history'], ['adventure', 'entertainment'], ['history'], ['nature', 'adventure'], ['nature', 'adventure'], ['adventure'], ['nature'], ['health_and_lifestyle'], ['history'], ['history'], ['history', 'art_and_architecture', 'entertainment'], ['history', 'art_and_architecture', 'entertainment'], ['history'], ['nature', 'adventure', 'entertainment'], ['nature', 'adventure'], ['history'], ['art_and_architecture', 'nature', 'adventure'], ['history'], ['history', 'art_and_architecture', 'entertainment'], ['art_and_architecture', 'nature', 'adventure'], ['adventure', 'entertainment'], ['history', 'art_and_architecture'], ['history'], ['history', 'art_and_architecture', 'entertainment'], ['history', 'art_and_architecture', 'entertainment'], ['history'], ['history'], ['history', 'art_and_architecture', 'entertainment'], ['history'], ['adventure'], ['nature', 'adventure'], ['history', 'art_and_architecture', 'entertainment'], ['art_and_architecture', 'religious'], ['history'], ['nature', 'adventure', 'entertainment'], ['nature', 'adventure'], ['history'], ['nature', 'adventure'], ['nature', 'adventure', 'entertainment'], ['art_and_architecture', 'religious'], ['art_and_architecture', 'religious'], ['history', 'art_and_architecture', 'entertainment'], ['history'], ['nature', 'adventure'], ['history', 'art_and_architecture', 'entertainment'], ['history', 'art_and_architecture', 'entertainment'], ['nature', 'adventure', 'entertainment'], ['art_and_architecture', 'religious'], ['history'], ['history', 'art_and_architecture'], ['history', 'art_and_architecture', 'entertainment'], ['adventure'], ['adventure'], ['history', 'art_and_architecture', 'entertainment'], ['history'], ['history', 'art_and_architecture', 'entertainment'], ['adventure'], ['adventure'], ['adventure'], ['history'], ['history'], ['nature', 'adventure', 'entertainment'], ['health_and_lifestyle'], ['entertainment'], ['nature', 'adventure'], ['history'], ['history'], ['history', 'art_and_architecture', 'entertainment'], ['adventure'], ['nature'], ['history', 'art_and_architecture', 'entertainment'], ['history'], ['nature'], ['history'], ['history', 'art_and_architecture', 'entertainment'], ['history'], ['history', 'art_and_architecture'], ['history'], ['nature', 'adventure'], ['history', 'art_and_architecture', 'entertainment'], ['history', 'art_and_architecture', 'entertainment'], ['history'], ['nature', 'adventure'], ['nature', 'adventure'], ['history', 'art_and_architecture', 'entertainment'], ['nature', 'adventure'], ['art_and_architecture', 'religious'], ['history', 'art_and_architecture'], ['art_and_architecture', 'nature', 'adventure'], ['art_and_architecture', 'religious'], ['health_and_lifestyle'], ['history', 'art_and_architecture'], ['history'], [], ['history'], ['nature', 'adventure'], ['art_and_architecture', 'religious'], ['history'], ['history'], ['adventure'], ['nature', 'adventure'], ['nature'], ['history', 'art_and_architecture', 'entertainment'], ['history', 'art_and_architecture', 'entertainment'], ['history'], ['history'], ['art_and_architecture', 'religious'], ['adventure'], ['history', 'art_and_architecture', 'entertainment'], ['history', 'art_and_architecture', 'entertainment'], ['art_and_architecture', 'nature', 'adventure'], ['history', 'art_and_architecture', 'entertainment'], ['history'], ['history', 'art_and_architecture', 'entertainment'], ['history', 'art_and_architecture', 'entertainment'], ['history'], ['art_and_architecture', 'religious'], ['health_and_lifestyle'], ['adventure'], ['art_and_architecture', 'religious'], ['history'], ['history', 'art_and_architecture', 'entertainment'], ['health_and_lifestyle'], ['history', 'art_and_architecture', 'entertainment'], ['adventure'], ['history'], ['history'], ['history'], ['history'], ['nature', 'adventure'], ['nature'], ['history'], ['nature', 'adventure'], [], ['history'], ['nature', 'adventure'], ['history'], ['art_and_architecture', 'nature', 'adventure'], ['history', 'art_and_architecture', 'entertainment'], ['history'], ['history', 'art_and_architecture', 'entertainment'], ['adventure'], ['adventure'], ['adventure', 'entertainment'], ['health_and_lifestyle'], ['history', 'art_and_architecture', 'entertainment'], ['adventure'], ['art_and_architecture', 'nature', 'adventure'], ['adventure'], ['art_and_architecture', 'religious'], ['history'], ['nature', 'adventure'], ['history'], ['history'], ['entertainment'], ['history', 'art_and_architecture'], ['adventure', 'entertainment'], ['art_and_architecture', 'religious'], ['adventure'], ['food'], ['history', 'art_and_architecture', 'entertainment'], ['history'], ['nature', 'adventure'], ['adventure', 'entertainment'], ['history'], ['history'], ['history', 'art_and_architecture', 'entertainment'], ['history', 'art_and_architecture', 'entertainment'], ['history'], ['history', 'art_and_architecture', 'entertainment'], ['history', 'art_and_architecture', 'entertainment'], ['adventure'], ['history', 'art_and_architecture', 'entertainment'], ['art_and_architecture', 'religious'], ['art_and_architecture', 'religious'], ['nature', 'adventure'], ['history'], ['food'], ['history', 'art_and_architecture', 'entertainment'], ['history', 'art_and_architecture', 'entertainment'], ['nature', 'adventure', 'entertainment'], ['art_and_architecture', 'nature', 'adventure'], [], ['adventure'], ['history', 'art_and_architecture', 'entertainment'], ['adventure', 'entertainment'], ['adventure'], ['nature', 'adventure', 'entertainment'], ['nature', 'adventure'], ['adventure'], ['history'], ['art_and_architecture', 'religious'], ['history', 'art_and_architecture', 'entertainment'], ['art_and_architecture', 'religious'], ['history'], ['history', 'art_and_architecture', 'entertainment'], ['art_and_architecture', 'nature', 'adventure'], ['history'], ['history', 'art_and_architecture', 'entertainment'], ['art_and_architecture', 'nature', 'adventure'], ['adventure'], ['history'], ['nature', 'adventure'], ['history'], [], ['adventure'], ['nature'], ['history'], ['adventure'], ['nature', 'adventure'], ['adventure'], ['history'], ['art_and_architecture', 'nature', 'adventure'], ['nature', 'adventure', 'entertainment'], ['art_and_architecture', 'nature', 'adventure'], ['adventure'], ['history'], ['nature', 'adventure'], ['nature', 'adventure'], ['history'], ['history'], ['history'], ['nature', 'adventure', 'entertainment'], ['entertainment'], ['art_and_architecture', 'religious'], ['art_and_architecture', 'religious'], ['adventure'], ['history', 'art_and_architecture'], ['adventure'], ['adventure', 'entertainment'], ['art_and_architecture', 'religious'], ['history'], ['nature', 'adventure', 'entertainment'], ['nature', 'adventure'], [], ['art_and_architecture', 'religious'], ['history'], ['history', 'art_and_architecture', 'entertainment'], ['history'], ['history', 'art_and_architecture', 'entertainment'], ['art_and_architecture', 'religious'], ['health_and_lifestyle'], ['adventure'], [], ['adventure'], ['history', 'art_and_architecture', 'entertainment'], ['art_and_architecture', 'religious'], ['history', 'art_and_architecture'], ['history', 'art_and_architecture', 'entertainment'], ['history', 'art_and_architecture', 'entertainment'], ['health_and_lifestyle'], ['history', 'art_and_architecture', 'entertainment'], ['nature', 'adventure'], ['adventure'], ['history', 'art_and_architecture'], ['art_and_architecture', 'religious'], ['history'], ['nature'], ['history', 'art_and_architecture', 'entertainment'], ['adventure'], ['art_and_architecture', 'religious'], ['health_and_lifestyle'], ['nature', 'adventure'], ['history', 'art_and_architecture'], ['history'], ['history'], ['history', 'art_and_architecture'], ['art_and_architecture', 'religious'], ['nature', 'adventure'], ['history', 'art_and_architecture', 'entertainment'], ['history', 'art_and_architecture'], ['adventure'], ['history'], ['nature', 'adventure', 'entertainment'], ['adventure'], ['history'], ['adventure'], ['art_and_architecture', 'religious'], ['art_and_architecture', 'religious'], ['nature', 'adventure'], ['history'], ['history'], ['history', 'art_and_architecture', 'entertainment'], ['art_and_architecture', 'nature', 'adventure'], ['adventure'], ['history', 'art_and_architecture', 'entertainment'], ['history'], ['history'], [], ['history', 'art_and_architecture', 'entertainment'], ['adventure'], ['nature', 'adventure', 'entertainment'], ['nature', 'adventure'], ['health_and_lifestyle'], ['history', 'art_and_architecture'], ['nature', 'adventure'], ['history', 'art_and_architecture', 'entertainment'], ['adventure'], ['adventure'], ['history'], ['history', 'art_and_architecture', 'entertainment'], ['adventure'], ['history', 'art_and_architecture', 'entertainment'], ['adventure'], ['history'], ['nature', 'adventure'], ['history'], ['history'], ['history'], ['adventure'], ['history'], ['history'], ['history'], ['nature'], ['nature', 'adventure'], ['adventure'], ['history', 'art_and_architecture', 'entertainment'], ['adventure'], ['history'], ['history', 'art_and_architecture', 'entertainment'], ['nature', 'adventure'], ['history'], ['art_and_architecture', 'nature', 'adventure'], ['nature', 'adventure', 'entertainment'], ['history'], ['history'], ['nature'], ['history'], ['history', 'art_and_architecture', 'entertainment'], ['nature', 'adventure', 'entertainment'], ['adventure'], ['adventure'], ['history', 'art_and_architecture'], ['history'], ['art_and_architecture', 'religious'], ['art_and_architecture', 'nature', 'adventure'], ['nature'], ['art_and_architecture', 'religious'], ['adventure'], ['history', 'art_and_architecture', 'entertainment'], ['adventure'], ['history', 'art_and_architecture', 'entertainment'], ['art_and_architecture', 'religious'], ['adventure'], ['adventure', 'entertainment'], ['health_and_lifestyle'], ['nature', 'adventure', 'entertainment'], ['art_and_architecture', 'religious'], ['adventure'], ['history'], ['adventure'], ['nature', 'adventure', 'entertainment'], ['history'], ['history', 'art_and_architecture', 'entertainment'], ['art_and_architecture', 'religious'], ['history', 'art_and_architecture'], ['history', 'art_and_architecture', 'entertainment'], ['history', 'art_and_architecture', 'entertainment'], ['adventure'], ['adventure'], ['adventure'], ['adventure'], ['history'], ['art_and_architecture', 'nature', 'adventure'], ['history', 'art_and_architecture'], ['adventure'], ['history', 'art_and_architecture', 'entertainment'], ['art_and_architecture', 'religious'], ['history', 'art_and_architecture'], ['history', 'art_and_architecture', 'entertainment'], ['history'], ['history', 'art_and_architecture', 'entertainment'], ['history', 'art_and_architecture', 'entertainment'], ['entertainment'], ['nature', 'adventure'], ['history', 'art_and_architecture', 'entertainment'], ['history'], ['art_and_architecture', 'religious'], ['art_and_architecture', 'religious'], ['health_and_lifestyle'], ['history'], ['history', 'art_and_architecture', 'entertainment'], ['history', 'art_and_architecture'], ['art_and_architecture', 'religious'], ['health_and_lifestyle'], ['history', 'art_and_architecture'], ['nature', 'adventure'], ['history', 'art_and_architecture', 'entertainment'], ['history', 'art_and_architecture', 'entertainment'], ['history'], ['history'], ['history'], ['nature', 'adventure', 'entertainment'], ['history', 'art_and_architecture', 'entertainment'], ['history', 'art_and_architecture', 'entertainment'], [], ['adventure'], ['history'], ['health_and_lifestyle'], ['art_and_architecture', 'nature', 'adventure'], ['history', 'art_and_architecture', 'entertainment'], ['history'], ['history', 'art_and_architecture', 'entertainment'], ['nature', 'adventure'], ['history'], ['nature', 'adventure', 'entertainment'], ['nature', 'entertainment'], ['art_and_architecture', 'religious'], ['history', 'art_and_architecture', 'entertainment'], [], ['history'], ['history'], ['adventure'], ['nature', 'adventure'], ['history'], ['history'], ['entertainment'], ['history'], ['history'], ['art_and_architecture', 'religious'], ['nature', 'adventure', 'entertainment'], ['history', 'art_and_architecture', 'entertainment'], ['history'], ['art_and_architecture', 'religious'], ['art_and_architecture', 'nature', 'adventure'], ['art_and_architecture', 'religious'], ['adventure'], ['adventure'], ['history'], ['history'], ['nature', 'adventure'], ['history', 'art_and_architecture', 'entertainment'], ['art_and_architecture', 'religious'], ['history', 'art_and_architecture', 'entertainment'], ['art_and_architecture', 'religious'], ['history', 'art_and_architecture', 'entertainment'], ['health_and_lifestyle'], ['history'], ['adventure', 'entertainment'], ['adventure', 'entertainment'], ['nature', 'adventure', 'entertainment'], ['art_and_architecture', 'religious'], ['art_and_architecture', 'nature', 'adventure'], ['adventure'], ['history', 'art_and_architecture', 'entertainment'], ['history'], ['adventure'], ['history', 'art_and_architecture', 'entertainment'], ['history', 'art_and_architecture', 'entertainment'], ['history'], ['history'], ['history'], ['nature'], ['history', 'art_and_architecture'], ['nature', 'adventure'], ['history', 'art_and_architecture'], ['history', 'art_and_architecture', 'entertainment'], ['history'], ['history'], ['history'], ['nature'], ['history'], ['history'], ['history'], ['history', 'art_and_architecture', 'entertainment'], ['adventure'], ['history'], ['art_and_architecture', 'religious'], ['history', 'art_and_architecture', 'entertainment'], ['history'], ['history'], ['history', 'art_and_architecture', 'entertainment'], ['history'], ['history', 'art_and_architecture'], ['adventure'], ['adventure'], ['nature', 'adventure', 'entertainment'], ['history', 'art_and_architecture', 'entertainment'], ['industries'], ['history'], ['history', 'art_and_architecture', 'entertainment'], ['history'], ['art_and_architecture', 'religious'], ['history'], ['history', 'art_and_architecture', 'entertainment'], ['history'], ['history', 'art_and_architecture'], [], ['industries'], ['health_and_lifestyle'], ['adventure'], ['history'], ['history', 'art_and_architecture', 'entertainment'], ['nature', 'adventure'], ['nature'], ['adventure'], ['history'], ['history'], ['history', 'art_and_architecture', 'entertainment'], ['adventure'], ['history'], ['health_and_lifestyle'], ['nature', 'adventure', 'entertainment'], ['nature', 'adventure', 'entertainment'], ['adventure'], ['art_and_architecture', 'nature', 'adventure'], ['history'], ['history', 'art_and_architecture', 'entertainment'], ['history'], ['history'], ['history'], ['nature', 'adventure'], ['history'], ['history'], ['history', 'art_and_architecture', 'entertainment'], ['adventure'], ['art_and_architecture', 'religious'], [], ['industries'], ['history'], ['history'], ['history'], ['history', 'art_and_architecture', 'entertainment'], ['history', 'art_and_architecture', 'entertainment'], ['adventure'], ['history'], ['history', 'art_and_architecture'], ['history'], ['adventure'], ['health_and_lifestyle'], ['history'], ['history'], ['history'], ['history'], ['history'], ['adventure'], ['history', 'art_and_architecture', 'entertainment'], ['nature', 'adventure'], ['history'], ['art_and_architecture', 'nature', 'adventure'], ['nature', 'adventure'], ['history'], ['nature'], ['nature', 'adventure', 'entertainment'], ['history'], ['adventure'], ['history'], ['history'], ['history'], ['history'], ['nature', 'adventure', 'entertainment'], ['history'], ['history'], ['entertainment'], ['history', 'art_and_architecture'], ['history', 'art_and_architecture'], ['adventure'], ['art_and_architecture', 'religious'], ['nature', 'adventure'], ['art_and_architecture', 'religious'], ['art_and_architecture', 'religious'], ['art_and_architecture', 'religious'], ['history'], ['art_and_architecture', 'religious'], ['history'], ['nature', 'adventure', 'entertainment'], ['art_and_architecture', 'religious'], ['adventure'], ['adventure'], ['history'], ['nature', 'adventure', 'entertainment'], ['adventure', 'entertainment'], ['history'], ['art_and_architecture', 'religious'], ['nature', 'adventure'], ['history'], [], ['history', 'art_and_architecture', 'entertainment'], ['history', 'art_and_architecture', 'entertainment'], ['art_and_architecture', 'religious'], ['history'], ['history', 'art_and_architecture', 'entertainment'], ['history', 'art_and_architecture', 'entertainment'], ['history', 'art_and_architecture'], ['nature'], ['adventure'], ['history'], ['history', 'art_and_architecture', 'entertainment'], ['art_and_architecture', 'religious'], ['history'], ['history', 'art_and_architecture', 'entertainment'], ['art_and_architecture', 'religious'], ['history'], ['food'], ['history'], ['history', 'art_and_architecture', 'entertainment'], ['adventure'], ['history', 'art_and_architecture', 'entertainment'], ['history'], ['history'], ['history'], ['art_and_architecture', 'religious'], ['health_and_lifestyle'], ['nature', 'adventure'], ['entertainment'], ['art_and_architecture', 'religious'], ['nature', 'adventure', 'entertainment'], ['history'], ['health_and_lifestyle'], ['health_and_lifestyle'], ['adventure'], ['history'], ['history'], ['history', 'art_and_architecture', 'entertainment'], ['history', 'art_and_architecture'], ['nature', 'adventure'], ['adventure'], ['adventure'], [], ['nature', 'adventure', 'entertainment'], ['history', 'art_and_architecture', 'entertainment'], ['history'], ['adventure'], ['history'], ['adventure'], ['history'], ['history', 'art_and_architecture'], ['art_and_architecture', 'religious'], ['nature', 'adventure'], ['adventure'], ['adventure'], ['art_and_architecture', 'religious'], ['history', 'art_and_architecture', 'entertainment'], ['history'], ['history'], ['adventure', 'entertainment'], ['history'], ['adventure', 'entertainment'], ['art_and_architecture', 'religious'], ['adventure', 'entertainment'], ['adventure'], ['history'], ['nature', 'adventure', 'entertainment'], ['history'], ['nature', 'adventure'], ['history'], ['adventure'], ['history'], ['history'], ['history'], ['history'], ['history'], ['history', 'art_and_architecture'], ['nature', 'adventure'], ['nature', 'adventure'], ['history', 'art_and_architecture', 'entertainment'], ['history'], ['history'], [], ['history', 'art_and_architecture', 'entertainment'], ['history'], ['history'], ['nature', 'adventure'], ['art_and_architecture', 'religious'], ['art_and_architecture', 'religious'], ['history', 'art_and_architecture', 'entertainment'], ['health_and_lifestyle'], ['nature', 'adventure'], ['history'], ['history', 'art_and_architecture'], ['art_and_architecture', 'religious'], ['history', 'art_and_architecture', 'entertainment'], ['history'], [], ['history'], ['history'], ['history'], ['nature', 'adventure'], ['nature'], ['history'], ['art_and_architecture', 'nature', 'adventure'], ['nature'], ['history', 'art_and_architecture', 'entertainment'], ['history'], ['nature', 'adventure'], ['history'], ['health_and_lifestyle'], ['art_and_architecture', 'religious'], ['history'], ['health_and_lifestyle'], ['art_and_architecture', 'religious'], ['history'], ['nature', 'adventure'], ['history', 'art_and_architecture', 'entertainment'], ['history', 'art_and_architecture', 'entertainment'], ['history'], ['history'], ['history'], ['art_and_architecture', 'religious'], ['nature'], ['history', 'art_and_architecture'], ['adventure', 'entertainment'], ['history', 'art_and_architecture', 'entertainment'], ['history', 'art_and_architecture'], ['history', 'art_and_architecture', 'entertainment'], ['history'], ['history', 'art_and_architecture', 'entertainment'], ['nature'], ['history'], ['nature', 'adventure', 'entertainment'], ['history', 'art_and_architecture', 'entertainment'], ['history'], ['history'], ['history', 'art_and_architecture', 'entertainment'], ['history', 'art_and_architecture', 'entertainment'], ['health_and_lifestyle'], ['history'], ['history'], ['history'], ['nature', 'adventure', 'entertainment'], ['health_and_lifestyle'], ['history'], ['history'], ['art_and_architecture', 'religious'], ['history', 'art_and_architecture', 'entertainment'], ['history'], ['adventure'], ['nature', 'adventure', 'entertainment'], ['history', 'art_and_architecture'], ['history'], ['adventure', 'health_and_lifestyle'], ['history'], ['history'], ['history'], ['history', 'art_and_architecture', 'entertainment'], ['industries'], ['history'], ['adventure'], ['nature', 'adventure'], ['history'], ['history'], ['history'], ['history', 'art_and_architecture', 'entertainment'], ['history', 'art_and_architecture', 'entertainment'], ['history'], ['history'], ['history'], ['history'], ['adventure'], ['art_and_architecture', 'religious'], ['history', 'art_and_architecture'], ['history'], ['health_and_lifestyle'], ['art_and_architecture', 'religious'], ['health_and_lifestyle'], ['history'], ['history'], ['history'], ['history', 'art_and_architecture', 'entertainment'], ['history'], ['adventure'], ['entertainment'], ['history', 'art_and_architecture', 'entertainment'], ['nature'], ['history'], ['nature', 'adventure'], ['health_and_lifestyle'], ['art_and_architecture', 'religious'], ['adventure'], ['adventure'], ['entertainment'], ['history', 'art_and_architecture', 'entertainment'], ['art_and_architecture', 'religious'], ['history', 'art_and_architecture'], ['history'], ['nature'], ['history', 'art_and_architecture', 'entertainment'], ['history', 'art_and_architecture', 'entertainment'], ['history'], ['health_and_lifestyle'], ['history'], ['history'], ['adventure'], ['history'], ['history'], ['history'], ['history'], ['nature', 'adventure'], ['history'], ['history'], ['history', 'art_and_architecture'], ['history'], [], ['history'], ['history'], ['history'], ['art_and_architecture', 'nature', 'adventure'], ['history', 'art_and_architecture'], ['history'], ['nature'], ['history'], ['health_and_lifestyle'], ['nature'], ['art_and_architecture', 'religious'], [], ['history'], ['history'], ['history'], ['history', 'art_and_architecture', 'entertainment'], ['history'], ['history', 'art_and_architecture', 'entertainment'], ['history', 'art_and_architecture', 'entertainment'], ['nature', 'adventure'], [], ['history', 'art_and_architecture', 'entertainment'], ['history', 'art_and_architecture', 'entertainment'], ['history'], ['history', 'art_and_architecture'], ['art_and_architecture', 'religious'], ['history', 'art_and_architecture', 'entertainment'], ['history', 'art_and_architecture', 'entertainment'], ['health_and_lifestyle'], ['art_and_architecture', 'religious'], ['history'], ['history', 'art_and_architecture', 'entertainment'], ['history'], ['art_and_architecture', 'religious'], ['health_and_lifestyle'], ['history'], ['history'], ['history'], ['entertainment'], ['history', 'art_and_architecture', 'entertainment'], ['art_and_architecture', 'nature', 'adventure'], ['adventure'], ['art_and_architecture', 'religious'], ['history'], ['history', 'art_and_architecture', 'entertainment'], ['history'], ['adventure'], ['history'], ['history', 'art_and_architecture', 'entertainment'], ['health_and_lifestyle'], ['history', 'art_and_architecture', 'entertainment'], ['adventure', 'entertainment'], ['art_and_architecture', 'religious'], ['history', 'art_and_architecture', 'entertainment'], ['history'], ['adventure'], ['art_and_architecture', 'religious'], ['history'], ['history'], ['history'], ['history'], ['history', 'art_and_architecture', 'adventure', 'religious'], ['history'], ['history'], ['adventure'], ['history', 'art_and_architecture', 'entertainment'], ['adventure'], ['history'], ['history'], ['history', 'art_and_architecture', 'entertainment'], ['food'], ['history'], ['history'], ['history', 'art_and_architecture'], ['history', 'art_and_architecture'], ['history'], ['adventure', 'entertainment'], ['history', 'art_and_architecture', 'entertainment'], ['history', 'art_and_architecture'], ['nature', 'adventure'], ['history', 'art_and_architecture'], ['history', 'art_and_architecture', 'entertainment'], ['history'], ['nature', 'adventure'], ['entertainment'], ['food'], ['entertainment'], ['health_and_lifestyle'], ['history'], ['history'], ['health_and_lifestyle'], ['history', 'art_and_architecture'], ['history'], ['adventure'], ['adventure'], ['history'], ['adventure'], ['history'], ['nature', 'adventure'], ['history'], ['art_and_architecture', 'religious'], ['adventure', 'entertainment'], ['history'], ['history'], ['history'], ['art_and_architecture', 'nature', 'adventure'], ['adventure', 'entertainment'], ['history'], [], ['history'], ['nature', 'adventure'], ['adventure'], ['history', 'art_and_architecture', 'entertainment'], ['history'], ['nature', 'adventure'], ['history'], [], ['adventure', 'entertainment'], ['nature', 'adventure'], ['history'], ['history', 'art_and_architecture', 'entertainment'], ['nature', 'adventure'], ['history'], ['history'], ['health_and_lifestyle'], ['history', 'art_and_architecture', 'entertainment'], ['history'], ['history'], ['history'], ['history', 'art_and_architecture', 'entertainment'], ['history', 'art_and_architecture', 'entertainment'], ['history'], ['entertainment'], ['history'], ['nature', 'adventure', 'entertainment'], ['history', 'art_and_architecture', 'entertainment'], ['history', 'art_and_architecture', 'entertainment'], ['history', 'art_and_architecture', 'entertainment'], ['history'], ['history', 'art_and_architecture'], ['history', 'art_and_architecture'], ['nature', 'adventure'], ['nature', 'adventure'], ['history'], ['nature', 'adventure'], ['history', 'art_and_architecture', 'entertainment'], ['history'], ['history', 'art_and_architecture', 'entertainment'], ['nature', 'adventure'], ['history'], [], ['history', 'art_and_architecture', 'entertainment'], ['health_and_lifestyle'], ['nature'], ['adventure'], ['history', 'art_and_architecture'], ['adventure'], ['history'], ['nature', 'adventure'], ['industries'], ['history'], ['history'], ['history'], ['history'], ['health_and_lifestyle'], ['art_and_architecture', 'religious'], ['nature', 'adventure'], ['nature', 'adventure', 'entertainment'], ['history'], ['adventure'], ['history', 'art_and_architecture', 'entertainment'], ['history', 'art_and_architecture', 'entertainment'], ['nature', 'adventure'], ['history', 'art_and_architecture'], ['history', 'art_and_architecture'], ['health_and_lifestyle'], ['nature', 'adventure', 'entertainment'], ['history'], ['history'], ['adventure', 'entertainment'], ['adventure', 'entertainment'], ['history'], ['history'], ['history', 'art_and_architecture'], ['history', 'art_and_architecture', 'entertainment'], [], ['adventure'], ['history', 'art_and_architecture'], ['nature', 'adventure'], ['art_and_architecture', 'nature', 'adventure'], [], ['history'], ['history', 'art_and_architecture'], ['history'], ['history', 'art_and_architecture', 'entertainment'], ['history'], ['nature', 'adventure'], ['nature', 'adventure', 'entertainment'], ['history'], ['art_and_architecture', 'entertainment'], ['history'], ['art_and_architecture', 'nature', 'adventure'], ['adventure'], ['adventure'], ['nature', 'adventure', 'entertainment'], ['adventure'], ['history'], ['history'], ['history', 'art_and_architecture', 'entertainment'], ['adventure'], ['adventure'], ['history'], ['adventure', 'entertainment'], ['nature', 'adventure'], ['entertainment', 'food'], [], ['history'], ['history'], ['adventure'], ['history'], ['history'], ['history'], ['entertainment'], ['history'], ['history', 'art_and_architecture', 'entertainment'], ['history'], ['adventure', 'entertainment'], ['art_and_architecture', 'nature', 'adventure'], ['history'], ['nature', 'adventure'], ['art_and_architecture', 'religious'], ['history', 'art_and_architecture', 'entertainment'], ['history'], ['health_and_lifestyle'], ['art_and_architecture', 'nature', 'adventure'], ['nature', 'adventure', 'entertainment'], ['history', 'art_and_architecture', 'entertainment'], ['history'], ['history'], ['adventure'], ['history', 'art_and_architecture', 'entertainment'], ['history'], ['adventure'], ['history'], ['adventure', 'entertainment'], ['nature', 'adventure'], ['history'], ['history'], ['history'], ['history'], ['history'], ['history'], ['history'], ['history'], ['art_and_architecture', 'religious'], ['history', 'art_and_architecture', 'entertainment'], ['history', 'art_and_architecture', 'entertainment'], ['nature', 'adventure'], ['history', 'art_and_architecture'], ['history'], ['nature', 'adventure'], ['history', 'art_and_architecture', 'entertainment'], ['history'], [], ['history', 'art_and_architecture', 'entertainment'], ['adventure'], ['art_and_architecture', 'nature', 'adventure'], ['art_and_architecture', 'religious'], ['history'], ['art_and_architecture', 'religious'], ['history', 'art_and_architecture', 'entertainment'], ['adventure'], ['history', 'art_and_architecture'], ['history', 'art_and_architecture', 'entertainment'], ['art_and_architecture', 'nature', 'adventure'], ['history', 'art_and_architecture', 'entertainment'], ['history'], ['entertainment'], ['history', 'art_and_architecture'], ['history', 'art_and_architecture'], ['health_and_lifestyle'], ['nature', 'adventure'], ['adventure'], ['entertainment', 'food'], ['art_and_architecture', 'nature', 'adventure'], ['history'], ['nature', 'adventure'], ['history'], ['history'], ['history', 'art_and_architecture', 'entertainment'], ['art_and_architecture', 'entertainment'], ['history', 'art_and_architecture', 'entertainment'], ['history', 'art_and_architecture'], ['nature', 'adventure', 'entertainment'], ['history'], ['history', 'art_and_architecture'], ['adventure'], ['nature'], ['entertainment'], ['health_and_lifestyle'], ['history', 'art_and_architecture', 'entertainment'], ['history', 'art_and_architecture'], ['history'], ['history'], ['adventure'], ['history', 'art_and_architecture', 'entertainment'], ['health_and_lifestyle'], ['history'], ['history'], ['history', 'art_and_architecture', 'entertainment'], ['history'], ['history', 'art_and_architecture', 'entertainment'], ['nature', 'adventure'], ['history', 'art_and_architecture'], ['history'], ['history', 'art_and_architecture'], ['adventure'], ['history', 'art_and_architecture', 'entertainment'], ['history'], [], ['history'], ['entertainment'], ['history'], ['history'], ['history', 'art_and_architecture', 'entertainment'], [], ['nature', 'adventure'], ['adventure', 'entertainment'], ['history', 'art_and_architecture'], ['history'], ['history'], ['adventure'], ['history'], ['history', 'art_and_architecture'], ['adventure'], ['adventure'], ['history'], ['history'], ['history'], ['history'], ['nature', 'adventure'], ['adventure'], ['history', 'art_and_architecture'], ['history', 'art_and_architecture', 'entertainment'], ['history'], ['art_and_architecture', 'religious'], ['adventure'], ['history'], ['history', 'art_and_architecture'], ['history'], ['adventure'], ['history', 'art_and_architecture'], ['history'], ['adventure'], [], ['history', 'art_and_architecture'], ['history'], ['art_and_architecture', 'religious'], ['history'], ['health_and_lifestyle'], ['adventure'], ['adventure'], ['history'], ['history', 'art_and_architecture', 'entertainment'], ['adventure'], ['history'], ['adventure'], ['nature', 'adventure'], ['history', 'art_and_architecture'], ['adventure'], ['history'], ['history', 'art_and_architecture', 'entertainment'], ['adventure'], ['history'], ['history'], ['adventure', 'health_and_lifestyle'], ['history'], ['adventure'], ['history', 'art_and_architecture'], ['history', 'art_and_architecture', 'entertainment'], ['history', 'art_and_architecture'], ['adventure'], ['adventure'], ['art_and_architecture', 'nature', 'adventure'], ['history'], ['history', 'art_and_architecture', 'entertainment'], ['history'], ['adventure'], ['nature', 'adventure'], ['history', 'art_and_architecture', 'entertainment'], ['history'], ['history'], ['history'], ['nature', 'adventure', 'entertainment'], ['nature', 'adventure', 'entertainment'], ['history'], ['history'], ['history'], ['history'], ['nature'], ['history', 'art_and_architecture', 'entertainment'], ['nature'], ['history', 'art_and_architecture'], [], ['art_and_architecture', 'religious'], ['history', 'art_and_architecture', 'entertainment'], ['adventure'], ['history'], ['art_and_architecture', 'religious'], ['history'], ['history'], ['art_and_architecture', 'religious'], ['history'], ['history', 'art_and_architecture', 'entertainment'], ['health_and_lifestyle'], ['history', 'art_and_architecture'], ['history'], ['art_and_architecture', 'entertainment'], ['history', 'art_and_architecture'], ['nature', 'adventure'], ['entertainment'], ['history'], ['adventure'], ['nature', 'adventure'], ['history'], ['health_and_lifestyle'], ['history'], ['history'], ['history', 'art_and_architecture'], ['history'], ['history', 'art_and_architecture'], ['art_and_architecture', 'nature', 'adventure'], ['adventure'], ['nature', 'adventure'], ['adventure'], ['history', 'art_and_architecture', 'entertainment'], ['history'], ['adventure'], ['history'], ['health_and_lifestyle'], ['history'], ['history'], ['art_and_architecture', 'religious'], ['art_and_architecture', 'entertainment'], ['history'], ['history', 'art_and_architecture'], ['history'], ['art_and_architecture', 'nature', 'adventure'], ['history', 'art_and_architecture'], ['nature'], ['adventure', 'entertainment'], ['history', 'art_and_architecture', 'entertainment'], ['adventure'], ['adventure'], ['entertainment'], ['history', 'art_and_architecture', 'entertainment'], ['food'], ['entertainment'], ['nature', 'adventure', 'entertainment'], ['history', 'art_and_architecture'], ['adventure'], ['history'], ['history'], ['adventure'], ['adventure'], ['art_and_architecture', 'nature', 'adventure'], ['history', 'art_and_architecture', 'entertainment'], ['history', 'art_and_architecture', 'entertainment'], ['nature', 'adventure', 'entertainment'], ['adventure'], ['history', 'art_and_architecture'], ['art_and_architecture', 'religious'], ['history'], ['nature'], [], ['history', 'art_and_architecture', 'entertainment'], ['art_and_architecture', 'religious'], ['history', 'art_and_architecture', 'entertainment'], ['health_and_lifestyle'], ['nature', 'adventure', 'entertainment'], ['history', 'art_and_architecture', 'entertainment'], ['entertainment'], ['history'], ['history'], ['art_and_architecture', 'religious'], ['art_and_architecture', 'religious'], ['history', 'art_and_architecture', 'entertainment'], ['history', 'art_and_architecture', 'entertainment'], ['health_and_lifestyle'], [], ['art_and_architecture', 'religious'], ['history', 'art_and_architecture'], ['nature'], ['adventure'], ['adventure'], ['history'], ['nature', 'adventure'], ['history'], ['health_and_lifestyle'], ['nature', 'adventure', 'entertainment'], ['entertainment'], ['nature', 'adventure', 'entertainment'], ['nature', 'adventure'], ['history'], ['nature', 'adventure'], ['adventure'], ['history'], ['entertainment'], ['history'], ['nature', 'adventure', 'entertainment'], ['adventure'], ['adventure'], ['history'], ['history'], ['entertainment'], ['history'], ['history', 'art_and_architecture', 'entertainment'], ['history', 'art_and_architecture', 'entertainment'], ['entertainment'], ['art_and_architecture', 'entertainment'], ['history', 'art_and_architecture', 'entertainment'], ['entertainment'], ['nature', 'adventure', 'entertainment'], ['history'], ['nature', 'adventure'], ['history'], ['history', 'art_and_architecture', 'entertainment'], [], ['art_and_architecture', 'religious'], ['history'], ['history', 'art_and_architecture'], ['history'], ['art_and_architecture', 'religious'], ['history'], ['art_and_architecture', 'religious'], ['history'], ['history'], ['nature', 'adventure'], ['nature', 'adventure'], [], ['history'], ['nature', 'adventure'], ['health_and_lifestyle'], ['history'], ['nature', 'adventure'], [], ['nature', 'adventure'], ['nature', 'adventure'], ['nature', 'adventure'], ['history'], ['history', 'art_and_architecture', 'entertainment'], ['nature', 'adventure'], ['art_and_architecture', 'nature', 'adventure'], ['history'], ['nature', 'adventure'], ['adventure'], ['history', 'art_and_architecture', 'entertainment'], ['history'], ['adventure'], ['history'], ['history'], ['history'], ['history'], ['history', 'art_and_architecture', 'entertainment'], [], ['history', 'art_and_architecture', 'entertainment'], ['adventure'], ['history', 'art_and_architecture', 'entertainment'], ['adventure'], ['history', 'art_and_architecture', 'entertainment'], ['nature', 'adventure'], ['history'], ['history'], ['history'], ['nature'], ['adventure'], ['history'], ['history', 'art_and_architecture', 'entertainment'], [], ['history', 'art_and_architecture', 'entertainment'], ['nature', 'adventure'], ['nature', 'adventure'], ['history', 'art_and_architecture'], ['history'], ['history', 'art_and_architecture'], ['history'], ['art_and_architecture', 'nature', 'adventure'], ['history'], ['adventure'], ['history', 'art_and_architecture', 'entertainment'], ['health_and_lifestyle'], ['history'], ['history'], ['adventure'], ['history'], ['adventure', 'health_and_lifestyle'], ['history'], ['history', 'art_and_architecture', 'entertainment'], ['adventure'], ['art_and_architecture', 'religious'], ['history'], ['art_and_architecture', 'nature', 'adventure'], ['history', 'art_and_architecture', 'entertainment'], ['history', 'art_and_architecture'], ['industries'], ['entertainment'], ['entertainment'], ['art_and_architecture', 'nature', 'adventure'], ['adventure'], ['entertainment'], ['adventure'], ['history', 'art_and_architecture'], ['adventure'], ['history', 'art_and_architecture'], [], ['history', 'art_and_architecture'], ['health_and_lifestyle'], ['history', 'art_and_architecture'], ['history', 'art_and_architecture', 'religious'], ['adventure'], ['art_and_architecture', 'nature', 'adventure'], ['art_and_architecture', 'nature', 'adventure'], ['adventure'], ['history', 'art_and_architecture'], ['nature', 'adventure'], ['art_and_architecture', 'religious'], ['adventure'], ['adventure'], ['nature'], ['history', 'art_and_architecture', 'entertainment'], ['art_and_architecture', 'religious'], [], ['history', 'art_and_architecture'], ['history', 'art_and_architecture', 'religious'], ['art_and_architecture', 'nature', 'adventure'], ['history', 'art_and_architecture', 'entertainment'], ['nature', 'adventure'], ['art_and_architecture', 'entertainment'], ['history'], ['history', 'art_and_architecture'], ['adventure'], ['nature', 'adventure', 'entertainment'], ['nature', 'adventure'], ['health_and_lifestyle'], ['history', 'art_and_architecture', 'entertainment'], ['history', 'art_and_architecture', 'entertainment'], ['history', 'art_and_architecture', 'entertainment'], [], ['art_and_architecture', 'religious'], ['nature', 'adventure'], [], ['history'], ['history'], ['history'], ['history'], ['health_and_lifestyle'], ['history', 'art_and_architecture', 'entertainment'], ['history'], ['art_and_architecture', 'religious'], ['art_and_architecture', 'religious'], ['history'], ['history', 'art_and_architecture'], ['history'], ['history', 'art_and_architecture', 'entertainment'], ['history'], ['history', 'art_and_architecture', 'entertainment'], ['nature'], ['health_and_lifestyle'], ['history'], ['nature', 'adventure'], ['history', 'art_and_architecture', 'entertainment'], ['history'], ['history'], ['history', 'art_and_architecture', 'entertainment'], ['history'], ['history'], ['health_and_lifestyle'], ['history', 'art_and_architecture', 'entertainment'], ['history'], ['history'], ['adventure'], ['history', 'art_and_architecture'], ['history'], ['art_and_architecture', 'entertainment'], ['history'], ['history', 'art_and_architecture', 'entertainment'], ['history'], ['history'], ['history'], ['history'], ['adventure'], [], ['history', 'art_and_architecture'], ['history'], ['adventure'], ['nature', 'adventure'], ['health_and_lifestyle'], ['history'], ['adventure'], ['history'], ['adventure'], ['history'], ['entertainment'], ['history'], ['adventure'], ['history'], ['history'], ['history'], ['nature', 'adventure'], ['history'], ['art_and_architecture', 'religious'], ['history'], ['history', 'art_and_architecture', 'entertainment'], ['nature', 'adventure'], ['history'], ['history', 'art_and_architecture', 'entertainment'], ['adventure'], ['history'], ['history'], ['history', 'art_and_architecture', 'religious'], ['history'], ['history', 'art_and_architecture', 'nature'], ['history'], ['history', 'art_and_architecture', 'religious'], [], ['nature', 'adventure'], ['art_and_architecture', 'religious'], ['adventure'], ['health_and_lifestyle'], ['history'], ['history'], ['art_and_architecture', 'nature', 'adventure'], ['history', 'art_and_architecture'], ['history'], ['health_and_lifestyle'], ['history'], ['adventure'], ['history'], ['history'], ['history'], ['history', 'art_and_architecture'], ['art_and_architecture', 'entertainment'], ['history'], ['history', 'art_and_architecture', 'entertainment'], ['history', 'art_and_architecture', 'entertainment'], ['history'], ['art_and_architecture', 'religious'], ['history'], ['history'], ['history', 'art_and_architecture', 'entertainment'], ['history'], ['history', 'art_and_architecture', 'entertainment'], ['nature', 'adventure'], ['history'], ['history', 'art_and_architecture', 'entertainment'], ['nature', 'adventure'], ['history', 'art_and_architecture', 'entertainment'], ['history'], ['history', 'art_and_architecture', 'entertainment'], ['adventure'], ['history', 'art_and_architecture', 'entertainment'], ['history', 'art_and_architecture', 'entertainment'], ['history'], ['health_and_lifestyle'], ['adventure'], ['history'], ['history', 'art_and_architecture', 'entertainment'], ['history'], ['history'], ['history', 'art_and_architecture', 'entertainment'], ['health_and_lifestyle'], ['history'], ['history', 'art_and_architecture', 'entertainment'], ['history', 'art_and_architecture', 'entertainment'], ['health_and_lifestyle'], ['health_and_lifestyle'], ['art_and_architecture', 'religious'], ['adventure', 'entertainment'], ['history', 'art_and_architecture'], ['history', 'art_and_architecture', 'entertainment'], ['history'], ['entertainment'], ['nature'], ['history', 'art_and_architecture'], ['art_and_architecture', 'religious'], ['history'], ['history'], ['history', 'art_and_architecture'], ['health_and_lifestyle'], ['health_and_lifestyle'], ['history', 'art_and_architecture', 'entertainment'], ['history'], ['history', 'art_and_architecture', 'entertainment'], ['history'], ['history'], ['history'], ['history'], ['history', 'art_and_architecture'], ['history'], ['history'], ['history', 'art_and_architecture', 'nature'], ['history'], ['adventure', 'entertainment'], ['history'], ['history'], ['history'], ['history'], ['history'], ['adventure'], ['history', 'art_and_architecture'], ['nature', 'adventure'], ['history', 'art_and_architecture', 'entertainment'], ['nature'], ['nature', 'adventure'], ['history'], ['history'], ['nature', 'adventure'], ['adventure'], ['history'], ['nature', 'adventure'], ['history'], ['history', 'art_and_architecture'], ['entertainment'], ['history', 'art_and_architecture'], ['history'], ['health_and_lifestyle'], ['history', 'art_and_architecture'], ['adventure', 'health_and_lifestyle'], ['nature', 'adventure'], ['history'], ['history'], ['history'], ['history', 'art_and_architecture', 'entertainment'], ['history'], ['history'], ['history', 'art_and_architecture', 'entertainment'], ['history', 'art_and_architecture', 'entertainment'], ['art_and_architecture', 'nature', 'adventure'], ['history'], ['history'], [], ['history', 'art_and_architecture', 'entertainment'], ['entertainment'], ['history'], ['history'], ['nature', 'adventure'], ['health_and_lifestyle'], ['adventure'], ['history', 'art_and_architecture'], ['history', 'art_and_architecture'], ['history'], ['nature', 'adventure'], ['history'], ['history'], ['history', 'art_and_architecture', 'entertainment'], ['nature', 'adventure'], ['history'], ['history'], ['art_and_architecture', 'religious'], [], ['adventure'], [], ['history'], ['history'], ['history', 'art_and_architecture'], ['history', 'art_and_architecture', 'entertainment'], ['history', 'art_and_architecture'], ['history', 'art_and_architecture'], ['history', 'art_and_architecture'], ['history', 'art_and_architecture'], ['history'], ['history'], ['history'], ['history'], ['history'], ['history'], ['nature', 'adventure'], ['history'], ['history'], ['history'], ['history'], ['nature', 'adventure', 'entertainment'], ['history'], ['history'], ['history'], ['adventure'], ['history'], ['history'], ['adventure'], ['adventure'], ['adventure'], ['health_and_lifestyle'], ['nature'], ['nature', 'adventure'], ['history'], ['art_and_architecture', 'religious'], ['nature', 'adventure', 'entertainment'], [], ['history'], ['history'], ['adventure'], ['adventure'], ['history', 'art_and_architecture', 'entertainment'], ['history'], ['history'], ['history', 'art_and_architecture'], ['history', 'art_and_architecture', 'entertainment'], ['history'], ['adventure'], ['history'], ['history'], ['nature', 'adventure'], ['history'], ['history'], ['history', 'art_and_architecture'], ['nature', 'adventure'], ['history', 'art_and_architecture', 'entertainment'], ['history', 'art_and_architecture', 'entertainment'], ['history', 'art_and_architecture', 'entertainment'], ['history'], ['history'], ['adventure'], ['history', 'art_and_architecture'], ['history'], ['history', 'art_and_architecture', 'entertainment'], ['history'], ['adventure'], ['history', 'art_and_architecture', 'entertainment'], ['history'], ['history'], ['history'], ['history', 'art_and_architecture', 'entertainment'], ['nature', 'adventure'], ['history'], ['nature', 'adventure'], ['history'], ['nature', 'adventure'], ['nature', 'adventure'], ['entertainment'], ['history'], ['history', 'art_and_architecture', 'entertainment'], ['adventure'], ['art_and_architecture', 'religious'], ['history'], ['nature'], ['history'], ['history'], ['history'], ['history'], ['history', 'art_and_architecture'], ['history'], ['history'], ['adventure'], [], ['adventure'], ['adventure'], [], ['history', 'art_and_architecture'], ['adventure'], ['history'], ['history', 'art_and_architecture'], ['history'], ['history'], ['adventure'], ['history'], ['adventure'], ['history', 'art_and_architecture'], ['adventure'], ['history'], ['adventure'], ['history', 'art_and_architecture', 'entertainment'], ['history'], ['history', 'art_and_architecture'], ['history'], [], ['history'], ['nature', 'adventure'], ['adventure'], ['history'], ['history'], ['history'], ['adventure'], ['history'], ['adventure'], ['adventure'], ['history'], ['history'], ['history'], ['nature', 'adventure', 'entertainment'], ['history'], ['history'], ['history'], ['adventure'], ['nature', 'adventure'], ['nature', 'adventure'], ['nature', 'adventure'], ['adventure'], ['history', 'art_and_architecture', 'entertainment'], ['adventure'], ['nature', 'adventure'], ['history', 'art_and_architecture', 'entertainment'], ['history'], [], ['nature', 'adventure'], ['adventure', 'entertainment'], ['art_and_architecture', 'religious'], ['history'], ['history'], ['art_and_architecture', 'nature', 'adventure'], ['history', 'art_and_architecture', 'entertainment'], ['nature'], ['history'], ['adventure'], ['history', 'art_and_architecture', 'entertainment'], ['history', 'art_and_architecture', 'entertainment'], ['history'], ['nature', 'adventure', 'entertainment'], [], ['history'], ['health_and_lifestyle'], ['history'], ['history'], ['adventure'], ['adventure'], ['history'], ['adventure'], ['industries'], ['adventure'], ['history'], ['history'], ['adventure'], ['adventure', 'entertainment'], ['history'], ['nature', 'adventure', 'entertainment'], ['history'], ['history'], ['adventure', 'health_and_lifestyle'], ['entertainment'], ['nature', 'adventure'], ['history'], ['history'], ['food'], ['history'], ['nature', 'adventure'], ['history', 'art_and_architecture', 'entertainment'], ['adventure'], ['nature', 'adventure'], ['history', 'art_and_architecture', 'entertainment'], ['history'], ['history', 'art_and_architecture'], ['history'], ['nature', 'adventure', 'entertainment'], [], ['nature', 'adventure'], ['history'], ['adventure'], ['health_and_lifestyle'], ['nature', 'adventure'], ['nature', 'adventure'], ['history', 'art_and_architecture', 'religious'], ['history'], ['history'], ['adventure'], ['history'], ['art_and_architecture', 'religious'], ['history'], ['art_and_architecture', 'religious'], ['history'], ['adventure'], ['history', 'art_and_architecture'], ['history'], ['history'], ['history'], ['history', 'art_and_architecture', 'religious'], [], [], ['adventure'], ['nature', 'adventure'], ['history', 'art_and_architecture', 'entertainment'], ['nature', 'adventure'], ['art_and_architecture', 'nature', 'adventure'], ['nature', 'adventure'], ['history'], ['history'], ['adventure'], ['adventure'], ['history'], [], ['history'], ['history'], ['history'], ['art_and_architecture', 'religious'], ['history', 'art_and_architecture', 'entertainment'], ['history', 'art_and_architecture'], ['history', 'art_and_architecture'], ['adventure'], ['history'], ['history', 'art_and_architecture'], ['adventure'], ['history'], ['history'], ['nature', 'adventure'], ['adventure', 'entertainment'], ['history'], ['history'], ['history', 'art_and_architecture', 'entertainment'], ['history'], ['history', 'art_and_architecture', 'entertainment'], ['nature', 'adventure', 'entertainment'], ['history'], ['nature', 'adventure'], ['history', 'art_and_architecture'], ['adventure'], ['history'], ['history', 'art_and_architecture'], ['history'], ['health_and_lifestyle'], ['adventure'], ['adventure'], [], ['adventure', 'entertainment'], ['adventure'], ['history'], ['adventure'], ['history'], ['history', 'art_and_architecture', 'entertainment'], ['nature', 'adventure', 'entertainment']]\n"
     ]
    }
   ],
   "source": [
    "print(super_genre_list)"
   ]
  },
  {
   "cell_type": "code",
   "execution_count": 67,
   "id": "9f41d538",
   "metadata": {},
   "outputs": [],
   "source": [
    "dataset['genre']=super_genre_list"
   ]
  },
  {
   "cell_type": "code",
   "execution_count": 68,
   "id": "d7ce1d34",
   "metadata": {},
   "outputs": [
    {
     "name": "stdout",
     "output_type": "stream",
     "text": [
      "                                    title    latitude  longitude  history  \\\n",
      "0                        Boudhanath Stupa  27.7215062  85.359809     True   \n",
      "1                    Swayambhunath Temple  27.7149298  85.288146     True   \n",
      "2                    Pashupatinath Temple  27.7104461  85.346503     True   \n",
      "3                       Chandragiri Hills  27.6710496  85.262664    False   \n",
      "4                         Kopan Monastery  27.7425438  85.362208     True   \n",
      "...                                   ...         ...        ...      ...   \n",
      "2340         Zeal Nepal Trek & Expedition         NaN        NaN     True   \n",
      "2341                        Mohit Sunuwar         NaN        NaN    False   \n",
      "2342  SITA (Travel Corporation India Ltd)         NaN        NaN     True   \n",
      "2343                       Himalayan Hike         NaN        NaN     True   \n",
      "2344                            River Fun         NaN        NaN    False   \n",
      "\n",
      "      art_and_architecture  nature  adventure  entertainment  \\\n",
      "0                     True   False      False          False   \n",
      "1                     True   False      False          False   \n",
      "2                     True   False      False          False   \n",
      "3                    False    True      False          False   \n",
      "4                     True   False      False          False   \n",
      "...                    ...     ...        ...            ...   \n",
      "2340                 False   False      False          False   \n",
      "2341                 False   False       True          False   \n",
      "2342                 False   False      False          False   \n",
      "2343                  True   False      False           True   \n",
      "2344                 False    True       True           True   \n",
      "\n",
      "      health_and_lifestyle   food  industries  religious  \\\n",
      "0                    False  False       False       True   \n",
      "1                    False  False       False       True   \n",
      "2                    False  False       False       True   \n",
      "3                    False  False       False      False   \n",
      "4                    False  False       False       True   \n",
      "...                    ...    ...         ...        ...   \n",
      "2340                 False  False       False      False   \n",
      "2341                 False  False       False      False   \n",
      "2342                 False  False       False      False   \n",
      "2343                 False  False       False      False   \n",
      "2344                 False  False       False      False   \n",
      "\n",
      "                                               genre  \n",
      "0         [history, art_and_architecture, religious]  \n",
      "1         [history, art_and_architecture, religious]  \n",
      "2         [history, art_and_architecture, religious]  \n",
      "3                                           [nature]  \n",
      "4         [history, art_and_architecture, religious]  \n",
      "...                                              ...  \n",
      "2340                                       [history]  \n",
      "2341                                     [adventure]  \n",
      "2342                                       [history]  \n",
      "2343  [history, art_and_architecture, entertainment]  \n",
      "2344              [nature, adventure, entertainment]  \n",
      "\n",
      "[2345 rows x 13 columns]\n"
     ]
    }
   ],
   "source": [
    "print(dataset)"
   ]
  },
  {
   "cell_type": "code",
   "execution_count": 69,
   "id": "201a18af",
   "metadata": {},
   "outputs": [],
   "source": [
    "dataset=dataset[['title','genre','latitude','longitude']]"
   ]
  },
  {
   "cell_type": "code",
   "execution_count": 70,
   "id": "c04d0633",
   "metadata": {},
   "outputs": [
    {
     "name": "stdout",
     "output_type": "stream",
     "text": [
      "                                    title  \\\n",
      "0                        Boudhanath Stupa   \n",
      "1                    Swayambhunath Temple   \n",
      "2                    Pashupatinath Temple   \n",
      "3                       Chandragiri Hills   \n",
      "4                         Kopan Monastery   \n",
      "...                                   ...   \n",
      "2340         Zeal Nepal Trek & Expedition   \n",
      "2341                        Mohit Sunuwar   \n",
      "2342  SITA (Travel Corporation India Ltd)   \n",
      "2343                       Himalayan Hike   \n",
      "2344                            River Fun   \n",
      "\n",
      "                                               genre    latitude  longitude  \n",
      "0         [history, art_and_architecture, religious]  27.7215062  85.359809  \n",
      "1         [history, art_and_architecture, religious]  27.7149298  85.288146  \n",
      "2         [history, art_and_architecture, religious]  27.7104461  85.346503  \n",
      "3                                           [nature]  27.6710496  85.262664  \n",
      "4         [history, art_and_architecture, religious]  27.7425438  85.362208  \n",
      "...                                              ...         ...        ...  \n",
      "2340                                       [history]         NaN        NaN  \n",
      "2341                                     [adventure]         NaN        NaN  \n",
      "2342                                       [history]         NaN        NaN  \n",
      "2343  [history, art_and_architecture, entertainment]         NaN        NaN  \n",
      "2344              [nature, adventure, entertainment]         NaN        NaN  \n",
      "\n",
      "[2345 rows x 4 columns]\n"
     ]
    }
   ],
   "source": [
    "print(dataset)"
   ]
  },
  {
   "cell_type": "code",
   "execution_count": 71,
   "id": "df65ac7c",
   "metadata": {},
   "outputs": [],
   "source": [
    "# assign IDs to the places\n",
    "id_list=list(range(1,len(dataset)+1))\n",
    "dataset['dest_id']=id_list"
   ]
  },
  {
   "cell_type": "code",
   "execution_count": 72,
   "id": "9bb71961",
   "metadata": {},
   "outputs": [
    {
     "name": "stdout",
     "output_type": "stream",
     "text": [
      "                                    title  \\\n",
      "0                        Boudhanath Stupa   \n",
      "1                    Swayambhunath Temple   \n",
      "2                    Pashupatinath Temple   \n",
      "3                       Chandragiri Hills   \n",
      "4                         Kopan Monastery   \n",
      "...                                   ...   \n",
      "2340         Zeal Nepal Trek & Expedition   \n",
      "2341                        Mohit Sunuwar   \n",
      "2342  SITA (Travel Corporation India Ltd)   \n",
      "2343                       Himalayan Hike   \n",
      "2344                            River Fun   \n",
      "\n",
      "                                               genre    latitude  longitude  \\\n",
      "0         [history, art_and_architecture, religious]  27.7215062  85.359809   \n",
      "1         [history, art_and_architecture, religious]  27.7149298  85.288146   \n",
      "2         [history, art_and_architecture, religious]  27.7104461  85.346503   \n",
      "3                                           [nature]  27.6710496  85.262664   \n",
      "4         [history, art_and_architecture, religious]  27.7425438  85.362208   \n",
      "...                                              ...         ...        ...   \n",
      "2340                                       [history]         NaN        NaN   \n",
      "2341                                     [adventure]         NaN        NaN   \n",
      "2342                                       [history]         NaN        NaN   \n",
      "2343  [history, art_and_architecture, entertainment]         NaN        NaN   \n",
      "2344              [nature, adventure, entertainment]         NaN        NaN   \n",
      "\n",
      "      dest_id  \n",
      "0           1  \n",
      "1           2  \n",
      "2           3  \n",
      "3           4  \n",
      "4           5  \n",
      "...       ...  \n",
      "2340     2341  \n",
      "2341     2342  \n",
      "2342     2343  \n",
      "2343     2344  \n",
      "2344     2345  \n",
      "\n",
      "[2345 rows x 5 columns]\n"
     ]
    }
   ],
   "source": [
    "print(dataset)"
   ]
  },
  {
   "cell_type": "code",
   "execution_count": 73,
   "id": "a01a658c",
   "metadata": {},
   "outputs": [],
   "source": [
    "dataset=dataset[['dest_id','title','genre','latitude','longitude']]"
   ]
  },
  {
   "cell_type": "code",
   "execution_count": 74,
   "id": "5fdb571c",
   "metadata": {},
   "outputs": [
    {
     "name": "stdout",
     "output_type": "stream",
     "text": [
      "      dest_id                                title  \\\n",
      "0           1                     Boudhanath Stupa   \n",
      "1           2                 Swayambhunath Temple   \n",
      "2           3                 Pashupatinath Temple   \n",
      "3           4                    Chandragiri Hills   \n",
      "4           5                      Kopan Monastery   \n",
      "...       ...                                  ...   \n",
      "2340     2341         Zeal Nepal Trek & Expedition   \n",
      "2341     2342                        Mohit Sunuwar   \n",
      "2342     2343  SITA (Travel Corporation India Ltd)   \n",
      "2343     2344                       Himalayan Hike   \n",
      "2344     2345                            River Fun   \n",
      "\n",
      "                                               genre    latitude  longitude  \n",
      "0         [history, art_and_architecture, religious]  27.7215062  85.359809  \n",
      "1         [history, art_and_architecture, religious]  27.7149298  85.288146  \n",
      "2         [history, art_and_architecture, religious]  27.7104461  85.346503  \n",
      "3                                           [nature]  27.6710496  85.262664  \n",
      "4         [history, art_and_architecture, religious]  27.7425438  85.362208  \n",
      "...                                              ...         ...        ...  \n",
      "2340                                       [history]         NaN        NaN  \n",
      "2341                                     [adventure]         NaN        NaN  \n",
      "2342                                       [history]         NaN        NaN  \n",
      "2343  [history, art_and_architecture, entertainment]         NaN        NaN  \n",
      "2344              [nature, adventure, entertainment]         NaN        NaN  \n",
      "\n",
      "[2345 rows x 5 columns]\n"
     ]
    }
   ],
   "source": [
    "print(dataset)"
   ]
  },
  {
   "cell_type": "code",
   "execution_count": 75,
   "id": "e736ea2f",
   "metadata": {},
   "outputs": [
    {
     "name": "stdout",
     "output_type": "stream",
     "text": [
      "      dest_id                                title  \\\n",
      "0           1                     Boudhanath Stupa   \n",
      "1           2                 Swayambhunath Temple   \n",
      "2           3                 Pashupatinath Temple   \n",
      "3           4                    Chandragiri Hills   \n",
      "4           5                      Kopan Monastery   \n",
      "...       ...                                  ...   \n",
      "2340     2341         Zeal Nepal Trek & Expedition   \n",
      "2341     2342                        Mohit Sunuwar   \n",
      "2342     2343  SITA (Travel Corporation India Ltd)   \n",
      "2343     2344                       Himalayan Hike   \n",
      "2344     2345                            River Fun   \n",
      "\n",
      "                                           genre    latitude  longitude  \n",
      "0         history:art_and_architecture:religious  27.7215062  85.359809  \n",
      "1         history:art_and_architecture:religious  27.7149298  85.288146  \n",
      "2         history:art_and_architecture:religious  27.7104461  85.346503  \n",
      "3                                         nature  27.6710496  85.262664  \n",
      "4         history:art_and_architecture:religious  27.7425438  85.362208  \n",
      "...                                          ...         ...        ...  \n",
      "2340                                     history         NaN        NaN  \n",
      "2341                                   adventure         NaN        NaN  \n",
      "2342                                     history         NaN        NaN  \n",
      "2343  history:art_and_architecture:entertainment         NaN        NaN  \n",
      "2344              nature:adventure:entertainment         NaN        NaN  \n",
      "\n",
      "[2345 rows x 5 columns]\n"
     ]
    }
   ],
   "source": [
    "for i in range(len(dataset)):\n",
    "    genre_string=\"\"\n",
    "    for entry in dataset.loc[i,\"genre\"]:\n",
    "        genre_string += ':' + str(entry)\n",
    "    dataset.loc[i,\"genre\"]=genre_string[1:]\n",
    "\n",
    "print(dataset)"
   ]
  },
  {
   "cell_type": "code",
   "execution_count": 76,
   "id": "25ca89c1",
   "metadata": {},
   "outputs": [],
   "source": [
    "dataset.to_csv(\"test_dataset_3.csv\",index=None)"
   ]
  },
  {
   "cell_type": "code",
   "execution_count": 77,
   "id": "62d72031",
   "metadata": {},
   "outputs": [],
   "source": [
    "# we have a desired format now\n",
    "# still, we need to update the img_url column\n",
    "# and, add the scraped latitude and longitude too"
   ]
  },
  {
   "cell_type": "code",
   "execution_count": 78,
   "id": "bd029b31",
   "metadata": {},
   "outputs": [],
   "source": [
    "dataset_with_200_latlong=pd.read_csv(\"../Datasets/destinations_of_ktm_updated_200_latlong.csv\")"
   ]
  },
  {
   "cell_type": "code",
   "execution_count": 79,
   "id": "f8d6e863",
   "metadata": {},
   "outputs": [
    {
     "name": "stdout",
     "output_type": "stream",
     "text": [
      "                                    title avg_rating  voted_by  \\\n",
      "0                        Boudhanath Stupa        4.5      8897   \n",
      "1                    Swayambhunath Temple        4.5      6203   \n",
      "2                    Pashupatinath Temple        4.5      4937   \n",
      "3                       Chandragiri Hills        4.5       399   \n",
      "4                         Kopan Monastery        4.5       787   \n",
      "...                                   ...        ...       ...   \n",
      "2340         Zeal Nepal Trek & Expedition          N         0   \n",
      "2341                        Mohit Sunuwar          N         0   \n",
      "2342  SITA (Travel Corporation India Ltd)          N         0   \n",
      "2343                       Himalayan Hike          N         0   \n",
      "2344                            River Fun          N         0   \n",
      "\n",
      "                                            genre    latitude  longitude  \n",
      "0                                 Religious Sites  27.7215062  85.359809  \n",
      "1                                 Religious Sites  27.7149298  85.288146  \n",
      "2                                 Religious Sites  27.7104461  85.346503  \n",
      "3                                       Mountains  27.6710496  85.262664  \n",
      "4                                 Religious Sites  27.7425438  85.362208  \n",
      "...                                           ...         ...        ...  \n",
      "2340     Multi-day Tours • River Rafting & Tubing         NaN        NaN  \n",
      "2341  Parasailing & Paragliding • Multi-day Tours         NaN        NaN  \n",
      "2342              Multi-day Tours • Balloon Rides         NaN        NaN  \n",
      "2343                 City Tours • Multi-day Tours         NaN        NaN  \n",
      "2344    River Rafting & Tubing • Taxis & Shuttles         NaN        NaN  \n",
      "\n",
      "[2345 rows x 6 columns]\n"
     ]
    }
   ],
   "source": [
    "print(dataset_with_200_latlong)"
   ]
  },
  {
   "cell_type": "code",
   "execution_count": 81,
   "id": "b5ca2aee",
   "metadata": {},
   "outputs": [],
   "source": [
    "# import those into the new dataset\n",
    "dataset[\"latitude\"]=dataset_with_200_latlong[\"latitude\"]\n",
    "dataset[\"longitude\"]=dataset_with_200_latlong[\"longitude\"]"
   ]
  },
  {
   "cell_type": "code",
   "execution_count": 83,
   "id": "e15427da",
   "metadata": {},
   "outputs": [
    {
     "name": "stdout",
     "output_type": "stream",
     "text": [
      "     dest_id                                title  \\\n",
      "0          1                     Boudhanath Stupa   \n",
      "1          2                 Swayambhunath Temple   \n",
      "2          3                 Pashupatinath Temple   \n",
      "3          4                    Chandragiri Hills   \n",
      "4          5                      Kopan Monastery   \n",
      "..       ...                                  ...   \n",
      "196      197  Nepal Alibaba Treks & Tours Pvt Ltd   \n",
      "197      198                  Alpine Ramble Treks   \n",
      "198      199      Info Nepal Treks and Expedition   \n",
      "199      200          Epic Adventures - Day Tours   \n",
      "200      201               Hiking Adventure Treks   \n",
      "\n",
      "                                          genre    latitude  longitude  \n",
      "0        history:art_and_architecture:religious  27.7215062  85.359809  \n",
      "1        history:art_and_architecture:religious  27.7149298  85.288146  \n",
      "2        history:art_and_architecture:religious  27.7104461  85.346503  \n",
      "3                                        nature  27.6710496  85.262664  \n",
      "4        history:art_and_architecture:religious  27.7425438  85.362208  \n",
      "..                                          ...         ...        ...  \n",
      "196                                     history  27.7375441  85.302841  \n",
      "197                                     history  27.7191624  85.306492  \n",
      "198  history:art_and_architecture:entertainment  27.7160399  85.308885  \n",
      "199              art_and_architecture:religious  27.7009722  85.280179  \n",
      "200  history:art_and_architecture:entertainment   27.717671  85.309687  \n",
      "\n",
      "[201 rows x 5 columns]\n"
     ]
    }
   ],
   "source": [
    "print(dataset[:201])"
   ]
  },
  {
   "cell_type": "code",
   "execution_count": 84,
   "id": "181dde88",
   "metadata": {},
   "outputs": [
    {
     "name": "stdout",
     "output_type": "stream",
     "text": [
      "                                    title avg_rating  voted_by  \\\n",
      "0                        Boudhanath Stupa        4.5      8897   \n",
      "1                    Swayambhunath Temple        4.5      6203   \n",
      "2                    Pashupatinath Temple        4.5      4937   \n",
      "3                       Chandragiri Hills        4.5       399   \n",
      "4                         Kopan Monastery        4.5       787   \n",
      "...                                   ...        ...       ...   \n",
      "2340         Zeal Nepal Trek & Expedition          N         0   \n",
      "2341                        Mohit Sunuwar          N         0   \n",
      "2342  SITA (Travel Corporation India Ltd)          N         0   \n",
      "2343                       Himalayan Hike          N         0   \n",
      "2344                            River Fun          N         0   \n",
      "\n",
      "                                            genre    latitude  longitude  \\\n",
      "0                                 Religious Sites  27.7215062  85.359809   \n",
      "1                                 Religious Sites  27.7149298  85.288146   \n",
      "2                                 Religious Sites  27.7104461  85.346503   \n",
      "3                                       Mountains  27.6710496  85.262664   \n",
      "4                                 Religious Sites  27.7425438  85.362208   \n",
      "...                                           ...         ...        ...   \n",
      "2340     Multi-day Tours • River Rafting & Tubing         NaN        NaN   \n",
      "2341  Parasailing & Paragliding • Multi-day Tours         NaN        NaN   \n",
      "2342              Multi-day Tours • Balloon Rides         NaN        NaN   \n",
      "2343                 City Tours • Multi-day Tours         NaN        NaN   \n",
      "2344    River Rafting & Tubing • Taxis & Shuttles         NaN        NaN   \n",
      "\n",
      "                                                img_url  \n",
      "0     data:image/jpeg;base64,/9j/4AAQSkZJRgABAQAAAQA...  \n",
      "1     data:image/jpeg;base64,/9j/4AAQSkZJRgABAQAAAQA...  \n",
      "2     data:image/jpeg;base64,/9j/4AAQSkZJRgABAQAAAQA...  \n",
      "3     data:image/jpeg;base64,/9j/4AAQSkZJRgABAQAAAQA...  \n",
      "4     data:image/jpeg;base64,/9j/4AAQSkZJRgABAQAAAQA...  \n",
      "...                                                 ...  \n",
      "2340                                                NaN  \n",
      "2341                                                NaN  \n",
      "2342                                                NaN  \n",
      "2343                                                NaN  \n",
      "2344                                                NaN  \n",
      "\n",
      "[2345 rows x 7 columns]\n"
     ]
    }
   ],
   "source": [
    "# also import the base64 image to the new dataset\n",
    "dataset_with_img=pd.read_csv(\"../Datasets/destinations_of_kathmandu_updated_with_latlong_and_image.csv\")\n",
    "print(dataset_with_img)"
   ]
  },
  {
   "cell_type": "code",
   "execution_count": 85,
   "id": "be99f320",
   "metadata": {},
   "outputs": [],
   "source": [
    "dataset[\"img_url\"]=dataset_with_img[\"img_url\"]"
   ]
  },
  {
   "cell_type": "code",
   "execution_count": 86,
   "id": "b2b1a3ea",
   "metadata": {},
   "outputs": [
    {
     "name": "stdout",
     "output_type": "stream",
     "text": [
      "      dest_id                                title  \\\n",
      "0           1                     Boudhanath Stupa   \n",
      "1           2                 Swayambhunath Temple   \n",
      "2           3                 Pashupatinath Temple   \n",
      "3           4                    Chandragiri Hills   \n",
      "4           5                      Kopan Monastery   \n",
      "...       ...                                  ...   \n",
      "2340     2341         Zeal Nepal Trek & Expedition   \n",
      "2341     2342                        Mohit Sunuwar   \n",
      "2342     2343  SITA (Travel Corporation India Ltd)   \n",
      "2343     2344                       Himalayan Hike   \n",
      "2344     2345                            River Fun   \n",
      "\n",
      "                                           genre    latitude  longitude  \\\n",
      "0         history:art_and_architecture:religious  27.7215062  85.359809   \n",
      "1         history:art_and_architecture:religious  27.7149298  85.288146   \n",
      "2         history:art_and_architecture:religious  27.7104461  85.346503   \n",
      "3                                         nature  27.6710496  85.262664   \n",
      "4         history:art_and_architecture:religious  27.7425438  85.362208   \n",
      "...                                          ...         ...        ...   \n",
      "2340                                     history         NaN        NaN   \n",
      "2341                                   adventure         NaN        NaN   \n",
      "2342                                     history         NaN        NaN   \n",
      "2343  history:art_and_architecture:entertainment         NaN        NaN   \n",
      "2344              nature:adventure:entertainment         NaN        NaN   \n",
      "\n",
      "                                                img_url  \n",
      "0     data:image/jpeg;base64,/9j/4AAQSkZJRgABAQAAAQA...  \n",
      "1     data:image/jpeg;base64,/9j/4AAQSkZJRgABAQAAAQA...  \n",
      "2     data:image/jpeg;base64,/9j/4AAQSkZJRgABAQAAAQA...  \n",
      "3     data:image/jpeg;base64,/9j/4AAQSkZJRgABAQAAAQA...  \n",
      "4     data:image/jpeg;base64,/9j/4AAQSkZJRgABAQAAAQA...  \n",
      "...                                                 ...  \n",
      "2340                                                NaN  \n",
      "2341                                                NaN  \n",
      "2342                                                NaN  \n",
      "2343                                                NaN  \n",
      "2344                                                NaN  \n",
      "\n",
      "[2345 rows x 6 columns]\n"
     ]
    }
   ],
   "source": [
    "print(dataset)"
   ]
  },
  {
   "cell_type": "code",
   "execution_count": 87,
   "id": "b3425743",
   "metadata": {},
   "outputs": [],
   "source": [
    "dataset.to_csv(\"final_destinations_of_ktm.csv\",index=None)"
   ]
  },
  {
   "cell_type": "code",
   "execution_count": 88,
   "id": "2482709f",
   "metadata": {},
   "outputs": [],
   "source": [
    "# Now time to look for discrepancies"
   ]
  },
  {
   "cell_type": "code",
   "execution_count": 91,
   "id": "13d9dff9",
   "metadata": {},
   "outputs": [],
   "source": [
    "dataset_200=dataset[:201]"
   ]
  },
  {
   "cell_type": "code",
   "execution_count": 95,
   "id": "2f688329",
   "metadata": {},
   "outputs": [
    {
     "name": "stdout",
     "output_type": "stream",
     "text": [
      "178\n",
      "178\n",
      "     dest_id                                           title  \\\n",
      "103      104                            Vishnu Mandir Temple   \n",
      "104      105                                     Dolma Treks   \n",
      "105      106                             Chyasin Dega Temple   \n",
      "108      109                    Bachhareshwari　Mandir Temple   \n",
      "111      112                        Gorakhnath Mandir Temple   \n",
      "113      114                             Indoor Sports Arena   \n",
      "114      115                      Mahendreswor Mandir Temple   \n",
      "118      119  Dirghaman & Ganeshman Chitrakar Art Foundation   \n",
      "124      125                               Woodcraft Gallery   \n",
      "126      127                                 Aviation Museum   \n",
      "134      135            Kotilingeshwor Mahadev Mandir Temple   \n",
      "137      138                               Manjushree Temple   \n",
      "140      141                      The Charumati Vihara Stupa   \n",
      "143      144                                  Krishna Temple   \n",
      "145      146                               Bijeshwari Temple   \n",
      "146      147                                   Shobabaghwati   \n",
      "150      151                           Mahadev Mandir Temple   \n",
      "151      152                              Ram Chandra Temple   \n",
      "152      153                                Espace de visite   \n",
      "167      168                    Thai Nepal Travels and Tours   \n",
      "174      175             Exciting Nepal Treks and Expedition   \n",
      "175      176                A1 Excursion - Private Day Tours   \n",
      "\n",
      "                                          genre    latitude  longitude img_url  \n",
      "103         history:art_and_architecture:nature  27.7399457  85.277015     NaN  \n",
      "104                history:art_and_architecture  27.7399457  85.277015     NaN  \n",
      "105      history:art_and_architecture:religious  27.7399457  85.277015     NaN  \n",
      "108         history:art_and_architecture:nature  27.7399457  85.277015     NaN  \n",
      "111         history:art_and_architecture:nature  27.7399457  85.277015     NaN  \n",
      "113                               entertainment  27.7399457  85.277015     NaN  \n",
      "114                history:art_and_architecture  27.7399457  85.277015     NaN  \n",
      "118      history:art_and_architecture:religious  27.7399457  85.277015     NaN  \n",
      "124      history:art_and_architecture:religious  27.7154575  85.306667     NaN  \n",
      "126                history:art_and_architecture  27.6937953  85.351280     NaN  \n",
      "134                history:art_and_architecture  27.7399457  85.277015     NaN  \n",
      "137      history:art_and_architecture:religious  27.7399457  85.277015     NaN  \n",
      "140                history:art_and_architecture  27.7399457  85.277015     NaN  \n",
      "143      history:art_and_architecture:religious  27.7399457  85.277015     NaN  \n",
      "145         history:art_and_architecture:nature  27.7399457  85.277015     NaN  \n",
      "146         history:art_and_architecture:nature  27.7149298  85.288146     NaN  \n",
      "150                history:art_and_architecture  27.7399457  85.277015     NaN  \n",
      "151         history:art_and_architecture:nature  27.7399457  85.277015     NaN  \n",
      "152         history:art_and_architecture:nature  27.7399457  85.277015     NaN  \n",
      "167  history:art_and_architecture:entertainment  27.7399457  85.277015     NaN  \n",
      "174                                     history  27.7399457  85.277015     NaN  \n",
      "175                                      nature  27.7399457  85.277015     NaN  \n"
     ]
    }
   ],
   "source": [
    "# first look for the duplicate entries of lat,long\n",
    "\n",
    "print(len(dataset_200['latitude'].unique()))\n",
    "print(len(dataset_200['longitude'].unique()))\n",
    "\n",
    "#print out the duplicated latitude,longitude\n",
    "duplicate_list = dataset_200[dataset_200.duplicated(['latitude','longitude'])]\n",
    "print(duplicate_list)"
   ]
  },
  {
   "cell_type": "code",
   "execution_count": 96,
   "id": "08d3f12d",
   "metadata": {},
   "outputs": [
    {
     "name": "stdout",
     "output_type": "stream",
     "text": [
      "['Vishnu Mandir Temple', 'Dolma Treks', 'Chyasin Dega Temple', 'Bachhareshwari\\u3000Mandir Temple', 'Gorakhnath Mandir Temple', 'Indoor Sports Arena', 'Mahendreswor Mandir Temple', 'Dirghaman & Ganeshman Chitrakar Art Foundation', 'Woodcraft Gallery', 'Aviation Museum', 'Kotilingeshwor Mahadev Mandir Temple', 'Manjushree Temple', 'The Charumati Vihara Stupa', 'Krishna Temple', 'Bijeshwari Temple', 'Shobabaghwati', 'Mahadev Mandir Temple', 'Ram Chandra Temple', 'Espace de visite', 'Thai Nepal Travels and Tours', 'Exciting Nepal Treks and Expedition', 'A1 Excursion - Private Day Tours']\n"
     ]
    }
   ],
   "source": [
    "# titles of the destinations in the duplicated list\n",
    "names_of_repeated_destinations=duplicate_list['title'].tolist()\n",
    "print(names_of_repeated_destinations)"
   ]
  },
  {
   "cell_type": "code",
   "execution_count": 98,
   "id": "edff7005",
   "metadata": {},
   "outputs": [
    {
     "name": "stderr",
     "output_type": "stream",
     "text": [
      "/tmp/ipykernel_2311/263136968.py:15: DeprecationWarning: find_elements_by_* commands are deprecated. Please use find_elements() instead\n",
      "  inputElems = driver.find_elements_by_css_selector('input[name=q]')\n"
     ]
    },
    {
     "name": "stdout",
     "output_type": "stream",
     "text": [
      "['https://www.google.com/maps/search/Vishnu+Mandir+Temple+kathmandu/@27.7217192,85.3475327,13z/data=!3m1!4b1', 'https://www.google.com/maps/place/Happyland+Treks+Pvt.+Ltd./@27.7175991,85.3083644,17z/data=!3m1!4b1!4m5!3m4!1s0x39eb18fce3113da5:0x9a63e1e68ebb118c!8m2!3d27.7175991!4d85.3105531', 'https://www.google.com/maps/search/Chyasin+Dega+Temple+kathmandu/@27.7216531,85.2424638,11z/data=!3m1!4b1', 'https://www.google.com/maps/search/Bachhareshwari%E3%80%80Mandir+Temple+kathmandu/@27.7217192,85.3475327,13z/data=!3m1!4b1', 'https://www.google.com/maps/search/Gorakhnath+Mandir+Temple+kathmandu/@27.7217192,85.3475327,13z/data=!3m1!4b1', 'https://www.google.com/maps/search/Indoor+Sports+Arena+kathmandu/@27.7217192,85.3475327,13z/data=!3m1!4b1', 'https://www.google.com/maps/search/Mahendreswor+Mandir+Temple+kathmandu/@27.7217192,85.3475327,13z/data=!3m1!4b1', 'https://www.google.com/maps/search/Dirghaman+%26+Ganeshman+Chitrakar+Art+Foundation+kathmandu/@27.7216531,85.2424638,11z/data=!3m1!4b1', 'https://www.google.com/maps/place/Woodcraft+Gallery/@27.7154575,85.3066668,17z/data=!3m1!4b1!4m5!3m4!1s0x39eb19ff950c2a55:0x3d0e41083593b6a2!8m2!3d27.7154949!4d85.3088654', 'https://www.google.com/maps/search/Aviation+Museum+kathmandu/@27.6937953,85.35128,17z/data=!3m1!4b1', 'https://www.google.com/maps/search/Kotilingeshwor+Mahadev+Mandir+Temple+kathmandu/@27.7217192,85.3475327,13z/data=!3m1!4b1', 'https://www.google.com/maps/search/Manjushree+Temple+kathmandu/@27.6956379,85.2886814,14z', 'https://www.google.com/maps/search/The+Charumati+Vihara+Stupa+kathmandu/@27.7217192,85.3475327,13z/data=!3m1!4b1', 'https://www.google.com/maps/search/Krishna+Temple+kathmandu/@27.7217192,85.3475327,13z/data=!3m1!4b1', 'https://www.google.com/maps/search/Bijeshwari+Temple+kathmandu/@27.7217192,85.3475327,13z/data=!3m1!4b1', 'https://www.google.com/maps/place/%E0%A4%B8%E0%A5%8D%E0%A4%B5%E0%A4%AF%E0%A4%AE%E0%A5%8D%E0%A4%AD%E0%A5%82+%E0%A4%AE%E0%A4%B9%E0%A4%BE%E0%A4%9A%E0%A5%88%E0%A4%A4%E0%A5%8D%E0%A4%AF/@27.7149298,85.2881456,17z/data=!3m1!4b1!4m5!3m4!1s0x39eb188d9b82c8ad:0xae31bde410797bf7!8m2!3d27.7149298!4d85.2903343', 'https://www.google.com/maps/search/Mahadev+Mandir+Temple+kathmandu/@27.7217192,85.3475327,13z/data=!3m1!4b1', 'https://www.google.com/maps/search/Ram+Chandra+Temple+kathmandu/@27.7217192,85.3475327,13z/data=!3m1!4b1', 'https://www.google.com/maps/search/Espace+de+visite+kathmandu/@27.7217192,85.3475327,13z/data=!3m1!4b1', 'https://www.google.com/maps/search/Thai+Nepal+Travels+and+Tours+kathmandu/@27.7236511,85.3121227,15z/data=!3m1!4b1', 'https://www.google.com/maps/search/Exciting+Nepal+Treks+and+Expedition+kathmandu/@27.7139775,85.3067482,16z/data=!3m1!4b1', 'https://www.google.com/maps/search/A1+Excursion+-+Private+Day+Tours+kathmandu/@27.7193564,85.3044406,15z/data=!3m1!4b1']\n"
     ]
    }
   ],
   "source": [
    "# let's try scraping the latitude,longitude of the list \n",
    "#Sometimes Google Duplicates That Input Field So we have to iterate...\n",
    "from selenium import webdriver\n",
    "from selenium.webdriver.common.keys import Keys\n",
    "import time\n",
    "\n",
    "search_items=names_of_repeated_destinations\n",
    "driver=webdriver.Chrome('chromedriver')\n",
    "\n",
    "urls_of_places=[]\n",
    "\n",
    "for item in search_items:\n",
    "    time.sleep(2)\n",
    "    driver.get('https://maps.google.com')\n",
    "    inputElems = driver.find_elements_by_css_selector('input[name=q]')\n",
    "    for inputElem in inputElems:\n",
    "        inputElem.send_keys(item + ' kathmandu')\n",
    "\n",
    "        # Presses Enter Key Like When You Press Enter Key to Search\n",
    "        inputElem.send_keys(Keys.ENTER) # for nepal dataset\n",
    "        # change to 'kathmandu' for the kathmandu dataset\n",
    "        \n",
    "        time.sleep(7)\n",
    "        # Getting current URL\n",
    "        try:\n",
    "            get_url = driver.current_url\n",
    "        except:\n",
    "            get_url='Nan'\n",
    "            \n",
    "        urls_of_places.append(get_url)\n",
    "\n",
    "        inputElems.clear()\n",
    "\n",
    "\n",
    "driver.close()\n",
    "\n",
    "print(urls_of_places)"
   ]
  },
  {
   "cell_type": "code",
   "execution_count": 99,
   "id": "7a6613e2",
   "metadata": {},
   "outputs": [],
   "source": [
    "import re\n",
    "#function to extract the latitude and longitude from a google maps link \n",
    "def lat_and_long(url):\n",
    "    x = re.findall(\"\\@(-?[\\d\\.]*\\,[\\d\\.]*)\", url)\n",
    "    [lat,long]=x[0].split(',')\n",
    "    return lat,long"
   ]
  },
  {
   "cell_type": "code",
   "execution_count": 100,
   "id": "63019344",
   "metadata": {},
   "outputs": [],
   "source": [
    "#define two lists to hold latitude and longitude values \n",
    "lat_list=[]\n",
    "long_list=[]"
   ]
  },
  {
   "cell_type": "code",
   "execution_count": 101,
   "id": "10322696",
   "metadata": {},
   "outputs": [
    {
     "name": "stdout",
     "output_type": "stream",
     "text": [
      "['27.7217192', '27.7175991', '27.7216531', '27.7217192', '27.7217192', '27.7217192', '27.7217192', '27.7216531', '27.7154575', '27.6937953', '27.7217192', '27.6956379', '27.7217192', '27.7217192', '27.7217192', '27.7149298', '27.7217192', '27.7217192', '27.7217192', '27.7236511', '27.7139775', '27.7193564']\n",
      "['85.3475327', '85.3083644', '85.2424638', '85.3475327', '85.3475327', '85.3475327', '85.3475327', '85.2424638', '85.3066668', '85.35128', '85.3475327', '85.2886814', '85.3475327', '85.3475327', '85.3475327', '85.2881456', '85.3475327', '85.3475327', '85.3475327', '85.3121227', '85.3067482', '85.3044406']\n"
     ]
    }
   ],
   "source": [
    "for url in urls_of_places:\n",
    "    lat,long=lat_and_long(url)\n",
    "    lat_list.append(lat)\n",
    "    long_list.append(long)\n",
    "print(lat_list)\n",
    "print(long_list)"
   ]
  },
  {
   "cell_type": "code",
   "execution_count": 102,
   "id": "9d42f692",
   "metadata": {},
   "outputs": [
    {
     "name": "stdout",
     "output_type": "stream",
     "text": [
      "['27.6937953' '27.6956379' '27.7139775' '27.7149298' '27.7154575'\n",
      " '27.7175991' '27.7193564' '27.7216531' '27.7217192' '27.7236511']\n"
     ]
    }
   ],
   "source": [
    "print(np.unique(lat_list))"
   ]
  },
  {
   "cell_type": "code",
   "execution_count": 103,
   "id": "62be26ab",
   "metadata": {},
   "outputs": [
    {
     "name": "stdout",
     "output_type": "stream",
     "text": [
      "['85.2424638' '85.2881456' '85.2886814' '85.3044406' '85.3066668'\n",
      " '85.3067482' '85.3083644' '85.3121227' '85.3475327' '85.35128']\n"
     ]
    }
   ],
   "source": [
    "print(np.unique(long_list))"
   ]
  },
  {
   "cell_type": "code",
   "execution_count": 105,
   "id": "169bf219",
   "metadata": {},
   "outputs": [
    {
     "name": "stdout",
     "output_type": "stream",
     "text": [
      "     dest_id                                           title  \\\n",
      "103      104                            Vishnu Mandir Temple   \n",
      "104      105                                     Dolma Treks   \n",
      "105      106                             Chyasin Dega Temple   \n",
      "108      109                    Bachhareshwari　Mandir Temple   \n",
      "111      112                        Gorakhnath Mandir Temple   \n",
      "113      114                             Indoor Sports Arena   \n",
      "114      115                      Mahendreswor Mandir Temple   \n",
      "118      119  Dirghaman & Ganeshman Chitrakar Art Foundation   \n",
      "124      125                               Woodcraft Gallery   \n",
      "126      127                                 Aviation Museum   \n",
      "134      135            Kotilingeshwor Mahadev Mandir Temple   \n",
      "137      138                               Manjushree Temple   \n",
      "140      141                      The Charumati Vihara Stupa   \n",
      "143      144                                  Krishna Temple   \n",
      "145      146                               Bijeshwari Temple   \n",
      "146      147                                   Shobabaghwati   \n",
      "150      151                           Mahadev Mandir Temple   \n",
      "151      152                              Ram Chandra Temple   \n",
      "152      153                                Espace de visite   \n",
      "167      168                    Thai Nepal Travels and Tours   \n",
      "174      175             Exciting Nepal Treks and Expedition   \n",
      "175      176                A1 Excursion - Private Day Tours   \n",
      "\n",
      "                                          genre    latitude  longitude img_url  \n",
      "103         history:art_and_architecture:nature  27.7399457  85.277015     NaN  \n",
      "104                history:art_and_architecture  27.7399457  85.277015     NaN  \n",
      "105      history:art_and_architecture:religious  27.7399457  85.277015     NaN  \n",
      "108         history:art_and_architecture:nature  27.7399457  85.277015     NaN  \n",
      "111         history:art_and_architecture:nature  27.7399457  85.277015     NaN  \n",
      "113                               entertainment  27.7399457  85.277015     NaN  \n",
      "114                history:art_and_architecture  27.7399457  85.277015     NaN  \n",
      "118      history:art_and_architecture:religious  27.7399457  85.277015     NaN  \n",
      "124      history:art_and_architecture:religious  27.7154575  85.306667     NaN  \n",
      "126                history:art_and_architecture  27.6937953  85.351280     NaN  \n",
      "134                history:art_and_architecture  27.7399457  85.277015     NaN  \n",
      "137      history:art_and_architecture:religious  27.7399457  85.277015     NaN  \n",
      "140                history:art_and_architecture  27.7399457  85.277015     NaN  \n",
      "143      history:art_and_architecture:religious  27.7399457  85.277015     NaN  \n",
      "145         history:art_and_architecture:nature  27.7399457  85.277015     NaN  \n",
      "146         history:art_and_architecture:nature  27.7149298  85.288146     NaN  \n",
      "150                history:art_and_architecture  27.7399457  85.277015     NaN  \n",
      "151         history:art_and_architecture:nature  27.7399457  85.277015     NaN  \n",
      "152         history:art_and_architecture:nature  27.7399457  85.277015     NaN  \n",
      "167  history:art_and_architecture:entertainment  27.7399457  85.277015     NaN  \n",
      "174                                     history  27.7399457  85.277015     NaN  \n",
      "175                                      nature  27.7399457  85.277015     NaN  \n"
     ]
    }
   ],
   "source": [
    "print(duplicate_list)"
   ]
  },
  {
   "cell_type": "code",
   "execution_count": 106,
   "id": "c5ba19d5",
   "metadata": {},
   "outputs": [
    {
     "name": "stderr",
     "output_type": "stream",
     "text": [
      "/tmp/ipykernel_2311/1443986015.py:1: SettingWithCopyWarning: \n",
      "A value is trying to be set on a copy of a slice from a DataFrame.\n",
      "Try using .loc[row_indexer,col_indexer] = value instead\n",
      "\n",
      "See the caveats in the documentation: https://pandas.pydata.org/pandas-docs/stable/user_guide/indexing.html#returning-a-view-versus-a-copy\n",
      "  duplicate_list['latitude']=lat_list\n",
      "/tmp/ipykernel_2311/1443986015.py:2: SettingWithCopyWarning: \n",
      "A value is trying to be set on a copy of a slice from a DataFrame.\n",
      "Try using .loc[row_indexer,col_indexer] = value instead\n",
      "\n",
      "See the caveats in the documentation: https://pandas.pydata.org/pandas-docs/stable/user_guide/indexing.html#returning-a-view-versus-a-copy\n",
      "  duplicate_list['longitude']=long_list\n"
     ]
    }
   ],
   "source": [
    "duplicate_list['latitude']=lat_list\n",
    "duplicate_list['longitude']=long_list"
   ]
  },
  {
   "cell_type": "code",
   "execution_count": 107,
   "id": "b79426b0",
   "metadata": {},
   "outputs": [
    {
     "name": "stdout",
     "output_type": "stream",
     "text": [
      "['27.7217192' '27.7175991' '27.7216531' '27.7154575' '27.6937953'\n",
      " '27.6956379' '27.7149298' '27.7236511' '27.7139775' '27.7193564']\n"
     ]
    }
   ],
   "source": [
    "print(duplicate_list['latitude'].unique())"
   ]
  },
  {
   "cell_type": "code",
   "execution_count": 111,
   "id": "77454981",
   "metadata": {},
   "outputs": [
    {
     "name": "stdout",
     "output_type": "stream",
     "text": [
      "178\n"
     ]
    }
   ],
   "source": [
    "print(len(dataset_200['latitude'].unique()))"
   ]
  },
  {
   "cell_type": "code",
   "execution_count": 120,
   "id": "09989799",
   "metadata": {},
   "outputs": [
    {
     "name": "stdout",
     "output_type": "stream",
     "text": [
      "     dest_id                                           title  \\\n",
      "103      104                            Vishnu Mandir Temple   \n",
      "104      105                                     Dolma Treks   \n",
      "105      106                             Chyasin Dega Temple   \n",
      "108      109                    Bachhareshwari　Mandir Temple   \n",
      "111      112                        Gorakhnath Mandir Temple   \n",
      "113      114                             Indoor Sports Arena   \n",
      "114      115                      Mahendreswor Mandir Temple   \n",
      "118      119  Dirghaman & Ganeshman Chitrakar Art Foundation   \n",
      "124      125                               Woodcraft Gallery   \n",
      "126      127                                 Aviation Museum   \n",
      "134      135            Kotilingeshwor Mahadev Mandir Temple   \n",
      "137      138                               Manjushree Temple   \n",
      "140      141                      The Charumati Vihara Stupa   \n",
      "143      144                                  Krishna Temple   \n",
      "145      146                               Bijeshwari Temple   \n",
      "146      147                                   Shobabaghwati   \n",
      "150      151                           Mahadev Mandir Temple   \n",
      "151      152                              Ram Chandra Temple   \n",
      "152      153                                Espace de visite   \n",
      "167      168                    Thai Nepal Travels and Tours   \n",
      "174      175             Exciting Nepal Treks and Expedition   \n",
      "175      176                A1 Excursion - Private Day Tours   \n",
      "\n",
      "                                          genre    latitude   longitude  \\\n",
      "103         history:art_and_architecture:nature  27.7217192  85.3475327   \n",
      "104                history:art_and_architecture  27.7175991  85.3083644   \n",
      "105      history:art_and_architecture:religious  27.7216531  85.2424638   \n",
      "108         history:art_and_architecture:nature  27.7217192  85.3475327   \n",
      "111         history:art_and_architecture:nature  27.7217192  85.3475327   \n",
      "113                               entertainment  27.7217192  85.3475327   \n",
      "114                history:art_and_architecture  27.7217192  85.3475327   \n",
      "118      history:art_and_architecture:religious  27.7216531  85.2424638   \n",
      "124      history:art_and_architecture:religious  27.7154575  85.3066668   \n",
      "126                history:art_and_architecture  27.6937953    85.35128   \n",
      "134                history:art_and_architecture  27.7217192  85.3475327   \n",
      "137      history:art_and_architecture:religious  27.6956379  85.2886814   \n",
      "140                history:art_and_architecture  27.7217192  85.3475327   \n",
      "143      history:art_and_architecture:religious  27.7217192  85.3475327   \n",
      "145         history:art_and_architecture:nature  27.7217192  85.3475327   \n",
      "146         history:art_and_architecture:nature  27.7149298  85.2881456   \n",
      "150                history:art_and_architecture  27.7217192  85.3475327   \n",
      "151         history:art_and_architecture:nature  27.7217192  85.3475327   \n",
      "152         history:art_and_architecture:nature  27.7217192  85.3475327   \n",
      "167  history:art_and_architecture:entertainment  27.7236511  85.3121227   \n",
      "174                                     history  27.7139775  85.3067482   \n",
      "175                                      nature  27.7193564  85.3044406   \n",
      "\n",
      "    img_url  \n",
      "103     NaN  \n",
      "104     NaN  \n",
      "105     NaN  \n",
      "108     NaN  \n",
      "111     NaN  \n",
      "113     NaN  \n",
      "114     NaN  \n",
      "118     NaN  \n",
      "124     NaN  \n",
      "126     NaN  \n",
      "134     NaN  \n",
      "137     NaN  \n",
      "140     NaN  \n",
      "143     NaN  \n",
      "145     NaN  \n",
      "146     NaN  \n",
      "150     NaN  \n",
      "151     NaN  \n",
      "152     NaN  \n",
      "167     NaN  \n",
      "174     NaN  \n",
      "175     NaN  \n"
     ]
    }
   ],
   "source": [
    "print(duplicate_list)"
   ]
  },
  {
   "cell_type": "code",
   "execution_count": 122,
   "id": "2be4c6ed",
   "metadata": {},
   "outputs": [
    {
     "name": "stdout",
     "output_type": "stream",
     "text": [
      "[103, 104, 105, 108, 111, 113, 114, 118, 124, 126, 134, 137, 140, 143, 145, 146, 150, 151, 152, 167, 174, 175]\n"
     ]
    }
   ],
   "source": [
    "print(list(duplicate_list.index))"
   ]
  },
  {
   "cell_type": "code",
   "execution_count": 123,
   "id": "d5c99241",
   "metadata": {},
   "outputs": [
    {
     "name": "stderr",
     "output_type": "stream",
     "text": [
      "/home/werewolf/.pyenv/versions/data2/lib/python3.9/site-packages/pandas/core/indexing.py:1817: SettingWithCopyWarning: \n",
      "A value is trying to be set on a copy of a slice from a DataFrame.\n",
      "Try using .loc[row_indexer,col_indexer] = value instead\n",
      "\n",
      "See the caveats in the documentation: https://pandas.pydata.org/pandas-docs/stable/user_guide/indexing.html#returning-a-view-versus-a-copy\n",
      "  self._setitem_single_column(loc, value, pi)\n"
     ]
    }
   ],
   "source": [
    "for ind in list(duplicate_list.index):\n",
    "    dataset_200.loc[ind,'latitude']=duplicate_list.loc[ind,'latitude']\n",
    "    dataset_200.loc[ind,'longitude']=duplicate_list.loc[ind,'longitude']"
   ]
  },
  {
   "cell_type": "code",
   "execution_count": 124,
   "id": "da29dac9",
   "metadata": {},
   "outputs": [
    {
     "name": "stdout",
     "output_type": "stream",
     "text": [
      "dest_id                                      104\n",
      "title                       Vishnu Mandir Temple\n",
      "genre        history:art_and_architecture:nature\n",
      "latitude                              27.7217192\n",
      "longitude                             85.3475327\n",
      "img_url                                      NaN\n",
      "Name: 103, dtype: object\n"
     ]
    }
   ],
   "source": [
    "print(dataset_200.iloc[103])"
   ]
  },
  {
   "cell_type": "code",
   "execution_count": 125,
   "id": "8b435141",
   "metadata": {},
   "outputs": [
    {
     "name": "stdout",
     "output_type": "stream",
     "text": [
      "185\n"
     ]
    }
   ],
   "source": [
    "print(len(dataset_200['latitude'].unique()))"
   ]
  },
  {
   "cell_type": "code",
   "execution_count": 126,
   "id": "571dc02b",
   "metadata": {},
   "outputs": [
    {
     "name": "stdout",
     "output_type": "stream",
     "text": [
      "     dest_id                                title  \\\n",
      "0          1                     Boudhanath Stupa   \n",
      "1          2                 Swayambhunath Temple   \n",
      "2          3                 Pashupatinath Temple   \n",
      "3          4                    Chandragiri Hills   \n",
      "4          5                      Kopan Monastery   \n",
      "..       ...                                  ...   \n",
      "196      197  Nepal Alibaba Treks & Tours Pvt Ltd   \n",
      "197      198                  Alpine Ramble Treks   \n",
      "198      199      Info Nepal Treks and Expedition   \n",
      "199      200          Epic Adventures - Day Tours   \n",
      "200      201               Hiking Adventure Treks   \n",
      "\n",
      "                                          genre    latitude  longitude  \\\n",
      "0        history:art_and_architecture:religious  27.7215062  85.359809   \n",
      "1        history:art_and_architecture:religious  27.7149298  85.288146   \n",
      "2        history:art_and_architecture:religious  27.7104461  85.346503   \n",
      "3                                        nature  27.6710496  85.262664   \n",
      "4        history:art_and_architecture:religious  27.7425438  85.362208   \n",
      "..                                          ...         ...        ...   \n",
      "196                                     history  27.7375441  85.302841   \n",
      "197                                     history  27.7191624  85.306492   \n",
      "198  history:art_and_architecture:entertainment  27.7160399  85.308885   \n",
      "199              art_and_architecture:religious  27.7009722  85.280179   \n",
      "200  history:art_and_architecture:entertainment   27.717671  85.309687   \n",
      "\n",
      "                                               img_url  \n",
      "0    data:image/jpeg;base64,/9j/4AAQSkZJRgABAQAAAQA...  \n",
      "1    data:image/jpeg;base64,/9j/4AAQSkZJRgABAQAAAQA...  \n",
      "2    data:image/jpeg;base64,/9j/4AAQSkZJRgABAQAAAQA...  \n",
      "3    data:image/jpeg;base64,/9j/4AAQSkZJRgABAQAAAQA...  \n",
      "4    data:image/jpeg;base64,/9j/4AAQSkZJRgABAQAAAQA...  \n",
      "..                                                 ...  \n",
      "196                                                NaN  \n",
      "197                                                NaN  \n",
      "198                                                NaN  \n",
      "199                                                NaN  \n",
      "200                                                NaN  \n",
      "\n",
      "[201 rows x 6 columns]\n"
     ]
    }
   ],
   "source": [
    "print(dataset_200)"
   ]
  },
  {
   "cell_type": "code",
   "execution_count": 128,
   "id": "e8489187",
   "metadata": {},
   "outputs": [],
   "source": [
    "#updating the final dataset\n",
    "dataset.iloc[:201]=dataset_200"
   ]
  },
  {
   "cell_type": "code",
   "execution_count": 132,
   "id": "e449a6c0",
   "metadata": {},
   "outputs": [
    {
     "name": "stdout",
     "output_type": "stream",
     "text": [
      "187\n"
     ]
    }
   ],
   "source": [
    "#checking the number of unique values\n",
    "print(len(dataset['latitude'].unique()))"
   ]
  },
  {
   "cell_type": "code",
   "execution_count": 133,
   "id": "f04ecba8",
   "metadata": {},
   "outputs": [],
   "source": [
    "#maybe it's better to drop the duplicates so let's do that"
   ]
  },
  {
   "cell_type": "code",
   "execution_count": 135,
   "id": "0c2010d2",
   "metadata": {},
   "outputs": [
    {
     "data": {
      "text/html": [
       "<div>\n",
       "<style scoped>\n",
       "    .dataframe tbody tr th:only-of-type {\n",
       "        vertical-align: middle;\n",
       "    }\n",
       "\n",
       "    .dataframe tbody tr th {\n",
       "        vertical-align: top;\n",
       "    }\n",
       "\n",
       "    .dataframe thead th {\n",
       "        text-align: right;\n",
       "    }\n",
       "</style>\n",
       "<table border=\"1\" class=\"dataframe\">\n",
       "  <thead>\n",
       "    <tr style=\"text-align: right;\">\n",
       "      <th></th>\n",
       "      <th>dest_id</th>\n",
       "      <th>title</th>\n",
       "      <th>genre</th>\n",
       "      <th>latitude</th>\n",
       "      <th>longitude</th>\n",
       "      <th>img_url</th>\n",
       "    </tr>\n",
       "  </thead>\n",
       "  <tbody>\n",
       "    <tr>\n",
       "      <th>0</th>\n",
       "      <td>1</td>\n",
       "      <td>Boudhanath Stupa</td>\n",
       "      <td>history:art_and_architecture:religious</td>\n",
       "      <td>27.7215062</td>\n",
       "      <td>85.359809</td>\n",
       "      <td>data:image/jpeg;base64,/9j/4AAQSkZJRgABAQAAAQA...</td>\n",
       "    </tr>\n",
       "    <tr>\n",
       "      <th>1</th>\n",
       "      <td>2</td>\n",
       "      <td>Swayambhunath Temple</td>\n",
       "      <td>history:art_and_architecture:religious</td>\n",
       "      <td>27.7149298</td>\n",
       "      <td>85.288146</td>\n",
       "      <td>data:image/jpeg;base64,/9j/4AAQSkZJRgABAQAAAQA...</td>\n",
       "    </tr>\n",
       "    <tr>\n",
       "      <th>2</th>\n",
       "      <td>3</td>\n",
       "      <td>Pashupatinath Temple</td>\n",
       "      <td>history:art_and_architecture:religious</td>\n",
       "      <td>27.7104461</td>\n",
       "      <td>85.346503</td>\n",
       "      <td>data:image/jpeg;base64,/9j/4AAQSkZJRgABAQAAAQA...</td>\n",
       "    </tr>\n",
       "    <tr>\n",
       "      <th>3</th>\n",
       "      <td>4</td>\n",
       "      <td>Chandragiri Hills</td>\n",
       "      <td>nature</td>\n",
       "      <td>27.6710496</td>\n",
       "      <td>85.262664</td>\n",
       "      <td>data:image/jpeg;base64,/9j/4AAQSkZJRgABAQAAAQA...</td>\n",
       "    </tr>\n",
       "    <tr>\n",
       "      <th>4</th>\n",
       "      <td>5</td>\n",
       "      <td>Kopan Monastery</td>\n",
       "      <td>history:art_and_architecture:religious</td>\n",
       "      <td>27.7425438</td>\n",
       "      <td>85.362208</td>\n",
       "      <td>data:image/jpeg;base64,/9j/4AAQSkZJRgABAQAAAQA...</td>\n",
       "    </tr>\n",
       "    <tr>\n",
       "      <th>...</th>\n",
       "      <td>...</td>\n",
       "      <td>...</td>\n",
       "      <td>...</td>\n",
       "      <td>...</td>\n",
       "      <td>...</td>\n",
       "      <td>...</td>\n",
       "    </tr>\n",
       "    <tr>\n",
       "      <th>2340</th>\n",
       "      <td>2341</td>\n",
       "      <td>Zeal Nepal Trek &amp; Expedition</td>\n",
       "      <td>history</td>\n",
       "      <td>NaN</td>\n",
       "      <td>NaN</td>\n",
       "      <td>NaN</td>\n",
       "    </tr>\n",
       "    <tr>\n",
       "      <th>2341</th>\n",
       "      <td>2342</td>\n",
       "      <td>Mohit Sunuwar</td>\n",
       "      <td>adventure</td>\n",
       "      <td>NaN</td>\n",
       "      <td>NaN</td>\n",
       "      <td>NaN</td>\n",
       "    </tr>\n",
       "    <tr>\n",
       "      <th>2342</th>\n",
       "      <td>2343</td>\n",
       "      <td>SITA (Travel Corporation India Ltd)</td>\n",
       "      <td>history</td>\n",
       "      <td>NaN</td>\n",
       "      <td>NaN</td>\n",
       "      <td>NaN</td>\n",
       "    </tr>\n",
       "    <tr>\n",
       "      <th>2343</th>\n",
       "      <td>2344</td>\n",
       "      <td>Himalayan Hike</td>\n",
       "      <td>history:art_and_architecture:entertainment</td>\n",
       "      <td>NaN</td>\n",
       "      <td>NaN</td>\n",
       "      <td>NaN</td>\n",
       "    </tr>\n",
       "    <tr>\n",
       "      <th>2344</th>\n",
       "      <td>2345</td>\n",
       "      <td>River Fun</td>\n",
       "      <td>nature:adventure:entertainment</td>\n",
       "      <td>NaN</td>\n",
       "      <td>NaN</td>\n",
       "      <td>NaN</td>\n",
       "    </tr>\n",
       "  </tbody>\n",
       "</table>\n",
       "<p>2345 rows × 6 columns</p>\n",
       "</div>"
      ],
      "text/plain": [
       "      dest_id                                title  \\\n",
       "0           1                     Boudhanath Stupa   \n",
       "1           2                 Swayambhunath Temple   \n",
       "2           3                 Pashupatinath Temple   \n",
       "3           4                    Chandragiri Hills   \n",
       "4           5                      Kopan Monastery   \n",
       "...       ...                                  ...   \n",
       "2340     2341         Zeal Nepal Trek & Expedition   \n",
       "2341     2342                        Mohit Sunuwar   \n",
       "2342     2343  SITA (Travel Corporation India Ltd)   \n",
       "2343     2344                       Himalayan Hike   \n",
       "2344     2345                            River Fun   \n",
       "\n",
       "                                           genre    latitude  longitude  \\\n",
       "0         history:art_and_architecture:religious  27.7215062  85.359809   \n",
       "1         history:art_and_architecture:religious  27.7149298  85.288146   \n",
       "2         history:art_and_architecture:religious  27.7104461  85.346503   \n",
       "3                                         nature  27.6710496  85.262664   \n",
       "4         history:art_and_architecture:religious  27.7425438  85.362208   \n",
       "...                                          ...         ...        ...   \n",
       "2340                                     history         NaN        NaN   \n",
       "2341                                   adventure         NaN        NaN   \n",
       "2342                                     history         NaN        NaN   \n",
       "2343  history:art_and_architecture:entertainment         NaN        NaN   \n",
       "2344              nature:adventure:entertainment         NaN        NaN   \n",
       "\n",
       "                                                img_url  \n",
       "0     data:image/jpeg;base64,/9j/4AAQSkZJRgABAQAAAQA...  \n",
       "1     data:image/jpeg;base64,/9j/4AAQSkZJRgABAQAAAQA...  \n",
       "2     data:image/jpeg;base64,/9j/4AAQSkZJRgABAQAAAQA...  \n",
       "3     data:image/jpeg;base64,/9j/4AAQSkZJRgABAQAAAQA...  \n",
       "4     data:image/jpeg;base64,/9j/4AAQSkZJRgABAQAAAQA...  \n",
       "...                                                 ...  \n",
       "2340                                                NaN  \n",
       "2341                                                NaN  \n",
       "2342                                                NaN  \n",
       "2343                                                NaN  \n",
       "2344                                                NaN  \n",
       "\n",
       "[2345 rows x 6 columns]"
      ]
     },
     "execution_count": 135,
     "metadata": {},
     "output_type": "execute_result"
    }
   ],
   "source": [
    "dataset"
   ]
  },
  {
   "cell_type": "code",
   "execution_count": 146,
   "id": "e8814235",
   "metadata": {},
   "outputs": [
    {
     "name": "stdout",
     "output_type": "stream",
     "text": [
      "2143\n"
     ]
    }
   ],
   "source": [
    "# final=dataset.drop_duplicates(subset=['latitude','longitude'])\n",
    "print(dataset['latitude'].isnull().values.sum())"
   ]
  },
  {
   "cell_type": "code",
   "execution_count": 147,
   "id": "2f1cbc24",
   "metadata": {},
   "outputs": [],
   "source": [
    "final=dataset.drop_duplicates(subset=['latitude','longitude'],ignore_index=True)"
   ]
  },
  {
   "cell_type": "code",
   "execution_count": 148,
   "id": "f6a9663e",
   "metadata": {},
   "outputs": [
    {
     "data": {
      "text/html": [
       "<div>\n",
       "<style scoped>\n",
       "    .dataframe tbody tr th:only-of-type {\n",
       "        vertical-align: middle;\n",
       "    }\n",
       "\n",
       "    .dataframe tbody tr th {\n",
       "        vertical-align: top;\n",
       "    }\n",
       "\n",
       "    .dataframe thead th {\n",
       "        text-align: right;\n",
       "    }\n",
       "</style>\n",
       "<table border=\"1\" class=\"dataframe\">\n",
       "  <thead>\n",
       "    <tr style=\"text-align: right;\">\n",
       "      <th></th>\n",
       "      <th>dest_id</th>\n",
       "      <th>title</th>\n",
       "      <th>genre</th>\n",
       "      <th>latitude</th>\n",
       "      <th>longitude</th>\n",
       "      <th>img_url</th>\n",
       "    </tr>\n",
       "  </thead>\n",
       "  <tbody>\n",
       "    <tr>\n",
       "      <th>0</th>\n",
       "      <td>1</td>\n",
       "      <td>Boudhanath Stupa</td>\n",
       "      <td>history:art_and_architecture:religious</td>\n",
       "      <td>27.7215062</td>\n",
       "      <td>85.359809</td>\n",
       "      <td>data:image/jpeg;base64,/9j/4AAQSkZJRgABAQAAAQA...</td>\n",
       "    </tr>\n",
       "    <tr>\n",
       "      <th>1</th>\n",
       "      <td>2</td>\n",
       "      <td>Swayambhunath Temple</td>\n",
       "      <td>history:art_and_architecture:religious</td>\n",
       "      <td>27.7149298</td>\n",
       "      <td>85.288146</td>\n",
       "      <td>data:image/jpeg;base64,/9j/4AAQSkZJRgABAQAAAQA...</td>\n",
       "    </tr>\n",
       "    <tr>\n",
       "      <th>2</th>\n",
       "      <td>3</td>\n",
       "      <td>Pashupatinath Temple</td>\n",
       "      <td>history:art_and_architecture:religious</td>\n",
       "      <td>27.7104461</td>\n",
       "      <td>85.346503</td>\n",
       "      <td>data:image/jpeg;base64,/9j/4AAQSkZJRgABAQAAAQA...</td>\n",
       "    </tr>\n",
       "    <tr>\n",
       "      <th>3</th>\n",
       "      <td>4</td>\n",
       "      <td>Chandragiri Hills</td>\n",
       "      <td>nature</td>\n",
       "      <td>27.6710496</td>\n",
       "      <td>85.262664</td>\n",
       "      <td>data:image/jpeg;base64,/9j/4AAQSkZJRgABAQAAAQA...</td>\n",
       "    </tr>\n",
       "    <tr>\n",
       "      <th>4</th>\n",
       "      <td>5</td>\n",
       "      <td>Kopan Monastery</td>\n",
       "      <td>history:art_and_architecture:religious</td>\n",
       "      <td>27.7425438</td>\n",
       "      <td>85.362208</td>\n",
       "      <td>data:image/jpeg;base64,/9j/4AAQSkZJRgABAQAAAQA...</td>\n",
       "    </tr>\n",
       "    <tr>\n",
       "      <th>...</th>\n",
       "      <td>...</td>\n",
       "      <td>...</td>\n",
       "      <td>...</td>\n",
       "      <td>...</td>\n",
       "      <td>...</td>\n",
       "      <td>...</td>\n",
       "    </tr>\n",
       "    <tr>\n",
       "      <th>186</th>\n",
       "      <td>199</td>\n",
       "      <td>Info Nepal Treks and Expedition</td>\n",
       "      <td>history:art_and_architecture:entertainment</td>\n",
       "      <td>27.7160399</td>\n",
       "      <td>85.308885</td>\n",
       "      <td>NaN</td>\n",
       "    </tr>\n",
       "    <tr>\n",
       "      <th>187</th>\n",
       "      <td>200</td>\n",
       "      <td>Epic Adventures - Day Tours</td>\n",
       "      <td>art_and_architecture:religious</td>\n",
       "      <td>27.7009722</td>\n",
       "      <td>85.280179</td>\n",
       "      <td>NaN</td>\n",
       "    </tr>\n",
       "    <tr>\n",
       "      <th>188</th>\n",
       "      <td>201</td>\n",
       "      <td>Hiking Adventure Treks</td>\n",
       "      <td>history:art_and_architecture:entertainment</td>\n",
       "      <td>27.717671</td>\n",
       "      <td>85.309687</td>\n",
       "      <td>NaN</td>\n",
       "    </tr>\n",
       "    <tr>\n",
       "      <th>189</th>\n",
       "      <td>202</td>\n",
       "      <td>Nepal Hiking Adventure Company - Private Day T...</td>\n",
       "      <td>adventure</td>\n",
       "      <td>NaN</td>\n",
       "      <td>NaN</td>\n",
       "      <td>NaN</td>\n",
       "    </tr>\n",
       "    <tr>\n",
       "      <th>190</th>\n",
       "      <td>1084</td>\n",
       "      <td>Travel to Himalayas Pvt Ltd Nepal</td>\n",
       "      <td></td>\n",
       "      <td>Multi-day Tours • Canyoning &amp; Rappelling Tours</td>\n",
       "      <td>NaN</td>\n",
       "      <td>NaN</td>\n",
       "    </tr>\n",
       "  </tbody>\n",
       "</table>\n",
       "<p>191 rows × 6 columns</p>\n",
       "</div>"
      ],
      "text/plain": [
       "     dest_id                                              title  \\\n",
       "0          1                                   Boudhanath Stupa   \n",
       "1          2                               Swayambhunath Temple   \n",
       "2          3                               Pashupatinath Temple   \n",
       "3          4                                  Chandragiri Hills   \n",
       "4          5                                    Kopan Monastery   \n",
       "..       ...                                                ...   \n",
       "186      199                    Info Nepal Treks and Expedition   \n",
       "187      200                        Epic Adventures - Day Tours   \n",
       "188      201                             Hiking Adventure Treks   \n",
       "189      202  Nepal Hiking Adventure Company - Private Day T...   \n",
       "190     1084                  Travel to Himalayas Pvt Ltd Nepal   \n",
       "\n",
       "                                          genre  \\\n",
       "0        history:art_and_architecture:religious   \n",
       "1        history:art_and_architecture:religious   \n",
       "2        history:art_and_architecture:religious   \n",
       "3                                        nature   \n",
       "4        history:art_and_architecture:religious   \n",
       "..                                          ...   \n",
       "186  history:art_and_architecture:entertainment   \n",
       "187              art_and_architecture:religious   \n",
       "188  history:art_and_architecture:entertainment   \n",
       "189                                   adventure   \n",
       "190                                               \n",
       "\n",
       "                                           latitude  longitude  \\\n",
       "0                                        27.7215062  85.359809   \n",
       "1                                        27.7149298  85.288146   \n",
       "2                                        27.7104461  85.346503   \n",
       "3                                        27.6710496  85.262664   \n",
       "4                                        27.7425438  85.362208   \n",
       "..                                              ...        ...   \n",
       "186                                      27.7160399  85.308885   \n",
       "187                                      27.7009722  85.280179   \n",
       "188                                       27.717671  85.309687   \n",
       "189                                             NaN        NaN   \n",
       "190  Multi-day Tours • Canyoning & Rappelling Tours        NaN   \n",
       "\n",
       "                                               img_url  \n",
       "0    data:image/jpeg;base64,/9j/4AAQSkZJRgABAQAAAQA...  \n",
       "1    data:image/jpeg;base64,/9j/4AAQSkZJRgABAQAAAQA...  \n",
       "2    data:image/jpeg;base64,/9j/4AAQSkZJRgABAQAAAQA...  \n",
       "3    data:image/jpeg;base64,/9j/4AAQSkZJRgABAQAAAQA...  \n",
       "4    data:image/jpeg;base64,/9j/4AAQSkZJRgABAQAAAQA...  \n",
       "..                                                 ...  \n",
       "186                                                NaN  \n",
       "187                                                NaN  \n",
       "188                                                NaN  \n",
       "189                                                NaN  \n",
       "190                                                NaN  \n",
       "\n",
       "[191 rows x 6 columns]"
      ]
     },
     "execution_count": 148,
     "metadata": {},
     "output_type": "execute_result"
    }
   ],
   "source": [
    "final"
   ]
  },
  {
   "cell_type": "code",
   "execution_count": 149,
   "id": "1de9700d",
   "metadata": {},
   "outputs": [
    {
     "data": {
      "text/html": [
       "<div>\n",
       "<style scoped>\n",
       "    .dataframe tbody tr th:only-of-type {\n",
       "        vertical-align: middle;\n",
       "    }\n",
       "\n",
       "    .dataframe tbody tr th {\n",
       "        vertical-align: top;\n",
       "    }\n",
       "\n",
       "    .dataframe thead th {\n",
       "        text-align: right;\n",
       "    }\n",
       "</style>\n",
       "<table border=\"1\" class=\"dataframe\">\n",
       "  <thead>\n",
       "    <tr style=\"text-align: right;\">\n",
       "      <th></th>\n",
       "      <th>dest_id</th>\n",
       "      <th>title</th>\n",
       "      <th>genre</th>\n",
       "      <th>latitude</th>\n",
       "      <th>longitude</th>\n",
       "      <th>img_url</th>\n",
       "    </tr>\n",
       "  </thead>\n",
       "  <tbody>\n",
       "    <tr>\n",
       "      <th>0</th>\n",
       "      <td>1</td>\n",
       "      <td>Boudhanath Stupa</td>\n",
       "      <td>history:art_and_architecture:religious</td>\n",
       "      <td>27.7215062</td>\n",
       "      <td>85.359809</td>\n",
       "      <td>data:image/jpeg;base64,/9j/4AAQSkZJRgABAQAAAQA...</td>\n",
       "    </tr>\n",
       "    <tr>\n",
       "      <th>1</th>\n",
       "      <td>2</td>\n",
       "      <td>Swayambhunath Temple</td>\n",
       "      <td>history:art_and_architecture:religious</td>\n",
       "      <td>27.7149298</td>\n",
       "      <td>85.288146</td>\n",
       "      <td>data:image/jpeg;base64,/9j/4AAQSkZJRgABAQAAAQA...</td>\n",
       "    </tr>\n",
       "    <tr>\n",
       "      <th>2</th>\n",
       "      <td>3</td>\n",
       "      <td>Pashupatinath Temple</td>\n",
       "      <td>history:art_and_architecture:religious</td>\n",
       "      <td>27.7104461</td>\n",
       "      <td>85.346503</td>\n",
       "      <td>data:image/jpeg;base64,/9j/4AAQSkZJRgABAQAAAQA...</td>\n",
       "    </tr>\n",
       "    <tr>\n",
       "      <th>3</th>\n",
       "      <td>4</td>\n",
       "      <td>Chandragiri Hills</td>\n",
       "      <td>nature</td>\n",
       "      <td>27.6710496</td>\n",
       "      <td>85.262664</td>\n",
       "      <td>data:image/jpeg;base64,/9j/4AAQSkZJRgABAQAAAQA...</td>\n",
       "    </tr>\n",
       "    <tr>\n",
       "      <th>4</th>\n",
       "      <td>5</td>\n",
       "      <td>Kopan Monastery</td>\n",
       "      <td>history:art_and_architecture:religious</td>\n",
       "      <td>27.7425438</td>\n",
       "      <td>85.362208</td>\n",
       "      <td>data:image/jpeg;base64,/9j/4AAQSkZJRgABAQAAAQA...</td>\n",
       "    </tr>\n",
       "    <tr>\n",
       "      <th>...</th>\n",
       "      <td>...</td>\n",
       "      <td>...</td>\n",
       "      <td>...</td>\n",
       "      <td>...</td>\n",
       "      <td>...</td>\n",
       "      <td>...</td>\n",
       "    </tr>\n",
       "    <tr>\n",
       "      <th>2340</th>\n",
       "      <td>2341</td>\n",
       "      <td>Zeal Nepal Trek &amp; Expedition</td>\n",
       "      <td>history</td>\n",
       "      <td>NaN</td>\n",
       "      <td>NaN</td>\n",
       "      <td>NaN</td>\n",
       "    </tr>\n",
       "    <tr>\n",
       "      <th>2341</th>\n",
       "      <td>2342</td>\n",
       "      <td>Mohit Sunuwar</td>\n",
       "      <td>adventure</td>\n",
       "      <td>NaN</td>\n",
       "      <td>NaN</td>\n",
       "      <td>NaN</td>\n",
       "    </tr>\n",
       "    <tr>\n",
       "      <th>2342</th>\n",
       "      <td>2343</td>\n",
       "      <td>SITA (Travel Corporation India Ltd)</td>\n",
       "      <td>history</td>\n",
       "      <td>NaN</td>\n",
       "      <td>NaN</td>\n",
       "      <td>NaN</td>\n",
       "    </tr>\n",
       "    <tr>\n",
       "      <th>2343</th>\n",
       "      <td>2344</td>\n",
       "      <td>Himalayan Hike</td>\n",
       "      <td>history:art_and_architecture:entertainment</td>\n",
       "      <td>NaN</td>\n",
       "      <td>NaN</td>\n",
       "      <td>NaN</td>\n",
       "    </tr>\n",
       "    <tr>\n",
       "      <th>2344</th>\n",
       "      <td>2345</td>\n",
       "      <td>River Fun</td>\n",
       "      <td>nature:adventure:entertainment</td>\n",
       "      <td>NaN</td>\n",
       "      <td>NaN</td>\n",
       "      <td>NaN</td>\n",
       "    </tr>\n",
       "  </tbody>\n",
       "</table>\n",
       "<p>2345 rows × 6 columns</p>\n",
       "</div>"
      ],
      "text/plain": [
       "      dest_id                                title  \\\n",
       "0           1                     Boudhanath Stupa   \n",
       "1           2                 Swayambhunath Temple   \n",
       "2           3                 Pashupatinath Temple   \n",
       "3           4                    Chandragiri Hills   \n",
       "4           5                      Kopan Monastery   \n",
       "...       ...                                  ...   \n",
       "2340     2341         Zeal Nepal Trek & Expedition   \n",
       "2341     2342                        Mohit Sunuwar   \n",
       "2342     2343  SITA (Travel Corporation India Ltd)   \n",
       "2343     2344                       Himalayan Hike   \n",
       "2344     2345                            River Fun   \n",
       "\n",
       "                                           genre    latitude  longitude  \\\n",
       "0         history:art_and_architecture:religious  27.7215062  85.359809   \n",
       "1         history:art_and_architecture:religious  27.7149298  85.288146   \n",
       "2         history:art_and_architecture:religious  27.7104461  85.346503   \n",
       "3                                         nature  27.6710496  85.262664   \n",
       "4         history:art_and_architecture:religious  27.7425438  85.362208   \n",
       "...                                          ...         ...        ...   \n",
       "2340                                     history         NaN        NaN   \n",
       "2341                                   adventure         NaN        NaN   \n",
       "2342                                     history         NaN        NaN   \n",
       "2343  history:art_and_architecture:entertainment         NaN        NaN   \n",
       "2344              nature:adventure:entertainment         NaN        NaN   \n",
       "\n",
       "                                                img_url  \n",
       "0     data:image/jpeg;base64,/9j/4AAQSkZJRgABAQAAAQA...  \n",
       "1     data:image/jpeg;base64,/9j/4AAQSkZJRgABAQAAAQA...  \n",
       "2     data:image/jpeg;base64,/9j/4AAQSkZJRgABAQAAAQA...  \n",
       "3     data:image/jpeg;base64,/9j/4AAQSkZJRgABAQAAAQA...  \n",
       "4     data:image/jpeg;base64,/9j/4AAQSkZJRgABAQAAAQA...  \n",
       "...                                                 ...  \n",
       "2340                                                NaN  \n",
       "2341                                                NaN  \n",
       "2342                                                NaN  \n",
       "2343                                                NaN  \n",
       "2344                                                NaN  \n",
       "\n",
       "[2345 rows x 6 columns]"
      ]
     },
     "execution_count": 149,
     "metadata": {},
     "output_type": "execute_result"
    }
   ],
   "source": [
    "dataset"
   ]
  },
  {
   "cell_type": "code",
   "execution_count": 152,
   "id": "34f1bd83",
   "metadata": {},
   "outputs": [
    {
     "name": "stdout",
     "output_type": "stream",
     "text": [
      "dest_id                                                1084\n",
      "title                     Travel to Himalayas Pvt Ltd Nepal\n",
      "genre                                                      \n",
      "latitude     Multi-day Tours • Canyoning & Rappelling Tours\n",
      "longitude                                               NaN\n",
      "img_url                                                 NaN\n",
      "Name: 1083, dtype: object\n"
     ]
    }
   ],
   "source": [
    "# sus entry\n",
    "print(dataset.loc[1083])"
   ]
  },
  {
   "cell_type": "code",
   "execution_count": 154,
   "id": "9583c0e1",
   "metadata": {},
   "outputs": [
    {
     "name": "stdout",
     "output_type": "stream",
     "text": [
      "<class 'float'>\n"
     ]
    }
   ],
   "source": [
    "print(type(dataset.loc[1083]['longitude']))"
   ]
  },
  {
   "cell_type": "code",
   "execution_count": 158,
   "id": "23408db2",
   "metadata": {},
   "outputs": [
    {
     "name": "stderr",
     "output_type": "stream",
     "text": [
      "/tmp/ipykernel_2311/3826744978.py:1: SettingWithCopyWarning: \n",
      "A value is trying to be set on a copy of a slice from a DataFrame\n",
      "\n",
      "See the caveats in the documentation: https://pandas.pydata.org/pandas-docs/stable/user_guide/indexing.html#returning-a-view-versus-a-copy\n",
      "  dataset['genre'][1083]='adventure'\n",
      "/tmp/ipykernel_2311/3826744978.py:2: SettingWithCopyWarning: \n",
      "A value is trying to be set on a copy of a slice from a DataFrame\n",
      "\n",
      "See the caveats in the documentation: https://pandas.pydata.org/pandas-docs/stable/user_guide/indexing.html#returning-a-view-versus-a-copy\n",
      "  dataset['latitude'][1083]=np.nan\n"
     ]
    }
   ],
   "source": [
    "dataset['genre'][1083]='adventure'\n",
    "dataset['latitude'][1083]=np.nan"
   ]
  },
  {
   "cell_type": "code",
   "execution_count": 159,
   "id": "fa6d0363",
   "metadata": {},
   "outputs": [
    {
     "name": "stdout",
     "output_type": "stream",
     "text": [
      "dest_id                                   1084\n",
      "title        Travel to Himalayas Pvt Ltd Nepal\n",
      "genre                                adventure\n",
      "latitude                                   NaN\n",
      "longitude                                  NaN\n",
      "img_url                                    NaN\n",
      "Name: 1083, dtype: object\n"
     ]
    }
   ],
   "source": [
    "print(dataset.loc[1083])"
   ]
  },
  {
   "cell_type": "code",
   "execution_count": 160,
   "id": "8d8e6e0c",
   "metadata": {},
   "outputs": [],
   "source": [
    "# resave the dataset\n",
    "dataset.to_csv(\"final_destinations_of_ktm_1.csv\",index=None)"
   ]
  },
  {
   "cell_type": "code",
   "execution_count": 162,
   "id": "75fe21cd",
   "metadata": {},
   "outputs": [
    {
     "name": "stdout",
     "output_type": "stream",
     "text": [
      "186\n"
     ]
    }
   ],
   "source": [
    "# back to removing the unique\n",
    "print(len(dataset['latitude'].unique()))"
   ]
  },
  {
   "cell_type": "code",
   "execution_count": 163,
   "id": "e0a550f8",
   "metadata": {},
   "outputs": [],
   "source": [
    "# drop the duplicates but keep the null\n",
    "final=dataset.drop_duplicates(subset=['latitude','longitude'])"
   ]
  },
  {
   "cell_type": "code",
   "execution_count": 164,
   "id": "ad400a26",
   "metadata": {},
   "outputs": [
    {
     "data": {
      "text/html": [
       "<div>\n",
       "<style scoped>\n",
       "    .dataframe tbody tr th:only-of-type {\n",
       "        vertical-align: middle;\n",
       "    }\n",
       "\n",
       "    .dataframe tbody tr th {\n",
       "        vertical-align: top;\n",
       "    }\n",
       "\n",
       "    .dataframe thead th {\n",
       "        text-align: right;\n",
       "    }\n",
       "</style>\n",
       "<table border=\"1\" class=\"dataframe\">\n",
       "  <thead>\n",
       "    <tr style=\"text-align: right;\">\n",
       "      <th></th>\n",
       "      <th>dest_id</th>\n",
       "      <th>title</th>\n",
       "      <th>genre</th>\n",
       "      <th>latitude</th>\n",
       "      <th>longitude</th>\n",
       "      <th>img_url</th>\n",
       "    </tr>\n",
       "  </thead>\n",
       "  <tbody>\n",
       "    <tr>\n",
       "      <th>0</th>\n",
       "      <td>1</td>\n",
       "      <td>Boudhanath Stupa</td>\n",
       "      <td>history:art_and_architecture:religious</td>\n",
       "      <td>27.7215062</td>\n",
       "      <td>85.359809</td>\n",
       "      <td>data:image/jpeg;base64,/9j/4AAQSkZJRgABAQAAAQA...</td>\n",
       "    </tr>\n",
       "    <tr>\n",
       "      <th>1</th>\n",
       "      <td>2</td>\n",
       "      <td>Swayambhunath Temple</td>\n",
       "      <td>history:art_and_architecture:religious</td>\n",
       "      <td>27.7149298</td>\n",
       "      <td>85.288146</td>\n",
       "      <td>data:image/jpeg;base64,/9j/4AAQSkZJRgABAQAAAQA...</td>\n",
       "    </tr>\n",
       "    <tr>\n",
       "      <th>2</th>\n",
       "      <td>3</td>\n",
       "      <td>Pashupatinath Temple</td>\n",
       "      <td>history:art_and_architecture:religious</td>\n",
       "      <td>27.7104461</td>\n",
       "      <td>85.346503</td>\n",
       "      <td>data:image/jpeg;base64,/9j/4AAQSkZJRgABAQAAAQA...</td>\n",
       "    </tr>\n",
       "    <tr>\n",
       "      <th>3</th>\n",
       "      <td>4</td>\n",
       "      <td>Chandragiri Hills</td>\n",
       "      <td>nature</td>\n",
       "      <td>27.6710496</td>\n",
       "      <td>85.262664</td>\n",
       "      <td>data:image/jpeg;base64,/9j/4AAQSkZJRgABAQAAAQA...</td>\n",
       "    </tr>\n",
       "    <tr>\n",
       "      <th>4</th>\n",
       "      <td>5</td>\n",
       "      <td>Kopan Monastery</td>\n",
       "      <td>history:art_and_architecture:religious</td>\n",
       "      <td>27.7425438</td>\n",
       "      <td>85.362208</td>\n",
       "      <td>data:image/jpeg;base64,/9j/4AAQSkZJRgABAQAAAQA...</td>\n",
       "    </tr>\n",
       "    <tr>\n",
       "      <th>...</th>\n",
       "      <td>...</td>\n",
       "      <td>...</td>\n",
       "      <td>...</td>\n",
       "      <td>...</td>\n",
       "      <td>...</td>\n",
       "      <td>...</td>\n",
       "    </tr>\n",
       "    <tr>\n",
       "      <th>197</th>\n",
       "      <td>198</td>\n",
       "      <td>Alpine Ramble Treks</td>\n",
       "      <td>history</td>\n",
       "      <td>27.7191624</td>\n",
       "      <td>85.306492</td>\n",
       "      <td>NaN</td>\n",
       "    </tr>\n",
       "    <tr>\n",
       "      <th>198</th>\n",
       "      <td>199</td>\n",
       "      <td>Info Nepal Treks and Expedition</td>\n",
       "      <td>history:art_and_architecture:entertainment</td>\n",
       "      <td>27.7160399</td>\n",
       "      <td>85.308885</td>\n",
       "      <td>NaN</td>\n",
       "    </tr>\n",
       "    <tr>\n",
       "      <th>199</th>\n",
       "      <td>200</td>\n",
       "      <td>Epic Adventures - Day Tours</td>\n",
       "      <td>art_and_architecture:religious</td>\n",
       "      <td>27.7009722</td>\n",
       "      <td>85.280179</td>\n",
       "      <td>NaN</td>\n",
       "    </tr>\n",
       "    <tr>\n",
       "      <th>200</th>\n",
       "      <td>201</td>\n",
       "      <td>Hiking Adventure Treks</td>\n",
       "      <td>history:art_and_architecture:entertainment</td>\n",
       "      <td>27.717671</td>\n",
       "      <td>85.309687</td>\n",
       "      <td>NaN</td>\n",
       "    </tr>\n",
       "    <tr>\n",
       "      <th>201</th>\n",
       "      <td>202</td>\n",
       "      <td>Nepal Hiking Adventure Company - Private Day T...</td>\n",
       "      <td>adventure</td>\n",
       "      <td>NaN</td>\n",
       "      <td>NaN</td>\n",
       "      <td>NaN</td>\n",
       "    </tr>\n",
       "  </tbody>\n",
       "</table>\n",
       "<p>190 rows × 6 columns</p>\n",
       "</div>"
      ],
      "text/plain": [
       "     dest_id                                              title  \\\n",
       "0          1                                   Boudhanath Stupa   \n",
       "1          2                               Swayambhunath Temple   \n",
       "2          3                               Pashupatinath Temple   \n",
       "3          4                                  Chandragiri Hills   \n",
       "4          5                                    Kopan Monastery   \n",
       "..       ...                                                ...   \n",
       "197      198                                Alpine Ramble Treks   \n",
       "198      199                    Info Nepal Treks and Expedition   \n",
       "199      200                        Epic Adventures - Day Tours   \n",
       "200      201                             Hiking Adventure Treks   \n",
       "201      202  Nepal Hiking Adventure Company - Private Day T...   \n",
       "\n",
       "                                          genre    latitude  longitude  \\\n",
       "0        history:art_and_architecture:religious  27.7215062  85.359809   \n",
       "1        history:art_and_architecture:religious  27.7149298  85.288146   \n",
       "2        history:art_and_architecture:religious  27.7104461  85.346503   \n",
       "3                                        nature  27.6710496  85.262664   \n",
       "4        history:art_and_architecture:religious  27.7425438  85.362208   \n",
       "..                                          ...         ...        ...   \n",
       "197                                     history  27.7191624  85.306492   \n",
       "198  history:art_and_architecture:entertainment  27.7160399  85.308885   \n",
       "199              art_and_architecture:religious  27.7009722  85.280179   \n",
       "200  history:art_and_architecture:entertainment   27.717671  85.309687   \n",
       "201                                   adventure         NaN        NaN   \n",
       "\n",
       "                                               img_url  \n",
       "0    data:image/jpeg;base64,/9j/4AAQSkZJRgABAQAAAQA...  \n",
       "1    data:image/jpeg;base64,/9j/4AAQSkZJRgABAQAAAQA...  \n",
       "2    data:image/jpeg;base64,/9j/4AAQSkZJRgABAQAAAQA...  \n",
       "3    data:image/jpeg;base64,/9j/4AAQSkZJRgABAQAAAQA...  \n",
       "4    data:image/jpeg;base64,/9j/4AAQSkZJRgABAQAAAQA...  \n",
       "..                                                 ...  \n",
       "197                                                NaN  \n",
       "198                                                NaN  \n",
       "199                                                NaN  \n",
       "200                                                NaN  \n",
       "201                                                NaN  \n",
       "\n",
       "[190 rows x 6 columns]"
      ]
     },
     "execution_count": 164,
     "metadata": {},
     "output_type": "execute_result"
    }
   ],
   "source": [
    "final"
   ]
  },
  {
   "cell_type": "code",
   "execution_count": 166,
   "id": "75700945",
   "metadata": {},
   "outputs": [
    {
     "data": {
      "text/html": [
       "<div>\n",
       "<style scoped>\n",
       "    .dataframe tbody tr th:only-of-type {\n",
       "        vertical-align: middle;\n",
       "    }\n",
       "\n",
       "    .dataframe tbody tr th {\n",
       "        vertical-align: top;\n",
       "    }\n",
       "\n",
       "    .dataframe thead th {\n",
       "        text-align: right;\n",
       "    }\n",
       "</style>\n",
       "<table border=\"1\" class=\"dataframe\">\n",
       "  <thead>\n",
       "    <tr style=\"text-align: right;\">\n",
       "      <th></th>\n",
       "      <th>dest_id</th>\n",
       "      <th>title</th>\n",
       "      <th>genre</th>\n",
       "      <th>latitude</th>\n",
       "      <th>longitude</th>\n",
       "      <th>img_url</th>\n",
       "    </tr>\n",
       "  </thead>\n",
       "  <tbody>\n",
       "    <tr>\n",
       "      <th>202</th>\n",
       "      <td>203</td>\n",
       "      <td>Satori Adventures</td>\n",
       "      <td>history:art_and_architecture:entertainment</td>\n",
       "      <td>NaN</td>\n",
       "      <td>NaN</td>\n",
       "      <td>NaN</td>\n",
       "    </tr>\n",
       "    <tr>\n",
       "      <th>203</th>\n",
       "      <td>204</td>\n",
       "      <td>Happyland Treks</td>\n",
       "      <td>history</td>\n",
       "      <td>NaN</td>\n",
       "      <td>NaN</td>\n",
       "      <td>NaN</td>\n",
       "    </tr>\n",
       "    <tr>\n",
       "      <th>204</th>\n",
       "      <td>205</td>\n",
       "      <td>Adventure Nepal Eco Treks - Private Kathmandu ...</td>\n",
       "      <td>adventure</td>\n",
       "      <td>NaN</td>\n",
       "      <td>NaN</td>\n",
       "      <td>NaN</td>\n",
       "    </tr>\n",
       "    <tr>\n",
       "      <th>205</th>\n",
       "      <td>206</td>\n",
       "      <td>Nepal Cooking School</td>\n",
       "      <td>food</td>\n",
       "      <td>NaN</td>\n",
       "      <td>NaN</td>\n",
       "      <td>NaN</td>\n",
       "    </tr>\n",
       "    <tr>\n",
       "      <th>206</th>\n",
       "      <td>207</td>\n",
       "      <td>White Hill Adventure</td>\n",
       "      <td>art_and_architecture:nature:adventure</td>\n",
       "      <td>NaN</td>\n",
       "      <td>NaN</td>\n",
       "      <td>NaN</td>\n",
       "    </tr>\n",
       "    <tr>\n",
       "      <th>...</th>\n",
       "      <td>...</td>\n",
       "      <td>...</td>\n",
       "      <td>...</td>\n",
       "      <td>...</td>\n",
       "      <td>...</td>\n",
       "      <td>...</td>\n",
       "    </tr>\n",
       "    <tr>\n",
       "      <th>2340</th>\n",
       "      <td>2341</td>\n",
       "      <td>Zeal Nepal Trek &amp; Expedition</td>\n",
       "      <td>history</td>\n",
       "      <td>NaN</td>\n",
       "      <td>NaN</td>\n",
       "      <td>NaN</td>\n",
       "    </tr>\n",
       "    <tr>\n",
       "      <th>2341</th>\n",
       "      <td>2342</td>\n",
       "      <td>Mohit Sunuwar</td>\n",
       "      <td>adventure</td>\n",
       "      <td>NaN</td>\n",
       "      <td>NaN</td>\n",
       "      <td>NaN</td>\n",
       "    </tr>\n",
       "    <tr>\n",
       "      <th>2342</th>\n",
       "      <td>2343</td>\n",
       "      <td>SITA (Travel Corporation India Ltd)</td>\n",
       "      <td>history</td>\n",
       "      <td>NaN</td>\n",
       "      <td>NaN</td>\n",
       "      <td>NaN</td>\n",
       "    </tr>\n",
       "    <tr>\n",
       "      <th>2343</th>\n",
       "      <td>2344</td>\n",
       "      <td>Himalayan Hike</td>\n",
       "      <td>history:art_and_architecture:entertainment</td>\n",
       "      <td>NaN</td>\n",
       "      <td>NaN</td>\n",
       "      <td>NaN</td>\n",
       "    </tr>\n",
       "    <tr>\n",
       "      <th>2344</th>\n",
       "      <td>2345</td>\n",
       "      <td>River Fun</td>\n",
       "      <td>nature:adventure:entertainment</td>\n",
       "      <td>NaN</td>\n",
       "      <td>NaN</td>\n",
       "      <td>NaN</td>\n",
       "    </tr>\n",
       "  </tbody>\n",
       "</table>\n",
       "<p>2143 rows × 6 columns</p>\n",
       "</div>"
      ],
      "text/plain": [
       "      dest_id                                              title  \\\n",
       "202       203                                  Satori Adventures   \n",
       "203       204                                    Happyland Treks   \n",
       "204       205  Adventure Nepal Eco Treks - Private Kathmandu ...   \n",
       "205       206                               Nepal Cooking School   \n",
       "206       207                               White Hill Adventure   \n",
       "...       ...                                                ...   \n",
       "2340     2341                       Zeal Nepal Trek & Expedition   \n",
       "2341     2342                                      Mohit Sunuwar   \n",
       "2342     2343                SITA (Travel Corporation India Ltd)   \n",
       "2343     2344                                     Himalayan Hike   \n",
       "2344     2345                                          River Fun   \n",
       "\n",
       "                                           genre latitude longitude img_url  \n",
       "202   history:art_and_architecture:entertainment      NaN       NaN     NaN  \n",
       "203                                      history      NaN       NaN     NaN  \n",
       "204                                    adventure      NaN       NaN     NaN  \n",
       "205                                         food      NaN       NaN     NaN  \n",
       "206        art_and_architecture:nature:adventure      NaN       NaN     NaN  \n",
       "...                                          ...      ...       ...     ...  \n",
       "2340                                     history      NaN       NaN     NaN  \n",
       "2341                                   adventure      NaN       NaN     NaN  \n",
       "2342                                     history      NaN       NaN     NaN  \n",
       "2343  history:art_and_architecture:entertainment      NaN       NaN     NaN  \n",
       "2344              nature:adventure:entertainment      NaN       NaN     NaN  \n",
       "\n",
       "[2143 rows x 6 columns]"
      ]
     },
     "execution_count": 166,
     "metadata": {},
     "output_type": "execute_result"
    }
   ],
   "source": [
    "dataset[202:]"
   ]
  },
  {
   "cell_type": "code",
   "execution_count": 170,
   "id": "013f6346",
   "metadata": {},
   "outputs": [],
   "source": [
    "final_out=pd.concat([final,dataset[202:]])"
   ]
  },
  {
   "cell_type": "code",
   "execution_count": 171,
   "id": "fcfbf1bb",
   "metadata": {},
   "outputs": [
    {
     "data": {
      "text/html": [
       "<div>\n",
       "<style scoped>\n",
       "    .dataframe tbody tr th:only-of-type {\n",
       "        vertical-align: middle;\n",
       "    }\n",
       "\n",
       "    .dataframe tbody tr th {\n",
       "        vertical-align: top;\n",
       "    }\n",
       "\n",
       "    .dataframe thead th {\n",
       "        text-align: right;\n",
       "    }\n",
       "</style>\n",
       "<table border=\"1\" class=\"dataframe\">\n",
       "  <thead>\n",
       "    <tr style=\"text-align: right;\">\n",
       "      <th></th>\n",
       "      <th>dest_id</th>\n",
       "      <th>title</th>\n",
       "      <th>genre</th>\n",
       "      <th>latitude</th>\n",
       "      <th>longitude</th>\n",
       "      <th>img_url</th>\n",
       "    </tr>\n",
       "  </thead>\n",
       "  <tbody>\n",
       "    <tr>\n",
       "      <th>0</th>\n",
       "      <td>1</td>\n",
       "      <td>Boudhanath Stupa</td>\n",
       "      <td>history:art_and_architecture:religious</td>\n",
       "      <td>27.7215062</td>\n",
       "      <td>85.359809</td>\n",
       "      <td>data:image/jpeg;base64,/9j/4AAQSkZJRgABAQAAAQA...</td>\n",
       "    </tr>\n",
       "    <tr>\n",
       "      <th>1</th>\n",
       "      <td>2</td>\n",
       "      <td>Swayambhunath Temple</td>\n",
       "      <td>history:art_and_architecture:religious</td>\n",
       "      <td>27.7149298</td>\n",
       "      <td>85.288146</td>\n",
       "      <td>data:image/jpeg;base64,/9j/4AAQSkZJRgABAQAAAQA...</td>\n",
       "    </tr>\n",
       "    <tr>\n",
       "      <th>2</th>\n",
       "      <td>3</td>\n",
       "      <td>Pashupatinath Temple</td>\n",
       "      <td>history:art_and_architecture:religious</td>\n",
       "      <td>27.7104461</td>\n",
       "      <td>85.346503</td>\n",
       "      <td>data:image/jpeg;base64,/9j/4AAQSkZJRgABAQAAAQA...</td>\n",
       "    </tr>\n",
       "    <tr>\n",
       "      <th>3</th>\n",
       "      <td>4</td>\n",
       "      <td>Chandragiri Hills</td>\n",
       "      <td>nature</td>\n",
       "      <td>27.6710496</td>\n",
       "      <td>85.262664</td>\n",
       "      <td>data:image/jpeg;base64,/9j/4AAQSkZJRgABAQAAAQA...</td>\n",
       "    </tr>\n",
       "    <tr>\n",
       "      <th>4</th>\n",
       "      <td>5</td>\n",
       "      <td>Kopan Monastery</td>\n",
       "      <td>history:art_and_architecture:religious</td>\n",
       "      <td>27.7425438</td>\n",
       "      <td>85.362208</td>\n",
       "      <td>data:image/jpeg;base64,/9j/4AAQSkZJRgABAQAAAQA...</td>\n",
       "    </tr>\n",
       "    <tr>\n",
       "      <th>...</th>\n",
       "      <td>...</td>\n",
       "      <td>...</td>\n",
       "      <td>...</td>\n",
       "      <td>...</td>\n",
       "      <td>...</td>\n",
       "      <td>...</td>\n",
       "    </tr>\n",
       "    <tr>\n",
       "      <th>2340</th>\n",
       "      <td>2341</td>\n",
       "      <td>Zeal Nepal Trek &amp; Expedition</td>\n",
       "      <td>history</td>\n",
       "      <td>NaN</td>\n",
       "      <td>NaN</td>\n",
       "      <td>NaN</td>\n",
       "    </tr>\n",
       "    <tr>\n",
       "      <th>2341</th>\n",
       "      <td>2342</td>\n",
       "      <td>Mohit Sunuwar</td>\n",
       "      <td>adventure</td>\n",
       "      <td>NaN</td>\n",
       "      <td>NaN</td>\n",
       "      <td>NaN</td>\n",
       "    </tr>\n",
       "    <tr>\n",
       "      <th>2342</th>\n",
       "      <td>2343</td>\n",
       "      <td>SITA (Travel Corporation India Ltd)</td>\n",
       "      <td>history</td>\n",
       "      <td>NaN</td>\n",
       "      <td>NaN</td>\n",
       "      <td>NaN</td>\n",
       "    </tr>\n",
       "    <tr>\n",
       "      <th>2343</th>\n",
       "      <td>2344</td>\n",
       "      <td>Himalayan Hike</td>\n",
       "      <td>history:art_and_architecture:entertainment</td>\n",
       "      <td>NaN</td>\n",
       "      <td>NaN</td>\n",
       "      <td>NaN</td>\n",
       "    </tr>\n",
       "    <tr>\n",
       "      <th>2344</th>\n",
       "      <td>2345</td>\n",
       "      <td>River Fun</td>\n",
       "      <td>nature:adventure:entertainment</td>\n",
       "      <td>NaN</td>\n",
       "      <td>NaN</td>\n",
       "      <td>NaN</td>\n",
       "    </tr>\n",
       "  </tbody>\n",
       "</table>\n",
       "<p>2333 rows × 6 columns</p>\n",
       "</div>"
      ],
      "text/plain": [
       "      dest_id                                title  \\\n",
       "0           1                     Boudhanath Stupa   \n",
       "1           2                 Swayambhunath Temple   \n",
       "2           3                 Pashupatinath Temple   \n",
       "3           4                    Chandragiri Hills   \n",
       "4           5                      Kopan Monastery   \n",
       "...       ...                                  ...   \n",
       "2340     2341         Zeal Nepal Trek & Expedition   \n",
       "2341     2342                        Mohit Sunuwar   \n",
       "2342     2343  SITA (Travel Corporation India Ltd)   \n",
       "2343     2344                       Himalayan Hike   \n",
       "2344     2345                            River Fun   \n",
       "\n",
       "                                           genre    latitude  longitude  \\\n",
       "0         history:art_and_architecture:religious  27.7215062  85.359809   \n",
       "1         history:art_and_architecture:religious  27.7149298  85.288146   \n",
       "2         history:art_and_architecture:religious  27.7104461  85.346503   \n",
       "3                                         nature  27.6710496  85.262664   \n",
       "4         history:art_and_architecture:religious  27.7425438  85.362208   \n",
       "...                                          ...         ...        ...   \n",
       "2340                                     history         NaN        NaN   \n",
       "2341                                   adventure         NaN        NaN   \n",
       "2342                                     history         NaN        NaN   \n",
       "2343  history:art_and_architecture:entertainment         NaN        NaN   \n",
       "2344              nature:adventure:entertainment         NaN        NaN   \n",
       "\n",
       "                                                img_url  \n",
       "0     data:image/jpeg;base64,/9j/4AAQSkZJRgABAQAAAQA...  \n",
       "1     data:image/jpeg;base64,/9j/4AAQSkZJRgABAQAAAQA...  \n",
       "2     data:image/jpeg;base64,/9j/4AAQSkZJRgABAQAAAQA...  \n",
       "3     data:image/jpeg;base64,/9j/4AAQSkZJRgABAQAAAQA...  \n",
       "4     data:image/jpeg;base64,/9j/4AAQSkZJRgABAQAAAQA...  \n",
       "...                                                 ...  \n",
       "2340                                                NaN  \n",
       "2341                                                NaN  \n",
       "2342                                                NaN  \n",
       "2343                                                NaN  \n",
       "2344                                                NaN  \n",
       "\n",
       "[2333 rows x 6 columns]"
      ]
     },
     "execution_count": 171,
     "metadata": {},
     "output_type": "execute_result"
    }
   ],
   "source": [
    "final_out"
   ]
  },
  {
   "cell_type": "code",
   "execution_count": 173,
   "id": "3bb853bb",
   "metadata": {},
   "outputs": [],
   "source": [
    "# save the final dataset\n",
    "final_out.to_csv(\"final_destinations_of_ktm_latest.csv\",index=None)"
   ]
  },
  {
   "cell_type": "code",
   "execution_count": null,
   "id": "96e7d7c3",
   "metadata": {},
   "outputs": [],
   "source": []
  }
 ],
 "metadata": {
  "kernelspec": {
   "display_name": "Python 3 (ipykernel)",
   "language": "python",
   "name": "python3"
  },
  "language_info": {
   "codemirror_mode": {
    "name": "ipython",
    "version": 3
   },
   "file_extension": ".py",
   "mimetype": "text/x-python",
   "name": "python",
   "nbconvert_exporter": "python",
   "pygments_lexer": "ipython3",
   "version": "3.9.7"
  }
 },
 "nbformat": 4,
 "nbformat_minor": 5
}
