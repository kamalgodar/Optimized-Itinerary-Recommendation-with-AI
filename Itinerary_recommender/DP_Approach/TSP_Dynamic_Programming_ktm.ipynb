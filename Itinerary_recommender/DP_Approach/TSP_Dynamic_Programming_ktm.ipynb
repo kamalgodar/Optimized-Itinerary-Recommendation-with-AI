{
 "cells": [
  {
   "cell_type": "markdown",
   "id": "c4eb9200",
   "metadata": {},
   "source": [
    "# Solving TSP with Dynamic Programming"
   ]
  },
  {
   "cell_type": "markdown",
   "id": "67278972",
   "metadata": {},
   "source": [
    "### Import the required libraries"
   ]
  },
  {
   "cell_type": "code",
   "execution_count": 1,
   "id": "b9545842",
   "metadata": {},
   "outputs": [],
   "source": [
    "import sys\n",
    "import copy\n",
    "import numpy as np \n",
    "import pandas as pd\n",
    "from matplotlib import pyplot as plt"
   ]
  },
  {
   "cell_type": "code",
   "execution_count": 2,
   "id": "308dea97",
   "metadata": {},
   "outputs": [
    {
     "name": "stdout",
     "output_type": "stream",
     "text": [
      "                  title avg_rating  voted_by            genre    latitude  \\\n",
      "0      Boudhanath Stupa        4.5      8897  Religious Sites  27.7215062   \n",
      "1  Swayambhunath Temple        4.5      6203  Religious Sites  27.7149298   \n",
      "2  Pashupatinath Temple        4.5      4937  Religious Sites  27.7104461   \n",
      "3     Chandragiri Hills        4.5       399        Mountains  27.6710496   \n",
      "4       Kopan Monastery        4.5       787  Religious Sites  27.7425438   \n",
      "\n",
      "   longitude  \n",
      "0  85.359809  \n",
      "1  85.288146  \n",
      "2  85.346503  \n",
      "3  85.262664  \n",
      "4  85.362208  \n"
     ]
    }
   ],
   "source": [
    "top_dests_ktm=pd.read_csv(\"../../Datasets/destinations_of_kathmandu_updated_with_latlong.csv\")\n",
    "print(top_dests_ktm.head())"
   ]
  },
  {
   "cell_type": "code",
   "execution_count": 3,
   "id": "74ccc9af",
   "metadata": {},
   "outputs": [
    {
     "name": "stdout",
     "output_type": "stream",
     "text": [
      "                         title avg_rating  voted_by  \\\n",
      "90     Ghanta Ghar Clock Tower        3.5        11   \n",
      "91  Jamchen Lhakhang Monastery        3.5         3   \n",
      "92                    Big Bell        3.5         9   \n",
      "93       Mrigasthali Deer Park          4         5   \n",
      "94            Universal Crafts          5         3   \n",
      "\n",
      "                              genre    latitude  longitude  \n",
      "90   Points of Interest & Landmarks   27.707477  85.314711  \n",
      "91                  Religious Sites  27.7215058  85.359192  \n",
      "92   Points of Interest & Landmarks  27.7268583  85.300625  \n",
      "93  Nature & Wildlife Areas • Parks   27.711512  85.349772  \n",
      "94    Art Galleries • Antique Shops  27.7173331  85.381252  \n"
     ]
    }
   ],
   "source": [
    "# select the first 95 destinations as they're the destinations having the latitude and longitude currently\n",
    "top_dests_ktm=top_dests_ktm[:95]\n",
    "print(top_dests_ktm.tail())"
   ]
  },
  {
   "cell_type": "code",
   "execution_count": 4,
   "id": "ea1c4c78",
   "metadata": {},
   "outputs": [
    {
     "name": "stdout",
     "output_type": "stream",
     "text": [
      "                               title avg_rating  voted_by  \\\n",
      "0                   Boudhanath Stupa        4.5      8897   \n",
      "1               Swayambhunath Temple        4.5      6203   \n",
      "2               Pashupatinath Temple        4.5      4937   \n",
      "3                  Chandragiri Hills        4.5       399   \n",
      "4                    Kopan Monastery        4.5       787   \n",
      "5                             Thamel          4      5687   \n",
      "6                   Garden of Dreams        4.5      4021   \n",
      "7                Namo Buddha (Stupa)        4.5       129   \n",
      "8            Kathmandu Durbar Square          4      4711   \n",
      "9                               Asan        4.5       243   \n",
      "10  Shivapuri Nagarjun National Park        4.5       135   \n",
      "\n",
      "                                               genre    latitude  longitude  \n",
      "0                                    Religious Sites  27.7215062  85.359809  \n",
      "1                                    Religious Sites  27.7149298  85.288146  \n",
      "2                                    Religious Sites  27.7104461  85.346503  \n",
      "3                                          Mountains  27.6710496  85.262664  \n",
      "4                                    Religious Sites  27.7425438  85.362208  \n",
      "5                                      Neighborhoods  27.7150086  85.307894  \n",
      "6                                            Gardens  27.7141261  85.312315  \n",
      "7   Points of Interest & Landmarks • Religious Sites   27.570067  85.577846  \n",
      "8    Historic Sites • Points of Interest & Landmarks  27.7041718  85.304464  \n",
      "9                              Flea & Street Markets  27.7074849  85.310201  \n",
      "10                                    National Parks  27.8120756  85.367192  \n"
     ]
    }
   ],
   "source": [
    "# let's just pick n=10 for now for better visualization\n",
    "n=11 #graph size\n",
    "top_n_dests=top_dests_ktm[:n]\n",
    "print(top_n_dests)"
   ]
  },
  {
   "cell_type": "code",
   "execution_count": 5,
   "id": "87c8b3d7",
   "metadata": {},
   "outputs": [
    {
     "name": "stdout",
     "output_type": "stream",
     "text": [
      "                         title    latitude  longitude\n",
      "0             Boudhanath Stupa  27.7215062  85.359809\n",
      "1         Swayambhunath Temple  27.7149298  85.288146\n",
      "2         Pashupatinath Temple  27.7104461  85.346503\n",
      "3            Chandragiri Hills  27.6710496  85.262664\n",
      "4              Kopan Monastery  27.7425438  85.362208\n",
      "..                         ...         ...        ...\n",
      "90     Ghanta Ghar Clock Tower   27.707477  85.314711\n",
      "91  Jamchen Lhakhang Monastery  27.7215058  85.359192\n",
      "92                    Big Bell  27.7268583  85.300625\n",
      "93       Mrigasthali Deer Park   27.711512  85.349772\n",
      "94            Universal Crafts  27.7173331  85.381252\n",
      "\n",
      "[95 rows x 3 columns]\n"
     ]
    }
   ],
   "source": [
    "# since we'll be dealing only with latitude and longitude at the moment\n",
    "# only filter those columns along with the title\n",
    "print(top_dests_ktm[['title','latitude','longitude']])"
   ]
  },
  {
   "cell_type": "code",
   "execution_count": 6,
   "id": "075c0c82",
   "metadata": {},
   "outputs": [],
   "source": [
    "# also meanwhile let's create a matrix called 'graph' to store the weights for each edges\n",
    "graph=np.zeros((n,n))\n",
    "\n",
    "def create_graph():\n",
    "\n",
    "    # iterators to iterate through the graph\n",
    "    i=0\n",
    "    j=0\n",
    "\n",
    "    for lat,long in zip(top_n_dests['latitude'].astype(float),top_n_dests['longitude'].astype(float)):\n",
    "        j=0\n",
    "        for another_lat,another_long in zip(top_n_dests['latitude'].astype(float),top_n_dests['longitude'].astype(float)):\n",
    "            #edge weight(Euclidean distance)\n",
    "            distance_between_the_places=np.sqrt((lat-another_lat)**2+(long-another_long)**2)\n",
    "            #print(distance_between_the_places)\n",
    "\n",
    "            #and store it in the 'graph' matrix\n",
    "            graph[i][j]=distance_between_the_places\n",
    "            #increment j \n",
    "            j+=1\n",
    "\n",
    "        #increment i\n",
    "        i+=1"
   ]
  },
  {
   "cell_type": "code",
   "execution_count": 7,
   "id": "10af9333",
   "metadata": {},
   "outputs": [
    {
     "name": "stdout",
     "output_type": "stream",
     "text": [
      "[[0.         0.07196422 0.01730239 0.10946671 0.021174   0.05232003\n",
      "  0.04806329 0.2654699  0.05799622 0.05155153 0.09086983]\n",
      " [0.07196422 0.         0.05852919 0.05074233 0.07904304 0.01974826\n",
      "  0.02418316 0.32390089 0.01954512 0.02327766 0.1252422 ]\n",
      " [0.01730239 0.05852919 0.         0.09263384 0.03573404 0.03887774\n",
      "  0.03438489 0.27060331 0.04250484 0.03642277 0.10371398]\n",
      " [0.10946671 0.05074233 0.09263384 0.         0.12255802 0.06307234\n",
      "  0.06573315 0.3309644  0.05333185 0.05989373 0.17554029]\n",
      " [0.021174   0.07904304 0.03573404 0.12255802 0.         0.06089542\n",
      "  0.05741827 0.27613055 0.06933144 0.06272094 0.06971017]\n",
      " [0.05232003 0.01974826 0.03887774 0.06307234 0.06089542 0.\n",
      "  0.00450891 0.30640256 0.0113667  0.00786942 0.1137465 ]\n",
      " [0.04806329 0.02418316 0.03438489 0.06573315 0.05741827 0.00450891\n",
      "  0.         0.30209226 0.01267828 0.00696979 0.11227432]\n",
      " [0.2654699  0.32390089 0.27060331 0.3309644  0.27613055 0.30640256\n",
      "  0.30209226 0.         0.30450329 0.30086202 0.32084813]\n",
      " [0.05799622 0.01954512 0.04250484 0.05333185 0.06933144 0.0113667\n",
      "  0.01267828 0.30450329 0.         0.00662494 0.12481209]\n",
      " [0.05155153 0.02327766 0.03642277 0.05989373 0.06272094 0.00786942\n",
      "  0.00696979 0.30086202 0.00662494 0.         0.11911008]\n",
      " [0.09086983 0.1252422  0.10371398 0.17554029 0.06971017 0.1137465\n",
      "  0.11227432 0.32084813 0.12481209 0.11911008 0.        ]]\n"
     ]
    }
   ],
   "source": [
    "create_graph()\n",
    "print(graph)"
   ]
  },
  {
   "cell_type": "code",
   "execution_count": 8,
   "id": "38256b4a",
   "metadata": {},
   "outputs": [],
   "source": [
    "# input matrix containing cost\n",
    "matrix = graph\n",
    "# input data points\n",
    "data = list(range(0,n))"
   ]
  },
  {
   "cell_type": "code",
   "execution_count": 9,
   "id": "2a1eb248",
   "metadata": {},
   "outputs": [],
   "source": [
    "# initializing necessary parameters\n",
    "all_sets = []\n",
    "g = {}\n",
    "p = []\n",
    "starting_node=1"
   ]
  },
  {
   "cell_type": "code",
   "execution_count": 10,
   "id": "d876edf0",
   "metadata": {},
   "outputs": [],
   "source": [
    "def main():\n",
    "    \"\"\"\n",
    "        Main function\n",
    "    \"\"\"\n",
    "    \n",
    "    route=[] #to store the final route\n",
    "    \n",
    "    for x in range(1, n):\n",
    "        g[x + 1, ()] = matrix[x][0]\n",
    "    \n",
    "    # minimum cost\n",
    "    min_cost=get_minimum(starting_node, tuple(range(2,n+1)))\n",
    "    print(\"Miniumum cost: \",min_cost)\n",
    "    print('\\n\\nSolution to TSP: {1, ', end='')\n",
    "    \n",
    "    route.append(1) #append the starting node\n",
    "    \n",
    "    solution = p.pop()\n",
    "    print(solution[1][0], end=', ')\n",
    "    route.append(solution[1][0])\n",
    "    for x in range(n - 2):\n",
    "        for new_solution in p:\n",
    "            if tuple(solution[1]) == new_solution[0]:\n",
    "                solution = new_solution\n",
    "                print(solution[1][0], end=', ')\n",
    "                route.append(solution[1][0])\n",
    "                break\n",
    "    print('1}')\n",
    "    route.append(1)#append the ending node (same as starting node)\n",
    "#     print(route)\n",
    "    return route"
   ]
  },
  {
   "cell_type": "code",
   "execution_count": 11,
   "id": "b37a164c",
   "metadata": {},
   "outputs": [],
   "source": [
    "def get_minimum(k, a):\n",
    "    \"\"\"\n",
    "        Get the minimum cost\n",
    "    \"\"\"\n",
    "    if (k, a) in g:\n",
    "        # Already calculated Set g[%d, (%s)]=%d' % (k, str(a), g[k, a]))\n",
    "        return g[k, a]\n",
    "\n",
    "    values = []\n",
    "    all_min = []\n",
    "    for j in a:\n",
    "        set_a = copy.deepcopy(list(a))\n",
    "        set_a.remove(j)\n",
    "        all_min.append([j, tuple(set_a)])\n",
    "        result = get_minimum(j, tuple(set_a))\n",
    "        values.append(matrix[k-1][j-1] + result)\n",
    "\n",
    "    # get minimun value from set as optimal solution for\n",
    "    g[k, a] = min(values)\n",
    "    p.append(((k, a), all_min[values.index(g[k, a])]))\n",
    "\n",
    "    return g[k, a]\n"
   ]
  },
  {
   "cell_type": "code",
   "execution_count": 12,
   "id": "cb31c56e",
   "metadata": {},
   "outputs": [
    {
     "name": "stdout",
     "output_type": "stream",
     "text": [
      "Miniumum cost:  0.8836746921757663\n",
      "\n",
      "\n",
      "Solution to TSP: {1, 3, 7, 6, 10, 9, 2, 4, 8, 11, 5, 1}\n"
     ]
    }
   ],
   "source": [
    "if __name__ == '__main__':\n",
    "    route=main()"
   ]
  },
  {
   "cell_type": "code",
   "execution_count": 13,
   "id": "bc688222",
   "metadata": {},
   "outputs": [
    {
     "name": "stdout",
     "output_type": "stream",
     "text": [
      "0.8836746921757664\n"
     ]
    }
   ],
   "source": [
    "#cross-checking the total cost\n",
    "total_cost=0 #initialize total cost to 0\n",
    "for i in range(0,len(route)-1):\n",
    "    total_cost=total_cost+matrix[route[i]-1][route[i+1]-1]\n",
    "print(total_cost)"
   ]
  },
  {
   "cell_type": "code",
   "execution_count": 14,
   "id": "7234f93d",
   "metadata": {},
   "outputs": [
    {
     "name": "stdout",
     "output_type": "stream",
     "text": [
      "Boudhanath Stupa--->Pashupatinath Temple--->Garden of Dreams--->Thamel--->Asan--->Kathmandu Durbar Square--->Swayambhunath Temple--->Chandragiri Hills--->Namo Buddha (Stupa)--->Shivapuri Nagarjun National Park--->Kopan Monastery--->Boudhanath Stupa--->"
     ]
    }
   ],
   "source": [
    "for i in route:\n",
    "    print(top_n_dests.iloc[i-1][\"title\"],end='')\n",
    "    print(\"--->\",end='')"
   ]
  },
  {
   "cell_type": "code",
   "execution_count": 15,
   "id": "a984ab10",
   "metadata": {},
   "outputs": [
    {
     "name": "stdout",
     "output_type": "stream",
     "text": [
      "Boudhanath Stupa->Pashupatinath Temple 1.7955626615260667\n",
      "Pashupatinath Temple->Garden of Dreams 3.396197825565541\n",
      "Garden of Dreams->Thamel 0.44689862662388247\n",
      "Thamel->Asan 0.8642223030927411\n",
      "Asan->Kathmandu Durbar Square 0.6745014662557417\n",
      "Kathmandu Durbar Square->Swayambhunath Temple 2.0028041940669565\n",
      "Swayambhunath Temple->Chandragiri Hills 5.473767406580083\n",
      "Chandragiri Hills->Namo Buddha (Stupa) 33.06119322103626\n",
      "Namo Buddha (Stupa)->Shivapuri Nagarjun National Park 33.92611055106534\n",
      "Shivapuri Nagarjun National Park->Kopan Monastery 7.720867738532215\n",
      "Kopan Monastery->Boudhanath Stupa 2.343260122303754\n",
      "Total distance(km):  91.70538611664861\n"
     ]
    }
   ],
   "source": [
    "#actual distance given by Vincenty distance using more accurate ellipsoidal models such as WGS-84 than Haversine\n",
    "import geopy.distance\n",
    "total_distance=0 #total actual distance\n",
    "\n",
    "for i in range(len(route)-1):\n",
    "    coords_1 = (top_n_dests.iloc[route[i]-1][\"latitude\"],top_n_dests.iloc[route[i]-1][\"longitude\"])\n",
    "    coords_2 = (top_n_dests.iloc[route[i+1]-1][\"latitude\"],top_n_dests.iloc[route[i+1]-1][\"longitude\"])\n",
    "    \n",
    "    #names of destinations connected\n",
    "    src=top_n_dests.iloc[route[i]-1][\"title\"]\n",
    "    dest=top_n_dests.iloc[route[i+1]-1][\"title\"]\n",
    "    distance=geopy.distance.geodesic(coords_1, coords_2).km\n",
    "    print (f'{str(src)+\"->\"+str(dest)}',distance)\n",
    "    total_distance=total_distance+distance\n",
    "\n",
    "print(\"Total distance(km): \",total_distance)"
   ]
  },
  {
   "cell_type": "code",
   "execution_count": null,
   "id": "25bcbb43",
   "metadata": {},
   "outputs": [],
   "source": []
  }
 ],
 "metadata": {
  "kernelspec": {
   "display_name": "Python 3 (ipykernel)",
   "language": "python",
   "name": "python3"
  },
  "language_info": {
   "codemirror_mode": {
    "name": "ipython",
    "version": 3
   },
   "file_extension": ".py",
   "mimetype": "text/x-python",
   "name": "python",
   "nbconvert_exporter": "python",
   "pygments_lexer": "ipython3",
   "version": "3.9.7"
  }
 },
 "nbformat": 4,
 "nbformat_minor": 5
}
