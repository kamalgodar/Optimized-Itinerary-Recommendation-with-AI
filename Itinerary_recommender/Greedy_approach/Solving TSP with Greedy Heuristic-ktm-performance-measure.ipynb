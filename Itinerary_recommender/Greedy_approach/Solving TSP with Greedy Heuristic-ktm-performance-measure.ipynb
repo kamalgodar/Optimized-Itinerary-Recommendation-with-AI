{
 "cells": [
  {
   "cell_type": "code",
   "execution_count": 222,
   "id": "aba5e3ea",
   "metadata": {},
   "outputs": [],
   "source": [
    "# Import the libraries \n",
    "\n",
    "import numpy as np \n",
    "import pandas as pd\n",
    "from matplotlib import pyplot as plt"
   ]
  },
  {
   "cell_type": "code",
   "execution_count": 223,
   "id": "364ccb1a",
   "metadata": {},
   "outputs": [
    {
     "name": "stdout",
     "output_type": "stream",
     "text": [
      "                  title avg_rating  voted_by            genre    latitude  \\\n",
      "0      Boudhanath Stupa        4.5      8897  Religious Sites  27.7215062   \n",
      "1  Swayambhunath Temple        4.5      6203  Religious Sites  27.7149298   \n",
      "2  Pashupatinath Temple        4.5      4937  Religious Sites  27.7104461   \n",
      "3     Chandragiri Hills        4.5       399        Mountains  27.6710496   \n",
      "4       Kopan Monastery        4.5       787  Religious Sites  27.7425438   \n",
      "\n",
      "   longitude  \n",
      "0  85.359809  \n",
      "1  85.288146  \n",
      "2  85.346503  \n",
      "3  85.262664  \n",
      "4  85.362208  \n"
     ]
    }
   ],
   "source": [
    "top_dests_ktm=pd.read_csv(\"../../Datasets/destinations_of_kathmandu_updated_with_latlong.csv\")\n",
    "print(top_dests_ktm.head())"
   ]
  },
  {
   "cell_type": "code",
   "execution_count": 224,
   "id": "9d626d54",
   "metadata": {},
   "outputs": [
    {
     "name": "stdout",
     "output_type": "stream",
     "text": [
      "                         title avg_rating  voted_by  \\\n",
      "90     Ghanta Ghar Clock Tower        3.5        11   \n",
      "91  Jamchen Lhakhang Monastery        3.5         3   \n",
      "92                    Big Bell        3.5         9   \n",
      "93       Mrigasthali Deer Park          4         5   \n",
      "94            Universal Crafts          5         3   \n",
      "\n",
      "                              genre    latitude  longitude  \n",
      "90   Points of Interest & Landmarks   27.707477  85.314711  \n",
      "91                  Religious Sites  27.7215058  85.359192  \n",
      "92   Points of Interest & Landmarks  27.7268583  85.300625  \n",
      "93  Nature & Wildlife Areas • Parks   27.711512  85.349772  \n",
      "94    Art Galleries • Antique Shops  27.7173331  85.381252  \n"
     ]
    }
   ],
   "source": [
    "# select the first 95 destinations as they're the destinations having the latitude and longitude currently\n",
    "top_dests_ktm=top_dests_ktm[:95]\n",
    "print(top_dests_ktm.tail())"
   ]
  },
  {
   "cell_type": "code",
   "execution_count": 225,
   "id": "392c9815",
   "metadata": {},
   "outputs": [
    {
     "name": "stdout",
     "output_type": "stream",
     "text": [
      "                         title    latitude  longitude\n",
      "0             Boudhanath Stupa  27.7215062  85.359809\n",
      "1         Swayambhunath Temple  27.7149298  85.288146\n",
      "2         Pashupatinath Temple  27.7104461  85.346503\n",
      "3            Chandragiri Hills  27.6710496  85.262664\n",
      "4              Kopan Monastery  27.7425438  85.362208\n",
      "..                         ...         ...        ...\n",
      "90     Ghanta Ghar Clock Tower   27.707477  85.314711\n",
      "91  Jamchen Lhakhang Monastery  27.7215058  85.359192\n",
      "92                    Big Bell  27.7268583  85.300625\n",
      "93       Mrigasthali Deer Park   27.711512  85.349772\n",
      "94            Universal Crafts  27.7173331  85.381252\n",
      "\n",
      "[95 rows x 3 columns]\n"
     ]
    }
   ],
   "source": [
    "# since we'll be dealing only with latitude and longitude at the moment\n",
    "# only filter those columns along with the title\n",
    "print(top_dests_ktm[['title','latitude','longitude']])"
   ]
  },
  {
   "cell_type": "code",
   "execution_count": 226,
   "id": "01675e77",
   "metadata": {},
   "outputs": [
    {
     "name": "stdout",
     "output_type": "stream",
     "text": [
      "                     title avg_rating  voted_by  \\\n",
      "0         Boudhanath Stupa        4.5      8897   \n",
      "1     Swayambhunath Temple        4.5      6203   \n",
      "2     Pashupatinath Temple        4.5      4937   \n",
      "3        Chandragiri Hills        4.5       399   \n",
      "4          Kopan Monastery        4.5       787   \n",
      "..                     ...        ...       ...   \n",
      "85          Gaddhi Baithak          3        13   \n",
      "86              Casino Rad          3        10   \n",
      "87  Sundarijal Water Falls          5         7   \n",
      "88     Shiva Mandir Temple        3.5        11   \n",
      "89   Bagwati Mandir Temple        4.5         6   \n",
      "\n",
      "                                                genre    latitude  longitude  \n",
      "0                                     Religious Sites  27.7215062  85.359809  \n",
      "1                                     Religious Sites  27.7149298  85.288146  \n",
      "2                                     Religious Sites  27.7104461  85.346503  \n",
      "3                                           Mountains  27.6710496  85.262664  \n",
      "4                                     Religious Sites  27.7425438  85.362208  \n",
      "..                                                ...         ...        ...  \n",
      "85  Points of Interest & Landmarks • Architectural...  27.7039986  85.304528  \n",
      "86                                            Casinos  27.7199962  85.319477  \n",
      "87                                         Waterfalls  27.7591264  85.418929  \n",
      "88          Architectural Buildings • Religious Sites  27.7113931  85.282904  \n",
      "89   Points of Interest & Landmarks • Religious Sites  27.6974459  85.278810  \n",
      "\n",
      "[90 rows x 6 columns]\n"
     ]
    }
   ],
   "source": [
    "# let's just pick n=10 for now for better visualization\n",
    "n=90 #graph size\n",
    "top_n_dests=top_dests_ktm[:n]\n",
    "print(top_n_dests)"
   ]
  },
  {
   "cell_type": "code",
   "execution_count": 227,
   "id": "ed9127ad",
   "metadata": {},
   "outputs": [],
   "source": [
    "# also meanwhile let's create a matrix called 'graph' to store the weights for each edges\n",
    "graph=np.zeros((n,n))\n",
    "\n",
    "def create_graph():\n",
    "\n",
    "    # iterators to iterate through the graph\n",
    "    i=0\n",
    "    j=0\n",
    "\n",
    "    for lat,long in zip(top_n_dests['latitude'].astype(float),top_n_dests['longitude'].astype(float)):\n",
    "        j=0\n",
    "        for another_lat,another_long in zip(top_n_dests['latitude'].astype(float),top_n_dests['longitude'].astype(float)):\n",
    "            #edge weight(Euclidean distance)\n",
    "            distance_between_the_places=np.sqrt((lat-another_lat)**2+(long-another_long)**2)\n",
    "            #print(distance_between_the_places)\n",
    "\n",
    "            #and store it in the 'graph' matrix\n",
    "            graph[i][j]=distance_between_the_places\n",
    "            #increment j \n",
    "            j+=1\n",
    "\n",
    "        #increment i\n",
    "        i+=1"
   ]
  },
  {
   "cell_type": "code",
   "execution_count": 228,
   "id": "04a18ef5",
   "metadata": {},
   "outputs": [
    {
     "name": "stdout",
     "output_type": "stream",
     "text": [
      "[[0.         0.07196422 0.01730239 ... 0.07007488 0.07756709 0.08449705]\n",
      " [0.07196422 0.         0.05852919 ... 0.1380494  0.00632343 0.01982038]\n",
      " [0.01730239 0.05852919 0.         ... 0.08726584 0.06360615 0.06893021]\n",
      " ...\n",
      " [0.07007488 0.1380494  0.08726584 ... 0.         0.14415738 0.15309451]\n",
      " [0.07756709 0.00632343 0.06360615 ... 0.14415738 0.         0.01453568]\n",
      " [0.08449705 0.01982038 0.06893021 ... 0.15309451 0.01453568 0.        ]]\n"
     ]
    }
   ],
   "source": [
    "create_graph()\n",
    "print(graph)"
   ]
  },
  {
   "cell_type": "code",
   "execution_count": 229,
   "id": "20e4e9db",
   "metadata": {},
   "outputs": [],
   "source": [
    "from numpy import argmin"
   ]
  },
  {
   "cell_type": "markdown",
   "id": "f7696b17",
   "metadata": {},
   "source": [
    "## Now let's define the functions for implementing the 2-opt \n",
    "\n",
    "#### In a nutshell, 2-opt improves the path obtained from the greedy approach"
   ]
  },
  {
   "cell_type": "code",
   "execution_count": 230,
   "id": "ed9feda6",
   "metadata": {},
   "outputs": [],
   "source": [
    "def _swap_2opt(route, i, k):\n",
    "    \"\"\" \n",
    "        Swapping the route \n",
    "    \"\"\"\n",
    "    new_route = route[0:i]\n",
    "    new_route.extend(reversed(route[i:k + 1]))\n",
    "    new_route.extend(route[k + 1:])\n",
    "    return new_route\n"
   ]
  },
  {
   "cell_type": "code",
   "execution_count": 231,
   "id": "8ef302c9",
   "metadata": {},
   "outputs": [],
   "source": [
    "def route_cost(graph, path):\n",
    "    \"\"\"\n",
    "        Calculates the cost for the route. \n",
    "    \"\"\"\n",
    "    cost = 0\n",
    "    for index in range(len(path) - 1):\n",
    "        cost = cost + graph[path[index]][path[index + 1]]\n",
    "    # add last edge to form a cycle.\n",
    "    cost = cost + graph[path[-1], path[0]]\n",
    "    return cost"
   ]
  },
  {
   "cell_type": "code",
   "execution_count": 232,
   "id": "c2dbf62a",
   "metadata": {},
   "outputs": [],
   "source": [
    "# implement the 2-opt heuristic to improve the returned greedy route\n",
    "\n",
    "def tsp_2_opt(graph, route):\n",
    "    \"\"\"\n",
    "    Approximate the optimal path of travelling salesman according to 2-opt algorithm\n",
    "    Args:\n",
    "        graph: 2d numpy array as graph\n",
    "        route: list of nodes\n",
    "\n",
    "    Returns:\n",
    "        optimal path according to 2-opt algorithm\n",
    "\n",
    "    Examples:\n",
    "        >>> import numpy as np\n",
    "        >>> graph = np.array([[  0, 300, 250, 190, 230],\n",
    "        >>>                   [300,   0, 230, 330, 150],\n",
    "        >>>                   [250, 230,   0, 240, 120],\n",
    "        >>>                   [190, 330, 240,   0, 220],\n",
    "        >>>                   [230, 150, 120, 220,   0]])\n",
    "        >>> tsp_2_opt(graph)\n",
    "    \"\"\"\n",
    "    improved = True\n",
    "    best_found_route = route\n",
    "    best_found_route_cost = route_cost(graph, best_found_route)\n",
    "    while improved:\n",
    "        improved = False\n",
    "        for i in range(1, len(best_found_route) - 1):\n",
    "            for k in range(i + 1, len(best_found_route) - 1):\n",
    "                new_route = _swap_2opt(best_found_route, i, k)\n",
    "                new_route_cost = route_cost(graph, new_route)\n",
    "                if new_route_cost < best_found_route_cost:\n",
    "                    best_found_route_cost = new_route_cost\n",
    "                    best_found_route = new_route\n",
    "                    improved = True\n",
    "                    break\n",
    "            if improved:\n",
    "                break\n",
    "    return best_found_route_cost,best_found_route\n"
   ]
  },
  {
   "cell_type": "markdown",
   "id": "a8d6488a",
   "metadata": {},
   "source": [
    "### The following is the implementation of the greedy approach i.e. using the Nearest Neighbor Heuristic"
   ]
  },
  {
   "cell_type": "code",
   "execution_count": 233,
   "id": "e844ebfb",
   "metadata": {},
   "outputs": [],
   "source": [
    "data= list(range(0,n))# should contain the list of city ids \n",
    "matrix=graph"
   ]
  },
  {
   "cell_type": "code",
   "execution_count": 234,
   "id": "bc1f83c0",
   "metadata": {},
   "outputs": [],
   "source": [
    "# redefining the nearest neighbour heuristic\n",
    "import time\n",
    "def nearest_neighbor_heuristic_route_generator(starting_point):\n",
    "    \"\"\"\n",
    "        Greedy Nearest neighbor heuristic route generator\n",
    "    \"\"\"\n",
    "    # maintain a list called 'visited' to store the cities that have been visited\n",
    "    # initially, this holds the starting city\n",
    "    visited=[]\n",
    "    visited.append(starting_point)\n",
    "    current_point=starting_point\n",
    "    #also maintain a local copy of all the cities\n",
    "    data_copy=data.copy()\n",
    "    #remove the visited city from this list\n",
    "    data_copy.remove(starting_point)\n",
    "    #total cost of the route\n",
    "    total_cost=0\n",
    "    \n",
    "    # from the starting city, calculate the cost to every cities(except itself) and select the city with minimum cost\n",
    "    while data_copy !=[]:\n",
    "        #calculate cost to every other cities in the cities_copy from the current city and store in cost_list\n",
    "        cost_list=[]\n",
    "        for neighbor_point in data_copy:\n",
    "            cost=matrix[current_point][neighbor_point]\n",
    "            cost_list.append(cost)\n",
    "#         print(cost_list)\n",
    "        min_idx=np.argmin(cost_list)#selects the index with the minimum cost\n",
    "#         print(min_idx) \n",
    "        #also add the min cost to the total cost\n",
    "        total_cost+=min(cost_list)\n",
    "        #now find the corresponding point (neighbor)\n",
    "        corresponding_point=data_copy[min_idx]\n",
    "        # add that to the visited list\n",
    "        visited.append(corresponding_point)\n",
    "        # remove that from the data_copy list\n",
    "        data_copy.remove(corresponding_point)\n",
    "        # change current city to the city with min cost (corresponding city)\n",
    "        current_point=corresponding_point\n",
    "        \n",
    "    # last city has to be connected to the starting city so let's do that\n",
    "    total_cost+=matrix[current_point][starting_point] #add to total cost\n",
    "    visited.append(starting_point)\n",
    "    \n",
    "    return total_cost,visited\n",
    "        \n",
    "\n",
    "#display the result for the data\n",
    "t_in=time.time()\n",
    "total_cost,route_generated=nearest_neighbor_heuristic_route_generator(0)\n",
    "t_out1=time.time()\n",
    "\n",
    "\n",
    "#apply 2-opt \n",
    "final_cost,final_route=tsp_2_opt(np.array(matrix),route_generated)\n",
    "t_out2=time.time()\n",
    "    "
   ]
  },
  {
   "cell_type": "code",
   "execution_count": 235,
   "id": "99ae0983",
   "metadata": {},
   "outputs": [
    {
     "name": "stdout",
     "output_type": "stream",
     "text": [
      "Boudhanath Stupa--->Guru Lhakhang Monastery--->Boudha Stupa Thanka Center--->Boudha Farmers Market at Utpala Cafe--->Shechen Monastery--->Taragaon Museum--->Guhyeshwari Temple--->Pashupatinath Temple--->Aarya Ghat--->The Crematoria--->Aviation Museum--->Nepal Art Council Gallery--->Babar Mahal Revisted--->Kathmandu Fun Park--->Kashmiri Mosque--->Rani Pokhari (Queen's Pond)--->Ratna Park--->Asan--->Annapurna Temple--->Seto Machindranath Temple--->Akash Bhairav Temple--->Indra Chowk--->Makhan Tole--->Degu Taleju Temple--->Hanuman Dhoka--->The Tribhuvan, Mahendra, and Birendra Museums--->Kala Bairav--->Basantapur Tower--->Kathmandu Durbar Square--->Gaddhi Baithak--->Freak Street (Jhhonchen Tole)--->Basantpur Dabali--->Maru Ganesh Shrine--->Kashthamandap--->Bishal Bazaar--->Nara Devi Temple--->Thahiti Chowk--->himalayan arts gallery pltd--->Mandala Street--->Thamel--->Chhango Adventure Canyoning In Nepal--->Woodcraft Gallery--->Divine Yoga Studio--->Shanti Spa--->Astrek Climbing Wall--->Tridevi Temple--->Garden of Dreams--->Kaiser Library--->Narayanhiti Palace Museum--->Durbar Marg Street--->Casino Rad--->Millionaire's Club and Casino--->Bhimsen Tower--->Shiva Parvati Temple--->Music Museum of Nepal--->Jaganath (Krishna) Temple--->Casino Mahjong--->Military Museum--->Swayambhunath Temple--->The Natural History Museum--->Tribhuvan Park--->Shiva Mandir Temple--->The National Museum--->Amideva Buddha Park--->Kathesimbu Stupa--->Kumari Chowk--->Bagwati Mandir Temple--->Chandragiri Hills--->Taudaha Lake--->Dakshinkali Temple--->Cathedral of the Assumption of the Blessed Virgin Mary--->Manakamana Mandir Temple--->Nagarjun Forest Reserve--->Budhanilkantha--->Budhanilakantha Temple--->Namkha Khyung Dzong Rigdin Choling Monastery--->Nagi Gompa--->Shivapuri Nagarjun National Park--->Kopan Monastery--->Pullahari Monastery--->White Monastery--->Gokarneshwor Mahadev Temple--->Sundarijal Water Falls--->Templo de Changu Narayan--->Vajrayogini Temple--->Kailashnath Mahadev--->National Botanical Gardens--->Phulchoki--->Sankhu Village--->Namo Buddha (Stupa)--->Boudhanath Stupa--->"
     ]
    }
   ],
   "source": [
    "for i in route_generated:\n",
    "    print(top_n_dests.iloc[i][\"title\"],end='')\n",
    "    print(\"--->\",end='')"
   ]
  },
  {
   "cell_type": "code",
   "execution_count": 236,
   "id": "70dd49af",
   "metadata": {},
   "outputs": [
    {
     "name": "stdout",
     "output_type": "stream",
     "text": [
      "Final cost: 1.6896352025677\n",
      "Final route: [0, 50, 82, 23, 29, 20, 7, 11, 34, 32, 87, 66, 35, 22, 4, 43, 10, 77, 21, 13, 39, 54, 12, 36, 3, 89, 16, 26, 88, 38, 56, 52, 30, 1, 64, 78, 24, 41, 68, 57, 70, 61, 74, 9, 59, 42, 27, 25, 67, 58, 40, 14, 79, 46, 44, 85, 76, 60, 8, 19, 31, 63, 62, 72, 28, 5, 49, 75, 81, 65, 33, 71, 6, 51, 83, 86, 17, 55, 80, 69, 18, 84, 15, 45, 2, 53, 47, 37, 48, 73, 0]\n"
     ]
    }
   ],
   "source": [
    "#apply 2-opt \n",
    "final_cost,final_route=tsp_2_opt(np.array(matrix),route_generated)\n",
    "print(\"Final cost:\",final_cost)\n",
    "print(\"Final route:\",final_route)"
   ]
  },
  {
   "cell_type": "code",
   "execution_count": 237,
   "id": "5b46ef24",
   "metadata": {},
   "outputs": [
    {
     "name": "stdout",
     "output_type": "stream",
     "text": [
      "Boudhanath Stupa--->Boudha Stupa Thanka Center--->Aviation Museum--->National Botanical Gardens--->Sankhu Village--->Phulchoki--->Namo Buddha (Stupa)--->Kailashnath Mahadev--->Templo de Changu Narayan--->Vajrayogini Temple--->Sundarijal Water Falls--->Gokarneshwor Mahadev Temple--->White Monastery--->Pullahari Monastery--->Kopan Monastery--->Nagi Gompa--->Shivapuri Nagarjun National Park--->Namkha Khyung Dzong Rigdin Choling Monastery--->Budhanilakantha Temple--->Budhanilkantha--->Nagarjun Forest Reserve--->Manakamana Mandir Temple--->Dakshinkali Temple--->Taudaha Lake--->Chandragiri Hills--->Bagwati Mandir Temple--->Kumari Chowk--->Kathesimbu Stupa--->Shiva Mandir Temple--->The National Museum--->Tribhuvan Park--->The Natural History Museum--->Amideva Buddha Park--->Swayambhunath Temple--->Military Museum--->Casino Mahjong--->Jaganath (Krishna) Temple--->Cathedral of the Assumption of the Blessed Virgin Mary--->Music Museum of Nepal--->Shiva Parvati Temple--->Bhimsen Tower--->Ratna Park--->Rani Pokhari (Queen's Pond)--->Asan--->Annapurna Temple--->Seto Machindranath Temple--->Akash Bhairav Temple--->Indra Chowk--->Makhan Tole--->Bishal Bazaar--->Degu Taleju Temple--->Hanuman Dhoka--->The Tribhuvan, Mahendra, and Birendra Museums--->Basantpur Dabali--->Freak Street (Jhhonchen Tole)--->Gaddhi Baithak--->Kashthamandap--->Maru Ganesh Shrine--->Kathmandu Durbar Square--->Basantapur Tower--->Kala Bairav--->Nara Devi Temple--->Thahiti Chowk--->himalayan arts gallery pltd--->Mandala Street--->Thamel--->Chhango Adventure Canyoning In Nepal--->Woodcraft Gallery--->Divine Yoga Studio--->Shanti Spa--->Astrek Climbing Wall--->Tridevi Temple--->Garden of Dreams--->Kaiser Library--->Millionaire's Club and Casino--->Casino Rad--->Narayanhiti Palace Museum--->Durbar Marg Street--->Kashmiri Mosque--->Kathmandu Fun Park--->Babar Mahal Revisted--->Nepal Art Council Gallery--->The Crematoria--->Aarya Ghat--->Pashupatinath Temple--->Guhyeshwari Temple--->Taragaon Museum--->Shechen Monastery--->Boudha Farmers Market at Utpala Cafe--->Guru Lhakhang Monastery--->Boudhanath Stupa--->"
     ]
    }
   ],
   "source": [
    "for i in final_route:\n",
    "    print(top_n_dests.iloc[i][\"title\"],end='')\n",
    "    print(\"--->\",end='')"
   ]
  },
  {
   "cell_type": "code",
   "execution_count": 238,
   "id": "898bd50f",
   "metadata": {},
   "outputs": [
    {
     "name": "stdout",
     "output_type": "stream",
     "text": [
      "Boudhanath Stupa->Guru Lhakhang Monastery 0.0579728509975531\n",
      "Guru Lhakhang Monastery->Boudha Stupa Thanka Center 0.10895537810120313\n",
      "Boudha Stupa Thanka Center->Boudha Farmers Market at Utpala Cafe 0.37358300701748093\n",
      "Boudha Farmers Market at Utpala Cafe->Shechen Monastery 0.17521402809011333\n",
      "Shechen Monastery->Taragaon Museum 0.6700413194108685\n",
      "Taragaon Museum->Guhyeshwari Temple 1.0258861798307768\n",
      "Guhyeshwari Temple->Pashupatinath Temple 0.4761235436934117\n",
      "Pashupatinath Temple->Aarya Ghat 0.11154467192282523\n",
      "Aarya Ghat->The Crematoria 0.3413347297505183\n",
      "The Crematoria->Aviation Museum 1.4788977118405742\n",
      "Aviation Museum->Nepal Art Council Gallery 2.947998502141368\n",
      "Nepal Art Council Gallery->Babar Mahal Revisted 0.24376418914089013\n",
      "Babar Mahal Revisted->Kathmandu Fun Park 0.8180516804712742\n",
      "Kathmandu Fun Park->Kashmiri Mosque 0.856127884321023\n",
      "Kashmiri Mosque->Rani Pokhari (Queen's Pond) 0.24671290409219834\n",
      "Rani Pokhari (Queen's Pond)->Ratna Park 0.15658600750024554\n",
      "Ratna Park->Asan 0.23082931332678575\n",
      "Asan->Annapurna Temple 0.029726635357566627\n",
      "Annapurna Temple->Seto Machindranath Temple 0.20151848701773137\n",
      "Seto Machindranath Temple->Akash Bhairav Temple 0.1083238181314879\n",
      "Akash Bhairav Temple->Indra Chowk 0.03667829724107677\n",
      "Indra Chowk->Makhan Tole 0.062140690019875405\n",
      "Makhan Tole->Degu Taleju Temple 0.11067338379800666\n",
      "Degu Taleju Temple->Hanuman Dhoka 0.09455503557946013\n",
      "Hanuman Dhoka->The Tribhuvan, Mahendra, and Birendra Museums 0.011476239808987404\n",
      "The Tribhuvan, Mahendra, and Birendra Museums->Kala Bairav 0.06222038312414647\n",
      "Kala Bairav->Basantapur Tower 0.08227714765249086\n",
      "Basantapur Tower->Kathmandu Durbar Square 0.004733868416970866\n",
      "Kathmandu Durbar Square->Gaddhi Baithak 0.020223023186715653\n",
      "Gaddhi Baithak->Freak Street (Jhhonchen Tole) 0.05461799556383091\n",
      "Freak Street (Jhhonchen Tole)->Basantpur Dabali 0.06263657301574545\n",
      "Basantpur Dabali->Maru Ganesh Shrine 0.1561147889594807\n",
      "Maru Ganesh Shrine->Kashthamandap 0.031063774238910737\n",
      "Kashthamandap->Bishal Bazaar 0.3842698185030288\n",
      "Bishal Bazaar->Nara Devi Temple 0.45339718192916656\n",
      "Nara Devi Temple->Thahiti Chowk 0.45952850721310884\n",
      "Thahiti Chowk->himalayan arts gallery pltd 0.2809358499112268\n",
      "himalayan arts gallery pltd->Mandala Street 0.25359690660264583\n",
      "Mandala Street->Thamel 0.0742303929698979\n",
      "Thamel->Chhango Adventure Canyoning In Nepal 0.03451922901090374\n",
      "Chhango Adventure Canyoning In Nepal->Woodcraft Gallery 0.10965842008163958\n",
      "Woodcraft Gallery->Divine Yoga Studio 0.013667366954704495\n",
      "Divine Yoga Studio->Shanti Spa 0.23780669948937416\n",
      "Shanti Spa->Astrek Climbing Wall 0.15239318488002013\n",
      "Astrek Climbing Wall->Tridevi Temple 0.307445762349323\n",
      "Tridevi Temple->Garden of Dreams 0.06600822161645784\n",
      "Garden of Dreams->Kaiser Library 0.0873039559134398\n",
      "Kaiser Library->Narayanhiti Palace Museum 0.3102784126016735\n",
      "Narayanhiti Palace Museum->Durbar Marg Street 0.28389878881963204\n",
      "Durbar Marg Street->Casino Rad 0.9202253254173692\n",
      "Casino Rad->Millionaire's Club and Casino 0.6091448812747116\n",
      "Millionaire's Club and Casino->Bhimsen Tower 2.946740784632496\n",
      "Bhimsen Tower->Shiva Parvati Temple 0.4614025170976507\n",
      "Shiva Parvati Temple->Music Museum of Nepal 0.9571250995567636\n",
      "Music Museum of Nepal->Jaganath (Krishna) Temple 1.4264153510126374\n",
      "Jaganath (Krishna) Temple->Casino Mahjong 1.6834000431524905\n",
      "Casino Mahjong->Military Museum 0.9693910679325797\n",
      "Military Museum->Swayambhunath Temple 1.0483400382801145\n",
      "Swayambhunath Temple->The Natural History Museum 0.23933441913125317\n",
      "The Natural History Museum->Tribhuvan Park 0.29877698429391847\n",
      "Tribhuvan Park->Shiva Mandir Temple 0.1563502711290141\n",
      "Shiva Mandir Temple->The National Museum 0.17736445932336295\n",
      "The National Museum->Amideva Buddha Park 1.067589978953425\n",
      "Amideva Buddha Park->Kathesimbu Stupa 1.8938548731335416\n",
      "Kathesimbu Stupa->Kumari Chowk 0.840344237628505\n",
      "Kumari Chowk->Bagwati Mandir Temple 1.544787391741058\n",
      "Bagwati Mandir Temple->Chandragiri Hills 3.3305997283039606\n",
      "Chandragiri Hills->Taudaha Lake 2.483361023975438\n",
      "Taudaha Lake->Dakshinkali Temple 4.840897837911384\n",
      "Dakshinkali Temple->Cathedral of the Assumption of the Blessed Virgin Mary 8.608373479012776\n",
      "Cathedral of the Assumption of the Blessed Virgin Mary->Manakamana Mandir Temple 7.473378988638487\n",
      "Manakamana Mandir Temple->Nagarjun Forest Reserve 4.785182723119379\n",
      "Nagarjun Forest Reserve->Budhanilkantha 4.438727764589817\n",
      "Budhanilkantha->Budhanilakantha Temple 2.9497180986093072\n",
      "Budhanilakantha Temple->Namkha Khyung Dzong Rigdin Choling Monastery 3.6649313479778853\n",
      "Namkha Khyung Dzong Rigdin Choling Monastery->Nagi Gompa 3.136359274885935\n",
      "Nagi Gompa->Shivapuri Nagarjun National Park 3.4262219665575535\n",
      "Shivapuri Nagarjun National Park->Kopan Monastery 7.720867738532215\n",
      "Kopan Monastery->Pullahari Monastery 0.8250061123659818\n",
      "Pullahari Monastery->White Monastery 1.4334152272611844\n",
      "White Monastery->Gokarneshwor Mahadev Temple 2.4740081229374122\n",
      "Gokarneshwor Mahadev Temple->Sundarijal Water Falls 3.9604695779604335\n",
      "Sundarijal Water Falls->Templo de Changu Narayan 5.006961149896864\n",
      "Templo de Changu Narayan->Vajrayogini Temple 4.913554333635855\n",
      "Vajrayogini Temple->Kailashnath Mahadev 10.869347985301012\n",
      "Kailashnath Mahadev->National Botanical Gardens 10.77026668545575\n",
      "National Botanical Gardens->Phulchoki 3.0307310857485383\n",
      "Phulchoki->Sankhu Village 10.969988763791966\n",
      "Sankhu Village->Namo Buddha (Stupa) 28.264669119189602\n",
      "Namo Buddha (Stupa)->Boudhanath Stupa 27.28683809434689\n"
     ]
    }
   ],
   "source": [
    "#actual distance given by Vincenty distance using more accurate ellipsoidal models such as WGS-84 than Haversine\n",
    "import geopy.distance\n",
    "total_distance_without=0 #total actual distance\n",
    "\n",
    "for i in range(len(route_generated)-1):\n",
    "    coords_1 = (top_n_dests.iloc[route_generated[i]][\"latitude\"],top_n_dests.iloc[route_generated[i]][\"longitude\"])\n",
    "    coords_2 = (top_n_dests.iloc[route_generated[i+1]][\"latitude\"],top_n_dests.iloc[route_generated[i+1]][\"longitude\"])\n",
    "    \n",
    "    #names of destinations connected\n",
    "    src=top_n_dests.iloc[route_generated[i]][\"title\"]\n",
    "    dest=top_n_dests.iloc[route_generated[i+1]][\"title\"]\n",
    "    distance=geopy.distance.geodesic(coords_1, coords_2).km\n",
    "    print (f'{str(src)+\"->\"+str(dest)}',distance)\n",
    "    total_distance_without=total_distance_without+distance\n"
   ]
  },
  {
   "cell_type": "code",
   "execution_count": 239,
   "id": "f392ec38",
   "metadata": {},
   "outputs": [
    {
     "name": "stdout",
     "output_type": "stream",
     "text": [
      "Boudhanath Stupa->Boudha Stupa Thanka Center 0.06371384026551553\n",
      "Boudha Stupa Thanka Center->Aviation Museum 3.151947141557842\n",
      "Aviation Museum->National Botanical Gardens 11.051795213745997\n",
      "National Botanical Gardens->Sankhu Village 12.240871982297616\n",
      "Sankhu Village->Phulchoki 10.969988763791966\n",
      "Phulchoki->Namo Buddha (Stupa) 18.743477022959734\n",
      "Namo Buddha (Stupa)->Kailashnath Mahadev 13.417091282781502\n",
      "Kailashnath Mahadev->Templo de Changu Narayan 8.774620731552663\n",
      "Templo de Changu Narayan->Vajrayogini Temple 4.913554333635855\n",
      "Vajrayogini Temple->Sundarijal Water Falls 4.815274716869781\n",
      "Sundarijal Water Falls->Gokarneshwor Mahadev Temple 3.9604695779604335\n",
      "Gokarneshwor Mahadev Temple->White Monastery 2.4740081229374122\n",
      "White Monastery->Pullahari Monastery 1.4334152272611844\n",
      "Pullahari Monastery->Kopan Monastery 0.8250061123659818\n",
      "Kopan Monastery->Nagi Gompa 4.817353450420873\n",
      "Nagi Gompa->Shivapuri Nagarjun National Park 3.4262219665575535\n",
      "Shivapuri Nagarjun National Park->Namkha Khyung Dzong Rigdin Choling Monastery 3.9840146599756205\n",
      "Namkha Khyung Dzong Rigdin Choling Monastery->Budhanilakantha Temple 3.6649313479778853\n",
      "Budhanilakantha Temple->Budhanilkantha 2.9497180986093072\n",
      "Budhanilkantha->Nagarjun Forest Reserve 4.438727764589817\n",
      "Nagarjun Forest Reserve->Manakamana Mandir Temple 4.785182723119379\n",
      "Manakamana Mandir Temple->Dakshinkali Temple 11.197769788249706\n",
      "Dakshinkali Temple->Taudaha Lake 4.840897837911384\n",
      "Taudaha Lake->Chandragiri Hills 2.483361023975438\n",
      "Chandragiri Hills->Bagwati Mandir Temple 3.3305997283039606\n",
      "Bagwati Mandir Temple->Kumari Chowk 1.544787391741058\n",
      "Kumari Chowk->Kathesimbu Stupa 0.840344237628505\n",
      "Kathesimbu Stupa->Shiva Mandir Temple 1.1893596603841454\n",
      "Shiva Mandir Temple->The National Museum 0.17736445932336295\n",
      "The National Museum->Tribhuvan Park 0.22818224083748517\n",
      "Tribhuvan Park->The Natural History Museum 0.29877698429391847\n",
      "The Natural History Museum->Amideva Buddha Park 0.5567447122856475\n",
      "Amideva Buddha Park->Swayambhunath Temple 0.4821824186589587\n",
      "Swayambhunath Temple->Military Museum 1.0483400382801145\n",
      "Military Museum->Casino Mahjong 0.9693910679325797\n",
      "Casino Mahjong->Jaganath (Krishna) Temple 1.6834000431524905\n",
      "Jaganath (Krishna) Temple->Cathedral of the Assumption of the Blessed Virgin Mary 1.8627086631676937\n",
      "Cathedral of the Assumption of the Blessed Virgin Mary->Music Museum of Nepal 2.378755642476021\n",
      "Music Museum of Nepal->Shiva Parvati Temple 0.9571250995567636\n",
      "Shiva Parvati Temple->Bhimsen Tower 0.4614025170976507\n",
      "Bhimsen Tower->Ratna Park 0.7180001070976408\n",
      "Ratna Park->Rani Pokhari (Queen's Pond) 0.15658600750024554\n",
      "Rani Pokhari (Queen's Pond)->Asan 0.2945246682989899\n",
      "Asan->Annapurna Temple 0.029726635357566627\n",
      "Annapurna Temple->Seto Machindranath Temple 0.20151848701773137\n",
      "Seto Machindranath Temple->Akash Bhairav Temple 0.1083238181314879\n",
      "Akash Bhairav Temple->Indra Chowk 0.03667829724107677\n",
      "Indra Chowk->Makhan Tole 0.062140690019875405\n",
      "Makhan Tole->Bishal Bazaar 0.1593585896768829\n",
      "Bishal Bazaar->Degu Taleju Temple 0.1769243268803241\n",
      "Degu Taleju Temple->Hanuman Dhoka 0.09455503557946013\n",
      "Hanuman Dhoka->The Tribhuvan, Mahendra, and Birendra Museums 0.011476239808987404\n",
      "The Tribhuvan, Mahendra, and Birendra Museums->Basantpur Dabali 0.07960611851628988\n",
      "Basantpur Dabali->Freak Street (Jhhonchen Tole) 0.06263657301574545\n",
      "Freak Street (Jhhonchen Tole)->Gaddhi Baithak 0.05461799556383091\n",
      "Gaddhi Baithak->Kashthamandap 0.08829205612315244\n",
      "Kashthamandap->Maru Ganesh Shrine 0.031063774238910737\n",
      "Maru Ganesh Shrine->Kathmandu Durbar Square 0.0715433825215027\n",
      "Kathmandu Durbar Square->Basantapur Tower 0.004733868416970866\n",
      "Basantapur Tower->Kala Bairav 0.08227714765249086\n",
      "Kala Bairav->Nara Devi Temple 0.3221147957077198\n",
      "Nara Devi Temple->Thahiti Chowk 0.45952850721310884\n",
      "Thahiti Chowk->himalayan arts gallery pltd 0.2809358499112268\n",
      "himalayan arts gallery pltd->Mandala Street 0.25359690660264583\n",
      "Mandala Street->Thamel 0.0742303929698979\n",
      "Thamel->Chhango Adventure Canyoning In Nepal 0.03451922901090374\n",
      "Chhango Adventure Canyoning In Nepal->Woodcraft Gallery 0.10965842008163958\n",
      "Woodcraft Gallery->Divine Yoga Studio 0.013667366954704495\n",
      "Divine Yoga Studio->Shanti Spa 0.23780669948937416\n",
      "Shanti Spa->Astrek Climbing Wall 0.15239318488002013\n",
      "Astrek Climbing Wall->Tridevi Temple 0.307445762349323\n",
      "Tridevi Temple->Garden of Dreams 0.06600822161645784\n",
      "Garden of Dreams->Kaiser Library 0.0873039559134398\n",
      "Kaiser Library->Millionaire's Club and Casino 1.4012943301196938\n",
      "Millionaire's Club and Casino->Casino Rad 0.6091448812747116\n",
      "Casino Rad->Narayanhiti Palace Museum 0.6475723712640923\n",
      "Narayanhiti Palace Museum->Durbar Marg Street 0.28389878881963204\n",
      "Durbar Marg Street->Kashmiri Mosque 0.41503191585712695\n",
      "Kashmiri Mosque->Kathmandu Fun Park 0.856127884321023\n",
      "Kathmandu Fun Park->Babar Mahal Revisted 0.8180516804712742\n",
      "Babar Mahal Revisted->Nepal Art Council Gallery 0.24376418914089013\n",
      "Nepal Art Council Gallery->The Crematoria 2.9052117586698487\n",
      "The Crematoria->Aarya Ghat 0.3413347297505183\n",
      "Aarya Ghat->Pashupatinath Temple 0.11154467192282523\n",
      "Pashupatinath Temple->Guhyeshwari Temple 0.4761235436934117\n",
      "Guhyeshwari Temple->Taragaon Museum 1.0258861798307768\n",
      "Taragaon Museum->Shechen Monastery 0.6700413194108685\n",
      "Shechen Monastery->Boudha Farmers Market at Utpala Cafe 0.17521402809011333\n",
      "Boudha Farmers Market at Utpala Cafe->Guru Lhakhang Monastery 0.2722825154982411\n",
      "Guru Lhakhang Monastery->Boudhanath Stupa 0.0579728509975531\n"
     ]
    }
   ],
   "source": [
    "#actual distance given by Vincenty distance using more accurate ellipsoidal models such as WGS-84 than Haversine\n",
    "import geopy.distance\n",
    "total_distance_with=0 #total actual distance\n",
    "\n",
    "for i in range(len(final_route)-1):\n",
    "    coords_1 = (top_n_dests.iloc[final_route[i]][\"latitude\"],top_n_dests.iloc[final_route[i]][\"longitude\"])\n",
    "    coords_2 = (top_n_dests.iloc[final_route[i+1]][\"latitude\"],top_n_dests.iloc[final_route[i+1]][\"longitude\"])\n",
    "    \n",
    "    #names of destinations connected\n",
    "    src=top_n_dests.iloc[final_route[i]][\"title\"]\n",
    "    dest=top_n_dests.iloc[final_route[i+1]][\"title\"]\n",
    "    distance=geopy.distance.geodesic(coords_1, coords_2).km\n",
    "    print (f'{str(src)+\"->\"+str(dest)}',distance)\n",
    "    total_distance_with=total_distance_with+distance\n"
   ]
  },
  {
   "cell_type": "code",
   "execution_count": 240,
   "id": "ecb89ba6",
   "metadata": {},
   "outputs": [
    {
     "name": "stdout",
     "output_type": "stream",
     "text": [
      "without time: 0.00461888313293457\n",
      "with time: 2.237117290496826\n",
      "Total distance (without 2-opt): 198.86200669530433\n",
      "Final distance with 2-opt: 177.66716838698292\n"
     ]
    }
   ],
   "source": [
    "print(\"without time:\",t_out1-t_in)\n",
    "print(\"with time:\",t_out2-t_in)\n",
    "\n",
    "print(\"Total distance (without 2-opt):\",total_distance_without)\n",
    "# print(\"Route generated (without 2-opt):\",route_generated)\n",
    "print(\"Final distance with 2-opt:\",total_distance_with)\n",
    "# print(\"Final route with 2-opt:\",final_route)"
   ]
  }
 ],
 "metadata": {
  "kernelspec": {
   "display_name": "Python 3 (ipykernel)",
   "language": "python",
   "name": "python3"
  },
  "language_info": {
   "codemirror_mode": {
    "name": "ipython",
    "version": 3
   },
   "file_extension": ".py",
   "mimetype": "text/x-python",
   "name": "python",
   "nbconvert_exporter": "python",
   "pygments_lexer": "ipython3",
   "version": "3.9.7"
  }
 },
 "nbformat": 4,
 "nbformat_minor": 5
}
