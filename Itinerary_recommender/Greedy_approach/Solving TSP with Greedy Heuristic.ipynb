{
 "cells": [
  {
   "cell_type": "code",
   "execution_count": 111,
   "id": "f736c5e4",
   "metadata": {},
   "outputs": [],
   "source": [
    "#!/usr/bin/env python\n",
    "\n",
    "# def greedy_search(graph,src,tgt):\n",
    "#     \"\"\"\n",
    "#         Searches the adjacent nodes for the least distance, and keeps on doing it \n",
    "#         till it reaches the target\n",
    "#     \"\"\"\n",
    "#     if not src in graph.keys():\n",
    "#         raise AttributeError(\"The source '%s' is not in the graph\" % src)\n",
    "#     if not tgt in graph.keys():\n",
    "#         raise AttributeError(\"The target '%s' is not in the graph\" % tgt)\n",
    "\n",
    "#     parents = {src: None}\n",
    "#     path = [src] #path to store the result path from src to tgt \n",
    "#     node = src\n",
    "#     while node != tgt:\n",
    "#         distance_list=[]\n",
    "#         for neighbor in graph[node].keys():\n",
    "#             if neighbor not in parents:\n",
    "#                 #check the best neighbor now\n",
    "#                 temp_dis=graph[node][neighbor]\n",
    "#                 distance_list.append((neighbor,temp_dis))\n",
    "\n",
    "#         if distance_list==[]:\n",
    "#             break\n",
    "        \n",
    "#         #finding the minimum of all distances\n",
    "#         min_distance_of_neighbor=min(temp_dis for (neighbor,temp_dis) in distance_list)\n",
    "        \n",
    "#         #below is the code for finding the neighbor with the minimum distance\n",
    "#         for (neigh,dis) in distance_list:\n",
    "#             if dis == min_distance_of_neighbor:\n",
    "#                 neighbor_with_the_minimum_distance=neigh\n",
    "#                 break\n",
    "\n",
    "#         #convert neighbor index into name \n",
    "\n",
    "#         #updating the parents list and new node for the next iteration\n",
    "#         parents[neighbor_with_the_minimum_distance]=node\n",
    "#         node=neighbor_with_the_minimum_distance\n",
    "#         #updating the path with neighbor_with_the_minimum_distance\n",
    "#         path.append(neighbor_with_the_minimum_distance)\n",
    "\n",
    "#     return path\n",
    "\n",
    "# defining graphs for our tests\n",
    "# test1 -> graph1\n",
    "# test2 -> graph2\n",
    "# test3 -> graph3 \n",
    "# test4 -> graph4\n",
    "\n",
    "# Here, the letters represent the first letter of the cities \n",
    "# R -> Riyadh \n",
    "# A -> Abha \n",
    "# N -> Najran \n",
    "# J -> Jizan \n",
    "# S -> Samtah\n",
    "# M -> Makkah \n",
    "# T -> Tabuk \n",
    "# Q -> Qurrayat\n",
    "# D -> Dammam \n",
    "\n",
    "# here, each graph has entries of nodes/cities with its neighbours and their \n",
    "# distances as a dictionary inside a dictionary\n",
    "# graph1={\n",
    "#     'R':{'A':1064,'N':950},\n",
    "#     'A':{'N':280,'J':202,'R':1064},\n",
    "#     'N':{'A':280,'R':1064},\n",
    "#     'J':{'A':202,'S':61},\n",
    "#     'S':{'J':61}\n",
    "# }\n",
    "\n",
    "# graph2={\n",
    "#     'R':{'D':395,'Q':1255,'T':1304,'M':870},\n",
    "#     'D':{'Q':1443,'R':395},\n",
    "#     'Q':{'R':1255,'D':1443,'T':570},\n",
    "#     'T':{'Q':570,'R':1304,'M':1017},\n",
    "#     'M':{'T':1017,'R':870}\n",
    "# }\n",
    "\n",
    "# graph3={\n",
    "#     'R':{'D':395,'N':950,'A':1064},\n",
    "#     'D':{'R':395,'N':1345},\n",
    "#     'A':{'R':1064,'N':280,'J':202},\n",
    "#     'N':{'R':950,'D':1345,'A':280},\n",
    "#     'J':{'A':202}\n",
    "# }\n",
    "\n",
    "# graph4={\n",
    "#     'R':{'M':870,'A':1064},\n",
    "#     'M':{'R':870,'A':627,'J':680},\n",
    "#     'A':{'R':1064,'M':627,'J':202},\n",
    "#     'J':{'M':680,'S':61},\n",
    "#     'S':{'J':61}\n",
    "# }\n",
    "\n",
    "\n",
    "# #Following are the input parameters\n",
    "# graph=graph4\n",
    "# src=\"R\"\n",
    "# dest=\"S\"\n",
    "\n",
    "# #invoke the greedy function\n",
    "# result=greedy_search(graph,src,dest)\n",
    "\n",
    "# print(\"Shortest path generated:\")\n",
    "# print(result)\n",
    "\n",
    "# #print the total distance \n",
    "# a=src\n",
    "# total_distance=0\n",
    "\n",
    "# for i in range(len(result)-1):\n",
    "#     total_distance+=graph[result[i]][result[i+1]]\n",
    "\n",
    "# print(\"Minimum distance:\")\n",
    "# print(total_distance)\n"
   ]
  },
  {
   "cell_type": "code",
   "execution_count": 112,
   "id": "891bd02a",
   "metadata": {},
   "outputs": [
    {
     "name": "stdout",
     "output_type": "stream",
     "text": [
      "[(0, 'R'), (1, 'M'), (2, 'A'), (3, 'J'), (4, 'S')]\n",
      "{'R': 0, 'M': 1, 'A': 2, 'J': 3, 'S': 4}\n"
     ]
    }
   ],
   "source": [
    "graph4={\n",
    "    'R':{'M':870,'A':1064},\n",
    "    'M':{'R':870,'A':627,'J':680},\n",
    "    'A':{'R':1064,'M':627,'J':202},\n",
    "    'J':{'M':680,'S':61},\n",
    "    'S':{'J':61}\n",
    "}\n",
    "cities_enumerated=list(enumerate(graph4))\n",
    "print(cities_enumerated)\n",
    "\n",
    "#create a city to id dictionary\n",
    "city_to_id={}\n",
    "for i,j in cities_enumerated:\n",
    "    city_to_id[j]=i\n",
    "\n",
    "print(city_to_id)\n",
    "# cities_enumerated_reverse=[(j,i) for (i,j) in cities_enumerated]\n",
    "# print(cities_enumerated_reverse)"
   ]
  },
  {
   "cell_type": "code",
   "execution_count": 113,
   "id": "dbfbe312",
   "metadata": {},
   "outputs": [
    {
     "name": "stdout",
     "output_type": "stream",
     "text": [
      "[[0, 870, 1064, 99999, 99999], [870, 0, 627, 680, 99999], [1064, 627, 0, 202, 99999], [99999, 680, 99999, 0, 61], [99999, 99999, 99999, 61, 0]]\n"
     ]
    }
   ],
   "source": [
    "#converting adjancency list to adjacency matrix\n",
    "matrix=[]\n",
    "for i,city_name in cities_enumerated:\n",
    "    list_of_distances_from_current_city=[99999]*len(graph4)\n",
    "#     for city_id,city_name in cities_enumerated:\n",
    "#         #make distance 0 for the current city\n",
    "#         list_of_distances_from_current_city.insert(city_id,0)\n",
    "# #         list_of_distances_from_current_city.insert(graph4)\n",
    "    #distance from city to the same city is 0\n",
    "    list_of_distances_from_current_city[i]=0\n",
    "    \n",
    "    #now check the dictionary containing this city \n",
    "    \n",
    "    dictionary_of_distance_to_other_cities=graph4[cities_enumerated[i][1]]\n",
    "#     print(dictionary_of_distance_to_other_cities)\n",
    "    \n",
    "    for neighbor in dictionary_of_distance_to_other_cities:\n",
    "#             print(neighbor)\n",
    "            #insert the distance to the neighbor at their right index\n",
    "            list_of_distances_from_current_city[city_to_id[neighbor]]=dictionary_of_distance_to_other_cities[neighbor]\n",
    "\n",
    "#     list_of_distances_from_current_city.insert()/\n",
    "    matrix.append(list_of_distances_from_current_city)\n",
    "\n",
    "print(matrix)"
   ]
  },
  {
   "cell_type": "code",
   "execution_count": 114,
   "id": "ca8264f7",
   "metadata": {},
   "outputs": [],
   "source": [
    "# we have the cost (distance) matrix\n",
    "# list of cities\n",
    "cities=list(range(0,len(cities_names)))\n",
    "starting_city=0"
   ]
  },
  {
   "cell_type": "code",
   "execution_count": 115,
   "id": "33db4627",
   "metadata": {},
   "outputs": [
    {
     "name": "stdout",
     "output_type": "stream",
     "text": [
      "[[    0   870  1064 99999 99999]\n",
      " [  870     0   627   680 99999]\n",
      " [ 1064   627     0   202 99999]\n",
      " [99999   680 99999     0    61]\n",
      " [99999 99999 99999    61     0]]\n"
     ]
    }
   ],
   "source": [
    "import numpy as np\n",
    "graph=np.array(matrix)\n",
    "print(graph)"
   ]
  },
  {
   "cell_type": "code",
   "execution_count": 116,
   "id": "20e4e9db",
   "metadata": {},
   "outputs": [],
   "source": [
    "from numpy import argmin"
   ]
  },
  {
   "cell_type": "code",
   "execution_count": 117,
   "id": "b7dca1cb",
   "metadata": {},
   "outputs": [
    {
     "name": "stdout",
     "output_type": "stream",
     "text": [
      "[870, 1064, 99999, 99999]\n",
      "0\n",
      "[627, 680, 99999]\n",
      "0\n",
      "[202, 99999]\n",
      "0\n",
      "[61]\n",
      "0\n",
      "Total cost: 101759\n",
      "Route generated: [0, 1, 2, 3, 4, 0]\n"
     ]
    }
   ],
   "source": [
    "# redefining the nearest neighbour heuristic\n",
    "\n",
    "def nearest_neighbor_heuristic_route_generator(starting_city):\n",
    "    \"\"\"\n",
    "        Greedy Nearest neighbor heuristic route generator\n",
    "    \"\"\"\n",
    "    # maintain a list called 'visited' to store the cities that have been visited\n",
    "    # initially, this holds the starting city\n",
    "    visited=[]\n",
    "    visited.append(starting_city)\n",
    "    current_city=starting_city\n",
    "    #also maintain a local copy of all the cities\n",
    "    cities_copy=cities.copy()\n",
    "    #remove the visited city from this list\n",
    "    cities_copy.remove(starting_city)\n",
    "    #total cost of the route\n",
    "    total_cost=0\n",
    "    \n",
    "    # from the starting city, calculate the cost to every cities(except itself) and select the city with minimum cost\n",
    "    while cities_copy !=[]:\n",
    "        #calculate cost to every other cities in the cities_copy from the current city and store in cost_list\n",
    "        cost_list=[]\n",
    "        for neighbor_city in cities_copy:\n",
    "            cost=matrix[current_city][neighbor_city]\n",
    "            cost_list.append(cost)\n",
    "        print(cost_list)\n",
    "        min_idx=argmin(cost_list)#selects the index with the minimum cost\n",
    "        print(min_idx) \n",
    "        #also add the min cost to the total cost\n",
    "        total_cost+=min(cost_list)\n",
    "        #now find the corresponding city (neighbor)\n",
    "        corresponding_city=cities_copy[min_idx]\n",
    "        # add that to the visited list\n",
    "        visited.append(corresponding_city)\n",
    "        # remove that from the cities_copy list\n",
    "        cities_copy.remove(corresponding_city)\n",
    "        # change current city to the city with min cost (corresponding city)\n",
    "        current_city=corresponding_city\n",
    "        \n",
    "    # last city has to be connected to the starting city so let's do that\n",
    "    total_cost+=matrix[current_city][starting_city] #add to total cost\n",
    "    visited.append(starting_city)\n",
    "    \n",
    "    return total_cost,visited\n",
    "        \n",
    "\n",
    "#display the result for the data\n",
    "total_cost,route_generated=nearest_neighbor_heuristic_route_generator(0)\n",
    "        \n",
    "print(\"Total cost:\",total_cost)\n",
    "print(\"Route generated:\",route_generated)\n",
    "    \n",
    "    \n",
    "    \n",
    "    \n",
    "    "
   ]
  },
  {
   "cell_type": "code",
   "execution_count": 118,
   "id": "979c1e08",
   "metadata": {},
   "outputs": [
    {
     "name": "stdout",
     "output_type": "stream",
     "text": [
      "0 msec\n",
      "0 msec\n",
      "0 msec\n",
      "1 msec\n",
      "1 msec\n",
      "2 msec\n",
      "2 msec\n",
      "3 msec\n",
      "3 msec\n",
      "3 msec\n",
      "3 msec\n",
      "3 msec\n",
      "3 msec\n",
      "5 msec\n",
      "6 msec\n",
      "6 msec\n",
      "6 msec\n",
      "6 msec\n",
      "6 msec\n",
      "6 msec\n",
      "1760.0 [0, 1, 2, 3, 4]\n"
     ]
    }
   ],
   "source": [
    "#improve the route generated with 2-opt swap algorithm \n",
    "dist_mat = matrix\n",
    "route_finder = RouteFinder(dist_mat, route_generated, iterations=20)\n",
    "best_distance, best_route = route_finder.solve()\n",
    "print(best_distance,best_route)"
   ]
  },
  {
   "cell_type": "code",
   "execution_count": 119,
   "id": "ed9feda6",
   "metadata": {},
   "outputs": [],
   "source": [
    "def _swap_2opt(route, i, k):\n",
    "    \"\"\" \n",
    "    Swapping the route \n",
    "    \"\"\"\n",
    "    new_route = route[0:i]\n",
    "    new_route.extend(reversed(route[i:k + 1]))\n",
    "    new_route.extend(route[k + 1:])\n",
    "    return new_route\n"
   ]
  },
  {
   "cell_type": "code",
   "execution_count": 120,
   "id": "8ef302c9",
   "metadata": {},
   "outputs": [],
   "source": [
    "def route_cost(graph, path):\n",
    "    \n",
    "    cost = 0\n",
    "    for index in range(len(path) - 1):\n",
    "        cost = cost + graph[path[index]][path[index + 1]]\n",
    "    # add last edge to form a cycle.\n",
    "    cost = cost + graph[path[-1], path[0]]\n",
    "    return cost"
   ]
  },
  {
   "cell_type": "code",
   "execution_count": 121,
   "id": "c2dbf62a",
   "metadata": {},
   "outputs": [],
   "source": [
    "# implement the 2-opt heuristic to improve the returned greedy route\n",
    "\n",
    "def tsp_2_opt(graph, route):\n",
    "    \"\"\"\n",
    "    Approximate the optimal path of travelling salesman according to 2-opt algorithm\n",
    "    Args:\n",
    "        graph: 2d numpy array as graph\n",
    "        route: list of nodes\n",
    "\n",
    "    Returns:\n",
    "        optimal path according to 2-opt algorithm\n",
    "\n",
    "    Examples:\n",
    "        >>> import numpy as np\n",
    "        >>> graph = np.array([[  0, 300, 250, 190, 230],\n",
    "        >>>                   [300,   0, 230, 330, 150],\n",
    "        >>>                   [250, 230,   0, 240, 120],\n",
    "        >>>                   [190, 330, 240,   0, 220],\n",
    "        >>>                   [230, 150, 120, 220,   0]])\n",
    "        >>> tsp_2_opt(graph)\n",
    "    \"\"\"\n",
    "    improved = True\n",
    "    best_found_route = route\n",
    "    best_found_route_cost = route_cost(graph, best_found_route)\n",
    "    while improved:\n",
    "        improved = False\n",
    "        for i in range(1, len(best_found_route) - 1):\n",
    "            for k in range(i + 1, len(best_found_route) - 1):\n",
    "                new_route = _swap_2opt(best_found_route, i, k)\n",
    "                new_route_cost = route_cost(graph, new_route)\n",
    "                if new_route_cost < best_found_route_cost:\n",
    "                    best_found_route_cost = new_route_cost\n",
    "                    best_found_route = new_route\n",
    "                    improved = True\n",
    "                    break\n",
    "            if improved:\n",
    "                break\n",
    "    return best_found_route_cost,best_found_route\n"
   ]
  },
  {
   "cell_type": "code",
   "execution_count": 122,
   "id": "3bbc7817",
   "metadata": {},
   "outputs": [
    {
     "name": "stdout",
     "output_type": "stream",
     "text": [
      "(101759, [0, 1, 2, 3, 4, 0])\n"
     ]
    }
   ],
   "source": [
    "print(tsp_2_opt(graph,route_generated))"
   ]
  },
  {
   "cell_type": "markdown",
   "id": "e5ca4d36",
   "metadata": {},
   "source": [
    "## Redefining our greedy nearest-neighbor heuristic for the data from the DP solution"
   ]
  },
  {
   "cell_type": "code",
   "execution_count": 123,
   "id": "e48c38e1",
   "metadata": {},
   "outputs": [],
   "source": [
    "# using the matrix from the DP approach\n",
    "matrix = [\n",
    "            [0,          0.268188,   1.0861600,  0.284266,  2.1870300, 2.90507,  1.06443,    0.641625,   0.191624, 3.44142],\n",
    "            [0.1609330,      0,      0.6911510,  0.464564,  1.4049800, 1.96431,  0.168696,   0.654258,   1.41509,  2.98196],\n",
    "            [0.3580770,  0.379707,       0,      1.249930,  0.0821726, 0.408356, 1.74232,    2.37079,    2.95341,  3.90037],\n",
    "            [0.0818823,  0.223001,   1.0921200,     0,      2.1872100, 2.89526,  0.942284,   0.56915,    0.872503, 2.75427],\n",
    "            [0.3714430,  0.397651,   0.0423335,  1.289620,      0,     0.315516, 1.82914,    2.46966,    3.06793,  3.87276],\n",
    "            [0.4166200,  0.46945,    0.1776410,  1.441470,  0.2664210,      0,   2.15881,    2.82956,    3.44337,  3.90929],\n",
    "            [0.1427810,  0.0377101,  0.7089300,  0.438806,  1.4446600, 2.01924,     0,       0.526249,   1.24782,  3.13342],\n",
    "            [0.0799607,  0.135875,   0.8962080,  0.246239,  1.8121500, 2.45884,  0.488912,       0,      0.76215,  3.14592],\n",
    "            [0.0228630,  0.281361,   1.0688800,  0.361399,  2.1552200, 2.86474,  1.10989,    0.729676,       0,    3.6366],\n",
    "            [0.4020280,  0.580519,   1.3821200,  1.117020,  2.6638000, 3.18444,  2.72886,    2.94897,    3.56066,    0],\n",
    "]\n",
    "\n",
    "# data points\n",
    "data = [0,1, 2, 3, 4, 5, 6, 7, 8, 9]"
   ]
  },
  {
   "cell_type": "code",
   "execution_count": 124,
   "id": "bc1f83c0",
   "metadata": {},
   "outputs": [
    {
     "name": "stdout",
     "output_type": "stream",
     "text": [
      "[0.268188, 1.08616, 0.284266, 2.18703, 2.90507, 1.06443, 0.641625, 0.191624, 3.44142]\n",
      "7\n",
      "[0.281361, 1.06888, 0.361399, 2.15522, 2.86474, 1.10989, 0.729676, 3.6366]\n",
      "0\n",
      "[0.691151, 0.464564, 1.40498, 1.96431, 0.168696, 0.654258, 2.98196]\n",
      "4\n",
      "[0.70893, 0.438806, 1.44466, 2.01924, 0.526249, 3.13342]\n",
      "1\n",
      "[1.09212, 2.18721, 2.89526, 0.56915, 2.75427]\n",
      "3\n",
      "[0.896208, 1.81215, 2.45884, 3.14592]\n",
      "0\n",
      "[0.0821726, 0.408356, 3.90037]\n",
      "0\n",
      "[0.315516, 3.87276]\n",
      "0\n",
      "[3.90929]\n",
      "0\n",
      "Total cost: 7.254851599999999\n",
      "Route generated: [0, 8, 1, 6, 3, 7, 2, 4, 5, 9, 0]\n"
     ]
    }
   ],
   "source": [
    "# redefining the nearest neighbour heuristic\n",
    "\n",
    "def nearest_neighbor_heuristic_route_generator(starting_point):\n",
    "    \"\"\"\n",
    "        Greedy Nearest neighbor heuristic route generator\n",
    "    \"\"\"\n",
    "    # maintain a list called 'visited' to store the cities that have been visited\n",
    "    # initially, this holds the starting city\n",
    "    visited=[]\n",
    "    visited.append(starting_point)\n",
    "    current_point=starting_point\n",
    "    #also maintain a local copy of all the cities\n",
    "    data_copy=data.copy()\n",
    "    #remove the visited city from this list\n",
    "    data_copy.remove(starting_point)\n",
    "    #total cost of the route\n",
    "    total_cost=0\n",
    "    \n",
    "    # from the starting city, calculate the cost to every cities(except itself) and select the city with minimum cost\n",
    "    while data_copy !=[]:\n",
    "        #calculate cost to every other cities in the cities_copy from the current city and store in cost_list\n",
    "        cost_list=[]\n",
    "        for neighbor_point in data_copy:\n",
    "            cost=matrix[current_point][neighbor_point]\n",
    "            cost_list.append(cost)\n",
    "        print(cost_list)\n",
    "        min_idx=argmin(cost_list)#selects the index with the minimum cost\n",
    "        print(min_idx) \n",
    "        #also add the min cost to the total cost\n",
    "        total_cost+=min(cost_list)\n",
    "        #now find the corresponding point (neighbor)\n",
    "        corresponding_point=data_copy[min_idx]\n",
    "        # add that to the visited list\n",
    "        visited.append(corresponding_point)\n",
    "        # remove that from the data_copy list\n",
    "        data_copy.remove(corresponding_point)\n",
    "        # change current city to the city with min cost (corresponding city)\n",
    "        current_point=corresponding_point\n",
    "        \n",
    "    # last city has to be connected to the starting city so let's do that\n",
    "    total_cost+=matrix[current_point][starting_point] #add to total cost\n",
    "    visited.append(starting_point)\n",
    "    \n",
    "    return total_cost,visited\n",
    "        \n",
    "\n",
    "#display the result for the data\n",
    "total_cost,route_generated=nearest_neighbor_heuristic_route_generator(0)\n",
    "        \n",
    "print(\"Total cost:\",total_cost)\n",
    "print(\"Route generated:\",route_generated)\n",
    "    "
   ]
  },
  {
   "cell_type": "code",
   "execution_count": 125,
   "id": "5440ddf5",
   "metadata": {},
   "outputs": [
    {
     "name": "stdout",
     "output_type": "stream",
     "text": [
      "Total cost (greedy): 7.254851599999999\n",
      "Route generated: [0, 8, 1, 6, 3, 7, 2, 4, 5, 9, 0]\n"
     ]
    }
   ],
   "source": [
    "print(\"Total cost (greedy):\",total_cost)\n",
    "print(\"Route generated:\",route_generated)"
   ]
  },
  {
   "cell_type": "code",
   "execution_count": 126,
   "id": "70dd49af",
   "metadata": {},
   "outputs": [
    {
     "name": "stdout",
     "output_type": "stream",
     "text": [
      "(6.844680599999999, [0, 8, 3, 7, 1, 6, 2, 4, 5, 9, 0])\n"
     ]
    }
   ],
   "source": [
    "#apply 2-opt \n",
    "print(tsp_2_opt(np.array(matrix),route_generated))"
   ]
  }
 ],
 "metadata": {
  "kernelspec": {
   "display_name": "Python 3 (ipykernel)",
   "language": "python",
   "name": "python3"
  },
  "language_info": {
   "codemirror_mode": {
    "name": "ipython",
    "version": 3
   },
   "file_extension": ".py",
   "mimetype": "text/x-python",
   "name": "python",
   "nbconvert_exporter": "python",
   "pygments_lexer": "ipython3",
   "version": "3.9.7"
  }
 },
 "nbformat": 4,
 "nbformat_minor": 5
}
