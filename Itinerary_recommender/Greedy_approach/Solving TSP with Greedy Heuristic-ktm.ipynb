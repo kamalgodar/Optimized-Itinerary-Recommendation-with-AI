{
 "cells": [
  {
   "cell_type": "code",
   "execution_count": 2,
   "id": "aba5e3ea",
   "metadata": {},
   "outputs": [],
   "source": [
    "# Import the libraries \n",
    "\n",
    "import numpy as np \n",
    "import pandas as pd\n",
    "from matplotlib import pyplot as plt"
   ]
  },
  {
   "cell_type": "code",
   "execution_count": 4,
   "id": "364ccb1a",
   "metadata": {},
   "outputs": [
    {
     "name": "stdout",
     "output_type": "stream",
     "text": [
      "                  title avg_rating  voted_by            genre    latitude  \\\n",
      "0      Boudhanath Stupa        4.5      8897  Religious Sites  27.7215062   \n",
      "1  Swayambhunath Temple        4.5      6203  Religious Sites  27.7149298   \n",
      "2  Pashupatinath Temple        4.5      4937  Religious Sites  27.7104461   \n",
      "3     Chandragiri Hills        4.5       399        Mountains  27.6710496   \n",
      "4       Kopan Monastery        4.5       787  Religious Sites  27.7425438   \n",
      "\n",
      "   longitude  \n",
      "0  85.359809  \n",
      "1  85.288146  \n",
      "2  85.346503  \n",
      "3  85.262664  \n",
      "4  85.362208  \n"
     ]
    }
   ],
   "source": [
    "top_dests_ktm=pd.read_csv(\"../../Datasets/destinations_of_kathmandu_updated_with_latlong.csv\")\n",
    "print(top_dests_ktm.head())"
   ]
  },
  {
   "cell_type": "code",
   "execution_count": 5,
   "id": "9d626d54",
   "metadata": {},
   "outputs": [
    {
     "name": "stdout",
     "output_type": "stream",
     "text": [
      "                         title avg_rating  voted_by  \\\n",
      "90     Ghanta Ghar Clock Tower        3.5        11   \n",
      "91  Jamchen Lhakhang Monastery        3.5         3   \n",
      "92                    Big Bell        3.5         9   \n",
      "93       Mrigasthali Deer Park          4         5   \n",
      "94            Universal Crafts          5         3   \n",
      "\n",
      "                              genre    latitude  longitude  \n",
      "90   Points of Interest & Landmarks   27.707477  85.314711  \n",
      "91                  Religious Sites  27.7215058  85.359192  \n",
      "92   Points of Interest & Landmarks  27.7268583  85.300625  \n",
      "93  Nature & Wildlife Areas • Parks   27.711512  85.349772  \n",
      "94    Art Galleries • Antique Shops  27.7173331  85.381252  \n"
     ]
    }
   ],
   "source": [
    "# select the first 95 destinations as they're the destinations having the latitude and longitude currently\n",
    "top_dests_ktm=top_dests_ktm[:95]\n",
    "print(top_dests_ktm.tail())"
   ]
  },
  {
   "cell_type": "code",
   "execution_count": 6,
   "id": "392c9815",
   "metadata": {},
   "outputs": [
    {
     "name": "stdout",
     "output_type": "stream",
     "text": [
      "                         title    latitude  longitude\n",
      "0             Boudhanath Stupa  27.7215062  85.359809\n",
      "1         Swayambhunath Temple  27.7149298  85.288146\n",
      "2         Pashupatinath Temple  27.7104461  85.346503\n",
      "3            Chandragiri Hills  27.6710496  85.262664\n",
      "4              Kopan Monastery  27.7425438  85.362208\n",
      "..                         ...         ...        ...\n",
      "90     Ghanta Ghar Clock Tower   27.707477  85.314711\n",
      "91  Jamchen Lhakhang Monastery  27.7215058  85.359192\n",
      "92                    Big Bell  27.7268583  85.300625\n",
      "93       Mrigasthali Deer Park   27.711512  85.349772\n",
      "94            Universal Crafts  27.7173331  85.381252\n",
      "\n",
      "[95 rows x 3 columns]\n"
     ]
    }
   ],
   "source": [
    "# since we'll be dealing only with latitude and longitude at the moment\n",
    "# only filter those columns along with the title\n",
    "print(top_dests_ktm[['title','latitude','longitude']])"
   ]
  },
  {
   "cell_type": "code",
   "execution_count": 7,
   "id": "01675e77",
   "metadata": {},
   "outputs": [
    {
     "name": "stdout",
     "output_type": "stream",
     "text": [
      "                     title avg_rating  voted_by  \\\n",
      "0         Boudhanath Stupa        4.5      8897   \n",
      "1     Swayambhunath Temple        4.5      6203   \n",
      "2     Pashupatinath Temple        4.5      4937   \n",
      "3        Chandragiri Hills        4.5       399   \n",
      "4          Kopan Monastery        4.5       787   \n",
      "5                   Thamel          4      5687   \n",
      "6         Garden of Dreams        4.5      4021   \n",
      "7      Namo Buddha (Stupa)        4.5       129   \n",
      "8  Kathmandu Durbar Square          4      4711   \n",
      "9                     Asan        4.5       243   \n",
      "\n",
      "                                              genre    latitude  longitude  \n",
      "0                                   Religious Sites  27.7215062  85.359809  \n",
      "1                                   Religious Sites  27.7149298  85.288146  \n",
      "2                                   Religious Sites  27.7104461  85.346503  \n",
      "3                                         Mountains  27.6710496  85.262664  \n",
      "4                                   Religious Sites  27.7425438  85.362208  \n",
      "5                                     Neighborhoods  27.7150086  85.307894  \n",
      "6                                           Gardens  27.7141261  85.312315  \n",
      "7  Points of Interest & Landmarks • Religious Sites   27.570067  85.577846  \n",
      "8   Historic Sites • Points of Interest & Landmarks  27.7041718  85.304464  \n",
      "9                             Flea & Street Markets  27.7074849  85.310201  \n"
     ]
    }
   ],
   "source": [
    "# let's just pick n=10 for now for better visualization\n",
    "n=10 #graph size\n",
    "top_n_dests=top_dests_ktm[:n]\n",
    "print(top_n_dests)"
   ]
  },
  {
   "cell_type": "code",
   "execution_count": 8,
   "id": "ed9127ad",
   "metadata": {},
   "outputs": [],
   "source": [
    "# also meanwhile let's create a matrix called 'graph' to store the weights for each edges\n",
    "graph=np.zeros((n,n))\n",
    "\n",
    "def create_graph():\n",
    "\n",
    "    # iterators to iterate through the graph\n",
    "    i=0\n",
    "    j=0\n",
    "\n",
    "    for lat,long in zip(top_n_dests['latitude'].astype(float),top_n_dests['longitude'].astype(float)):\n",
    "        j=0\n",
    "        for another_lat,another_long in zip(top_n_dests['latitude'].astype(float),top_n_dests['longitude'].astype(float)):\n",
    "            #edge weight(Euclidean distance)\n",
    "            distance_between_the_places=np.sqrt((lat-another_lat)**2+(long-another_long)**2)\n",
    "            #print(distance_between_the_places)\n",
    "\n",
    "            #and store it in the 'graph' matrix\n",
    "            graph[i][j]=distance_between_the_places\n",
    "            #increment j \n",
    "            j+=1\n",
    "\n",
    "        #increment i\n",
    "        i+=1"
   ]
  },
  {
   "cell_type": "code",
   "execution_count": 9,
   "id": "04a18ef5",
   "metadata": {},
   "outputs": [
    {
     "name": "stdout",
     "output_type": "stream",
     "text": [
      "[[0.         0.07196422 0.01730239 0.10946671 0.021174   0.05232003\n",
      "  0.04806329 0.2654699  0.05799622 0.05155153]\n",
      " [0.07196422 0.         0.05852919 0.05074233 0.07904304 0.01974826\n",
      "  0.02418316 0.32390089 0.01954512 0.02327766]\n",
      " [0.01730239 0.05852919 0.         0.09263384 0.03573404 0.03887774\n",
      "  0.03438489 0.27060331 0.04250484 0.03642277]\n",
      " [0.10946671 0.05074233 0.09263384 0.         0.12255802 0.06307234\n",
      "  0.06573315 0.3309644  0.05333185 0.05989373]\n",
      " [0.021174   0.07904304 0.03573404 0.12255802 0.         0.06089542\n",
      "  0.05741827 0.27613055 0.06933144 0.06272094]\n",
      " [0.05232003 0.01974826 0.03887774 0.06307234 0.06089542 0.\n",
      "  0.00450891 0.30640256 0.0113667  0.00786942]\n",
      " [0.04806329 0.02418316 0.03438489 0.06573315 0.05741827 0.00450891\n",
      "  0.         0.30209226 0.01267828 0.00696979]\n",
      " [0.2654699  0.32390089 0.27060331 0.3309644  0.27613055 0.30640256\n",
      "  0.30209226 0.         0.30450329 0.30086202]\n",
      " [0.05799622 0.01954512 0.04250484 0.05333185 0.06933144 0.0113667\n",
      "  0.01267828 0.30450329 0.         0.00662494]\n",
      " [0.05155153 0.02327766 0.03642277 0.05989373 0.06272094 0.00786942\n",
      "  0.00696979 0.30086202 0.00662494 0.        ]]\n"
     ]
    }
   ],
   "source": [
    "create_graph()\n",
    "print(graph)"
   ]
  },
  {
   "cell_type": "code",
   "execution_count": 10,
   "id": "20e4e9db",
   "metadata": {},
   "outputs": [],
   "source": [
    "from numpy import argmin"
   ]
  },
  {
   "cell_type": "markdown",
   "id": "f7696b17",
   "metadata": {},
   "source": [
    "## Now let's define the functions for implementing the 2-opt \n",
    "\n",
    "#### In a nutshell, 2-opt improves the path obtained from the greedy approach"
   ]
  },
  {
   "cell_type": "code",
   "execution_count": 11,
   "id": "ed9feda6",
   "metadata": {},
   "outputs": [],
   "source": [
    "def _swap_2opt(route, i, k):\n",
    "    \"\"\" \n",
    "        Swapping the route \n",
    "    \"\"\"\n",
    "    new_route = route[0:i]\n",
    "    new_route.extend(reversed(route[i:k + 1]))\n",
    "    new_route.extend(route[k + 1:])\n",
    "    return new_route\n"
   ]
  },
  {
   "cell_type": "code",
   "execution_count": 12,
   "id": "8ef302c9",
   "metadata": {},
   "outputs": [],
   "source": [
    "def route_cost(graph, path):\n",
    "    \"\"\"\n",
    "        Calculates the cost for the route. \n",
    "    \"\"\"\n",
    "    cost = 0\n",
    "    for index in range(len(path) - 1):\n",
    "        cost = cost + graph[path[index]][path[index + 1]]\n",
    "    # add last edge to form a cycle.\n",
    "    cost = cost + graph[path[-1], path[0]]\n",
    "    return cost"
   ]
  },
  {
   "cell_type": "code",
   "execution_count": 13,
   "id": "c2dbf62a",
   "metadata": {},
   "outputs": [],
   "source": [
    "# implement the 2-opt heuristic to improve the returned greedy route\n",
    "\n",
    "def tsp_2_opt(graph, route):\n",
    "    \"\"\"\n",
    "    Approximate the optimal path of travelling salesman according to 2-opt algorithm\n",
    "    Args:\n",
    "        graph: 2d numpy array as graph\n",
    "        route: list of nodes\n",
    "\n",
    "    Returns:\n",
    "        optimal path according to 2-opt algorithm\n",
    "\n",
    "    Examples:\n",
    "        >>> import numpy as np\n",
    "        >>> graph = np.array([[  0, 300, 250, 190, 230],\n",
    "        >>>                   [300,   0, 230, 330, 150],\n",
    "        >>>                   [250, 230,   0, 240, 120],\n",
    "        >>>                   [190, 330, 240,   0, 220],\n",
    "        >>>                   [230, 150, 120, 220,   0]])\n",
    "        >>> tsp_2_opt(graph)\n",
    "    \"\"\"\n",
    "    improved = True\n",
    "    best_found_route = route\n",
    "    best_found_route_cost = route_cost(graph, best_found_route)\n",
    "    while improved:\n",
    "        improved = False\n",
    "        for i in range(1, len(best_found_route) - 1):\n",
    "            for k in range(i + 1, len(best_found_route) - 1):\n",
    "                new_route = _swap_2opt(best_found_route, i, k)\n",
    "                new_route_cost = route_cost(graph, new_route)\n",
    "                if new_route_cost < best_found_route_cost:\n",
    "                    best_found_route_cost = new_route_cost\n",
    "                    best_found_route = new_route\n",
    "                    improved = True\n",
    "                    break\n",
    "            if improved:\n",
    "                break\n",
    "    return best_found_route_cost,best_found_route\n"
   ]
  },
  {
   "cell_type": "markdown",
   "id": "a8d6488a",
   "metadata": {},
   "source": [
    "### The following is the implementation of the greedy approach i.e. using the Nearest Neighbor Heuristic"
   ]
  },
  {
   "cell_type": "code",
   "execution_count": 14,
   "id": "e844ebfb",
   "metadata": {},
   "outputs": [],
   "source": [
    "data= list(range(0,n))# should contain the list of city ids \n",
    "matrix=graph"
   ]
  },
  {
   "cell_type": "code",
   "execution_count": 15,
   "id": "bc1f83c0",
   "metadata": {},
   "outputs": [
    {
     "name": "stdout",
     "output_type": "stream",
     "text": [
      "[0.07196421984966779, 0.017302392517227098, 0.10946671284756053, 0.021173998536175558, 0.05232003469762648, 0.04806328558161538, 0.2654699039776977, 0.057996219854138865, 0.05155153188121596]\n",
      "1\n",
      "[0.058529192353306815, 0.09263384153585069, 0.03573404447372474, 0.03887774439264948, 0.034384890849900394, 0.27060331294677503, 0.042504837102725034, 0.03642277351163117]\n",
      "4\n",
      "[0.02418315872111161, 0.06573314517205395, 0.0574182650828934, 0.004508906423965498, 0.3020922644719783, 0.012678282680630197, 0.006969785970889896]\n",
      "3\n",
      "[0.0197482572155125, 0.06307233500584433, 0.060895419772675555, 0.3064025581614035, 0.011366697860413052, 0.007869424966288062]\n",
      "5\n",
      "[0.023277662275460145, 0.059893734444014586, 0.06272094488262701, 0.30086201737349305, 0.0066249377815913195]\n",
      "4\n",
      "[0.019545119288466608, 0.053331854393040265, 0.06933144462045371, 0.3045032885189848]\n",
      "0\n",
      "[0.05074232839158659, 0.07904303710486275, 0.32390088660650934]\n",
      "0\n",
      "[0.12255802049347642, 0.33096439502236213]\n",
      "0\n",
      "[0.2761305485408664]\n",
      "0\n",
      "Total cost: 0.8051364732310662\n",
      "Route generated: [0, 2, 6, 5, 9, 8, 1, 3, 4, 7, 0]\n"
     ]
    }
   ],
   "source": [
    "# redefining the nearest neighbour heuristic\n",
    "\n",
    "def nearest_neighbor_heuristic_route_generator(starting_point):\n",
    "    \"\"\"\n",
    "        Greedy Nearest neighbor heuristic route generator\n",
    "    \"\"\"\n",
    "    # maintain a list called 'visited' to store the cities that have been visited\n",
    "    # initially, this holds the starting city\n",
    "    visited=[]\n",
    "    visited.append(starting_point)\n",
    "    current_point=starting_point\n",
    "    #also maintain a local copy of all the cities\n",
    "    data_copy=data.copy()\n",
    "    #remove the visited city from this list\n",
    "    data_copy.remove(starting_point)\n",
    "    #total cost of the route\n",
    "    total_cost=0\n",
    "    \n",
    "    # from the starting city, calculate the cost to every cities(except itself) and select the city with minimum cost\n",
    "    while data_copy !=[]:\n",
    "        #calculate cost to every other cities in the cities_copy from the current city and store in cost_list\n",
    "        cost_list=[]\n",
    "        for neighbor_point in data_copy:\n",
    "            cost=matrix[current_point][neighbor_point]\n",
    "            cost_list.append(cost)\n",
    "        print(cost_list)\n",
    "        min_idx=np.argmin(cost_list)#selects the index with the minimum cost\n",
    "        print(min_idx) \n",
    "        #also add the min cost to the total cost\n",
    "        total_cost+=min(cost_list)\n",
    "        #now find the corresponding point (neighbor)\n",
    "        corresponding_point=data_copy[min_idx]\n",
    "        # add that to the visited list\n",
    "        visited.append(corresponding_point)\n",
    "        # remove that from the data_copy list\n",
    "        data_copy.remove(corresponding_point)\n",
    "        # change current city to the city with min cost (corresponding city)\n",
    "        current_point=corresponding_point\n",
    "        \n",
    "    # last city has to be connected to the starting city so let's do that\n",
    "    total_cost+=matrix[current_point][starting_point] #add to total cost\n",
    "    visited.append(starting_point)\n",
    "    \n",
    "    return total_cost,visited\n",
    "        \n",
    "\n",
    "#display the result for the data\n",
    "total_cost,route_generated=nearest_neighbor_heuristic_route_generator(0)\n",
    "        \n",
    "print(\"Total cost:\",total_cost)\n",
    "print(\"Route generated:\",route_generated)\n",
    "    "
   ]
  },
  {
   "cell_type": "code",
   "execution_count": 16,
   "id": "5440ddf5",
   "metadata": {},
   "outputs": [
    {
     "name": "stdout",
     "output_type": "stream",
     "text": [
      "Total cost (greedy): 0.8051364732310662\n",
      "Route generated: [0, 2, 6, 5, 9, 8, 1, 3, 4, 7, 0]\n"
     ]
    }
   ],
   "source": [
    "print(\"Total cost (greedy):\",total_cost)\n",
    "print(\"Route generated:\",route_generated)"
   ]
  },
  {
   "cell_type": "code",
   "execution_count": 17,
   "id": "99ae0983",
   "metadata": {},
   "outputs": [
    {
     "name": "stdout",
     "output_type": "stream",
     "text": [
      "Boudhanath Stupa--->Pashupatinath Temple--->Garden of Dreams--->Thamel--->Asan--->Kathmandu Durbar Square--->Swayambhunath Temple--->Chandragiri Hills--->Kopan Monastery--->Namo Buddha (Stupa)--->Boudhanath Stupa--->"
     ]
    }
   ],
   "source": [
    "for i in route_generated:\n",
    "    print(top_n_dests.iloc[i][\"title\"],end='')\n",
    "    print(\"--->\",end='')"
   ]
  },
  {
   "cell_type": "code",
   "execution_count": 18,
   "id": "70dd49af",
   "metadata": {},
   "outputs": [
    {
     "name": "stdout",
     "output_type": "stream",
     "text": [
      "Final cost: 0.786044538260869\n",
      "Final route: [0, 7, 2, 9, 8, 3, 1, 5, 6, 4, 0]\n"
     ]
    }
   ],
   "source": [
    "#apply 2-opt \n",
    "final_cost,final_route=tsp_2_opt(np.array(matrix),route_generated)\n",
    "print(\"Final cost:\",final_cost)\n",
    "print(\"Final route:\",final_route)"
   ]
  },
  {
   "cell_type": "code",
   "execution_count": 19,
   "id": "5b46ef24",
   "metadata": {},
   "outputs": [
    {
     "name": "stdout",
     "output_type": "stream",
     "text": [
      "Boudhanath Stupa--->Namo Buddha (Stupa)--->Pashupatinath Temple--->Asan--->Kathmandu Durbar Square--->Chandragiri Hills--->Swayambhunath Temple--->Thamel--->Garden of Dreams--->Kopan Monastery--->Boudhanath Stupa--->"
     ]
    }
   ],
   "source": [
    "for i in final_route:\n",
    "    print(top_n_dests.iloc[i][\"title\"],end='')\n",
    "    print(\"--->\",end='')"
   ]
  },
  {
   "cell_type": "code",
   "execution_count": 23,
   "id": "f392ec38",
   "metadata": {},
   "outputs": [
    {
     "name": "stdout",
     "output_type": "stream",
     "text": [
      "Boudhanath Stupa->Namo Buddha (Stupa) 27.28683809434689\n",
      "Namo Buddha (Stupa)->Pashupatinath Temple 27.62640690201228\n",
      "Pashupatinath Temple->Asan 3.595305941383428\n",
      "Asan->Kathmandu Durbar Square 0.6745014662557417\n",
      "Kathmandu Durbar Square->Chandragiri Hills 5.520273939092278\n",
      "Chandragiri Hills->Swayambhunath Temple 5.473767406580083\n",
      "Swayambhunath Temple->Thamel 1.947566705973273\n",
      "Thamel->Garden of Dreams 0.44689862662388247\n",
      "Garden of Dreams->Kopan Monastery 5.8413472683014165\n",
      "Kopan Monastery->Boudhanath Stupa 2.343260122303754\n",
      "Total distance(km):  80.75616647287303\n"
     ]
    }
   ],
   "source": [
    "#actual distance given by Vincenty distance using more accurate ellipsoidal models such as WGS-84 than Haversine\n",
    "import geopy.distance\n",
    "total_distance=0 #total actual distance\n",
    "\n",
    "for i in range(len(final_route)-1):\n",
    "    coords_1 = (top_n_dests.iloc[final_route[i]][\"latitude\"],top_n_dests.iloc[final_route[i]][\"longitude\"])\n",
    "    coords_2 = (top_n_dests.iloc[final_route[i+1]][\"latitude\"],top_n_dests.iloc[final_route[i+1]][\"longitude\"])\n",
    "    \n",
    "    #names of destinations connected\n",
    "    src=top_n_dests.iloc[final_route[i]][\"title\"]\n",
    "    dest=top_n_dests.iloc[final_route[i+1]][\"title\"]\n",
    "    distance=geopy.distance.geodesic(coords_1, coords_2).km\n",
    "    print (f'{str(src)+\"->\"+str(dest)}',distance)\n",
    "    total_distance=total_distance+distance\n",
    "\n",
    "print(\"Total distance(km): \",total_distance)"
   ]
  },
  {
   "cell_type": "code",
   "execution_count": null,
   "id": "ecb89ba6",
   "metadata": {},
   "outputs": [],
   "source": []
  }
 ],
 "metadata": {
  "kernelspec": {
   "display_name": "Python 3 (ipykernel)",
   "language": "python",
   "name": "python3"
  },
  "language_info": {
   "codemirror_mode": {
    "name": "ipython",
    "version": 3
   },
   "file_extension": ".py",
   "mimetype": "text/x-python",
   "name": "python",
   "nbconvert_exporter": "python",
   "pygments_lexer": "ipython3",
   "version": "3.9.7"
  }
 },
 "nbformat": 4,
 "nbformat_minor": 5
}
