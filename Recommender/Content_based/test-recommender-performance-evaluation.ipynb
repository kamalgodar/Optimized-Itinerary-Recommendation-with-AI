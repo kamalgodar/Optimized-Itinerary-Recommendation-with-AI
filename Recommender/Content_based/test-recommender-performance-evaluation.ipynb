{
 "cells": [
  {
   "cell_type": "markdown",
   "metadata": {},
   "source": [
    "# Destinations Recommender based on Content-Based Filtering\n",
    "\n",
    "Collaborative filtering relies solely on user-item interactions within the utility matrix. The issue with this approach is that brand new users or items with no interactions get excluded from the recommendation system. This is called the \"cold start\" problem. Content-based filtering is a way to handle this problem by generating recommendations based on user and item features."
   ]
  },
  {
   "cell_type": "markdown",
   "metadata": {},
   "source": [
    "### Step 1: Import Dependencies"
   ]
  },
  {
   "cell_type": "code",
   "execution_count": 1,
   "metadata": {},
   "outputs": [],
   "source": [
    "import numpy as np\n",
    "import pandas as pd\n",
    "import sklearn\n",
    "import matplotlib.pyplot as plt"
   ]
  },
  {
   "cell_type": "markdown",
   "metadata": {},
   "source": [
    "### Step 2: Load the Data"
   ]
  },
  {
   "cell_type": "code",
   "execution_count": 2,
   "metadata": {},
   "outputs": [
    {
     "data": {
      "text/html": [
       "<div>\n",
       "<style scoped>\n",
       "    .dataframe tbody tr th:only-of-type {\n",
       "        vertical-align: middle;\n",
       "    }\n",
       "\n",
       "    .dataframe tbody tr th {\n",
       "        vertical-align: top;\n",
       "    }\n",
       "\n",
       "    .dataframe thead th {\n",
       "        text-align: right;\n",
       "    }\n",
       "</style>\n",
       "<table border=\"1\" class=\"dataframe\">\n",
       "  <thead>\n",
       "    <tr style=\"text-align: right;\">\n",
       "      <th></th>\n",
       "      <th>destination_id</th>\n",
       "      <th>title</th>\n",
       "      <th>genre</th>\n",
       "      <th>history</th>\n",
       "      <th>art_and_architecture</th>\n",
       "      <th>nature</th>\n",
       "      <th>adventure</th>\n",
       "      <th>entertainment</th>\n",
       "      <th>health_and_lifestyle</th>\n",
       "      <th>food</th>\n",
       "      <th>industries</th>\n",
       "      <th>religious</th>\n",
       "    </tr>\n",
       "  </thead>\n",
       "  <tbody>\n",
       "    <tr>\n",
       "      <th>0</th>\n",
       "      <td>0</td>\n",
       "      <td>Boudhanath Stupa</td>\n",
       "      <td>['Religious Sites']</td>\n",
       "      <td>True</td>\n",
       "      <td>True</td>\n",
       "      <td>False</td>\n",
       "      <td>False</td>\n",
       "      <td>False</td>\n",
       "      <td>False</td>\n",
       "      <td>False</td>\n",
       "      <td>False</td>\n",
       "      <td>True</td>\n",
       "    </tr>\n",
       "    <tr>\n",
       "      <th>1</th>\n",
       "      <td>1</td>\n",
       "      <td>Phewa Tal (Fewa Lake)</td>\n",
       "      <td>['Bodies of Water']</td>\n",
       "      <td>False</td>\n",
       "      <td>False</td>\n",
       "      <td>True</td>\n",
       "      <td>False</td>\n",
       "      <td>False</td>\n",
       "      <td>False</td>\n",
       "      <td>False</td>\n",
       "      <td>False</td>\n",
       "      <td>False</td>\n",
       "    </tr>\n",
       "    <tr>\n",
       "      <th>2</th>\n",
       "      <td>2</td>\n",
       "      <td>Sarangkot</td>\n",
       "      <td>['Mountains']</td>\n",
       "      <td>False</td>\n",
       "      <td>False</td>\n",
       "      <td>True</td>\n",
       "      <td>False</td>\n",
       "      <td>False</td>\n",
       "      <td>False</td>\n",
       "      <td>False</td>\n",
       "      <td>False</td>\n",
       "      <td>False</td>\n",
       "    </tr>\n",
       "    <tr>\n",
       "      <th>3</th>\n",
       "      <td>3</td>\n",
       "      <td>Swayambhunath Temple</td>\n",
       "      <td>['Religious Sites']</td>\n",
       "      <td>True</td>\n",
       "      <td>True</td>\n",
       "      <td>False</td>\n",
       "      <td>False</td>\n",
       "      <td>False</td>\n",
       "      <td>False</td>\n",
       "      <td>False</td>\n",
       "      <td>False</td>\n",
       "      <td>True</td>\n",
       "    </tr>\n",
       "    <tr>\n",
       "      <th>4</th>\n",
       "      <td>4</td>\n",
       "      <td>Poon Hill</td>\n",
       "      <td>['Mountains']</td>\n",
       "      <td>False</td>\n",
       "      <td>False</td>\n",
       "      <td>True</td>\n",
       "      <td>False</td>\n",
       "      <td>False</td>\n",
       "      <td>False</td>\n",
       "      <td>False</td>\n",
       "      <td>False</td>\n",
       "      <td>False</td>\n",
       "    </tr>\n",
       "  </tbody>\n",
       "</table>\n",
       "</div>"
      ],
      "text/plain": [
       "   destination_id                  title                genre  history  \\\n",
       "0               0       Boudhanath Stupa  ['Religious Sites']     True   \n",
       "1               1  Phewa Tal (Fewa Lake)  ['Bodies of Water']    False   \n",
       "2               2              Sarangkot        ['Mountains']    False   \n",
       "3               3   Swayambhunath Temple  ['Religious Sites']     True   \n",
       "4               4              Poon Hill        ['Mountains']    False   \n",
       "\n",
       "   art_and_architecture  nature  adventure  entertainment  \\\n",
       "0                  True   False      False          False   \n",
       "1                 False    True      False          False   \n",
       "2                 False    True      False          False   \n",
       "3                  True   False      False          False   \n",
       "4                 False    True      False          False   \n",
       "\n",
       "   health_and_lifestyle   food  industries  religious  \n",
       "0                 False  False       False       True  \n",
       "1                 False  False       False      False  \n",
       "2                 False  False       False      False  \n",
       "3                 False  False       False       True  \n",
       "4                 False  False       False      False  "
      ]
     },
     "execution_count": 2,
     "metadata": {},
     "output_type": "execute_result"
    }
   ],
   "source": [
    "destinations = pd.read_csv(\"sample_destinations.csv\")\n",
    "destinations.head()"
   ]
  },
  {
   "cell_type": "markdown",
   "metadata": {},
   "source": [
    "### Step 3: Data Cleaning and Exploration\n"
   ]
  },
  {
   "cell_type": "code",
   "execution_count": 3,
   "metadata": {},
   "outputs": [],
   "source": [
    "#convert True/False categories to 1/0\n",
    "converted=destinations.iloc[:,3:12].astype(int)"
   ]
  },
  {
   "cell_type": "code",
   "execution_count": 4,
   "metadata": {},
   "outputs": [],
   "source": [
    "# drop columns in dataframe \n",
    "destinations.drop(destinations.columns[2:12],axis=1,inplace=True)"
   ]
  },
  {
   "cell_type": "code",
   "execution_count": 5,
   "metadata": {},
   "outputs": [
    {
     "data": {
      "text/html": [
       "<div>\n",
       "<style scoped>\n",
       "    .dataframe tbody tr th:only-of-type {\n",
       "        vertical-align: middle;\n",
       "    }\n",
       "\n",
       "    .dataframe tbody tr th {\n",
       "        vertical-align: top;\n",
       "    }\n",
       "\n",
       "    .dataframe thead th {\n",
       "        text-align: right;\n",
       "    }\n",
       "</style>\n",
       "<table border=\"1\" class=\"dataframe\">\n",
       "  <thead>\n",
       "    <tr style=\"text-align: right;\">\n",
       "      <th></th>\n",
       "      <th>destination_id</th>\n",
       "      <th>title</th>\n",
       "    </tr>\n",
       "  </thead>\n",
       "  <tbody>\n",
       "    <tr>\n",
       "      <th>0</th>\n",
       "      <td>0</td>\n",
       "      <td>Boudhanath Stupa</td>\n",
       "    </tr>\n",
       "    <tr>\n",
       "      <th>1</th>\n",
       "      <td>1</td>\n",
       "      <td>Phewa Tal (Fewa Lake)</td>\n",
       "    </tr>\n",
       "    <tr>\n",
       "      <th>2</th>\n",
       "      <td>2</td>\n",
       "      <td>Sarangkot</td>\n",
       "    </tr>\n",
       "    <tr>\n",
       "      <th>3</th>\n",
       "      <td>3</td>\n",
       "      <td>Swayambhunath Temple</td>\n",
       "    </tr>\n",
       "    <tr>\n",
       "      <th>4</th>\n",
       "      <td>4</td>\n",
       "      <td>Poon Hill</td>\n",
       "    </tr>\n",
       "  </tbody>\n",
       "</table>\n",
       "</div>"
      ],
      "text/plain": [
       "   destination_id                  title\n",
       "0               0       Boudhanath Stupa\n",
       "1               1  Phewa Tal (Fewa Lake)\n",
       "2               2              Sarangkot\n",
       "3               3   Swayambhunath Temple\n",
       "4               4              Poon Hill"
      ]
     },
     "execution_count": 5,
     "metadata": {},
     "output_type": "execute_result"
    }
   ],
   "source": [
    "destinations.head()"
   ]
  },
  {
   "cell_type": "code",
   "execution_count": 6,
   "metadata": {},
   "outputs": [
    {
     "data": {
      "text/html": [
       "<div>\n",
       "<style scoped>\n",
       "    .dataframe tbody tr th:only-of-type {\n",
       "        vertical-align: middle;\n",
       "    }\n",
       "\n",
       "    .dataframe tbody tr th {\n",
       "        vertical-align: top;\n",
       "    }\n",
       "\n",
       "    .dataframe thead th {\n",
       "        text-align: right;\n",
       "    }\n",
       "</style>\n",
       "<table border=\"1\" class=\"dataframe\">\n",
       "  <thead>\n",
       "    <tr style=\"text-align: right;\">\n",
       "      <th></th>\n",
       "      <th>destination_id</th>\n",
       "      <th>title</th>\n",
       "      <th>history</th>\n",
       "      <th>art_and_architecture</th>\n",
       "      <th>nature</th>\n",
       "      <th>adventure</th>\n",
       "      <th>entertainment</th>\n",
       "      <th>health_and_lifestyle</th>\n",
       "      <th>food</th>\n",
       "      <th>industries</th>\n",
       "      <th>religious</th>\n",
       "    </tr>\n",
       "  </thead>\n",
       "  <tbody>\n",
       "    <tr>\n",
       "      <th>0</th>\n",
       "      <td>0</td>\n",
       "      <td>Boudhanath Stupa</td>\n",
       "      <td>1</td>\n",
       "      <td>1</td>\n",
       "      <td>0</td>\n",
       "      <td>0</td>\n",
       "      <td>0</td>\n",
       "      <td>0</td>\n",
       "      <td>0</td>\n",
       "      <td>0</td>\n",
       "      <td>1</td>\n",
       "    </tr>\n",
       "    <tr>\n",
       "      <th>1</th>\n",
       "      <td>1</td>\n",
       "      <td>Phewa Tal (Fewa Lake)</td>\n",
       "      <td>0</td>\n",
       "      <td>0</td>\n",
       "      <td>1</td>\n",
       "      <td>0</td>\n",
       "      <td>0</td>\n",
       "      <td>0</td>\n",
       "      <td>0</td>\n",
       "      <td>0</td>\n",
       "      <td>0</td>\n",
       "    </tr>\n",
       "    <tr>\n",
       "      <th>2</th>\n",
       "      <td>2</td>\n",
       "      <td>Sarangkot</td>\n",
       "      <td>0</td>\n",
       "      <td>0</td>\n",
       "      <td>1</td>\n",
       "      <td>0</td>\n",
       "      <td>0</td>\n",
       "      <td>0</td>\n",
       "      <td>0</td>\n",
       "      <td>0</td>\n",
       "      <td>0</td>\n",
       "    </tr>\n",
       "    <tr>\n",
       "      <th>3</th>\n",
       "      <td>3</td>\n",
       "      <td>Swayambhunath Temple</td>\n",
       "      <td>1</td>\n",
       "      <td>1</td>\n",
       "      <td>0</td>\n",
       "      <td>0</td>\n",
       "      <td>0</td>\n",
       "      <td>0</td>\n",
       "      <td>0</td>\n",
       "      <td>0</td>\n",
       "      <td>1</td>\n",
       "    </tr>\n",
       "    <tr>\n",
       "      <th>4</th>\n",
       "      <td>4</td>\n",
       "      <td>Poon Hill</td>\n",
       "      <td>0</td>\n",
       "      <td>0</td>\n",
       "      <td>1</td>\n",
       "      <td>0</td>\n",
       "      <td>0</td>\n",
       "      <td>0</td>\n",
       "      <td>0</td>\n",
       "      <td>0</td>\n",
       "      <td>0</td>\n",
       "    </tr>\n",
       "    <tr>\n",
       "      <th>...</th>\n",
       "      <td>...</td>\n",
       "      <td>...</td>\n",
       "      <td>...</td>\n",
       "      <td>...</td>\n",
       "      <td>...</td>\n",
       "      <td>...</td>\n",
       "      <td>...</td>\n",
       "      <td>...</td>\n",
       "      <td>...</td>\n",
       "      <td>...</td>\n",
       "      <td>...</td>\n",
       "    </tr>\n",
       "    <tr>\n",
       "      <th>195</th>\n",
       "      <td>195</td>\n",
       "      <td>Aarya Ghat</td>\n",
       "      <td>1</td>\n",
       "      <td>1</td>\n",
       "      <td>1</td>\n",
       "      <td>0</td>\n",
       "      <td>0</td>\n",
       "      <td>0</td>\n",
       "      <td>0</td>\n",
       "      <td>0</td>\n",
       "      <td>0</td>\n",
       "    </tr>\n",
       "    <tr>\n",
       "      <th>196</th>\n",
       "      <td>196</td>\n",
       "      <td>Eternal Peace Flame</td>\n",
       "      <td>1</td>\n",
       "      <td>1</td>\n",
       "      <td>1</td>\n",
       "      <td>0</td>\n",
       "      <td>0</td>\n",
       "      <td>0</td>\n",
       "      <td>0</td>\n",
       "      <td>0</td>\n",
       "      <td>0</td>\n",
       "    </tr>\n",
       "    <tr>\n",
       "      <th>197</th>\n",
       "      <td>197</td>\n",
       "      <td>Tengboche Gompa</td>\n",
       "      <td>1</td>\n",
       "      <td>1</td>\n",
       "      <td>0</td>\n",
       "      <td>0</td>\n",
       "      <td>0</td>\n",
       "      <td>0</td>\n",
       "      <td>0</td>\n",
       "      <td>0</td>\n",
       "      <td>1</td>\n",
       "    </tr>\n",
       "    <tr>\n",
       "      <th>198</th>\n",
       "      <td>198</td>\n",
       "      <td>Bhat-Bhateni Supermarket and Departmental Store</td>\n",
       "      <td>0</td>\n",
       "      <td>0</td>\n",
       "      <td>0</td>\n",
       "      <td>0</td>\n",
       "      <td>1</td>\n",
       "      <td>0</td>\n",
       "      <td>0</td>\n",
       "      <td>0</td>\n",
       "      <td>0</td>\n",
       "    </tr>\n",
       "    <tr>\n",
       "      <th>199</th>\n",
       "      <td>199</td>\n",
       "      <td>Basantpur Dabali</td>\n",
       "      <td>1</td>\n",
       "      <td>1</td>\n",
       "      <td>1</td>\n",
       "      <td>0</td>\n",
       "      <td>0</td>\n",
       "      <td>0</td>\n",
       "      <td>0</td>\n",
       "      <td>0</td>\n",
       "      <td>0</td>\n",
       "    </tr>\n",
       "  </tbody>\n",
       "</table>\n",
       "<p>200 rows × 11 columns</p>\n",
       "</div>"
      ],
      "text/plain": [
       "     destination_id                                            title  history  \\\n",
       "0                 0                                 Boudhanath Stupa        1   \n",
       "1                 1                            Phewa Tal (Fewa Lake)        0   \n",
       "2                 2                                        Sarangkot        0   \n",
       "3                 3                             Swayambhunath Temple        1   \n",
       "4                 4                                        Poon Hill        0   \n",
       "..              ...                                              ...      ...   \n",
       "195             195                                       Aarya Ghat        1   \n",
       "196             196                              Eternal Peace Flame        1   \n",
       "197             197                                  Tengboche Gompa        1   \n",
       "198             198  Bhat-Bhateni Supermarket and Departmental Store        0   \n",
       "199             199                                 Basantpur Dabali        1   \n",
       "\n",
       "     art_and_architecture  nature  adventure  entertainment  \\\n",
       "0                       1       0          0              0   \n",
       "1                       0       1          0              0   \n",
       "2                       0       1          0              0   \n",
       "3                       1       0          0              0   \n",
       "4                       0       1          0              0   \n",
       "..                    ...     ...        ...            ...   \n",
       "195                     1       1          0              0   \n",
       "196                     1       1          0              0   \n",
       "197                     1       0          0              0   \n",
       "198                     0       0          0              1   \n",
       "199                     1       1          0              0   \n",
       "\n",
       "     health_and_lifestyle  food  industries  religious  \n",
       "0                       0     0           0          1  \n",
       "1                       0     0           0          0  \n",
       "2                       0     0           0          0  \n",
       "3                       0     0           0          1  \n",
       "4                       0     0           0          0  \n",
       "..                    ...   ...         ...        ...  \n",
       "195                     0     0           0          0  \n",
       "196                     0     0           0          0  \n",
       "197                     0     0           0          1  \n",
       "198                     0     0           0          0  \n",
       "199                     0     0           0          0  \n",
       "\n",
       "[200 rows x 11 columns]"
      ]
     },
     "execution_count": 6,
     "metadata": {},
     "output_type": "execute_result"
    }
   ],
   "source": [
    "#concat the converted and original dataframe \n",
    "new_df=pd.concat([destinations,converted],axis=1)\n",
    "new_df"
   ]
  },
  {
   "cell_type": "markdown",
   "metadata": {},
   "source": [
    "#### How many tourism genres are there?"
   ]
  },
  {
   "cell_type": "code",
   "execution_count": 7,
   "metadata": {},
   "outputs": [
    {
     "data": {
      "text/plain": [
       "history                 108\n",
       "art_and_architecture    109\n",
       "nature                   90\n",
       "adventure                16\n",
       "entertainment            13\n",
       "health_and_lifestyle      4\n",
       "food                      0\n",
       "industries                2\n",
       "religious                58\n",
       "dtype: int64"
      ]
     },
     "execution_count": 7,
     "metadata": {},
     "output_type": "execute_result"
    }
   ],
   "source": [
    "new_df.iloc[:,2:12].sum()"
   ]
  },
  {
   "cell_type": "markdown",
   "metadata": {},
   "source": [
    "From the above results, we saw that art_and_architecture and history are the most popular tourism genres out of 200 destinations in Nepal. And, food is the least popular genre. "
   ]
  },
  {
   "cell_type": "markdown",
   "metadata": {},
   "source": [
    "#### Make a 'destinations_feature' dataframe "
   ]
  },
  {
   "cell_type": "code",
   "execution_count": 8,
   "metadata": {},
   "outputs": [],
   "source": [
    "#set 'destination_id' as index\n",
    "new_df.set_index('destination_id',inplace=True)"
   ]
  },
  {
   "cell_type": "code",
   "execution_count": 9,
   "metadata": {},
   "outputs": [
    {
     "data": {
      "text/html": [
       "<div>\n",
       "<style scoped>\n",
       "    .dataframe tbody tr th:only-of-type {\n",
       "        vertical-align: middle;\n",
       "    }\n",
       "\n",
       "    .dataframe tbody tr th {\n",
       "        vertical-align: top;\n",
       "    }\n",
       "\n",
       "    .dataframe thead th {\n",
       "        text-align: right;\n",
       "    }\n",
       "</style>\n",
       "<table border=\"1\" class=\"dataframe\">\n",
       "  <thead>\n",
       "    <tr style=\"text-align: right;\">\n",
       "      <th></th>\n",
       "      <th>title</th>\n",
       "      <th>history</th>\n",
       "      <th>art_and_architecture</th>\n",
       "      <th>nature</th>\n",
       "      <th>adventure</th>\n",
       "      <th>entertainment</th>\n",
       "      <th>health_and_lifestyle</th>\n",
       "      <th>food</th>\n",
       "      <th>industries</th>\n",
       "      <th>religious</th>\n",
       "    </tr>\n",
       "    <tr>\n",
       "      <th>destination_id</th>\n",
       "      <th></th>\n",
       "      <th></th>\n",
       "      <th></th>\n",
       "      <th></th>\n",
       "      <th></th>\n",
       "      <th></th>\n",
       "      <th></th>\n",
       "      <th></th>\n",
       "      <th></th>\n",
       "      <th></th>\n",
       "    </tr>\n",
       "  </thead>\n",
       "  <tbody>\n",
       "    <tr>\n",
       "      <th>0</th>\n",
       "      <td>Boudhanath Stupa</td>\n",
       "      <td>1</td>\n",
       "      <td>1</td>\n",
       "      <td>0</td>\n",
       "      <td>0</td>\n",
       "      <td>0</td>\n",
       "      <td>0</td>\n",
       "      <td>0</td>\n",
       "      <td>0</td>\n",
       "      <td>1</td>\n",
       "    </tr>\n",
       "    <tr>\n",
       "      <th>1</th>\n",
       "      <td>Phewa Tal (Fewa Lake)</td>\n",
       "      <td>0</td>\n",
       "      <td>0</td>\n",
       "      <td>1</td>\n",
       "      <td>0</td>\n",
       "      <td>0</td>\n",
       "      <td>0</td>\n",
       "      <td>0</td>\n",
       "      <td>0</td>\n",
       "      <td>0</td>\n",
       "    </tr>\n",
       "    <tr>\n",
       "      <th>2</th>\n",
       "      <td>Sarangkot</td>\n",
       "      <td>0</td>\n",
       "      <td>0</td>\n",
       "      <td>1</td>\n",
       "      <td>0</td>\n",
       "      <td>0</td>\n",
       "      <td>0</td>\n",
       "      <td>0</td>\n",
       "      <td>0</td>\n",
       "      <td>0</td>\n",
       "    </tr>\n",
       "    <tr>\n",
       "      <th>3</th>\n",
       "      <td>Swayambhunath Temple</td>\n",
       "      <td>1</td>\n",
       "      <td>1</td>\n",
       "      <td>0</td>\n",
       "      <td>0</td>\n",
       "      <td>0</td>\n",
       "      <td>0</td>\n",
       "      <td>0</td>\n",
       "      <td>0</td>\n",
       "      <td>1</td>\n",
       "    </tr>\n",
       "    <tr>\n",
       "      <th>4</th>\n",
       "      <td>Poon Hill</td>\n",
       "      <td>0</td>\n",
       "      <td>0</td>\n",
       "      <td>1</td>\n",
       "      <td>0</td>\n",
       "      <td>0</td>\n",
       "      <td>0</td>\n",
       "      <td>0</td>\n",
       "      <td>0</td>\n",
       "      <td>0</td>\n",
       "    </tr>\n",
       "  </tbody>\n",
       "</table>\n",
       "</div>"
      ],
      "text/plain": [
       "                                title  history  art_and_architecture  nature  \\\n",
       "destination_id                                                                 \n",
       "0                    Boudhanath Stupa        1                     1       0   \n",
       "1               Phewa Tal (Fewa Lake)        0                     0       1   \n",
       "2                           Sarangkot        0                     0       1   \n",
       "3                Swayambhunath Temple        1                     1       0   \n",
       "4                           Poon Hill        0                     0       1   \n",
       "\n",
       "                adventure  entertainment  health_and_lifestyle  food  \\\n",
       "destination_id                                                         \n",
       "0                       0              0                     0     0   \n",
       "1                       0              0                     0     0   \n",
       "2                       0              0                     0     0   \n",
       "3                       0              0                     0     0   \n",
       "4                       0              0                     0     0   \n",
       "\n",
       "                industries  religious  \n",
       "destination_id                         \n",
       "0                        0          1  \n",
       "1                        0          0  \n",
       "2                        0          0  \n",
       "3                        0          1  \n",
       "4                        0          0  "
      ]
     },
     "execution_count": 9,
     "metadata": {},
     "output_type": "execute_result"
    }
   ],
   "source": [
    "new_df.head()"
   ]
  },
  {
   "cell_type": "code",
   "execution_count": 10,
   "metadata": {},
   "outputs": [],
   "source": [
    "# drop the 'title' column\n",
    "new_df.drop(['title'],axis=1,inplace=True)"
   ]
  },
  {
   "cell_type": "code",
   "execution_count": 11,
   "metadata": {},
   "outputs": [
    {
     "data": {
      "text/html": [
       "<div>\n",
       "<style scoped>\n",
       "    .dataframe tbody tr th:only-of-type {\n",
       "        vertical-align: middle;\n",
       "    }\n",
       "\n",
       "    .dataframe tbody tr th {\n",
       "        vertical-align: top;\n",
       "    }\n",
       "\n",
       "    .dataframe thead th {\n",
       "        text-align: right;\n",
       "    }\n",
       "</style>\n",
       "<table border=\"1\" class=\"dataframe\">\n",
       "  <thead>\n",
       "    <tr style=\"text-align: right;\">\n",
       "      <th></th>\n",
       "      <th>history</th>\n",
       "      <th>art_and_architecture</th>\n",
       "      <th>nature</th>\n",
       "      <th>adventure</th>\n",
       "      <th>entertainment</th>\n",
       "      <th>health_and_lifestyle</th>\n",
       "      <th>food</th>\n",
       "      <th>industries</th>\n",
       "      <th>religious</th>\n",
       "    </tr>\n",
       "    <tr>\n",
       "      <th>destination_id</th>\n",
       "      <th></th>\n",
       "      <th></th>\n",
       "      <th></th>\n",
       "      <th></th>\n",
       "      <th></th>\n",
       "      <th></th>\n",
       "      <th></th>\n",
       "      <th></th>\n",
       "      <th></th>\n",
       "    </tr>\n",
       "  </thead>\n",
       "  <tbody>\n",
       "    <tr>\n",
       "      <th>0</th>\n",
       "      <td>1</td>\n",
       "      <td>1</td>\n",
       "      <td>0</td>\n",
       "      <td>0</td>\n",
       "      <td>0</td>\n",
       "      <td>0</td>\n",
       "      <td>0</td>\n",
       "      <td>0</td>\n",
       "      <td>1</td>\n",
       "    </tr>\n",
       "    <tr>\n",
       "      <th>1</th>\n",
       "      <td>0</td>\n",
       "      <td>0</td>\n",
       "      <td>1</td>\n",
       "      <td>0</td>\n",
       "      <td>0</td>\n",
       "      <td>0</td>\n",
       "      <td>0</td>\n",
       "      <td>0</td>\n",
       "      <td>0</td>\n",
       "    </tr>\n",
       "    <tr>\n",
       "      <th>2</th>\n",
       "      <td>0</td>\n",
       "      <td>0</td>\n",
       "      <td>1</td>\n",
       "      <td>0</td>\n",
       "      <td>0</td>\n",
       "      <td>0</td>\n",
       "      <td>0</td>\n",
       "      <td>0</td>\n",
       "      <td>0</td>\n",
       "    </tr>\n",
       "    <tr>\n",
       "      <th>3</th>\n",
       "      <td>1</td>\n",
       "      <td>1</td>\n",
       "      <td>0</td>\n",
       "      <td>0</td>\n",
       "      <td>0</td>\n",
       "      <td>0</td>\n",
       "      <td>0</td>\n",
       "      <td>0</td>\n",
       "      <td>1</td>\n",
       "    </tr>\n",
       "    <tr>\n",
       "      <th>4</th>\n",
       "      <td>0</td>\n",
       "      <td>0</td>\n",
       "      <td>1</td>\n",
       "      <td>0</td>\n",
       "      <td>0</td>\n",
       "      <td>0</td>\n",
       "      <td>0</td>\n",
       "      <td>0</td>\n",
       "      <td>0</td>\n",
       "    </tr>\n",
       "  </tbody>\n",
       "</table>\n",
       "</div>"
      ],
      "text/plain": [
       "                history  art_and_architecture  nature  adventure  \\\n",
       "destination_id                                                     \n",
       "0                     1                     1       0          0   \n",
       "1                     0                     0       1          0   \n",
       "2                     0                     0       1          0   \n",
       "3                     1                     1       0          0   \n",
       "4                     0                     0       1          0   \n",
       "\n",
       "                entertainment  health_and_lifestyle  food  industries  \\\n",
       "destination_id                                                          \n",
       "0                           0                     0     0           0   \n",
       "1                           0                     0     0           0   \n",
       "2                           0                     0     0           0   \n",
       "3                           0                     0     0           0   \n",
       "4                           0                     0     0           0   \n",
       "\n",
       "                religious  \n",
       "destination_id             \n",
       "0                       1  \n",
       "1                       0  \n",
       "2                       0  \n",
       "3                       1  \n",
       "4                       0  "
      ]
     },
     "execution_count": 11,
     "metadata": {},
     "output_type": "execute_result"
    }
   ],
   "source": [
    "destination_features=new_df\n",
    "destination_features.head()"
   ]
  },
  {
   "cell_type": "markdown",
   "metadata": {},
   "source": [
    "### Step 4: Building a \"Similar Destinations\" Recommender Using Cosine Similarity\n",
    "\n",
    "We're going to build our item-item recommender using a similarity metric called [cosine similarity](https://en.wikipedia.org/wiki/Cosine_similarity). \n",
    "\n",
    "Cosine similarity looks at the cosine angle between two vectors (e.g., $A$ and $B$). The smaller the cosine angle, the higher the degree of similarity between $A$ and $B$. You can calculate the similarity between $A$ and $B$ with this equation:\n",
    "\n",
    "$$\\cos(\\theta) = \\frac{A\\cdot B}{||A|| ||B||}$$\n",
    "\n",
    "In this tutorial, we're going to use scikit-learn's cosine similarity [function](https://scikit-learn.org/stable/modules/generated/sklearn.metrics.pairwise.cosine_similarity.html) to generate a cosine similarity matrix of shape $(n_{\\text{movies}}, n_{\\text{movies}})$. With this cosine similarity matrix, we'll be able to extract movies that are most similar to the movie of interest."
   ]
  },
  {
   "cell_type": "code",
   "execution_count": 12,
   "metadata": {},
   "outputs": [
    {
     "name": "stdout",
     "output_type": "stream",
     "text": [
      "Dimensions of our destination features cosine similarity matrix: (200, 200)\n"
     ]
    }
   ],
   "source": [
    "from sklearn.metrics.pairwise import cosine_similarity\n",
    "\n",
    "cosine_sim = cosine_similarity(destination_features, destination_features)\n",
    "print(f\"Dimensions of our destination features cosine similarity matrix: {cosine_sim.shape}\")"
   ]
  },
  {
   "cell_type": "markdown",
   "metadata": {},
   "source": [
    "As expected, after passing the `destination_features` dataframe into the `cosine_similarity()` function, we get a cosine similarity matrix of shape $(n_{\\text{movies}}, n_{\\text{movies}})$.\n",
    "\n",
    "This matrix is populated with values between 0 and 1 which represent the degree of similarity between movies along the x and y axes."
   ]
  },
  {
   "cell_type": "markdown",
   "metadata": {},
   "source": [
    "### Let's create a movie finder function\n",
    "\n",
    "Use [fuzzywuzzy](https://pypi.org/project/fuzzywuzzy/) so the exact names of the destinations do not have to be typed."
   ]
  },
  {
   "cell_type": "code",
   "execution_count": 13,
   "metadata": {},
   "outputs": [
    {
     "name": "stderr",
     "output_type": "stream",
     "text": [
      "/home/werewolf/.pyenv/versions/data2/lib/python3.9/site-packages/fuzzywuzzy/fuzz.py:11: UserWarning: Using slow pure-python SequenceMatcher. Install python-Levenshtein to remove this warning\n",
      "  warnings.warn('Using slow pure-python SequenceMatcher. Install python-Levenshtein to remove this warning')\n"
     ]
    }
   ],
   "source": [
    "from fuzzywuzzy import process\n",
    "\n",
    "def destination_finder(title):\n",
    "    all_titles = destinations['title'].tolist()\n",
    "    closest_match = process.extractOne(title,all_titles)\n",
    "    return closest_match[0]"
   ]
  },
  {
   "cell_type": "markdown",
   "metadata": {},
   "source": [
    "Let's test this out with our Bouddhanath example. "
   ]
  },
  {
   "cell_type": "code",
   "execution_count": 14,
   "metadata": {},
   "outputs": [
    {
     "data": {
      "text/plain": [
       "'Boudhanath Stupa'"
      ]
     },
     "execution_count": 14,
     "metadata": {},
     "output_type": "execute_result"
    }
   ],
   "source": [
    "title = destination_finder('bouddhanath')\n",
    "title"
   ]
  },
  {
   "cell_type": "markdown",
   "metadata": {},
   "source": [
    "To get relevant recommendations for Jumanji, we need to find its index in the cosine simialrity matrix. To identify which row we should be looking at, we can create a movie index mapper which maps a movie title to the index that it represents in our matrix. \n",
    "\n",
    "Let's create a destination index dictionary called `destination_idx` where the keys are destination titles and values are destination indices:"
   ]
  },
  {
   "cell_type": "code",
   "execution_count": 15,
   "metadata": {},
   "outputs": [
    {
     "data": {
      "text/plain": [
       "0"
      ]
     },
     "execution_count": 15,
     "metadata": {},
     "output_type": "execute_result"
    }
   ],
   "source": [
    "destination_idx = dict(zip(destinations['title'], list(destinations.index)))\n",
    "idx = destination_idx[title]\n",
    "idx"
   ]
  },
  {
   "cell_type": "markdown",
   "metadata": {},
   "source": [
    "Using this handy `destination_idx` dictionary, we know that Boudhanath Stupa is represented by index 0 in our matrix. Let's get the top 10 most similar sites to Boudhanath Stupa."
   ]
  },
  {
   "cell_type": "code",
   "execution_count": 16,
   "metadata": {},
   "outputs": [],
   "source": [
    "n_recommendations=10\n",
    "sim_scores = list(enumerate(cosine_sim[idx]))\n",
    "sim_scores = sorted(sim_scores, key=lambda x: x[1], reverse=True)\n",
    "sim_scores = sim_scores[1:(n_recommendations+1)]\n",
    "similar_destinations = [i[0] for i in sim_scores]"
   ]
  },
  {
   "cell_type": "markdown",
   "metadata": {},
   "source": [
    "`similar_movies` is an array of indices that represents boudhanath stupa's top 10 recommendations. We can get the corresponding destination titles by either creating an inverse `destination_idx` mapper or using `iloc` on the title column of the `destinations` dataframe."
   ]
  },
  {
   "cell_type": "code",
   "execution_count": 17,
   "metadata": {},
   "outputs": [
    {
     "name": "stdout",
     "output_type": "stream",
     "text": [
      "Because you watched Boudhanath Stupa:\n"
     ]
    },
    {
     "data": {
      "text/plain": [
       "3                        Swayambhunath Temple\n",
       "5                                Peace Temple\n",
       "6                        Pashupatinath Temple\n",
       "11    Golden Temple (Hiranya Varna Mahavihar)\n",
       "16                            Kopan Monastery\n",
       "30                           Muktinath Temple\n",
       "31                              Barahi temple\n",
       "32                           Maya Devi Temple\n",
       "35                      Bindhya Basini Temple\n",
       "41                          Mahaboudha Temple\n",
       "Name: title, dtype: object"
      ]
     },
     "execution_count": 17,
     "metadata": {},
     "output_type": "execute_result"
    }
   ],
   "source": [
    "print(f\"Because you watched {title}:\")\n",
    "destinations['title'].iloc[similar_destinations]"
   ]
  },
  {
   "cell_type": "markdown",
   "metadata": {},
   "source": [
    "Now, create a single function to accomodate all these steps."
   ]
  },
  {
   "cell_type": "code",
   "execution_count": 18,
   "metadata": {},
   "outputs": [],
   "source": [
    "# def get_content_based_recommendations(title_string, n_recommendations=10):\n",
    "#     title = destination_finder(title_string)\n",
    "#     idx = destination_idx[title]\n",
    "#     sim_scores = list(enumerate(cosine_sim[idx]))\n",
    "#     sim_scores = sorted(sim_scores, key=lambda x: x[1], reverse=True)\n",
    "#     sim_scores = sim_scores[1:(n_recommendations+1)]\n",
    "#     similar_destinations = [i[0] for i in sim_scores]\n",
    "#     print(f\"Recommendations for {title}:\")\n",
    "#     print(destinations['title'].iloc[similar_destinations])\n",
    "#     return similar_destinations\n",
    "def get_content_based_recommendations(idx, n_recommendations=10):\n",
    "    sim_scores = list(enumerate(cosine_sim[idx]))\n",
    "    sim_scores = sorted(sim_scores, key=lambda x: x[1], reverse=True)\n",
    "    sim_scores = sim_scores[1:(n_recommendations+1)]\n",
    "    similar_destinations = [i[0] for i in sim_scores]\n",
    "#     print(f\"Recommendations for {title}:\")\n",
    "#     print(destinations['title'].iloc[similar_destinations])\n",
    "    return similar_destinations"
   ]
  },
  {
   "cell_type": "code",
   "execution_count": 19,
   "metadata": {},
   "outputs": [
    {
     "name": "stdout",
     "output_type": "stream",
     "text": [
      "[2, 4, 8, 9, 10, 15, 19, 25, 26, 27]\n"
     ]
    }
   ],
   "source": [
    "print(get_content_based_recommendations(1,10))"
   ]
  },
  {
   "cell_type": "markdown",
   "metadata": {},
   "source": [
    "## Evaluation"
   ]
  },
  {
   "cell_type": "code",
   "execution_count": 20,
   "metadata": {},
   "outputs": [
    {
     "data": {
      "text/html": [
       "<div>\n",
       "<style scoped>\n",
       "    .dataframe tbody tr th:only-of-type {\n",
       "        vertical-align: middle;\n",
       "    }\n",
       "\n",
       "    .dataframe tbody tr th {\n",
       "        vertical-align: top;\n",
       "    }\n",
       "\n",
       "    .dataframe thead th {\n",
       "        text-align: right;\n",
       "    }\n",
       "</style>\n",
       "<table border=\"1\" class=\"dataframe\">\n",
       "  <thead>\n",
       "    <tr style=\"text-align: right;\">\n",
       "      <th></th>\n",
       "      <th>destination_id</th>\n",
       "      <th>title</th>\n",
       "    </tr>\n",
       "  </thead>\n",
       "  <tbody>\n",
       "    <tr>\n",
       "      <th>0</th>\n",
       "      <td>0</td>\n",
       "      <td>Boudhanath Stupa</td>\n",
       "    </tr>\n",
       "    <tr>\n",
       "      <th>1</th>\n",
       "      <td>1</td>\n",
       "      <td>Phewa Tal (Fewa Lake)</td>\n",
       "    </tr>\n",
       "    <tr>\n",
       "      <th>2</th>\n",
       "      <td>2</td>\n",
       "      <td>Sarangkot</td>\n",
       "    </tr>\n",
       "    <tr>\n",
       "      <th>3</th>\n",
       "      <td>3</td>\n",
       "      <td>Swayambhunath Temple</td>\n",
       "    </tr>\n",
       "    <tr>\n",
       "      <th>4</th>\n",
       "      <td>4</td>\n",
       "      <td>Poon Hill</td>\n",
       "    </tr>\n",
       "    <tr>\n",
       "      <th>...</th>\n",
       "      <td>...</td>\n",
       "      <td>...</td>\n",
       "    </tr>\n",
       "    <tr>\n",
       "      <th>195</th>\n",
       "      <td>195</td>\n",
       "      <td>Aarya Ghat</td>\n",
       "    </tr>\n",
       "    <tr>\n",
       "      <th>196</th>\n",
       "      <td>196</td>\n",
       "      <td>Eternal Peace Flame</td>\n",
       "    </tr>\n",
       "    <tr>\n",
       "      <th>197</th>\n",
       "      <td>197</td>\n",
       "      <td>Tengboche Gompa</td>\n",
       "    </tr>\n",
       "    <tr>\n",
       "      <th>198</th>\n",
       "      <td>198</td>\n",
       "      <td>Bhat-Bhateni Supermarket and Departmental Store</td>\n",
       "    </tr>\n",
       "    <tr>\n",
       "      <th>199</th>\n",
       "      <td>199</td>\n",
       "      <td>Basantpur Dabali</td>\n",
       "    </tr>\n",
       "  </tbody>\n",
       "</table>\n",
       "<p>200 rows × 2 columns</p>\n",
       "</div>"
      ],
      "text/plain": [
       "     destination_id                                            title\n",
       "0                 0                                 Boudhanath Stupa\n",
       "1                 1                            Phewa Tal (Fewa Lake)\n",
       "2                 2                                        Sarangkot\n",
       "3                 3                             Swayambhunath Temple\n",
       "4                 4                                        Poon Hill\n",
       "..              ...                                              ...\n",
       "195             195                                       Aarya Ghat\n",
       "196             196                              Eternal Peace Flame\n",
       "197             197                                  Tengboche Gompa\n",
       "198             198  Bhat-Bhateni Supermarket and Departmental Store\n",
       "199             199                                 Basantpur Dabali\n",
       "\n",
       "[200 rows x 2 columns]"
      ]
     },
     "execution_count": 20,
     "metadata": {},
     "output_type": "execute_result"
    }
   ],
   "source": [
    "destinations"
   ]
  },
  {
   "cell_type": "code",
   "execution_count": 21,
   "metadata": {},
   "outputs": [
    {
     "data": {
      "text/html": [
       "<div>\n",
       "<style scoped>\n",
       "    .dataframe tbody tr th:only-of-type {\n",
       "        vertical-align: middle;\n",
       "    }\n",
       "\n",
       "    .dataframe tbody tr th {\n",
       "        vertical-align: top;\n",
       "    }\n",
       "\n",
       "    .dataframe thead th {\n",
       "        text-align: right;\n",
       "    }\n",
       "</style>\n",
       "<table border=\"1\" class=\"dataframe\">\n",
       "  <thead>\n",
       "    <tr style=\"text-align: right;\">\n",
       "      <th></th>\n",
       "      <th>user_id</th>\n",
       "      <th>destination_id</th>\n",
       "      <th>rating</th>\n",
       "    </tr>\n",
       "  </thead>\n",
       "  <tbody>\n",
       "    <tr>\n",
       "      <th>0</th>\n",
       "      <td>0</td>\n",
       "      <td>62</td>\n",
       "      <td>5</td>\n",
       "    </tr>\n",
       "    <tr>\n",
       "      <th>1</th>\n",
       "      <td>0</td>\n",
       "      <td>120</td>\n",
       "      <td>4</td>\n",
       "    </tr>\n",
       "    <tr>\n",
       "      <th>2</th>\n",
       "      <td>0</td>\n",
       "      <td>28</td>\n",
       "      <td>4</td>\n",
       "    </tr>\n",
       "    <tr>\n",
       "      <th>3</th>\n",
       "      <td>0</td>\n",
       "      <td>4</td>\n",
       "      <td>5</td>\n",
       "    </tr>\n",
       "    <tr>\n",
       "      <th>4</th>\n",
       "      <td>0</td>\n",
       "      <td>100</td>\n",
       "      <td>3</td>\n",
       "    </tr>\n",
       "  </tbody>\n",
       "</table>\n",
       "</div>"
      ],
      "text/plain": [
       "   user_id  destination_id  rating\n",
       "0        0              62       5\n",
       "1        0             120       4\n",
       "2        0              28       4\n",
       "3        0               4       5\n",
       "4        0             100       3"
      ]
     },
     "execution_count": 21,
     "metadata": {},
     "output_type": "execute_result"
    }
   ],
   "source": [
    "ratings=pd.read_csv(\"../Collaborative/sample_user_ratings.csv\")\n",
    "ratings.head()"
   ]
  },
  {
   "cell_type": "code",
   "execution_count": 22,
   "metadata": {},
   "outputs": [],
   "source": [
    "import matplotlib.pyplot as plt\n",
    "import numpy as np\n",
    "import pandas as pd\n",
    "from surprise import SVD, Dataset, Reader\n",
    "from surprise.model_selection import train_test_split\n",
    "\n",
    "import recmetrics"
   ]
  },
  {
   "cell_type": "code",
   "execution_count": 23,
   "metadata": {},
   "outputs": [],
   "source": [
    "reader = Reader(rating_scale=(0, 5))\n",
    "data = Dataset.load_from_df(ratings[['user_id', 'destination_id', 'rating']], reader)\n",
    "trainset, testset = train_test_split(data, test_size=0.25)"
   ]
  },
  {
   "cell_type": "code",
   "execution_count": 24,
   "metadata": {},
   "outputs": [
    {
     "data": {
      "text/html": [
       "<div>\n",
       "<style scoped>\n",
       "    .dataframe tbody tr th:only-of-type {\n",
       "        vertical-align: middle;\n",
       "    }\n",
       "\n",
       "    .dataframe tbody tr th {\n",
       "        vertical-align: top;\n",
       "    }\n",
       "\n",
       "    .dataframe thead th {\n",
       "        text-align: right;\n",
       "    }\n",
       "</style>\n",
       "<table border=\"1\" class=\"dataframe\">\n",
       "  <thead>\n",
       "    <tr style=\"text-align: right;\">\n",
       "      <th></th>\n",
       "      <th>user_id</th>\n",
       "      <th>destination_id</th>\n",
       "      <th>actual</th>\n",
       "    </tr>\n",
       "  </thead>\n",
       "  <tbody>\n",
       "    <tr>\n",
       "      <th>0</th>\n",
       "      <td>12</td>\n",
       "      <td>169</td>\n",
       "      <td>4.0</td>\n",
       "    </tr>\n",
       "    <tr>\n",
       "      <th>1</th>\n",
       "      <td>55</td>\n",
       "      <td>167</td>\n",
       "      <td>4.0</td>\n",
       "    </tr>\n",
       "    <tr>\n",
       "      <th>2</th>\n",
       "      <td>2</td>\n",
       "      <td>70</td>\n",
       "      <td>4.0</td>\n",
       "    </tr>\n",
       "    <tr>\n",
       "      <th>3</th>\n",
       "      <td>62</td>\n",
       "      <td>102</td>\n",
       "      <td>3.0</td>\n",
       "    </tr>\n",
       "    <tr>\n",
       "      <th>4</th>\n",
       "      <td>84</td>\n",
       "      <td>1</td>\n",
       "      <td>4.0</td>\n",
       "    </tr>\n",
       "  </tbody>\n",
       "</table>\n",
       "</div>"
      ],
      "text/plain": [
       "   user_id  destination_id  actual\n",
       "0       12             169     4.0\n",
       "1       55             167     4.0\n",
       "2        2              70     4.0\n",
       "3       62             102     3.0\n",
       "4       84               1     4.0"
      ]
     },
     "execution_count": 24,
     "metadata": {},
     "output_type": "execute_result"
    }
   ],
   "source": [
    "test = pd.DataFrame(testset)\n",
    "test.columns = ['user_id', 'destination_id', 'actual']\n",
    "test.head()"
   ]
  },
  {
   "cell_type": "code",
   "execution_count": 25,
   "metadata": {},
   "outputs": [
    {
     "data": {
      "text/html": [
       "<div>\n",
       "<style scoped>\n",
       "    .dataframe tbody tr th:only-of-type {\n",
       "        vertical-align: middle;\n",
       "    }\n",
       "\n",
       "    .dataframe tbody tr th {\n",
       "        vertical-align: top;\n",
       "    }\n",
       "\n",
       "    .dataframe thead th {\n",
       "        text-align: right;\n",
       "    }\n",
       "</style>\n",
       "<table border=\"1\" class=\"dataframe\">\n",
       "  <thead>\n",
       "    <tr style=\"text-align: right;\">\n",
       "      <th></th>\n",
       "      <th>user_id</th>\n",
       "      <th>actual</th>\n",
       "    </tr>\n",
       "  </thead>\n",
       "  <tbody>\n",
       "    <tr>\n",
       "      <th>0</th>\n",
       "      <td>0</td>\n",
       "      <td>[64, 100, 122, 40, 176, 18, 90, 62]</td>\n",
       "    </tr>\n",
       "    <tr>\n",
       "      <th>1</th>\n",
       "      <td>1</td>\n",
       "      <td>[139, 12, 17, 115, 184]</td>\n",
       "    </tr>\n",
       "    <tr>\n",
       "      <th>2</th>\n",
       "      <td>2</td>\n",
       "      <td>[1, 70, 41, 17, 81, 148, 27]</td>\n",
       "    </tr>\n",
       "    <tr>\n",
       "      <th>3</th>\n",
       "      <td>3</td>\n",
       "      <td>[2, 156, 197, 166]</td>\n",
       "    </tr>\n",
       "    <tr>\n",
       "      <th>4</th>\n",
       "      <td>4</td>\n",
       "      <td>[153, 76, 182]</td>\n",
       "    </tr>\n",
       "    <tr>\n",
       "      <th>...</th>\n",
       "      <td>...</td>\n",
       "      <td>...</td>\n",
       "    </tr>\n",
       "    <tr>\n",
       "      <th>96</th>\n",
       "      <td>96</td>\n",
       "      <td>[32, 130, 15, 80, 185, 92]</td>\n",
       "    </tr>\n",
       "    <tr>\n",
       "      <th>97</th>\n",
       "      <td>97</td>\n",
       "      <td>[152, 121, 116, 158]</td>\n",
       "    </tr>\n",
       "    <tr>\n",
       "      <th>98</th>\n",
       "      <td>98</td>\n",
       "      <td>[192, 99, 44, 87, 88, 123, 159]</td>\n",
       "    </tr>\n",
       "    <tr>\n",
       "      <th>99</th>\n",
       "      <td>99</td>\n",
       "      <td>[160, 131, 68, 135, 80]</td>\n",
       "    </tr>\n",
       "    <tr>\n",
       "      <th>100</th>\n",
       "      <td>100</td>\n",
       "      <td>[184, 198]</td>\n",
       "    </tr>\n",
       "  </tbody>\n",
       "</table>\n",
       "<p>101 rows × 2 columns</p>\n",
       "</div>"
      ],
      "text/plain": [
       "     user_id                               actual\n",
       "0          0  [64, 100, 122, 40, 176, 18, 90, 62]\n",
       "1          1              [139, 12, 17, 115, 184]\n",
       "2          2         [1, 70, 41, 17, 81, 148, 27]\n",
       "3          3                   [2, 156, 197, 166]\n",
       "4          4                       [153, 76, 182]\n",
       "..       ...                                  ...\n",
       "96        96           [32, 130, 15, 80, 185, 92]\n",
       "97        97                 [152, 121, 116, 158]\n",
       "98        98      [192, 99, 44, 87, 88, 123, 159]\n",
       "99        99              [160, 131, 68, 135, 80]\n",
       "100      100                           [184, 198]\n",
       "\n",
       "[101 rows x 2 columns]"
      ]
     },
     "execution_count": 25,
     "metadata": {},
     "output_type": "execute_result"
    }
   ],
   "source": [
    "test = test.copy().groupby('user_id', as_index=False)['destination_id'].agg({'actual': (lambda x: list(set(x)))})\n",
    "test"
   ]
  },
  {
   "cell_type": "code",
   "execution_count": 26,
   "metadata": {},
   "outputs": [
    {
     "data": {
      "text/html": [
       "<div>\n",
       "<style scoped>\n",
       "    .dataframe tbody tr th:only-of-type {\n",
       "        vertical-align: middle;\n",
       "    }\n",
       "\n",
       "    .dataframe tbody tr th {\n",
       "        vertical-align: top;\n",
       "    }\n",
       "\n",
       "    .dataframe thead th {\n",
       "        text-align: right;\n",
       "    }\n",
       "</style>\n",
       "<table border=\"1\" class=\"dataframe\">\n",
       "  <thead>\n",
       "    <tr style=\"text-align: right;\">\n",
       "      <th></th>\n",
       "      <th>actual</th>\n",
       "    </tr>\n",
       "    <tr>\n",
       "      <th>user_id</th>\n",
       "      <th></th>\n",
       "    </tr>\n",
       "  </thead>\n",
       "  <tbody>\n",
       "    <tr>\n",
       "      <th>0</th>\n",
       "      <td>[64, 100, 122, 40, 176, 18, 90, 62]</td>\n",
       "    </tr>\n",
       "    <tr>\n",
       "      <th>1</th>\n",
       "      <td>[139, 12, 17, 115, 184]</td>\n",
       "    </tr>\n",
       "    <tr>\n",
       "      <th>2</th>\n",
       "      <td>[1, 70, 41, 17, 81, 148, 27]</td>\n",
       "    </tr>\n",
       "    <tr>\n",
       "      <th>3</th>\n",
       "      <td>[2, 156, 197, 166]</td>\n",
       "    </tr>\n",
       "    <tr>\n",
       "      <th>4</th>\n",
       "      <td>[153, 76, 182]</td>\n",
       "    </tr>\n",
       "    <tr>\n",
       "      <th>...</th>\n",
       "      <td>...</td>\n",
       "    </tr>\n",
       "    <tr>\n",
       "      <th>96</th>\n",
       "      <td>[32, 130, 15, 80, 185, 92]</td>\n",
       "    </tr>\n",
       "    <tr>\n",
       "      <th>97</th>\n",
       "      <td>[152, 121, 116, 158]</td>\n",
       "    </tr>\n",
       "    <tr>\n",
       "      <th>98</th>\n",
       "      <td>[192, 99, 44, 87, 88, 123, 159]</td>\n",
       "    </tr>\n",
       "    <tr>\n",
       "      <th>99</th>\n",
       "      <td>[160, 131, 68, 135, 80]</td>\n",
       "    </tr>\n",
       "    <tr>\n",
       "      <th>100</th>\n",
       "      <td>[184, 198]</td>\n",
       "    </tr>\n",
       "  </tbody>\n",
       "</table>\n",
       "<p>101 rows × 1 columns</p>\n",
       "</div>"
      ],
      "text/plain": [
       "                                      actual\n",
       "user_id                                     \n",
       "0        [64, 100, 122, 40, 176, 18, 90, 62]\n",
       "1                    [139, 12, 17, 115, 184]\n",
       "2               [1, 70, 41, 17, 81, 148, 27]\n",
       "3                         [2, 156, 197, 166]\n",
       "4                             [153, 76, 182]\n",
       "...                                      ...\n",
       "96                [32, 130, 15, 80, 185, 92]\n",
       "97                      [152, 121, 116, 158]\n",
       "98           [192, 99, 44, 87, 88, 123, 159]\n",
       "99                   [160, 131, 68, 135, 80]\n",
       "100                               [184, 198]\n",
       "\n",
       "[101 rows x 1 columns]"
      ]
     },
     "execution_count": 26,
     "metadata": {},
     "output_type": "execute_result"
    }
   ],
   "source": [
    "test = test.set_index(\"user_id\")\n",
    "test"
   ]
  },
  {
   "cell_type": "code",
   "execution_count": 27,
   "metadata": {},
   "outputs": [
    {
     "name": "stdout",
     "output_type": "stream",
     "text": [
      "[[3, 5, 6, 11, 16, 30, 31, 32, 35, 41], [20, 22, 48, 49, 64, 77, 98, 99, 105, 106], [2, 4, 8, 9, 10, 15, 19, 25, 26, 27], [3, 5, 6, 11, 16, 30, 31, 32, 35, 41], [3, 5, 6, 11, 16, 30, 31, 32, 35, 41], [14, 24, 29, 45, 61, 74, 86, 93, 116, 121], [3, 5, 6, 11, 16, 30, 31, 32, 35, 41], [3, 5, 6, 11, 16, 30, 31, 32, 35, 41], [1, 2, 3, 4, 5, 6, 7, 8, 9, 10], [1, 2, 3, 4, 5, 6, 7, 8, 9, 10], [2, 4, 8, 9, 10, 15, 19, 25, 26, 27], [3, 5, 6, 11, 16, 30, 31, 32, 35, 41], [3, 5, 6, 11, 16, 30, 31, 32, 35, 41], [20, 22, 48, 49, 64, 77, 98, 99, 105, 106], [2, 4, 8, 9, 10, 15, 19, 25, 26, 27], [1, 2, 3, 4, 5, 6, 7, 8, 9, 10], [3, 5, 6, 11, 16, 30, 31, 32, 35, 41], [3, 5, 6, 11, 16, 30, 31, 32, 35, 41], [2, 4, 8, 9, 10, 15, 19, 25, 26, 27], [20, 22, 48, 49, 64, 77, 98, 99, 105, 106], [20, 22, 48, 49, 64, 77, 98, 99, 105, 106], [3, 5, 6, 11, 16, 30, 31, 32, 35, 41], [3, 5, 6, 11, 16, 30, 31, 32, 35, 41], [2, 4, 8, 9, 10, 15, 19, 25, 26, 27], [3, 5, 6, 11, 16, 30, 31, 32, 35, 41], [20, 22, 48, 49, 64, 77, 98, 99, 105, 106], [76, 83, 91, 95, 123, 133, 134, 157, 191, 198], [14, 24, 29, 45, 61, 74, 86, 93, 116, 121], [14, 24, 29, 45, 61, 74, 86, 93, 116, 121], [20, 22, 48, 49, 64, 77, 98, 99, 105, 106], [20, 22, 48, 49, 64, 77, 98, 99, 105, 106], [1, 2, 3, 4, 5, 6, 7, 8, 9, 10], [1, 2, 3, 4, 5, 6, 7, 8, 9, 10], [2, 4, 8, 9, 10, 15, 19, 25, 26, 27], [3, 5, 6, 11, 16, 30, 31, 32, 35, 41], [1, 2, 3, 4, 5, 6, 7, 8, 9, 10], [3, 5, 6, 11, 16, 30, 31, 32, 35, 41], [14, 24, 29, 45, 61, 74, 86, 93, 116, 121], [1, 2, 3, 4, 5, 6, 7, 8, 9, 10], [78, 140, 147, 80, 0, 1, 2, 3, 4, 5], [14, 24, 29, 45, 61, 74, 86, 93, 116, 121], [2, 4, 8, 9, 10, 15, 19, 25, 26, 27], [2, 4, 8, 9, 10, 15, 19, 25, 26, 27], [3, 5, 6, 11, 16, 30, 31, 32, 35, 41], [14, 24, 29, 45, 61, 74, 86, 93, 116, 121], [33, 39, 47, 53, 55, 56, 108, 110, 126, 174], [3, 5, 6, 11, 16, 30, 31, 32, 35, 41], [1, 2, 3, 4, 5, 6, 7, 8, 9, 10], [14, 24, 29, 45, 61, 74, 86, 93, 116, 121], [3, 5, 6, 11, 16, 30, 31, 32, 35, 41], [2, 4, 8, 9, 10, 15, 19, 25, 26, 27], [3, 5, 6, 11, 16, 30, 31, 32, 35, 41], [3, 5, 6, 11, 16, 30, 31, 32, 35, 41], [2, 4, 8, 9, 10, 15, 19, 25, 26, 27], [33, 39, 47, 53, 55, 56, 108, 110, 126, 174], [3, 5, 6, 11, 16, 30, 31, 32, 35, 41], [33, 39, 47, 53, 55, 56, 108, 110, 126, 174], [3, 5, 6, 11, 16, 30, 31, 32, 35, 41], [14, 24, 29, 45, 61, 74, 86, 93, 116, 121], [14, 24, 29, 45, 61, 74, 86, 93, 116, 121], [2, 4, 8, 9, 10, 15, 19, 25, 26, 27], [3, 5, 6, 11, 16, 30, 31, 32, 35, 41], [3, 5, 6, 11, 16, 30, 31, 32, 35, 41], [2, 4, 8, 9, 10, 15, 19, 25, 26, 27], [3, 5, 6, 11, 16, 30, 31, 32, 35, 41], [20, 22, 48, 49, 64, 77, 98, 99, 105, 106], [14, 24, 29, 45, 61, 74, 86, 93, 116, 121], [3, 5, 6, 11, 16, 30, 31, 32, 35, 41], [20, 22, 48, 49, 64, 77, 98, 99, 105, 106], [76, 83, 91, 95, 123, 133, 134, 157, 191, 198], [1, 2, 3, 4, 5, 6, 7, 8, 9, 10], [3, 5, 6, 11, 16, 30, 31, 32, 35, 41], [2, 4, 8, 9, 10, 15, 19, 25, 26, 27], [2, 4, 8, 9, 10, 15, 19, 25, 26, 27], [33, 39, 47, 53, 55, 56, 108, 110, 126, 174], [20, 22, 48, 49, 64, 77, 98, 99, 105, 106], [3, 5, 6, 11, 16, 30, 31, 32, 35, 41], [2, 4, 8, 9, 10, 15, 19, 25, 26, 27], [33, 39, 47, 53, 55, 56, 108, 110, 126, 174], [3, 5, 6, 11, 16, 30, 31, 32, 35, 41], [3, 5, 6, 11, 16, 30, 31, 32, 35, 41], [3, 5, 6, 11, 16, 30, 31, 32, 35, 41], [14, 24, 29, 45, 61, 74, 86, 93, 116, 121], [14, 24, 29, 45, 61, 74, 86, 93, 116, 121], [78, 140, 147, 80, 0, 1, 2, 3, 4, 5], [2, 4, 8, 9, 10, 15, 19, 25, 26, 27], [3, 5, 6, 11, 16, 30, 31, 32, 35, 41], [76, 83, 91, 95, 123, 133, 134, 157, 191, 198], [2, 4, 8, 9, 10, 15, 19, 25, 26, 27], [2, 4, 8, 9, 10, 15, 19, 25, 26, 27], [14, 24, 29, 45, 61, 74, 86, 93, 116, 121], [33, 39, 47, 53, 55, 56, 108, 110, 126, 174], [2, 4, 8, 9, 10, 15, 19, 25, 26, 27], [76, 83, 91, 95, 123, 133, 134, 157, 191, 198], [2, 4, 8, 9, 10, 15, 19, 25, 26, 27], [14, 24, 29, 45, 61, 74, 86, 93, 116, 121], [3, 5, 6, 11, 16, 30, 31, 32, 35, 41], [1, 2, 3, 4, 5, 6, 7, 8, 9, 10], [3, 5, 6, 11, 16, 30, 31, 32, 35, 41], [23, 78, 147, 18, 33, 39, 47, 53, 55, 56], [76, 83, 91, 95, 123, 133, 134, 157, 191, 198]]\n"
     ]
    }
   ],
   "source": [
    "# find the recommended 10 destinations to the users of the test dataset\n",
    "# and add them to a superlist\n",
    "super_recommended_ids=[]\n",
    "for user in test.index:\n",
    "    most_recent_destination_id=test.loc[user]['actual'][-1] #extract the most recently rated destination id\n",
    "    recommeneded_ids = get_content_based_recommendations(most_recent_destination_id,10)\n",
    "    super_recommended_ids.append(recommeneded_ids)\n",
    "print(super_recommended_ids)"
   ]
  },
  {
   "cell_type": "code",
   "execution_count": 28,
   "metadata": {},
   "outputs": [
    {
     "data": {
      "text/html": [
       "<div>\n",
       "<style scoped>\n",
       "    .dataframe tbody tr th:only-of-type {\n",
       "        vertical-align: middle;\n",
       "    }\n",
       "\n",
       "    .dataframe tbody tr th {\n",
       "        vertical-align: top;\n",
       "    }\n",
       "\n",
       "    .dataframe thead th {\n",
       "        text-align: right;\n",
       "    }\n",
       "</style>\n",
       "<table border=\"1\" class=\"dataframe\">\n",
       "  <thead>\n",
       "    <tr style=\"text-align: right;\">\n",
       "      <th></th>\n",
       "      <th>actual</th>\n",
       "      <th>content_predictions</th>\n",
       "    </tr>\n",
       "    <tr>\n",
       "      <th>user_id</th>\n",
       "      <th></th>\n",
       "      <th></th>\n",
       "    </tr>\n",
       "  </thead>\n",
       "  <tbody>\n",
       "    <tr>\n",
       "      <th>0</th>\n",
       "      <td>[64, 100, 122, 40, 176, 18, 90, 62]</td>\n",
       "      <td>[3, 5, 6, 11, 16, 30, 31, 32, 35, 41]</td>\n",
       "    </tr>\n",
       "    <tr>\n",
       "      <th>1</th>\n",
       "      <td>[139, 12, 17, 115, 184]</td>\n",
       "      <td>[20, 22, 48, 49, 64, 77, 98, 99, 105, 106]</td>\n",
       "    </tr>\n",
       "    <tr>\n",
       "      <th>2</th>\n",
       "      <td>[1, 70, 41, 17, 81, 148, 27]</td>\n",
       "      <td>[2, 4, 8, 9, 10, 15, 19, 25, 26, 27]</td>\n",
       "    </tr>\n",
       "    <tr>\n",
       "      <th>3</th>\n",
       "      <td>[2, 156, 197, 166]</td>\n",
       "      <td>[3, 5, 6, 11, 16, 30, 31, 32, 35, 41]</td>\n",
       "    </tr>\n",
       "    <tr>\n",
       "      <th>4</th>\n",
       "      <td>[153, 76, 182]</td>\n",
       "      <td>[3, 5, 6, 11, 16, 30, 31, 32, 35, 41]</td>\n",
       "    </tr>\n",
       "  </tbody>\n",
       "</table>\n",
       "</div>"
      ],
      "text/plain": [
       "                                      actual  \\\n",
       "user_id                                        \n",
       "0        [64, 100, 122, 40, 176, 18, 90, 62]   \n",
       "1                    [139, 12, 17, 115, 184]   \n",
       "2               [1, 70, 41, 17, 81, 148, 27]   \n",
       "3                         [2, 156, 197, 166]   \n",
       "4                             [153, 76, 182]   \n",
       "\n",
       "                                content_predictions  \n",
       "user_id                                              \n",
       "0             [3, 5, 6, 11, 16, 30, 31, 32, 35, 41]  \n",
       "1        [20, 22, 48, 49, 64, 77, 98, 99, 105, 106]  \n",
       "2              [2, 4, 8, 9, 10, 15, 19, 25, 26, 27]  \n",
       "3             [3, 5, 6, 11, 16, 30, 31, 32, 35, 41]  \n",
       "4             [3, 5, 6, 11, 16, 30, 31, 32, 35, 41]  "
      ]
     },
     "execution_count": 28,
     "metadata": {},
     "output_type": "execute_result"
    }
   ],
   "source": [
    "# update the recommended ids as a new column\n",
    "test['content_predictions']=super_recommended_ids\n",
    "test.head()"
   ]
  },
  {
   "cell_type": "code",
   "execution_count": 29,
   "metadata": {},
   "outputs": [
    {
     "name": "stdout",
     "output_type": "stream",
     "text": [
      "[[64, 100, 122, 40, 176, 18, 90, 62], [139, 12, 17, 115, 184], [1, 70, 41, 17, 81, 148, 27], [2, 156, 197, 166], [153, 76, 182], [19, 9, 115, 116], [166, 137, 169, 112, 31], [6, 52, 183, 59, 159], [67, 165, 9, 171, 80, 148], [164, 174, 177, 146, 120], [96, 199, 137, 139, 140, 114, 53, 22, 154], [161, 7, 142, 175, 178, 85, 118, 58, 92], [153, 169, 81, 117, 118, 89, 63], [80, 140, 77], [177, 157, 79, 15], [80, 194, 34, 13], [35, 197, 103, 169, 114, 83, 53, 30], [39, 169, 116, 118, 63], [129, 26, 19, 4], [20, 118], [185, 10, 109, 199], [160, 0, 96, 69, 153, 92], [163, 104, 170, 10, 30], [104, 123, 4], [178, 139, 52, 6], [140, 76, 189], [2, 105, 155, 119, 123], [168, 74, 170, 145, 116], [168, 148, 84, 121], [112, 116, 149, 118], [40, 161, 99, 109], [193, 106, 135], [120, 73, 58, 104], [3, 165, 180, 56, 25], [167, 43, 177, 83, 57, 155, 31], [104, 99, 158], [32, 197, 82, 149, 126, 30], [32, 35, 137, 112, 24], [1, 36, 197, 38, 135, 72, 139, 112, 49, 21, 57], [74, 82], [90, 99, 156, 14], [59, 196, 62, 143], [33, 66, 178, 18, 156], [37, 9, 45, 80, 148, 54, 92, 62], [173, 17, 180, 86, 29], [140, 142, 55], [66, 100, 11, 44, 91, 31], [196, 44, 109, 146, 93, 158], [0, 97, 70, 107, 19, 117, 87, 93], [32, 131, 104, 46, 119, 62], [100, 187, 176, 22, 57, 27], [67, 30], [169, 10, 11, 108, 111, 62], [154], [193, 134, 55], [194, 134, 167, 43, 185], [128, 160, 110, 60, 83, 188], [1, 109, 117, 94, 29, 62], [2, 51, 54, 120, 26, 190], [128, 68, 135, 169, 145, 153, 187, 93], [106, 68], [136, 109, 145, 19, 57, 159], [33, 102, 41, 147, 186, 60], [2, 4, 103, 71, 124, 126, 127], [42, 45, 70], [167], [80, 176, 88, 56, 190], [1, 10, 172, 82, 86, 126, 159], [81, 67, 174, 7], [162, 100, 135, 151, 57, 156, 191], [96, 135], [62], [82, 12, 166, 68], [193, 195, 9, 172, 146, 115, 54, 27], [17, 139, 173, 110], [137, 42, 119, 146], [113, 155, 188, 44], [38, 102, 168, 110, 48, 147, 122, 27], [101, 135, 19, 59, 28, 126], [8, 26, 51], [10, 100, 142, 6], [10, 46], [128, 196, 170, 42, 180, 85, 84, 185, 190], [137, 117, 61], [160, 1, 32, 196, 173, 82], [130, 5, 70, 73, 137, 170, 111, 50, 114], [27, 5], [100, 133, 139, 20, 123], [97, 67, 196, 38], [129, 130, 34, 49, 88], [194, 195, 38, 171, 116, 121], [124, 27, 60, 110], [8, 58], [64, 15, 18, 149, 88, 24, 95], [37, 122, 135, 186, 127], [114, 173], [32, 130, 15, 80, 185, 92], [152, 121, 116, 158], [192, 99, 44, 87, 88, 123, 159], [160, 131, 68, 135, 80], [184, 198]]\n",
      "[[3, 5, 6, 11, 16, 30, 31, 32, 35, 41], [20, 22, 48, 49, 64, 77, 98, 99, 105, 106], [2, 4, 8, 9, 10, 15, 19, 25, 26, 27], [3, 5, 6, 11, 16, 30, 31, 32, 35, 41], [3, 5, 6, 11, 16, 30, 31, 32, 35, 41], [14, 24, 29, 45, 61, 74, 86, 93, 116, 121], [3, 5, 6, 11, 16, 30, 31, 32, 35, 41], [3, 5, 6, 11, 16, 30, 31, 32, 35, 41], [1, 2, 3, 4, 5, 6, 7, 8, 9, 10], [1, 2, 3, 4, 5, 6, 7, 8, 9, 10], [2, 4, 8, 9, 10, 15, 19, 25, 26, 27], [3, 5, 6, 11, 16, 30, 31, 32, 35, 41], [3, 5, 6, 11, 16, 30, 31, 32, 35, 41], [20, 22, 48, 49, 64, 77, 98, 99, 105, 106], [2, 4, 8, 9, 10, 15, 19, 25, 26, 27], [1, 2, 3, 4, 5, 6, 7, 8, 9, 10], [3, 5, 6, 11, 16, 30, 31, 32, 35, 41], [3, 5, 6, 11, 16, 30, 31, 32, 35, 41], [2, 4, 8, 9, 10, 15, 19, 25, 26, 27], [20, 22, 48, 49, 64, 77, 98, 99, 105, 106], [20, 22, 48, 49, 64, 77, 98, 99, 105, 106], [3, 5, 6, 11, 16, 30, 31, 32, 35, 41], [3, 5, 6, 11, 16, 30, 31, 32, 35, 41], [2, 4, 8, 9, 10, 15, 19, 25, 26, 27], [3, 5, 6, 11, 16, 30, 31, 32, 35, 41], [20, 22, 48, 49, 64, 77, 98, 99, 105, 106], [76, 83, 91, 95, 123, 133, 134, 157, 191, 198], [14, 24, 29, 45, 61, 74, 86, 93, 116, 121], [14, 24, 29, 45, 61, 74, 86, 93, 116, 121], [20, 22, 48, 49, 64, 77, 98, 99, 105, 106], [20, 22, 48, 49, 64, 77, 98, 99, 105, 106], [1, 2, 3, 4, 5, 6, 7, 8, 9, 10], [1, 2, 3, 4, 5, 6, 7, 8, 9, 10], [2, 4, 8, 9, 10, 15, 19, 25, 26, 27], [3, 5, 6, 11, 16, 30, 31, 32, 35, 41], [1, 2, 3, 4, 5, 6, 7, 8, 9, 10], [3, 5, 6, 11, 16, 30, 31, 32, 35, 41], [14, 24, 29, 45, 61, 74, 86, 93, 116, 121], [1, 2, 3, 4, 5, 6, 7, 8, 9, 10], [78, 140, 147, 80, 0, 1, 2, 3, 4, 5], [14, 24, 29, 45, 61, 74, 86, 93, 116, 121], [2, 4, 8, 9, 10, 15, 19, 25, 26, 27], [2, 4, 8, 9, 10, 15, 19, 25, 26, 27], [3, 5, 6, 11, 16, 30, 31, 32, 35, 41], [14, 24, 29, 45, 61, 74, 86, 93, 116, 121], [33, 39, 47, 53, 55, 56, 108, 110, 126, 174], [3, 5, 6, 11, 16, 30, 31, 32, 35, 41], [1, 2, 3, 4, 5, 6, 7, 8, 9, 10], [14, 24, 29, 45, 61, 74, 86, 93, 116, 121], [3, 5, 6, 11, 16, 30, 31, 32, 35, 41], [2, 4, 8, 9, 10, 15, 19, 25, 26, 27], [3, 5, 6, 11, 16, 30, 31, 32, 35, 41], [3, 5, 6, 11, 16, 30, 31, 32, 35, 41], [2, 4, 8, 9, 10, 15, 19, 25, 26, 27], [33, 39, 47, 53, 55, 56, 108, 110, 126, 174], [3, 5, 6, 11, 16, 30, 31, 32, 35, 41], [33, 39, 47, 53, 55, 56, 108, 110, 126, 174], [3, 5, 6, 11, 16, 30, 31, 32, 35, 41], [14, 24, 29, 45, 61, 74, 86, 93, 116, 121], [14, 24, 29, 45, 61, 74, 86, 93, 116, 121], [2, 4, 8, 9, 10, 15, 19, 25, 26, 27], [3, 5, 6, 11, 16, 30, 31, 32, 35, 41], [3, 5, 6, 11, 16, 30, 31, 32, 35, 41], [2, 4, 8, 9, 10, 15, 19, 25, 26, 27], [3, 5, 6, 11, 16, 30, 31, 32, 35, 41], [20, 22, 48, 49, 64, 77, 98, 99, 105, 106], [14, 24, 29, 45, 61, 74, 86, 93, 116, 121], [3, 5, 6, 11, 16, 30, 31, 32, 35, 41], [20, 22, 48, 49, 64, 77, 98, 99, 105, 106], [76, 83, 91, 95, 123, 133, 134, 157, 191, 198], [1, 2, 3, 4, 5, 6, 7, 8, 9, 10], [3, 5, 6, 11, 16, 30, 31, 32, 35, 41], [2, 4, 8, 9, 10, 15, 19, 25, 26, 27], [2, 4, 8, 9, 10, 15, 19, 25, 26, 27], [33, 39, 47, 53, 55, 56, 108, 110, 126, 174], [20, 22, 48, 49, 64, 77, 98, 99, 105, 106], [3, 5, 6, 11, 16, 30, 31, 32, 35, 41], [2, 4, 8, 9, 10, 15, 19, 25, 26, 27], [33, 39, 47, 53, 55, 56, 108, 110, 126, 174], [3, 5, 6, 11, 16, 30, 31, 32, 35, 41], [3, 5, 6, 11, 16, 30, 31, 32, 35, 41], [3, 5, 6, 11, 16, 30, 31, 32, 35, 41], [14, 24, 29, 45, 61, 74, 86, 93, 116, 121], [14, 24, 29, 45, 61, 74, 86, 93, 116, 121], [78, 140, 147, 80, 0, 1, 2, 3, 4, 5], [2, 4, 8, 9, 10, 15, 19, 25, 26, 27], [3, 5, 6, 11, 16, 30, 31, 32, 35, 41], [76, 83, 91, 95, 123, 133, 134, 157, 191, 198], [2, 4, 8, 9, 10, 15, 19, 25, 26, 27], [2, 4, 8, 9, 10, 15, 19, 25, 26, 27], [14, 24, 29, 45, 61, 74, 86, 93, 116, 121], [33, 39, 47, 53, 55, 56, 108, 110, 126, 174], [2, 4, 8, 9, 10, 15, 19, 25, 26, 27], [76, 83, 91, 95, 123, 133, 134, 157, 191, 198], [2, 4, 8, 9, 10, 15, 19, 25, 26, 27], [14, 24, 29, 45, 61, 74, 86, 93, 116, 121], [3, 5, 6, 11, 16, 30, 31, 32, 35, 41], [1, 2, 3, 4, 5, 6, 7, 8, 9, 10], [3, 5, 6, 11, 16, 30, 31, 32, 35, 41], [23, 78, 147, 18, 33, 39, 47, 53, 55, 56], [76, 83, 91, 95, 123, 133, 134, 157, 191, 198]]\n"
     ]
    }
   ],
   "source": [
    "actual=test['actual'].values.tolist()\n",
    "content_predictions=test['content_predictions'].values.tolist()\n",
    "print(actual)\n",
    "print(content_predictions)"
   ]
  },
  {
   "cell_type": "code",
   "execution_count": 42,
   "metadata": {},
   "outputs": [
    {
     "data": {
      "text/plain": [
       "[0.00974025974025974,\n",
       " 0.017507822210792508,\n",
       " 0.022128284256997127,\n",
       " 0.023616379495092366,\n",
       " 0.02638865672281514,\n",
       " 0.030252793136456502,\n",
       " 0.032482199750587304,\n",
       " 0.03499870140075232,\n",
       " 0.037521096497404836,\n",
       " 0.03943646660584426]"
      ]
     },
     "execution_count": 42,
     "metadata": {},
     "output_type": "execute_result"
    }
   ],
   "source": [
    "# calculate the mark score\n",
    "content_mark = []\n",
    "for K in np.arange(1, 11):\n",
    "    content_mark.extend([recmetrics.mark(actual, content_predictions, k=K)])\n",
    "content_mark"
   ]
  },
  {
   "cell_type": "code",
   "execution_count": 51,
   "metadata": {},
   "outputs": [],
   "source": [
    "als_mark=[0.003611111111111111,0.007617063492063492,0.009191137566137566,0.009918410293410293,0.010251743626743626,\\\n",
    " 0.010251743626743626,0.010966029341029339,0.01159102934129341,0.013053992303992304,0.01472065897065897]\n",
    "svd_mark=[0.263954115469267,0.48750419053449356,0.6807512352966898,0.8201262261868322,0.8938446514204089,\\\n",
    " 0.9413004503913596,0.9668707274767881,0.9852259973472095,0.9934802571166208,0.9972451790633609]\n",
    "knn_mark=[0.003630363036303631,0.006600660066006602,0.0076796141152576805,0.009435861168534435,0.010181650033135183,\\\n",
    " 0.010456677535885459,0.011918252264786919,0.012949605400100449,0.013407984571350907,0.014020903006051523]\n",
    "hybrid_mark=[0.006228956228956229,0.00707070707070707,0.011311527978194645,0.014371893538560205,\\\n",
    "             0.01787918871252205,0.019588076532520975,0.02291041556914573,0.02291041556914573,0.02291041556914573,\\\n",
    "             0.02291041556914573]"
   ]
  },
  {
   "cell_type": "code",
   "execution_count": 52,
   "metadata": {},
   "outputs": [
    {
     "data": {
      "image/png": "[encoded data removed]",
      "text/plain": [
       "<Figure size 1080x504 with 1 Axes>"
      ]
     },
     "metadata": {
      "needs_background": "light"
     },
     "output_type": "display_data"
    }
   ],
   "source": [
    "# generate a mark plot\n",
    "mark_scores = [content_mark,als_mark,svd_mark,knn_mark,hybrid_mark]\n",
    "index = range(1,10+1)\n",
    "names = ['Content','Collaborative-ALS','Collaborative-SVD','Collaborative-KNN','Hybrid']\n",
    "\n",
    "fig = plt.figure(figsize=(15, 7))\n",
    "recmetrics.mark_plot(mark_scores, model_names=names, k_range=index)"
   ]
  },
  {
   "cell_type": "code",
   "execution_count": 32,
   "metadata": {},
   "outputs": [],
   "source": [
    "import ml_metrics as metrics"
   ]
  },
  {
   "cell_type": "code",
   "execution_count": 33,
   "metadata": {},
   "outputs": [
    {
     "data": {
      "text/plain": [
       "[0.039603960396039604,\n",
       " 0.034653465346534656,\n",
       " 0.03162816281628163,\n",
       " 0.028877887788778877,\n",
       " 0.029092409240924093,\n",
       " 0.031705170517051705,\n",
       " 0.03307020497968164,\n",
       " 0.035336235154127656,\n",
       " 0.037721116499405044,\n",
       " 0.03952647560674435]"
      ]
     },
     "execution_count": 33,
     "metadata": {},
     "output_type": "execute_result"
    }
   ],
   "source": [
    "# for MAPK scpre\n",
    "content_mapk = []\n",
    "for K in np.arange(1, 11):\n",
    "    content_mapk.extend([metrics.mapk(actual, content_predictions, k=K)])\n",
    "content_mapk"
   ]
  },
  {
   "cell_type": "code",
   "execution_count": 46,
   "metadata": {},
   "outputs": [],
   "source": [
    "als_mapk=[0.03,0.025,0.02111111111111111,0.0175,0.014733333333333331,0.012805555555555554,0.012326530612244898,\\\n",
    " 0.011998511904761906,0.013143077601410934,0.014743386243386242]\n",
    "svd_mapk=[1.0, 1.0, 1.0, 1.0, 1.0, 1.0, 1.0, 1.0, 1.0, 1.0]\n",
    "knn_mapk=[0.019801980198019802,0.017326732673267328,0.01375137513751375,0.012788778877887787,\\\n",
    "       0.011584158415841586,0.011056105610561057,0.012238723872387239,0.013175781863900676,\\\n",
    "       0.013560820367751062,0.014115066268531618]"
   ]
  },
  {
   "cell_type": "code",
   "execution_count": 47,
   "metadata": {},
   "outputs": [
    {
     "data": {
      "image/png": "[encoded data removed]",
      "text/plain": [
       "<Figure size 1080x504 with 1 Axes>"
      ]
     },
     "metadata": {
      "needs_background": "light"
     },
     "output_type": "display_data"
    }
   ],
   "source": [
    "# generate a mapk plot\n",
    "mapk_scores = [content_mapk,als_mapk,svd_mapk,knn_mapk]\n",
    "index = range(1,10+1)\n",
    "names = ['Content','Collaborative-ALS','Collaborative-SVD','Collaborative-KNN']\n",
    "\n",
    "fig = plt.figure(figsize=(15, 7))\n",
    "recmetrics.mapk_plot(mapk_scores, model_names=names, k_range=index)"
   ]
  },
  {
   "cell_type": "code",
   "execution_count": 35,
   "metadata": {},
   "outputs": [],
   "source": [
    "# prediction coverage\n",
    "catalog = ratings.destination_id.unique().tolist()\n",
    "content_coverage = recmetrics.prediction_coverage(content_predictions, catalog)"
   ]
  },
  {
   "cell_type": "code",
   "execution_count": 53,
   "metadata": {},
   "outputs": [],
   "source": [
    "als_coverage=5.0\n",
    "svd_coverage=90.5\n",
    "knn_coverage=52.0\n",
    "content_coverage=34.5\n",
    "hybrid_coverage=26.5"
   ]
  },
  {
   "cell_type": "code",
   "execution_count": 55,
   "metadata": {},
   "outputs": [
    {
     "data": {
      "image/png": "[encoded data removed]",
      "text/plain": [
       "<Figure size 720x360 with 1 Axes>"
      ]
     },
     "metadata": {
      "needs_background": "light"
     },
     "output_type": "display_data"
    }
   ],
   "source": [
    "# plot of prediction coverage\n",
    "coverage_scores = [content_coverage,als_coverage,svd_coverage,knn_coverage,hybrid_coverage]\n",
    "model_names = ['Content','Collaborative-ALS','Collaborative-SVD','Collaborative-KNN','Hybrid']\n",
    "\n",
    "fig = plt.figure(figsize=(10, 5))\n",
    "recmetrics.coverage_plot(coverage_scores, model_names)"
   ]
  },
  {
   "cell_type": "code",
   "execution_count": 37,
   "metadata": {},
   "outputs": [
    {
     "data": {
      "text/html": [
       "<div>\n",
       "<style scoped>\n",
       "    .dataframe tbody tr th:only-of-type {\n",
       "        vertical-align: middle;\n",
       "    }\n",
       "\n",
       "    .dataframe tbody tr th {\n",
       "        vertical-align: top;\n",
       "    }\n",
       "\n",
       "    .dataframe thead th {\n",
       "        text-align: right;\n",
       "    }\n",
       "</style>\n",
       "<table border=\"1\" class=\"dataframe\">\n",
       "  <thead>\n",
       "    <tr style=\"text-align: right;\">\n",
       "      <th></th>\n",
       "      <th>history</th>\n",
       "      <th>art_and_architecture</th>\n",
       "      <th>nature</th>\n",
       "      <th>adventure</th>\n",
       "      <th>entertainment</th>\n",
       "      <th>health_and_lifestyle</th>\n",
       "      <th>food</th>\n",
       "      <th>industries</th>\n",
       "      <th>religious</th>\n",
       "    </tr>\n",
       "    <tr>\n",
       "      <th>destination_id</th>\n",
       "      <th></th>\n",
       "      <th></th>\n",
       "      <th></th>\n",
       "      <th></th>\n",
       "      <th></th>\n",
       "      <th></th>\n",
       "      <th></th>\n",
       "      <th></th>\n",
       "      <th></th>\n",
       "    </tr>\n",
       "  </thead>\n",
       "  <tbody>\n",
       "    <tr>\n",
       "      <th>0</th>\n",
       "      <td>1</td>\n",
       "      <td>1</td>\n",
       "      <td>0</td>\n",
       "      <td>0</td>\n",
       "      <td>0</td>\n",
       "      <td>0</td>\n",
       "      <td>0</td>\n",
       "      <td>0</td>\n",
       "      <td>1</td>\n",
       "    </tr>\n",
       "    <tr>\n",
       "      <th>1</th>\n",
       "      <td>0</td>\n",
       "      <td>0</td>\n",
       "      <td>1</td>\n",
       "      <td>0</td>\n",
       "      <td>0</td>\n",
       "      <td>0</td>\n",
       "      <td>0</td>\n",
       "      <td>0</td>\n",
       "      <td>0</td>\n",
       "    </tr>\n",
       "    <tr>\n",
       "      <th>2</th>\n",
       "      <td>0</td>\n",
       "      <td>0</td>\n",
       "      <td>1</td>\n",
       "      <td>0</td>\n",
       "      <td>0</td>\n",
       "      <td>0</td>\n",
       "      <td>0</td>\n",
       "      <td>0</td>\n",
       "      <td>0</td>\n",
       "    </tr>\n",
       "    <tr>\n",
       "      <th>3</th>\n",
       "      <td>1</td>\n",
       "      <td>1</td>\n",
       "      <td>0</td>\n",
       "      <td>0</td>\n",
       "      <td>0</td>\n",
       "      <td>0</td>\n",
       "      <td>0</td>\n",
       "      <td>0</td>\n",
       "      <td>1</td>\n",
       "    </tr>\n",
       "    <tr>\n",
       "      <th>4</th>\n",
       "      <td>0</td>\n",
       "      <td>0</td>\n",
       "      <td>1</td>\n",
       "      <td>0</td>\n",
       "      <td>0</td>\n",
       "      <td>0</td>\n",
       "      <td>0</td>\n",
       "      <td>0</td>\n",
       "      <td>0</td>\n",
       "    </tr>\n",
       "    <tr>\n",
       "      <th>...</th>\n",
       "      <td>...</td>\n",
       "      <td>...</td>\n",
       "      <td>...</td>\n",
       "      <td>...</td>\n",
       "      <td>...</td>\n",
       "      <td>...</td>\n",
       "      <td>...</td>\n",
       "      <td>...</td>\n",
       "      <td>...</td>\n",
       "    </tr>\n",
       "    <tr>\n",
       "      <th>195</th>\n",
       "      <td>1</td>\n",
       "      <td>1</td>\n",
       "      <td>1</td>\n",
       "      <td>0</td>\n",
       "      <td>0</td>\n",
       "      <td>0</td>\n",
       "      <td>0</td>\n",
       "      <td>0</td>\n",
       "      <td>0</td>\n",
       "    </tr>\n",
       "    <tr>\n",
       "      <th>196</th>\n",
       "      <td>1</td>\n",
       "      <td>1</td>\n",
       "      <td>1</td>\n",
       "      <td>0</td>\n",
       "      <td>0</td>\n",
       "      <td>0</td>\n",
       "      <td>0</td>\n",
       "      <td>0</td>\n",
       "      <td>0</td>\n",
       "    </tr>\n",
       "    <tr>\n",
       "      <th>197</th>\n",
       "      <td>1</td>\n",
       "      <td>1</td>\n",
       "      <td>0</td>\n",
       "      <td>0</td>\n",
       "      <td>0</td>\n",
       "      <td>0</td>\n",
       "      <td>0</td>\n",
       "      <td>0</td>\n",
       "      <td>1</td>\n",
       "    </tr>\n",
       "    <tr>\n",
       "      <th>198</th>\n",
       "      <td>0</td>\n",
       "      <td>0</td>\n",
       "      <td>0</td>\n",
       "      <td>0</td>\n",
       "      <td>1</td>\n",
       "      <td>0</td>\n",
       "      <td>0</td>\n",
       "      <td>0</td>\n",
       "      <td>0</td>\n",
       "    </tr>\n",
       "    <tr>\n",
       "      <th>199</th>\n",
       "      <td>1</td>\n",
       "      <td>1</td>\n",
       "      <td>1</td>\n",
       "      <td>0</td>\n",
       "      <td>0</td>\n",
       "      <td>0</td>\n",
       "      <td>0</td>\n",
       "      <td>0</td>\n",
       "      <td>0</td>\n",
       "    </tr>\n",
       "  </tbody>\n",
       "</table>\n",
       "<p>200 rows × 9 columns</p>\n",
       "</div>"
      ],
      "text/plain": [
       "                history  art_and_architecture  nature  adventure  \\\n",
       "destination_id                                                     \n",
       "0                     1                     1       0          0   \n",
       "1                     0                     0       1          0   \n",
       "2                     0                     0       1          0   \n",
       "3                     1                     1       0          0   \n",
       "4                     0                     0       1          0   \n",
       "...                 ...                   ...     ...        ...   \n",
       "195                   1                     1       1          0   \n",
       "196                   1                     1       1          0   \n",
       "197                   1                     1       0          0   \n",
       "198                   0                     0       0          0   \n",
       "199                   1                     1       1          0   \n",
       "\n",
       "                entertainment  health_and_lifestyle  food  industries  \\\n",
       "destination_id                                                          \n",
       "0                           0                     0     0           0   \n",
       "1                           0                     0     0           0   \n",
       "2                           0                     0     0           0   \n",
       "3                           0                     0     0           0   \n",
       "4                           0                     0     0           0   \n",
       "...                       ...                   ...   ...         ...   \n",
       "195                         0                     0     0           0   \n",
       "196                         0                     0     0           0   \n",
       "197                         0                     0     0           0   \n",
       "198                         1                     0     0           0   \n",
       "199                         0                     0     0           0   \n",
       "\n",
       "                religious  \n",
       "destination_id             \n",
       "0                       1  \n",
       "1                       0  \n",
       "2                       0  \n",
       "3                       1  \n",
       "4                       0  \n",
       "...                   ...  \n",
       "195                     0  \n",
       "196                     0  \n",
       "197                     1  \n",
       "198                     0  \n",
       "199                     0  \n",
       "\n",
       "[200 rows x 9 columns]"
      ]
     },
     "execution_count": 37,
     "metadata": {},
     "output_type": "execute_result"
    }
   ],
   "source": [
    "feature_df=destination_features[['history','art_and_architecture','nature','adventure', 'entertainment','health_and_lifestyle',\\\n",
    "                        'food','industries','religious']]\n",
    "feature_df\n"
   ]
  },
  {
   "cell_type": "code",
   "execution_count": 38,
   "metadata": {},
   "outputs": [
    {
     "data": {
      "text/plain": [
       "0.9325454765114257"
      ]
     },
     "execution_count": 38,
     "metadata": {},
     "output_type": "execute_result"
    }
   ],
   "source": [
    "recmetrics.intra_list_similarity(content_predictions, feature_df)"
   ]
  },
  {
   "cell_type": "code",
   "execution_count": null,
   "metadata": {},
   "outputs": [],
   "source": []
  }
 ],
 "metadata": {
  "kernelspec": {
   "display_name": "Python 3 (ipykernel)",
   "language": "python",
   "name": "python3"
  },
  "language_info": {
   "codemirror_mode": {
    "name": "ipython",
    "version": 3
   },
   "file_extension": ".py",
   "mimetype": "text/x-python",
   "name": "python",
   "nbconvert_exporter": "python",
   "pygments_lexer": "ipython3",
   "version": "3.9.7"
  }
 },
 "nbformat": 4,
 "nbformat_minor": 2
}
