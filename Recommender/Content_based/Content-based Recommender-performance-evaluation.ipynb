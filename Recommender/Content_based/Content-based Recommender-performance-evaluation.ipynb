{
 "cells": [
  {
   "cell_type": "markdown",
   "metadata": {},
   "source": [
    "# Destinations Recommender based on Content-Based Filtering\n",
    "\n",
    "Collaborative filtering relies solely on user-item interactions within the utility matrix. The issue with this approach is that brand new users or items with no interactions get excluded from the recommendation system. This is called the \"cold start\" problem. Content-based filtering is a way to handle this problem by generating recommendations based on user and item features."
   ]
  },
  {
   "cell_type": "markdown",
   "metadata": {},
   "source": [
    "### Step 1: Import Dependencies"
   ]
  },
  {
   "cell_type": "code",
   "execution_count": 91,
   "metadata": {},
   "outputs": [],
   "source": [
    "import numpy as np\n",
    "import pandas as pd\n",
    "import sklearn\n",
    "import matplotlib.pyplot as plt"
   ]
  },
  {
   "cell_type": "markdown",
   "metadata": {},
   "source": [
    "### Step 2: Load the Data"
   ]
  },
  {
   "cell_type": "code",
   "execution_count": 92,
   "metadata": {},
   "outputs": [
    {
     "data": {
      "text/html": [
       "<div>\n",
       "<style scoped>\n",
       "    .dataframe tbody tr th:only-of-type {\n",
       "        vertical-align: middle;\n",
       "    }\n",
       "\n",
       "    .dataframe tbody tr th {\n",
       "        vertical-align: top;\n",
       "    }\n",
       "\n",
       "    .dataframe thead th {\n",
       "        text-align: right;\n",
       "    }\n",
       "</style>\n",
       "<table border=\"1\" class=\"dataframe\">\n",
       "  <thead>\n",
       "    <tr style=\"text-align: right;\">\n",
       "      <th></th>\n",
       "      <th>destination_id</th>\n",
       "      <th>title</th>\n",
       "      <th>genre</th>\n",
       "      <th>history</th>\n",
       "      <th>art_and_architecture</th>\n",
       "      <th>nature</th>\n",
       "      <th>adventure</th>\n",
       "      <th>entertainment</th>\n",
       "      <th>health_and_lifestyle</th>\n",
       "      <th>food</th>\n",
       "      <th>industries</th>\n",
       "      <th>religious</th>\n",
       "    </tr>\n",
       "  </thead>\n",
       "  <tbody>\n",
       "    <tr>\n",
       "      <th>0</th>\n",
       "      <td>0</td>\n",
       "      <td>Boudhanath Stupa</td>\n",
       "      <td>['Religious Sites']</td>\n",
       "      <td>True</td>\n",
       "      <td>True</td>\n",
       "      <td>False</td>\n",
       "      <td>False</td>\n",
       "      <td>False</td>\n",
       "      <td>False</td>\n",
       "      <td>False</td>\n",
       "      <td>False</td>\n",
       "      <td>True</td>\n",
       "    </tr>\n",
       "    <tr>\n",
       "      <th>1</th>\n",
       "      <td>1</td>\n",
       "      <td>Phewa Tal (Fewa Lake)</td>\n",
       "      <td>['Bodies of Water']</td>\n",
       "      <td>False</td>\n",
       "      <td>False</td>\n",
       "      <td>True</td>\n",
       "      <td>False</td>\n",
       "      <td>False</td>\n",
       "      <td>False</td>\n",
       "      <td>False</td>\n",
       "      <td>False</td>\n",
       "      <td>False</td>\n",
       "    </tr>\n",
       "    <tr>\n",
       "      <th>2</th>\n",
       "      <td>2</td>\n",
       "      <td>Sarangkot</td>\n",
       "      <td>['Mountains']</td>\n",
       "      <td>False</td>\n",
       "      <td>False</td>\n",
       "      <td>True</td>\n",
       "      <td>False</td>\n",
       "      <td>False</td>\n",
       "      <td>False</td>\n",
       "      <td>False</td>\n",
       "      <td>False</td>\n",
       "      <td>False</td>\n",
       "    </tr>\n",
       "    <tr>\n",
       "      <th>3</th>\n",
       "      <td>3</td>\n",
       "      <td>Swayambhunath Temple</td>\n",
       "      <td>['Religious Sites']</td>\n",
       "      <td>True</td>\n",
       "      <td>True</td>\n",
       "      <td>False</td>\n",
       "      <td>False</td>\n",
       "      <td>False</td>\n",
       "      <td>False</td>\n",
       "      <td>False</td>\n",
       "      <td>False</td>\n",
       "      <td>True</td>\n",
       "    </tr>\n",
       "    <tr>\n",
       "      <th>4</th>\n",
       "      <td>4</td>\n",
       "      <td>Poon Hill</td>\n",
       "      <td>['Mountains']</td>\n",
       "      <td>False</td>\n",
       "      <td>False</td>\n",
       "      <td>True</td>\n",
       "      <td>False</td>\n",
       "      <td>False</td>\n",
       "      <td>False</td>\n",
       "      <td>False</td>\n",
       "      <td>False</td>\n",
       "      <td>False</td>\n",
       "    </tr>\n",
       "  </tbody>\n",
       "</table>\n",
       "</div>"
      ],
      "text/plain": [
       "   destination_id                  title                genre  history  \\\n",
       "0               0       Boudhanath Stupa  ['Religious Sites']     True   \n",
       "1               1  Phewa Tal (Fewa Lake)  ['Bodies of Water']    False   \n",
       "2               2              Sarangkot        ['Mountains']    False   \n",
       "3               3   Swayambhunath Temple  ['Religious Sites']     True   \n",
       "4               4              Poon Hill        ['Mountains']    False   \n",
       "\n",
       "   art_and_architecture  nature  adventure  entertainment  \\\n",
       "0                  True   False      False          False   \n",
       "1                 False    True      False          False   \n",
       "2                 False    True      False          False   \n",
       "3                  True   False      False          False   \n",
       "4                 False    True      False          False   \n",
       "\n",
       "   health_and_lifestyle   food  industries  religious  \n",
       "0                 False  False       False       True  \n",
       "1                 False  False       False      False  \n",
       "2                 False  False       False      False  \n",
       "3                 False  False       False       True  \n",
       "4                 False  False       False      False  "
      ]
     },
     "execution_count": 92,
     "metadata": {},
     "output_type": "execute_result"
    }
   ],
   "source": [
    "destinations = pd.read_csv(\"sample_destinations.csv\")\n",
    "destinations.head()"
   ]
  },
  {
   "cell_type": "markdown",
   "metadata": {},
   "source": [
    "### Step 3: Data Cleaning and Exploration\n"
   ]
  },
  {
   "cell_type": "code",
   "execution_count": 93,
   "metadata": {},
   "outputs": [],
   "source": [
    "#convert True/False categories to 1/0\n",
    "converted=destinations.iloc[:,3:12].astype(int)"
   ]
  },
  {
   "cell_type": "code",
   "execution_count": 94,
   "metadata": {},
   "outputs": [],
   "source": [
    "# drop columns in dataframe \n",
    "destinations.drop(destinations.columns[2:12],axis=1,inplace=True)"
   ]
  },
  {
   "cell_type": "code",
   "execution_count": 95,
   "metadata": {},
   "outputs": [
    {
     "data": {
      "text/html": [
       "<div>\n",
       "<style scoped>\n",
       "    .dataframe tbody tr th:only-of-type {\n",
       "        vertical-align: middle;\n",
       "    }\n",
       "\n",
       "    .dataframe tbody tr th {\n",
       "        vertical-align: top;\n",
       "    }\n",
       "\n",
       "    .dataframe thead th {\n",
       "        text-align: right;\n",
       "    }\n",
       "</style>\n",
       "<table border=\"1\" class=\"dataframe\">\n",
       "  <thead>\n",
       "    <tr style=\"text-align: right;\">\n",
       "      <th></th>\n",
       "      <th>destination_id</th>\n",
       "      <th>title</th>\n",
       "    </tr>\n",
       "  </thead>\n",
       "  <tbody>\n",
       "    <tr>\n",
       "      <th>0</th>\n",
       "      <td>0</td>\n",
       "      <td>Boudhanath Stupa</td>\n",
       "    </tr>\n",
       "    <tr>\n",
       "      <th>1</th>\n",
       "      <td>1</td>\n",
       "      <td>Phewa Tal (Fewa Lake)</td>\n",
       "    </tr>\n",
       "    <tr>\n",
       "      <th>2</th>\n",
       "      <td>2</td>\n",
       "      <td>Sarangkot</td>\n",
       "    </tr>\n",
       "    <tr>\n",
       "      <th>3</th>\n",
       "      <td>3</td>\n",
       "      <td>Swayambhunath Temple</td>\n",
       "    </tr>\n",
       "    <tr>\n",
       "      <th>4</th>\n",
       "      <td>4</td>\n",
       "      <td>Poon Hill</td>\n",
       "    </tr>\n",
       "  </tbody>\n",
       "</table>\n",
       "</div>"
      ],
      "text/plain": [
       "   destination_id                  title\n",
       "0               0       Boudhanath Stupa\n",
       "1               1  Phewa Tal (Fewa Lake)\n",
       "2               2              Sarangkot\n",
       "3               3   Swayambhunath Temple\n",
       "4               4              Poon Hill"
      ]
     },
     "execution_count": 95,
     "metadata": {},
     "output_type": "execute_result"
    }
   ],
   "source": [
    "destinations.head()"
   ]
  },
  {
   "cell_type": "code",
   "execution_count": 96,
   "metadata": {},
   "outputs": [
    {
     "data": {
      "text/html": [
       "<div>\n",
       "<style scoped>\n",
       "    .dataframe tbody tr th:only-of-type {\n",
       "        vertical-align: middle;\n",
       "    }\n",
       "\n",
       "    .dataframe tbody tr th {\n",
       "        vertical-align: top;\n",
       "    }\n",
       "\n",
       "    .dataframe thead th {\n",
       "        text-align: right;\n",
       "    }\n",
       "</style>\n",
       "<table border=\"1\" class=\"dataframe\">\n",
       "  <thead>\n",
       "    <tr style=\"text-align: right;\">\n",
       "      <th></th>\n",
       "      <th>destination_id</th>\n",
       "      <th>title</th>\n",
       "      <th>history</th>\n",
       "      <th>art_and_architecture</th>\n",
       "      <th>nature</th>\n",
       "      <th>adventure</th>\n",
       "      <th>entertainment</th>\n",
       "      <th>health_and_lifestyle</th>\n",
       "      <th>food</th>\n",
       "      <th>industries</th>\n",
       "      <th>religious</th>\n",
       "    </tr>\n",
       "  </thead>\n",
       "  <tbody>\n",
       "    <tr>\n",
       "      <th>0</th>\n",
       "      <td>0</td>\n",
       "      <td>Boudhanath Stupa</td>\n",
       "      <td>1</td>\n",
       "      <td>1</td>\n",
       "      <td>0</td>\n",
       "      <td>0</td>\n",
       "      <td>0</td>\n",
       "      <td>0</td>\n",
       "      <td>0</td>\n",
       "      <td>0</td>\n",
       "      <td>1</td>\n",
       "    </tr>\n",
       "    <tr>\n",
       "      <th>1</th>\n",
       "      <td>1</td>\n",
       "      <td>Phewa Tal (Fewa Lake)</td>\n",
       "      <td>0</td>\n",
       "      <td>0</td>\n",
       "      <td>1</td>\n",
       "      <td>0</td>\n",
       "      <td>0</td>\n",
       "      <td>0</td>\n",
       "      <td>0</td>\n",
       "      <td>0</td>\n",
       "      <td>0</td>\n",
       "    </tr>\n",
       "    <tr>\n",
       "      <th>2</th>\n",
       "      <td>2</td>\n",
       "      <td>Sarangkot</td>\n",
       "      <td>0</td>\n",
       "      <td>0</td>\n",
       "      <td>1</td>\n",
       "      <td>0</td>\n",
       "      <td>0</td>\n",
       "      <td>0</td>\n",
       "      <td>0</td>\n",
       "      <td>0</td>\n",
       "      <td>0</td>\n",
       "    </tr>\n",
       "    <tr>\n",
       "      <th>3</th>\n",
       "      <td>3</td>\n",
       "      <td>Swayambhunath Temple</td>\n",
       "      <td>1</td>\n",
       "      <td>1</td>\n",
       "      <td>0</td>\n",
       "      <td>0</td>\n",
       "      <td>0</td>\n",
       "      <td>0</td>\n",
       "      <td>0</td>\n",
       "      <td>0</td>\n",
       "      <td>1</td>\n",
       "    </tr>\n",
       "    <tr>\n",
       "      <th>4</th>\n",
       "      <td>4</td>\n",
       "      <td>Poon Hill</td>\n",
       "      <td>0</td>\n",
       "      <td>0</td>\n",
       "      <td>1</td>\n",
       "      <td>0</td>\n",
       "      <td>0</td>\n",
       "      <td>0</td>\n",
       "      <td>0</td>\n",
       "      <td>0</td>\n",
       "      <td>0</td>\n",
       "    </tr>\n",
       "    <tr>\n",
       "      <th>...</th>\n",
       "      <td>...</td>\n",
       "      <td>...</td>\n",
       "      <td>...</td>\n",
       "      <td>...</td>\n",
       "      <td>...</td>\n",
       "      <td>...</td>\n",
       "      <td>...</td>\n",
       "      <td>...</td>\n",
       "      <td>...</td>\n",
       "      <td>...</td>\n",
       "      <td>...</td>\n",
       "    </tr>\n",
       "    <tr>\n",
       "      <th>195</th>\n",
       "      <td>195</td>\n",
       "      <td>Aarya Ghat</td>\n",
       "      <td>1</td>\n",
       "      <td>1</td>\n",
       "      <td>1</td>\n",
       "      <td>0</td>\n",
       "      <td>0</td>\n",
       "      <td>0</td>\n",
       "      <td>0</td>\n",
       "      <td>0</td>\n",
       "      <td>0</td>\n",
       "    </tr>\n",
       "    <tr>\n",
       "      <th>196</th>\n",
       "      <td>196</td>\n",
       "      <td>Eternal Peace Flame</td>\n",
       "      <td>1</td>\n",
       "      <td>1</td>\n",
       "      <td>1</td>\n",
       "      <td>0</td>\n",
       "      <td>0</td>\n",
       "      <td>0</td>\n",
       "      <td>0</td>\n",
       "      <td>0</td>\n",
       "      <td>0</td>\n",
       "    </tr>\n",
       "    <tr>\n",
       "      <th>197</th>\n",
       "      <td>197</td>\n",
       "      <td>Tengboche Gompa</td>\n",
       "      <td>1</td>\n",
       "      <td>1</td>\n",
       "      <td>0</td>\n",
       "      <td>0</td>\n",
       "      <td>0</td>\n",
       "      <td>0</td>\n",
       "      <td>0</td>\n",
       "      <td>0</td>\n",
       "      <td>1</td>\n",
       "    </tr>\n",
       "    <tr>\n",
       "      <th>198</th>\n",
       "      <td>198</td>\n",
       "      <td>Bhat-Bhateni Supermarket and Departmental Store</td>\n",
       "      <td>0</td>\n",
       "      <td>0</td>\n",
       "      <td>0</td>\n",
       "      <td>0</td>\n",
       "      <td>1</td>\n",
       "      <td>0</td>\n",
       "      <td>0</td>\n",
       "      <td>0</td>\n",
       "      <td>0</td>\n",
       "    </tr>\n",
       "    <tr>\n",
       "      <th>199</th>\n",
       "      <td>199</td>\n",
       "      <td>Basantpur Dabali</td>\n",
       "      <td>1</td>\n",
       "      <td>1</td>\n",
       "      <td>1</td>\n",
       "      <td>0</td>\n",
       "      <td>0</td>\n",
       "      <td>0</td>\n",
       "      <td>0</td>\n",
       "      <td>0</td>\n",
       "      <td>0</td>\n",
       "    </tr>\n",
       "  </tbody>\n",
       "</table>\n",
       "<p>200 rows × 11 columns</p>\n",
       "</div>"
      ],
      "text/plain": [
       "     destination_id                                            title  history  \\\n",
       "0                 0                                 Boudhanath Stupa        1   \n",
       "1                 1                            Phewa Tal (Fewa Lake)        0   \n",
       "2                 2                                        Sarangkot        0   \n",
       "3                 3                             Swayambhunath Temple        1   \n",
       "4                 4                                        Poon Hill        0   \n",
       "..              ...                                              ...      ...   \n",
       "195             195                                       Aarya Ghat        1   \n",
       "196             196                              Eternal Peace Flame        1   \n",
       "197             197                                  Tengboche Gompa        1   \n",
       "198             198  Bhat-Bhateni Supermarket and Departmental Store        0   \n",
       "199             199                                 Basantpur Dabali        1   \n",
       "\n",
       "     art_and_architecture  nature  adventure  entertainment  \\\n",
       "0                       1       0          0              0   \n",
       "1                       0       1          0              0   \n",
       "2                       0       1          0              0   \n",
       "3                       1       0          0              0   \n",
       "4                       0       1          0              0   \n",
       "..                    ...     ...        ...            ...   \n",
       "195                     1       1          0              0   \n",
       "196                     1       1          0              0   \n",
       "197                     1       0          0              0   \n",
       "198                     0       0          0              1   \n",
       "199                     1       1          0              0   \n",
       "\n",
       "     health_and_lifestyle  food  industries  religious  \n",
       "0                       0     0           0          1  \n",
       "1                       0     0           0          0  \n",
       "2                       0     0           0          0  \n",
       "3                       0     0           0          1  \n",
       "4                       0     0           0          0  \n",
       "..                    ...   ...         ...        ...  \n",
       "195                     0     0           0          0  \n",
       "196                     0     0           0          0  \n",
       "197                     0     0           0          1  \n",
       "198                     0     0           0          0  \n",
       "199                     0     0           0          0  \n",
       "\n",
       "[200 rows x 11 columns]"
      ]
     },
     "execution_count": 96,
     "metadata": {},
     "output_type": "execute_result"
    }
   ],
   "source": [
    "#concat the converted and original dataframe \n",
    "new_df=pd.concat([destinations,converted],axis=1)\n",
    "new_df"
   ]
  },
  {
   "cell_type": "markdown",
   "metadata": {},
   "source": [
    "#### How many tourism genres are there?"
   ]
  },
  {
   "cell_type": "code",
   "execution_count": 97,
   "metadata": {},
   "outputs": [
    {
     "data": {
      "text/plain": [
       "history                 108\n",
       "art_and_architecture    109\n",
       "nature                   90\n",
       "adventure                16\n",
       "entertainment            13\n",
       "health_and_lifestyle      4\n",
       "food                      0\n",
       "industries                2\n",
       "religious                58\n",
       "dtype: int64"
      ]
     },
     "execution_count": 97,
     "metadata": {},
     "output_type": "execute_result"
    }
   ],
   "source": [
    "new_df.iloc[:,2:12].sum()"
   ]
  },
  {
   "cell_type": "markdown",
   "metadata": {},
   "source": [
    "From the above results, we saw that art_and_architecture and history are the most popular tourism genres out of 200 destinations in Nepal. And, food is the least popular genre. "
   ]
  },
  {
   "cell_type": "markdown",
   "metadata": {},
   "source": [
    "#### Make a 'destinations_feature' dataframe "
   ]
  },
  {
   "cell_type": "code",
   "execution_count": 98,
   "metadata": {},
   "outputs": [],
   "source": [
    "#set 'destination_id' as index\n",
    "new_df.set_index('destination_id',inplace=True)"
   ]
  },
  {
   "cell_type": "code",
   "execution_count": 99,
   "metadata": {},
   "outputs": [
    {
     "data": {
      "text/html": [
       "<div>\n",
       "<style scoped>\n",
       "    .dataframe tbody tr th:only-of-type {\n",
       "        vertical-align: middle;\n",
       "    }\n",
       "\n",
       "    .dataframe tbody tr th {\n",
       "        vertical-align: top;\n",
       "    }\n",
       "\n",
       "    .dataframe thead th {\n",
       "        text-align: right;\n",
       "    }\n",
       "</style>\n",
       "<table border=\"1\" class=\"dataframe\">\n",
       "  <thead>\n",
       "    <tr style=\"text-align: right;\">\n",
       "      <th></th>\n",
       "      <th>title</th>\n",
       "      <th>history</th>\n",
       "      <th>art_and_architecture</th>\n",
       "      <th>nature</th>\n",
       "      <th>adventure</th>\n",
       "      <th>entertainment</th>\n",
       "      <th>health_and_lifestyle</th>\n",
       "      <th>food</th>\n",
       "      <th>industries</th>\n",
       "      <th>religious</th>\n",
       "    </tr>\n",
       "    <tr>\n",
       "      <th>destination_id</th>\n",
       "      <th></th>\n",
       "      <th></th>\n",
       "      <th></th>\n",
       "      <th></th>\n",
       "      <th></th>\n",
       "      <th></th>\n",
       "      <th></th>\n",
       "      <th></th>\n",
       "      <th></th>\n",
       "      <th></th>\n",
       "    </tr>\n",
       "  </thead>\n",
       "  <tbody>\n",
       "    <tr>\n",
       "      <th>0</th>\n",
       "      <td>Boudhanath Stupa</td>\n",
       "      <td>1</td>\n",
       "      <td>1</td>\n",
       "      <td>0</td>\n",
       "      <td>0</td>\n",
       "      <td>0</td>\n",
       "      <td>0</td>\n",
       "      <td>0</td>\n",
       "      <td>0</td>\n",
       "      <td>1</td>\n",
       "    </tr>\n",
       "    <tr>\n",
       "      <th>1</th>\n",
       "      <td>Phewa Tal (Fewa Lake)</td>\n",
       "      <td>0</td>\n",
       "      <td>0</td>\n",
       "      <td>1</td>\n",
       "      <td>0</td>\n",
       "      <td>0</td>\n",
       "      <td>0</td>\n",
       "      <td>0</td>\n",
       "      <td>0</td>\n",
       "      <td>0</td>\n",
       "    </tr>\n",
       "    <tr>\n",
       "      <th>2</th>\n",
       "      <td>Sarangkot</td>\n",
       "      <td>0</td>\n",
       "      <td>0</td>\n",
       "      <td>1</td>\n",
       "      <td>0</td>\n",
       "      <td>0</td>\n",
       "      <td>0</td>\n",
       "      <td>0</td>\n",
       "      <td>0</td>\n",
       "      <td>0</td>\n",
       "    </tr>\n",
       "    <tr>\n",
       "      <th>3</th>\n",
       "      <td>Swayambhunath Temple</td>\n",
       "      <td>1</td>\n",
       "      <td>1</td>\n",
       "      <td>0</td>\n",
       "      <td>0</td>\n",
       "      <td>0</td>\n",
       "      <td>0</td>\n",
       "      <td>0</td>\n",
       "      <td>0</td>\n",
       "      <td>1</td>\n",
       "    </tr>\n",
       "    <tr>\n",
       "      <th>4</th>\n",
       "      <td>Poon Hill</td>\n",
       "      <td>0</td>\n",
       "      <td>0</td>\n",
       "      <td>1</td>\n",
       "      <td>0</td>\n",
       "      <td>0</td>\n",
       "      <td>0</td>\n",
       "      <td>0</td>\n",
       "      <td>0</td>\n",
       "      <td>0</td>\n",
       "    </tr>\n",
       "  </tbody>\n",
       "</table>\n",
       "</div>"
      ],
      "text/plain": [
       "                                title  history  art_and_architecture  nature  \\\n",
       "destination_id                                                                 \n",
       "0                    Boudhanath Stupa        1                     1       0   \n",
       "1               Phewa Tal (Fewa Lake)        0                     0       1   \n",
       "2                           Sarangkot        0                     0       1   \n",
       "3                Swayambhunath Temple        1                     1       0   \n",
       "4                           Poon Hill        0                     0       1   \n",
       "\n",
       "                adventure  entertainment  health_and_lifestyle  food  \\\n",
       "destination_id                                                         \n",
       "0                       0              0                     0     0   \n",
       "1                       0              0                     0     0   \n",
       "2                       0              0                     0     0   \n",
       "3                       0              0                     0     0   \n",
       "4                       0              0                     0     0   \n",
       "\n",
       "                industries  religious  \n",
       "destination_id                         \n",
       "0                        0          1  \n",
       "1                        0          0  \n",
       "2                        0          0  \n",
       "3                        0          1  \n",
       "4                        0          0  "
      ]
     },
     "execution_count": 99,
     "metadata": {},
     "output_type": "execute_result"
    }
   ],
   "source": [
    "new_df.head()"
   ]
  },
  {
   "cell_type": "code",
   "execution_count": 100,
   "metadata": {},
   "outputs": [],
   "source": [
    "# drop the 'title' column\n",
    "new_df.drop(['title'],axis=1,inplace=True)"
   ]
  },
  {
   "cell_type": "code",
   "execution_count": 101,
   "metadata": {},
   "outputs": [
    {
     "data": {
      "text/html": [
       "<div>\n",
       "<style scoped>\n",
       "    .dataframe tbody tr th:only-of-type {\n",
       "        vertical-align: middle;\n",
       "    }\n",
       "\n",
       "    .dataframe tbody tr th {\n",
       "        vertical-align: top;\n",
       "    }\n",
       "\n",
       "    .dataframe thead th {\n",
       "        text-align: right;\n",
       "    }\n",
       "</style>\n",
       "<table border=\"1\" class=\"dataframe\">\n",
       "  <thead>\n",
       "    <tr style=\"text-align: right;\">\n",
       "      <th></th>\n",
       "      <th>history</th>\n",
       "      <th>art_and_architecture</th>\n",
       "      <th>nature</th>\n",
       "      <th>adventure</th>\n",
       "      <th>entertainment</th>\n",
       "      <th>health_and_lifestyle</th>\n",
       "      <th>food</th>\n",
       "      <th>industries</th>\n",
       "      <th>religious</th>\n",
       "    </tr>\n",
       "    <tr>\n",
       "      <th>destination_id</th>\n",
       "      <th></th>\n",
       "      <th></th>\n",
       "      <th></th>\n",
       "      <th></th>\n",
       "      <th></th>\n",
       "      <th></th>\n",
       "      <th></th>\n",
       "      <th></th>\n",
       "      <th></th>\n",
       "    </tr>\n",
       "  </thead>\n",
       "  <tbody>\n",
       "    <tr>\n",
       "      <th>0</th>\n",
       "      <td>1</td>\n",
       "      <td>1</td>\n",
       "      <td>0</td>\n",
       "      <td>0</td>\n",
       "      <td>0</td>\n",
       "      <td>0</td>\n",
       "      <td>0</td>\n",
       "      <td>0</td>\n",
       "      <td>1</td>\n",
       "    </tr>\n",
       "    <tr>\n",
       "      <th>1</th>\n",
       "      <td>0</td>\n",
       "      <td>0</td>\n",
       "      <td>1</td>\n",
       "      <td>0</td>\n",
       "      <td>0</td>\n",
       "      <td>0</td>\n",
       "      <td>0</td>\n",
       "      <td>0</td>\n",
       "      <td>0</td>\n",
       "    </tr>\n",
       "    <tr>\n",
       "      <th>2</th>\n",
       "      <td>0</td>\n",
       "      <td>0</td>\n",
       "      <td>1</td>\n",
       "      <td>0</td>\n",
       "      <td>0</td>\n",
       "      <td>0</td>\n",
       "      <td>0</td>\n",
       "      <td>0</td>\n",
       "      <td>0</td>\n",
       "    </tr>\n",
       "    <tr>\n",
       "      <th>3</th>\n",
       "      <td>1</td>\n",
       "      <td>1</td>\n",
       "      <td>0</td>\n",
       "      <td>0</td>\n",
       "      <td>0</td>\n",
       "      <td>0</td>\n",
       "      <td>0</td>\n",
       "      <td>0</td>\n",
       "      <td>1</td>\n",
       "    </tr>\n",
       "    <tr>\n",
       "      <th>4</th>\n",
       "      <td>0</td>\n",
       "      <td>0</td>\n",
       "      <td>1</td>\n",
       "      <td>0</td>\n",
       "      <td>0</td>\n",
       "      <td>0</td>\n",
       "      <td>0</td>\n",
       "      <td>0</td>\n",
       "      <td>0</td>\n",
       "    </tr>\n",
       "  </tbody>\n",
       "</table>\n",
       "</div>"
      ],
      "text/plain": [
       "                history  art_and_architecture  nature  adventure  \\\n",
       "destination_id                                                     \n",
       "0                     1                     1       0          0   \n",
       "1                     0                     0       1          0   \n",
       "2                     0                     0       1          0   \n",
       "3                     1                     1       0          0   \n",
       "4                     0                     0       1          0   \n",
       "\n",
       "                entertainment  health_and_lifestyle  food  industries  \\\n",
       "destination_id                                                          \n",
       "0                           0                     0     0           0   \n",
       "1                           0                     0     0           0   \n",
       "2                           0                     0     0           0   \n",
       "3                           0                     0     0           0   \n",
       "4                           0                     0     0           0   \n",
       "\n",
       "                religious  \n",
       "destination_id             \n",
       "0                       1  \n",
       "1                       0  \n",
       "2                       0  \n",
       "3                       1  \n",
       "4                       0  "
      ]
     },
     "execution_count": 101,
     "metadata": {},
     "output_type": "execute_result"
    }
   ],
   "source": [
    "destination_features=new_df\n",
    "destination_features.head()"
   ]
  },
  {
   "cell_type": "markdown",
   "metadata": {},
   "source": [
    "### Step 4: Building a \"Similar Destinations\" Recommender Using Cosine Similarity\n",
    "\n",
    "We're going to build our item-item recommender using a similarity metric called [cosine similarity](https://en.wikipedia.org/wiki/Cosine_similarity). \n",
    "\n",
    "Cosine similarity looks at the cosine angle between two vectors (e.g., $A$ and $B$). The smaller the cosine angle, the higher the degree of similarity between $A$ and $B$. You can calculate the similarity between $A$ and $B$ with this equation:\n",
    "\n",
    "$$\\cos(\\theta) = \\frac{A\\cdot B}{||A|| ||B||}$$\n",
    "\n",
    "In this tutorial, we're going to use scikit-learn's cosine similarity [function](https://scikit-learn.org/stable/modules/generated/sklearn.metrics.pairwise.cosine_similarity.html) to generate a cosine similarity matrix of shape $(n_{\\text{movies}}, n_{\\text{movies}})$. With this cosine similarity matrix, we'll be able to extract movies that are most similar to the movie of interest."
   ]
  },
  {
   "cell_type": "code",
   "execution_count": 102,
   "metadata": {},
   "outputs": [
    {
     "name": "stdout",
     "output_type": "stream",
     "text": [
      "Dimensions of our destination features cosine similarity matrix: (200, 200)\n"
     ]
    }
   ],
   "source": [
    "from sklearn.metrics.pairwise import cosine_similarity\n",
    "\n",
    "cosine_sim = cosine_similarity(destination_features, destination_features)\n",
    "print(f\"Dimensions of our destination features cosine similarity matrix: {cosine_sim.shape}\")"
   ]
  },
  {
   "cell_type": "markdown",
   "metadata": {},
   "source": [
    "As expected, after passing the `destination_features` dataframe into the `cosine_similarity()` function, we get a cosine similarity matrix of shape $(n_{\\text{movies}}, n_{\\text{movies}})$.\n",
    "\n",
    "This matrix is populated with values between 0 and 1 which represent the degree of similarity between movies along the x and y axes."
   ]
  },
  {
   "cell_type": "markdown",
   "metadata": {},
   "source": [
    "### Let's create a movie finder function\n",
    "\n",
    "Use [fuzzywuzzy](https://pypi.org/project/fuzzywuzzy/) so the exact names of the destinations do not have to be typed."
   ]
  },
  {
   "cell_type": "code",
   "execution_count": 103,
   "metadata": {},
   "outputs": [],
   "source": [
    "from fuzzywuzzy import process\n",
    "\n",
    "def destination_finder(title):\n",
    "    all_titles = destinations['title'].tolist()\n",
    "    closest_match = process.extractOne(title,all_titles)\n",
    "    return closest_match[0]"
   ]
  },
  {
   "cell_type": "markdown",
   "metadata": {},
   "source": [
    "Let's test this out with our Bouddhanath example. "
   ]
  },
  {
   "cell_type": "code",
   "execution_count": 104,
   "metadata": {},
   "outputs": [
    {
     "data": {
      "text/plain": [
       "'Boudhanath Stupa'"
      ]
     },
     "execution_count": 104,
     "metadata": {},
     "output_type": "execute_result"
    }
   ],
   "source": [
    "title = destination_finder('bouddhanath')\n",
    "title"
   ]
  },
  {
   "cell_type": "markdown",
   "metadata": {},
   "source": [
    "To get relevant recommendations for Jumanji, we need to find its index in the cosine simialrity matrix. To identify which row we should be looking at, we can create a movie index mapper which maps a movie title to the index that it represents in our matrix. \n",
    "\n",
    "Let's create a destination index dictionary called `destination_idx` where the keys are destination titles and values are destination indices:"
   ]
  },
  {
   "cell_type": "code",
   "execution_count": 105,
   "metadata": {},
   "outputs": [
    {
     "data": {
      "text/plain": [
       "0"
      ]
     },
     "execution_count": 105,
     "metadata": {},
     "output_type": "execute_result"
    }
   ],
   "source": [
    "destination_idx = dict(zip(destinations['title'], list(destinations.index)))\n",
    "idx = destination_idx[title]\n",
    "idx"
   ]
  },
  {
   "cell_type": "markdown",
   "metadata": {},
   "source": [
    "Using this handy `destination_idx` dictionary, we know that Boudhanath Stupa is represented by index 0 in our matrix. Let's get the top 10 most similar sites to Boudhanath Stupa."
   ]
  },
  {
   "cell_type": "code",
   "execution_count": 106,
   "metadata": {},
   "outputs": [],
   "source": [
    "n_recommendations=10\n",
    "sim_scores = list(enumerate(cosine_sim[idx]))\n",
    "sim_scores = sorted(sim_scores, key=lambda x: x[1], reverse=True)\n",
    "sim_scores = sim_scores[1:(n_recommendations+1)]\n",
    "similar_destinations = [i[0] for i in sim_scores]"
   ]
  },
  {
   "cell_type": "markdown",
   "metadata": {},
   "source": [
    "`similar_movies` is an array of indices that represents boudhanath stupa's top 10 recommendations. We can get the corresponding destination titles by either creating an inverse `destination_idx` mapper or using `iloc` on the title column of the `destinations` dataframe."
   ]
  },
  {
   "cell_type": "code",
   "execution_count": 107,
   "metadata": {},
   "outputs": [
    {
     "name": "stdout",
     "output_type": "stream",
     "text": [
      "Because you watched Boudhanath Stupa:\n"
     ]
    },
    {
     "data": {
      "text/plain": [
       "3                        Swayambhunath Temple\n",
       "5                                Peace Temple\n",
       "6                        Pashupatinath Temple\n",
       "11    Golden Temple (Hiranya Varna Mahavihar)\n",
       "16                            Kopan Monastery\n",
       "30                           Muktinath Temple\n",
       "31                              Barahi temple\n",
       "32                           Maya Devi Temple\n",
       "35                      Bindhya Basini Temple\n",
       "41                          Mahaboudha Temple\n",
       "Name: title, dtype: object"
      ]
     },
     "execution_count": 107,
     "metadata": {},
     "output_type": "execute_result"
    }
   ],
   "source": [
    "print(f\"Because you watched {title}:\")\n",
    "destinations['title'].iloc[similar_destinations]"
   ]
  },
  {
   "cell_type": "markdown",
   "metadata": {},
   "source": [
    "Now, create a single function to accomodate all these steps."
   ]
  },
  {
   "cell_type": "code",
   "execution_count": 108,
   "metadata": {},
   "outputs": [],
   "source": [
    "# def get_content_based_recommendations(title_string, n_recommendations=10):\n",
    "#     title = destination_finder(title_string)\n",
    "#     idx = destination_idx[title]\n",
    "#     sim_scores = list(enumerate(cosine_sim[idx]))\n",
    "#     sim_scores = sorted(sim_scores, key=lambda x: x[1], reverse=True)\n",
    "#     sim_scores = sim_scores[1:(n_recommendations+1)]\n",
    "#     similar_destinations = [i[0] for i in sim_scores]\n",
    "#     print(f\"Recommendations for {title}:\")\n",
    "#     print(destinations['title'].iloc[similar_destinations])\n",
    "#     return similar_destinations\n",
    "def get_content_based_recommendations(idx, n_recommendations=10):\n",
    "    sim_scores = list(enumerate(cosine_sim[idx]))\n",
    "    sim_scores = sorted(sim_scores, key=lambda x: x[1], reverse=True)\n",
    "    sim_scores = sim_scores[1:(n_recommendations+1)]\n",
    "    similar_destinations = [i[0] for i in sim_scores]\n",
    "#     print(f\"Recommendations for {title}:\")\n",
    "#     print(destinations['title'].iloc[similar_destinations])\n",
    "    return similar_destinations"
   ]
  },
  {
   "cell_type": "code",
   "execution_count": 109,
   "metadata": {},
   "outputs": [
    {
     "name": "stdout",
     "output_type": "stream",
     "text": [
      "[2, 4, 8, 9, 10, 15, 19, 25, 26, 27]\n"
     ]
    }
   ],
   "source": [
    "print(get_content_based_recommendations(1,10))"
   ]
  },
  {
   "cell_type": "markdown",
   "metadata": {},
   "source": [
    "## Evaluation"
   ]
  },
  {
   "cell_type": "code",
   "execution_count": 110,
   "metadata": {},
   "outputs": [
    {
     "data": {
      "text/html": [
       "<div>\n",
       "<style scoped>\n",
       "    .dataframe tbody tr th:only-of-type {\n",
       "        vertical-align: middle;\n",
       "    }\n",
       "\n",
       "    .dataframe tbody tr th {\n",
       "        vertical-align: top;\n",
       "    }\n",
       "\n",
       "    .dataframe thead th {\n",
       "        text-align: right;\n",
       "    }\n",
       "</style>\n",
       "<table border=\"1\" class=\"dataframe\">\n",
       "  <thead>\n",
       "    <tr style=\"text-align: right;\">\n",
       "      <th></th>\n",
       "      <th>destination_id</th>\n",
       "      <th>title</th>\n",
       "    </tr>\n",
       "  </thead>\n",
       "  <tbody>\n",
       "    <tr>\n",
       "      <th>0</th>\n",
       "      <td>0</td>\n",
       "      <td>Boudhanath Stupa</td>\n",
       "    </tr>\n",
       "    <tr>\n",
       "      <th>1</th>\n",
       "      <td>1</td>\n",
       "      <td>Phewa Tal (Fewa Lake)</td>\n",
       "    </tr>\n",
       "    <tr>\n",
       "      <th>2</th>\n",
       "      <td>2</td>\n",
       "      <td>Sarangkot</td>\n",
       "    </tr>\n",
       "    <tr>\n",
       "      <th>3</th>\n",
       "      <td>3</td>\n",
       "      <td>Swayambhunath Temple</td>\n",
       "    </tr>\n",
       "    <tr>\n",
       "      <th>4</th>\n",
       "      <td>4</td>\n",
       "      <td>Poon Hill</td>\n",
       "    </tr>\n",
       "    <tr>\n",
       "      <th>...</th>\n",
       "      <td>...</td>\n",
       "      <td>...</td>\n",
       "    </tr>\n",
       "    <tr>\n",
       "      <th>195</th>\n",
       "      <td>195</td>\n",
       "      <td>Aarya Ghat</td>\n",
       "    </tr>\n",
       "    <tr>\n",
       "      <th>196</th>\n",
       "      <td>196</td>\n",
       "      <td>Eternal Peace Flame</td>\n",
       "    </tr>\n",
       "    <tr>\n",
       "      <th>197</th>\n",
       "      <td>197</td>\n",
       "      <td>Tengboche Gompa</td>\n",
       "    </tr>\n",
       "    <tr>\n",
       "      <th>198</th>\n",
       "      <td>198</td>\n",
       "      <td>Bhat-Bhateni Supermarket and Departmental Store</td>\n",
       "    </tr>\n",
       "    <tr>\n",
       "      <th>199</th>\n",
       "      <td>199</td>\n",
       "      <td>Basantpur Dabali</td>\n",
       "    </tr>\n",
       "  </tbody>\n",
       "</table>\n",
       "<p>200 rows × 2 columns</p>\n",
       "</div>"
      ],
      "text/plain": [
       "     destination_id                                            title\n",
       "0                 0                                 Boudhanath Stupa\n",
       "1                 1                            Phewa Tal (Fewa Lake)\n",
       "2                 2                                        Sarangkot\n",
       "3                 3                             Swayambhunath Temple\n",
       "4                 4                                        Poon Hill\n",
       "..              ...                                              ...\n",
       "195             195                                       Aarya Ghat\n",
       "196             196                              Eternal Peace Flame\n",
       "197             197                                  Tengboche Gompa\n",
       "198             198  Bhat-Bhateni Supermarket and Departmental Store\n",
       "199             199                                 Basantpur Dabali\n",
       "\n",
       "[200 rows x 2 columns]"
      ]
     },
     "execution_count": 110,
     "metadata": {},
     "output_type": "execute_result"
    }
   ],
   "source": [
    "destinations"
   ]
  },
  {
   "cell_type": "code",
   "execution_count": 111,
   "metadata": {},
   "outputs": [
    {
     "data": {
      "text/html": [
       "<div>\n",
       "<style scoped>\n",
       "    .dataframe tbody tr th:only-of-type {\n",
       "        vertical-align: middle;\n",
       "    }\n",
       "\n",
       "    .dataframe tbody tr th {\n",
       "        vertical-align: top;\n",
       "    }\n",
       "\n",
       "    .dataframe thead th {\n",
       "        text-align: right;\n",
       "    }\n",
       "</style>\n",
       "<table border=\"1\" class=\"dataframe\">\n",
       "  <thead>\n",
       "    <tr style=\"text-align: right;\">\n",
       "      <th></th>\n",
       "      <th>user_id</th>\n",
       "      <th>destination_id</th>\n",
       "      <th>rating</th>\n",
       "    </tr>\n",
       "  </thead>\n",
       "  <tbody>\n",
       "    <tr>\n",
       "      <th>0</th>\n",
       "      <td>0</td>\n",
       "      <td>62</td>\n",
       "      <td>5</td>\n",
       "    </tr>\n",
       "    <tr>\n",
       "      <th>1</th>\n",
       "      <td>0</td>\n",
       "      <td>120</td>\n",
       "      <td>4</td>\n",
       "    </tr>\n",
       "    <tr>\n",
       "      <th>2</th>\n",
       "      <td>0</td>\n",
       "      <td>28</td>\n",
       "      <td>4</td>\n",
       "    </tr>\n",
       "    <tr>\n",
       "      <th>3</th>\n",
       "      <td>0</td>\n",
       "      <td>4</td>\n",
       "      <td>5</td>\n",
       "    </tr>\n",
       "    <tr>\n",
       "      <th>4</th>\n",
       "      <td>0</td>\n",
       "      <td>100</td>\n",
       "      <td>3</td>\n",
       "    </tr>\n",
       "  </tbody>\n",
       "</table>\n",
       "</div>"
      ],
      "text/plain": [
       "   user_id  destination_id  rating\n",
       "0        0              62       5\n",
       "1        0             120       4\n",
       "2        0              28       4\n",
       "3        0               4       5\n",
       "4        0             100       3"
      ]
     },
     "execution_count": 111,
     "metadata": {},
     "output_type": "execute_result"
    }
   ],
   "source": [
    "ratings=pd.read_csv(\"../Collaborative/sample_user_ratings.csv\")\n",
    "ratings.head()"
   ]
  },
  {
   "cell_type": "code",
   "execution_count": 112,
   "metadata": {},
   "outputs": [],
   "source": [
    "import matplotlib.pyplot as plt\n",
    "import numpy as np\n",
    "import pandas as pd\n",
    "from surprise import SVD, Dataset, Reader\n",
    "from surprise.model_selection import train_test_split\n",
    "\n",
    "import recmetrics"
   ]
  },
  {
   "cell_type": "code",
   "execution_count": 113,
   "metadata": {},
   "outputs": [],
   "source": [
    "reader = Reader(rating_scale=(0, 5))\n",
    "data = Dataset.load_from_df(ratings[['user_id', 'destination_id', 'rating']], reader)\n",
    "trainset, testset = train_test_split(data, test_size=0.25)"
   ]
  },
  {
   "cell_type": "code",
   "execution_count": 114,
   "metadata": {},
   "outputs": [
    {
     "data": {
      "text/html": [
       "<div>\n",
       "<style scoped>\n",
       "    .dataframe tbody tr th:only-of-type {\n",
       "        vertical-align: middle;\n",
       "    }\n",
       "\n",
       "    .dataframe tbody tr th {\n",
       "        vertical-align: top;\n",
       "    }\n",
       "\n",
       "    .dataframe thead th {\n",
       "        text-align: right;\n",
       "    }\n",
       "</style>\n",
       "<table border=\"1\" class=\"dataframe\">\n",
       "  <thead>\n",
       "    <tr style=\"text-align: right;\">\n",
       "      <th></th>\n",
       "      <th>user_id</th>\n",
       "      <th>destination_id</th>\n",
       "      <th>actual</th>\n",
       "    </tr>\n",
       "  </thead>\n",
       "  <tbody>\n",
       "    <tr>\n",
       "      <th>0</th>\n",
       "      <td>63</td>\n",
       "      <td>180</td>\n",
       "      <td>4.0</td>\n",
       "    </tr>\n",
       "    <tr>\n",
       "      <th>1</th>\n",
       "      <td>72</td>\n",
       "      <td>68</td>\n",
       "      <td>5.0</td>\n",
       "    </tr>\n",
       "    <tr>\n",
       "      <th>2</th>\n",
       "      <td>77</td>\n",
       "      <td>102</td>\n",
       "      <td>3.0</td>\n",
       "    </tr>\n",
       "    <tr>\n",
       "      <th>3</th>\n",
       "      <td>59</td>\n",
       "      <td>122</td>\n",
       "      <td>4.0</td>\n",
       "    </tr>\n",
       "    <tr>\n",
       "      <th>4</th>\n",
       "      <td>45</td>\n",
       "      <td>146</td>\n",
       "      <td>3.0</td>\n",
       "    </tr>\n",
       "  </tbody>\n",
       "</table>\n",
       "</div>"
      ],
      "text/plain": [
       "   user_id  destination_id  actual\n",
       "0       63             180     4.0\n",
       "1       72              68     5.0\n",
       "2       77             102     3.0\n",
       "3       59             122     4.0\n",
       "4       45             146     3.0"
      ]
     },
     "execution_count": 114,
     "metadata": {},
     "output_type": "execute_result"
    }
   ],
   "source": [
    "test = pd.DataFrame(testset)\n",
    "test.columns = ['user_id', 'destination_id', 'actual']\n",
    "test.head()"
   ]
  },
  {
   "cell_type": "code",
   "execution_count": 115,
   "metadata": {},
   "outputs": [
    {
     "data": {
      "text/html": [
       "<div>\n",
       "<style scoped>\n",
       "    .dataframe tbody tr th:only-of-type {\n",
       "        vertical-align: middle;\n",
       "    }\n",
       "\n",
       "    .dataframe tbody tr th {\n",
       "        vertical-align: top;\n",
       "    }\n",
       "\n",
       "    .dataframe thead th {\n",
       "        text-align: right;\n",
       "    }\n",
       "</style>\n",
       "<table border=\"1\" class=\"dataframe\">\n",
       "  <thead>\n",
       "    <tr style=\"text-align: right;\">\n",
       "      <th></th>\n",
       "      <th>user_id</th>\n",
       "      <th>actual</th>\n",
       "    </tr>\n",
       "  </thead>\n",
       "  <tbody>\n",
       "    <tr>\n",
       "      <th>0</th>\n",
       "      <td>0</td>\n",
       "      <td>[176, 18, 23, 88, 28, 62]</td>\n",
       "    </tr>\n",
       "    <tr>\n",
       "      <th>1</th>\n",
       "      <td>1</td>\n",
       "      <td>[184, 51]</td>\n",
       "    </tr>\n",
       "    <tr>\n",
       "      <th>2</th>\n",
       "      <td>2</td>\n",
       "      <td>[1, 104, 110, 15, 21, 22, 30, 190]</td>\n",
       "    </tr>\n",
       "    <tr>\n",
       "      <th>3</th>\n",
       "      <td>3</td>\n",
       "      <td>[41, 68, 95]</td>\n",
       "    </tr>\n",
       "    <tr>\n",
       "      <th>4</th>\n",
       "      <td>4</td>\n",
       "      <td>[128, 167, 9, 111, 50, 182, 152, 153, 30]</td>\n",
       "    </tr>\n",
       "    <tr>\n",
       "      <th>...</th>\n",
       "      <td>...</td>\n",
       "      <td>...</td>\n",
       "    </tr>\n",
       "    <tr>\n",
       "      <th>96</th>\n",
       "      <td>96</td>\n",
       "      <td>[74, 142, 148, 87, 94]</td>\n",
       "    </tr>\n",
       "    <tr>\n",
       "      <th>97</th>\n",
       "      <td>97</td>\n",
       "      <td>[11, 140, 139, 142, 152]</td>\n",
       "    </tr>\n",
       "    <tr>\n",
       "      <th>98</th>\n",
       "      <td>98</td>\n",
       "      <td>[42, 106, 159]</td>\n",
       "    </tr>\n",
       "    <tr>\n",
       "      <th>99</th>\n",
       "      <td>99</td>\n",
       "      <td>[80, 177, 32, 135]</td>\n",
       "    </tr>\n",
       "    <tr>\n",
       "      <th>100</th>\n",
       "      <td>100</td>\n",
       "      <td>[66, 177, 178, 184, 27, 159]</td>\n",
       "    </tr>\n",
       "  </tbody>\n",
       "</table>\n",
       "<p>101 rows × 2 columns</p>\n",
       "</div>"
      ],
      "text/plain": [
       "     user_id                                     actual\n",
       "0          0                  [176, 18, 23, 88, 28, 62]\n",
       "1          1                                  [184, 51]\n",
       "2          2         [1, 104, 110, 15, 21, 22, 30, 190]\n",
       "3          3                               [41, 68, 95]\n",
       "4          4  [128, 167, 9, 111, 50, 182, 152, 153, 30]\n",
       "..       ...                                        ...\n",
       "96        96                     [74, 142, 148, 87, 94]\n",
       "97        97                   [11, 140, 139, 142, 152]\n",
       "98        98                             [42, 106, 159]\n",
       "99        99                         [80, 177, 32, 135]\n",
       "100      100               [66, 177, 178, 184, 27, 159]\n",
       "\n",
       "[101 rows x 2 columns]"
      ]
     },
     "execution_count": 115,
     "metadata": {},
     "output_type": "execute_result"
    }
   ],
   "source": [
    "test = test.copy().groupby('user_id', as_index=False)['destination_id'].agg({'actual': (lambda x: list(set(x)))})\n",
    "test"
   ]
  },
  {
   "cell_type": "code",
   "execution_count": 116,
   "metadata": {},
   "outputs": [
    {
     "data": {
      "text/html": [
       "<div>\n",
       "<style scoped>\n",
       "    .dataframe tbody tr th:only-of-type {\n",
       "        vertical-align: middle;\n",
       "    }\n",
       "\n",
       "    .dataframe tbody tr th {\n",
       "        vertical-align: top;\n",
       "    }\n",
       "\n",
       "    .dataframe thead th {\n",
       "        text-align: right;\n",
       "    }\n",
       "</style>\n",
       "<table border=\"1\" class=\"dataframe\">\n",
       "  <thead>\n",
       "    <tr style=\"text-align: right;\">\n",
       "      <th></th>\n",
       "      <th>actual</th>\n",
       "    </tr>\n",
       "    <tr>\n",
       "      <th>user_id</th>\n",
       "      <th></th>\n",
       "    </tr>\n",
       "  </thead>\n",
       "  <tbody>\n",
       "    <tr>\n",
       "      <th>0</th>\n",
       "      <td>[176, 18, 23, 88, 28, 62]</td>\n",
       "    </tr>\n",
       "    <tr>\n",
       "      <th>1</th>\n",
       "      <td>[184, 51]</td>\n",
       "    </tr>\n",
       "    <tr>\n",
       "      <th>2</th>\n",
       "      <td>[1, 104, 110, 15, 21, 22, 30, 190]</td>\n",
       "    </tr>\n",
       "    <tr>\n",
       "      <th>3</th>\n",
       "      <td>[41, 68, 95]</td>\n",
       "    </tr>\n",
       "    <tr>\n",
       "      <th>4</th>\n",
       "      <td>[128, 167, 9, 111, 50, 182, 152, 153, 30]</td>\n",
       "    </tr>\n",
       "    <tr>\n",
       "      <th>...</th>\n",
       "      <td>...</td>\n",
       "    </tr>\n",
       "    <tr>\n",
       "      <th>96</th>\n",
       "      <td>[74, 142, 148, 87, 94]</td>\n",
       "    </tr>\n",
       "    <tr>\n",
       "      <th>97</th>\n",
       "      <td>[11, 140, 139, 142, 152]</td>\n",
       "    </tr>\n",
       "    <tr>\n",
       "      <th>98</th>\n",
       "      <td>[42, 106, 159]</td>\n",
       "    </tr>\n",
       "    <tr>\n",
       "      <th>99</th>\n",
       "      <td>[80, 177, 32, 135]</td>\n",
       "    </tr>\n",
       "    <tr>\n",
       "      <th>100</th>\n",
       "      <td>[66, 177, 178, 184, 27, 159]</td>\n",
       "    </tr>\n",
       "  </tbody>\n",
       "</table>\n",
       "<p>101 rows × 1 columns</p>\n",
       "</div>"
      ],
      "text/plain": [
       "                                            actual\n",
       "user_id                                           \n",
       "0                        [176, 18, 23, 88, 28, 62]\n",
       "1                                        [184, 51]\n",
       "2               [1, 104, 110, 15, 21, 22, 30, 190]\n",
       "3                                     [41, 68, 95]\n",
       "4        [128, 167, 9, 111, 50, 182, 152, 153, 30]\n",
       "...                                            ...\n",
       "96                          [74, 142, 148, 87, 94]\n",
       "97                        [11, 140, 139, 142, 152]\n",
       "98                                  [42, 106, 159]\n",
       "99                              [80, 177, 32, 135]\n",
       "100                   [66, 177, 178, 184, 27, 159]\n",
       "\n",
       "[101 rows x 1 columns]"
      ]
     },
     "execution_count": 116,
     "metadata": {},
     "output_type": "execute_result"
    }
   ],
   "source": [
    "test = test.set_index(\"user_id\")\n",
    "test"
   ]
  },
  {
   "cell_type": "code",
   "execution_count": 117,
   "metadata": {},
   "outputs": [
    {
     "name": "stdout",
     "output_type": "stream",
     "text": [
      "[[3, 5, 6, 11, 16, 30, 31, 32, 35, 41], [3, 5, 6, 11, 16, 30, 31, 32, 35, 41], [14, 24, 29, 45, 61, 74, 86, 93, 116, 121], [76, 83, 91, 95, 123, 133, 134, 157, 191, 198], [3, 5, 6, 11, 16, 30, 31, 32, 35, 41], [3, 5, 6, 11, 16, 30, 31, 32, 35, 41], [20, 22, 48, 49, 64, 77, 98, 99, 105, 106], [3, 5, 6, 11, 16, 30, 31, 32, 35, 41], [33, 39, 47, 53, 55, 56, 108, 110, 126, 174], [3, 5, 6, 11, 16, 30, 31, 32, 35, 41], [2, 4, 8, 9, 10, 15, 19, 25, 26, 27], [1, 2, 3, 4, 5, 6, 7, 8, 9, 10], [3, 5, 6, 11, 16, 30, 31, 32, 35, 41], [33, 39, 47, 53, 55, 56, 108, 110, 126, 174], [3, 5, 6, 11, 16, 30, 31, 32, 35, 41], [1, 2, 3, 4, 5, 6, 7, 8, 9, 10], [3, 5, 6, 11, 16, 30, 31, 32, 35, 41], [3, 5, 6, 11, 16, 30, 31, 32, 35, 41], [2, 4, 8, 9, 10, 15, 19, 25, 26, 27], [2, 4, 8, 9, 10, 15, 19, 25, 26, 27], [3, 5, 6, 11, 16, 30, 31, 32, 35, 41], [14, 24, 29, 45, 61, 74, 86, 93, 116, 121], [14, 24, 29, 45, 61, 74, 86, 93, 116, 121], [1, 2, 4, 8, 9, 10, 15, 19, 25, 26], [76, 83, 91, 95, 123, 133, 134, 157, 191, 198], [76, 83, 91, 95, 123, 133, 134, 157, 191, 198], [3, 5, 6, 11, 16, 30, 31, 32, 35, 41], [20, 22, 48, 49, 64, 77, 98, 99, 105, 106], [3, 5, 6, 11, 16, 30, 31, 32, 35, 41], [33, 39, 47, 53, 55, 56, 108, 110, 126, 174], [33, 39, 47, 53, 55, 56, 108, 110, 126, 174], [1, 2, 3, 4, 5, 6, 7, 8, 9, 10], [3, 5, 6, 11, 16, 30, 31, 32, 35, 41], [3, 5, 6, 11, 16, 30, 31, 32, 35, 41], [3, 5, 6, 11, 16, 30, 31, 32, 35, 41], [3, 5, 6, 11, 16, 30, 31, 32, 35, 41], [3, 5, 6, 11, 16, 30, 31, 32, 35, 41], [14, 24, 29, 45, 61, 74, 86, 93, 116, 121], [2, 4, 8, 9, 10, 15, 19, 25, 26, 27], [14, 24, 29, 45, 61, 74, 86, 93, 116, 121], [3, 5, 6, 11, 16, 30, 31, 32, 35, 41], [3, 5, 6, 11, 16, 30, 31, 32, 35, 41], [2, 4, 8, 9, 10, 15, 19, 25, 26, 27], [2, 4, 8, 9, 10, 15, 19, 25, 26, 27], [14, 24, 29, 45, 61, 74, 86, 93, 116, 121], [76, 83, 91, 95, 123, 133, 134, 157, 191, 198], [2, 4, 8, 9, 10, 15, 19, 25, 26, 27], [14, 24, 29, 45, 61, 74, 86, 93, 116, 121], [3, 5, 6, 11, 16, 30, 31, 32, 35, 41], [33, 39, 47, 53, 55, 56, 108, 110, 126, 174], [2, 4, 8, 9, 10, 15, 19, 25, 26, 27], [2, 4, 8, 9, 10, 15, 19, 25, 26, 27], [3, 5, 6, 11, 16, 30, 31, 32, 35, 41], [2, 4, 8, 9, 10, 15, 19, 25, 26, 27], [2, 4, 8, 9, 10, 15, 19, 25, 26, 27], [20, 22, 48, 49, 64, 77, 98, 99, 105, 106], [3, 5, 6, 11, 16, 30, 31, 32, 35, 41], [20, 22, 48, 49, 64, 77, 98, 99, 105, 106], [1, 2, 3, 4, 5, 6, 7, 8, 9, 10], [14, 24, 29, 45, 61, 74, 86, 93, 116, 121], [3, 5, 6, 11, 16, 30, 31, 32, 35, 41], [14, 24, 29, 45, 61, 74, 86, 93, 116, 121], [7, 20, 22, 48, 49, 64, 77, 98, 99, 105], [2, 4, 8, 9, 10, 15, 19, 25, 26, 27], [1, 2, 3, 4, 5, 6, 7, 8, 9, 10], [3, 5, 6, 11, 16, 30, 31, 32, 35, 41], [2, 4, 8, 9, 10, 15, 19, 25, 26, 27], [2, 4, 8, 9, 10, 15, 19, 25, 26, 27], [2, 4, 8, 9, 10, 15, 19, 25, 26, 27], [76, 83, 91, 95, 123, 133, 134, 157, 191, 198], [1, 2, 3, 4, 5, 6, 7, 8, 9, 10], [20, 22, 48, 49, 64, 77, 98, 99, 105, 106], [14, 24, 29, 45, 61, 74, 86, 93, 116, 121], [147, 80, 82, 0, 1, 2, 3, 4, 5, 6], [20, 22, 48, 49, 64, 77, 98, 99, 105, 106], [3, 5, 6, 11, 16, 30, 31, 32, 35, 41], [14, 24, 29, 45, 61, 74, 86, 93, 116, 121], [3, 5, 6, 11, 16, 30, 31, 32, 35, 41], [2, 4, 8, 9, 10, 15, 19, 25, 26, 27], [2, 4, 8, 9, 10, 15, 19, 25, 26, 27], [2, 4, 8, 9, 10, 15, 19, 25, 26, 27], [1, 2, 3, 4, 5, 6, 7, 8, 9, 10], [14, 24, 29, 45, 61, 74, 86, 93, 116, 121], [14, 24, 29, 45, 61, 74, 86, 93, 116, 121], [2, 4, 8, 9, 10, 15, 19, 25, 26, 27], [3, 5, 6, 11, 16, 30, 31, 32, 35, 41], [2, 4, 8, 9, 10, 15, 19, 25, 26, 27], [3, 5, 6, 11, 16, 30, 31, 32, 35, 41], [76, 83, 91, 95, 123, 133, 134, 157, 191, 198], [3, 5, 6, 11, 16, 30, 31, 32, 35, 41], [2, 4, 8, 9, 10, 15, 19, 25, 26, 27], [3, 5, 6, 11, 16, 30, 31, 32, 35, 41], [20, 22, 48, 49, 64, 77, 98, 99, 105, 106], [3, 5, 6, 11, 16, 30, 31, 32, 35, 41], [3, 5, 6, 11, 16, 30, 31, 32, 35, 41], [1, 2, 3, 4, 5, 6, 7, 8, 9, 10], [2, 4, 8, 9, 10, 15, 19, 25, 26, 27], [14, 24, 29, 45, 61, 74, 86, 93, 116, 121], [3, 5, 6, 11, 16, 30, 31, 32, 35, 41], [1, 2, 3, 4, 5, 6, 7, 8, 9, 10], [3, 5, 6, 11, 16, 30, 31, 32, 35, 41]]\n"
     ]
    }
   ],
   "source": [
    "# find the recommended 10 destinations to the users of the test dataset\n",
    "# and add them to a superlist\n",
    "super_recommended_ids=[]\n",
    "for user in test.index:\n",
    "    most_recent_destination_id=test.loc[user]['actual'][-1] #extract the most recently rated destination id\n",
    "    recommeneded_ids = get_content_based_recommendations(most_recent_destination_id,10)\n",
    "    super_recommended_ids.append(recommeneded_ids)\n",
    "print(super_recommended_ids)"
   ]
  },
  {
   "cell_type": "code",
   "execution_count": 118,
   "metadata": {},
   "outputs": [
    {
     "data": {
      "text/html": [
       "<div>\n",
       "<style scoped>\n",
       "    .dataframe tbody tr th:only-of-type {\n",
       "        vertical-align: middle;\n",
       "    }\n",
       "\n",
       "    .dataframe tbody tr th {\n",
       "        vertical-align: top;\n",
       "    }\n",
       "\n",
       "    .dataframe thead th {\n",
       "        text-align: right;\n",
       "    }\n",
       "</style>\n",
       "<table border=\"1\" class=\"dataframe\">\n",
       "  <thead>\n",
       "    <tr style=\"text-align: right;\">\n",
       "      <th></th>\n",
       "      <th>actual</th>\n",
       "      <th>content_predictions</th>\n",
       "    </tr>\n",
       "    <tr>\n",
       "      <th>user_id</th>\n",
       "      <th></th>\n",
       "      <th></th>\n",
       "    </tr>\n",
       "  </thead>\n",
       "  <tbody>\n",
       "    <tr>\n",
       "      <th>0</th>\n",
       "      <td>[176, 18, 23, 88, 28, 62]</td>\n",
       "      <td>[3, 5, 6, 11, 16, 30, 31, 32, 35, 41]</td>\n",
       "    </tr>\n",
       "    <tr>\n",
       "      <th>1</th>\n",
       "      <td>[184, 51]</td>\n",
       "      <td>[3, 5, 6, 11, 16, 30, 31, 32, 35, 41]</td>\n",
       "    </tr>\n",
       "    <tr>\n",
       "      <th>2</th>\n",
       "      <td>[1, 104, 110, 15, 21, 22, 30, 190]</td>\n",
       "      <td>[14, 24, 29, 45, 61, 74, 86, 93, 116, 121]</td>\n",
       "    </tr>\n",
       "    <tr>\n",
       "      <th>3</th>\n",
       "      <td>[41, 68, 95]</td>\n",
       "      <td>[76, 83, 91, 95, 123, 133, 134, 157, 191, 198]</td>\n",
       "    </tr>\n",
       "    <tr>\n",
       "      <th>4</th>\n",
       "      <td>[128, 167, 9, 111, 50, 182, 152, 153, 30]</td>\n",
       "      <td>[3, 5, 6, 11, 16, 30, 31, 32, 35, 41]</td>\n",
       "    </tr>\n",
       "  </tbody>\n",
       "</table>\n",
       "</div>"
      ],
      "text/plain": [
       "                                            actual  \\\n",
       "user_id                                              \n",
       "0                        [176, 18, 23, 88, 28, 62]   \n",
       "1                                        [184, 51]   \n",
       "2               [1, 104, 110, 15, 21, 22, 30, 190]   \n",
       "3                                     [41, 68, 95]   \n",
       "4        [128, 167, 9, 111, 50, 182, 152, 153, 30]   \n",
       "\n",
       "                                    content_predictions  \n",
       "user_id                                                  \n",
       "0                 [3, 5, 6, 11, 16, 30, 31, 32, 35, 41]  \n",
       "1                 [3, 5, 6, 11, 16, 30, 31, 32, 35, 41]  \n",
       "2            [14, 24, 29, 45, 61, 74, 86, 93, 116, 121]  \n",
       "3        [76, 83, 91, 95, 123, 133, 134, 157, 191, 198]  \n",
       "4                 [3, 5, 6, 11, 16, 30, 31, 32, 35, 41]  "
      ]
     },
     "execution_count": 118,
     "metadata": {},
     "output_type": "execute_result"
    }
   ],
   "source": [
    "# update the recommended ids as a new column\n",
    "test['content_predictions']=super_recommended_ids\n",
    "test.head()"
   ]
  },
  {
   "cell_type": "code",
   "execution_count": 119,
   "metadata": {},
   "outputs": [
    {
     "name": "stdout",
     "output_type": "stream",
     "text": [
      "[[176, 18, 23, 88, 28, 62], [184, 51], [1, 104, 110, 15, 21, 22, 30, 190], [41, 68, 95], [128, 167, 9, 111, 50, 182, 152, 153, 30], [101, 75, 43, 15, 178, 180, 187], [162, 170, 138], [172, 52, 29, 183], [4, 165, 39], [77, 79, 146, 120, 92], [42, 154], [163, 158], [132, 41, 117, 24, 126, 63], [5, 135, 136, 140, 13, 80, 18], [66, 135, 173, 56, 121, 187, 62], [198, 13, 80, 88, 57], [169, 188, 30], [49, 20, 118, 155, 92, 31], [32, 66, 68, 13, 124], [134, 74, 77, 123, 125], [161, 99, 132, 9, 109, 17, 57, 63], [160, 110, 28, 190], [43, 62, 14], [138, 60, 79], [72, 193, 134], [129, 130, 18, 76], [115, 123, 44, 182], [170, 158, 199], [168, 65, 3, 92], [194, 172, 126], [24, 112, 110], [193, 197, 62, 135], [120, 24, 107, 6], [3, 198, 106, 180, 56, 121, 157, 30], [161, 3, 71, 77, 83, 155, 159], [98, 40, 73, 106, 21, 184, 122], [65, 197, 198, 172, 19, 25, 90, 30], [100, 104, 75, 139, 141, 24], [46, 112, 197, 38], [32, 58, 74], [108, 52, 53, 22, 21, 90], [135, 72, 11, 141, 47, 60], [66, 171, 47, 178, 154], [192, 34, 4, 37, 9, 45, 13, 82, 148, 54, 26], [184, 90, 86], [146, 181, 198], [169, 66, 100], [102, 124, 190], [178, 70], [19, 131, 85, 174], [100, 18, 184, 27, 125], [159, 166, 15], [97, 133, 169, 10, 11, 73, 45, 43, 62], [2, 169, 107, 50, 83, 148, 154], [193, 197, 134, 74, 142, 179, 185, 59, 156], [138, 91, 53, 167], [82, 63, 61, 190, 159], [103, 77, 62, 199], [2, 66, 197, 171, 76, 77, 51, 54, 120], [169, 91, 46, 142, 145, 152, 122, 59, 93], [192, 9, 6], [66, 177, 23, 87, 185, 29], [169, 57, 186, 67], [68, 114, 180, 154, 127], [27, 148], [65, 44, 21, 103], [88], [1, 35, 9, 82, 51, 189, 93, 127], [3, 100, 196, 101, 77, 114, 115], [129, 46, 188, 147, 86, 151, 152, 156, 191], [41, 147, 148], [1, 43, 178, 20, 22, 58, 189], [68, 12], [105, 108, 13, 46, 179, 147], [17, 139, 110, 167], [37, 137, 74, 80, 23, 185], [2, 67, 37, 199, 73, 44, 77, 113, 121], [130, 2, 102, 168, 86, 185, 30], [101, 135, 86, 28, 125], [84, 94], [8, 50], [40, 10, 50, 54, 120], [65, 106, 114, 146, 122, 190], [153, 29, 44, 61], [100, 75, 44, 109, 82, 19], [114, 180, 66, 130], [66, 14, 143, 113, 87], [83, 164], [58, 83, 196, 198], [129, 34, 130], [195, 100, 38, 171, 111], [132, 69, 42, 17, 83, 60], [67, 134, 109, 142, 49], [67, 6, 111, 176, 22, 88, 92], [2, 61, 38, 63], [165, 15, 16, 112, 23, 120], [74, 142, 148, 87, 94], [11, 140, 139, 142, 152], [42, 106, 159], [80, 177, 32, 135], [66, 177, 178, 184, 27, 159]]\n",
      "[[3, 5, 6, 11, 16, 30, 31, 32, 35, 41], [3, 5, 6, 11, 16, 30, 31, 32, 35, 41], [14, 24, 29, 45, 61, 74, 86, 93, 116, 121], [76, 83, 91, 95, 123, 133, 134, 157, 191, 198], [3, 5, 6, 11, 16, 30, 31, 32, 35, 41], [3, 5, 6, 11, 16, 30, 31, 32, 35, 41], [20, 22, 48, 49, 64, 77, 98, 99, 105, 106], [3, 5, 6, 11, 16, 30, 31, 32, 35, 41], [33, 39, 47, 53, 55, 56, 108, 110, 126, 174], [3, 5, 6, 11, 16, 30, 31, 32, 35, 41], [2, 4, 8, 9, 10, 15, 19, 25, 26, 27], [1, 2, 3, 4, 5, 6, 7, 8, 9, 10], [3, 5, 6, 11, 16, 30, 31, 32, 35, 41], [33, 39, 47, 53, 55, 56, 108, 110, 126, 174], [3, 5, 6, 11, 16, 30, 31, 32, 35, 41], [1, 2, 3, 4, 5, 6, 7, 8, 9, 10], [3, 5, 6, 11, 16, 30, 31, 32, 35, 41], [3, 5, 6, 11, 16, 30, 31, 32, 35, 41], [2, 4, 8, 9, 10, 15, 19, 25, 26, 27], [2, 4, 8, 9, 10, 15, 19, 25, 26, 27], [3, 5, 6, 11, 16, 30, 31, 32, 35, 41], [14, 24, 29, 45, 61, 74, 86, 93, 116, 121], [14, 24, 29, 45, 61, 74, 86, 93, 116, 121], [1, 2, 4, 8, 9, 10, 15, 19, 25, 26], [76, 83, 91, 95, 123, 133, 134, 157, 191, 198], [76, 83, 91, 95, 123, 133, 134, 157, 191, 198], [3, 5, 6, 11, 16, 30, 31, 32, 35, 41], [20, 22, 48, 49, 64, 77, 98, 99, 105, 106], [3, 5, 6, 11, 16, 30, 31, 32, 35, 41], [33, 39, 47, 53, 55, 56, 108, 110, 126, 174], [33, 39, 47, 53, 55, 56, 108, 110, 126, 174], [1, 2, 3, 4, 5, 6, 7, 8, 9, 10], [3, 5, 6, 11, 16, 30, 31, 32, 35, 41], [3, 5, 6, 11, 16, 30, 31, 32, 35, 41], [3, 5, 6, 11, 16, 30, 31, 32, 35, 41], [3, 5, 6, 11, 16, 30, 31, 32, 35, 41], [3, 5, 6, 11, 16, 30, 31, 32, 35, 41], [14, 24, 29, 45, 61, 74, 86, 93, 116, 121], [2, 4, 8, 9, 10, 15, 19, 25, 26, 27], [14, 24, 29, 45, 61, 74, 86, 93, 116, 121], [3, 5, 6, 11, 16, 30, 31, 32, 35, 41], [3, 5, 6, 11, 16, 30, 31, 32, 35, 41], [2, 4, 8, 9, 10, 15, 19, 25, 26, 27], [2, 4, 8, 9, 10, 15, 19, 25, 26, 27], [14, 24, 29, 45, 61, 74, 86, 93, 116, 121], [76, 83, 91, 95, 123, 133, 134, 157, 191, 198], [2, 4, 8, 9, 10, 15, 19, 25, 26, 27], [14, 24, 29, 45, 61, 74, 86, 93, 116, 121], [3, 5, 6, 11, 16, 30, 31, 32, 35, 41], [33, 39, 47, 53, 55, 56, 108, 110, 126, 174], [2, 4, 8, 9, 10, 15, 19, 25, 26, 27], [2, 4, 8, 9, 10, 15, 19, 25, 26, 27], [3, 5, 6, 11, 16, 30, 31, 32, 35, 41], [2, 4, 8, 9, 10, 15, 19, 25, 26, 27], [2, 4, 8, 9, 10, 15, 19, 25, 26, 27], [20, 22, 48, 49, 64, 77, 98, 99, 105, 106], [3, 5, 6, 11, 16, 30, 31, 32, 35, 41], [20, 22, 48, 49, 64, 77, 98, 99, 105, 106], [1, 2, 3, 4, 5, 6, 7, 8, 9, 10], [14, 24, 29, 45, 61, 74, 86, 93, 116, 121], [3, 5, 6, 11, 16, 30, 31, 32, 35, 41], [14, 24, 29, 45, 61, 74, 86, 93, 116, 121], [7, 20, 22, 48, 49, 64, 77, 98, 99, 105], [2, 4, 8, 9, 10, 15, 19, 25, 26, 27], [1, 2, 3, 4, 5, 6, 7, 8, 9, 10], [3, 5, 6, 11, 16, 30, 31, 32, 35, 41], [2, 4, 8, 9, 10, 15, 19, 25, 26, 27], [2, 4, 8, 9, 10, 15, 19, 25, 26, 27], [2, 4, 8, 9, 10, 15, 19, 25, 26, 27], [76, 83, 91, 95, 123, 133, 134, 157, 191, 198], [1, 2, 3, 4, 5, 6, 7, 8, 9, 10], [20, 22, 48, 49, 64, 77, 98, 99, 105, 106], [14, 24, 29, 45, 61, 74, 86, 93, 116, 121], [147, 80, 82, 0, 1, 2, 3, 4, 5, 6], [20, 22, 48, 49, 64, 77, 98, 99, 105, 106], [3, 5, 6, 11, 16, 30, 31, 32, 35, 41], [14, 24, 29, 45, 61, 74, 86, 93, 116, 121], [3, 5, 6, 11, 16, 30, 31, 32, 35, 41], [2, 4, 8, 9, 10, 15, 19, 25, 26, 27], [2, 4, 8, 9, 10, 15, 19, 25, 26, 27], [2, 4, 8, 9, 10, 15, 19, 25, 26, 27], [1, 2, 3, 4, 5, 6, 7, 8, 9, 10], [14, 24, 29, 45, 61, 74, 86, 93, 116, 121], [14, 24, 29, 45, 61, 74, 86, 93, 116, 121], [2, 4, 8, 9, 10, 15, 19, 25, 26, 27], [3, 5, 6, 11, 16, 30, 31, 32, 35, 41], [2, 4, 8, 9, 10, 15, 19, 25, 26, 27], [3, 5, 6, 11, 16, 30, 31, 32, 35, 41], [76, 83, 91, 95, 123, 133, 134, 157, 191, 198], [3, 5, 6, 11, 16, 30, 31, 32, 35, 41], [2, 4, 8, 9, 10, 15, 19, 25, 26, 27], [3, 5, 6, 11, 16, 30, 31, 32, 35, 41], [20, 22, 48, 49, 64, 77, 98, 99, 105, 106], [3, 5, 6, 11, 16, 30, 31, 32, 35, 41], [3, 5, 6, 11, 16, 30, 31, 32, 35, 41], [1, 2, 3, 4, 5, 6, 7, 8, 9, 10], [2, 4, 8, 9, 10, 15, 19, 25, 26, 27], [14, 24, 29, 45, 61, 74, 86, 93, 116, 121], [3, 5, 6, 11, 16, 30, 31, 32, 35, 41], [1, 2, 3, 4, 5, 6, 7, 8, 9, 10], [3, 5, 6, 11, 16, 30, 31, 32, 35, 41]]\n"
     ]
    }
   ],
   "source": [
    "actual=test['actual'].values.tolist()\n",
    "content_predictions=test['content_predictions'].values.tolist()\n",
    "print(actual)\n",
    "print(content_predictions)"
   ]
  },
  {
   "cell_type": "code",
   "execution_count": 120,
   "metadata": {},
   "outputs": [
    {
     "data": {
      "text/plain": [
       "[0.015381895332390382,\n",
       " 0.02150929378652151,\n",
       " 0.02693126455502693,\n",
       " 0.02969841627019845,\n",
       " 0.03068851528009944,\n",
       " 0.033789122959915034,\n",
       " 0.035203550116916456,\n",
       " 0.035753605122417,\n",
       " 0.03654257290808446,\n",
       " 0.0382862472755212]"
      ]
     },
     "execution_count": 120,
     "metadata": {},
     "output_type": "execute_result"
    }
   ],
   "source": [
    "# calculate the mark score\n",
    "content_mark = []\n",
    "for K in np.arange(1, 11):\n",
    "    content_mark.extend([recmetrics.mark(actual, content_predictions, k=K)])\n",
    "content_mark"
   ]
  },
  {
   "cell_type": "code",
   "execution_count": 121,
   "metadata": {},
   "outputs": [
    {
     "data": {
      "image/png": "[encoded data removed]",
      "text/plain": [
       "<Figure size 1080x504 with 1 Axes>"
      ]
     },
     "metadata": {
      "needs_background": "light"
     },
     "output_type": "display_data"
    }
   ],
   "source": [
    "# generate a mark plot\n",
    "mark_scores = [content_mark]\n",
    "index = range(1,10+1)\n",
    "names = ['Content Filter']\n",
    "\n",
    "fig = plt.figure(figsize=(15, 7))\n",
    "recmetrics.mark_plot(mark_scores, model_names=names, k_range=index)"
   ]
  },
  {
   "cell_type": "code",
   "execution_count": 122,
   "metadata": {},
   "outputs": [],
   "source": [
    "import ml_metrics as metrics"
   ]
  },
  {
   "cell_type": "code",
   "execution_count": 123,
   "metadata": {},
   "outputs": [
    {
     "data": {
      "text/plain": [
       "[0.07920792079207921,\n",
       " 0.05693069306930693,\n",
       " 0.045104510451045104,\n",
       " 0.040291529152915284,\n",
       " 0.0364961496149615,\n",
       " 0.03682618261826182,\n",
       " 0.03631541725601131,\n",
       " 0.03623438236680811,\n",
       " 0.03680926624408472,\n",
       " 0.038406259276721325]"
      ]
     },
     "execution_count": 123,
     "metadata": {},
     "output_type": "execute_result"
    }
   ],
   "source": [
    "# for MAPK scpre\n",
    "content_mapk = []\n",
    "for K in np.arange(1, 11):\n",
    "    content_mapk.extend([metrics.mapk(actual, content_predictions, k=K)])\n",
    "content_mapk"
   ]
  },
  {
   "cell_type": "code",
   "execution_count": 124,
   "metadata": {},
   "outputs": [
    {
     "data": {
      "image/png": "[encoded data removed]",
      "text/plain": [
       "<Figure size 1080x504 with 1 Axes>"
      ]
     },
     "metadata": {
      "needs_background": "light"
     },
     "output_type": "display_data"
    }
   ],
   "source": [
    "# generate a mapk plot\n",
    "mapk_scores = [content_mapk]\n",
    "index = range(1,10+1)\n",
    "names = ['Content Filter']\n",
    "\n",
    "fig = plt.figure(figsize=(15, 7))\n",
    "recmetrics.mapk_plot(mapk_scores, model_names=names, k_range=index)"
   ]
  },
  {
   "cell_type": "code",
   "execution_count": 125,
   "metadata": {},
   "outputs": [],
   "source": [
    "# prediction coverage\n",
    "catalog = ratings.destination_id.unique().tolist()\n",
    "content_coverage = recmetrics.prediction_coverage(content_predictions, catalog)"
   ]
  },
  {
   "cell_type": "code",
   "execution_count": 126,
   "metadata": {},
   "outputs": [
    {
     "data": {
      "image/png": "[encoded data removed]",
      "text/plain": [
       "<Figure size 504x360 with 1 Axes>"
      ]
     },
     "metadata": {
      "needs_background": "light"
     },
     "output_type": "display_data"
    }
   ],
   "source": [
    "# plot of prediction coverage\n",
    "coverage_scores = [content_coverage]\n",
    "model_names = ['Content Filter']\n",
    "\n",
    "fig = plt.figure(figsize=(7, 5))\n",
    "recmetrics.coverage_plot(coverage_scores, model_names)"
   ]
  },
  {
   "cell_type": "code",
   "execution_count": 128,
   "metadata": {},
   "outputs": [
    {
     "data": {
      "text/html": [
       "<div>\n",
       "<style scoped>\n",
       "    .dataframe tbody tr th:only-of-type {\n",
       "        vertical-align: middle;\n",
       "    }\n",
       "\n",
       "    .dataframe tbody tr th {\n",
       "        vertical-align: top;\n",
       "    }\n",
       "\n",
       "    .dataframe thead th {\n",
       "        text-align: right;\n",
       "    }\n",
       "</style>\n",
       "<table border=\"1\" class=\"dataframe\">\n",
       "  <thead>\n",
       "    <tr style=\"text-align: right;\">\n",
       "      <th></th>\n",
       "      <th>history</th>\n",
       "      <th>art_and_architecture</th>\n",
       "      <th>nature</th>\n",
       "      <th>adventure</th>\n",
       "      <th>entertainment</th>\n",
       "      <th>health_and_lifestyle</th>\n",
       "      <th>food</th>\n",
       "      <th>industries</th>\n",
       "      <th>religious</th>\n",
       "    </tr>\n",
       "    <tr>\n",
       "      <th>destination_id</th>\n",
       "      <th></th>\n",
       "      <th></th>\n",
       "      <th></th>\n",
       "      <th></th>\n",
       "      <th></th>\n",
       "      <th></th>\n",
       "      <th></th>\n",
       "      <th></th>\n",
       "      <th></th>\n",
       "    </tr>\n",
       "  </thead>\n",
       "  <tbody>\n",
       "    <tr>\n",
       "      <th>0</th>\n",
       "      <td>1</td>\n",
       "      <td>1</td>\n",
       "      <td>0</td>\n",
       "      <td>0</td>\n",
       "      <td>0</td>\n",
       "      <td>0</td>\n",
       "      <td>0</td>\n",
       "      <td>0</td>\n",
       "      <td>1</td>\n",
       "    </tr>\n",
       "    <tr>\n",
       "      <th>1</th>\n",
       "      <td>0</td>\n",
       "      <td>0</td>\n",
       "      <td>1</td>\n",
       "      <td>0</td>\n",
       "      <td>0</td>\n",
       "      <td>0</td>\n",
       "      <td>0</td>\n",
       "      <td>0</td>\n",
       "      <td>0</td>\n",
       "    </tr>\n",
       "    <tr>\n",
       "      <th>2</th>\n",
       "      <td>0</td>\n",
       "      <td>0</td>\n",
       "      <td>1</td>\n",
       "      <td>0</td>\n",
       "      <td>0</td>\n",
       "      <td>0</td>\n",
       "      <td>0</td>\n",
       "      <td>0</td>\n",
       "      <td>0</td>\n",
       "    </tr>\n",
       "    <tr>\n",
       "      <th>3</th>\n",
       "      <td>1</td>\n",
       "      <td>1</td>\n",
       "      <td>0</td>\n",
       "      <td>0</td>\n",
       "      <td>0</td>\n",
       "      <td>0</td>\n",
       "      <td>0</td>\n",
       "      <td>0</td>\n",
       "      <td>1</td>\n",
       "    </tr>\n",
       "    <tr>\n",
       "      <th>4</th>\n",
       "      <td>0</td>\n",
       "      <td>0</td>\n",
       "      <td>1</td>\n",
       "      <td>0</td>\n",
       "      <td>0</td>\n",
       "      <td>0</td>\n",
       "      <td>0</td>\n",
       "      <td>0</td>\n",
       "      <td>0</td>\n",
       "    </tr>\n",
       "    <tr>\n",
       "      <th>...</th>\n",
       "      <td>...</td>\n",
       "      <td>...</td>\n",
       "      <td>...</td>\n",
       "      <td>...</td>\n",
       "      <td>...</td>\n",
       "      <td>...</td>\n",
       "      <td>...</td>\n",
       "      <td>...</td>\n",
       "      <td>...</td>\n",
       "    </tr>\n",
       "    <tr>\n",
       "      <th>195</th>\n",
       "      <td>1</td>\n",
       "      <td>1</td>\n",
       "      <td>1</td>\n",
       "      <td>0</td>\n",
       "      <td>0</td>\n",
       "      <td>0</td>\n",
       "      <td>0</td>\n",
       "      <td>0</td>\n",
       "      <td>0</td>\n",
       "    </tr>\n",
       "    <tr>\n",
       "      <th>196</th>\n",
       "      <td>1</td>\n",
       "      <td>1</td>\n",
       "      <td>1</td>\n",
       "      <td>0</td>\n",
       "      <td>0</td>\n",
       "      <td>0</td>\n",
       "      <td>0</td>\n",
       "      <td>0</td>\n",
       "      <td>0</td>\n",
       "    </tr>\n",
       "    <tr>\n",
       "      <th>197</th>\n",
       "      <td>1</td>\n",
       "      <td>1</td>\n",
       "      <td>0</td>\n",
       "      <td>0</td>\n",
       "      <td>0</td>\n",
       "      <td>0</td>\n",
       "      <td>0</td>\n",
       "      <td>0</td>\n",
       "      <td>1</td>\n",
       "    </tr>\n",
       "    <tr>\n",
       "      <th>198</th>\n",
       "      <td>0</td>\n",
       "      <td>0</td>\n",
       "      <td>0</td>\n",
       "      <td>0</td>\n",
       "      <td>1</td>\n",
       "      <td>0</td>\n",
       "      <td>0</td>\n",
       "      <td>0</td>\n",
       "      <td>0</td>\n",
       "    </tr>\n",
       "    <tr>\n",
       "      <th>199</th>\n",
       "      <td>1</td>\n",
       "      <td>1</td>\n",
       "      <td>1</td>\n",
       "      <td>0</td>\n",
       "      <td>0</td>\n",
       "      <td>0</td>\n",
       "      <td>0</td>\n",
       "      <td>0</td>\n",
       "      <td>0</td>\n",
       "    </tr>\n",
       "  </tbody>\n",
       "</table>\n",
       "<p>200 rows × 9 columns</p>\n",
       "</div>"
      ],
      "text/plain": [
       "                history  art_and_architecture  nature  adventure  \\\n",
       "destination_id                                                     \n",
       "0                     1                     1       0          0   \n",
       "1                     0                     0       1          0   \n",
       "2                     0                     0       1          0   \n",
       "3                     1                     1       0          0   \n",
       "4                     0                     0       1          0   \n",
       "...                 ...                   ...     ...        ...   \n",
       "195                   1                     1       1          0   \n",
       "196                   1                     1       1          0   \n",
       "197                   1                     1       0          0   \n",
       "198                   0                     0       0          0   \n",
       "199                   1                     1       1          0   \n",
       "\n",
       "                entertainment  health_and_lifestyle  food  industries  \\\n",
       "destination_id                                                          \n",
       "0                           0                     0     0           0   \n",
       "1                           0                     0     0           0   \n",
       "2                           0                     0     0           0   \n",
       "3                           0                     0     0           0   \n",
       "4                           0                     0     0           0   \n",
       "...                       ...                   ...   ...         ...   \n",
       "195                         0                     0     0           0   \n",
       "196                         0                     0     0           0   \n",
       "197                         0                     0     0           0   \n",
       "198                         1                     0     0           0   \n",
       "199                         0                     0     0           0   \n",
       "\n",
       "                religious  \n",
       "destination_id             \n",
       "0                       1  \n",
       "1                       0  \n",
       "2                       0  \n",
       "3                       1  \n",
       "4                       0  \n",
       "...                   ...  \n",
       "195                     0  \n",
       "196                     0  \n",
       "197                     1  \n",
       "198                     0  \n",
       "199                     0  \n",
       "\n",
       "[200 rows x 9 columns]"
      ]
     },
     "execution_count": 128,
     "metadata": {},
     "output_type": "execute_result"
    }
   ],
   "source": [
    "feature_df=destination_features[['history','art_and_architecture','nature','adventure', 'entertainment','health_and_lifestyle',\\\n",
    "                        'food','industries','religious']]\n",
    "feature_df\n"
   ]
  },
  {
   "cell_type": "code",
   "execution_count": 129,
   "metadata": {},
   "outputs": [
    {
     "data": {
      "text/plain": [
       "0.9498550336850633"
      ]
     },
     "execution_count": 129,
     "metadata": {},
     "output_type": "execute_result"
    }
   ],
   "source": [
    "recmetrics.intra_list_similarity(content_predictions, feature_df)"
   ]
  },
  {
   "cell_type": "code",
   "execution_count": null,
   "metadata": {},
   "outputs": [],
   "source": []
  }
 ],
 "metadata": {
  "kernelspec": {
   "display_name": "Python 3 (ipykernel)",
   "language": "python",
   "name": "python3"
  },
  "language_info": {
   "codemirror_mode": {
    "name": "ipython",
    "version": 3
   },
   "file_extension": ".py",
   "mimetype": "text/x-python",
   "name": "python",
   "nbconvert_exporter": "python",
   "pygments_lexer": "ipython3",
   "version": "3.9.7"
  }
 },
 "nbformat": 4,
 "nbformat_minor": 2
}
