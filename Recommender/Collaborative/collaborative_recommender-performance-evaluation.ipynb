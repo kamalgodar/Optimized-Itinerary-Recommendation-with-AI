{
 "cells": [
  {
   "cell_type": "markdown",
   "metadata": {},
   "source": [
    "# Recommend destinations based on collaborative filtering "
   ]
  },
  {
   "cell_type": "markdown",
   "metadata": {},
   "source": [
    "## Step 1: Import the Dependencies"
   ]
  },
  {
   "cell_type": "code",
   "execution_count": 1,
   "metadata": {},
   "outputs": [],
   "source": [
    "import numpy as np\n",
    "import pandas as pd\n",
    "import sklearn\n",
    "import matplotlib.pyplot as plt"
   ]
  },
  {
   "cell_type": "markdown",
   "metadata": {},
   "source": [
    "## Step 2: Load the Data"
   ]
  },
  {
   "cell_type": "code",
   "execution_count": 2,
   "metadata": {},
   "outputs": [
    {
     "data": {
      "text/html": [
       "<div>\n",
       "<style scoped>\n",
       "    .dataframe tbody tr th:only-of-type {\n",
       "        vertical-align: middle;\n",
       "    }\n",
       "\n",
       "    .dataframe tbody tr th {\n",
       "        vertical-align: top;\n",
       "    }\n",
       "\n",
       "    .dataframe thead th {\n",
       "        text-align: right;\n",
       "    }\n",
       "</style>\n",
       "<table border=\"1\" class=\"dataframe\">\n",
       "  <thead>\n",
       "    <tr style=\"text-align: right;\">\n",
       "      <th></th>\n",
       "      <th>destination_id</th>\n",
       "      <th>title</th>\n",
       "      <th>genre</th>\n",
       "      <th>history</th>\n",
       "      <th>art_and_architecture</th>\n",
       "      <th>nature</th>\n",
       "      <th>adventure</th>\n",
       "      <th>entertainment</th>\n",
       "      <th>health_and_lifestyle</th>\n",
       "      <th>food</th>\n",
       "      <th>industries</th>\n",
       "      <th>religious</th>\n",
       "    </tr>\n",
       "  </thead>\n",
       "  <tbody>\n",
       "    <tr>\n",
       "      <th>0</th>\n",
       "      <td>0</td>\n",
       "      <td>Boudhanath Stupa</td>\n",
       "      <td>['Religious Sites']</td>\n",
       "      <td>True</td>\n",
       "      <td>True</td>\n",
       "      <td>False</td>\n",
       "      <td>False</td>\n",
       "      <td>False</td>\n",
       "      <td>False</td>\n",
       "      <td>False</td>\n",
       "      <td>False</td>\n",
       "      <td>True</td>\n",
       "    </tr>\n",
       "    <tr>\n",
       "      <th>1</th>\n",
       "      <td>1</td>\n",
       "      <td>Phewa Tal (Fewa Lake)</td>\n",
       "      <td>['Bodies of Water']</td>\n",
       "      <td>False</td>\n",
       "      <td>False</td>\n",
       "      <td>True</td>\n",
       "      <td>False</td>\n",
       "      <td>False</td>\n",
       "      <td>False</td>\n",
       "      <td>False</td>\n",
       "      <td>False</td>\n",
       "      <td>False</td>\n",
       "    </tr>\n",
       "    <tr>\n",
       "      <th>2</th>\n",
       "      <td>2</td>\n",
       "      <td>Sarangkot</td>\n",
       "      <td>['Mountains']</td>\n",
       "      <td>False</td>\n",
       "      <td>False</td>\n",
       "      <td>True</td>\n",
       "      <td>False</td>\n",
       "      <td>False</td>\n",
       "      <td>False</td>\n",
       "      <td>False</td>\n",
       "      <td>False</td>\n",
       "      <td>False</td>\n",
       "    </tr>\n",
       "    <tr>\n",
       "      <th>3</th>\n",
       "      <td>3</td>\n",
       "      <td>Swayambhunath Temple</td>\n",
       "      <td>['Religious Sites']</td>\n",
       "      <td>True</td>\n",
       "      <td>True</td>\n",
       "      <td>False</td>\n",
       "      <td>False</td>\n",
       "      <td>False</td>\n",
       "      <td>False</td>\n",
       "      <td>False</td>\n",
       "      <td>False</td>\n",
       "      <td>True</td>\n",
       "    </tr>\n",
       "    <tr>\n",
       "      <th>4</th>\n",
       "      <td>4</td>\n",
       "      <td>Poon Hill</td>\n",
       "      <td>['Mountains']</td>\n",
       "      <td>False</td>\n",
       "      <td>False</td>\n",
       "      <td>True</td>\n",
       "      <td>False</td>\n",
       "      <td>False</td>\n",
       "      <td>False</td>\n",
       "      <td>False</td>\n",
       "      <td>False</td>\n",
       "      <td>False</td>\n",
       "    </tr>\n",
       "  </tbody>\n",
       "</table>\n",
       "</div>"
      ],
      "text/plain": [
       "   destination_id                  title                genre  history  \\\n",
       "0               0       Boudhanath Stupa  ['Religious Sites']     True   \n",
       "1               1  Phewa Tal (Fewa Lake)  ['Bodies of Water']    False   \n",
       "2               2              Sarangkot        ['Mountains']    False   \n",
       "3               3   Swayambhunath Temple  ['Religious Sites']     True   \n",
       "4               4              Poon Hill        ['Mountains']    False   \n",
       "\n",
       "   art_and_architecture  nature  adventure  entertainment  \\\n",
       "0                  True   False      False          False   \n",
       "1                 False    True      False          False   \n",
       "2                 False    True      False          False   \n",
       "3                  True   False      False          False   \n",
       "4                 False    True      False          False   \n",
       "\n",
       "   health_and_lifestyle   food  industries  religious  \n",
       "0                 False  False       False       True  \n",
       "1                 False  False       False      False  \n",
       "2                 False  False       False      False  \n",
       "3                 False  False       False       True  \n",
       "4                 False  False       False      False  "
      ]
     },
     "execution_count": 2,
     "metadata": {},
     "output_type": "execute_result"
    }
   ],
   "source": [
    "destinations = pd.read_csv(\"sample_destinations.csv\")\n",
    "destinations.head()"
   ]
  },
  {
   "cell_type": "code",
   "execution_count": 3,
   "metadata": {},
   "outputs": [
    {
     "data": {
      "text/html": [
       "<div>\n",
       "<style scoped>\n",
       "    .dataframe tbody tr th:only-of-type {\n",
       "        vertical-align: middle;\n",
       "    }\n",
       "\n",
       "    .dataframe tbody tr th {\n",
       "        vertical-align: top;\n",
       "    }\n",
       "\n",
       "    .dataframe thead th {\n",
       "        text-align: right;\n",
       "    }\n",
       "</style>\n",
       "<table border=\"1\" class=\"dataframe\">\n",
       "  <thead>\n",
       "    <tr style=\"text-align: right;\">\n",
       "      <th></th>\n",
       "      <th>user_id</th>\n",
       "      <th>destination_id</th>\n",
       "      <th>rating</th>\n",
       "    </tr>\n",
       "  </thead>\n",
       "  <tbody>\n",
       "    <tr>\n",
       "      <th>0</th>\n",
       "      <td>0</td>\n",
       "      <td>62</td>\n",
       "      <td>5</td>\n",
       "    </tr>\n",
       "    <tr>\n",
       "      <th>1</th>\n",
       "      <td>0</td>\n",
       "      <td>120</td>\n",
       "      <td>4</td>\n",
       "    </tr>\n",
       "    <tr>\n",
       "      <th>2</th>\n",
       "      <td>0</td>\n",
       "      <td>28</td>\n",
       "      <td>4</td>\n",
       "    </tr>\n",
       "    <tr>\n",
       "      <th>3</th>\n",
       "      <td>0</td>\n",
       "      <td>4</td>\n",
       "      <td>5</td>\n",
       "    </tr>\n",
       "    <tr>\n",
       "      <th>4</th>\n",
       "      <td>0</td>\n",
       "      <td>100</td>\n",
       "      <td>3</td>\n",
       "    </tr>\n",
       "  </tbody>\n",
       "</table>\n",
       "</div>"
      ],
      "text/plain": [
       "   user_id  destination_id  rating\n",
       "0        0              62       5\n",
       "1        0             120       4\n",
       "2        0              28       4\n",
       "3        0               4       5\n",
       "4        0             100       3"
      ]
     },
     "execution_count": 3,
     "metadata": {},
     "output_type": "execute_result"
    }
   ],
   "source": [
    "ratings=pd.read_csv(\"sample_user_ratings.csv\")\n",
    "ratings.head()"
   ]
  },
  {
   "cell_type": "markdown",
   "metadata": {},
   "source": [
    "## Step 3: Exploratory Data Analysis\n"
   ]
  },
  {
   "cell_type": "code",
   "execution_count": 4,
   "metadata": {},
   "outputs": [
    {
     "name": "stdout",
     "output_type": "stream",
     "text": [
      "Number of ratings: 2000\n",
      "Number of unique rated destination_id's: 200\n",
      "Number of unique users: 101\n",
      "Average number of ratings per user: 19.8\n",
      "Average number of ratings per destination: 10.0\n"
     ]
    }
   ],
   "source": [
    "n_ratings = len(ratings)\n",
    "n_destinations = ratings['destination_id'].nunique() #unique rated destinations\n",
    "n_users = ratings['user_id'].nunique()\n",
    "\n",
    "print(f\"Number of ratings: {n_ratings}\")\n",
    "print(f\"Number of unique rated destination_id's: {n_destinations}\")\n",
    "print(f\"Number of unique users: {n_users}\")\n",
    "print(f\"Average number of ratings per user: {round(n_ratings/n_users, 2)}\")\n",
    "print(f\"Average number of ratings per destination: {round(n_ratings/n_destinations, 2)}\")"
   ]
  },
  {
   "cell_type": "markdown",
   "metadata": {},
   "source": [
    "Now, let's take a look at users' rating counts. We can do this using pandas' `groupby()` and `count()` which groups the data by `user_id`'s and counts the number of ratings for each userId. "
   ]
  },
  {
   "cell_type": "code",
   "execution_count": 5,
   "metadata": {},
   "outputs": [
    {
     "data": {
      "text/html": [
       "<div>\n",
       "<style scoped>\n",
       "    .dataframe tbody tr th:only-of-type {\n",
       "        vertical-align: middle;\n",
       "    }\n",
       "\n",
       "    .dataframe tbody tr th {\n",
       "        vertical-align: top;\n",
       "    }\n",
       "\n",
       "    .dataframe thead th {\n",
       "        text-align: right;\n",
       "    }\n",
       "</style>\n",
       "<table border=\"1\" class=\"dataframe\">\n",
       "  <thead>\n",
       "    <tr style=\"text-align: right;\">\n",
       "      <th></th>\n",
       "      <th>user_id</th>\n",
       "      <th>n_ratings</th>\n",
       "    </tr>\n",
       "  </thead>\n",
       "  <tbody>\n",
       "    <tr>\n",
       "      <th>0</th>\n",
       "      <td>0</td>\n",
       "      <td>24</td>\n",
       "    </tr>\n",
       "    <tr>\n",
       "      <th>1</th>\n",
       "      <td>1</td>\n",
       "      <td>14</td>\n",
       "    </tr>\n",
       "    <tr>\n",
       "      <th>2</th>\n",
       "      <td>2</td>\n",
       "      <td>20</td>\n",
       "    </tr>\n",
       "    <tr>\n",
       "      <th>3</th>\n",
       "      <td>3</td>\n",
       "      <td>26</td>\n",
       "    </tr>\n",
       "    <tr>\n",
       "      <th>4</th>\n",
       "      <td>4</td>\n",
       "      <td>22</td>\n",
       "    </tr>\n",
       "  </tbody>\n",
       "</table>\n",
       "</div>"
      ],
      "text/plain": [
       "   user_id  n_ratings\n",
       "0        0         24\n",
       "1        1         14\n",
       "2        2         20\n",
       "3        3         26\n",
       "4        4         22"
      ]
     },
     "execution_count": 5,
     "metadata": {},
     "output_type": "execute_result"
    }
   ],
   "source": [
    "user_freq = ratings[['user_id', 'destination_id']].groupby('user_id').count().reset_index()\n",
    "user_freq.columns = ['user_id', 'n_ratings']\n",
    "user_freq.head()"
   ]
  },
  {
   "cell_type": "code",
   "execution_count": 6,
   "metadata": {},
   "outputs": [
    {
     "name": "stdout",
     "output_type": "stream",
     "text": [
      "Mean number of ratings for a given user: 19.80.\n"
     ]
    }
   ],
   "source": [
    "print(f\"Mean number of ratings for a given user: {user_freq['n_ratings'].mean():.2f}.\")"
   ]
  },
  {
   "cell_type": "markdown",
   "metadata": {},
   "source": [
    "### Destinations with the lowest and highest average rating"
   ]
  },
  {
   "cell_type": "code",
   "execution_count": 7,
   "metadata": {},
   "outputs": [
    {
     "data": {
      "text/html": [
       "<div>\n",
       "<style scoped>\n",
       "    .dataframe tbody tr th:only-of-type {\n",
       "        vertical-align: middle;\n",
       "    }\n",
       "\n",
       "    .dataframe tbody tr th {\n",
       "        vertical-align: top;\n",
       "    }\n",
       "\n",
       "    .dataframe thead th {\n",
       "        text-align: right;\n",
       "    }\n",
       "</style>\n",
       "<table border=\"1\" class=\"dataframe\">\n",
       "  <thead>\n",
       "    <tr style=\"text-align: right;\">\n",
       "      <th></th>\n",
       "      <th>destination_id</th>\n",
       "      <th>title</th>\n",
       "      <th>genre</th>\n",
       "      <th>history</th>\n",
       "      <th>art_and_architecture</th>\n",
       "      <th>nature</th>\n",
       "      <th>adventure</th>\n",
       "      <th>entertainment</th>\n",
       "      <th>health_and_lifestyle</th>\n",
       "      <th>food</th>\n",
       "      <th>industries</th>\n",
       "      <th>religious</th>\n",
       "    </tr>\n",
       "  </thead>\n",
       "  <tbody>\n",
       "    <tr>\n",
       "      <th>131</th>\n",
       "      <td>131</td>\n",
       "      <td>Mera Peak</td>\n",
       "      <td>['Mountains']</td>\n",
       "      <td>False</td>\n",
       "      <td>False</td>\n",
       "      <td>True</td>\n",
       "      <td>False</td>\n",
       "      <td>False</td>\n",
       "      <td>False</td>\n",
       "      <td>False</td>\n",
       "      <td>False</td>\n",
       "      <td>False</td>\n",
       "    </tr>\n",
       "  </tbody>\n",
       "</table>\n",
       "</div>"
      ],
      "text/plain": [
       "     destination_id      title          genre  history  art_and_architecture  \\\n",
       "131             131  Mera Peak  ['Mountains']    False                 False   \n",
       "\n",
       "     nature  adventure  entertainment  health_and_lifestyle   food  \\\n",
       "131    True      False          False                 False  False   \n",
       "\n",
       "     industries  religious  \n",
       "131       False      False  "
      ]
     },
     "execution_count": 7,
     "metadata": {},
     "output_type": "execute_result"
    }
   ],
   "source": [
    "mean_rating = ratings.groupby('destination_id')[['rating']].mean()\n",
    "\n",
    "lowest_rated = mean_rating['rating'].idxmin()\n",
    "destinations[destinations['destination_id'] == lowest_rated]"
   ]
  },
  {
   "cell_type": "code",
   "execution_count": 8,
   "metadata": {},
   "outputs": [
    {
     "data": {
      "text/html": [
       "<div>\n",
       "<style scoped>\n",
       "    .dataframe tbody tr th:only-of-type {\n",
       "        vertical-align: middle;\n",
       "    }\n",
       "\n",
       "    .dataframe tbody tr th {\n",
       "        vertical-align: top;\n",
       "    }\n",
       "\n",
       "    .dataframe thead th {\n",
       "        text-align: right;\n",
       "    }\n",
       "</style>\n",
       "<table border=\"1\" class=\"dataframe\">\n",
       "  <thead>\n",
       "    <tr style=\"text-align: right;\">\n",
       "      <th></th>\n",
       "      <th>destination_id</th>\n",
       "      <th>title</th>\n",
       "      <th>genre</th>\n",
       "      <th>history</th>\n",
       "      <th>art_and_architecture</th>\n",
       "      <th>nature</th>\n",
       "      <th>adventure</th>\n",
       "      <th>entertainment</th>\n",
       "      <th>health_and_lifestyle</th>\n",
       "      <th>food</th>\n",
       "      <th>industries</th>\n",
       "      <th>religious</th>\n",
       "    </tr>\n",
       "  </thead>\n",
       "  <tbody>\n",
       "    <tr>\n",
       "      <th>11</th>\n",
       "      <td>11</td>\n",
       "      <td>Golden Temple (Hiranya Varna Mahavihar)</td>\n",
       "      <td>['Religious Sites']</td>\n",
       "      <td>True</td>\n",
       "      <td>True</td>\n",
       "      <td>False</td>\n",
       "      <td>False</td>\n",
       "      <td>False</td>\n",
       "      <td>False</td>\n",
       "      <td>False</td>\n",
       "      <td>False</td>\n",
       "      <td>True</td>\n",
       "    </tr>\n",
       "  </tbody>\n",
       "</table>\n",
       "</div>"
      ],
      "text/plain": [
       "    destination_id                                    title  \\\n",
       "11              11  Golden Temple (Hiranya Varna Mahavihar)   \n",
       "\n",
       "                  genre  history  art_and_architecture  nature  adventure  \\\n",
       "11  ['Religious Sites']     True                  True   False      False   \n",
       "\n",
       "    entertainment  health_and_lifestyle   food  industries  religious  \n",
       "11          False                 False  False       False       True  "
      ]
     },
     "execution_count": 8,
     "metadata": {},
     "output_type": "execute_result"
    }
   ],
   "source": [
    "highest_rated = mean_rating['rating'].idxmax()\n",
    "destinations[destinations['destination_id'] == highest_rated]"
   ]
  },
  {
   "cell_type": "code",
   "execution_count": 9,
   "metadata": {},
   "outputs": [
    {
     "data": {
      "text/html": [
       "<div>\n",
       "<style scoped>\n",
       "    .dataframe tbody tr th:only-of-type {\n",
       "        vertical-align: middle;\n",
       "    }\n",
       "\n",
       "    .dataframe tbody tr th {\n",
       "        vertical-align: top;\n",
       "    }\n",
       "\n",
       "    .dataframe thead th {\n",
       "        text-align: right;\n",
       "    }\n",
       "</style>\n",
       "<table border=\"1\" class=\"dataframe\">\n",
       "  <thead>\n",
       "    <tr style=\"text-align: right;\">\n",
       "      <th></th>\n",
       "      <th>user_id</th>\n",
       "      <th>destination_id</th>\n",
       "      <th>rating</th>\n",
       "    </tr>\n",
       "  </thead>\n",
       "  <tbody>\n",
       "    <tr>\n",
       "      <th>846</th>\n",
       "      <td>41</td>\n",
       "      <td>11</td>\n",
       "      <td>5</td>\n",
       "    </tr>\n",
       "    <tr>\n",
       "      <th>931</th>\n",
       "      <td>46</td>\n",
       "      <td>11</td>\n",
       "      <td>5</td>\n",
       "    </tr>\n",
       "    <tr>\n",
       "      <th>1047</th>\n",
       "      <td>52</td>\n",
       "      <td>11</td>\n",
       "      <td>5</td>\n",
       "    </tr>\n",
       "    <tr>\n",
       "      <th>1655</th>\n",
       "      <td>82</td>\n",
       "      <td>11</td>\n",
       "      <td>5</td>\n",
       "    </tr>\n",
       "    <tr>\n",
       "      <th>1941</th>\n",
       "      <td>97</td>\n",
       "      <td>11</td>\n",
       "      <td>5</td>\n",
       "    </tr>\n",
       "  </tbody>\n",
       "</table>\n",
       "</div>"
      ],
      "text/plain": [
       "      user_id  destination_id  rating\n",
       "846        41              11       5\n",
       "931        46              11       5\n",
       "1047       52              11       5\n",
       "1655       82              11       5\n",
       "1941       97              11       5"
      ]
     },
     "execution_count": 9,
     "metadata": {},
     "output_type": "execute_result"
    }
   ],
   "source": [
    "ratings[ratings['destination_id']==highest_rated]"
   ]
  },
  {
   "cell_type": "markdown",
   "metadata": {},
   "source": [
    "Better approach is to look at the [Bayesian average](https://en.wikipedia.org/wiki/Bayesian_average)."
   ]
  },
  {
   "cell_type": "markdown",
   "metadata": {},
   "source": [
    "#### Bayesian Average\n",
    "\n",
    "Bayesian Average is defined as:\n",
    "\n",
    "$r_{i} = \\frac{C \\times m + \\Sigma{\\text{reviews}}}{C+N}$\n",
    "\n",
    "where $C$ represents our confidence, $m$ represents our prior, and $N$ is the total number of reviews for destination $i$. In this case, our prior will be the average rating across all destinations. By defintion, C represents \"the typical dataset size\". Let's make $C$ be the average number of ratings for a given destination."
   ]
  },
  {
   "cell_type": "code",
   "execution_count": 10,
   "metadata": {},
   "outputs": [
    {
     "data": {
      "text/html": [
       "<div>\n",
       "<style scoped>\n",
       "    .dataframe tbody tr th:only-of-type {\n",
       "        vertical-align: middle;\n",
       "    }\n",
       "\n",
       "    .dataframe tbody tr th {\n",
       "        vertical-align: top;\n",
       "    }\n",
       "\n",
       "    .dataframe thead th {\n",
       "        text-align: right;\n",
       "    }\n",
       "</style>\n",
       "<table border=\"1\" class=\"dataframe\">\n",
       "  <thead>\n",
       "    <tr style=\"text-align: right;\">\n",
       "      <th></th>\n",
       "      <th>count</th>\n",
       "      <th>mean</th>\n",
       "    </tr>\n",
       "    <tr>\n",
       "      <th>destination_id</th>\n",
       "      <th></th>\n",
       "      <th></th>\n",
       "    </tr>\n",
       "  </thead>\n",
       "  <tbody>\n",
       "    <tr>\n",
       "      <th>0</th>\n",
       "      <td>9</td>\n",
       "      <td>4.555556</td>\n",
       "    </tr>\n",
       "    <tr>\n",
       "      <th>1</th>\n",
       "      <td>9</td>\n",
       "      <td>4.333333</td>\n",
       "    </tr>\n",
       "    <tr>\n",
       "      <th>2</th>\n",
       "      <td>15</td>\n",
       "      <td>4.466667</td>\n",
       "    </tr>\n",
       "    <tr>\n",
       "      <th>3</th>\n",
       "      <td>5</td>\n",
       "      <td>4.600000</td>\n",
       "    </tr>\n",
       "    <tr>\n",
       "      <th>4</th>\n",
       "      <td>8</td>\n",
       "      <td>4.750000</td>\n",
       "    </tr>\n",
       "    <tr>\n",
       "      <th>...</th>\n",
       "      <td>...</td>\n",
       "      <td>...</td>\n",
       "    </tr>\n",
       "    <tr>\n",
       "      <th>195</th>\n",
       "      <td>6</td>\n",
       "      <td>2.833333</td>\n",
       "    </tr>\n",
       "    <tr>\n",
       "      <th>196</th>\n",
       "      <td>11</td>\n",
       "      <td>3.000000</td>\n",
       "    </tr>\n",
       "    <tr>\n",
       "      <th>197</th>\n",
       "      <td>12</td>\n",
       "      <td>3.000000</td>\n",
       "    </tr>\n",
       "    <tr>\n",
       "      <th>198</th>\n",
       "      <td>9</td>\n",
       "      <td>3.222222</td>\n",
       "    </tr>\n",
       "    <tr>\n",
       "      <th>199</th>\n",
       "      <td>8</td>\n",
       "      <td>3.625000</td>\n",
       "    </tr>\n",
       "  </tbody>\n",
       "</table>\n",
       "<p>200 rows × 2 columns</p>\n",
       "</div>"
      ],
      "text/plain": [
       "                count      mean\n",
       "destination_id                 \n",
       "0                   9  4.555556\n",
       "1                   9  4.333333\n",
       "2                  15  4.466667\n",
       "3                   5  4.600000\n",
       "4                   8  4.750000\n",
       "...               ...       ...\n",
       "195                 6  2.833333\n",
       "196                11  3.000000\n",
       "197                12  3.000000\n",
       "198                 9  3.222222\n",
       "199                 8  3.625000\n",
       "\n",
       "[200 rows x 2 columns]"
      ]
     },
     "execution_count": 10,
     "metadata": {},
     "output_type": "execute_result"
    }
   ],
   "source": [
    "destination_stats = ratings.groupby('destination_id')[['rating']].agg(['count', 'mean'])\n",
    "destination_stats.columns = destination_stats.columns.droplevel()\n",
    "destination_stats"
   ]
  },
  {
   "cell_type": "code",
   "execution_count": 11,
   "metadata": {},
   "outputs": [],
   "source": [
    "C = destination_stats['count'].mean()\n",
    "m = destination_stats['mean'].mean()\n",
    "\n",
    "def bayesian_avg(ratings):\n",
    "    bayesian_avg = (C*m+ratings.sum())/(C+ratings.count())\n",
    "    return bayesian_avg\n",
    "\n",
    "bayesian_avg_ratings = ratings.groupby('destination_id')['rating'].agg(bayesian_avg).reset_index()\n",
    "bayesian_avg_ratings.columns = ['destination_id', 'bayesian_avg']\n",
    "destination_stats = destination_stats.merge(bayesian_avg_ratings, on='destination_id')"
   ]
  },
  {
   "cell_type": "code",
   "execution_count": 12,
   "metadata": {},
   "outputs": [
    {
     "data": {
      "text/html": [
       "<div>\n",
       "<style scoped>\n",
       "    .dataframe tbody tr th:only-of-type {\n",
       "        vertical-align: middle;\n",
       "    }\n",
       "\n",
       "    .dataframe tbody tr th {\n",
       "        vertical-align: top;\n",
       "    }\n",
       "\n",
       "    .dataframe thead th {\n",
       "        text-align: right;\n",
       "    }\n",
       "</style>\n",
       "<table border=\"1\" class=\"dataframe\">\n",
       "  <thead>\n",
       "    <tr style=\"text-align: right;\">\n",
       "      <th></th>\n",
       "      <th>destination_id</th>\n",
       "      <th>count</th>\n",
       "      <th>mean</th>\n",
       "      <th>bayesian_avg</th>\n",
       "      <th>title</th>\n",
       "    </tr>\n",
       "  </thead>\n",
       "  <tbody>\n",
       "    <tr>\n",
       "      <th>58</th>\n",
       "      <td>58</td>\n",
       "      <td>18</td>\n",
       "      <td>4.722222</td>\n",
       "      <td>4.379142</td>\n",
       "      <td>Langtang Valley</td>\n",
       "    </tr>\n",
       "    <tr>\n",
       "      <th>30</th>\n",
       "      <td>30</td>\n",
       "      <td>16</td>\n",
       "      <td>4.687500</td>\n",
       "      <td>4.331384</td>\n",
       "      <td>Muktinath Temple</td>\n",
       "    </tr>\n",
       "    <tr>\n",
       "      <th>74</th>\n",
       "      <td>74</td>\n",
       "      <td>13</td>\n",
       "      <td>4.769231</td>\n",
       "      <td>4.331129</td>\n",
       "      <td>Babar Mahal Revisted</td>\n",
       "    </tr>\n",
       "    <tr>\n",
       "      <th>67</th>\n",
       "      <td>67</td>\n",
       "      <td>13</td>\n",
       "      <td>4.769231</td>\n",
       "      <td>4.331129</td>\n",
       "      <td>Tushita-Nepal</td>\n",
       "    </tr>\n",
       "    <tr>\n",
       "      <th>86</th>\n",
       "      <td>86</td>\n",
       "      <td>11</td>\n",
       "      <td>4.818182</td>\n",
       "      <td>4.315047</td>\n",
       "      <td>Makwanpur Gadhi</td>\n",
       "    </tr>\n",
       "  </tbody>\n",
       "</table>\n",
       "</div>"
      ],
      "text/plain": [
       "    destination_id  count      mean  bayesian_avg                 title\n",
       "58              58     18  4.722222      4.379142       Langtang Valley\n",
       "30              30     16  4.687500      4.331384      Muktinath Temple\n",
       "74              74     13  4.769231      4.331129  Babar Mahal Revisted\n",
       "67              67     13  4.769231      4.331129         Tushita-Nepal\n",
       "86              86     11  4.818182      4.315047       Makwanpur Gadhi"
      ]
     },
     "execution_count": 12,
     "metadata": {},
     "output_type": "execute_result"
    }
   ],
   "source": [
    "destination_stats = destination_stats.merge(destinations[['destination_id', 'title']])\n",
    "destination_stats.sort_values('bayesian_avg', ascending=False).head()"
   ]
  },
  {
   "cell_type": "markdown",
   "metadata": {},
   "source": [
    "### Destinations with the least Bayesian averages "
   ]
  },
  {
   "cell_type": "code",
   "execution_count": 13,
   "metadata": {},
   "outputs": [
    {
     "data": {
      "text/html": [
       "<div>\n",
       "<style scoped>\n",
       "    .dataframe tbody tr th:only-of-type {\n",
       "        vertical-align: middle;\n",
       "    }\n",
       "\n",
       "    .dataframe tbody tr th {\n",
       "        vertical-align: top;\n",
       "    }\n",
       "\n",
       "    .dataframe thead th {\n",
       "        text-align: right;\n",
       "    }\n",
       "</style>\n",
       "<table border=\"1\" class=\"dataframe\">\n",
       "  <thead>\n",
       "    <tr style=\"text-align: right;\">\n",
       "      <th></th>\n",
       "      <th>destination_id</th>\n",
       "      <th>count</th>\n",
       "      <th>mean</th>\n",
       "      <th>bayesian_avg</th>\n",
       "      <th>title</th>\n",
       "    </tr>\n",
       "  </thead>\n",
       "  <tbody>\n",
       "    <tr>\n",
       "      <th>184</th>\n",
       "      <td>184</td>\n",
       "      <td>12</td>\n",
       "      <td>2.416667</td>\n",
       "      <td>3.027999</td>\n",
       "      <td>Image Ark</td>\n",
       "    </tr>\n",
       "    <tr>\n",
       "      <th>132</th>\n",
       "      <td>132</td>\n",
       "      <td>9</td>\n",
       "      <td>2.333333</td>\n",
       "      <td>3.085051</td>\n",
       "      <td>Akash Bhairav Temple</td>\n",
       "    </tr>\n",
       "    <tr>\n",
       "      <th>139</th>\n",
       "      <td>139</td>\n",
       "      <td>18</td>\n",
       "      <td>2.777778</td>\n",
       "      <td>3.129142</td>\n",
       "      <td>Sauraha Tharu Culture House</td>\n",
       "    </tr>\n",
       "    <tr>\n",
       "      <th>180</th>\n",
       "      <td>180</td>\n",
       "      <td>13</td>\n",
       "      <td>2.692308</td>\n",
       "      <td>3.157216</td>\n",
       "      <td>Dattatreya Temple</td>\n",
       "    </tr>\n",
       "    <tr>\n",
       "      <th>111</th>\n",
       "      <td>111</td>\n",
       "      <td>12</td>\n",
       "      <td>2.666667</td>\n",
       "      <td>3.164363</td>\n",
       "      <td>Rara Lake</td>\n",
       "    </tr>\n",
       "  </tbody>\n",
       "</table>\n",
       "</div>"
      ],
      "text/plain": [
       "     destination_id  count      mean  bayesian_avg  \\\n",
       "184             184     12  2.416667      3.027999   \n",
       "132             132      9  2.333333      3.085051   \n",
       "139             139     18  2.777778      3.129142   \n",
       "180             180     13  2.692308      3.157216   \n",
       "111             111     12  2.666667      3.164363   \n",
       "\n",
       "                           title  \n",
       "184                    Image Ark  \n",
       "132         Akash Bhairav Temple  \n",
       "139  Sauraha Tharu Culture House  \n",
       "180            Dattatreya Temple  \n",
       "111                    Rara Lake  "
      ]
     },
     "execution_count": 13,
     "metadata": {},
     "output_type": "execute_result"
    }
   ],
   "source": [
    "destination_stats.sort_values('bayesian_avg', ascending=True).head()"
   ]
  },
  {
   "cell_type": "markdown",
   "metadata": {},
   "source": [
    "### Destinations with the highest Bayesian averages"
   ]
  },
  {
   "cell_type": "code",
   "execution_count": 14,
   "metadata": {},
   "outputs": [
    {
     "data": {
      "text/html": [
       "<div>\n",
       "<style scoped>\n",
       "    .dataframe tbody tr th:only-of-type {\n",
       "        vertical-align: middle;\n",
       "    }\n",
       "\n",
       "    .dataframe tbody tr th {\n",
       "        vertical-align: top;\n",
       "    }\n",
       "\n",
       "    .dataframe thead th {\n",
       "        text-align: right;\n",
       "    }\n",
       "</style>\n",
       "<table border=\"1\" class=\"dataframe\">\n",
       "  <thead>\n",
       "    <tr style=\"text-align: right;\">\n",
       "      <th></th>\n",
       "      <th>destination_id</th>\n",
       "      <th>count</th>\n",
       "      <th>mean</th>\n",
       "      <th>bayesian_avg</th>\n",
       "      <th>title</th>\n",
       "    </tr>\n",
       "  </thead>\n",
       "  <tbody>\n",
       "    <tr>\n",
       "      <th>58</th>\n",
       "      <td>58</td>\n",
       "      <td>18</td>\n",
       "      <td>4.722222</td>\n",
       "      <td>4.379142</td>\n",
       "      <td>Langtang Valley</td>\n",
       "    </tr>\n",
       "    <tr>\n",
       "      <th>30</th>\n",
       "      <td>30</td>\n",
       "      <td>16</td>\n",
       "      <td>4.687500</td>\n",
       "      <td>4.331384</td>\n",
       "      <td>Muktinath Temple</td>\n",
       "    </tr>\n",
       "    <tr>\n",
       "      <th>74</th>\n",
       "      <td>74</td>\n",
       "      <td>13</td>\n",
       "      <td>4.769231</td>\n",
       "      <td>4.331129</td>\n",
       "      <td>Babar Mahal Revisted</td>\n",
       "    </tr>\n",
       "    <tr>\n",
       "      <th>67</th>\n",
       "      <td>67</td>\n",
       "      <td>13</td>\n",
       "      <td>4.769231</td>\n",
       "      <td>4.331129</td>\n",
       "      <td>Tushita-Nepal</td>\n",
       "    </tr>\n",
       "    <tr>\n",
       "      <th>86</th>\n",
       "      <td>86</td>\n",
       "      <td>11</td>\n",
       "      <td>4.818182</td>\n",
       "      <td>4.315047</td>\n",
       "      <td>Makwanpur Gadhi</td>\n",
       "    </tr>\n",
       "  </tbody>\n",
       "</table>\n",
       "</div>"
      ],
      "text/plain": [
       "    destination_id  count      mean  bayesian_avg                 title\n",
       "58              58     18  4.722222      4.379142       Langtang Valley\n",
       "30              30     16  4.687500      4.331384      Muktinath Temple\n",
       "74              74     13  4.769231      4.331129  Babar Mahal Revisted\n",
       "67              67     13  4.769231      4.331129         Tushita-Nepal\n",
       "86              86     11  4.818182      4.315047       Makwanpur Gadhi"
      ]
     },
     "execution_count": 14,
     "metadata": {},
     "output_type": "execute_result"
    }
   ],
   "source": [
    "destination_stats.sort_values('bayesian_avg', ascending=False).head()"
   ]
  },
  {
   "cell_type": "markdown",
   "metadata": {},
   "source": [
    "## Step 4: Transforming the data\n",
    "\n",
    "We will be using a technique called [collaborative filtering](https://en.wikipedia.org/wiki/Collaborative_filtering) to generate user recommendations. This technique is based on the assumption of \"homophily\" - similar users like similar things. Collaborative filtering is a type of unsupervised learning that makes predictions about the interests of a user by learning from the interests of a larger population.\n",
    "\n",
    "The first step of collaborative filtering is to transform our data into a `user-item matrix` - also known as a \"utility\" matrix. In this matrix, rows represent users and columns represent items. The beauty of collaborative filtering is that it doesn't require any information about the users or items to generate recommendations. \n",
    "\n"
   ]
  },
  {
   "cell_type": "markdown",
   "metadata": {},
   "source": [
    "The `create_X()` function outputs a sparse matrix X with four mapper dictionaries:\n",
    "- **user_mapper:** maps user id to user index\n",
    "- **movie_mapper:** maps movie id to movie index\n",
    "- **user_inv_mapper:** maps user index to user id\n",
    "- **movie_inv_mapper:** maps movie index to movie id\n",
    "\n",
    "We need these dictionaries because they map which row and column of the utility matrix corresponds to which user ID and movie ID, respectively.\n",
    "\n",
    "The **X** (user-item) matrix is a [scipy.sparse.csr_matrix](scipylinkhere) which stores the data sparsely."
   ]
  },
  {
   "cell_type": "code",
   "execution_count": 15,
   "metadata": {},
   "outputs": [],
   "source": [
    "from scipy.sparse import csr_matrix\n",
    "\n",
    "def create_X(df):\n",
    "    \"\"\"\n",
    "    Generates a sparse matrix from ratings dataframe.\n",
    "    \n",
    "    Args:\n",
    "        df: pandas dataframe\n",
    "    \n",
    "    Returns:\n",
    "        X: sparse matrix\n",
    "        user_mapper: dict that maps user id's to user indices\n",
    "        user_inv_mapper: dict that maps user indices to user id's\n",
    "        destination_mapper: dict that maps destination id's to movie indices\n",
    "        destination_inv_mapper: dict that maps destination indices to movie id's\n",
    "    \"\"\"\n",
    "    N = df['user_id'].nunique()\n",
    "    M = df['destination_id'].nunique()\n",
    "\n",
    "    user_mapper = dict(zip(np.unique(df[\"user_id\"]), list(range(N))))\n",
    "    destination_mapper = dict(zip(np.unique(df[\"destination_id\"]), list(range(M))))\n",
    "    \n",
    "    user_inv_mapper = dict(zip(list(range(N)), np.unique(df[\"user_id\"])))\n",
    "    destination_inv_mapper = dict(zip(list(range(M)), np.unique(df[\"destination_id\"])))\n",
    "    \n",
    "    user_index = [user_mapper[i] for i in df['user_id']]\n",
    "    destination_index = [destination_mapper[i] for i in df['destination_id']]\n",
    "\n",
    "    X = csr_matrix((df[\"rating\"], (destination_index, user_index)), shape=(M, N))\n",
    "    \n",
    "    return X, user_mapper, destination_mapper, user_inv_mapper, destination_inv_mapper"
   ]
  },
  {
   "cell_type": "code",
   "execution_count": 16,
   "metadata": {},
   "outputs": [],
   "source": [
    "X, user_mapper, destination_mapper, user_inv_mapper, destination_inv_mapper = create_X(ratings)"
   ]
  },
  {
   "cell_type": "markdown",
   "metadata": {},
   "source": [
    "Let's check out the sparsity of our X matrix.\n",
    "\n",
    "Here, we calculate sparsity by dividing the number of non-zero elements by total number of elements as described in the equation below: \n",
    "\n",
    "$$S=\\frac{\\text{# non-zero elements}}{\\text{total elements}}$$"
   ]
  },
  {
   "cell_type": "code",
   "execution_count": 17,
   "metadata": {},
   "outputs": [
    {
     "name": "stdout",
     "output_type": "stream",
     "text": [
      "Matrix sparsity: 9.44%\n"
     ]
    }
   ],
   "source": [
    "sparsity = X.count_nonzero()/(X.shape[0]*X.shape[1])\n",
    "\n",
    "print(f\"Matrix sparsity: {round(sparsity*100,2)}%\")"
   ]
  },
  {
   "cell_type": "markdown",
   "metadata": {},
   "source": [
    "Only 9.44% of cells in our user-item matrix are populated with ratings. User-item matrices are typically very sparse. A general rule of thumb is that your matrix sparsity should be no lower than 0.5% to generate decent results."
   ]
  },
  {
   "cell_type": "markdown",
   "metadata": {},
   "source": [
    "### Writing your matrix to a file\n",
    "\n",
    "We're going to save our user-item matrix for the next part of this tutorial series. Since our matrix is represented as a scipy sparse matrix, we can use the [scipy.sparse.save_npz](https://docs.scipy.org/doc/scipy-1.1.0/reference/generated/scipy.sparse.load_npz.html) method to write the matrix to a file. "
   ]
  },
  {
   "cell_type": "code",
   "execution_count": 18,
   "metadata": {},
   "outputs": [],
   "source": [
    "from scipy.sparse import save_npz\n",
    "\n",
    "save_npz('user_item_matrix.npz', X)"
   ]
  },
  {
   "cell_type": "markdown",
   "metadata": {},
   "source": [
    "## Step 5: Finding similar destinations using k-Nearest Neighbours\n",
    "\n",
    "This approach looks for the $k$ nearest neighbours of a given destination by identifying $k$ points in the dataset that are closest to destination $m$. kNN makes use of distance metrics such as:\n",
    "\n",
    "1. Cosine similarity\n",
    "2. Euclidean distance\n",
    "3. Manhattan distance\n",
    "4. Pearson correlation \n",
    "\n",
    "Although difficult to visualize, we are working in a M-dimensional space where M represents the number of movies in our X matrix. "
   ]
  },
  {
   "cell_type": "code",
   "execution_count": 19,
   "metadata": {},
   "outputs": [],
   "source": [
    "from sklearn.neighbors import NearestNeighbors\n",
    "\n",
    "def find_similar_destinations(destination_id, X, k, metric='cosine', show_distance=False):\n",
    "    \"\"\"\n",
    "    Finds k-nearest neighbours for a given destination id.\n",
    "    \n",
    "    Args:\n",
    "        destination_id: id of the destination of interest\n",
    "        X: user-item utility matrix\n",
    "        k: number of similar destinations to retrieve\n",
    "        metric: distance metric for kNN calculations\n",
    "    \n",
    "    Returns:\n",
    "        list of k similar destination IDs\n",
    "    \"\"\"\n",
    "    neighbour_ids = []\n",
    "    \n",
    "    destination_ind = destination_mapper[destination_id]\n",
    "    destination_vec = X[destination_ind]\n",
    "    k+=1\n",
    "    kNN = NearestNeighbors(n_neighbors=k, algorithm=\"brute\", metric=metric)\n",
    "    kNN.fit(X)\n",
    "    if isinstance(destination_vec, (np.ndarray)):\n",
    "        destination_vec = destination_vec.reshape(1,-1)\n",
    "    neighbour = kNN.kneighbors(destination_vec, return_distance=show_distance)\n",
    "    for i in range(0,k):\n",
    "        n = neighbour.item(i)\n",
    "        neighbour_ids.append(destination_inv_mapper[n])\n",
    "    neighbour_ids.pop(0)\n",
    "    return neighbour_ids"
   ]
  },
  {
   "cell_type": "markdown",
   "metadata": {},
   "source": [
    "`find_similar_destinations()` takes in a destination_d and user-item X matrix, and outputs a list of $k$ movies that are similar to the destination_id of interest. \n",
    "\n",
    "Let's see how it works in action. We will first create another mapper that maps `destination_id` to `title` so that our results are interpretable. "
   ]
  },
  {
   "cell_type": "code",
   "execution_count": 20,
   "metadata": {},
   "outputs": [
    {
     "name": "stdout",
     "output_type": "stream",
     "text": [
      "Because you watched Phewa Tal (Fewa Lake)\n",
      "Budhanilkantha\n",
      "Pokhara Museum\n",
      "Garden of Dreams\n",
      "Gurunghe Hill\n",
      "Kala Patthar\n"
     ]
    }
   ],
   "source": [
    "destination_titles = dict(zip(destinations['destination_id'], destinations['title']))\n",
    "\n",
    "destination_id = 1\n",
    "\n",
    "similar_ids = find_similar_destinations(destination_id, X, k=5)\n",
    "destination_title = destination_titles[destination_id]\n",
    "\n",
    "print(f\"Because you watched {destination_title}\")\n",
    "for i in similar_ids:\n",
    "    print(destination_titles[i])"
   ]
  },
  {
   "cell_type": "markdown",
   "metadata": {},
   "source": [
    "The results above show the 10 most similar destinations to Phewa Tal.\n",
    "\n",
    "<b>Note that these recommendations are based solely on user-item ratings. Movie features such as genres are not taken into consideration in this approach. </b>\n",
    "\n",
    "You can also play around with the kNN distance metric and see what results you would get if you use \"manhattan\" or \"euclidean\" instead of \"cosine\"."
   ]
  },
  {
   "cell_type": "code",
   "execution_count": 21,
   "metadata": {},
   "outputs": [
    {
     "name": "stdout",
     "output_type": "stream",
     "text": [
      "Because you watched Phewa Tal (Fewa Lake):\n",
      "Gosainkunda\n",
      "Valle del Naar\n",
      "Casino Royale\n",
      "Sun Kosi\n",
      "Taleju Bell\n",
      "Mera Peak\n",
      "Gurunghe Hill\n",
      "Datankali Temple\n",
      "Patan Gate\n",
      "Dolakha Bhimsen Mandir\n"
     ]
    }
   ],
   "source": [
    "destination_titles = dict(zip(destinations['destination_id'], destinations['title']))\n",
    "\n",
    "destination_id = 1\n",
    "similar_ids = find_similar_destinations(destination_id, X, k=10, metric=\"euclidean\")\n",
    "\n",
    "destination_title = destination_titles[destination_id]\n",
    "print(f\"Because you watched {destination_title}:\")\n",
    "for i in similar_ids:\n",
    "    print(destination_titles[i])"
   ]
  },
  {
   "cell_type": "markdown",
   "metadata": {},
   "source": [
    "### Here goes the evaluation part "
   ]
  },
  {
   "cell_type": "code",
   "execution_count": 22,
   "metadata": {},
   "outputs": [],
   "source": [
    "import matplotlib.pyplot as plt\n",
    "import numpy as np\n",
    "import pandas as pd\n",
    "from surprise import SVD, Dataset, Reader\n",
    "from surprise.model_selection import train_test_split\n",
    "\n",
    "import recmetrics"
   ]
  },
  {
   "cell_type": "markdown",
   "metadata": {},
   "source": [
    "## Longtail plot"
   ]
  },
  {
   "cell_type": "code",
   "execution_count": 23,
   "metadata": {},
   "outputs": [
    {
     "name": "stderr",
     "output_type": "stream",
     "text": [
      "/home/werewolf/.pyenv/versions/data2/lib/python3.9/site-packages/seaborn/_decorators.py:36: FutureWarning: Pass the following variable as a keyword arg: x. From version 0.12, the only valid positional argument will be `data`, and passing other arguments without an explicit keyword will result in an error or misinterpretation.\n",
      "  warnings.warn(\n"
     ]
    },
    {
     "data": {
      "image/png": "[encoded data removed]",
      "text/plain": [
       "<Figure size 1080x504 with 1 Axes>"
      ]
     },
     "metadata": {
      "needs_background": "light"
     },
     "output_type": "display_data"
    }
   ],
   "source": [
    "fig = plt.figure(figsize=(15, 7))\n",
    "recmetrics.long_tail_plot(df=ratings, \n",
    "             item_id_column=\"destination_id\", \n",
    "             interaction_type=\"destination ratings\", \n",
    "             percentage=0.5,\n",
    "             x_labels=False)"
   ]
  },
  {
   "cell_type": "code",
   "execution_count": 24,
   "metadata": {},
   "outputs": [
    {
     "name": "stdout",
     "output_type": "stream",
     "text": [
      "[143, 168, 191, 124, 165, 131, 117, 189, 150, 155]\n"
     ]
    }
   ],
   "source": [
    "# recommendation generated from the KNN generated recommendations\n",
    "print(similar_ids)"
   ]
  },
  {
   "cell_type": "code",
   "execution_count": 25,
   "metadata": {},
   "outputs": [],
   "source": [
    "reader = Reader(rating_scale=(0, 5))\n",
    "data = Dataset.load_from_df(ratings[['user_id', 'destination_id', 'rating']], reader)\n",
    "trainset, testset = train_test_split(data, test_size=0.25)"
   ]
  },
  {
   "cell_type": "code",
   "execution_count": 26,
   "metadata": {},
   "outputs": [
    {
     "data": {
      "text/html": [
       "<div>\n",
       "<style scoped>\n",
       "    .dataframe tbody tr th:only-of-type {\n",
       "        vertical-align: middle;\n",
       "    }\n",
       "\n",
       "    .dataframe tbody tr th {\n",
       "        vertical-align: top;\n",
       "    }\n",
       "\n",
       "    .dataframe thead th {\n",
       "        text-align: right;\n",
       "    }\n",
       "</style>\n",
       "<table border=\"1\" class=\"dataframe\">\n",
       "  <thead>\n",
       "    <tr style=\"text-align: right;\">\n",
       "      <th></th>\n",
       "      <th>user_id</th>\n",
       "      <th>destination_id</th>\n",
       "      <th>actual</th>\n",
       "    </tr>\n",
       "  </thead>\n",
       "  <tbody>\n",
       "    <tr>\n",
       "      <th>0</th>\n",
       "      <td>52</td>\n",
       "      <td>97</td>\n",
       "      <td>5.0</td>\n",
       "    </tr>\n",
       "    <tr>\n",
       "      <th>1</th>\n",
       "      <td>82</td>\n",
       "      <td>146</td>\n",
       "      <td>4.0</td>\n",
       "    </tr>\n",
       "    <tr>\n",
       "      <th>2</th>\n",
       "      <td>59</td>\n",
       "      <td>187</td>\n",
       "      <td>4.0</td>\n",
       "    </tr>\n",
       "    <tr>\n",
       "      <th>3</th>\n",
       "      <td>34</td>\n",
       "      <td>77</td>\n",
       "      <td>4.0</td>\n",
       "    </tr>\n",
       "    <tr>\n",
       "      <th>4</th>\n",
       "      <td>1</td>\n",
       "      <td>102</td>\n",
       "      <td>3.0</td>\n",
       "    </tr>\n",
       "  </tbody>\n",
       "</table>\n",
       "</div>"
      ],
      "text/plain": [
       "   user_id  destination_id  actual\n",
       "0       52              97     5.0\n",
       "1       82             146     4.0\n",
       "2       59             187     4.0\n",
       "3       34              77     4.0\n",
       "4        1             102     3.0"
      ]
     },
     "execution_count": 26,
     "metadata": {},
     "output_type": "execute_result"
    }
   ],
   "source": [
    "test = pd.DataFrame(testset)\n",
    "test.columns = ['user_id', 'destination_id', 'actual']\n",
    "test.head()"
   ]
  },
  {
   "cell_type": "code",
   "execution_count": 27,
   "metadata": {},
   "outputs": [
    {
     "data": {
      "text/html": [
       "<div>\n",
       "<style scoped>\n",
       "    .dataframe tbody tr th:only-of-type {\n",
       "        vertical-align: middle;\n",
       "    }\n",
       "\n",
       "    .dataframe tbody tr th {\n",
       "        vertical-align: top;\n",
       "    }\n",
       "\n",
       "    .dataframe thead th {\n",
       "        text-align: right;\n",
       "    }\n",
       "</style>\n",
       "<table border=\"1\" class=\"dataframe\">\n",
       "  <thead>\n",
       "    <tr style=\"text-align: right;\">\n",
       "      <th></th>\n",
       "      <th>user_id</th>\n",
       "      <th>actual</th>\n",
       "    </tr>\n",
       "  </thead>\n",
       "  <tbody>\n",
       "    <tr>\n",
       "      <th>0</th>\n",
       "      <td>0</td>\n",
       "      <td>[64, 90, 40, 47, 145, 23, 122, 28]</td>\n",
       "    </tr>\n",
       "    <tr>\n",
       "      <th>1</th>\n",
       "      <td>1</td>\n",
       "      <td>[102, 12, 113, 17, 115, 184, 25]</td>\n",
       "    </tr>\n",
       "    <tr>\n",
       "      <th>2</th>\n",
       "      <td>2</td>\n",
       "      <td>[27, 70]</td>\n",
       "    </tr>\n",
       "    <tr>\n",
       "      <th>3</th>\n",
       "      <td>3</td>\n",
       "      <td>[32, 170, 42, 77, 112, 117, 151, 125, 30]</td>\n",
       "    </tr>\n",
       "    <tr>\n",
       "      <th>4</th>\n",
       "      <td>4</td>\n",
       "      <td>[78, 50, 182, 29, 62]</td>\n",
       "    </tr>\n",
       "    <tr>\n",
       "      <th>...</th>\n",
       "      <td>...</td>\n",
       "      <td>...</td>\n",
       "    </tr>\n",
       "    <tr>\n",
       "      <th>96</th>\n",
       "      <td>96</td>\n",
       "      <td>[197, 74, 106, 87, 120, 185]</td>\n",
       "    </tr>\n",
       "    <tr>\n",
       "      <th>97</th>\n",
       "      <td>97</td>\n",
       "      <td>[107, 49, 139, 116]</td>\n",
       "    </tr>\n",
       "    <tr>\n",
       "      <th>98</th>\n",
       "      <td>98</td>\n",
       "      <td>[42, 87, 86, 159]</td>\n",
       "    </tr>\n",
       "    <tr>\n",
       "      <th>99</th>\n",
       "      <td>99</td>\n",
       "      <td>[163]</td>\n",
       "    </tr>\n",
       "    <tr>\n",
       "      <th>100</th>\n",
       "      <td>100</td>\n",
       "      <td>[101, 190]</td>\n",
       "    </tr>\n",
       "  </tbody>\n",
       "</table>\n",
       "<p>101 rows × 2 columns</p>\n",
       "</div>"
      ],
      "text/plain": [
       "     user_id                                     actual\n",
       "0          0         [64, 90, 40, 47, 145, 23, 122, 28]\n",
       "1          1           [102, 12, 113, 17, 115, 184, 25]\n",
       "2          2                                   [27, 70]\n",
       "3          3  [32, 170, 42, 77, 112, 117, 151, 125, 30]\n",
       "4          4                      [78, 50, 182, 29, 62]\n",
       "..       ...                                        ...\n",
       "96        96               [197, 74, 106, 87, 120, 185]\n",
       "97        97                        [107, 49, 139, 116]\n",
       "98        98                          [42, 87, 86, 159]\n",
       "99        99                                      [163]\n",
       "100      100                                 [101, 190]\n",
       "\n",
       "[101 rows x 2 columns]"
      ]
     },
     "execution_count": 27,
     "metadata": {},
     "output_type": "execute_result"
    }
   ],
   "source": [
    "test = test.copy().groupby('user_id', as_index=False)['destination_id'].agg({'actual': (lambda x: list(set(x)))})\n",
    "test"
   ]
  },
  {
   "cell_type": "code",
   "execution_count": 28,
   "metadata": {},
   "outputs": [
    {
     "name": "stdout",
     "output_type": "stream",
     "text": [
      "0\n"
     ]
    }
   ],
   "source": [
    "print(test['actual'].isnull().sum())"
   ]
  },
  {
   "cell_type": "code",
   "execution_count": 29,
   "metadata": {},
   "outputs": [
    {
     "data": {
      "text/html": [
       "<div>\n",
       "<style scoped>\n",
       "    .dataframe tbody tr th:only-of-type {\n",
       "        vertical-align: middle;\n",
       "    }\n",
       "\n",
       "    .dataframe tbody tr th {\n",
       "        vertical-align: top;\n",
       "    }\n",
       "\n",
       "    .dataframe thead th {\n",
       "        text-align: right;\n",
       "    }\n",
       "</style>\n",
       "<table border=\"1\" class=\"dataframe\">\n",
       "  <thead>\n",
       "    <tr style=\"text-align: right;\">\n",
       "      <th></th>\n",
       "      <th>actual</th>\n",
       "    </tr>\n",
       "    <tr>\n",
       "      <th>user_id</th>\n",
       "      <th></th>\n",
       "    </tr>\n",
       "  </thead>\n",
       "  <tbody>\n",
       "    <tr>\n",
       "      <th>0</th>\n",
       "      <td>[64, 90, 40, 47, 145, 23, 122, 28]</td>\n",
       "    </tr>\n",
       "    <tr>\n",
       "      <th>1</th>\n",
       "      <td>[102, 12, 113, 17, 115, 184, 25]</td>\n",
       "    </tr>\n",
       "    <tr>\n",
       "      <th>2</th>\n",
       "      <td>[27, 70]</td>\n",
       "    </tr>\n",
       "    <tr>\n",
       "      <th>3</th>\n",
       "      <td>[32, 170, 42, 77, 112, 117, 151, 125, 30]</td>\n",
       "    </tr>\n",
       "    <tr>\n",
       "      <th>4</th>\n",
       "      <td>[78, 50, 182, 29, 62]</td>\n",
       "    </tr>\n",
       "    <tr>\n",
       "      <th>...</th>\n",
       "      <td>...</td>\n",
       "    </tr>\n",
       "    <tr>\n",
       "      <th>96</th>\n",
       "      <td>[197, 74, 106, 87, 120, 185]</td>\n",
       "    </tr>\n",
       "    <tr>\n",
       "      <th>97</th>\n",
       "      <td>[107, 49, 139, 116]</td>\n",
       "    </tr>\n",
       "    <tr>\n",
       "      <th>98</th>\n",
       "      <td>[42, 87, 86, 159]</td>\n",
       "    </tr>\n",
       "    <tr>\n",
       "      <th>99</th>\n",
       "      <td>[163]</td>\n",
       "    </tr>\n",
       "    <tr>\n",
       "      <th>100</th>\n",
       "      <td>[101, 190]</td>\n",
       "    </tr>\n",
       "  </tbody>\n",
       "</table>\n",
       "<p>101 rows × 1 columns</p>\n",
       "</div>"
      ],
      "text/plain": [
       "                                            actual\n",
       "user_id                                           \n",
       "0               [64, 90, 40, 47, 145, 23, 122, 28]\n",
       "1                 [102, 12, 113, 17, 115, 184, 25]\n",
       "2                                         [27, 70]\n",
       "3        [32, 170, 42, 77, 112, 117, 151, 125, 30]\n",
       "4                            [78, 50, 182, 29, 62]\n",
       "...                                            ...\n",
       "96                    [197, 74, 106, 87, 120, 185]\n",
       "97                             [107, 49, 139, 116]\n",
       "98                               [42, 87, 86, 159]\n",
       "99                                           [163]\n",
       "100                                     [101, 190]\n",
       "\n",
       "[101 rows x 1 columns]"
      ]
     },
     "execution_count": 29,
     "metadata": {},
     "output_type": "execute_result"
    }
   ],
   "source": [
    "test = test.set_index(\"user_id\")\n",
    "test"
   ]
  },
  {
   "cell_type": "code",
   "execution_count": 30,
   "metadata": {},
   "outputs": [
    {
     "name": "stdout",
     "output_type": "stream",
     "text": [
      "[[127, 131, 168, 143, 133, 186, 144, 48, 165, 160], [165, 131, 143, 184, 113, 119, 51, 144, 186, 189], [110, 143, 165, 192, 131, 148, 54, 144, 186, 171], [136, 25, 165, 119, 172, 150, 198, 157, 190, 191], [122, 78, 143, 182, 180, 108, 20, 111, 152, 123], [191, 143, 124, 131, 165, 193, 189, 150, 134, 132], [144, 131, 165, 182, 143, 140, 193, 119, 157, 152], [131, 143, 160, 164, 144, 165, 119, 182, 113, 105], [136, 25, 165, 119, 172, 150, 198, 157, 190, 191], [172, 183, 169, 105, 143, 156, 101, 131, 86, 133], [184, 195, 143, 132, 131, 165, 137, 51, 113, 150], [193, 150, 144, 188, 186, 131, 175, 113, 140, 155], [151, 94, 39, 177, 131, 25, 161, 186, 118, 71], [150, 163, 155, 71, 193, 162, 161, 188, 111, 31], [130, 157, 171, 154, 121, 147, 159, 5, 177, 136], [156, 184, 193, 131, 143, 168, 144, 165, 132, 71], [132, 186, 131, 116, 191, 160, 168, 165, 143, 130], [131, 160, 129, 143, 188, 162, 191, 152, 144, 165], [174, 144, 131, 192, 51, 162, 186, 180, 193, 124], [186, 131, 143, 108, 175, 193, 144, 165, 189, 164], [151, 94, 39, 177, 131, 25, 161, 186, 118, 71], [7, 160, 186, 151, 161, 39, 165, 153, 177, 131], [143, 113, 131, 175, 193, 144, 186, 165, 71, 108], [136, 125, 102, 119, 192, 184, 141, 10, 198, 168], [131, 124, 143, 165, 193, 144, 150, 71, 178, 132], [144, 143, 131, 71, 119, 160, 113, 150, 191, 193], [143, 188, 3, 165, 150, 144, 131, 157, 124, 136], [193, 150, 144, 188, 186, 131, 175, 113, 140, 155], [131, 195, 143, 165, 141, 144, 145, 71, 128, 156], [189, 143, 124, 133, 131, 71, 195, 144, 172, 182], [155, 150, 112, 71, 144, 119, 174, 141, 131, 168], [122, 78, 143, 182, 180, 108, 20, 111, 152, 123], [178, 149, 7, 143, 28, 0, 133, 107, 165, 191], [165, 131, 143, 184, 113, 119, 51, 144, 186, 189], [71, 132, 131, 195, 150, 143, 136, 144, 165, 188], [48, 168, 145, 152, 71, 144, 131, 143, 182, 180], [184, 131, 162, 189, 151, 186, 143, 133, 25, 197], [184, 131, 162, 189, 151, 186, 143, 133, 25, 197], [168, 156, 143, 165, 131, 150, 179, 183, 144, 112], [143, 133, 131, 113, 172, 144, 165, 189, 126, 124], [194, 138, 131, 144, 175, 108, 174, 132, 193, 143], [143, 133, 131, 113, 172, 144, 165, 189, 126, 124], [186, 144, 131, 71, 132, 143, 188, 191, 124, 165], [122, 78, 143, 182, 180, 108, 20, 111, 152, 123], [136, 125, 102, 119, 192, 184, 141, 10, 198, 168], [193, 165, 198, 175, 7, 178, 134, 186, 131, 144], [129, 131, 151, 160, 156, 28, 133, 173, 168, 163], [138, 102, 131, 160, 168, 143, 193, 191, 124, 196], [165, 108, 184, 131, 132, 143, 182, 193, 144, 78], [174, 144, 131, 192, 51, 162, 186, 180, 193, 124], [143, 184, 130, 102, 51, 113, 71, 131, 141, 150], [144, 143, 131, 188, 165, 71, 155, 51, 191, 124], [195, 143, 111, 113, 131, 141, 108, 193, 196, 188], [186, 144, 131, 71, 132, 143, 188, 191, 124, 165], [165, 131, 141, 143, 144, 132, 195, 134, 71, 193], [71, 132, 131, 195, 150, 143, 136, 144, 165, 188], [71, 132, 131, 195, 150, 143, 136, 144, 165, 188], [143, 131, 108, 144, 165, 71, 51, 184, 161, 117], [189, 143, 124, 133, 131, 71, 195, 144, 172, 182], [172, 183, 169, 105, 143, 156, 101, 131, 86, 133], [143, 113, 131, 175, 193, 144, 186, 165, 71, 108], [150, 131, 143, 133, 144, 165, 195, 140, 71, 191], [193, 150, 144, 188, 186, 131, 175, 113, 140, 155], [71, 191, 144, 131, 143, 193, 165, 102, 133, 189], [132, 186, 131, 116, 191, 160, 168, 165, 143, 130], [168, 193, 195, 165, 131, 115, 143, 132, 153, 144], [129, 131, 151, 160, 156, 28, 133, 173, 168, 163], [143, 71, 144, 131, 124, 150, 165, 191, 155, 152], [131, 144, 164, 108, 119, 162, 143, 175, 133, 165], [131, 124, 143, 165, 193, 144, 150, 71, 178, 132], [131, 160, 152, 140, 195, 126, 124, 143, 150, 144], [122, 78, 143, 182, 180, 108, 20, 111, 152, 123], [45, 186, 119, 144, 182, 143, 127, 154, 165, 82], [168, 193, 195, 165, 131, 115, 143, 132, 153, 144], [117, 167, 131, 128, 108, 153, 71, 159, 188, 162], [131, 143, 191, 144, 160, 71, 124, 150, 195, 182], [136, 144, 159, 195, 161, 164, 119, 143, 188, 151], [195, 143, 111, 113, 131, 141, 108, 193, 196, 188], [71, 28, 144, 124, 131, 165, 102, 133, 143, 182], [143, 186, 138, 132, 131, 150, 157, 121, 124, 188], [184, 131, 162, 189, 151, 186, 143, 133, 25, 197], [150, 131, 143, 133, 144, 165, 195, 140, 71, 191], [48, 168, 145, 152, 71, 144, 131, 143, 182, 180], [193, 188, 134, 186, 173, 151, 178, 143, 109, 160], [133, 173, 149, 131, 119, 143, 144, 113, 165, 124], [165, 131, 143, 136, 144, 113, 130, 150, 71, 133], [143, 113, 131, 175, 193, 144, 186, 165, 71, 108], [155, 150, 112, 71, 144, 119, 174, 141, 131, 168], [178, 149, 7, 143, 28, 0, 133, 107, 165, 191], [131, 165, 191, 143, 124, 152, 144, 198, 162, 130], [189, 143, 124, 133, 131, 71, 195, 144, 172, 182], [165, 131, 143, 140, 181, 144, 133, 108, 124, 164], [71, 195, 144, 171, 117, 131, 124, 154, 165, 134], [7, 160, 186, 151, 161, 39, 165, 153, 177, 131], [151, 94, 39, 177, 131, 25, 161, 186, 118, 71], [136, 157, 165, 119, 114, 15, 144, 131, 113, 143], [165, 131, 141, 143, 144, 132, 195, 134, 71, 193], [168, 131, 143, 160, 195, 186, 144, 155, 165, 119], [71, 132, 131, 195, 150, 143, 136, 144, 165, 188], [131, 160, 191, 108, 7, 165, 156, 143, 193, 168], [138, 102, 131, 160, 168, 143, 193, 191, 124, 196]]\n"
     ]
    }
   ],
   "source": [
    "# find the recommended 10 destinations to the users of the test dataset\n",
    "# and add them to a superlist\n",
    "super_recommended_ids=[]\n",
    "for user in test.index:\n",
    "    most_recent_destination_id=test.loc[user]['actual'][-1] #extract the most recently rated destination id\n",
    "    recommeneded_ids = find_similar_destinations(most_recent_destination_id, X, k=10, metric=\"euclidean\")\n",
    "    super_recommended_ids.append(recommeneded_ids)\n",
    "print(super_recommended_ids)"
   ]
  },
  {
   "cell_type": "code",
   "execution_count": 31,
   "metadata": {},
   "outputs": [
    {
     "data": {
      "text/html": [
       "<div>\n",
       "<style scoped>\n",
       "    .dataframe tbody tr th:only-of-type {\n",
       "        vertical-align: middle;\n",
       "    }\n",
       "\n",
       "    .dataframe tbody tr th {\n",
       "        vertical-align: top;\n",
       "    }\n",
       "\n",
       "    .dataframe thead th {\n",
       "        text-align: right;\n",
       "    }\n",
       "</style>\n",
       "<table border=\"1\" class=\"dataframe\">\n",
       "  <thead>\n",
       "    <tr style=\"text-align: right;\">\n",
       "      <th></th>\n",
       "      <th>actual</th>\n",
       "      <th>collab_predictions</th>\n",
       "    </tr>\n",
       "    <tr>\n",
       "      <th>user_id</th>\n",
       "      <th></th>\n",
       "      <th></th>\n",
       "    </tr>\n",
       "  </thead>\n",
       "  <tbody>\n",
       "    <tr>\n",
       "      <th>0</th>\n",
       "      <td>[64, 90, 40, 47, 145, 23, 122, 28]</td>\n",
       "      <td>[127, 131, 168, 143, 133, 186, 144, 48, 165, 160]</td>\n",
       "    </tr>\n",
       "    <tr>\n",
       "      <th>1</th>\n",
       "      <td>[102, 12, 113, 17, 115, 184, 25]</td>\n",
       "      <td>[165, 131, 143, 184, 113, 119, 51, 144, 186, 189]</td>\n",
       "    </tr>\n",
       "    <tr>\n",
       "      <th>2</th>\n",
       "      <td>[27, 70]</td>\n",
       "      <td>[110, 143, 165, 192, 131, 148, 54, 144, 186, 171]</td>\n",
       "    </tr>\n",
       "    <tr>\n",
       "      <th>3</th>\n",
       "      <td>[32, 170, 42, 77, 112, 117, 151, 125, 30]</td>\n",
       "      <td>[136, 25, 165, 119, 172, 150, 198, 157, 190, 191]</td>\n",
       "    </tr>\n",
       "    <tr>\n",
       "      <th>4</th>\n",
       "      <td>[78, 50, 182, 29, 62]</td>\n",
       "      <td>[122, 78, 143, 182, 180, 108, 20, 111, 152, 123]</td>\n",
       "    </tr>\n",
       "  </tbody>\n",
       "</table>\n",
       "</div>"
      ],
      "text/plain": [
       "                                            actual  \\\n",
       "user_id                                              \n",
       "0               [64, 90, 40, 47, 145, 23, 122, 28]   \n",
       "1                 [102, 12, 113, 17, 115, 184, 25]   \n",
       "2                                         [27, 70]   \n",
       "3        [32, 170, 42, 77, 112, 117, 151, 125, 30]   \n",
       "4                            [78, 50, 182, 29, 62]   \n",
       "\n",
       "                                        collab_predictions  \n",
       "user_id                                                     \n",
       "0        [127, 131, 168, 143, 133, 186, 144, 48, 165, 160]  \n",
       "1        [165, 131, 143, 184, 113, 119, 51, 144, 186, 189]  \n",
       "2        [110, 143, 165, 192, 131, 148, 54, 144, 186, 171]  \n",
       "3        [136, 25, 165, 119, 172, 150, 198, 157, 190, 191]  \n",
       "4         [122, 78, 143, 182, 180, 108, 20, 111, 152, 123]  "
      ]
     },
     "execution_count": 31,
     "metadata": {},
     "output_type": "execute_result"
    }
   ],
   "source": [
    "# update the recommended ids as a new column\n",
    "test['collab_predictions']=super_recommended_ids\n",
    "test.head()"
   ]
  },
  {
   "cell_type": "code",
   "execution_count": 32,
   "metadata": {},
   "outputs": [
    {
     "name": "stdout",
     "output_type": "stream",
     "text": [
      "[[64, 90, 40, 47, 145, 23, 122, 28], [102, 12, 113, 17, 115, 184, 25], [27, 70], [32, 170, 42, 77, 112, 117, 151, 125, 30], [78, 50, 182, 29, 62], [101, 9, 75, 107, 178], [192, 162, 166, 135, 169, 170, 137], [169, 59, 172, 16, 123], [161, 2, 67, 163, 165, 4, 9, 171, 15, 80, 148, 88, 30], [9, 10, 74, 177, 146, 59], [96, 137, 66, 42], [171, 142, 20, 85, 158], [41, 112, 81, 52, 153, 126, 63], [136, 170, 13, 81, 57], [56, 66], [88, 197], [197, 103, 169, 18, 83, 148], [20, 39, 166, 151], [13, 146, 19, 52, 89, 26], [77, 118], [161, 99, 199, 17, 57, 63], [160, 103, 109, 58, 92], [104, 170, 14], [80, 104, 79], [8, 152, 181, 191], [56, 155], [2, 38, 178, 119, 121], [170, 69, 53, 158], [64, 145, 84, 168], [43, 108, 179, 116, 126], [99, 73, 75, 21, 56, 92, 31], [193, 105, 47, 111, 17, 62], [6, 104, 73, 138, 25, 58], [3, 106, 142, 181, 121, 157, 25], [65, 3, 77, 177, 119, 57, 94, 159], [40, 104, 76, 184, 122], [99, 43, 93, 148, 123, 125], [64, 98, 75, 139, 184, 125], [135, 168, 139, 49, 21], [74, 29, 149], [99, 105, 108, 145, 52, 85], [62, 37, 181, 149], [178, 156, 47, 154], [34, 26, 4, 167, 104, 13, 148, 154, 62], [41, 169, 173, 79], [142], [91, 31, 181, 135], [192, 124, 109, 190], [185, 93, 117], [32, 108, 46, 85, 152, 26], [8, 162, 163, 12], [137, 67, 84, 113], [97, 10, 174, 82, 27], [132, 37, 167, 169, 106, 107, 50, 178, 117, 184, 154], [193, 197, 45, 18, 179, 23, 185], [154, 85, 53, 159], [96, 110, 188, 55, 187, 60, 159], [40, 117, 78], [136, 112, 177, 52, 54, 29, 126], [115, 169, 187, 59], [192, 14], [195, 42, 141, 80, 183], [33, 166, 107, 30, 188, 158], [2, 4, 103, 139, 81, 145, 88, 122, 124], [197, 70, 45, 110, 148], [36, 44, 142, 21, 117, 95], [192, 135], [1, 44, 78, 51, 189], [77, 196, 101, 174], [129, 163, 100, 135, 108, 49, 181, 156, 29, 191], [66, 135, 41, 106, 150, 89], [192, 1, 178, 62], [98, 37], [103, 172, 13, 175, 54, 95], [29], [8, 170, 13, 165], [73, 77, 144, 113, 82], [130, 38, 102, 106, 75, 147, 27], [166, 44, 58, 125, 127], [51, 140, 174, 60], [6, 8, 73, 10, 125], [122, 140, 183], [128, 36, 49, 146, 122], [83, 115, 180, 117, 61], [1, 100, 196, 75, 109, 83, 19], [40, 146, 34, 157], [58, 149, 14], [65, 34, 147, 20, 31], [102, 38, 104, 83, 58], [88, 181], [195, 38, 171, 111, 116, 126], [8, 106, 132, 198], [49, 33, 103], [98, 111, 176, 22, 92], [186, 2, 63], [120, 35], [197, 74, 106, 87, 120, 185], [107, 49, 139, 116], [42, 87, 86, 159], [163], [101, 190]]\n",
      "[[127, 131, 168, 143, 133, 186, 144, 48, 165, 160], [165, 131, 143, 184, 113, 119, 51, 144, 186, 189], [110, 143, 165, 192, 131, 148, 54, 144, 186, 171], [136, 25, 165, 119, 172, 150, 198, 157, 190, 191], [122, 78, 143, 182, 180, 108, 20, 111, 152, 123], [191, 143, 124, 131, 165, 193, 189, 150, 134, 132], [144, 131, 165, 182, 143, 140, 193, 119, 157, 152], [131, 143, 160, 164, 144, 165, 119, 182, 113, 105], [136, 25, 165, 119, 172, 150, 198, 157, 190, 191], [172, 183, 169, 105, 143, 156, 101, 131, 86, 133], [184, 195, 143, 132, 131, 165, 137, 51, 113, 150], [193, 150, 144, 188, 186, 131, 175, 113, 140, 155], [151, 94, 39, 177, 131, 25, 161, 186, 118, 71], [150, 163, 155, 71, 193, 162, 161, 188, 111, 31], [130, 157, 171, 154, 121, 147, 159, 5, 177, 136], [156, 184, 193, 131, 143, 168, 144, 165, 132, 71], [132, 186, 131, 116, 191, 160, 168, 165, 143, 130], [131, 160, 129, 143, 188, 162, 191, 152, 144, 165], [174, 144, 131, 192, 51, 162, 186, 180, 193, 124], [186, 131, 143, 108, 175, 193, 144, 165, 189, 164], [151, 94, 39, 177, 131, 25, 161, 186, 118, 71], [7, 160, 186, 151, 161, 39, 165, 153, 177, 131], [143, 113, 131, 175, 193, 144, 186, 165, 71, 108], [136, 125, 102, 119, 192, 184, 141, 10, 198, 168], [131, 124, 143, 165, 193, 144, 150, 71, 178, 132], [144, 143, 131, 71, 119, 160, 113, 150, 191, 193], [143, 188, 3, 165, 150, 144, 131, 157, 124, 136], [193, 150, 144, 188, 186, 131, 175, 113, 140, 155], [131, 195, 143, 165, 141, 144, 145, 71, 128, 156], [189, 143, 124, 133, 131, 71, 195, 144, 172, 182], [155, 150, 112, 71, 144, 119, 174, 141, 131, 168], [122, 78, 143, 182, 180, 108, 20, 111, 152, 123], [178, 149, 7, 143, 28, 0, 133, 107, 165, 191], [165, 131, 143, 184, 113, 119, 51, 144, 186, 189], [71, 132, 131, 195, 150, 143, 136, 144, 165, 188], [48, 168, 145, 152, 71, 144, 131, 143, 182, 180], [184, 131, 162, 189, 151, 186, 143, 133, 25, 197], [184, 131, 162, 189, 151, 186, 143, 133, 25, 197], [168, 156, 143, 165, 131, 150, 179, 183, 144, 112], [143, 133, 131, 113, 172, 144, 165, 189, 126, 124], [194, 138, 131, 144, 175, 108, 174, 132, 193, 143], [143, 133, 131, 113, 172, 144, 165, 189, 126, 124], [186, 144, 131, 71, 132, 143, 188, 191, 124, 165], [122, 78, 143, 182, 180, 108, 20, 111, 152, 123], [136, 125, 102, 119, 192, 184, 141, 10, 198, 168], [193, 165, 198, 175, 7, 178, 134, 186, 131, 144], [129, 131, 151, 160, 156, 28, 133, 173, 168, 163], [138, 102, 131, 160, 168, 143, 193, 191, 124, 196], [165, 108, 184, 131, 132, 143, 182, 193, 144, 78], [174, 144, 131, 192, 51, 162, 186, 180, 193, 124], [143, 184, 130, 102, 51, 113, 71, 131, 141, 150], [144, 143, 131, 188, 165, 71, 155, 51, 191, 124], [195, 143, 111, 113, 131, 141, 108, 193, 196, 188], [186, 144, 131, 71, 132, 143, 188, 191, 124, 165], [165, 131, 141, 143, 144, 132, 195, 134, 71, 193], [71, 132, 131, 195, 150, 143, 136, 144, 165, 188], [71, 132, 131, 195, 150, 143, 136, 144, 165, 188], [143, 131, 108, 144, 165, 71, 51, 184, 161, 117], [189, 143, 124, 133, 131, 71, 195, 144, 172, 182], [172, 183, 169, 105, 143, 156, 101, 131, 86, 133], [143, 113, 131, 175, 193, 144, 186, 165, 71, 108], [150, 131, 143, 133, 144, 165, 195, 140, 71, 191], [193, 150, 144, 188, 186, 131, 175, 113, 140, 155], [71, 191, 144, 131, 143, 193, 165, 102, 133, 189], [132, 186, 131, 116, 191, 160, 168, 165, 143, 130], [168, 193, 195, 165, 131, 115, 143, 132, 153, 144], [129, 131, 151, 160, 156, 28, 133, 173, 168, 163], [143, 71, 144, 131, 124, 150, 165, 191, 155, 152], [131, 144, 164, 108, 119, 162, 143, 175, 133, 165], [131, 124, 143, 165, 193, 144, 150, 71, 178, 132], [131, 160, 152, 140, 195, 126, 124, 143, 150, 144], [122, 78, 143, 182, 180, 108, 20, 111, 152, 123], [45, 186, 119, 144, 182, 143, 127, 154, 165, 82], [168, 193, 195, 165, 131, 115, 143, 132, 153, 144], [117, 167, 131, 128, 108, 153, 71, 159, 188, 162], [131, 143, 191, 144, 160, 71, 124, 150, 195, 182], [136, 144, 159, 195, 161, 164, 119, 143, 188, 151], [195, 143, 111, 113, 131, 141, 108, 193, 196, 188], [71, 28, 144, 124, 131, 165, 102, 133, 143, 182], [143, 186, 138, 132, 131, 150, 157, 121, 124, 188], [184, 131, 162, 189, 151, 186, 143, 133, 25, 197], [150, 131, 143, 133, 144, 165, 195, 140, 71, 191], [48, 168, 145, 152, 71, 144, 131, 143, 182, 180], [193, 188, 134, 186, 173, 151, 178, 143, 109, 160], [133, 173, 149, 131, 119, 143, 144, 113, 165, 124], [165, 131, 143, 136, 144, 113, 130, 150, 71, 133], [143, 113, 131, 175, 193, 144, 186, 165, 71, 108], [155, 150, 112, 71, 144, 119, 174, 141, 131, 168], [178, 149, 7, 143, 28, 0, 133, 107, 165, 191], [131, 165, 191, 143, 124, 152, 144, 198, 162, 130], [189, 143, 124, 133, 131, 71, 195, 144, 172, 182], [165, 131, 143, 140, 181, 144, 133, 108, 124, 164], [71, 195, 144, 171, 117, 131, 124, 154, 165, 134], [7, 160, 186, 151, 161, 39, 165, 153, 177, 131], [151, 94, 39, 177, 131, 25, 161, 186, 118, 71], [136, 157, 165, 119, 114, 15, 144, 131, 113, 143], [165, 131, 141, 143, 144, 132, 195, 134, 71, 193], [168, 131, 143, 160, 195, 186, 144, 155, 165, 119], [71, 132, 131, 195, 150, 143, 136, 144, 165, 188], [131, 160, 191, 108, 7, 165, 156, 143, 193, 168], [138, 102, 131, 160, 168, 143, 193, 191, 124, 196]]\n"
     ]
    }
   ],
   "source": [
    "actual=test['actual'].values.tolist()\n",
    "collab_predictions=test['collab_predictions'].values.tolist()\n",
    "print(actual)\n",
    "print(collab_predictions)"
   ]
  },
  {
   "cell_type": "code",
   "execution_count": 33,
   "metadata": {},
   "outputs": [
    {
     "data": {
      "text/plain": [
       "[0.003630363036303631,\n",
       " 0.006600660066006602,\n",
       " 0.0076796141152576805,\n",
       " 0.009435861168534435,\n",
       " 0.010181650033135183,\n",
       " 0.010456677535885459,\n",
       " 0.011918252264786919,\n",
       " 0.012949605400100449,\n",
       " 0.013407984571350907,\n",
       " 0.014020903006051523]"
      ]
     },
     "execution_count": 33,
     "metadata": {},
     "output_type": "execute_result"
    }
   ],
   "source": [
    "# calculate the mark score\n",
    "collab_mark = []\n",
    "for K in np.arange(1, 11):\n",
    "    collab_mark.extend([recmetrics.mark(actual, collab_predictions, k=K)])\n",
    "collab_mark"
   ]
  },
  {
   "cell_type": "code",
   "execution_count": 34,
   "metadata": {},
   "outputs": [
    {
     "data": {
      "image/png": "[encoded data removed]",
      "text/plain": [
       "<Figure size 1080x504 with 1 Axes>"
      ]
     },
     "metadata": {
      "needs_background": "light"
     },
     "output_type": "display_data"
    }
   ],
   "source": [
    "# generate a mark plot\n",
    "mark_scores = [collab_mark]\n",
    "index = range(1,10+1)\n",
    "names = ['Collaborative Filter']\n",
    "\n",
    "fig = plt.figure(figsize=(15, 7))\n",
    "recmetrics.mark_plot(mark_scores, model_names=names, k_range=index)"
   ]
  },
  {
   "cell_type": "code",
   "execution_count": 35,
   "metadata": {},
   "outputs": [],
   "source": [
    "import ml_metrics as metrics"
   ]
  },
  {
   "cell_type": "markdown",
   "metadata": {},
   "source": [
    "### Similarly, generate MAPK score"
   ]
  },
  {
   "cell_type": "code",
   "execution_count": 36,
   "metadata": {},
   "outputs": [
    {
     "data": {
      "text/plain": [
       "[0.019801980198019802,\n",
       " 0.017326732673267328,\n",
       " 0.01375137513751375,\n",
       " 0.012788778877887787,\n",
       " 0.011584158415841586,\n",
       " 0.011056105610561057,\n",
       " 0.012238723872387239,\n",
       " 0.013175781863900676,\n",
       " 0.013560820367751062,\n",
       " 0.014115066268531618]"
      ]
     },
     "execution_count": 36,
     "metadata": {},
     "output_type": "execute_result"
    }
   ],
   "source": [
    "collab_mapk = []\n",
    "for K in np.arange(1, 11):\n",
    "    collab_mapk.extend([metrics.mapk(actual, collab_predictions, k=K)])\n",
    "collab_mapk"
   ]
  },
  {
   "cell_type": "code",
   "execution_count": 37,
   "metadata": {},
   "outputs": [
    {
     "data": {
      "image/png": "[encoded data removed]",
      "text/plain": [
       "<Figure size 1080x504 with 1 Axes>"
      ]
     },
     "metadata": {
      "needs_background": "light"
     },
     "output_type": "display_data"
    }
   ],
   "source": [
    "# generate a mapk plot\n",
    "mapk_scores = [collab_mapk]\n",
    "index = range(1,10+1)\n",
    "names = ['Collaborative Filter']\n",
    "\n",
    "fig = plt.figure(figsize=(15, 7))\n",
    "recmetrics.mapk_plot(mapk_scores, model_names=names, k_range=index)"
   ]
  },
  {
   "cell_type": "markdown",
   "metadata": {},
   "source": [
    "## Calculate the prediction coverage"
   ]
  },
  {
   "cell_type": "code",
   "execution_count": 42,
   "metadata": {},
   "outputs": [
    {
     "name": "stdout",
     "output_type": "stream",
     "text": [
      "52.0\n"
     ]
    }
   ],
   "source": [
    "catalog = ratings.destination_id.unique().tolist()\n",
    "collab_coverage = recmetrics.prediction_coverage(collab_predictions, catalog)\n",
    "print(collab_coverage)"
   ]
  },
  {
   "cell_type": "markdown",
   "metadata": {},
   "source": [
    "## Coverage plot"
   ]
  },
  {
   "cell_type": "code",
   "execution_count": 39,
   "metadata": {},
   "outputs": [
    {
     "data": {
      "image/png": "[encoded data removed]",
      "text/plain": [
       "<Figure size 504x360 with 1 Axes>"
      ]
     },
     "metadata": {
      "needs_background": "light"
     },
     "output_type": "display_data"
    }
   ],
   "source": [
    "# plot of prediction coverage\n",
    "coverage_scores = [collab_coverage]\n",
    "model_names = ['Collaborative Filter']\n",
    "\n",
    "fig = plt.figure(figsize=(7, 5))\n",
    "recmetrics.coverage_plot(coverage_scores, model_names)"
   ]
  },
  {
   "cell_type": "markdown",
   "metadata": {},
   "source": [
    "## Intra-list similarity"
   ]
  },
  {
   "cell_type": "code",
   "execution_count": 40,
   "metadata": {},
   "outputs": [
    {
     "data": {
      "text/html": [
       "<div>\n",
       "<style scoped>\n",
       "    .dataframe tbody tr th:only-of-type {\n",
       "        vertical-align: middle;\n",
       "    }\n",
       "\n",
       "    .dataframe tbody tr th {\n",
       "        vertical-align: top;\n",
       "    }\n",
       "\n",
       "    .dataframe thead th {\n",
       "        text-align: right;\n",
       "    }\n",
       "</style>\n",
       "<table border=\"1\" class=\"dataframe\">\n",
       "  <thead>\n",
       "    <tr style=\"text-align: right;\">\n",
       "      <th></th>\n",
       "      <th>history</th>\n",
       "      <th>art_and_architecture</th>\n",
       "      <th>nature</th>\n",
       "      <th>adventure</th>\n",
       "      <th>entertainment</th>\n",
       "      <th>health_and_lifestyle</th>\n",
       "      <th>food</th>\n",
       "      <th>industries</th>\n",
       "      <th>religious</th>\n",
       "    </tr>\n",
       "  </thead>\n",
       "  <tbody>\n",
       "    <tr>\n",
       "      <th>0</th>\n",
       "      <td>True</td>\n",
       "      <td>True</td>\n",
       "      <td>False</td>\n",
       "      <td>False</td>\n",
       "      <td>False</td>\n",
       "      <td>False</td>\n",
       "      <td>False</td>\n",
       "      <td>False</td>\n",
       "      <td>True</td>\n",
       "    </tr>\n",
       "    <tr>\n",
       "      <th>1</th>\n",
       "      <td>False</td>\n",
       "      <td>False</td>\n",
       "      <td>True</td>\n",
       "      <td>False</td>\n",
       "      <td>False</td>\n",
       "      <td>False</td>\n",
       "      <td>False</td>\n",
       "      <td>False</td>\n",
       "      <td>False</td>\n",
       "    </tr>\n",
       "    <tr>\n",
       "      <th>2</th>\n",
       "      <td>False</td>\n",
       "      <td>False</td>\n",
       "      <td>True</td>\n",
       "      <td>False</td>\n",
       "      <td>False</td>\n",
       "      <td>False</td>\n",
       "      <td>False</td>\n",
       "      <td>False</td>\n",
       "      <td>False</td>\n",
       "    </tr>\n",
       "    <tr>\n",
       "      <th>3</th>\n",
       "      <td>True</td>\n",
       "      <td>True</td>\n",
       "      <td>False</td>\n",
       "      <td>False</td>\n",
       "      <td>False</td>\n",
       "      <td>False</td>\n",
       "      <td>False</td>\n",
       "      <td>False</td>\n",
       "      <td>True</td>\n",
       "    </tr>\n",
       "    <tr>\n",
       "      <th>4</th>\n",
       "      <td>False</td>\n",
       "      <td>False</td>\n",
       "      <td>True</td>\n",
       "      <td>False</td>\n",
       "      <td>False</td>\n",
       "      <td>False</td>\n",
       "      <td>False</td>\n",
       "      <td>False</td>\n",
       "      <td>False</td>\n",
       "    </tr>\n",
       "    <tr>\n",
       "      <th>...</th>\n",
       "      <td>...</td>\n",
       "      <td>...</td>\n",
       "      <td>...</td>\n",
       "      <td>...</td>\n",
       "      <td>...</td>\n",
       "      <td>...</td>\n",
       "      <td>...</td>\n",
       "      <td>...</td>\n",
       "      <td>...</td>\n",
       "    </tr>\n",
       "    <tr>\n",
       "      <th>195</th>\n",
       "      <td>True</td>\n",
       "      <td>True</td>\n",
       "      <td>True</td>\n",
       "      <td>False</td>\n",
       "      <td>False</td>\n",
       "      <td>False</td>\n",
       "      <td>False</td>\n",
       "      <td>False</td>\n",
       "      <td>False</td>\n",
       "    </tr>\n",
       "    <tr>\n",
       "      <th>196</th>\n",
       "      <td>True</td>\n",
       "      <td>True</td>\n",
       "      <td>True</td>\n",
       "      <td>False</td>\n",
       "      <td>False</td>\n",
       "      <td>False</td>\n",
       "      <td>False</td>\n",
       "      <td>False</td>\n",
       "      <td>False</td>\n",
       "    </tr>\n",
       "    <tr>\n",
       "      <th>197</th>\n",
       "      <td>True</td>\n",
       "      <td>True</td>\n",
       "      <td>False</td>\n",
       "      <td>False</td>\n",
       "      <td>False</td>\n",
       "      <td>False</td>\n",
       "      <td>False</td>\n",
       "      <td>False</td>\n",
       "      <td>True</td>\n",
       "    </tr>\n",
       "    <tr>\n",
       "      <th>198</th>\n",
       "      <td>False</td>\n",
       "      <td>False</td>\n",
       "      <td>False</td>\n",
       "      <td>False</td>\n",
       "      <td>True</td>\n",
       "      <td>False</td>\n",
       "      <td>False</td>\n",
       "      <td>False</td>\n",
       "      <td>False</td>\n",
       "    </tr>\n",
       "    <tr>\n",
       "      <th>199</th>\n",
       "      <td>True</td>\n",
       "      <td>True</td>\n",
       "      <td>True</td>\n",
       "      <td>False</td>\n",
       "      <td>False</td>\n",
       "      <td>False</td>\n",
       "      <td>False</td>\n",
       "      <td>False</td>\n",
       "      <td>False</td>\n",
       "    </tr>\n",
       "  </tbody>\n",
       "</table>\n",
       "<p>200 rows × 9 columns</p>\n",
       "</div>"
      ],
      "text/plain": [
       "     history  art_and_architecture  nature  adventure  entertainment  \\\n",
       "0       True                  True   False      False          False   \n",
       "1      False                 False    True      False          False   \n",
       "2      False                 False    True      False          False   \n",
       "3       True                  True   False      False          False   \n",
       "4      False                 False    True      False          False   \n",
       "..       ...                   ...     ...        ...            ...   \n",
       "195     True                  True    True      False          False   \n",
       "196     True                  True    True      False          False   \n",
       "197     True                  True   False      False          False   \n",
       "198    False                 False   False      False           True   \n",
       "199     True                  True    True      False          False   \n",
       "\n",
       "     health_and_lifestyle   food  industries  religious  \n",
       "0                   False  False       False       True  \n",
       "1                   False  False       False      False  \n",
       "2                   False  False       False      False  \n",
       "3                   False  False       False       True  \n",
       "4                   False  False       False      False  \n",
       "..                    ...    ...         ...        ...  \n",
       "195                 False  False       False      False  \n",
       "196                 False  False       False      False  \n",
       "197                 False  False       False       True  \n",
       "198                 False  False       False      False  \n",
       "199                 False  False       False      False  \n",
       "\n",
       "[200 rows x 9 columns]"
      ]
     },
     "execution_count": 40,
     "metadata": {},
     "output_type": "execute_result"
    }
   ],
   "source": [
    "feature_df=destinations[['history','art_and_architecture','nature','adventure', 'entertainment','health_and_lifestyle',\\\n",
    "                        'food','industries','religious']]\n",
    "feature_df"
   ]
  },
  {
   "cell_type": "code",
   "execution_count": 41,
   "metadata": {},
   "outputs": [
    {
     "data": {
      "text/plain": [
       "0.3708347278418736"
      ]
     },
     "execution_count": 41,
     "metadata": {},
     "output_type": "execute_result"
    }
   ],
   "source": [
    "recmetrics.intra_list_similarity(collab_predictions, feature_df)"
   ]
  }
 ],
 "metadata": {
  "kernelspec": {
   "display_name": "Python 3 (ipykernel)",
   "language": "python",
   "name": "python3"
  },
  "language_info": {
   "codemirror_mode": {
    "name": "ipython",
    "version": 3
   },
   "file_extension": ".py",
   "mimetype": "text/x-python",
   "name": "python",
   "nbconvert_exporter": "python",
   "pygments_lexer": "ipython3",
   "version": "3.9.7"
  }
 },
 "nbformat": 4,
 "nbformat_minor": 2
}
