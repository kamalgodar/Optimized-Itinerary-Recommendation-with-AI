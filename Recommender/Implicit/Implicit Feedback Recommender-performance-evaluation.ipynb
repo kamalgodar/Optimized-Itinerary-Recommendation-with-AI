{
 "cells": [
  {
   "cell_type": "markdown",
   "metadata": {},
   "source": [
    "## Destination Recommender System with Implicit Feedback\n",
    "\n",
    "Here, we build an implicit feedback recommender system using the [implicit](https://github.com/benfred/implicit) package.\n",
    "\n",
    "The cells of the user-item matrix are populated by a given user's degree of preference towards an item, which can come in the form of:\n",
    "\n",
    "1. **explicit feedback:** direct feedback towards an item (e.g., destination ratings which can be observed in Collaborative Filter approach.\n",
    "2. **implicit feedback:** indirect behaviour towards an item (e.g., transaction history, browsing history, search behaviour)\n",
    "\n",
    "Implicit feedback makes assumptions about a user's preference based on their actions towards items. Let's take Netflix for example. If you binge-watch a show and blaze through all seasons in a week, there's a high chance that you like that show. However, if you start watching a series and stop halfway through the first episode, there's suspicion to believe that you probably don't like that show. \n"
   ]
  },
  {
   "cell_type": "markdown",
   "metadata": {},
   "source": [
    "### Step 1: Import Dependencies"
   ]
  },
  {
   "cell_type": "code",
   "execution_count": 1,
   "metadata": {},
   "outputs": [],
   "source": [
    "import numpy as np\n",
    "import pandas as pd\n",
    "from scipy.sparse import csr_matrix\n",
    "\n",
    "import implicit"
   ]
  },
  {
   "cell_type": "markdown",
   "metadata": {},
   "source": [
    "### Step 2: Load the Data"
   ]
  },
  {
   "cell_type": "code",
   "execution_count": 2,
   "metadata": {},
   "outputs": [],
   "source": [
    "ratings = pd.read_csv(\"sample_user_ratings.csv\")\n",
    "destinations = pd.read_csv(\"sample_destinations.csv\")"
   ]
  },
  {
   "cell_type": "code",
   "execution_count": 3,
   "metadata": {},
   "outputs": [
    {
     "data": {
      "text/html": [
       "<div>\n",
       "<style scoped>\n",
       "    .dataframe tbody tr th:only-of-type {\n",
       "        vertical-align: middle;\n",
       "    }\n",
       "\n",
       "    .dataframe tbody tr th {\n",
       "        vertical-align: top;\n",
       "    }\n",
       "\n",
       "    .dataframe thead th {\n",
       "        text-align: right;\n",
       "    }\n",
       "</style>\n",
       "<table border=\"1\" class=\"dataframe\">\n",
       "  <thead>\n",
       "    <tr style=\"text-align: right;\">\n",
       "      <th></th>\n",
       "      <th>user_id</th>\n",
       "      <th>destination_id</th>\n",
       "      <th>rating</th>\n",
       "    </tr>\n",
       "  </thead>\n",
       "  <tbody>\n",
       "    <tr>\n",
       "      <th>0</th>\n",
       "      <td>0</td>\n",
       "      <td>62</td>\n",
       "      <td>5</td>\n",
       "    </tr>\n",
       "    <tr>\n",
       "      <th>1</th>\n",
       "      <td>0</td>\n",
       "      <td>120</td>\n",
       "      <td>4</td>\n",
       "    </tr>\n",
       "    <tr>\n",
       "      <th>2</th>\n",
       "      <td>0</td>\n",
       "      <td>28</td>\n",
       "      <td>4</td>\n",
       "    </tr>\n",
       "    <tr>\n",
       "      <th>3</th>\n",
       "      <td>0</td>\n",
       "      <td>4</td>\n",
       "      <td>5</td>\n",
       "    </tr>\n",
       "    <tr>\n",
       "      <th>4</th>\n",
       "      <td>0</td>\n",
       "      <td>100</td>\n",
       "      <td>3</td>\n",
       "    </tr>\n",
       "  </tbody>\n",
       "</table>\n",
       "</div>"
      ],
      "text/plain": [
       "   user_id  destination_id  rating\n",
       "0        0              62       5\n",
       "1        0             120       4\n",
       "2        0              28       4\n",
       "3        0               4       5\n",
       "4        0             100       3"
      ]
     },
     "execution_count": 3,
     "metadata": {},
     "output_type": "execute_result"
    }
   ],
   "source": [
    "ratings.head()"
   ]
  },
  {
   "cell_type": "code",
   "execution_count": 4,
   "metadata": {},
   "outputs": [
    {
     "data": {
      "text/html": [
       "<div>\n",
       "<style scoped>\n",
       "    .dataframe tbody tr th:only-of-type {\n",
       "        vertical-align: middle;\n",
       "    }\n",
       "\n",
       "    .dataframe tbody tr th {\n",
       "        vertical-align: top;\n",
       "    }\n",
       "\n",
       "    .dataframe thead th {\n",
       "        text-align: right;\n",
       "    }\n",
       "</style>\n",
       "<table border=\"1\" class=\"dataframe\">\n",
       "  <thead>\n",
       "    <tr style=\"text-align: right;\">\n",
       "      <th></th>\n",
       "      <th>destination_id</th>\n",
       "      <th>title</th>\n",
       "      <th>genre</th>\n",
       "      <th>history</th>\n",
       "      <th>art_and_architecture</th>\n",
       "      <th>nature</th>\n",
       "      <th>adventure</th>\n",
       "      <th>entertainment</th>\n",
       "      <th>health_and_lifestyle</th>\n",
       "      <th>food</th>\n",
       "      <th>industries</th>\n",
       "      <th>religious</th>\n",
       "    </tr>\n",
       "  </thead>\n",
       "  <tbody>\n",
       "    <tr>\n",
       "      <th>0</th>\n",
       "      <td>0</td>\n",
       "      <td>Boudhanath Stupa</td>\n",
       "      <td>['Religious Sites']</td>\n",
       "      <td>True</td>\n",
       "      <td>True</td>\n",
       "      <td>False</td>\n",
       "      <td>False</td>\n",
       "      <td>False</td>\n",
       "      <td>False</td>\n",
       "      <td>False</td>\n",
       "      <td>False</td>\n",
       "      <td>True</td>\n",
       "    </tr>\n",
       "    <tr>\n",
       "      <th>1</th>\n",
       "      <td>1</td>\n",
       "      <td>Phewa Tal (Fewa Lake)</td>\n",
       "      <td>['Bodies of Water']</td>\n",
       "      <td>False</td>\n",
       "      <td>False</td>\n",
       "      <td>True</td>\n",
       "      <td>False</td>\n",
       "      <td>False</td>\n",
       "      <td>False</td>\n",
       "      <td>False</td>\n",
       "      <td>False</td>\n",
       "      <td>False</td>\n",
       "    </tr>\n",
       "    <tr>\n",
       "      <th>2</th>\n",
       "      <td>2</td>\n",
       "      <td>Sarangkot</td>\n",
       "      <td>['Mountains']</td>\n",
       "      <td>False</td>\n",
       "      <td>False</td>\n",
       "      <td>True</td>\n",
       "      <td>False</td>\n",
       "      <td>False</td>\n",
       "      <td>False</td>\n",
       "      <td>False</td>\n",
       "      <td>False</td>\n",
       "      <td>False</td>\n",
       "    </tr>\n",
       "    <tr>\n",
       "      <th>3</th>\n",
       "      <td>3</td>\n",
       "      <td>Swayambhunath Temple</td>\n",
       "      <td>['Religious Sites']</td>\n",
       "      <td>True</td>\n",
       "      <td>True</td>\n",
       "      <td>False</td>\n",
       "      <td>False</td>\n",
       "      <td>False</td>\n",
       "      <td>False</td>\n",
       "      <td>False</td>\n",
       "      <td>False</td>\n",
       "      <td>True</td>\n",
       "    </tr>\n",
       "    <tr>\n",
       "      <th>4</th>\n",
       "      <td>4</td>\n",
       "      <td>Poon Hill</td>\n",
       "      <td>['Mountains']</td>\n",
       "      <td>False</td>\n",
       "      <td>False</td>\n",
       "      <td>True</td>\n",
       "      <td>False</td>\n",
       "      <td>False</td>\n",
       "      <td>False</td>\n",
       "      <td>False</td>\n",
       "      <td>False</td>\n",
       "      <td>False</td>\n",
       "    </tr>\n",
       "  </tbody>\n",
       "</table>\n",
       "</div>"
      ],
      "text/plain": [
       "   destination_id                  title                genre  history  \\\n",
       "0               0       Boudhanath Stupa  ['Religious Sites']     True   \n",
       "1               1  Phewa Tal (Fewa Lake)  ['Bodies of Water']    False   \n",
       "2               2              Sarangkot        ['Mountains']    False   \n",
       "3               3   Swayambhunath Temple  ['Religious Sites']     True   \n",
       "4               4              Poon Hill        ['Mountains']    False   \n",
       "\n",
       "   art_and_architecture  nature  adventure  entertainment  \\\n",
       "0                  True   False      False          False   \n",
       "1                 False    True      False          False   \n",
       "2                 False    True      False          False   \n",
       "3                  True   False      False          False   \n",
       "4                 False    True      False          False   \n",
       "\n",
       "   health_and_lifestyle   food  industries  religious  \n",
       "0                 False  False       False       True  \n",
       "1                 False  False       False      False  \n",
       "2                 False  False       False      False  \n",
       "3                 False  False       False       True  \n",
       "4                 False  False       False      False  "
      ]
     },
     "execution_count": 4,
     "metadata": {},
     "output_type": "execute_result"
    }
   ],
   "source": [
    "destinations.head()"
   ]
  },
  {
   "cell_type": "markdown",
   "metadata": {},
   "source": [
    "#### Note : In this case, we treat destination ratings as the number of times that a user watched a destination's profile."
   ]
  },
  {
   "cell_type": "markdown",
   "metadata": {},
   "source": [
    "### Step 3: Transforming the Data\n",
    "\n",
    "Similar to collaborative filter, we need to transform the `ratings` dataframe into a user-item matrix where rows represent users and columns represent destinations. The cells of this matrix will be populated with implicit feedback: in this case, the number of times a user watched a destination's profile. \n",
    "\n",
    "The `create_X()` function outputs a sparse matrix **X** with four mapper dictionaries:\n",
    "- **user_mapper:** maps user id to user index\n",
    "- **destination_mapper:** maps destination id to destination index\n",
    "- **user_inv_mapper:** maps user index to user id\n",
    "- **destination_inv_mapper:** maps destination index to destination id\n",
    "\n",
    "We need these dictionaries because they map which row and column of the utility matrix corresponds to which user ID and destination ID, respectively.\n",
    "\n",
    "The **X** (user-item) matrix is a [scipy.sparse.csr_matrix](scipylinkhere) which stores the data sparsely.\n"
   ]
  },
  {
   "cell_type": "code",
   "execution_count": 5,
   "metadata": {},
   "outputs": [],
   "source": [
    "def create_X(df):\n",
    "    \"\"\"\n",
    "    Generates a sparse matrix from ratings dataframe.\n",
    "    \n",
    "    Args:\n",
    "        df: pandas dataframe\n",
    "    \n",
    "    Returns:\n",
    "        X: sparse matrix\n",
    "        user_mapper: dict that maps user id's to user indices\n",
    "        user_inv_mapper: dict that maps user indices to user id's\n",
    "        destination_mapper: dict that maps destination id's to destination indices\n",
    "        destination_inv_mapper: dict that maps destination indices to destination id's\n",
    "    \"\"\"\n",
    "    N = df['user_id'].nunique()\n",
    "    M = df['destination_id'].nunique()\n",
    "\n",
    "    user_mapper = dict(zip(np.unique(df[\"user_id\"]), list(range(N))))\n",
    "    destination_mapper = dict(zip(np.unique(df[\"destination_id\"]), list(range(M))))\n",
    "    \n",
    "    user_inv_mapper = dict(zip(list(range(N)), np.unique(df[\"user_id\"])))\n",
    "    destination_inv_mapper = dict(zip(list(range(M)), np.unique(df[\"destination_id\"])))\n",
    "    \n",
    "    user_index = [user_mapper[i] for i in df['user_id']]\n",
    "    destination_index = [destination_mapper[i] for i in df['destination_id']]\n",
    "\n",
    "    X = csr_matrix((df[\"rating\"], (destination_index, user_index)), shape=(M, N))\n",
    "    \n",
    "    return X, user_mapper, destination_mapper, user_inv_mapper, destination_inv_mapper"
   ]
  },
  {
   "cell_type": "code",
   "execution_count": 6,
   "metadata": {},
   "outputs": [],
   "source": [
    "X, user_mapper, destination_mapper, user_inv_mapper, destination_inv_mapper = create_X(ratings)"
   ]
  },
  {
   "cell_type": "markdown",
   "metadata": {},
   "source": [
    "### Creating Destination Title Mappers\n",
    "\n",
    "We need to interpret a destination title from its index in the user-item matrix and vice versa. Let's create 2 helper functions that make this interpretation easy:\n",
    "\n",
    "- `get_destination_index()` - converts a destination title to destination index\n",
    "\n",
    "- `get_destination_title()` - converts a destination index to destination title"
   ]
  },
  {
   "cell_type": "code",
   "execution_count": 7,
   "metadata": {},
   "outputs": [
    {
     "name": "stderr",
     "output_type": "stream",
     "text": [
      "/home/werewolf/.pyenv/versions/data2/lib/python3.9/site-packages/fuzzywuzzy/fuzz.py:11: UserWarning: Using slow pure-python SequenceMatcher. Install python-Levenshtein to remove this warning\n",
      "  warnings.warn('Using slow pure-python SequenceMatcher. Install python-Levenshtein to remove this warning')\n"
     ]
    }
   ],
   "source": [
    "from fuzzywuzzy import process\n",
    "\n",
    "def destination_finder(title):\n",
    "    all_titles = destinations['title'].tolist()\n",
    "    closest_match = process.extractOne(title,all_titles)\n",
    "    return closest_match[0]\n",
    "\n",
    "destination_title_mapper = dict(zip(destinations['title'], destinations['destination_id']))\n",
    "destination_title_inv_mapper = dict(zip(destinations['destination_id'], destinations['title']))\n",
    "\n",
    "def get_destination_index(title):\n",
    "    fuzzy_title = destination_finder(title)\n",
    "    destination_id = destination_title_mapper[fuzzy_title]\n",
    "    destination_idx = destination_mapper[destination_id]\n",
    "    return destination_idx\n",
    "\n",
    "def get_destination_title(destination_idx): \n",
    "    destination_id = destination_inv_mapper[destination_idx]\n",
    "    title = destination_title_inv_mapper[destination_id]\n",
    "    return title "
   ]
  },
  {
   "cell_type": "markdown",
   "metadata": {},
   "source": [
    "It's time to test it out! Let's get the destination index of `Swayambhunath Temple`. "
   ]
  },
  {
   "cell_type": "code",
   "execution_count": 8,
   "metadata": {},
   "outputs": [
    {
     "data": {
      "text/plain": [
       "3"
      ]
     },
     "execution_count": 8,
     "metadata": {},
     "output_type": "execute_result"
    }
   ],
   "source": [
    "get_destination_index('Swayambhunath Temple')"
   ]
  },
  {
   "cell_type": "markdown",
   "metadata": {},
   "source": [
    "Let's pass this index value into `get_destination_title()`. We're expecting Swayambhunath Temple to get returned."
   ]
  },
  {
   "cell_type": "code",
   "execution_count": 9,
   "metadata": {},
   "outputs": [
    {
     "data": {
      "text/plain": [
       "'Swayambhunath Temple'"
      ]
     },
     "execution_count": 9,
     "metadata": {},
     "output_type": "execute_result"
    }
   ],
   "source": [
    "get_destination_title(3)"
   ]
  },
  {
   "cell_type": "markdown",
   "metadata": {},
   "source": [
    "Great! These helper functions will be useful when we want to interpret our recommender results."
   ]
  },
  {
   "cell_type": "markdown",
   "metadata": {},
   "source": [
    "### Step 4: Building Our Implicit Feedback Recommender Model\n",
    "\n",
    "\n",
    "We've transformed and prepared our data so that we can start creating our recommender model.\n",
    "\n",
    "The [implicit](https://github.com/benfred/implicit) package is built around a linear algebra technique called [matrix factorization](https://en.wikipedia.org/wiki/Matrix_factorization_(recommender_systems)), which can help us discover latent features underlying the interactions between users and movies. These latent features give a more compact representation of user tastes and item descriptions. Matrix factorization is particularly useful for very sparse data and can enhance the quality of recommendations. The algorithm works by factorizing the original user-item matrix into two factor matrices:\n",
    "\n",
    "- user-factor matrix (n_users, k)\n",
    "- item-factor matrix (k, n_items)\n",
    "\n",
    "We are reducing the dimensions of our original matrix into \"taste\" dimensions. We cannot interpret what each latent feature $k$ represents. However, we could imagine that one latent feature may represent users who like historical sites, while another latent feature may represent destinations which are scenic natural destinations.\n",
    "\n",
    "$$X_{mn} \\approx P_{mk} \\times Q_{nk}^T = \\hat{X}$$\n",
    "\n",
    "\n",
    "In traditional matrix factorization, such as SVD, we would attempt to solve the factorization at once which can be very computationally expensive. As a more practical alternative, we can use a technique called `Alternating Least Squares (ALS)` instead. With ALS, we solve for one factor matrix at a time:\n",
    "\n",
    "- Step 1: hold user-factor matrix fixed and solve for the item-factor matrix\n",
    "- Step 2: hold item-factor matrix fixed and solve for the user-item matrix\n",
    "\n",
    "We alternate between Step 1 and 2 above, until the dot product of the item-factor matrix and user-item matrix is approximately equal to the original X (user-item) matrix. This approach is less computationally expensive and can be run in parallel.\n",
    "\n",
    "The [implicit](https://github.com/benfred/implicit) package implements matrix factorization using Alternating Least Squares (see docs [here](https://implicit.readthedocs.io/en/latest/als.html)). Let's initiate the model using the `AlternatingLeastSquares` class."
   ]
  },
  {
   "cell_type": "code",
   "execution_count": 10,
   "metadata": {},
   "outputs": [
    {
     "name": "stderr",
     "output_type": "stream",
     "text": [
      "/home/werewolf/.pyenv/versions/data2/lib/python3.9/site-packages/implicit/utils.py:26: UserWarning: OpenBLAS detected. Its highly recommend to set the environment variable 'export OPENBLAS_NUM_THREADS=1' to disable its internal multithreading\n",
      "  warnings.warn(\n"
     ]
    }
   ],
   "source": [
    "model = implicit.als.AlternatingLeastSquares(factors=50)"
   ]
  },
  {
   "cell_type": "markdown",
   "metadata": {},
   "source": [
    "This model comes with a couple of hyperparameters that can be tuned to generate optimal results:\n",
    "\n",
    "- factors ($k$): number of latent factors,\n",
    "- regularization ($\\lambda$): prevents the model from overfitting during training\n",
    "\n",
    "In this tutorial, we'll set $k = 50$ and $\\lambda = 0.01$ (the default). In a real-world scenario, I highly recommend tuning these hyperparameters before generating recommendations to generate optimal results.\n",
    "\n",
    "The next step is to fit our model with our user-item matrix. "
   ]
  },
  {
   "cell_type": "code",
   "execution_count": 11,
   "metadata": {},
   "outputs": [
    {
     "data": {
      "application/vnd.jupyter.widget-view+json": {
       "model_id": "9973a8b5e5ac4ed2930019a203381af2",
       "version_major": 2,
       "version_minor": 0
      },
      "text/plain": [
       "  0%|          | 0/15 [00:00<?, ?it/s]"
      ]
     },
     "metadata": {},
     "output_type": "display_data"
    }
   ],
   "source": [
    "model.fit(X)"
   ]
  },
  {
   "cell_type": "markdown",
   "metadata": {},
   "source": [
    "Now, let's test out the model's recommendations. We can use the model's `similar_items()` method which returns the most relevant destinations of a given destination. We can use our helpful `get_destination_index()` function to get the destination index of the destination that we're interested in."
   ]
  },
  {
   "cell_type": "code",
   "execution_count": 12,
   "metadata": {},
   "outputs": [
    {
     "name": "stdout",
     "output_type": "stream",
     "text": [
      "[1, 91, 44, 10, 42, 3]\n"
     ]
    }
   ],
   "source": [
    "destination_of_interest = 'phewa lake'\n",
    "\n",
    "destination_index = get_destination_index(destination_of_interest)\n",
    "related = model.similar_items(destination_index,N=6)\n",
    "related_ids=list(related[0])\n",
    "print(related_ids)"
   ]
  },
  {
   "cell_type": "markdown",
   "metadata": {},
   "source": [
    "The output of `similar_items()` is not user-friendly. We'll need to use our `get_destination_title()` function to interpret what our results are. "
   ]
  },
  {
   "cell_type": "code",
   "execution_count": 13,
   "metadata": {},
   "outputs": [
    {
     "name": "stdout",
     "output_type": "stream",
     "text": [
      "Because you watched the profile of Phewa Tal (Fewa Lake)...\n",
      "Klod Fashion Exquisite\n",
      "Budhanilkantha\n",
      "Begnas Lake\n",
      "Kailashnath Mahadev\n",
      "Swayambhunath Temple\n"
     ]
    }
   ],
   "source": [
    "print(f\"Because you watched the profile of {destination_finder(destination_of_interest)}...\")\n",
    "for r in related_ids:\n",
    "    recommended_title = get_destination_title(r)\n",
    "    if recommended_title != destination_finder(destination_of_interest):\n",
    "        print(recommended_title)"
   ]
  },
  {
   "cell_type": "markdown",
   "metadata": {},
   "source": [
    "When we treat user ratings as implicit feedback, the results look pretty good! You can test out other destinations by changing the `destination_of_interest` variable."
   ]
  },
  {
   "cell_type": "markdown",
   "metadata": {},
   "source": [
    "### Here goes the evaluation part "
   ]
  },
  {
   "cell_type": "code",
   "execution_count": 14,
   "metadata": {},
   "outputs": [],
   "source": [
    "import matplotlib.pyplot as plt\n",
    "import numpy as np\n",
    "import pandas as pd\n",
    "from surprise import SVD, Dataset, Reader\n",
    "from surprise.model_selection import train_test_split\n",
    "\n",
    "import recmetrics"
   ]
  },
  {
   "cell_type": "markdown",
   "metadata": {},
   "source": [
    "## Longtail plot"
   ]
  },
  {
   "cell_type": "code",
   "execution_count": 15,
   "metadata": {},
   "outputs": [
    {
     "name": "stderr",
     "output_type": "stream",
     "text": [
      "/home/werewolf/.pyenv/versions/data2/lib/python3.9/site-packages/seaborn/_decorators.py:36: FutureWarning: Pass the following variable as a keyword arg: x. From version 0.12, the only valid positional argument will be `data`, and passing other arguments without an explicit keyword will result in an error or misinterpretation.\n",
      "  warnings.warn(\n"
     ]
    },
    {
     "data": {
      "image/png": "[encoded data removed]",
      "text/plain": [
       "<Figure size 1080x504 with 1 Axes>"
      ]
     },
     "metadata": {
      "needs_background": "light"
     },
     "output_type": "display_data"
    }
   ],
   "source": [
    "fig = plt.figure(figsize=(15, 7))\n",
    "recmetrics.long_tail_plot(df=ratings, \n",
    "             item_id_column=\"destination_id\", \n",
    "             interaction_type=\"destination ratings\", \n",
    "             percentage=0.5,\n",
    "             x_labels=False)"
   ]
  },
  {
   "cell_type": "code",
   "execution_count": 16,
   "metadata": {},
   "outputs": [],
   "source": [
    "reader = Reader(rating_scale=(0, 5))\n",
    "data = Dataset.load_from_df(ratings[['user_id', 'destination_id', 'rating']], reader)\n",
    "trainset, testset = train_test_split(data, test_size=0.25)"
   ]
  },
  {
   "cell_type": "code",
   "execution_count": 17,
   "metadata": {},
   "outputs": [
    {
     "data": {
      "text/html": [
       "<div>\n",
       "<style scoped>\n",
       "    .dataframe tbody tr th:only-of-type {\n",
       "        vertical-align: middle;\n",
       "    }\n",
       "\n",
       "    .dataframe tbody tr th {\n",
       "        vertical-align: top;\n",
       "    }\n",
       "\n",
       "    .dataframe thead th {\n",
       "        text-align: right;\n",
       "    }\n",
       "</style>\n",
       "<table border=\"1\" class=\"dataframe\">\n",
       "  <thead>\n",
       "    <tr style=\"text-align: right;\">\n",
       "      <th></th>\n",
       "      <th>user_id</th>\n",
       "      <th>destination_id</th>\n",
       "      <th>actual</th>\n",
       "    </tr>\n",
       "  </thead>\n",
       "  <tbody>\n",
       "    <tr>\n",
       "      <th>0</th>\n",
       "      <td>56</td>\n",
       "      <td>60</td>\n",
       "      <td>5.0</td>\n",
       "    </tr>\n",
       "    <tr>\n",
       "      <th>1</th>\n",
       "      <td>6</td>\n",
       "      <td>91</td>\n",
       "      <td>4.0</td>\n",
       "    </tr>\n",
       "    <tr>\n",
       "      <th>2</th>\n",
       "      <td>33</td>\n",
       "      <td>198</td>\n",
       "      <td>4.0</td>\n",
       "    </tr>\n",
       "    <tr>\n",
       "      <th>3</th>\n",
       "      <td>37</td>\n",
       "      <td>139</td>\n",
       "      <td>4.0</td>\n",
       "    </tr>\n",
       "    <tr>\n",
       "      <th>4</th>\n",
       "      <td>0</td>\n",
       "      <td>90</td>\n",
       "      <td>4.0</td>\n",
       "    </tr>\n",
       "  </tbody>\n",
       "</table>\n",
       "</div>"
      ],
      "text/plain": [
       "   user_id  destination_id  actual\n",
       "0       56              60     5.0\n",
       "1        6              91     4.0\n",
       "2       33             198     4.0\n",
       "3       37             139     4.0\n",
       "4        0              90     4.0"
      ]
     },
     "execution_count": 17,
     "metadata": {},
     "output_type": "execute_result"
    }
   ],
   "source": [
    "test = pd.DataFrame(testset)\n",
    "test.columns = ['user_id', 'destination_id', 'actual']\n",
    "test.head()"
   ]
  },
  {
   "cell_type": "code",
   "execution_count": 18,
   "metadata": {},
   "outputs": [
    {
     "data": {
      "text/html": [
       "<div>\n",
       "<style scoped>\n",
       "    .dataframe tbody tr th:only-of-type {\n",
       "        vertical-align: middle;\n",
       "    }\n",
       "\n",
       "    .dataframe tbody tr th {\n",
       "        vertical-align: top;\n",
       "    }\n",
       "\n",
       "    .dataframe thead th {\n",
       "        text-align: right;\n",
       "    }\n",
       "</style>\n",
       "<table border=\"1\" class=\"dataframe\">\n",
       "  <thead>\n",
       "    <tr style=\"text-align: right;\">\n",
       "      <th></th>\n",
       "      <th>user_id</th>\n",
       "      <th>actual</th>\n",
       "    </tr>\n",
       "  </thead>\n",
       "  <tbody>\n",
       "    <tr>\n",
       "      <th>0</th>\n",
       "      <td>0</td>\n",
       "      <td>[4, 103, 115, 90, 28, 127]</td>\n",
       "    </tr>\n",
       "    <tr>\n",
       "      <th>1</th>\n",
       "      <td>1</td>\n",
       "      <td>[184, 130, 51]</td>\n",
       "    </tr>\n",
       "    <tr>\n",
       "      <th>2</th>\n",
       "      <td>2</td>\n",
       "      <td>[41, 99, 110]</td>\n",
       "    </tr>\n",
       "    <tr>\n",
       "      <th>3</th>\n",
       "      <td>3</td>\n",
       "      <td>[32, 2, 42, 90, 125, 95]</td>\n",
       "    </tr>\n",
       "    <tr>\n",
       "      <th>4</th>\n",
       "      <td>4</td>\n",
       "      <td>[9, 43, 182, 153, 123]</td>\n",
       "    </tr>\n",
       "    <tr>\n",
       "      <th>...</th>\n",
       "      <td>...</td>\n",
       "      <td>...</td>\n",
       "    </tr>\n",
       "    <tr>\n",
       "      <th>95</th>\n",
       "      <td>95</td>\n",
       "      <td>[0, 160, 72, 170, 120, 92]</td>\n",
       "    </tr>\n",
       "    <tr>\n",
       "      <th>96</th>\n",
       "      <td>97</td>\n",
       "      <td>[185, 139, 15, 49, 116, 22, 121]</td>\n",
       "    </tr>\n",
       "    <tr>\n",
       "      <th>97</th>\n",
       "      <td>98</td>\n",
       "      <td>[137, 106, 70]</td>\n",
       "    </tr>\n",
       "    <tr>\n",
       "      <th>98</th>\n",
       "      <td>99</td>\n",
       "      <td>[160, 80, 163, 5]</td>\n",
       "    </tr>\n",
       "    <tr>\n",
       "      <th>99</th>\n",
       "      <td>100</td>\n",
       "      <td>[161, 101, 198, 104, 45, 82, 190]</td>\n",
       "    </tr>\n",
       "  </tbody>\n",
       "</table>\n",
       "<p>100 rows × 2 columns</p>\n",
       "</div>"
      ],
      "text/plain": [
       "    user_id                             actual\n",
       "0         0         [4, 103, 115, 90, 28, 127]\n",
       "1         1                     [184, 130, 51]\n",
       "2         2                      [41, 99, 110]\n",
       "3         3           [32, 2, 42, 90, 125, 95]\n",
       "4         4             [9, 43, 182, 153, 123]\n",
       "..      ...                                ...\n",
       "95       95         [0, 160, 72, 170, 120, 92]\n",
       "96       97   [185, 139, 15, 49, 116, 22, 121]\n",
       "97       98                     [137, 106, 70]\n",
       "98       99                  [160, 80, 163, 5]\n",
       "99      100  [161, 101, 198, 104, 45, 82, 190]\n",
       "\n",
       "[100 rows x 2 columns]"
      ]
     },
     "execution_count": 18,
     "metadata": {},
     "output_type": "execute_result"
    }
   ],
   "source": [
    "test = test.copy().groupby('user_id', as_index=False)['destination_id'].agg({'actual': (lambda x: list(set(x)))})\n",
    "test"
   ]
  },
  {
   "cell_type": "code",
   "execution_count": 19,
   "metadata": {},
   "outputs": [
    {
     "data": {
      "text/html": [
       "<div>\n",
       "<style scoped>\n",
       "    .dataframe tbody tr th:only-of-type {\n",
       "        vertical-align: middle;\n",
       "    }\n",
       "\n",
       "    .dataframe tbody tr th {\n",
       "        vertical-align: top;\n",
       "    }\n",
       "\n",
       "    .dataframe thead th {\n",
       "        text-align: right;\n",
       "    }\n",
       "</style>\n",
       "<table border=\"1\" class=\"dataframe\">\n",
       "  <thead>\n",
       "    <tr style=\"text-align: right;\">\n",
       "      <th></th>\n",
       "      <th>actual</th>\n",
       "    </tr>\n",
       "    <tr>\n",
       "      <th>user_id</th>\n",
       "      <th></th>\n",
       "    </tr>\n",
       "  </thead>\n",
       "  <tbody>\n",
       "    <tr>\n",
       "      <th>0</th>\n",
       "      <td>[4, 103, 115, 90, 28, 127]</td>\n",
       "    </tr>\n",
       "    <tr>\n",
       "      <th>1</th>\n",
       "      <td>[184, 130, 51]</td>\n",
       "    </tr>\n",
       "    <tr>\n",
       "      <th>2</th>\n",
       "      <td>[41, 99, 110]</td>\n",
       "    </tr>\n",
       "    <tr>\n",
       "      <th>3</th>\n",
       "      <td>[32, 2, 42, 90, 125, 95]</td>\n",
       "    </tr>\n",
       "    <tr>\n",
       "      <th>4</th>\n",
       "      <td>[9, 43, 182, 153, 123]</td>\n",
       "    </tr>\n",
       "    <tr>\n",
       "      <th>...</th>\n",
       "      <td>...</td>\n",
       "    </tr>\n",
       "    <tr>\n",
       "      <th>95</th>\n",
       "      <td>[0, 160, 72, 170, 120, 92]</td>\n",
       "    </tr>\n",
       "    <tr>\n",
       "      <th>97</th>\n",
       "      <td>[185, 139, 15, 49, 116, 22, 121]</td>\n",
       "    </tr>\n",
       "    <tr>\n",
       "      <th>98</th>\n",
       "      <td>[137, 106, 70]</td>\n",
       "    </tr>\n",
       "    <tr>\n",
       "      <th>99</th>\n",
       "      <td>[160, 80, 163, 5]</td>\n",
       "    </tr>\n",
       "    <tr>\n",
       "      <th>100</th>\n",
       "      <td>[161, 101, 198, 104, 45, 82, 190]</td>\n",
       "    </tr>\n",
       "  </tbody>\n",
       "</table>\n",
       "<p>100 rows × 1 columns</p>\n",
       "</div>"
      ],
      "text/plain": [
       "                                    actual\n",
       "user_id                                   \n",
       "0               [4, 103, 115, 90, 28, 127]\n",
       "1                           [184, 130, 51]\n",
       "2                            [41, 99, 110]\n",
       "3                 [32, 2, 42, 90, 125, 95]\n",
       "4                   [9, 43, 182, 153, 123]\n",
       "...                                    ...\n",
       "95              [0, 160, 72, 170, 120, 92]\n",
       "97        [185, 139, 15, 49, 116, 22, 121]\n",
       "98                          [137, 106, 70]\n",
       "99                       [160, 80, 163, 5]\n",
       "100      [161, 101, 198, 104, 45, 82, 190]\n",
       "\n",
       "[100 rows x 1 columns]"
      ]
     },
     "execution_count": 19,
     "metadata": {},
     "output_type": "execute_result"
    }
   ],
   "source": [
    "test = test.set_index(\"user_id\")\n",
    "test"
   ]
  },
  {
   "cell_type": "code",
   "execution_count": 32,
   "metadata": {},
   "outputs": [
    {
     "name": "stdout",
     "output_type": "stream",
     "text": [
      "[[1, 91, 44, 10, 42, 3, 86, 79, 32, 24], [1, 91, 44, 10, 42, 3, 86, 79, 32, 24], [1, 91, 44, 10, 42, 3, 86, 79, 32, 24], [1, 91, 44, 10, 42, 3, 86, 79, 32, 24], [1, 91, 44, 10, 42, 3, 86, 79, 32, 24], [1, 91, 44, 10, 42, 3, 86, 79, 32, 24], [1, 91, 44, 10, 42, 3, 86, 79, 32, 24], [1, 91, 44, 10, 42, 3, 86, 79, 32, 24], [1, 91, 44, 10, 42, 3, 86, 79, 32, 24], [1, 91, 44, 10, 42, 3, 86, 79, 32, 24], [1, 91, 44, 10, 42, 3, 86, 79, 32, 24], [1, 91, 44, 10, 42, 3, 86, 79, 32, 24], [1, 91, 44, 10, 42, 3, 86, 79, 32, 24], [1, 91, 44, 10, 42, 3, 86, 79, 32, 24], [1, 91, 44, 10, 42, 3, 86, 79, 32, 24], [1, 91, 44, 10, 42, 3, 86, 79, 32, 24], [1, 91, 44, 10, 42, 3, 86, 79, 32, 24], [1, 91, 44, 10, 42, 3, 86, 79, 32, 24], [1, 91, 44, 10, 42, 3, 86, 79, 32, 24], [1, 91, 44, 10, 42, 3, 86, 79, 32, 24], [1, 91, 44, 10, 42, 3, 86, 79, 32, 24], [1, 91, 44, 10, 42, 3, 86, 79, 32, 24], [1, 91, 44, 10, 42, 3, 86, 79, 32, 24], [1, 91, 44, 10, 42, 3, 86, 79, 32, 24], [1, 91, 44, 10, 42, 3, 86, 79, 32, 24], [1, 91, 44, 10, 42, 3, 86, 79, 32, 24], [1, 91, 44, 10, 42, 3, 86, 79, 32, 24], [1, 91, 44, 10, 42, 3, 86, 79, 32, 24], [1, 91, 44, 10, 42, 3, 86, 79, 32, 24], [1, 91, 44, 10, 42, 3, 86, 79, 32, 24], [1, 91, 44, 10, 42, 3, 86, 79, 32, 24], [1, 91, 44, 10, 42, 3, 86, 79, 32, 24], [1, 91, 44, 10, 42, 3, 86, 79, 32, 24], [1, 91, 44, 10, 42, 3, 86, 79, 32, 24], [1, 91, 44, 10, 42, 3, 86, 79, 32, 24], [1, 91, 44, 10, 42, 3, 86, 79, 32, 24], [1, 91, 44, 10, 42, 3, 86, 79, 32, 24], [1, 91, 44, 10, 42, 3, 86, 79, 32, 24], [1, 91, 44, 10, 42, 3, 86, 79, 32, 24], [1, 91, 44, 10, 42, 3, 86, 79, 32, 24], [1, 91, 44, 10, 42, 3, 86, 79, 32, 24], [1, 91, 44, 10, 42, 3, 86, 79, 32, 24], [1, 91, 44, 10, 42, 3, 86, 79, 32, 24], [1, 91, 44, 10, 42, 3, 86, 79, 32, 24], [1, 91, 44, 10, 42, 3, 86, 79, 32, 24], [1, 91, 44, 10, 42, 3, 86, 79, 32, 24], [1, 91, 44, 10, 42, 3, 86, 79, 32, 24], [1, 91, 44, 10, 42, 3, 86, 79, 32, 24], [1, 91, 44, 10, 42, 3, 86, 79, 32, 24], [1, 91, 44, 10, 42, 3, 86, 79, 32, 24], [1, 91, 44, 10, 42, 3, 86, 79, 32, 24], [1, 91, 44, 10, 42, 3, 86, 79, 32, 24], [1, 91, 44, 10, 42, 3, 86, 79, 32, 24], [1, 91, 44, 10, 42, 3, 86, 79, 32, 24], [1, 91, 44, 10, 42, 3, 86, 79, 32, 24], [1, 91, 44, 10, 42, 3, 86, 79, 32, 24], [1, 91, 44, 10, 42, 3, 86, 79, 32, 24], [1, 91, 44, 10, 42, 3, 86, 79, 32, 24], [1, 91, 44, 10, 42, 3, 86, 79, 32, 24], [1, 91, 44, 10, 42, 3, 86, 79, 32, 24], [1, 91, 44, 10, 42, 3, 86, 79, 32, 24], [1, 91, 44, 10, 42, 3, 86, 79, 32, 24], [1, 91, 44, 10, 42, 3, 86, 79, 32, 24], [1, 91, 44, 10, 42, 3, 86, 79, 32, 24], [1, 91, 44, 10, 42, 3, 86, 79, 32, 24], [1, 91, 44, 10, 42, 3, 86, 79, 32, 24], [1, 91, 44, 10, 42, 3, 86, 79, 32, 24], [1, 91, 44, 10, 42, 3, 86, 79, 32, 24], [1, 91, 44, 10, 42, 3, 86, 79, 32, 24], [1, 91, 44, 10, 42, 3, 86, 79, 32, 24], [1, 91, 44, 10, 42, 3, 86, 79, 32, 24], [1, 91, 44, 10, 42, 3, 86, 79, 32, 24], [1, 91, 44, 10, 42, 3, 86, 79, 32, 24], [1, 91, 44, 10, 42, 3, 86, 79, 32, 24], [1, 91, 44, 10, 42, 3, 86, 79, 32, 24], [1, 91, 44, 10, 42, 3, 86, 79, 32, 24], [1, 91, 44, 10, 42, 3, 86, 79, 32, 24], [1, 91, 44, 10, 42, 3, 86, 79, 32, 24], [1, 91, 44, 10, 42, 3, 86, 79, 32, 24], [1, 91, 44, 10, 42, 3, 86, 79, 32, 24], [1, 91, 44, 10, 42, 3, 86, 79, 32, 24], [1, 91, 44, 10, 42, 3, 86, 79, 32, 24], [1, 91, 44, 10, 42, 3, 86, 79, 32, 24], [1, 91, 44, 10, 42, 3, 86, 79, 32, 24], [1, 91, 44, 10, 42, 3, 86, 79, 32, 24], [1, 91, 44, 10, 42, 3, 86, 79, 32, 24], [1, 91, 44, 10, 42, 3, 86, 79, 32, 24], [1, 91, 44, 10, 42, 3, 86, 79, 32, 24], [1, 91, 44, 10, 42, 3, 86, 79, 32, 24], [1, 91, 44, 10, 42, 3, 86, 79, 32, 24], [1, 91, 44, 10, 42, 3, 86, 79, 32, 24], [1, 91, 44, 10, 42, 3, 86, 79, 32, 24], [1, 91, 44, 10, 42, 3, 86, 79, 32, 24], [1, 91, 44, 10, 42, 3, 86, 79, 32, 24], [1, 91, 44, 10, 42, 3, 86, 79, 32, 24], [1, 91, 44, 10, 42, 3, 86, 79, 32, 24], [1, 91, 44, 10, 42, 3, 86, 79, 32, 24], [1, 91, 44, 10, 42, 3, 86, 79, 32, 24], [1, 91, 44, 10, 42, 3, 86, 79, 32, 24], [1, 91, 44, 10, 42, 3, 86, 79, 32, 24]]\n"
     ]
    }
   ],
   "source": [
    "# find the recommended 10 destinations to the users of the test dataset\n",
    "# and add them to a superlist\n",
    "super_recommended_ids=[]\n",
    "for user in test.index:\n",
    "    most_recent_destination_id=test.loc[user]['actual'][-1] #extract the most recently rated destination id\n",
    "    recommeneded_ids = model.similar_items(destination_index,N=10)[0].tolist()\n",
    "    super_recommended_ids.append(recommeneded_ids)\n",
    "print(super_recommended_ids)"
   ]
  },
  {
   "cell_type": "code",
   "execution_count": 33,
   "metadata": {},
   "outputs": [
    {
     "data": {
      "text/html": [
       "<div>\n",
       "<style scoped>\n",
       "    .dataframe tbody tr th:only-of-type {\n",
       "        vertical-align: middle;\n",
       "    }\n",
       "\n",
       "    .dataframe tbody tr th {\n",
       "        vertical-align: top;\n",
       "    }\n",
       "\n",
       "    .dataframe thead th {\n",
       "        text-align: right;\n",
       "    }\n",
       "</style>\n",
       "<table border=\"1\" class=\"dataframe\">\n",
       "  <thead>\n",
       "    <tr style=\"text-align: right;\">\n",
       "      <th></th>\n",
       "      <th>actual</th>\n",
       "      <th>als_predictions</th>\n",
       "    </tr>\n",
       "    <tr>\n",
       "      <th>user_id</th>\n",
       "      <th></th>\n",
       "      <th></th>\n",
       "    </tr>\n",
       "  </thead>\n",
       "  <tbody>\n",
       "    <tr>\n",
       "      <th>0</th>\n",
       "      <td>[4, 103, 115, 90, 28, 127]</td>\n",
       "      <td>[1, 91, 44, 10, 42, 3, 86, 79, 32, 24]</td>\n",
       "    </tr>\n",
       "    <tr>\n",
       "      <th>1</th>\n",
       "      <td>[184, 130, 51]</td>\n",
       "      <td>[1, 91, 44, 10, 42, 3, 86, 79, 32, 24]</td>\n",
       "    </tr>\n",
       "    <tr>\n",
       "      <th>2</th>\n",
       "      <td>[41, 99, 110]</td>\n",
       "      <td>[1, 91, 44, 10, 42, 3, 86, 79, 32, 24]</td>\n",
       "    </tr>\n",
       "    <tr>\n",
       "      <th>3</th>\n",
       "      <td>[32, 2, 42, 90, 125, 95]</td>\n",
       "      <td>[1, 91, 44, 10, 42, 3, 86, 79, 32, 24]</td>\n",
       "    </tr>\n",
       "    <tr>\n",
       "      <th>4</th>\n",
       "      <td>[9, 43, 182, 153, 123]</td>\n",
       "      <td>[1, 91, 44, 10, 42, 3, 86, 79, 32, 24]</td>\n",
       "    </tr>\n",
       "  </tbody>\n",
       "</table>\n",
       "</div>"
      ],
      "text/plain": [
       "                             actual                         als_predictions\n",
       "user_id                                                                    \n",
       "0        [4, 103, 115, 90, 28, 127]  [1, 91, 44, 10, 42, 3, 86, 79, 32, 24]\n",
       "1                    [184, 130, 51]  [1, 91, 44, 10, 42, 3, 86, 79, 32, 24]\n",
       "2                     [41, 99, 110]  [1, 91, 44, 10, 42, 3, 86, 79, 32, 24]\n",
       "3          [32, 2, 42, 90, 125, 95]  [1, 91, 44, 10, 42, 3, 86, 79, 32, 24]\n",
       "4            [9, 43, 182, 153, 123]  [1, 91, 44, 10, 42, 3, 86, 79, 32, 24]"
      ]
     },
     "execution_count": 33,
     "metadata": {},
     "output_type": "execute_result"
    }
   ],
   "source": [
    "# update the recommended ids as a new column\n",
    "test['als_predictions']=super_recommended_ids\n",
    "test.head()"
   ]
  },
  {
   "cell_type": "code",
   "execution_count": 34,
   "metadata": {},
   "outputs": [
    {
     "name": "stdout",
     "output_type": "stream",
     "text": [
      "[[4, 103, 115, 90, 28, 127], [184, 130, 51], [41, 99, 110], [32, 2, 42, 90, 125, 95], [9, 43, 182, 153, 123], [107, 180], [192, 128, 6, 170, 142, 144, 91], [6, 169, 86, 183, 123, 159], [2, 4, 39, 104, 9, 15, 80, 177, 191], [164, 10, 75, 79, 59], [114, 140, 69], [135, 14, 142, 114, 178, 85, 57, 186, 158], [24, 63], [80], [66, 37, 167, 136, 173, 15, 121, 187, 60, 62], [95, 198, 135], [129, 73, 18, 83, 125], [20, 22, 151, 31, 63], [32, 66, 69, 146, 121], [186, 123, 134, 15], [9, 58, 161, 132], [98, 69, 109], [104, 20, 87], [97, 34, 132, 76, 88, 123], [72, 61], [130, 76], [156, 50, 100, 38], [69, 199, 74, 20, 148, 62], [66, 139, 180, 84, 151, 121, 159], [69, 106, 43, 118, 189, 126], [40, 24, 99, 73], [178, 57, 98, 62], [24, 73, 43, 81], [56, 106, 198, 30], [2, 77, 71], [32, 122, 21], [32, 65, 105, 172, 79, 18, 19, 149, 25, 30], [64, 139, 141, 16, 24, 125], [1, 135, 72, 112, 49, 21, 24, 123], [32, 58, 74, 29], [88, 67, 156, 118], [11, 37, 12, 13], [16, 162, 64, 135], [37, 13, 45, 80, 182, 26, 189], [5, 104, 169, 107, 17, 90], [140], [70, 41, 44, 83, 181, 185, 91, 31], [196, 109, 158, 31], [35, 117, 99, 181], [196, 104, 174, 144, 19, 85], [162, 163, 100, 8, 187, 18, 149, 184, 57, 27, 125], [35, 67, 166, 113, 30], [43, 23, 111], [2, 106, 107, 37], [193, 36, 197, 74, 108, 142, 18], [43, 91, 163], [82, 188, 151, 60, 61, 63], [184, 40, 108], [76, 77, 112, 177, 52, 120, 29], [195, 137, 46, 82, 152, 153, 187, 93, 95], [14], [136, 185, 109, 159], [162, 166, 138, 30, 159], [81, 189, 103], [27, 45, 110], [128, 36, 142, 117, 182, 120, 29, 95], [56, 138, 88, 164], [161, 1, 172, 44, 51, 86, 56, 90, 159], [161, 196, 101, 100, 103, 81, 179], [0, 162, 167, 108, 109, 147, 188], [96], [58, 187, 155, 189], [118, 61, 166, 119], [9, 105, 13, 77, 146, 27], [68, 104, 110, 80, 17, 118, 154, 188, 61], [37, 8, 137, 146, 185], [0, 82, 188, 104], [196, 38, 102, 74, 106, 110, 147, 190, 30], [36, 133, 166, 135, 104, 169, 28, 125, 127], [24, 26, 51, 94], [100, 133, 55, 91, 62], [194, 40, 10, 21, 150, 183, 120, 57, 122, 61, 31], [196, 36, 74, 106, 77, 185], [137, 83, 95], [1, 37, 173, 16, 82, 83, 92, 94], [70, 40, 175, 80, 111, 157], [66], [123, 83, 139, 84], [192, 97, 99, 102, 70, 137], [129, 130, 34, 66, 53, 88, 120], [100], [90, 110], [178, 172, 142], [47, 6, 15], [38, 63], [0, 160, 72, 170, 120, 92], [185, 139, 15, 49, 116, 22, 121], [137, 106, 70], [160, 80, 163, 5], [161, 101, 198, 104, 45, 82, 190]]\n",
      "[[1, 91, 44, 10, 42, 3, 86, 79, 32, 24], [1, 91, 44, 10, 42, 3, 86, 79, 32, 24], [1, 91, 44, 10, 42, 3, 86, 79, 32, 24], [1, 91, 44, 10, 42, 3, 86, 79, 32, 24], [1, 91, 44, 10, 42, 3, 86, 79, 32, 24], [1, 91, 44, 10, 42, 3, 86, 79, 32, 24], [1, 91, 44, 10, 42, 3, 86, 79, 32, 24], [1, 91, 44, 10, 42, 3, 86, 79, 32, 24], [1, 91, 44, 10, 42, 3, 86, 79, 32, 24], [1, 91, 44, 10, 42, 3, 86, 79, 32, 24], [1, 91, 44, 10, 42, 3, 86, 79, 32, 24], [1, 91, 44, 10, 42, 3, 86, 79, 32, 24], [1, 91, 44, 10, 42, 3, 86, 79, 32, 24], [1, 91, 44, 10, 42, 3, 86, 79, 32, 24], [1, 91, 44, 10, 42, 3, 86, 79, 32, 24], [1, 91, 44, 10, 42, 3, 86, 79, 32, 24], [1, 91, 44, 10, 42, 3, 86, 79, 32, 24], [1, 91, 44, 10, 42, 3, 86, 79, 32, 24], [1, 91, 44, 10, 42, 3, 86, 79, 32, 24], [1, 91, 44, 10, 42, 3, 86, 79, 32, 24], [1, 91, 44, 10, 42, 3, 86, 79, 32, 24], [1, 91, 44, 10, 42, 3, 86, 79, 32, 24], [1, 91, 44, 10, 42, 3, 86, 79, 32, 24], [1, 91, 44, 10, 42, 3, 86, 79, 32, 24], [1, 91, 44, 10, 42, 3, 86, 79, 32, 24], [1, 91, 44, 10, 42, 3, 86, 79, 32, 24], [1, 91, 44, 10, 42, 3, 86, 79, 32, 24], [1, 91, 44, 10, 42, 3, 86, 79, 32, 24], [1, 91, 44, 10, 42, 3, 86, 79, 32, 24], [1, 91, 44, 10, 42, 3, 86, 79, 32, 24], [1, 91, 44, 10, 42, 3, 86, 79, 32, 24], [1, 91, 44, 10, 42, 3, 86, 79, 32, 24], [1, 91, 44, 10, 42, 3, 86, 79, 32, 24], [1, 91, 44, 10, 42, 3, 86, 79, 32, 24], [1, 91, 44, 10, 42, 3, 86, 79, 32, 24], [1, 91, 44, 10, 42, 3, 86, 79, 32, 24], [1, 91, 44, 10, 42, 3, 86, 79, 32, 24], [1, 91, 44, 10, 42, 3, 86, 79, 32, 24], [1, 91, 44, 10, 42, 3, 86, 79, 32, 24], [1, 91, 44, 10, 42, 3, 86, 79, 32, 24], [1, 91, 44, 10, 42, 3, 86, 79, 32, 24], [1, 91, 44, 10, 42, 3, 86, 79, 32, 24], [1, 91, 44, 10, 42, 3, 86, 79, 32, 24], [1, 91, 44, 10, 42, 3, 86, 79, 32, 24], [1, 91, 44, 10, 42, 3, 86, 79, 32, 24], [1, 91, 44, 10, 42, 3, 86, 79, 32, 24], [1, 91, 44, 10, 42, 3, 86, 79, 32, 24], [1, 91, 44, 10, 42, 3, 86, 79, 32, 24], [1, 91, 44, 10, 42, 3, 86, 79, 32, 24], [1, 91, 44, 10, 42, 3, 86, 79, 32, 24], [1, 91, 44, 10, 42, 3, 86, 79, 32, 24], [1, 91, 44, 10, 42, 3, 86, 79, 32, 24], [1, 91, 44, 10, 42, 3, 86, 79, 32, 24], [1, 91, 44, 10, 42, 3, 86, 79, 32, 24], [1, 91, 44, 10, 42, 3, 86, 79, 32, 24], [1, 91, 44, 10, 42, 3, 86, 79, 32, 24], [1, 91, 44, 10, 42, 3, 86, 79, 32, 24], [1, 91, 44, 10, 42, 3, 86, 79, 32, 24], [1, 91, 44, 10, 42, 3, 86, 79, 32, 24], [1, 91, 44, 10, 42, 3, 86, 79, 32, 24], [1, 91, 44, 10, 42, 3, 86, 79, 32, 24], [1, 91, 44, 10, 42, 3, 86, 79, 32, 24], [1, 91, 44, 10, 42, 3, 86, 79, 32, 24], [1, 91, 44, 10, 42, 3, 86, 79, 32, 24], [1, 91, 44, 10, 42, 3, 86, 79, 32, 24], [1, 91, 44, 10, 42, 3, 86, 79, 32, 24], [1, 91, 44, 10, 42, 3, 86, 79, 32, 24], [1, 91, 44, 10, 42, 3, 86, 79, 32, 24], [1, 91, 44, 10, 42, 3, 86, 79, 32, 24], [1, 91, 44, 10, 42, 3, 86, 79, 32, 24], [1, 91, 44, 10, 42, 3, 86, 79, 32, 24], [1, 91, 44, 10, 42, 3, 86, 79, 32, 24], [1, 91, 44, 10, 42, 3, 86, 79, 32, 24], [1, 91, 44, 10, 42, 3, 86, 79, 32, 24], [1, 91, 44, 10, 42, 3, 86, 79, 32, 24], [1, 91, 44, 10, 42, 3, 86, 79, 32, 24], [1, 91, 44, 10, 42, 3, 86, 79, 32, 24], [1, 91, 44, 10, 42, 3, 86, 79, 32, 24], [1, 91, 44, 10, 42, 3, 86, 79, 32, 24], [1, 91, 44, 10, 42, 3, 86, 79, 32, 24], [1, 91, 44, 10, 42, 3, 86, 79, 32, 24], [1, 91, 44, 10, 42, 3, 86, 79, 32, 24], [1, 91, 44, 10, 42, 3, 86, 79, 32, 24], [1, 91, 44, 10, 42, 3, 86, 79, 32, 24], [1, 91, 44, 10, 42, 3, 86, 79, 32, 24], [1, 91, 44, 10, 42, 3, 86, 79, 32, 24], [1, 91, 44, 10, 42, 3, 86, 79, 32, 24], [1, 91, 44, 10, 42, 3, 86, 79, 32, 24], [1, 91, 44, 10, 42, 3, 86, 79, 32, 24], [1, 91, 44, 10, 42, 3, 86, 79, 32, 24], [1, 91, 44, 10, 42, 3, 86, 79, 32, 24], [1, 91, 44, 10, 42, 3, 86, 79, 32, 24], [1, 91, 44, 10, 42, 3, 86, 79, 32, 24], [1, 91, 44, 10, 42, 3, 86, 79, 32, 24], [1, 91, 44, 10, 42, 3, 86, 79, 32, 24], [1, 91, 44, 10, 42, 3, 86, 79, 32, 24], [1, 91, 44, 10, 42, 3, 86, 79, 32, 24], [1, 91, 44, 10, 42, 3, 86, 79, 32, 24], [1, 91, 44, 10, 42, 3, 86, 79, 32, 24], [1, 91, 44, 10, 42, 3, 86, 79, 32, 24]]\n"
     ]
    }
   ],
   "source": [
    "actual=test['actual'].values.tolist()\n",
    "als_predictions=test['als_predictions'].values.tolist()\n",
    "print(actual)\n",
    "print(als_predictions)"
   ]
  },
  {
   "cell_type": "code",
   "execution_count": 35,
   "metadata": {},
   "outputs": [
    {
     "data": {
      "text/plain": [
       "[0.003611111111111111,\n",
       " 0.007617063492063492,\n",
       " 0.009191137566137566,\n",
       " 0.009918410293410293,\n",
       " 0.010251743626743626,\n",
       " 0.010251743626743626,\n",
       " 0.010966029341029339,\n",
       " 0.011591029341029341,\n",
       " 0.013053992303992304,\n",
       " 0.01472065897065897]"
      ]
     },
     "execution_count": 35,
     "metadata": {},
     "output_type": "execute_result"
    }
   ],
   "source": [
    "# calculate the mark score\n",
    "als_mark = []\n",
    "for K in np.arange(1, 11):\n",
    "    als_mark.extend([recmetrics.mark(actual, als_predictions, k=K)])\n",
    "als_mark"
   ]
  },
  {
   "cell_type": "code",
   "execution_count": 36,
   "metadata": {},
   "outputs": [
    {
     "data": {
      "image/png": "[encoded data removed]",
      "text/plain": [
       "<Figure size 1080x504 with 1 Axes>"
      ]
     },
     "metadata": {
      "needs_background": "light"
     },
     "output_type": "display_data"
    }
   ],
   "source": [
    "# generate a mark plot\n",
    "mark_scores = [als_mark]\n",
    "index = range(1,10+1)\n",
    "names = ['Alternative Least Square Collaborative Filter']\n",
    "\n",
    "fig = plt.figure(figsize=(15, 7))\n",
    "recmetrics.mark_plot(mark_scores, model_names=names, k_range=index)"
   ]
  },
  {
   "cell_type": "code",
   "execution_count": 37,
   "metadata": {},
   "outputs": [],
   "source": [
    "import ml_metrics as metrics"
   ]
  },
  {
   "cell_type": "markdown",
   "metadata": {},
   "source": [
    "### Similarly, generate MAPK score"
   ]
  },
  {
   "cell_type": "code",
   "execution_count": 39,
   "metadata": {},
   "outputs": [
    {
     "data": {
      "text/plain": [
       "[0.03,\n",
       " 0.025,\n",
       " 0.02111111111111111,\n",
       " 0.0175,\n",
       " 0.014733333333333331,\n",
       " 0.012805555555555554,\n",
       " 0.012326530612244898,\n",
       " 0.011998511904761906,\n",
       " 0.013143077601410934,\n",
       " 0.014743386243386242]"
      ]
     },
     "execution_count": 39,
     "metadata": {},
     "output_type": "execute_result"
    }
   ],
   "source": [
    "als_mapk = []\n",
    "for K in np.arange(1, 11):\n",
    "    als_mapk.extend([metrics.mapk(actual, als_predictions, k=K)])\n",
    "als_mapk"
   ]
  },
  {
   "cell_type": "code",
   "execution_count": 40,
   "metadata": {},
   "outputs": [
    {
     "data": {
      "image/png": "[encoded data removed]",
      "text/plain": [
       "<Figure size 1080x504 with 1 Axes>"
      ]
     },
     "metadata": {
      "needs_background": "light"
     },
     "output_type": "display_data"
    }
   ],
   "source": [
    "# generate a mapk plot\n",
    "mapk_scores = [als_mapk]\n",
    "index = range(1,10+1)\n",
    "names = ['Alternating Least Squares Collaborative Filter']\n",
    "\n",
    "fig = plt.figure(figsize=(15, 7))\n",
    "recmetrics.mapk_plot(mapk_scores, model_names=names, k_range=index)"
   ]
  },
  {
   "cell_type": "markdown",
   "metadata": {},
   "source": [
    "## Calculate the prediction coverage"
   ]
  },
  {
   "cell_type": "code",
   "execution_count": 46,
   "metadata": {},
   "outputs": [
    {
     "name": "stdout",
     "output_type": "stream",
     "text": [
      "5.0\n"
     ]
    }
   ],
   "source": [
    "catalog = ratings.destination_id.unique().tolist()\n",
    "als_coverage = recmetrics.prediction_coverage(als_predictions, catalog)\n",
    "print(als_coverage)"
   ]
  },
  {
   "cell_type": "markdown",
   "metadata": {},
   "source": [
    "## Coverage plot"
   ]
  },
  {
   "cell_type": "code",
   "execution_count": 43,
   "metadata": {},
   "outputs": [
    {
     "data": {
      "image/png": "[encoded data removed]",
      "text/plain": [
       "<Figure size 504x360 with 1 Axes>"
      ]
     },
     "metadata": {
      "needs_background": "light"
     },
     "output_type": "display_data"
    }
   ],
   "source": [
    "# plot of prediction coverage\n",
    "als_scores = [als_coverage]\n",
    "model_names = ['Alternating Least Squares Filter']\n",
    "\n",
    "fig = plt.figure(figsize=(7, 5))\n",
    "recmetrics.coverage_plot(als_scores, model_names)"
   ]
  },
  {
   "cell_type": "markdown",
   "metadata": {},
   "source": [
    "## Intra-list similarity"
   ]
  },
  {
   "cell_type": "code",
   "execution_count": 44,
   "metadata": {},
   "outputs": [
    {
     "data": {
      "text/html": [
       "<div>\n",
       "<style scoped>\n",
       "    .dataframe tbody tr th:only-of-type {\n",
       "        vertical-align: middle;\n",
       "    }\n",
       "\n",
       "    .dataframe tbody tr th {\n",
       "        vertical-align: top;\n",
       "    }\n",
       "\n",
       "    .dataframe thead th {\n",
       "        text-align: right;\n",
       "    }\n",
       "</style>\n",
       "<table border=\"1\" class=\"dataframe\">\n",
       "  <thead>\n",
       "    <tr style=\"text-align: right;\">\n",
       "      <th></th>\n",
       "      <th>history</th>\n",
       "      <th>art_and_architecture</th>\n",
       "      <th>nature</th>\n",
       "      <th>adventure</th>\n",
       "      <th>entertainment</th>\n",
       "      <th>health_and_lifestyle</th>\n",
       "      <th>food</th>\n",
       "      <th>industries</th>\n",
       "      <th>religious</th>\n",
       "    </tr>\n",
       "  </thead>\n",
       "  <tbody>\n",
       "    <tr>\n",
       "      <th>0</th>\n",
       "      <td>True</td>\n",
       "      <td>True</td>\n",
       "      <td>False</td>\n",
       "      <td>False</td>\n",
       "      <td>False</td>\n",
       "      <td>False</td>\n",
       "      <td>False</td>\n",
       "      <td>False</td>\n",
       "      <td>True</td>\n",
       "    </tr>\n",
       "    <tr>\n",
       "      <th>1</th>\n",
       "      <td>False</td>\n",
       "      <td>False</td>\n",
       "      <td>True</td>\n",
       "      <td>False</td>\n",
       "      <td>False</td>\n",
       "      <td>False</td>\n",
       "      <td>False</td>\n",
       "      <td>False</td>\n",
       "      <td>False</td>\n",
       "    </tr>\n",
       "    <tr>\n",
       "      <th>2</th>\n",
       "      <td>False</td>\n",
       "      <td>False</td>\n",
       "      <td>True</td>\n",
       "      <td>False</td>\n",
       "      <td>False</td>\n",
       "      <td>False</td>\n",
       "      <td>False</td>\n",
       "      <td>False</td>\n",
       "      <td>False</td>\n",
       "    </tr>\n",
       "    <tr>\n",
       "      <th>3</th>\n",
       "      <td>True</td>\n",
       "      <td>True</td>\n",
       "      <td>False</td>\n",
       "      <td>False</td>\n",
       "      <td>False</td>\n",
       "      <td>False</td>\n",
       "      <td>False</td>\n",
       "      <td>False</td>\n",
       "      <td>True</td>\n",
       "    </tr>\n",
       "    <tr>\n",
       "      <th>4</th>\n",
       "      <td>False</td>\n",
       "      <td>False</td>\n",
       "      <td>True</td>\n",
       "      <td>False</td>\n",
       "      <td>False</td>\n",
       "      <td>False</td>\n",
       "      <td>False</td>\n",
       "      <td>False</td>\n",
       "      <td>False</td>\n",
       "    </tr>\n",
       "    <tr>\n",
       "      <th>...</th>\n",
       "      <td>...</td>\n",
       "      <td>...</td>\n",
       "      <td>...</td>\n",
       "      <td>...</td>\n",
       "      <td>...</td>\n",
       "      <td>...</td>\n",
       "      <td>...</td>\n",
       "      <td>...</td>\n",
       "      <td>...</td>\n",
       "    </tr>\n",
       "    <tr>\n",
       "      <th>195</th>\n",
       "      <td>True</td>\n",
       "      <td>True</td>\n",
       "      <td>True</td>\n",
       "      <td>False</td>\n",
       "      <td>False</td>\n",
       "      <td>False</td>\n",
       "      <td>False</td>\n",
       "      <td>False</td>\n",
       "      <td>False</td>\n",
       "    </tr>\n",
       "    <tr>\n",
       "      <th>196</th>\n",
       "      <td>True</td>\n",
       "      <td>True</td>\n",
       "      <td>True</td>\n",
       "      <td>False</td>\n",
       "      <td>False</td>\n",
       "      <td>False</td>\n",
       "      <td>False</td>\n",
       "      <td>False</td>\n",
       "      <td>False</td>\n",
       "    </tr>\n",
       "    <tr>\n",
       "      <th>197</th>\n",
       "      <td>True</td>\n",
       "      <td>True</td>\n",
       "      <td>False</td>\n",
       "      <td>False</td>\n",
       "      <td>False</td>\n",
       "      <td>False</td>\n",
       "      <td>False</td>\n",
       "      <td>False</td>\n",
       "      <td>True</td>\n",
       "    </tr>\n",
       "    <tr>\n",
       "      <th>198</th>\n",
       "      <td>False</td>\n",
       "      <td>False</td>\n",
       "      <td>False</td>\n",
       "      <td>False</td>\n",
       "      <td>True</td>\n",
       "      <td>False</td>\n",
       "      <td>False</td>\n",
       "      <td>False</td>\n",
       "      <td>False</td>\n",
       "    </tr>\n",
       "    <tr>\n",
       "      <th>199</th>\n",
       "      <td>True</td>\n",
       "      <td>True</td>\n",
       "      <td>True</td>\n",
       "      <td>False</td>\n",
       "      <td>False</td>\n",
       "      <td>False</td>\n",
       "      <td>False</td>\n",
       "      <td>False</td>\n",
       "      <td>False</td>\n",
       "    </tr>\n",
       "  </tbody>\n",
       "</table>\n",
       "<p>200 rows × 9 columns</p>\n",
       "</div>"
      ],
      "text/plain": [
       "     history  art_and_architecture  nature  adventure  entertainment  \\\n",
       "0       True                  True   False      False          False   \n",
       "1      False                 False    True      False          False   \n",
       "2      False                 False    True      False          False   \n",
       "3       True                  True   False      False          False   \n",
       "4      False                 False    True      False          False   \n",
       "..       ...                   ...     ...        ...            ...   \n",
       "195     True                  True    True      False          False   \n",
       "196     True                  True    True      False          False   \n",
       "197     True                  True   False      False          False   \n",
       "198    False                 False   False      False           True   \n",
       "199     True                  True    True      False          False   \n",
       "\n",
       "     health_and_lifestyle   food  industries  religious  \n",
       "0                   False  False       False       True  \n",
       "1                   False  False       False      False  \n",
       "2                   False  False       False      False  \n",
       "3                   False  False       False       True  \n",
       "4                   False  False       False      False  \n",
       "..                    ...    ...         ...        ...  \n",
       "195                 False  False       False      False  \n",
       "196                 False  False       False      False  \n",
       "197                 False  False       False       True  \n",
       "198                 False  False       False      False  \n",
       "199                 False  False       False      False  \n",
       "\n",
       "[200 rows x 9 columns]"
      ]
     },
     "execution_count": 44,
     "metadata": {},
     "output_type": "execute_result"
    }
   ],
   "source": [
    "feature_df=destinations[['history','art_and_architecture','nature','adventure', 'entertainment','health_and_lifestyle',\\\n",
    "                        'food','industries','religious']]\n",
    "feature_df"
   ]
  },
  {
   "cell_type": "code",
   "execution_count": 45,
   "metadata": {},
   "outputs": [
    {
     "data": {
      "text/plain": [
       "0.37007317757736574"
      ]
     },
     "execution_count": 45,
     "metadata": {},
     "output_type": "execute_result"
    }
   ],
   "source": [
    "recmetrics.intra_list_similarity(als_predictions, feature_df)"
   ]
  }
 ],
 "metadata": {
  "kernelspec": {
   "display_name": "Python 3 (ipykernel)",
   "language": "python",
   "name": "python3"
  },
  "language_info": {
   "codemirror_mode": {
    "name": "ipython",
    "version": 3
   },
   "file_extension": ".py",
   "mimetype": "text/x-python",
   "name": "python",
   "nbconvert_exporter": "python",
   "pygments_lexer": "ipython3",
   "version": "3.9.7"
  }
 },
 "nbformat": 4,
 "nbformat_minor": 4
}
