{
 "cells": [
  {
   "cell_type": "markdown",
   "metadata": {},
   "source": [
    "## Destination Recommender System with Implicit Feedback\n",
    "\n",
    "Here, we build an implicit feedback recommender system using the [implicit](https://github.com/benfred/implicit) package.\n",
    "\n",
    "The cells of the user-item matrix are populated by a given user's degree of preference towards an item, which can come in the form of:\n",
    "\n",
    "1. **explicit feedback:** direct feedback towards an item (e.g., destination ratings which can be observed in Collaborative Filter approach.\n",
    "2. **implicit feedback:** indirect behaviour towards an item (e.g., transaction history, browsing history, search behaviour)\n",
    "\n",
    "Implicit feedback makes assumptions about a user's preference based on their actions towards items. Let's take Netflix for example. If you binge-watch a show and blaze through all seasons in a week, there's a high chance that you like that show. However, if you start watching a series and stop halfway through the first episode, there's suspicion to believe that you probably don't like that show. \n"
   ]
  },
  {
   "cell_type": "markdown",
   "metadata": {},
   "source": [
    "### Step 1: Import Dependencies"
   ]
  },
  {
   "cell_type": "code",
   "execution_count": null,
   "metadata": {},
   "outputs": [],
   "source": [
    "import numpy as np\n",
    "import pandas as pd\n",
    "from scipy.sparse import csr_matrix\n",
    "\n",
    "import implicit"
   ]
  },
  {
   "cell_type": "markdown",
   "metadata": {},
   "source": [
    "### Step 2: Load the Data"
   ]
  },
  {
   "cell_type": "code",
   "execution_count": null,
   "metadata": {},
   "outputs": [],
   "source": [
    "ratings = pd.read_csv(\"sample_user_ratings.csv\")\n",
    "destinations = pd.read_csv(\"sample_destinations.csv\")"
   ]
  },
  {
   "cell_type": "code",
   "execution_count": null,
   "metadata": {},
   "outputs": [],
   "source": [
    "ratings.head()"
   ]
  },
  {
   "cell_type": "code",
   "execution_count": null,
   "metadata": {},
   "outputs": [],
   "source": [
    "destinations.head()"
   ]
  },
  {
   "cell_type": "markdown",
   "metadata": {},
   "source": [
    "#### Note : In this case, we treat destination ratings as the number of times that a user watched a destination's profile."
   ]
  },
  {
   "cell_type": "markdown",
   "metadata": {},
   "source": [
    "### Step 3: Transforming the Data\n",
    "\n",
    "Similar to collaborative filter, we need to transform the `ratings` dataframe into a user-item matrix where rows represent users and columns represent destinations. The cells of this matrix will be populated with implicit feedback: in this case, the number of times a user watched a destination's profile. \n",
    "\n",
    "The `create_X()` function outputs a sparse matrix **X** with four mapper dictionaries:\n",
    "- **user_mapper:** maps user id to user index\n",
    "- **destination_mapper:** maps destination id to destination index\n",
    "- **user_inv_mapper:** maps user index to user id\n",
    "- **destination_inv_mapper:** maps destination index to destination id\n",
    "\n",
    "We need these dictionaries because they map which row and column of the utility matrix corresponds to which user ID and destination ID, respectively.\n",
    "\n",
    "The **X** (user-item) matrix is a [scipy.sparse.csr_matrix](scipylinkhere) which stores the data sparsely.\n"
   ]
  },
  {
   "cell_type": "code",
   "execution_count": null,
   "metadata": {},
   "outputs": [],
   "source": [
    "def create_X(df):\n",
    "    \"\"\"\n",
    "    Generates a sparse matrix from ratings dataframe.\n",
    "    \n",
    "    Args:\n",
    "        df: pandas dataframe\n",
    "    \n",
    "    Returns:\n",
    "        X: sparse matrix\n",
    "        user_mapper: dict that maps user id's to user indices\n",
    "        user_inv_mapper: dict that maps user indices to user id's\n",
    "        destination_mapper: dict that maps destination id's to destination indices\n",
    "        destination_inv_mapper: dict that maps destination indices to destination id's\n",
    "    \"\"\"\n",
    "    N = df['user_id'].nunique()\n",
    "    M = df['destination_id'].nunique()\n",
    "\n",
    "    user_mapper = dict(zip(np.unique(df[\"user_id\"]), list(range(N))))\n",
    "    destination_mapper = dict(zip(np.unique(df[\"destination_id\"]), list(range(M))))\n",
    "    \n",
    "    user_inv_mapper = dict(zip(list(range(N)), np.unique(df[\"user_id\"])))\n",
    "    destination_inv_mapper = dict(zip(list(range(M)), np.unique(df[\"destination_id\"])))\n",
    "    \n",
    "    user_index = [user_mapper[i] for i in df['user_id']]\n",
    "    destination_index = [destination_mapper[i] for i in df['destination_id']]\n",
    "\n",
    "    X = csr_matrix((df[\"rating\"], (destination_index, user_index)), shape=(M, N))\n",
    "    \n",
    "    return X, user_mapper, destination_mapper, user_inv_mapper, destination_inv_mapper"
   ]
  },
  {
   "cell_type": "code",
   "execution_count": null,
   "metadata": {},
   "outputs": [],
   "source": [
    "X, user_mapper, destination_mapper, user_inv_mapper, destination_inv_mapper = create_X(ratings)"
   ]
  },
  {
   "cell_type": "markdown",
   "metadata": {},
   "source": [
    "### Creating Destination Title Mappers\n",
    "\n",
    "We need to interpret a destination title from its index in the user-item matrix and vice versa. Let's create 2 helper functions that make this interpretation easy:\n",
    "\n",
    "- `get_destination_index()` - converts a destination title to destination index\n",
    "\n",
    "- `get_destination_title()` - converts a destination index to destination title"
   ]
  },
  {
   "cell_type": "code",
   "execution_count": null,
   "metadata": {},
   "outputs": [],
   "source": [
    "from fuzzywuzzy import process\n",
    "\n",
    "def destination_finder(title):\n",
    "    all_titles = destinations['title'].tolist()\n",
    "    closest_match = process.extractOne(title,all_titles)\n",
    "    return closest_match[0]\n",
    "\n",
    "destination_title_mapper = dict(zip(destinations['title'], destinations['destination_id']))\n",
    "destination_title_inv_mapper = dict(zip(destinations['destination_id'], destinations['title']))\n",
    "\n",
    "def get_destination_index(title):\n",
    "    fuzzy_title = destination_finder(title)\n",
    "    destination_id = destination_title_mapper[fuzzy_title]\n",
    "    destination_idx = destination_mapper[destination_id]\n",
    "    return destination_idx\n",
    "\n",
    "def get_destination_title(destination_idx): \n",
    "    destination_id = destination_inv_mapper[destination_idx]\n",
    "    title = destination_title_inv_mapper[destination_id]\n",
    "    return title "
   ]
  },
  {
   "cell_type": "markdown",
   "metadata": {},
   "source": [
    "It's time to test it out! Let's get the destination index of `Swayambhunath Temple`. "
   ]
  },
  {
   "cell_type": "code",
   "execution_count": null,
   "metadata": {},
   "outputs": [],
   "source": [
    "get_destination_index('Swayambhunath Temple')"
   ]
  },
  {
   "cell_type": "markdown",
   "metadata": {},
   "source": [
    "Let's pass this index value into `get_destination_title()`. We're expecting Swayambhunath Temple to get returned."
   ]
  },
  {
   "cell_type": "code",
   "execution_count": null,
   "metadata": {},
   "outputs": [],
   "source": [
    "get_destination_title(3)"
   ]
  },
  {
   "cell_type": "markdown",
   "metadata": {},
   "source": [
    "Great! These helper functions will be useful when we want to interpret our recommender results."
   ]
  },
  {
   "cell_type": "markdown",
   "metadata": {},
   "source": [
    "### Step 4: Building Our Implicit Feedback Recommender Model\n",
    "\n",
    "\n",
    "We've transformed and prepared our data so that we can start creating our recommender model.\n",
    "\n",
    "The [implicit](https://github.com/benfred/implicit) package is built around a linear algebra technique called [matrix factorization](https://en.wikipedia.org/wiki/Matrix_factorization_(recommender_systems)), which can help us discover latent features underlying the interactions between users and movies. These latent features give a more compact representation of user tastes and item descriptions. Matrix factorization is particularly useful for very sparse data and can enhance the quality of recommendations. The algorithm works by factorizing the original user-item matrix into two factor matrices:\n",
    "\n",
    "- user-factor matrix (n_users, k)\n",
    "- item-factor matrix (k, n_items)\n",
    "\n",
    "We are reducing the dimensions of our original matrix into \"taste\" dimensions. We cannot interpret what each latent feature $k$ represents. However, we could imagine that one latent feature may represent users who like historical sites, while another latent feature may represent destinations which are scenic natural destinations.\n",
    "\n",
    "$$X_{mn} \\approx P_{mk} \\times Q_{nk}^T = \\hat{X}$$\n",
    "\n",
    "\n",
    "In traditional matrix factorization, such as SVD, we would attempt to solve the factorization at once which can be very computationally expensive. As a more practical alternative, we can use a technique called `Alternating Least Squares (ALS)` instead. With ALS, we solve for one factor matrix at a time:\n",
    "\n",
    "- Step 1: hold user-factor matrix fixed and solve for the item-factor matrix\n",
    "- Step 2: hold item-factor matrix fixed and solve for the user-item matrix\n",
    "\n",
    "We alternate between Step 1 and 2 above, until the dot product of the item-factor matrix and user-item matrix is approximately equal to the original X (user-item) matrix. This approach is less computationally expensive and can be run in parallel.\n",
    "\n",
    "The [implicit](https://github.com/benfred/implicit) package implements matrix factorization using Alternating Least Squares (see docs [here](https://implicit.readthedocs.io/en/latest/als.html)). Let's initiate the model using the `AlternatingLeastSquares` class."
   ]
  },
  {
   "cell_type": "code",
   "execution_count": null,
   "metadata": {},
   "outputs": [],
   "source": [
    "model = implicit.als.AlternatingLeastSquares(factors=50)"
   ]
  },
  {
   "cell_type": "markdown",
   "metadata": {},
   "source": [
    "This model comes with a couple of hyperparameters that can be tuned to generate optimal results:\n",
    "\n",
    "- factors ($k$): number of latent factors,\n",
    "- regularization ($\\lambda$): prevents the model from overfitting during training\n",
    "\n",
    "In this tutorial, we'll set $k = 50$ and $\\lambda = 0.01$ (the default). In a real-world scenario, I highly recommend tuning these hyperparameters before generating recommendations to generate optimal results.\n",
    "\n",
    "The next step is to fit our model with our user-item matrix. "
   ]
  },
  {
   "cell_type": "code",
   "execution_count": null,
   "metadata": {},
   "outputs": [],
   "source": [
    "model.fit(X)"
   ]
  },
  {
   "cell_type": "markdown",
   "metadata": {},
   "source": [
    "Now, let's test out the model's recommendations. We can use the model's `similar_items()` method which returns the most relevant destinations of a given destination. We can use our helpful `get_destination_index()` function to get the destination index of the destination that we're interested in."
   ]
  },
  {
   "cell_type": "code",
   "execution_count": null,
   "metadata": {},
   "outputs": [],
   "source": [
    "destination_of_interest = 'phewa lake'\n",
    "\n",
    "destination_index = get_destination_index(destination_of_interest)\n",
    "related = model.similar_items(destination_index,N=6)\n",
    "related_ids=list(related[0])\n",
    "print(related_ids)"
   ]
  },
  {
   "cell_type": "markdown",
   "metadata": {},
   "source": [
    "The output of `similar_items()` is not user-friendly. We'll need to use our `get_destination_title()` function to interpret what our results are. "
   ]
  },
  {
   "cell_type": "code",
   "execution_count": null,
   "metadata": {},
   "outputs": [],
   "source": [
    "print(f\"Because you watched the profile of {destination_finder(destination_of_interest)}...\")\n",
    "for r in related_ids:\n",
    "    recommended_title = get_destination_title(r)\n",
    "    if recommended_title != destination_finder(destination_of_interest):\n",
    "        print(recommended_title)"
   ]
  },
  {
   "cell_type": "markdown",
   "metadata": {},
   "source": [
    "When we treat user ratings as implicit feedback, the results look pretty good! You can test out other destinations by changing the `destination_of_interest` variable."
   ]
  },
  {
   "cell_type": "markdown",
   "metadata": {},
   "source": [
    "### Step 5: Generating User-Item Recommendations\n",
    "\n",
    "A cool feature of [implicit](https://github.com/benfred/implicit) is that you can pull personalized recommendations for a given user. Let's test it out on a user in our dataset."
   ]
  },
  {
   "cell_type": "code",
   "execution_count": null,
   "metadata": {},
   "outputs": [],
   "source": [
    "user_id = 95"
   ]
  },
  {
   "cell_type": "code",
   "execution_count": null,
   "metadata": {},
   "outputs": [],
   "source": [
    "user_ratings = ratings[ratings['user_id']==user_id].merge(destinations[['destination_id', 'title']])\n",
    "user_ratings = user_ratings.sort_values('rating', ascending=False)\n",
    "print(f\"Number of destinations rated by user {user_id}: {user_ratings['destination_id'].nunique()}\")"
   ]
  },
  {
   "cell_type": "markdown",
   "metadata": {},
   "source": [
    "User 95 watched the profile of 19 destinations. Their highest rated destinations are below:"
   ]
  },
  {
   "cell_type": "code",
   "execution_count": null,
   "metadata": {},
   "outputs": [],
   "source": [
    "user_ratings = ratings[ratings['user_id']==user_id].merge(destinations[['destination_id', 'title']])\n",
    "user_ratings = user_ratings.sort_values('rating', ascending=False)\n",
    "top_5 = user_ratings.head()\n",
    "top_5"
   ]
  },
  {
   "cell_type": "markdown",
   "metadata": {},
   "source": [
    "Their lowest rated destinations:"
   ]
  },
  {
   "cell_type": "code",
   "execution_count": null,
   "metadata": {},
   "outputs": [],
   "source": [
    "bottom_5 = user_ratings[user_ratings['rating']<3].tail()\n",
    "bottom_5"
   ]
  },
  {
   "cell_type": "markdown",
   "metadata": {},
   "source": [
    "Let's see what recommendations our model will generate for user 95.\n",
    "\n",
    "We'll use the `recommend()` method, which takes in the user index of interest and transposed user-item matrix. "
   ]
  },
  {
   "cell_type": "code",
   "execution_count": null,
   "metadata": {},
   "outputs": [],
   "source": [
    "print(len(ratings[\"user_id\"].unique()))"
   ]
  },
  {
   "cell_type": "code",
   "execution_count": null,
   "metadata": {},
   "outputs": [],
   "source": [
    "X_t = X.T.tocsr()\n",
    "user_idx = user_mapper[user_id]\n",
    "recommendations = model.recommend(user_idx, X_t,N=10)\n",
    "recommendations"
   ]
  },
  {
   "cell_type": "markdown",
   "metadata": {},
   "source": [
    "We can't interpret the results as is since destinations are represented by their index. We'll have to loop over the list of recommendations and get the destination title for each destination index. "
   ]
  },
  {
   "cell_type": "code",
   "execution_count": null,
   "metadata": {},
   "outputs": [],
   "source": [
    "print(\"Here are some destinations personally recommended based on your previous ratings:\")\n",
    "for r in recommendations:\n",
    "    recommended_title = get_destination_title(r[0])\n",
    "    print(recommended_title)"
   ]
  },
  {
   "cell_type": "code",
   "execution_count": null,
   "metadata": {},
   "outputs": [],
   "source": []
  }
 ],
 "metadata": {
  "kernelspec": {
   "display_name": "Python 3 (ipykernel)",
   "language": "python",
   "name": "python3"
  },
  "language_info": {
   "codemirror_mode": {
    "name": "ipython",
    "version": 3
   },
   "file_extension": ".py",
   "mimetype": "text/x-python",
   "name": "python",
   "nbconvert_exporter": "python",
   "pygments_lexer": "ipython3",
   "version": "3.9.7"
  }
 },
 "nbformat": 4,
 "nbformat_minor": 4
}
